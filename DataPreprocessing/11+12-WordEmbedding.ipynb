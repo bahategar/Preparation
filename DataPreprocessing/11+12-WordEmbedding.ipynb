{
 "cells": [
  {
   "cell_type": "markdown",
   "id": "a7a11eb7",
   "metadata": {},
   "source": [
    "# Introduction \n",
    "\n",
    "\n",
    "> Word embeddings are a type of word representation that allows words with similar meaning to have a similar representation.\n",
    "\n",
    "The learning output from this:\n",
    "- What the word embedding approach for representing text is and how it differs from other feature extraction methods.\n",
    "- That there are 3 main algorithms for learning a word embedding from text data.\n",
    "- That you can either train a new embedding or use a pre-trained embedding on your natural language processing task.\n"
   ]
  },
  {
   "cell_type": "markdown",
   "id": "77e71b96",
   "metadata": {},
   "source": [
    "**Concept:**\n",
    "> Individual words are represented as real valued vectors in a predifined vector space (often tens or hudreds of dimensions). These vectors capture the semantic meaning of the words based on their usage in a language.\n",
    "\n",
    "\n",
    "The capturing semantic works:\n",
    "- The distributed representation is learned based on how words are used in context.\n",
    "- Words that are used in similar context will have similar vector representations.\n",
    "- This allows the embeddings to capture semantic relationships between words."
   ]
  },
  {
   "cell_type": "markdown",
   "id": "c1a83e95",
   "metadata": {},
   "source": [
    "# Word Embedding Algorithms\n",
    "\n",
    "## Embedding Layer\n",
    "\n",
    "Overall process: Transform categorical data (words in this case) into dense real-valued vectors. Then the embedding layer is used on the front end of a neural network and is fit in a supervised way using the Backpropagation algorithm.\n",
    "\n",
    "The algorithm:\n",
    "1. Initialization\n",
    "> Transforms categorical data (in this case words) into dense, real-valued vectors. Each value is initialized with random values or pre-trained word embedding (e.g Word2Vec, GloVe).\n",
    "\n",
    "NOTE: \n",
    "- This matix called Embedding Matrix with dimension (vocabulary size, embedding dimension).\n",
    "- To handle embedding lookup, each word in the vocabulary is mapped to a unique integer index. For example \"cat\" is mapped to the index \"5\".\n",
    "\n",
    "2. Training a Neural Network\n",
    "> When a neutral network is trained, the embedding vectors are updated through Back Propagation. This process adjusts the vector values to capture the semantic relationship between words based on the training data.\n",
    "\n",
    "\n",
    "\n",
    "The output:\n",
    "\n",
    "> The output of the embedding layer is a dense matrix where each row corresponds to the dense vector representation of a word from the input sequence.\n",
    "\n",
    "If the input sequence has 'n' words and the embedding dimension is 'd', then the ourput will be a matrix of size (n, d)"
   ]
  },
  {
   "cell_type": "markdown",
   "id": "e82f3719",
   "metadata": {},
   "source": [
    "## Word2Vec\n",
    "\n",
    "> Word2Vec is a statistical method for efficiently learning a standalone word embedding from a text corpus.\n",
    "\n",
    "NOTE: It was developed by Tomas Mikolov, et al at Google in 2013.\n",
    "\n",
    "The two different learning model of how Word2Vec approach to learn the word embedding:\n",
    "\n",
    "1. Continuous Bag-of-Words Model (CBOW Model) \n",
    "\n",
    "> Predicts the target word based on context words.\n",
    "\n",
    "> Generally faster because it averages context word embeddings, leading to fewer updates per training instance.\n",
    "\n",
    "2. Continuous Skip-Gram Model\n",
    "\n",
    "> Predicts context words based on the target word.\n",
    "\n",
    "> May take longer to train but often results in better quality embeddings, especially for infrequent words.\n",
    "\n",
    "NOTE:\n",
    "- Context words are the words surrounding the target word within a fixed window size.\n",
    "\n",
    "- Window size is number of words before and after the target word that are included in the context word.\n",
    "\n",
    "Example:\n",
    "\"The cat sat on the mat,\" If we consider \"cat\" as the target, then the context words could be [\"The\", \"cat\", \"on\", \"the\", \"mat\"]. \n",
    "\n",
    "If we set the window size is 2, then the context become [\"The\", \"cat\", \"on\", \"the\"] where [\"The\"] which is the two before \"cat\" word and [\"on\", \"the\"] is the two after \"cat\" word."
   ]
  },
  {
   "cell_type": "markdown",
   "id": "a6c03f7a",
   "metadata": {},
   "source": [
    "## The Global Vectors for Word Representation (GloVe)\n",
    "\n",
    "Concept:\n",
    "\n",
    "- GloVe begins by constructing a word co-occurrence matrix from the corpus.\n",
    "- Each element in this matrix represents how often a word co-occurs with another word within a given context window.\n",
    "- GloVe focuses on the ratios of co-occurrence probabilities rather than the raw counts\n",
    "- GloVe uses a weighted least squares objective to find the embeddings that best represent the ratios of co-occurrence probabilities.\n",
    "\n",
    "\n",
    "Algorithm:\n",
    "1. Build the Co-occurrence Matrix\n",
    "\n",
    "> The matrix (define it as X_ij) represents the number of times word j appears in the context of word i.\n",
    "\n",
    "2. Calculate Co-occurence Probabilities\n",
    "\n",
    "> For each word pair (i, j) calculate the probabilitiy of their co-occurence, P_ij = X_ij/X_i where X_i is the total number of times word i appears in the corpus.\n",
    "\n",
    "3. Define the Objective Function\n",
    "\n",
    "> The GloVe objective function aims to minimize the difference between the dot product of the word vectors and the logarithm of their co-occurrence probability.\n",
    "\n",
    "> The weighting function is designed to balance the influence of different co-occurrence counts.\n",
    "\n"
   ]
  },
  {
   "cell_type": "markdown",
   "id": "d7d0eb07",
   "metadata": {},
   "source": [
    "# Develop Word2Vec Embedding\n",
    "\n",
    "Documentation word2vec gensim: https://radimrehurek.com/gensim/models/word2vec.html\n",
    "\n",
    "Some common use parameters in word2vec model:\n",
    "\n",
    "- size (default 100): The number of dimensions of the embedding, e.g. the length of the dense vector to represent each token (word).\n",
    "- window (default 5): The maximum distance between a target word and words around the target word.\n",
    "- min_count (default 5): The minimum count of words to consider when training the model; words with an occurrence less than this count will be ignored.\n",
    "- workers (default 3): The number of threads to use while training.\n",
    "- sg (defaul 0 or CBOW): The training algorithm, either CBOW (0) or skip gram (1)"
   ]
  },
  {
   "cell_type": "code",
   "execution_count": 1,
   "id": "27e54540",
   "metadata": {},
   "outputs": [
    {
     "name": "stdout",
     "output_type": "stream",
     "text": [
      "The loaded model:  Word2Vec<vocab=14, vector_size=100, alpha=0.025>\n",
      "Summarize vocabulary:  ['sentence', 'the', 'is', 'this', 'final', 'and', 'more', 'one', 'another', 'yet', 'second', 'word2vec', 'for', 'first']\n",
      "[-5.3622725e-04  2.3643136e-04  5.1033497e-03  9.0092728e-03\n",
      " -9.3029495e-03 -7.1168090e-03  6.4588725e-03  8.9729885e-03\n",
      " -5.0154282e-03 -3.7633716e-03  7.3805046e-03 -1.5334714e-03\n",
      " -4.5366134e-03  6.5540518e-03 -4.8601604e-03 -1.8160177e-03\n",
      "  2.8765798e-03  9.9187379e-04 -8.2852151e-03 -9.4488179e-03\n",
      "  7.3117660e-03  5.0702621e-03  6.7576934e-03  7.6286553e-04\n",
      "  6.3508903e-03 -3.4053659e-03 -9.4640139e-04  5.7685734e-03\n",
      " -7.5216377e-03 -3.9361035e-03 -7.5115822e-03 -9.3004224e-04\n",
      "  9.5381187e-03 -7.3191668e-03 -2.3337686e-03 -1.9377411e-03\n",
      "  8.0774371e-03 -5.9308959e-03  4.5162440e-05 -4.7537340e-03\n",
      " -9.6035507e-03  5.0072931e-03 -8.7595852e-03 -4.3918253e-03\n",
      " -3.5099984e-05 -2.9618145e-04 -7.6612402e-03  9.6147433e-03\n",
      "  4.9820580e-03  9.2331432e-03 -8.1579173e-03  4.4957981e-03\n",
      " -4.1370760e-03  8.2453608e-04  8.4986202e-03 -4.4621765e-03\n",
      "  4.5175003e-03 -6.7869602e-03 -3.5484887e-03  9.3985079e-03\n",
      " -1.5776526e-03  3.2137157e-04 -4.1406299e-03 -7.6826881e-03\n",
      " -1.5080082e-03  2.4697948e-03 -8.8802696e-04  5.5336617e-03\n",
      " -2.7429771e-03  2.2600652e-03  5.4557943e-03  8.3459532e-03\n",
      " -1.4537406e-03 -9.2081428e-03  4.3705525e-03  5.7178497e-04\n",
      "  7.4419081e-03 -8.1328274e-04 -2.6384138e-03 -8.7530091e-03\n",
      " -8.5655687e-04  2.8265631e-03  5.4014288e-03  7.0526563e-03\n",
      " -5.7031214e-03  1.8588197e-03  6.0888636e-03 -4.7980510e-03\n",
      " -3.1072604e-03  6.7976294e-03  1.6314756e-03  1.8991709e-04\n",
      "  3.4736372e-03  2.1777749e-04  9.6188262e-03  5.0606038e-03\n",
      " -8.9173904e-03 -7.0415605e-03  9.0145587e-04  6.3925339e-03]\n",
      "Loaded model:  Word2Vec<vocab=14, vector_size=100, alpha=0.025>\n"
     ]
    }
   ],
   "source": [
    "from gensim.models import Word2Vec\n",
    "\n",
    "# define training data\n",
    "sentences = [['this', 'is', 'the', 'first', 'sentence', 'for', 'word2vec'],\n",
    "             ['this', 'is', 'the', 'second', 'sentence'],\n",
    "             ['yet', 'another', 'sentence'],\n",
    "             ['one', 'more', 'sentence'],\n",
    "             ['and', 'the', 'final', 'sentence']]\n",
    "\n",
    "# train model\n",
    "model = Word2Vec(sentences, min_count=1)\n",
    "\n",
    "# Summarize the loaded model\n",
    "print(\"The loaded model: \", model)\n",
    "\n",
    "# Summarize vocabulary\n",
    "words = list(model.wv.key_to_index)\n",
    "print(\"Summarize vocabulary: \", words)\n",
    "# Access vocabulary\n",
    "# key_to_index = model.wv.key_to_index\n",
    "# index_to_key = model.wv.index_to_key\n",
    "\n",
    "# print(\"Key to index \", key_to_index)\n",
    "# print(\"Index to key \", index_to_key)\n",
    "\n",
    "# Access vector for one word\n",
    "print(model.wv['sentence'])\n",
    "\n",
    "# save model\n",
    "model.save('model.bin')\n",
    "\n",
    "# load model\n",
    "new_model = Word2Vec.load('model.bin')\n",
    "print(\"Loaded model: \", new_model)"
   ]
  },
  {
   "cell_type": "markdown",
   "id": "6fa3391f",
   "metadata": {},
   "source": [
    "**Visualize Word Embedding**"
   ]
  },
  {
   "cell_type": "code",
   "execution_count": 2,
   "id": "9f925a26",
   "metadata": {},
   "outputs": [
    {
     "data": {
      "image/png": "[encoded data removed]",
      "text/plain": [
       "<Figure size 640x480 with 1 Axes>"
      ]
     },
     "metadata": {},
     "output_type": "display_data"
    }
   ],
   "source": [
    "from sklearn.decomposition import PCA\n",
    "import matplotlib.pyplot as plt\n",
    "\n",
    "# Get embedding matrix\n",
    "X = model.wv[model.wv.index_to_key]\n",
    "# Create PCA model\n",
    "pca = PCA(n_components=2)\n",
    "X_pca = pca.fit_transform(X)\n",
    "# Create a scatter plot of the projection\n",
    "plt.scatter(X_pca[:, 0], X_pca[:, 1])\n",
    "words = list(model.wv.index_to_key)\n",
    "for i, word in enumerate(words):\n",
    "    plt.annotate(word, xy=(X_pca[i, 0], X_pca[i, 1]))\n",
    "plt.show()"
   ]
  },
  {
   "cell_type": "code",
   "execution_count": 3,
   "id": "0888a670",
   "metadata": {},
   "outputs": [
    {
     "name": "stdout",
     "output_type": "stream",
     "text": [
      "['Hello there!', 'How are you doing today?', 'This is an example of sentence tokenization.']\n"
     ]
    }
   ],
   "source": [
    "import spacy\n",
    "\n",
    "# Load the spaCy model\n",
    "nlp = spacy.load(\"en_core_web_sm\")\n",
    "\n",
    "text = \"Hello there! How are you doing today? This is an example of sentence tokenization.\"\n",
    "doc = nlp(text)\n",
    "sentences = [sent.text for sent in doc.sents]\n",
    "print(sentences)\n"
   ]
  },
  {
   "cell_type": "markdown",
   "id": "135e2ea7",
   "metadata": {},
   "source": [
    "# Using Pre-trained Google's Word2Vec Embedding"
   ]
  },
  {
   "cell_type": "code",
   "execution_count": 41,
   "id": "1aeab39e",
   "metadata": {},
   "outputs": [],
   "source": [
    "from gensim.models import KeyedVectors\n",
    "\n",
    "# Load the model\n",
    "filename = './util/GoogleNews-vectors-negative300.bin'\n",
    "model = KeyedVectors.load_word2vec_format(filename, binary=True)"
   ]
  },
  {
   "cell_type": "code",
   "execution_count": 42,
   "id": "c92650ca",
   "metadata": {},
   "outputs": [
    {
     "data": {
      "text/plain": [
       "[('queen', 0.7118193507194519),\n",
       " ('monarch', 0.6189674139022827),\n",
       " ('princess', 0.5902431011199951),\n",
       " ('crown_prince', 0.5499460697174072),\n",
       " ('prince', 0.5377321839332581),\n",
       " ('kings', 0.5236844420433044),\n",
       " ('Queen_Consort', 0.5235945582389832),\n",
       " ('queens', 0.5181134343147278),\n",
       " ('sultan', 0.5098593831062317),\n",
       " ('monarchy', 0.5087411999702454)]"
      ]
     },
     "execution_count": 42,
     "metadata": {},
     "output_type": "execute_result"
    }
   ],
   "source": [
    "# Find the most similar using most_similar model\n",
    "model.most_similar(positive=['woman', 'king'], negative=['man'])\n",
    "# Find words similar to a combination of \"woman\" and \"king\" but dissimilar to \"man\""
   ]
  },
  {
   "cell_type": "markdown",
   "id": "588af56f",
   "metadata": {},
   "source": [
    "NOTE: Documentation most similar, https://tedboy.github.io/nlps/generated/generated/gensim.models.Word2Vec.most_similar.html"
   ]
  },
  {
   "cell_type": "code",
   "execution_count": 43,
   "id": "f0cbd4b6",
   "metadata": {},
   "outputs": [
    {
     "data": {
      "text/plain": [
       "0.6510957"
      ]
     },
     "execution_count": 43,
     "metadata": {},
     "output_type": "execute_result"
    }
   ],
   "source": [
    "# Find similarity between two words\n",
    "\n",
    "word1 = 'king'\n",
    "word2 = 'queen'\n",
    "\n",
    "model.similarity(word1, word2)"
   ]
  },
  {
   "cell_type": "code",
   "execution_count": 44,
   "id": "89269847",
   "metadata": {},
   "outputs": [
    {
     "name": "stdout",
     "output_type": "stream",
     "text": [
      "Similarity between sentence \"The king is ruling the kingdom\" and word \"king\": 0.6658502817153931\n"
     ]
    }
   ],
   "source": [
    "# Calculate similarity between sentence and words\n",
    "\n",
    "# 1. Compute the average vector for the sentence\n",
    "\n",
    "import numpy as np\n",
    "\n",
    "def sentence_to_avg_vector(sentence, model):\n",
    "    words = sentence.split()\n",
    "    word_vectors = []\n",
    "    \n",
    "    for word in words:\n",
    "        if word in model:\n",
    "            word_vectors.append(model[word])\n",
    "    \n",
    "    if not word_vectors:\n",
    "        raise ValueError(\"None of the words in the sentence are in the model's vocabulary\")\n",
    "    \n",
    "    avg_vector = np.mean(word_vectors, axis=0)\n",
    "    return avg_vector\n",
    "\n",
    "# 2. Calculate the cosine similarity between the average sentence vector and the word vector\n",
    "from scipy.spatial.distance import cosine\n",
    "\n",
    "def cosine_similarity(vec1, vec2):\n",
    "    return 1 - cosine(vec1, vec2)\n",
    "\n",
    "sentence = \"The king is ruling the kingdom\"\n",
    "word = \"king\"\n",
    "\n",
    "# Get the average vector for the sentence\n",
    "avg_sentence_vector = sentence_to_avg_vector(sentence, model)\n",
    "\n",
    "# Get the vector for the word\n",
    "word_vector = model[word]\n",
    "\n",
    "# Calculate similarity\n",
    "similarity = cosine_similarity(avg_sentence_vector, word_vector)\n",
    "print(f'Similarity between sentence \"{sentence}\" and word \"{word}\": {similarity}')"
   ]
  },
  {
   "cell_type": "markdown",
   "id": "61c0463d",
   "metadata": {},
   "source": [
    "# Using Pre-trained Standford's GloVe Embedding"
   ]
  },
  {
   "cell_type": "code",
   "execution_count": 52,
   "id": "75c75c99",
   "metadata": {},
   "outputs": [
    {
     "name": "stderr",
     "output_type": "stream",
     "text": [
      "C:\\Users\\Baha Tegar\\AppData\\Local\\Temp\\ipykernel_20944\\4223576543.py:8: DeprecationWarning: Call to deprecated `glove2word2vec` (KeyedVectors.load_word2vec_format(.., binary=False, no_header=True) loads GLoVE text vectors.).\n",
      "  glove2word2vec(glove_input_file, word2vec_output_file)\n"
     ]
    },
    {
     "data": {
      "text/plain": [
       "(400000, 100)"
      ]
     },
     "execution_count": 52,
     "metadata": {},
     "output_type": "execute_result"
    }
   ],
   "source": [
    "from gensim.scripts.glove2word2vec import glove2word2vec\n",
    "\n",
    "# Convert the GloVe file format to the Word2Vec file format.\n",
    "glove_input_file = './util/glove.6B.100d.txt'\n",
    "# glove_input_file = './util/glove.840B.300d.txt'\n",
    "word2vec_output_file = './util/glove.6B.100d.txt.word2vec'\n",
    "# word2vec_output_file = './util/glove.840B.300d.txt.word2vec'\n",
    "glove2word2vec(glove_input_file, word2vec_output_file)"
   ]
  },
  {
   "cell_type": "code",
   "execution_count": 54,
   "id": "e069c212",
   "metadata": {},
   "outputs": [
    {
     "name": "stderr",
     "output_type": "stream",
     "text": [
      "C:\\Users\\Baha Tegar\\AppData\\Local\\Temp\\ipykernel_20944\\90490935.py:8: DeprecationWarning: Call to deprecated `glove2word2vec` (KeyedVectors.load_word2vec_format(.., binary=False, no_header=True) loads GLoVE text vectors.).\n",
      "  glove2word2vec(glove_input_file, word2vec_output_file)\n"
     ]
    },
    {
     "data": {
      "text/plain": [
       "(2196017, 300)"
      ]
     },
     "execution_count": 54,
     "metadata": {},
     "output_type": "execute_result"
    }
   ],
   "source": [
    "from gensim.scripts.glove2word2vec import glove2word2vec\n",
    "\n",
    "# Convert the GloVe file format to the Word2Vec file format.\n",
    "# glove_input_file = './util/glove.6B.100d.txt'\n",
    "glove_input_file = './util/glove.840B.300d.txt'\n",
    "# word2vec_output_file = './util/glove.6B.100d.txt.word2vec'\n",
    "word2vec_output_file = './util/glove.840B.300d.txt.word2vec'\n",
    "glove2word2vec(glove_input_file, word2vec_output_file)"
   ]
  },
  {
   "cell_type": "code",
   "execution_count": 22,
   "id": "a1c6c305",
   "metadata": {},
   "outputs": [],
   "source": [
    "from gensim.models import KeyedVectors\n",
    "# load standford GloVe model\n",
    "filename = './util/glove.6B.100d.txt.word2vec'\n",
    "model = KeyedVectors.load_word2vec_format(filename, binary=False)"
   ]
  },
  {
   "cell_type": "code",
   "execution_count": 10,
   "id": "5ae1d9a3",
   "metadata": {},
   "outputs": [
    {
     "data": {
      "text/plain": [
       "[('queen', 0.7698540687561035),\n",
       " ('monarch', 0.6843381524085999),\n",
       " ('throne', 0.6755736470222473),\n",
       " ('daughter', 0.6594556570053101),\n",
       " ('princess', 0.6520534157752991),\n",
       " ('prince', 0.6517034769058228),\n",
       " ('elizabeth', 0.6464517712593079),\n",
       " ('mother', 0.631171703338623),\n",
       " ('emperor', 0.6106470823287964),\n",
       " ('wife', 0.6098655462265015)]"
      ]
     },
     "execution_count": 10,
     "metadata": {},
     "output_type": "execute_result"
    }
   ],
   "source": [
    "# Find the most similar using most_similar model\n",
    "model.most_similar(positive=['woman', 'king'], negative=['man'])"
   ]
  },
  {
   "cell_type": "code",
   "execution_count": 11,
   "id": "e77df6b0",
   "metadata": {},
   "outputs": [
    {
     "data": {
      "text/plain": [
       "0.7507691"
      ]
     },
     "execution_count": 11,
     "metadata": {},
     "output_type": "execute_result"
    }
   ],
   "source": [
    "# Find similarity between two words\n",
    "\n",
    "word1 = 'king'\n",
    "word2 = 'queen'\n",
    "\n",
    "model.similarity(word1, word2)"
   ]
  },
  {
   "cell_type": "code",
   "execution_count": 12,
   "id": "9aa50078",
   "metadata": {},
   "outputs": [
    {
     "name": "stdout",
     "output_type": "stream",
     "text": [
      "Similarity between sentence \"The king is ruling the kingdom\" and word \"king\": 0.7851447463035583\n"
     ]
    }
   ],
   "source": [
    "# Calculate similarity between sentence and words\n",
    "\n",
    "# 1. Compute the average vector for the sentence\n",
    "\n",
    "import numpy as np\n",
    "\n",
    "def sentence_to_avg_vector(sentence, model):\n",
    "    words = sentence.split()\n",
    "    word_vectors = []\n",
    "    \n",
    "    for word in words:\n",
    "        if word in model:\n",
    "            word_vectors.append(model[word])\n",
    "    \n",
    "    if not word_vectors:\n",
    "        raise ValueError(\"None of the words in the sentence are in the model's vocabulary\")\n",
    "    \n",
    "    avg_vector = np.mean(word_vectors, axis=0)\n",
    "    return avg_vector\n",
    "\n",
    "# 2. Calculate the cosine similarity between the average sentence vector and the word vector\n",
    "from scipy.spatial.distance import cosine\n",
    "\n",
    "def cosine_similarity(vec1, vec2):\n",
    "    return 1 - cosine(vec1, vec2)\n",
    "\n",
    "sentence = \"The king is ruling the kingdom\"\n",
    "word = \"king\"\n",
    "\n",
    "# Get the average vector for the sentence\n",
    "avg_sentence_vector = sentence_to_avg_vector(sentence, model)\n",
    "\n",
    "# Get the vector for the word\n",
    "word_vector = model[word]\n",
    "\n",
    "# Calculate similarity\n",
    "similarity = cosine_similarity(avg_sentence_vector, word_vector)\n",
    "print(f'Similarity between sentence \"{sentence}\" and word \"{word}\": {similarity}')"
   ]
  },
  {
   "cell_type": "markdown",
   "id": "b7934a39",
   "metadata": {},
   "source": [
    "NOTE: Now, you should use KeyedVectors.load_word2vec_format directly for loading GloVe vectors by specifying the appropriate parameters."
   ]
  },
  {
   "cell_type": "code",
   "execution_count": 13,
   "id": "ab3497dc",
   "metadata": {},
   "outputs": [],
   "source": [
    "# from gensim.models import KeyedVectors\n",
    "\n",
    "# # Path to the GloVe file (e.g., 'glove.6B.300d.txt')\n",
    "# glove_input_file = 'path/to/glove.6B.300d.txt'\n",
    "\n",
    "# # Load GloVe vectors directly into a KeyedVectors instance\n",
    "# model = KeyedVectors.load_word2vec_format(glove_input_file, binary=False, no_header=True)\n"
   ]
  },
  {
   "cell_type": "markdown",
   "id": "f4b5bb8f",
   "metadata": {},
   "source": [
    "# Using Pre-trained FastText"
   ]
  },
  {
   "cell_type": "code",
   "execution_count": 6,
   "id": "f060737b",
   "metadata": {},
   "outputs": [],
   "source": [
    "import fasttext"
   ]
  },
  {
   "cell_type": "code",
   "execution_count": 7,
   "id": "032932cb",
   "metadata": {},
   "outputs": [],
   "source": [
    "model_en = fasttext.load_model('./util/cc.en.300.bin')"
   ]
  },
  {
   "cell_type": "code",
   "execution_count": 8,
   "id": "3f1ee724",
   "metadata": {},
   "outputs": [
    {
     "data": {
      "text/plain": [
       "['__class__',\n",
       " '__contains__',\n",
       " '__delattr__',\n",
       " '__dict__',\n",
       " '__dir__',\n",
       " '__doc__',\n",
       " '__eq__',\n",
       " '__format__',\n",
       " '__ge__',\n",
       " '__getattribute__',\n",
       " '__getitem__',\n",
       " '__getstate__',\n",
       " '__gt__',\n",
       " '__hash__',\n",
       " '__init__',\n",
       " '__init_subclass__',\n",
       " '__le__',\n",
       " '__lt__',\n",
       " '__module__',\n",
       " '__ne__',\n",
       " '__new__',\n",
       " '__reduce__',\n",
       " '__reduce_ex__',\n",
       " '__repr__',\n",
       " '__setattr__',\n",
       " '__sizeof__',\n",
       " '__str__',\n",
       " '__subclasshook__',\n",
       " '__weakref__',\n",
       " '_labels',\n",
       " '_words',\n",
       " 'f',\n",
       " 'get_analogies',\n",
       " 'get_dimension',\n",
       " 'get_input_matrix',\n",
       " 'get_input_vector',\n",
       " 'get_label_id',\n",
       " 'get_labels',\n",
       " 'get_line',\n",
       " 'get_meter',\n",
       " 'get_nearest_neighbors',\n",
       " 'get_output_matrix',\n",
       " 'get_sentence_vector',\n",
       " 'get_subword_id',\n",
       " 'get_subwords',\n",
       " 'get_word_id',\n",
       " 'get_word_vector',\n",
       " 'get_words',\n",
       " 'is_quantized',\n",
       " 'labels',\n",
       " 'predict',\n",
       " 'quantize',\n",
       " 'save_model',\n",
       " 'set_args',\n",
       " 'set_matrices',\n",
       " 'test',\n",
       " 'test_label',\n",
       " 'words']"
      ]
     },
     "execution_count": 8,
     "metadata": {},
     "output_type": "execute_result"
    }
   ],
   "source": [
    "dir(model_en)"
   ]
  },
  {
   "cell_type": "code",
   "execution_count": 14,
   "id": "98d90b84",
   "metadata": {},
   "outputs": [
    {
     "data": {
      "text/plain": [
       "[(0.7517593502998352, 'bad'),\n",
       " (0.7426098585128784, 'great'),\n",
       " (0.7299689054489136, 'decent'),\n",
       " (0.7123614549636841, 'nice'),\n",
       " (0.6796907186508179, 'Good'),\n",
       " (0.6737031936645508, 'excellent'),\n",
       " (0.669592022895813, 'goood'),\n",
       " (0.6602178812026978, 'ggod'),\n",
       " (0.6479219794273376, 'semi-good'),\n",
       " (0.6417751908302307, 'good.Good')]"
      ]
     },
     "execution_count": 14,
     "metadata": {},
     "output_type": "execute_result"
    }
   ],
   "source": [
    "# Get the nearest word\n",
    "model_en.get_nearest_neighbors('good')"
   ]
  },
  {
   "cell_type": "code",
   "execution_count": 11,
   "id": "7fed411e",
   "metadata": {},
   "outputs": [
    {
     "data": {
      "text/plain": [
       "(300,)"
      ]
     },
     "execution_count": 11,
     "metadata": {},
     "output_type": "execute_result"
    }
   ],
   "source": [
    "# Get the vector of word\n",
    "model_en.get_word_vector('good').shape\n",
    "# alternative:\n",
    "# model_en['good'].shape"
   ]
  },
  {
   "cell_type": "code",
   "execution_count": 12,
   "id": "6a38330d",
   "metadata": {},
   "outputs": [
    {
     "data": {
      "text/plain": [
       "[(0.6890833377838135, 'jogja'),\n",
       " (0.6766612529754639, 'jakarta'),\n",
       " (0.6222615838050842, 'surabaya'),\n",
       " (0.6124280095100403, 'yogyakarta'),\n",
       " (0.5931521654129028, 'indonesia.'),\n",
       " (0.5897971987724304, 'bandung'),\n",
       " (0.5872754454612732, 'bali'),\n",
       " (0.5749731063842773, 'indonesian'),\n",
       " (0.5731950998306274, 'lombok'),\n",
       " (0.5709115862846375, 'bogor')]"
      ]
     },
     "execution_count": 12,
     "metadata": {},
     "output_type": "execute_result"
    }
   ],
   "source": [
    "# Identify relationship between two terms by referring analagy\n",
    "#  another two terms\n",
    "\n",
    "model_en.get_analogies('berlin', 'germany', 'indonesia')"
   ]
  },
  {
   "cell_type": "code",
   "execution_count": 16,
   "id": "aa624524",
   "metadata": {},
   "outputs": [
    {
     "name": "stdout",
     "output_type": "stream",
     "text": [
      "Similarity between 'apple' and 'fruit': 0.5815847466067302\n"
     ]
    }
   ],
   "source": [
    "# Word similarity between two words\n",
    "\n",
    "# Define the words you want to compare\n",
    "word1 = \"apple\"\n",
    "word2 = \"fruit\"\n",
    "\n",
    "# Get the vector representations of the words\n",
    "vec1 = model_en.get_word_vector(word1)\n",
    "vec2 = model_en.get_word_vector(word2)\n",
    "\n",
    "# Compute the cosine similarity\n",
    "def cosine_similarity(vec1, vec2):\n",
    "    dot_product = sum(a * b for a, b in zip(vec1, vec2))\n",
    "    magnitude1 = sum(a * a for a in vec1) ** 0.5\n",
    "    magnitude2 = sum(a * a for a in vec2) ** 0.5\n",
    "    if not magnitude1 or not magnitude2:\n",
    "        return 0.0\n",
    "    return dot_product / (magnitude1 * magnitude2)\n",
    "\n",
    "similarity = cosine_similarity(vec1, vec2)\n",
    "print(f\"Similarity between '{word1}' and '{word2}': {similarity}\")"
   ]
  },
  {
   "cell_type": "markdown",
   "id": "e2e59e48",
   "metadata": {},
   "source": [
    "# Using Pre-trained Bert"
   ]
  },
  {
   "cell_type": "code",
   "execution_count": 21,
   "id": "3f24fea7",
   "metadata": {},
   "outputs": [
    {
     "data": {
      "application/vnd.jupyter.widget-view+json": {
       "model_id": "af5b8a64df5647c79f214a475d8741c1",
       "version_major": 2,
       "version_minor": 0
      },
      "text/plain": [
       "Downloading:   0%|          | 0.00/226k [00:00<?, ?B/s]"
      ]
     },
     "metadata": {},
     "output_type": "display_data"
    },
    {
     "data": {
      "application/vnd.jupyter.widget-view+json": {
       "model_id": "7229e5df26f9407d9945a14d572c6bde",
       "version_major": 2,
       "version_minor": 0
      },
      "text/plain": [
       "Downloading:   0%|          | 0.00/48.0 [00:00<?, ?B/s]"
      ]
     },
     "metadata": {},
     "output_type": "display_data"
    },
    {
     "data": {
      "application/vnd.jupyter.widget-view+json": {
       "model_id": "7b7a7925430542758a514c5f2b5513f9",
       "version_major": 2,
       "version_minor": 0
      },
      "text/plain": [
       "Downloading:   0%|          | 0.00/570 [00:00<?, ?B/s]"
      ]
     },
     "metadata": {},
     "output_type": "display_data"
    },
    {
     "data": {
      "application/vnd.jupyter.widget-view+json": {
       "model_id": "257bba24608b44b38f532fcea434ee19",
       "version_major": 2,
       "version_minor": 0
      },
      "text/plain": [
       "Downloading:   0%|          | 0.00/420M [00:00<?, ?B/s]"
      ]
     },
     "metadata": {},
     "output_type": "display_data"
    },
    {
     "name": "stderr",
     "output_type": "stream",
     "text": [
      "Some weights of the model checkpoint at bert-base-uncased were not used when initializing BertModel: ['cls.predictions.decoder.weight', 'cls.predictions.transform.dense.bias', 'cls.seq_relationship.weight', 'cls.predictions.bias', 'cls.predictions.transform.dense.weight', 'cls.predictions.transform.LayerNorm.weight', 'cls.predictions.transform.LayerNorm.bias', 'cls.seq_relationship.bias']\n",
      "- This IS expected if you are initializing BertModel from the checkpoint of a model trained on another task or with another architecture (e.g. initializing a BertForSequenceClassification model from a BertForPreTraining model).\n",
      "- This IS NOT expected if you are initializing BertModel from the checkpoint of a model that you expect to be exactly identical (initializing a BertForSequenceClassification model from a BertForSequenceClassification model).\n"
     ]
    }
   ],
   "source": [
    "from transformers import BertModel, BertTokenizer\n",
    "import torch\n",
    "import numpy as np\n",
    "\n",
    "# Load pre-trained model and tokenizer\n",
    "model_name = 'bert-base-uncased'\n",
    "tokenizer = BertTokenizer.from_pretrained(model_name)\n",
    "model = BertModel.from_pretrained(model_name)"
   ]
  },
  {
   "cell_type": "code",
   "execution_count": 22,
   "id": "e697226a",
   "metadata": {},
   "outputs": [],
   "source": [
    "# Function to get word embedding\n",
    "def get_word_embedding(word, tokenizer, model):\n",
    "    inputs = tokenizer(word, return_tensors='pt')\n",
    "    outputs = model(**inputs)\n",
    "    # The embeddings are in the last hidden state\n",
    "    last_hidden_states = outputs.last_hidden_state\n",
    "    # We average the token embeddings to get the word embedding\n",
    "    word_embedding = torch.mean(last_hidden_states, dim=1).squeeze().detach().numpy()\n",
    "    return word_embedding\n",
    "\n",
    "# Function to compute cosine similarity\n",
    "def cosine_similarity(vec1, vec2):\n",
    "    dot_product = np.dot(vec1, vec2)\n",
    "    magnitude1 = np.linalg.norm(vec1)\n",
    "    magnitude2 = np.linalg.norm(vec2)\n",
    "    if not magnitude1 or not magnitude2:\n",
    "        return 0.0\n",
    "    return dot_product / (magnitude1 * magnitude2)"
   ]
  },
  {
   "cell_type": "code",
   "execution_count": 33,
   "id": "31168e0f",
   "metadata": {},
   "outputs": [
    {
     "name": "stdout",
     "output_type": "stream",
     "text": [
      "Similarity between 'apple' and 'fruit': 0.8096076250076294\n"
     ]
    }
   ],
   "source": [
    "# Define the words you want to compare\n",
    "word1 = \"apple\"\n",
    "word2 = \"fruit\"\n",
    "\n",
    "# Get the word embeddings\n",
    "vec1 = get_word_embedding(word1, tokenizer, model)\n",
    "vec2 = get_word_embedding(word2, tokenizer, model)\n",
    "\n",
    "# Compute the similarity\n",
    "similarity = cosine_similarity(vec1, vec2)\n",
    "print(f\"Similarity between '{word1}' and '{word2}': {similarity}\")"
   ]
  },
  {
   "cell_type": "code",
   "execution_count": null,
   "id": "7e9fa1c9",
   "metadata": {},
   "outputs": [],
   "source": []
  }
 ],
 "metadata": {
  "kernelspec": {
   "display_name": "Python 3 (ipykernel)",
   "language": "python",
   "name": "python3"
  },
  "language_info": {
   "codemirror_mode": {
    "name": "ipython",
    "version": 3
   },
   "file_extension": ".py",
   "mimetype": "text/x-python",
   "name": "python",
   "nbconvert_exporter": "python",
   "pygments_lexer": "ipython3",
   "version": "3.11.4"
  }
 },
 "nbformat": 4,
 "nbformat_minor": 5
}
