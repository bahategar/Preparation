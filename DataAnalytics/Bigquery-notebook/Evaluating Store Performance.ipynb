{
 "cells": [
  {
   "cell_type": "markdown",
   "id": "2c40174a",
   "metadata": {},
   "source": [
    "# Introduction\n",
    "\n",
    "In this project, we will leverage the power of BigQuery, Google Cloud's fully-managed data warehouse, to extract valuable insights from vast amounts of data.\n",
    "\n",
    "The ability to understand customer behavior, track conversions, and optimize the performance of an online store is crucial for businesses to thrive in the digital era. With Google Analytics providing a wealth of information about website visitors, traffic sources, and user interactions, we can uncover hidden patterns and extract actionable insights for stakeholders.\n",
    "\n",
    "In this notes, I'll evaluate the performance of an online store using Google Analytics data. We aim to answer critical questions such as:\n",
    "\n",
    "- What are the main traffic sources driving visitors to the online store?\n",
    "- How do user demographics and behaviors impact conversion rates?\n",
    "- What are the most visited pages in the website?\n",
    "- Are there any seasonal or daily trends or patterns in website traffic and sales?\n",
    "- Can we identify any potential areas for improvement in the user experience or marketing strategies?\n",
    "\n",
    "To answer these questions, we will use BigQuery, which allows us to handle large-scale datasets efficiently and perform complex queries seamlessly. By combining SQL queries, data visualization, and exploratory analysis techniques, we will gain valuable insights into the online store's performance and make data-driven recommendations for optimization."
   ]
  },
  {
   "cell_type": "code",
   "execution_count": 199,
   "id": "1160a084",
   "metadata": {},
   "outputs": [],
   "source": [
    "import pandas as pd\n",
    "import numpy as np\n",
    "import matplotlib.pyplot as plt\n",
    "import seaborn as sns\n",
    "import os"
   ]
  },
  {
   "cell_type": "code",
   "execution_count": 200,
   "id": "eca4b8c0",
   "metadata": {},
   "outputs": [],
   "source": [
    "import plotly.graph_objects as go\n",
    "import plotly.express as px\n",
    "from plotly.subplots import make_subplots"
   ]
  },
  {
   "cell_type": "code",
   "execution_count": 201,
   "id": "d7a7720a",
   "metadata": {},
   "outputs": [],
   "source": [
    "from google.cloud import bigquery\n",
    "from google.oauth2 import service_account"
   ]
  },
  {
   "cell_type": "code",
   "execution_count": 202,
   "id": "ce2c5656",
   "metadata": {},
   "outputs": [],
   "source": [
    "key_path = './service_account/gentle-keyword-423715-j0-03be08ad6412.json'\n",
    "\n",
    "credentials = service_account.Credentials.from_service_account_file(\n",
    "    key_path,\n",
    "    scopes=[\"https://www.googleapis.com/auth/bigquery\"]\n",
    ")"
   ]
  },
  {
   "cell_type": "code",
   "execution_count": 203,
   "id": "7aceb6da",
   "metadata": {},
   "outputs": [],
   "source": [
    "from google.cloud import bigquery\n",
    "\n",
    "client = bigquery.Client(\n",
    "    credentials = credentials,\n",
    "    project=credentials.project_id\n",
    ")"
   ]
  },
  {
   "cell_type": "code",
   "execution_count": 204,
   "id": "fbbacc6a",
   "metadata": {},
   "outputs": [
    {
     "name": "stdout",
     "output_type": "stream",
     "text": [
      "<class 'pandas.core.frame.DataFrame'>\n",
      "RangeIndex: 5 entries, 0 to 4\n",
      "Data columns (total 16 columns):\n",
      " #   Column                Non-Null Count  Dtype \n",
      "---  ------                --------------  ----- \n",
      " 0   visitorId             0 non-null      Int64 \n",
      " 1   visitNumber           5 non-null      Int64 \n",
      " 2   visitId               5 non-null      Int64 \n",
      " 3   visitStartTime        5 non-null      Int64 \n",
      " 4   date                  5 non-null      object\n",
      " 5   totals                5 non-null      object\n",
      " 6   trafficSource         5 non-null      object\n",
      " 7   device                5 non-null      object\n",
      " 8   geoNetwork            5 non-null      object\n",
      " 9   customDimensions      5 non-null      object\n",
      " 10  hits                  5 non-null      object\n",
      " 11  fullVisitorId         5 non-null      object\n",
      " 12  userId                0 non-null      object\n",
      " 13  clientId              0 non-null      object\n",
      " 14  channelGrouping       5 non-null      object\n",
      " 15  socialEngagementType  5 non-null      object\n",
      "dtypes: Int64(4), object(12)\n",
      "memory usage: 792.0+ bytes\n",
      "None\n"
     ]
    },
    {
     "data": {
      "text/html": [
       "<div>\n",
       "<style scoped>\n",
       "    .dataframe tbody tr th:only-of-type {\n",
       "        vertical-align: middle;\n",
       "    }\n",
       "\n",
       "    .dataframe tbody tr th {\n",
       "        vertical-align: top;\n",
       "    }\n",
       "\n",
       "    .dataframe thead th {\n",
       "        text-align: right;\n",
       "    }\n",
       "</style>\n",
       "<table border=\"1\" class=\"dataframe\">\n",
       "  <thead>\n",
       "    <tr style=\"text-align: right;\">\n",
       "      <th></th>\n",
       "      <th>visitorId</th>\n",
       "      <th>visitNumber</th>\n",
       "      <th>visitId</th>\n",
       "      <th>visitStartTime</th>\n",
       "      <th>date</th>\n",
       "      <th>totals</th>\n",
       "      <th>trafficSource</th>\n",
       "      <th>device</th>\n",
       "      <th>geoNetwork</th>\n",
       "      <th>customDimensions</th>\n",
       "      <th>hits</th>\n",
       "      <th>fullVisitorId</th>\n",
       "      <th>userId</th>\n",
       "      <th>clientId</th>\n",
       "      <th>channelGrouping</th>\n",
       "      <th>socialEngagementType</th>\n",
       "    </tr>\n",
       "  </thead>\n",
       "  <tbody>\n",
       "    <tr>\n",
       "      <th>0</th>\n",
       "      <td>&lt;NA&gt;</td>\n",
       "      <td>2</td>\n",
       "      <td>1498921578</td>\n",
       "      <td>1498921578</td>\n",
       "      <td>20170701</td>\n",
       "      <td>{'visits': 1, 'hits': 2, 'pageviews': 1, 'time...</td>\n",
       "      <td>{'referralPath': None, 'campaign': '(not set)'...</td>\n",
       "      <td>{'browser': 'Chrome', 'browserVersion': 'not a...</td>\n",
       "      <td>{'continent': 'Europe', 'subContinent': 'Weste...</td>\n",
       "      <td>[{'index': 4, 'value': 'EMEA'}]</td>\n",
       "      <td>[{'hitNumber': 1, 'time': 0, 'hour': 8, 'minut...</td>\n",
       "      <td>9117776942963408674</td>\n",
       "      <td>None</td>\n",
       "      <td>None</td>\n",
       "      <td>Direct</td>\n",
       "      <td>Not Socially Engaged</td>\n",
       "    </tr>\n",
       "    <tr>\n",
       "      <th>1</th>\n",
       "      <td>&lt;NA&gt;</td>\n",
       "      <td>1</td>\n",
       "      <td>1498934175</td>\n",
       "      <td>1498934175</td>\n",
       "      <td>20170701</td>\n",
       "      <td>{'visits': 1, 'hits': 2, 'pageviews': 1, 'time...</td>\n",
       "      <td>{'referralPath': None, 'campaign': '(not set)'...</td>\n",
       "      <td>{'browser': 'Opera Mini', 'browserVersion': 'n...</td>\n",
       "      <td>{'continent': 'Asia', 'subContinent': 'Southea...</td>\n",
       "      <td>[]</td>\n",
       "      <td>[{'hitNumber': 1, 'time': 0, 'hour': 11, 'minu...</td>\n",
       "      <td>734032105411402836</td>\n",
       "      <td>None</td>\n",
       "      <td>None</td>\n",
       "      <td>Organic Search</td>\n",
       "      <td>Not Socially Engaged</td>\n",
       "    </tr>\n",
       "    <tr>\n",
       "      <th>2</th>\n",
       "      <td>&lt;NA&gt;</td>\n",
       "      <td>1</td>\n",
       "      <td>1498950889</td>\n",
       "      <td>1498950889</td>\n",
       "      <td>20170701</td>\n",
       "      <td>{'visits': 1, 'hits': 2, 'pageviews': 1, 'time...</td>\n",
       "      <td>{'referralPath': '/', 'campaign': '(not set)',...</td>\n",
       "      <td>{'browser': 'Android Webview', 'browserVersion...</td>\n",
       "      <td>{'continent': 'Europe', 'subContinent': 'North...</td>\n",
       "      <td>[{'index': 4, 'value': 'EMEA'}]</td>\n",
       "      <td>[{'hitNumber': 1, 'time': 0, 'hour': 16, 'minu...</td>\n",
       "      <td>5696457532157595544</td>\n",
       "      <td>None</td>\n",
       "      <td>None</td>\n",
       "      <td>Social</td>\n",
       "      <td>Not Socially Engaged</td>\n",
       "    </tr>\n",
       "    <tr>\n",
       "      <th>3</th>\n",
       "      <td>&lt;NA&gt;</td>\n",
       "      <td>1</td>\n",
       "      <td>1498939911</td>\n",
       "      <td>1498939911</td>\n",
       "      <td>20170701</td>\n",
       "      <td>{'visits': 1, 'hits': 2, 'pageviews': 1, 'time...</td>\n",
       "      <td>{'referralPath': '/', 'campaign': '(not set)',...</td>\n",
       "      <td>{'browser': 'Firefox', 'browserVersion': 'not ...</td>\n",
       "      <td>{'continent': 'Europe', 'subContinent': 'Weste...</td>\n",
       "      <td>[{'index': 4, 'value': 'EMEA'}]</td>\n",
       "      <td>[{'hitNumber': 1, 'time': 0, 'hour': 13, 'minu...</td>\n",
       "      <td>5009259967134102270</td>\n",
       "      <td>None</td>\n",
       "      <td>None</td>\n",
       "      <td>Social</td>\n",
       "      <td>Not Socially Engaged</td>\n",
       "    </tr>\n",
       "    <tr>\n",
       "      <th>4</th>\n",
       "      <td>&lt;NA&gt;</td>\n",
       "      <td>1</td>\n",
       "      <td>1498945129</td>\n",
       "      <td>1498945129</td>\n",
       "      <td>20170701</td>\n",
       "      <td>{'visits': 1, 'hits': 2, 'pageviews': 1, 'time...</td>\n",
       "      <td>{'referralPath': '/', 'campaign': '(not set)',...</td>\n",
       "      <td>{'browser': 'Safari (in-app)', 'browserVersion...</td>\n",
       "      <td>{'continent': 'Europe', 'subContinent': 'Weste...</td>\n",
       "      <td>[{'index': 4, 'value': 'EMEA'}]</td>\n",
       "      <td>[{'hitNumber': 1, 'time': 0, 'hour': 14, 'minu...</td>\n",
       "      <td>2881134828551603619</td>\n",
       "      <td>None</td>\n",
       "      <td>None</td>\n",
       "      <td>Social</td>\n",
       "      <td>Not Socially Engaged</td>\n",
       "    </tr>\n",
       "  </tbody>\n",
       "</table>\n",
       "</div>"
      ],
      "text/plain": [
       "   visitorId  visitNumber     visitId  visitStartTime      date  \\\n",
       "0       <NA>            2  1498921578      1498921578  20170701   \n",
       "1       <NA>            1  1498934175      1498934175  20170701   \n",
       "2       <NA>            1  1498950889      1498950889  20170701   \n",
       "3       <NA>            1  1498939911      1498939911  20170701   \n",
       "4       <NA>            1  1498945129      1498945129  20170701   \n",
       "\n",
       "                                              totals  \\\n",
       "0  {'visits': 1, 'hits': 2, 'pageviews': 1, 'time...   \n",
       "1  {'visits': 1, 'hits': 2, 'pageviews': 1, 'time...   \n",
       "2  {'visits': 1, 'hits': 2, 'pageviews': 1, 'time...   \n",
       "3  {'visits': 1, 'hits': 2, 'pageviews': 1, 'time...   \n",
       "4  {'visits': 1, 'hits': 2, 'pageviews': 1, 'time...   \n",
       "\n",
       "                                       trafficSource  \\\n",
       "0  {'referralPath': None, 'campaign': '(not set)'...   \n",
       "1  {'referralPath': None, 'campaign': '(not set)'...   \n",
       "2  {'referralPath': '/', 'campaign': '(not set)',...   \n",
       "3  {'referralPath': '/', 'campaign': '(not set)',...   \n",
       "4  {'referralPath': '/', 'campaign': '(not set)',...   \n",
       "\n",
       "                                              device  \\\n",
       "0  {'browser': 'Chrome', 'browserVersion': 'not a...   \n",
       "1  {'browser': 'Opera Mini', 'browserVersion': 'n...   \n",
       "2  {'browser': 'Android Webview', 'browserVersion...   \n",
       "3  {'browser': 'Firefox', 'browserVersion': 'not ...   \n",
       "4  {'browser': 'Safari (in-app)', 'browserVersion...   \n",
       "\n",
       "                                          geoNetwork  \\\n",
       "0  {'continent': 'Europe', 'subContinent': 'Weste...   \n",
       "1  {'continent': 'Asia', 'subContinent': 'Southea...   \n",
       "2  {'continent': 'Europe', 'subContinent': 'North...   \n",
       "3  {'continent': 'Europe', 'subContinent': 'Weste...   \n",
       "4  {'continent': 'Europe', 'subContinent': 'Weste...   \n",
       "\n",
       "                  customDimensions  \\\n",
       "0  [{'index': 4, 'value': 'EMEA'}]   \n",
       "1                               []   \n",
       "2  [{'index': 4, 'value': 'EMEA'}]   \n",
       "3  [{'index': 4, 'value': 'EMEA'}]   \n",
       "4  [{'index': 4, 'value': 'EMEA'}]   \n",
       "\n",
       "                                                hits        fullVisitorId  \\\n",
       "0  [{'hitNumber': 1, 'time': 0, 'hour': 8, 'minut...  9117776942963408674   \n",
       "1  [{'hitNumber': 1, 'time': 0, 'hour': 11, 'minu...   734032105411402836   \n",
       "2  [{'hitNumber': 1, 'time': 0, 'hour': 16, 'minu...  5696457532157595544   \n",
       "3  [{'hitNumber': 1, 'time': 0, 'hour': 13, 'minu...  5009259967134102270   \n",
       "4  [{'hitNumber': 1, 'time': 0, 'hour': 14, 'minu...  2881134828551603619   \n",
       "\n",
       "  userId clientId channelGrouping  socialEngagementType  \n",
       "0   None     None          Direct  Not Socially Engaged  \n",
       "1   None     None  Organic Search  Not Socially Engaged  \n",
       "2   None     None          Social  Not Socially Engaged  \n",
       "3   None     None          Social  Not Socially Engaged  \n",
       "4   None     None          Social  Not Socially Engaged  "
      ]
     },
     "execution_count": 204,
     "metadata": {},
     "output_type": "execute_result"
    }
   ],
   "source": [
    "# Try if this connected\n",
    "\n",
    "query = \"\"\"\n",
    "SELECT *\n",
    "FROM `bigquery-public-data.google_analytics_sample.ga_sessions_20170701`\n",
    "LIMIT 5\n",
    "\"\"\"\n",
    "\n",
    "df = client.query(query).to_dataframe()\n",
    "print(df.info())\n",
    "df"
   ]
  },
  {
   "cell_type": "markdown",
   "id": "1e72a47b",
   "metadata": {},
   "source": [
    "Explanation about fields: \n",
    "https://support.google.com/analytics/answer/3437719?hl=en"
   ]
  },
  {
   "cell_type": "markdown",
   "id": "d854f069",
   "metadata": {},
   "source": [
    "**Main Traffic Sources**\n",
    "\n",
    "By checking the main traffic sources, we can find out more about the store's approach to marketing and how well or how bad some sources are performing."
   ]
  },
  {
   "cell_type": "code",
   "execution_count": 205,
   "id": "29b1a035",
   "metadata": {},
   "outputs": [
    {
     "data": {
      "application/vnd.plotly.v1+json": {
       "config": {
        "plotlyServerURL": "https://plot.ly"
       },
       "data": [
        {
         "alignmentgroup": "True",
         "hovertemplate": "Channel Group=%{x}<br>Number of Visits=%{y}<extra></extra>",
         "legendgroup": "",
         "marker": {
          "color": "#636efa",
          "pattern": {
           "shape": ""
          }
         },
         "name": "",
         "offsetgroup": "",
         "orientation": "v",
         "showlegend": false,
         "textposition": "auto",
         "type": "bar",
         "x": [
          "Organic Search",
          "Direct",
          "Referral",
          "Social",
          "Paid Search",
          "Affiliates",
          "Display",
          "(Other)"
         ],
         "xaxis": "x",
         "y": [
          37655,
          12306,
          9518,
          7749,
          2105,
          1788,
          690,
          1
         ],
         "yaxis": "y"
        }
       ],
       "layout": {
        "barmode": "relative",
        "legend": {
         "tracegroupgap": 0
        },
        "template": {
         "data": {
          "bar": [
           {
            "error_x": {
             "color": "#2a3f5f"
            },
            "error_y": {
             "color": "#2a3f5f"
            },
            "marker": {
             "line": {
              "color": "#E5ECF6",
              "width": 0.5
             },
             "pattern": {
              "fillmode": "overlay",
              "size": 10,
              "solidity": 0.2
             }
            },
            "type": "bar"
           }
          ],
          "barpolar": [
           {
            "marker": {
             "line": {
              "color": "#E5ECF6",
              "width": 0.5
             },
             "pattern": {
              "fillmode": "overlay",
              "size": 10,
              "solidity": 0.2
             }
            },
            "type": "barpolar"
           }
          ],
          "carpet": [
           {
            "aaxis": {
             "endlinecolor": "#2a3f5f",
             "gridcolor": "white",
             "linecolor": "white",
             "minorgridcolor": "white",
             "startlinecolor": "#2a3f5f"
            },
            "baxis": {
             "endlinecolor": "#2a3f5f",
             "gridcolor": "white",
             "linecolor": "white",
             "minorgridcolor": "white",
             "startlinecolor": "#2a3f5f"
            },
            "type": "carpet"
           }
          ],
          "choropleth": [
           {
            "colorbar": {
             "outlinewidth": 0,
             "ticks": ""
            },
            "type": "choropleth"
           }
          ],
          "contour": [
           {
            "colorbar": {
             "outlinewidth": 0,
             "ticks": ""
            },
            "colorscale": [
             [
              0,
              "#0d0887"
             ],
             [
              0.1111111111111111,
              "#46039f"
             ],
             [
              0.2222222222222222,
              "#7201a8"
             ],
             [
              0.3333333333333333,
              "#9c179e"
             ],
             [
              0.4444444444444444,
              "#bd3786"
             ],
             [
              0.5555555555555556,
              "#d8576b"
             ],
             [
              0.6666666666666666,
              "#ed7953"
             ],
             [
              0.7777777777777778,
              "#fb9f3a"
             ],
             [
              0.8888888888888888,
              "#fdca26"
             ],
             [
              1,
              "#f0f921"
             ]
            ],
            "type": "contour"
           }
          ],
          "contourcarpet": [
           {
            "colorbar": {
             "outlinewidth": 0,
             "ticks": ""
            },
            "type": "contourcarpet"
           }
          ],
          "heatmap": [
           {
            "colorbar": {
             "outlinewidth": 0,
             "ticks": ""
            },
            "colorscale": [
             [
              0,
              "#0d0887"
             ],
             [
              0.1111111111111111,
              "#46039f"
             ],
             [
              0.2222222222222222,
              "#7201a8"
             ],
             [
              0.3333333333333333,
              "#9c179e"
             ],
             [
              0.4444444444444444,
              "#bd3786"
             ],
             [
              0.5555555555555556,
              "#d8576b"
             ],
             [
              0.6666666666666666,
              "#ed7953"
             ],
             [
              0.7777777777777778,
              "#fb9f3a"
             ],
             [
              0.8888888888888888,
              "#fdca26"
             ],
             [
              1,
              "#f0f921"
             ]
            ],
            "type": "heatmap"
           }
          ],
          "heatmapgl": [
           {
            "colorbar": {
             "outlinewidth": 0,
             "ticks": ""
            },
            "colorscale": [
             [
              0,
              "#0d0887"
             ],
             [
              0.1111111111111111,
              "#46039f"
             ],
             [
              0.2222222222222222,
              "#7201a8"
             ],
             [
              0.3333333333333333,
              "#9c179e"
             ],
             [
              0.4444444444444444,
              "#bd3786"
             ],
             [
              0.5555555555555556,
              "#d8576b"
             ],
             [
              0.6666666666666666,
              "#ed7953"
             ],
             [
              0.7777777777777778,
              "#fb9f3a"
             ],
             [
              0.8888888888888888,
              "#fdca26"
             ],
             [
              1,
              "#f0f921"
             ]
            ],
            "type": "heatmapgl"
           }
          ],
          "histogram": [
           {
            "marker": {
             "pattern": {
              "fillmode": "overlay",
              "size": 10,
              "solidity": 0.2
             }
            },
            "type": "histogram"
           }
          ],
          "histogram2d": [
           {
            "colorbar": {
             "outlinewidth": 0,
             "ticks": ""
            },
            "colorscale": [
             [
              0,
              "#0d0887"
             ],
             [
              0.1111111111111111,
              "#46039f"
             ],
             [
              0.2222222222222222,
              "#7201a8"
             ],
             [
              0.3333333333333333,
              "#9c179e"
             ],
             [
              0.4444444444444444,
              "#bd3786"
             ],
             [
              0.5555555555555556,
              "#d8576b"
             ],
             [
              0.6666666666666666,
              "#ed7953"
             ],
             [
              0.7777777777777778,
              "#fb9f3a"
             ],
             [
              0.8888888888888888,
              "#fdca26"
             ],
             [
              1,
              "#f0f921"
             ]
            ],
            "type": "histogram2d"
           }
          ],
          "histogram2dcontour": [
           {
            "colorbar": {
             "outlinewidth": 0,
             "ticks": ""
            },
            "colorscale": [
             [
              0,
              "#0d0887"
             ],
             [
              0.1111111111111111,
              "#46039f"
             ],
             [
              0.2222222222222222,
              "#7201a8"
             ],
             [
              0.3333333333333333,
              "#9c179e"
             ],
             [
              0.4444444444444444,
              "#bd3786"
             ],
             [
              0.5555555555555556,
              "#d8576b"
             ],
             [
              0.6666666666666666,
              "#ed7953"
             ],
             [
              0.7777777777777778,
              "#fb9f3a"
             ],
             [
              0.8888888888888888,
              "#fdca26"
             ],
             [
              1,
              "#f0f921"
             ]
            ],
            "type": "histogram2dcontour"
           }
          ],
          "mesh3d": [
           {
            "colorbar": {
             "outlinewidth": 0,
             "ticks": ""
            },
            "type": "mesh3d"
           }
          ],
          "parcoords": [
           {
            "line": {
             "colorbar": {
              "outlinewidth": 0,
              "ticks": ""
             }
            },
            "type": "parcoords"
           }
          ],
          "pie": [
           {
            "automargin": true,
            "type": "pie"
           }
          ],
          "scatter": [
           {
            "fillpattern": {
             "fillmode": "overlay",
             "size": 10,
             "solidity": 0.2
            },
            "type": "scatter"
           }
          ],
          "scatter3d": [
           {
            "line": {
             "colorbar": {
              "outlinewidth": 0,
              "ticks": ""
             }
            },
            "marker": {
             "colorbar": {
              "outlinewidth": 0,
              "ticks": ""
             }
            },
            "type": "scatter3d"
           }
          ],
          "scattercarpet": [
           {
            "marker": {
             "colorbar": {
              "outlinewidth": 0,
              "ticks": ""
             }
            },
            "type": "scattercarpet"
           }
          ],
          "scattergeo": [
           {
            "marker": {
             "colorbar": {
              "outlinewidth": 0,
              "ticks": ""
             }
            },
            "type": "scattergeo"
           }
          ],
          "scattergl": [
           {
            "marker": {
             "colorbar": {
              "outlinewidth": 0,
              "ticks": ""
             }
            },
            "type": "scattergl"
           }
          ],
          "scattermapbox": [
           {
            "marker": {
             "colorbar": {
              "outlinewidth": 0,
              "ticks": ""
             }
            },
            "type": "scattermapbox"
           }
          ],
          "scatterpolar": [
           {
            "marker": {
             "colorbar": {
              "outlinewidth": 0,
              "ticks": ""
             }
            },
            "type": "scatterpolar"
           }
          ],
          "scatterpolargl": [
           {
            "marker": {
             "colorbar": {
              "outlinewidth": 0,
              "ticks": ""
             }
            },
            "type": "scatterpolargl"
           }
          ],
          "scatterternary": [
           {
            "marker": {
             "colorbar": {
              "outlinewidth": 0,
              "ticks": ""
             }
            },
            "type": "scatterternary"
           }
          ],
          "surface": [
           {
            "colorbar": {
             "outlinewidth": 0,
             "ticks": ""
            },
            "colorscale": [
             [
              0,
              "#0d0887"
             ],
             [
              0.1111111111111111,
              "#46039f"
             ],
             [
              0.2222222222222222,
              "#7201a8"
             ],
             [
              0.3333333333333333,
              "#9c179e"
             ],
             [
              0.4444444444444444,
              "#bd3786"
             ],
             [
              0.5555555555555556,
              "#d8576b"
             ],
             [
              0.6666666666666666,
              "#ed7953"
             ],
             [
              0.7777777777777778,
              "#fb9f3a"
             ],
             [
              0.8888888888888888,
              "#fdca26"
             ],
             [
              1,
              "#f0f921"
             ]
            ],
            "type": "surface"
           }
          ],
          "table": [
           {
            "cells": {
             "fill": {
              "color": "#EBF0F8"
             },
             "line": {
              "color": "white"
             }
            },
            "header": {
             "fill": {
              "color": "#C8D4E3"
             },
             "line": {
              "color": "white"
             }
            },
            "type": "table"
           }
          ]
         },
         "layout": {
          "annotationdefaults": {
           "arrowcolor": "#2a3f5f",
           "arrowhead": 0,
           "arrowwidth": 1
          },
          "autotypenumbers": "strict",
          "coloraxis": {
           "colorbar": {
            "outlinewidth": 0,
            "ticks": ""
           }
          },
          "colorscale": {
           "diverging": [
            [
             0,
             "#8e0152"
            ],
            [
             0.1,
             "#c51b7d"
            ],
            [
             0.2,
             "#de77ae"
            ],
            [
             0.3,
             "#f1b6da"
            ],
            [
             0.4,
             "#fde0ef"
            ],
            [
             0.5,
             "#f7f7f7"
            ],
            [
             0.6,
             "#e6f5d0"
            ],
            [
             0.7,
             "#b8e186"
            ],
            [
             0.8,
             "#7fbc41"
            ],
            [
             0.9,
             "#4d9221"
            ],
            [
             1,
             "#276419"
            ]
           ],
           "sequential": [
            [
             0,
             "#0d0887"
            ],
            [
             0.1111111111111111,
             "#46039f"
            ],
            [
             0.2222222222222222,
             "#7201a8"
            ],
            [
             0.3333333333333333,
             "#9c179e"
            ],
            [
             0.4444444444444444,
             "#bd3786"
            ],
            [
             0.5555555555555556,
             "#d8576b"
            ],
            [
             0.6666666666666666,
             "#ed7953"
            ],
            [
             0.7777777777777778,
             "#fb9f3a"
            ],
            [
             0.8888888888888888,
             "#fdca26"
            ],
            [
             1,
             "#f0f921"
            ]
           ],
           "sequentialminus": [
            [
             0,
             "#0d0887"
            ],
            [
             0.1111111111111111,
             "#46039f"
            ],
            [
             0.2222222222222222,
             "#7201a8"
            ],
            [
             0.3333333333333333,
             "#9c179e"
            ],
            [
             0.4444444444444444,
             "#bd3786"
            ],
            [
             0.5555555555555556,
             "#d8576b"
            ],
            [
             0.6666666666666666,
             "#ed7953"
            ],
            [
             0.7777777777777778,
             "#fb9f3a"
            ],
            [
             0.8888888888888888,
             "#fdca26"
            ],
            [
             1,
             "#f0f921"
            ]
           ]
          },
          "colorway": [
           "#636efa",
           "#EF553B",
           "#00cc96",
           "#ab63fa",
           "#FFA15A",
           "#19d3f3",
           "#FF6692",
           "#B6E880",
           "#FF97FF",
           "#FECB52"
          ],
          "font": {
           "color": "#2a3f5f"
          },
          "geo": {
           "bgcolor": "white",
           "lakecolor": "white",
           "landcolor": "#E5ECF6",
           "showlakes": true,
           "showland": true,
           "subunitcolor": "white"
          },
          "hoverlabel": {
           "align": "left"
          },
          "hovermode": "closest",
          "mapbox": {
           "style": "light"
          },
          "paper_bgcolor": "white",
          "plot_bgcolor": "#E5ECF6",
          "polar": {
           "angularaxis": {
            "gridcolor": "white",
            "linecolor": "white",
            "ticks": ""
           },
           "bgcolor": "#E5ECF6",
           "radialaxis": {
            "gridcolor": "white",
            "linecolor": "white",
            "ticks": ""
           }
          },
          "scene": {
           "xaxis": {
            "backgroundcolor": "#E5ECF6",
            "gridcolor": "white",
            "gridwidth": 2,
            "linecolor": "white",
            "showbackground": true,
            "ticks": "",
            "zerolinecolor": "white"
           },
           "yaxis": {
            "backgroundcolor": "#E5ECF6",
            "gridcolor": "white",
            "gridwidth": 2,
            "linecolor": "white",
            "showbackground": true,
            "ticks": "",
            "zerolinecolor": "white"
           },
           "zaxis": {
            "backgroundcolor": "#E5ECF6",
            "gridcolor": "white",
            "gridwidth": 2,
            "linecolor": "white",
            "showbackground": true,
            "ticks": "",
            "zerolinecolor": "white"
           }
          },
          "shapedefaults": {
           "line": {
            "color": "#2a3f5f"
           }
          },
          "ternary": {
           "aaxis": {
            "gridcolor": "white",
            "linecolor": "white",
            "ticks": ""
           },
           "baxis": {
            "gridcolor": "white",
            "linecolor": "white",
            "ticks": ""
           },
           "bgcolor": "#E5ECF6",
           "caxis": {
            "gridcolor": "white",
            "linecolor": "white",
            "ticks": ""
           }
          },
          "title": {
           "x": 0.05
          },
          "xaxis": {
           "automargin": true,
           "gridcolor": "white",
           "linecolor": "white",
           "ticks": "",
           "title": {
            "standoff": 15
           },
           "zerolinecolor": "white",
           "zerolinewidth": 2
          },
          "yaxis": {
           "automargin": true,
           "gridcolor": "white",
           "linecolor": "white",
           "ticks": "",
           "title": {
            "standoff": 15
           },
           "zerolinecolor": "white",
           "zerolinewidth": 2
          }
         }
        },
        "title": {
         "text": "Number of visit from various channel"
        },
        "xaxis": {
         "anchor": "y",
         "domain": [
          0,
          1
         ],
         "title": {
          "text": "Channel Group"
         }
        },
        "yaxis": {
         "anchor": "x",
         "domain": [
          0,
          1
         ],
         "title": {
          "text": "Number of Visits"
         }
        }
       }
      },
      "text/html": [
       "<div>                            <div id=\"ad243938-fe2b-4474-9345-f65f9d9be532\" class=\"plotly-graph-div\" style=\"height:525px; width:100%;\"></div>            <script type=\"text/javascript\">                require([\"plotly\"], function(Plotly) {                    window.PLOTLYENV=window.PLOTLYENV || {};                                    if (document.getElementById(\"ad243938-fe2b-4474-9345-f65f9d9be532\")) {                    Plotly.newPlot(                        \"ad243938-fe2b-4474-9345-f65f9d9be532\",                        [{\"alignmentgroup\":\"True\",\"hovertemplate\":\"Channel Group=%{x}<br>Number of Visits=%{y}<extra></extra>\",\"legendgroup\":\"\",\"marker\":{\"color\":\"#636efa\",\"pattern\":{\"shape\":\"\"}},\"name\":\"\",\"offsetgroup\":\"\",\"orientation\":\"v\",\"showlegend\":false,\"textposition\":\"auto\",\"x\":[\"Organic Search\",\"Direct\",\"Referral\",\"Social\",\"Paid Search\",\"Affiliates\",\"Display\",\"(Other)\"],\"xaxis\":\"x\",\"y\":[37655,12306,9518,7749,2105,1788,690,1],\"yaxis\":\"y\",\"type\":\"bar\"}],                        {\"template\":{\"data\":{\"histogram2dcontour\":[{\"type\":\"histogram2dcontour\",\"colorbar\":{\"outlinewidth\":0,\"ticks\":\"\"},\"colorscale\":[[0.0,\"#0d0887\"],[0.1111111111111111,\"#46039f\"],[0.2222222222222222,\"#7201a8\"],[0.3333333333333333,\"#9c179e\"],[0.4444444444444444,\"#bd3786\"],[0.5555555555555556,\"#d8576b\"],[0.6666666666666666,\"#ed7953\"],[0.7777777777777778,\"#fb9f3a\"],[0.8888888888888888,\"#fdca26\"],[1.0,\"#f0f921\"]]}],\"choropleth\":[{\"type\":\"choropleth\",\"colorbar\":{\"outlinewidth\":0,\"ticks\":\"\"}}],\"histogram2d\":[{\"type\":\"histogram2d\",\"colorbar\":{\"outlinewidth\":0,\"ticks\":\"\"},\"colorscale\":[[0.0,\"#0d0887\"],[0.1111111111111111,\"#46039f\"],[0.2222222222222222,\"#7201a8\"],[0.3333333333333333,\"#9c179e\"],[0.4444444444444444,\"#bd3786\"],[0.5555555555555556,\"#d8576b\"],[0.6666666666666666,\"#ed7953\"],[0.7777777777777778,\"#fb9f3a\"],[0.8888888888888888,\"#fdca26\"],[1.0,\"#f0f921\"]]}],\"heatmap\":[{\"type\":\"heatmap\",\"colorbar\":{\"outlinewidth\":0,\"ticks\":\"\"},\"colorscale\":[[0.0,\"#0d0887\"],[0.1111111111111111,\"#46039f\"],[0.2222222222222222,\"#7201a8\"],[0.3333333333333333,\"#9c179e\"],[0.4444444444444444,\"#bd3786\"],[0.5555555555555556,\"#d8576b\"],[0.6666666666666666,\"#ed7953\"],[0.7777777777777778,\"#fb9f3a\"],[0.8888888888888888,\"#fdca26\"],[1.0,\"#f0f921\"]]}],\"heatmapgl\":[{\"type\":\"heatmapgl\",\"colorbar\":{\"outlinewidth\":0,\"ticks\":\"\"},\"colorscale\":[[0.0,\"#0d0887\"],[0.1111111111111111,\"#46039f\"],[0.2222222222222222,\"#7201a8\"],[0.3333333333333333,\"#9c179e\"],[0.4444444444444444,\"#bd3786\"],[0.5555555555555556,\"#d8576b\"],[0.6666666666666666,\"#ed7953\"],[0.7777777777777778,\"#fb9f3a\"],[0.8888888888888888,\"#fdca26\"],[1.0,\"#f0f921\"]]}],\"contourcarpet\":[{\"type\":\"contourcarpet\",\"colorbar\":{\"outlinewidth\":0,\"ticks\":\"\"}}],\"contour\":[{\"type\":\"contour\",\"colorbar\":{\"outlinewidth\":0,\"ticks\":\"\"},\"colorscale\":[[0.0,\"#0d0887\"],[0.1111111111111111,\"#46039f\"],[0.2222222222222222,\"#7201a8\"],[0.3333333333333333,\"#9c179e\"],[0.4444444444444444,\"#bd3786\"],[0.5555555555555556,\"#d8576b\"],[0.6666666666666666,\"#ed7953\"],[0.7777777777777778,\"#fb9f3a\"],[0.8888888888888888,\"#fdca26\"],[1.0,\"#f0f921\"]]}],\"surface\":[{\"type\":\"surface\",\"colorbar\":{\"outlinewidth\":0,\"ticks\":\"\"},\"colorscale\":[[0.0,\"#0d0887\"],[0.1111111111111111,\"#46039f\"],[0.2222222222222222,\"#7201a8\"],[0.3333333333333333,\"#9c179e\"],[0.4444444444444444,\"#bd3786\"],[0.5555555555555556,\"#d8576b\"],[0.6666666666666666,\"#ed7953\"],[0.7777777777777778,\"#fb9f3a\"],[0.8888888888888888,\"#fdca26\"],[1.0,\"#f0f921\"]]}],\"mesh3d\":[{\"type\":\"mesh3d\",\"colorbar\":{\"outlinewidth\":0,\"ticks\":\"\"}}],\"scatter\":[{\"fillpattern\":{\"fillmode\":\"overlay\",\"size\":10,\"solidity\":0.2},\"type\":\"scatter\"}],\"parcoords\":[{\"type\":\"parcoords\",\"line\":{\"colorbar\":{\"outlinewidth\":0,\"ticks\":\"\"}}}],\"scatterpolargl\":[{\"type\":\"scatterpolargl\",\"marker\":{\"colorbar\":{\"outlinewidth\":0,\"ticks\":\"\"}}}],\"bar\":[{\"error_x\":{\"color\":\"#2a3f5f\"},\"error_y\":{\"color\":\"#2a3f5f\"},\"marker\":{\"line\":{\"color\":\"#E5ECF6\",\"width\":0.5},\"pattern\":{\"fillmode\":\"overlay\",\"size\":10,\"solidity\":0.2}},\"type\":\"bar\"}],\"scattergeo\":[{\"type\":\"scattergeo\",\"marker\":{\"colorbar\":{\"outlinewidth\":0,\"ticks\":\"\"}}}],\"scatterpolar\":[{\"type\":\"scatterpolar\",\"marker\":{\"colorbar\":{\"outlinewidth\":0,\"ticks\":\"\"}}}],\"histogram\":[{\"marker\":{\"pattern\":{\"fillmode\":\"overlay\",\"size\":10,\"solidity\":0.2}},\"type\":\"histogram\"}],\"scattergl\":[{\"type\":\"scattergl\",\"marker\":{\"colorbar\":{\"outlinewidth\":0,\"ticks\":\"\"}}}],\"scatter3d\":[{\"type\":\"scatter3d\",\"line\":{\"colorbar\":{\"outlinewidth\":0,\"ticks\":\"\"}},\"marker\":{\"colorbar\":{\"outlinewidth\":0,\"ticks\":\"\"}}}],\"scattermapbox\":[{\"type\":\"scattermapbox\",\"marker\":{\"colorbar\":{\"outlinewidth\":0,\"ticks\":\"\"}}}],\"scatterternary\":[{\"type\":\"scatterternary\",\"marker\":{\"colorbar\":{\"outlinewidth\":0,\"ticks\":\"\"}}}],\"scattercarpet\":[{\"type\":\"scattercarpet\",\"marker\":{\"colorbar\":{\"outlinewidth\":0,\"ticks\":\"\"}}}],\"carpet\":[{\"aaxis\":{\"endlinecolor\":\"#2a3f5f\",\"gridcolor\":\"white\",\"linecolor\":\"white\",\"minorgridcolor\":\"white\",\"startlinecolor\":\"#2a3f5f\"},\"baxis\":{\"endlinecolor\":\"#2a3f5f\",\"gridcolor\":\"white\",\"linecolor\":\"white\",\"minorgridcolor\":\"white\",\"startlinecolor\":\"#2a3f5f\"},\"type\":\"carpet\"}],\"table\":[{\"cells\":{\"fill\":{\"color\":\"#EBF0F8\"},\"line\":{\"color\":\"white\"}},\"header\":{\"fill\":{\"color\":\"#C8D4E3\"},\"line\":{\"color\":\"white\"}},\"type\":\"table\"}],\"barpolar\":[{\"marker\":{\"line\":{\"color\":\"#E5ECF6\",\"width\":0.5},\"pattern\":{\"fillmode\":\"overlay\",\"size\":10,\"solidity\":0.2}},\"type\":\"barpolar\"}],\"pie\":[{\"automargin\":true,\"type\":\"pie\"}]},\"layout\":{\"autotypenumbers\":\"strict\",\"colorway\":[\"#636efa\",\"#EF553B\",\"#00cc96\",\"#ab63fa\",\"#FFA15A\",\"#19d3f3\",\"#FF6692\",\"#B6E880\",\"#FF97FF\",\"#FECB52\"],\"font\":{\"color\":\"#2a3f5f\"},\"hovermode\":\"closest\",\"hoverlabel\":{\"align\":\"left\"},\"paper_bgcolor\":\"white\",\"plot_bgcolor\":\"#E5ECF6\",\"polar\":{\"bgcolor\":\"#E5ECF6\",\"angularaxis\":{\"gridcolor\":\"white\",\"linecolor\":\"white\",\"ticks\":\"\"},\"radialaxis\":{\"gridcolor\":\"white\",\"linecolor\":\"white\",\"ticks\":\"\"}},\"ternary\":{\"bgcolor\":\"#E5ECF6\",\"aaxis\":{\"gridcolor\":\"white\",\"linecolor\":\"white\",\"ticks\":\"\"},\"baxis\":{\"gridcolor\":\"white\",\"linecolor\":\"white\",\"ticks\":\"\"},\"caxis\":{\"gridcolor\":\"white\",\"linecolor\":\"white\",\"ticks\":\"\"}},\"coloraxis\":{\"colorbar\":{\"outlinewidth\":0,\"ticks\":\"\"}},\"colorscale\":{\"sequential\":[[0.0,\"#0d0887\"],[0.1111111111111111,\"#46039f\"],[0.2222222222222222,\"#7201a8\"],[0.3333333333333333,\"#9c179e\"],[0.4444444444444444,\"#bd3786\"],[0.5555555555555556,\"#d8576b\"],[0.6666666666666666,\"#ed7953\"],[0.7777777777777778,\"#fb9f3a\"],[0.8888888888888888,\"#fdca26\"],[1.0,\"#f0f921\"]],\"sequentialminus\":[[0.0,\"#0d0887\"],[0.1111111111111111,\"#46039f\"],[0.2222222222222222,\"#7201a8\"],[0.3333333333333333,\"#9c179e\"],[0.4444444444444444,\"#bd3786\"],[0.5555555555555556,\"#d8576b\"],[0.6666666666666666,\"#ed7953\"],[0.7777777777777778,\"#fb9f3a\"],[0.8888888888888888,\"#fdca26\"],[1.0,\"#f0f921\"]],\"diverging\":[[0,\"#8e0152\"],[0.1,\"#c51b7d\"],[0.2,\"#de77ae\"],[0.3,\"#f1b6da\"],[0.4,\"#fde0ef\"],[0.5,\"#f7f7f7\"],[0.6,\"#e6f5d0\"],[0.7,\"#b8e186\"],[0.8,\"#7fbc41\"],[0.9,\"#4d9221\"],[1,\"#276419\"]]},\"xaxis\":{\"gridcolor\":\"white\",\"linecolor\":\"white\",\"ticks\":\"\",\"title\":{\"standoff\":15},\"zerolinecolor\":\"white\",\"automargin\":true,\"zerolinewidth\":2},\"yaxis\":{\"gridcolor\":\"white\",\"linecolor\":\"white\",\"ticks\":\"\",\"title\":{\"standoff\":15},\"zerolinecolor\":\"white\",\"automargin\":true,\"zerolinewidth\":2},\"scene\":{\"xaxis\":{\"backgroundcolor\":\"#E5ECF6\",\"gridcolor\":\"white\",\"linecolor\":\"white\",\"showbackground\":true,\"ticks\":\"\",\"zerolinecolor\":\"white\",\"gridwidth\":2},\"yaxis\":{\"backgroundcolor\":\"#E5ECF6\",\"gridcolor\":\"white\",\"linecolor\":\"white\",\"showbackground\":true,\"ticks\":\"\",\"zerolinecolor\":\"white\",\"gridwidth\":2},\"zaxis\":{\"backgroundcolor\":\"#E5ECF6\",\"gridcolor\":\"white\",\"linecolor\":\"white\",\"showbackground\":true,\"ticks\":\"\",\"zerolinecolor\":\"white\",\"gridwidth\":2}},\"shapedefaults\":{\"line\":{\"color\":\"#2a3f5f\"}},\"annotationdefaults\":{\"arrowcolor\":\"#2a3f5f\",\"arrowhead\":0,\"arrowwidth\":1},\"geo\":{\"bgcolor\":\"white\",\"landcolor\":\"#E5ECF6\",\"subunitcolor\":\"white\",\"showland\":true,\"showlakes\":true,\"lakecolor\":\"white\"},\"title\":{\"x\":0.05},\"mapbox\":{\"style\":\"light\"}}},\"xaxis\":{\"anchor\":\"y\",\"domain\":[0.0,1.0],\"title\":{\"text\":\"Channel Group\"}},\"yaxis\":{\"anchor\":\"x\",\"domain\":[0.0,1.0],\"title\":{\"text\":\"Number of Visits\"}},\"legend\":{\"tracegroupgap\":0},\"title\":{\"text\":\"Number of visit from various channel\"},\"barmode\":\"relative\"},                        {\"responsive\": true}                    ).then(function(){\n",
       "                            \n",
       "var gd = document.getElementById('ad243938-fe2b-4474-9345-f65f9d9be532');\n",
       "var x = new MutationObserver(function (mutations, observer) {{\n",
       "        var display = window.getComputedStyle(gd).display;\n",
       "        if (!display || display === 'none') {{\n",
       "            console.log([gd, 'removed!']);\n",
       "            Plotly.purge(gd);\n",
       "            observer.disconnect();\n",
       "        }}\n",
       "}});\n",
       "\n",
       "// Listen for the removal of the full notebook cells\n",
       "var notebookContainer = gd.closest('#notebook-container');\n",
       "if (notebookContainer) {{\n",
       "    x.observe(notebookContainer, {childList: true});\n",
       "}}\n",
       "\n",
       "// Listen for the clearing of the current output cell\n",
       "var outputEl = gd.closest('.output');\n",
       "if (outputEl) {{\n",
       "    x.observe(outputEl, {childList: true});\n",
       "}}\n",
       "\n",
       "                        })                };                });            </script>        </div>"
      ]
     },
     "metadata": {},
     "output_type": "display_data"
    }
   ],
   "source": [
    "# Main traffic sources last month (July 2017)\n",
    "\n",
    "query = \"\"\"\n",
    "    SELECT channelGrouping, COUNT(visitId) number_of_visits\n",
    "    FROM `bigquery-public-data.google_analytics_sample.ga_sessions_*`\n",
    "    WHERE\n",
    "    _TABLE_SUFFIX BETWEEN '20170701' AND '20170731'\n",
    "    GROUP BY channelGrouping\n",
    "    HAVING number_of_visits > 0\n",
    "    ORDER BY number_of_visits DESC\n",
    "\"\"\"\n",
    "\n",
    "df = client.query(query).to_dataframe()\n",
    "\n",
    "fig = px.bar(df, x='channelGrouping', y='number_of_visits',\n",
    "            title='Number of visit from various channel',\n",
    "            labels={'number_of_visits': 'Number of Visits',\n",
    "                    'channelGrouping': 'Channel Group'})\n",
    "\n",
    "fig.show()"
   ]
  },
  {
   "cell_type": "code",
   "execution_count": 206,
   "id": "fde1ae25",
   "metadata": {},
   "outputs": [
    {
     "data": {
      "application/vnd.plotly.v1+json": {
       "config": {
        "plotlyServerURL": "https://plot.ly"
       },
       "data": [
        {
         "alignmentgroup": "True",
         "hovertemplate": "Page=%{x}<br>Number of Visits=%{y}<extra></extra>",
         "legendgroup": "",
         "marker": {
          "color": "#636efa",
          "pattern": {
           "shape": ""
          }
         },
         "name": "",
         "offsetgroup": "",
         "orientation": "v",
         "showlegend": false,
         "textposition": "auto",
         "type": "bar",
         "x": [
          "quickview",
          "youtube",
          "basket.html",
          "signin.html",
          "mens+t+shirts",
          "asearch.html",
          "store.html",
          "bags",
          "electronics",
          "apparel",
          "fun",
          "drinkware",
          "google",
          "headgear",
          "audio",
          "water+bottles+and+tumblers",
          "accessories",
          "yourinfo.html",
          "notebooks++journals",
          "men++s+t+shirts"
         ],
         "xaxis": "x",
         "y": [
          172179,
          126294,
          114807,
          54006,
          52108,
          48476,
          42953,
          35465,
          31704,
          30282,
          26446,
          26179,
          25634,
          23991,
          23075,
          22773,
          22749,
          22059,
          21186,
          21173
         ],
         "yaxis": "y"
        }
       ],
       "layout": {
        "barmode": "relative",
        "legend": {
         "tracegroupgap": 0
        },
        "template": {
         "data": {
          "bar": [
           {
            "error_x": {
             "color": "#2a3f5f"
            },
            "error_y": {
             "color": "#2a3f5f"
            },
            "marker": {
             "line": {
              "color": "#E5ECF6",
              "width": 0.5
             },
             "pattern": {
              "fillmode": "overlay",
              "size": 10,
              "solidity": 0.2
             }
            },
            "type": "bar"
           }
          ],
          "barpolar": [
           {
            "marker": {
             "line": {
              "color": "#E5ECF6",
              "width": 0.5
             },
             "pattern": {
              "fillmode": "overlay",
              "size": 10,
              "solidity": 0.2
             }
            },
            "type": "barpolar"
           }
          ],
          "carpet": [
           {
            "aaxis": {
             "endlinecolor": "#2a3f5f",
             "gridcolor": "white",
             "linecolor": "white",
             "minorgridcolor": "white",
             "startlinecolor": "#2a3f5f"
            },
            "baxis": {
             "endlinecolor": "#2a3f5f",
             "gridcolor": "white",
             "linecolor": "white",
             "minorgridcolor": "white",
             "startlinecolor": "#2a3f5f"
            },
            "type": "carpet"
           }
          ],
          "choropleth": [
           {
            "colorbar": {
             "outlinewidth": 0,
             "ticks": ""
            },
            "type": "choropleth"
           }
          ],
          "contour": [
           {
            "colorbar": {
             "outlinewidth": 0,
             "ticks": ""
            },
            "colorscale": [
             [
              0,
              "#0d0887"
             ],
             [
              0.1111111111111111,
              "#46039f"
             ],
             [
              0.2222222222222222,
              "#7201a8"
             ],
             [
              0.3333333333333333,
              "#9c179e"
             ],
             [
              0.4444444444444444,
              "#bd3786"
             ],
             [
              0.5555555555555556,
              "#d8576b"
             ],
             [
              0.6666666666666666,
              "#ed7953"
             ],
             [
              0.7777777777777778,
              "#fb9f3a"
             ],
             [
              0.8888888888888888,
              "#fdca26"
             ],
             [
              1,
              "#f0f921"
             ]
            ],
            "type": "contour"
           }
          ],
          "contourcarpet": [
           {
            "colorbar": {
             "outlinewidth": 0,
             "ticks": ""
            },
            "type": "contourcarpet"
           }
          ],
          "heatmap": [
           {
            "colorbar": {
             "outlinewidth": 0,
             "ticks": ""
            },
            "colorscale": [
             [
              0,
              "#0d0887"
             ],
             [
              0.1111111111111111,
              "#46039f"
             ],
             [
              0.2222222222222222,
              "#7201a8"
             ],
             [
              0.3333333333333333,
              "#9c179e"
             ],
             [
              0.4444444444444444,
              "#bd3786"
             ],
             [
              0.5555555555555556,
              "#d8576b"
             ],
             [
              0.6666666666666666,
              "#ed7953"
             ],
             [
              0.7777777777777778,
              "#fb9f3a"
             ],
             [
              0.8888888888888888,
              "#fdca26"
             ],
             [
              1,
              "#f0f921"
             ]
            ],
            "type": "heatmap"
           }
          ],
          "heatmapgl": [
           {
            "colorbar": {
             "outlinewidth": 0,
             "ticks": ""
            },
            "colorscale": [
             [
              0,
              "#0d0887"
             ],
             [
              0.1111111111111111,
              "#46039f"
             ],
             [
              0.2222222222222222,
              "#7201a8"
             ],
             [
              0.3333333333333333,
              "#9c179e"
             ],
             [
              0.4444444444444444,
              "#bd3786"
             ],
             [
              0.5555555555555556,
              "#d8576b"
             ],
             [
              0.6666666666666666,
              "#ed7953"
             ],
             [
              0.7777777777777778,
              "#fb9f3a"
             ],
             [
              0.8888888888888888,
              "#fdca26"
             ],
             [
              1,
              "#f0f921"
             ]
            ],
            "type": "heatmapgl"
           }
          ],
          "histogram": [
           {
            "marker": {
             "pattern": {
              "fillmode": "overlay",
              "size": 10,
              "solidity": 0.2
             }
            },
            "type": "histogram"
           }
          ],
          "histogram2d": [
           {
            "colorbar": {
             "outlinewidth": 0,
             "ticks": ""
            },
            "colorscale": [
             [
              0,
              "#0d0887"
             ],
             [
              0.1111111111111111,
              "#46039f"
             ],
             [
              0.2222222222222222,
              "#7201a8"
             ],
             [
              0.3333333333333333,
              "#9c179e"
             ],
             [
              0.4444444444444444,
              "#bd3786"
             ],
             [
              0.5555555555555556,
              "#d8576b"
             ],
             [
              0.6666666666666666,
              "#ed7953"
             ],
             [
              0.7777777777777778,
              "#fb9f3a"
             ],
             [
              0.8888888888888888,
              "#fdca26"
             ],
             [
              1,
              "#f0f921"
             ]
            ],
            "type": "histogram2d"
           }
          ],
          "histogram2dcontour": [
           {
            "colorbar": {
             "outlinewidth": 0,
             "ticks": ""
            },
            "colorscale": [
             [
              0,
              "#0d0887"
             ],
             [
              0.1111111111111111,
              "#46039f"
             ],
             [
              0.2222222222222222,
              "#7201a8"
             ],
             [
              0.3333333333333333,
              "#9c179e"
             ],
             [
              0.4444444444444444,
              "#bd3786"
             ],
             [
              0.5555555555555556,
              "#d8576b"
             ],
             [
              0.6666666666666666,
              "#ed7953"
             ],
             [
              0.7777777777777778,
              "#fb9f3a"
             ],
             [
              0.8888888888888888,
              "#fdca26"
             ],
             [
              1,
              "#f0f921"
             ]
            ],
            "type": "histogram2dcontour"
           }
          ],
          "mesh3d": [
           {
            "colorbar": {
             "outlinewidth": 0,
             "ticks": ""
            },
            "type": "mesh3d"
           }
          ],
          "parcoords": [
           {
            "line": {
             "colorbar": {
              "outlinewidth": 0,
              "ticks": ""
             }
            },
            "type": "parcoords"
           }
          ],
          "pie": [
           {
            "automargin": true,
            "type": "pie"
           }
          ],
          "scatter": [
           {
            "fillpattern": {
             "fillmode": "overlay",
             "size": 10,
             "solidity": 0.2
            },
            "type": "scatter"
           }
          ],
          "scatter3d": [
           {
            "line": {
             "colorbar": {
              "outlinewidth": 0,
              "ticks": ""
             }
            },
            "marker": {
             "colorbar": {
              "outlinewidth": 0,
              "ticks": ""
             }
            },
            "type": "scatter3d"
           }
          ],
          "scattercarpet": [
           {
            "marker": {
             "colorbar": {
              "outlinewidth": 0,
              "ticks": ""
             }
            },
            "type": "scattercarpet"
           }
          ],
          "scattergeo": [
           {
            "marker": {
             "colorbar": {
              "outlinewidth": 0,
              "ticks": ""
             }
            },
            "type": "scattergeo"
           }
          ],
          "scattergl": [
           {
            "marker": {
             "colorbar": {
              "outlinewidth": 0,
              "ticks": ""
             }
            },
            "type": "scattergl"
           }
          ],
          "scattermapbox": [
           {
            "marker": {
             "colorbar": {
              "outlinewidth": 0,
              "ticks": ""
             }
            },
            "type": "scattermapbox"
           }
          ],
          "scatterpolar": [
           {
            "marker": {
             "colorbar": {
              "outlinewidth": 0,
              "ticks": ""
             }
            },
            "type": "scatterpolar"
           }
          ],
          "scatterpolargl": [
           {
            "marker": {
             "colorbar": {
              "outlinewidth": 0,
              "ticks": ""
             }
            },
            "type": "scatterpolargl"
           }
          ],
          "scatterternary": [
           {
            "marker": {
             "colorbar": {
              "outlinewidth": 0,
              "ticks": ""
             }
            },
            "type": "scatterternary"
           }
          ],
          "surface": [
           {
            "colorbar": {
             "outlinewidth": 0,
             "ticks": ""
            },
            "colorscale": [
             [
              0,
              "#0d0887"
             ],
             [
              0.1111111111111111,
              "#46039f"
             ],
             [
              0.2222222222222222,
              "#7201a8"
             ],
             [
              0.3333333333333333,
              "#9c179e"
             ],
             [
              0.4444444444444444,
              "#bd3786"
             ],
             [
              0.5555555555555556,
              "#d8576b"
             ],
             [
              0.6666666666666666,
              "#ed7953"
             ],
             [
              0.7777777777777778,
              "#fb9f3a"
             ],
             [
              0.8888888888888888,
              "#fdca26"
             ],
             [
              1,
              "#f0f921"
             ]
            ],
            "type": "surface"
           }
          ],
          "table": [
           {
            "cells": {
             "fill": {
              "color": "#EBF0F8"
             },
             "line": {
              "color": "white"
             }
            },
            "header": {
             "fill": {
              "color": "#C8D4E3"
             },
             "line": {
              "color": "white"
             }
            },
            "type": "table"
           }
          ]
         },
         "layout": {
          "annotationdefaults": {
           "arrowcolor": "#2a3f5f",
           "arrowhead": 0,
           "arrowwidth": 1
          },
          "autotypenumbers": "strict",
          "coloraxis": {
           "colorbar": {
            "outlinewidth": 0,
            "ticks": ""
           }
          },
          "colorscale": {
           "diverging": [
            [
             0,
             "#8e0152"
            ],
            [
             0.1,
             "#c51b7d"
            ],
            [
             0.2,
             "#de77ae"
            ],
            [
             0.3,
             "#f1b6da"
            ],
            [
             0.4,
             "#fde0ef"
            ],
            [
             0.5,
             "#f7f7f7"
            ],
            [
             0.6,
             "#e6f5d0"
            ],
            [
             0.7,
             "#b8e186"
            ],
            [
             0.8,
             "#7fbc41"
            ],
            [
             0.9,
             "#4d9221"
            ],
            [
             1,
             "#276419"
            ]
           ],
           "sequential": [
            [
             0,
             "#0d0887"
            ],
            [
             0.1111111111111111,
             "#46039f"
            ],
            [
             0.2222222222222222,
             "#7201a8"
            ],
            [
             0.3333333333333333,
             "#9c179e"
            ],
            [
             0.4444444444444444,
             "#bd3786"
            ],
            [
             0.5555555555555556,
             "#d8576b"
            ],
            [
             0.6666666666666666,
             "#ed7953"
            ],
            [
             0.7777777777777778,
             "#fb9f3a"
            ],
            [
             0.8888888888888888,
             "#fdca26"
            ],
            [
             1,
             "#f0f921"
            ]
           ],
           "sequentialminus": [
            [
             0,
             "#0d0887"
            ],
            [
             0.1111111111111111,
             "#46039f"
            ],
            [
             0.2222222222222222,
             "#7201a8"
            ],
            [
             0.3333333333333333,
             "#9c179e"
            ],
            [
             0.4444444444444444,
             "#bd3786"
            ],
            [
             0.5555555555555556,
             "#d8576b"
            ],
            [
             0.6666666666666666,
             "#ed7953"
            ],
            [
             0.7777777777777778,
             "#fb9f3a"
            ],
            [
             0.8888888888888888,
             "#fdca26"
            ],
            [
             1,
             "#f0f921"
            ]
           ]
          },
          "colorway": [
           "#636efa",
           "#EF553B",
           "#00cc96",
           "#ab63fa",
           "#FFA15A",
           "#19d3f3",
           "#FF6692",
           "#B6E880",
           "#FF97FF",
           "#FECB52"
          ],
          "font": {
           "color": "#2a3f5f"
          },
          "geo": {
           "bgcolor": "white",
           "lakecolor": "white",
           "landcolor": "#E5ECF6",
           "showlakes": true,
           "showland": true,
           "subunitcolor": "white"
          },
          "hoverlabel": {
           "align": "left"
          },
          "hovermode": "closest",
          "mapbox": {
           "style": "light"
          },
          "paper_bgcolor": "white",
          "plot_bgcolor": "#E5ECF6",
          "polar": {
           "angularaxis": {
            "gridcolor": "white",
            "linecolor": "white",
            "ticks": ""
           },
           "bgcolor": "#E5ECF6",
           "radialaxis": {
            "gridcolor": "white",
            "linecolor": "white",
            "ticks": ""
           }
          },
          "scene": {
           "xaxis": {
            "backgroundcolor": "#E5ECF6",
            "gridcolor": "white",
            "gridwidth": 2,
            "linecolor": "white",
            "showbackground": true,
            "ticks": "",
            "zerolinecolor": "white"
           },
           "yaxis": {
            "backgroundcolor": "#E5ECF6",
            "gridcolor": "white",
            "gridwidth": 2,
            "linecolor": "white",
            "showbackground": true,
            "ticks": "",
            "zerolinecolor": "white"
           },
           "zaxis": {
            "backgroundcolor": "#E5ECF6",
            "gridcolor": "white",
            "gridwidth": 2,
            "linecolor": "white",
            "showbackground": true,
            "ticks": "",
            "zerolinecolor": "white"
           }
          },
          "shapedefaults": {
           "line": {
            "color": "#2a3f5f"
           }
          },
          "ternary": {
           "aaxis": {
            "gridcolor": "white",
            "linecolor": "white",
            "ticks": ""
           },
           "baxis": {
            "gridcolor": "white",
            "linecolor": "white",
            "ticks": ""
           },
           "bgcolor": "#E5ECF6",
           "caxis": {
            "gridcolor": "white",
            "linecolor": "white",
            "ticks": ""
           }
          },
          "title": {
           "x": 0.05
          },
          "xaxis": {
           "automargin": true,
           "gridcolor": "white",
           "linecolor": "white",
           "ticks": "",
           "title": {
            "standoff": 15
           },
           "zerolinecolor": "white",
           "zerolinewidth": 2
          },
          "yaxis": {
           "automargin": true,
           "gridcolor": "white",
           "linecolor": "white",
           "ticks": "",
           "title": {
            "standoff": 15
           },
           "zerolinecolor": "white",
           "zerolinewidth": 2
          }
         }
        },
        "title": {
         "text": "Number of visit from various pages"
        },
        "xaxis": {
         "anchor": "y",
         "domain": [
          0,
          1
         ],
         "title": {
          "text": "Page"
         }
        },
        "yaxis": {
         "anchor": "x",
         "domain": [
          0,
          1
         ],
         "title": {
          "text": "Number of Visits"
         }
        }
       }
      },
      "text/html": [
       "<div>                            <div id=\"0abd6283-8a5c-4560-ad0e-9a8aa1e0f632\" class=\"plotly-graph-div\" style=\"height:525px; width:100%;\"></div>            <script type=\"text/javascript\">                require([\"plotly\"], function(Plotly) {                    window.PLOTLYENV=window.PLOTLYENV || {};                                    if (document.getElementById(\"0abd6283-8a5c-4560-ad0e-9a8aa1e0f632\")) {                    Plotly.newPlot(                        \"0abd6283-8a5c-4560-ad0e-9a8aa1e0f632\",                        [{\"alignmentgroup\":\"True\",\"hovertemplate\":\"Page=%{x}<br>Number of Visits=%{y}<extra></extra>\",\"legendgroup\":\"\",\"marker\":{\"color\":\"#636efa\",\"pattern\":{\"shape\":\"\"}},\"name\":\"\",\"offsetgroup\":\"\",\"orientation\":\"v\",\"showlegend\":false,\"textposition\":\"auto\",\"x\":[\"quickview\",\"youtube\",\"basket.html\",\"signin.html\",\"mens+t+shirts\",\"asearch.html\",\"store.html\",\"bags\",\"electronics\",\"apparel\",\"fun\",\"drinkware\",\"google\",\"headgear\",\"audio\",\"water+bottles+and+tumblers\",\"accessories\",\"yourinfo.html\",\"notebooks++journals\",\"men++s+t+shirts\"],\"xaxis\":\"x\",\"y\":[172179,126294,114807,54006,52108,48476,42953,35465,31704,30282,26446,26179,25634,23991,23075,22773,22749,22059,21186,21173],\"yaxis\":\"y\",\"type\":\"bar\"}],                        {\"template\":{\"data\":{\"histogram2dcontour\":[{\"type\":\"histogram2dcontour\",\"colorbar\":{\"outlinewidth\":0,\"ticks\":\"\"},\"colorscale\":[[0.0,\"#0d0887\"],[0.1111111111111111,\"#46039f\"],[0.2222222222222222,\"#7201a8\"],[0.3333333333333333,\"#9c179e\"],[0.4444444444444444,\"#bd3786\"],[0.5555555555555556,\"#d8576b\"],[0.6666666666666666,\"#ed7953\"],[0.7777777777777778,\"#fb9f3a\"],[0.8888888888888888,\"#fdca26\"],[1.0,\"#f0f921\"]]}],\"choropleth\":[{\"type\":\"choropleth\",\"colorbar\":{\"outlinewidth\":0,\"ticks\":\"\"}}],\"histogram2d\":[{\"type\":\"histogram2d\",\"colorbar\":{\"outlinewidth\":0,\"ticks\":\"\"},\"colorscale\":[[0.0,\"#0d0887\"],[0.1111111111111111,\"#46039f\"],[0.2222222222222222,\"#7201a8\"],[0.3333333333333333,\"#9c179e\"],[0.4444444444444444,\"#bd3786\"],[0.5555555555555556,\"#d8576b\"],[0.6666666666666666,\"#ed7953\"],[0.7777777777777778,\"#fb9f3a\"],[0.8888888888888888,\"#fdca26\"],[1.0,\"#f0f921\"]]}],\"heatmap\":[{\"type\":\"heatmap\",\"colorbar\":{\"outlinewidth\":0,\"ticks\":\"\"},\"colorscale\":[[0.0,\"#0d0887\"],[0.1111111111111111,\"#46039f\"],[0.2222222222222222,\"#7201a8\"],[0.3333333333333333,\"#9c179e\"],[0.4444444444444444,\"#bd3786\"],[0.5555555555555556,\"#d8576b\"],[0.6666666666666666,\"#ed7953\"],[0.7777777777777778,\"#fb9f3a\"],[0.8888888888888888,\"#fdca26\"],[1.0,\"#f0f921\"]]}],\"heatmapgl\":[{\"type\":\"heatmapgl\",\"colorbar\":{\"outlinewidth\":0,\"ticks\":\"\"},\"colorscale\":[[0.0,\"#0d0887\"],[0.1111111111111111,\"#46039f\"],[0.2222222222222222,\"#7201a8\"],[0.3333333333333333,\"#9c179e\"],[0.4444444444444444,\"#bd3786\"],[0.5555555555555556,\"#d8576b\"],[0.6666666666666666,\"#ed7953\"],[0.7777777777777778,\"#fb9f3a\"],[0.8888888888888888,\"#fdca26\"],[1.0,\"#f0f921\"]]}],\"contourcarpet\":[{\"type\":\"contourcarpet\",\"colorbar\":{\"outlinewidth\":0,\"ticks\":\"\"}}],\"contour\":[{\"type\":\"contour\",\"colorbar\":{\"outlinewidth\":0,\"ticks\":\"\"},\"colorscale\":[[0.0,\"#0d0887\"],[0.1111111111111111,\"#46039f\"],[0.2222222222222222,\"#7201a8\"],[0.3333333333333333,\"#9c179e\"],[0.4444444444444444,\"#bd3786\"],[0.5555555555555556,\"#d8576b\"],[0.6666666666666666,\"#ed7953\"],[0.7777777777777778,\"#fb9f3a\"],[0.8888888888888888,\"#fdca26\"],[1.0,\"#f0f921\"]]}],\"surface\":[{\"type\":\"surface\",\"colorbar\":{\"outlinewidth\":0,\"ticks\":\"\"},\"colorscale\":[[0.0,\"#0d0887\"],[0.1111111111111111,\"#46039f\"],[0.2222222222222222,\"#7201a8\"],[0.3333333333333333,\"#9c179e\"],[0.4444444444444444,\"#bd3786\"],[0.5555555555555556,\"#d8576b\"],[0.6666666666666666,\"#ed7953\"],[0.7777777777777778,\"#fb9f3a\"],[0.8888888888888888,\"#fdca26\"],[1.0,\"#f0f921\"]]}],\"mesh3d\":[{\"type\":\"mesh3d\",\"colorbar\":{\"outlinewidth\":0,\"ticks\":\"\"}}],\"scatter\":[{\"fillpattern\":{\"fillmode\":\"overlay\",\"size\":10,\"solidity\":0.2},\"type\":\"scatter\"}],\"parcoords\":[{\"type\":\"parcoords\",\"line\":{\"colorbar\":{\"outlinewidth\":0,\"ticks\":\"\"}}}],\"scatterpolargl\":[{\"type\":\"scatterpolargl\",\"marker\":{\"colorbar\":{\"outlinewidth\":0,\"ticks\":\"\"}}}],\"bar\":[{\"error_x\":{\"color\":\"#2a3f5f\"},\"error_y\":{\"color\":\"#2a3f5f\"},\"marker\":{\"line\":{\"color\":\"#E5ECF6\",\"width\":0.5},\"pattern\":{\"fillmode\":\"overlay\",\"size\":10,\"solidity\":0.2}},\"type\":\"bar\"}],\"scattergeo\":[{\"type\":\"scattergeo\",\"marker\":{\"colorbar\":{\"outlinewidth\":0,\"ticks\":\"\"}}}],\"scatterpolar\":[{\"type\":\"scatterpolar\",\"marker\":{\"colorbar\":{\"outlinewidth\":0,\"ticks\":\"\"}}}],\"histogram\":[{\"marker\":{\"pattern\":{\"fillmode\":\"overlay\",\"size\":10,\"solidity\":0.2}},\"type\":\"histogram\"}],\"scattergl\":[{\"type\":\"scattergl\",\"marker\":{\"colorbar\":{\"outlinewidth\":0,\"ticks\":\"\"}}}],\"scatter3d\":[{\"type\":\"scatter3d\",\"line\":{\"colorbar\":{\"outlinewidth\":0,\"ticks\":\"\"}},\"marker\":{\"colorbar\":{\"outlinewidth\":0,\"ticks\":\"\"}}}],\"scattermapbox\":[{\"type\":\"scattermapbox\",\"marker\":{\"colorbar\":{\"outlinewidth\":0,\"ticks\":\"\"}}}],\"scatterternary\":[{\"type\":\"scatterternary\",\"marker\":{\"colorbar\":{\"outlinewidth\":0,\"ticks\":\"\"}}}],\"scattercarpet\":[{\"type\":\"scattercarpet\",\"marker\":{\"colorbar\":{\"outlinewidth\":0,\"ticks\":\"\"}}}],\"carpet\":[{\"aaxis\":{\"endlinecolor\":\"#2a3f5f\",\"gridcolor\":\"white\",\"linecolor\":\"white\",\"minorgridcolor\":\"white\",\"startlinecolor\":\"#2a3f5f\"},\"baxis\":{\"endlinecolor\":\"#2a3f5f\",\"gridcolor\":\"white\",\"linecolor\":\"white\",\"minorgridcolor\":\"white\",\"startlinecolor\":\"#2a3f5f\"},\"type\":\"carpet\"}],\"table\":[{\"cells\":{\"fill\":{\"color\":\"#EBF0F8\"},\"line\":{\"color\":\"white\"}},\"header\":{\"fill\":{\"color\":\"#C8D4E3\"},\"line\":{\"color\":\"white\"}},\"type\":\"table\"}],\"barpolar\":[{\"marker\":{\"line\":{\"color\":\"#E5ECF6\",\"width\":0.5},\"pattern\":{\"fillmode\":\"overlay\",\"size\":10,\"solidity\":0.2}},\"type\":\"barpolar\"}],\"pie\":[{\"automargin\":true,\"type\":\"pie\"}]},\"layout\":{\"autotypenumbers\":\"strict\",\"colorway\":[\"#636efa\",\"#EF553B\",\"#00cc96\",\"#ab63fa\",\"#FFA15A\",\"#19d3f3\",\"#FF6692\",\"#B6E880\",\"#FF97FF\",\"#FECB52\"],\"font\":{\"color\":\"#2a3f5f\"},\"hovermode\":\"closest\",\"hoverlabel\":{\"align\":\"left\"},\"paper_bgcolor\":\"white\",\"plot_bgcolor\":\"#E5ECF6\",\"polar\":{\"bgcolor\":\"#E5ECF6\",\"angularaxis\":{\"gridcolor\":\"white\",\"linecolor\":\"white\",\"ticks\":\"\"},\"radialaxis\":{\"gridcolor\":\"white\",\"linecolor\":\"white\",\"ticks\":\"\"}},\"ternary\":{\"bgcolor\":\"#E5ECF6\",\"aaxis\":{\"gridcolor\":\"white\",\"linecolor\":\"white\",\"ticks\":\"\"},\"baxis\":{\"gridcolor\":\"white\",\"linecolor\":\"white\",\"ticks\":\"\"},\"caxis\":{\"gridcolor\":\"white\",\"linecolor\":\"white\",\"ticks\":\"\"}},\"coloraxis\":{\"colorbar\":{\"outlinewidth\":0,\"ticks\":\"\"}},\"colorscale\":{\"sequential\":[[0.0,\"#0d0887\"],[0.1111111111111111,\"#46039f\"],[0.2222222222222222,\"#7201a8\"],[0.3333333333333333,\"#9c179e\"],[0.4444444444444444,\"#bd3786\"],[0.5555555555555556,\"#d8576b\"],[0.6666666666666666,\"#ed7953\"],[0.7777777777777778,\"#fb9f3a\"],[0.8888888888888888,\"#fdca26\"],[1.0,\"#f0f921\"]],\"sequentialminus\":[[0.0,\"#0d0887\"],[0.1111111111111111,\"#46039f\"],[0.2222222222222222,\"#7201a8\"],[0.3333333333333333,\"#9c179e\"],[0.4444444444444444,\"#bd3786\"],[0.5555555555555556,\"#d8576b\"],[0.6666666666666666,\"#ed7953\"],[0.7777777777777778,\"#fb9f3a\"],[0.8888888888888888,\"#fdca26\"],[1.0,\"#f0f921\"]],\"diverging\":[[0,\"#8e0152\"],[0.1,\"#c51b7d\"],[0.2,\"#de77ae\"],[0.3,\"#f1b6da\"],[0.4,\"#fde0ef\"],[0.5,\"#f7f7f7\"],[0.6,\"#e6f5d0\"],[0.7,\"#b8e186\"],[0.8,\"#7fbc41\"],[0.9,\"#4d9221\"],[1,\"#276419\"]]},\"xaxis\":{\"gridcolor\":\"white\",\"linecolor\":\"white\",\"ticks\":\"\",\"title\":{\"standoff\":15},\"zerolinecolor\":\"white\",\"automargin\":true,\"zerolinewidth\":2},\"yaxis\":{\"gridcolor\":\"white\",\"linecolor\":\"white\",\"ticks\":\"\",\"title\":{\"standoff\":15},\"zerolinecolor\":\"white\",\"automargin\":true,\"zerolinewidth\":2},\"scene\":{\"xaxis\":{\"backgroundcolor\":\"#E5ECF6\",\"gridcolor\":\"white\",\"linecolor\":\"white\",\"showbackground\":true,\"ticks\":\"\",\"zerolinecolor\":\"white\",\"gridwidth\":2},\"yaxis\":{\"backgroundcolor\":\"#E5ECF6\",\"gridcolor\":\"white\",\"linecolor\":\"white\",\"showbackground\":true,\"ticks\":\"\",\"zerolinecolor\":\"white\",\"gridwidth\":2},\"zaxis\":{\"backgroundcolor\":\"#E5ECF6\",\"gridcolor\":\"white\",\"linecolor\":\"white\",\"showbackground\":true,\"ticks\":\"\",\"zerolinecolor\":\"white\",\"gridwidth\":2}},\"shapedefaults\":{\"line\":{\"color\":\"#2a3f5f\"}},\"annotationdefaults\":{\"arrowcolor\":\"#2a3f5f\",\"arrowhead\":0,\"arrowwidth\":1},\"geo\":{\"bgcolor\":\"white\",\"landcolor\":\"#E5ECF6\",\"subunitcolor\":\"white\",\"showland\":true,\"showlakes\":true,\"lakecolor\":\"white\"},\"title\":{\"x\":0.05},\"mapbox\":{\"style\":\"light\"}}},\"xaxis\":{\"anchor\":\"y\",\"domain\":[0.0,1.0],\"title\":{\"text\":\"Page\"}},\"yaxis\":{\"anchor\":\"x\",\"domain\":[0.0,1.0],\"title\":{\"text\":\"Number of Visits\"}},\"legend\":{\"tracegroupgap\":0},\"title\":{\"text\":\"Number of visit from various pages\"},\"barmode\":\"relative\"},                        {\"responsive\": true}                    ).then(function(){\n",
       "                            \n",
       "var gd = document.getElementById('0abd6283-8a5c-4560-ad0e-9a8aa1e0f632');\n",
       "var x = new MutationObserver(function (mutations, observer) {{\n",
       "        var display = window.getComputedStyle(gd).display;\n",
       "        if (!display || display === 'none') {{\n",
       "            console.log([gd, 'removed!']);\n",
       "            Plotly.purge(gd);\n",
       "            observer.disconnect();\n",
       "        }}\n",
       "}});\n",
       "\n",
       "// Listen for the removal of the full notebook cells\n",
       "var notebookContainer = gd.closest('#notebook-container');\n",
       "if (notebookContainer) {{\n",
       "    x.observe(notebookContainer, {childList: true});\n",
       "}}\n",
       "\n",
       "// Listen for the clearing of the current output cell\n",
       "var outputEl = gd.closest('.output');\n",
       "if (outputEl) {{\n",
       "    x.observe(outputEl, {childList: true});\n",
       "}}\n",
       "\n",
       "                        })                };                });            </script>        </div>"
      ]
     },
     "metadata": {},
     "output_type": "display_data"
    }
   ],
   "source": [
    "# Most visited pages\n",
    "\n",
    "query = \"\"\"\n",
    "SELECT\n",
    "  SUBSTRING(hit.page.pagePath, INSTR(hit.page.pagePath, '/', -1) + 1) page,\n",
    "  COUNT(hit.page.pagePath) number_of_visits\n",
    "FROM `bigquery-public-data.google_analytics_sample.ga_sessions_*` h, UNNEST(h.hits) hit\n",
    "WHERE _TABLE_SUFFIX BETWEEN '20170101' AND '20170731'\n",
    "GROUP BY page\n",
    "ORDER BY number_of_visits DESC\n",
    "\"\"\"\n",
    "\n",
    "df = client.query(query).to_dataframe()\n",
    "\n",
    "fig = px.bar(df.iloc[1:21, :], x='page', y='number_of_visits',\n",
    "            title='Number of visit from various pages',\n",
    "            labels={'number_of_visits': 'Number of Visits', \n",
    "                    'page': 'Page'})\n",
    "\n",
    "fig.show()"
   ]
  },
  {
   "cell_type": "markdown",
   "id": "023a6cf3",
   "metadata": {},
   "source": [
    "NOTE:\n",
    "- Use UNNEST to Access Nested Fields\n",
    "> When dealing with arrays of structs, you need to use the UNNEST function to flatten the array. "
   ]
  },
  {
   "cell_type": "markdown",
   "id": "863f2093",
   "metadata": {},
   "source": [
    "**Demographics and Behaviors Impact Conversion Rates**"
   ]
  },
  {
   "cell_type": "code",
   "execution_count": 207,
   "id": "ba9e26af",
   "metadata": {
    "scrolled": true
   },
   "outputs": [
    {
     "data": {
      "application/vnd.plotly.v1+json": {
       "config": {
        "plotlyServerURL": "https://plot.ly"
       },
       "data": [
        {
         "domain": {
          "x": [
           0,
           0.45
          ],
          "y": [
           0,
           1
          ]
         },
         "labels": [
          "Americas",
          "Europe",
          "Asia",
          "Oceania",
          "Africa",
          "(not set)"
         ],
         "type": "pie",
         "values": [
          38878,
          15557,
          14645,
          1592,
          1030,
          94
         ]
        },
        {
         "domain": {
          "x": [
           0.55,
           1
          ],
          "y": [
           0,
           1
          ]
         },
         "labels": [
          "Americas",
          "Europe",
          "Asia",
          "Oceania",
          "Africa",
          "(not set)"
         ],
         "type": "pie",
         "values": [
          1052,
          9,
          8,
          0,
          2,
          1
         ]
        }
       ],
       "layout": {
        "annotations": [
         {
          "font": {
           "size": 16
          },
          "showarrow": false,
          "text": "Total Transactions by Region",
          "x": 0.225,
          "xanchor": "center",
          "xref": "paper",
          "y": 1,
          "yanchor": "bottom",
          "yref": "paper"
         },
         {
          "font": {
           "size": 16
          },
          "showarrow": false,
          "text": "Total Views by Region",
          "x": 0.775,
          "xanchor": "center",
          "xref": "paper",
          "y": 1,
          "yanchor": "bottom",
          "yref": "paper"
         }
        ],
        "template": {
         "data": {
          "bar": [
           {
            "error_x": {
             "color": "#2a3f5f"
            },
            "error_y": {
             "color": "#2a3f5f"
            },
            "marker": {
             "line": {
              "color": "#E5ECF6",
              "width": 0.5
             },
             "pattern": {
              "fillmode": "overlay",
              "size": 10,
              "solidity": 0.2
             }
            },
            "type": "bar"
           }
          ],
          "barpolar": [
           {
            "marker": {
             "line": {
              "color": "#E5ECF6",
              "width": 0.5
             },
             "pattern": {
              "fillmode": "overlay",
              "size": 10,
              "solidity": 0.2
             }
            },
            "type": "barpolar"
           }
          ],
          "carpet": [
           {
            "aaxis": {
             "endlinecolor": "#2a3f5f",
             "gridcolor": "white",
             "linecolor": "white",
             "minorgridcolor": "white",
             "startlinecolor": "#2a3f5f"
            },
            "baxis": {
             "endlinecolor": "#2a3f5f",
             "gridcolor": "white",
             "linecolor": "white",
             "minorgridcolor": "white",
             "startlinecolor": "#2a3f5f"
            },
            "type": "carpet"
           }
          ],
          "choropleth": [
           {
            "colorbar": {
             "outlinewidth": 0,
             "ticks": ""
            },
            "type": "choropleth"
           }
          ],
          "contour": [
           {
            "colorbar": {
             "outlinewidth": 0,
             "ticks": ""
            },
            "colorscale": [
             [
              0,
              "#0d0887"
             ],
             [
              0.1111111111111111,
              "#46039f"
             ],
             [
              0.2222222222222222,
              "#7201a8"
             ],
             [
              0.3333333333333333,
              "#9c179e"
             ],
             [
              0.4444444444444444,
              "#bd3786"
             ],
             [
              0.5555555555555556,
              "#d8576b"
             ],
             [
              0.6666666666666666,
              "#ed7953"
             ],
             [
              0.7777777777777778,
              "#fb9f3a"
             ],
             [
              0.8888888888888888,
              "#fdca26"
             ],
             [
              1,
              "#f0f921"
             ]
            ],
            "type": "contour"
           }
          ],
          "contourcarpet": [
           {
            "colorbar": {
             "outlinewidth": 0,
             "ticks": ""
            },
            "type": "contourcarpet"
           }
          ],
          "heatmap": [
           {
            "colorbar": {
             "outlinewidth": 0,
             "ticks": ""
            },
            "colorscale": [
             [
              0,
              "#0d0887"
             ],
             [
              0.1111111111111111,
              "#46039f"
             ],
             [
              0.2222222222222222,
              "#7201a8"
             ],
             [
              0.3333333333333333,
              "#9c179e"
             ],
             [
              0.4444444444444444,
              "#bd3786"
             ],
             [
              0.5555555555555556,
              "#d8576b"
             ],
             [
              0.6666666666666666,
              "#ed7953"
             ],
             [
              0.7777777777777778,
              "#fb9f3a"
             ],
             [
              0.8888888888888888,
              "#fdca26"
             ],
             [
              1,
              "#f0f921"
             ]
            ],
            "type": "heatmap"
           }
          ],
          "heatmapgl": [
           {
            "colorbar": {
             "outlinewidth": 0,
             "ticks": ""
            },
            "colorscale": [
             [
              0,
              "#0d0887"
             ],
             [
              0.1111111111111111,
              "#46039f"
             ],
             [
              0.2222222222222222,
              "#7201a8"
             ],
             [
              0.3333333333333333,
              "#9c179e"
             ],
             [
              0.4444444444444444,
              "#bd3786"
             ],
             [
              0.5555555555555556,
              "#d8576b"
             ],
             [
              0.6666666666666666,
              "#ed7953"
             ],
             [
              0.7777777777777778,
              "#fb9f3a"
             ],
             [
              0.8888888888888888,
              "#fdca26"
             ],
             [
              1,
              "#f0f921"
             ]
            ],
            "type": "heatmapgl"
           }
          ],
          "histogram": [
           {
            "marker": {
             "pattern": {
              "fillmode": "overlay",
              "size": 10,
              "solidity": 0.2
             }
            },
            "type": "histogram"
           }
          ],
          "histogram2d": [
           {
            "colorbar": {
             "outlinewidth": 0,
             "ticks": ""
            },
            "colorscale": [
             [
              0,
              "#0d0887"
             ],
             [
              0.1111111111111111,
              "#46039f"
             ],
             [
              0.2222222222222222,
              "#7201a8"
             ],
             [
              0.3333333333333333,
              "#9c179e"
             ],
             [
              0.4444444444444444,
              "#bd3786"
             ],
             [
              0.5555555555555556,
              "#d8576b"
             ],
             [
              0.6666666666666666,
              "#ed7953"
             ],
             [
              0.7777777777777778,
              "#fb9f3a"
             ],
             [
              0.8888888888888888,
              "#fdca26"
             ],
             [
              1,
              "#f0f921"
             ]
            ],
            "type": "histogram2d"
           }
          ],
          "histogram2dcontour": [
           {
            "colorbar": {
             "outlinewidth": 0,
             "ticks": ""
            },
            "colorscale": [
             [
              0,
              "#0d0887"
             ],
             [
              0.1111111111111111,
              "#46039f"
             ],
             [
              0.2222222222222222,
              "#7201a8"
             ],
             [
              0.3333333333333333,
              "#9c179e"
             ],
             [
              0.4444444444444444,
              "#bd3786"
             ],
             [
              0.5555555555555556,
              "#d8576b"
             ],
             [
              0.6666666666666666,
              "#ed7953"
             ],
             [
              0.7777777777777778,
              "#fb9f3a"
             ],
             [
              0.8888888888888888,
              "#fdca26"
             ],
             [
              1,
              "#f0f921"
             ]
            ],
            "type": "histogram2dcontour"
           }
          ],
          "mesh3d": [
           {
            "colorbar": {
             "outlinewidth": 0,
             "ticks": ""
            },
            "type": "mesh3d"
           }
          ],
          "parcoords": [
           {
            "line": {
             "colorbar": {
              "outlinewidth": 0,
              "ticks": ""
             }
            },
            "type": "parcoords"
           }
          ],
          "pie": [
           {
            "automargin": true,
            "type": "pie"
           }
          ],
          "scatter": [
           {
            "fillpattern": {
             "fillmode": "overlay",
             "size": 10,
             "solidity": 0.2
            },
            "type": "scatter"
           }
          ],
          "scatter3d": [
           {
            "line": {
             "colorbar": {
              "outlinewidth": 0,
              "ticks": ""
             }
            },
            "marker": {
             "colorbar": {
              "outlinewidth": 0,
              "ticks": ""
             }
            },
            "type": "scatter3d"
           }
          ],
          "scattercarpet": [
           {
            "marker": {
             "colorbar": {
              "outlinewidth": 0,
              "ticks": ""
             }
            },
            "type": "scattercarpet"
           }
          ],
          "scattergeo": [
           {
            "marker": {
             "colorbar": {
              "outlinewidth": 0,
              "ticks": ""
             }
            },
            "type": "scattergeo"
           }
          ],
          "scattergl": [
           {
            "marker": {
             "colorbar": {
              "outlinewidth": 0,
              "ticks": ""
             }
            },
            "type": "scattergl"
           }
          ],
          "scattermapbox": [
           {
            "marker": {
             "colorbar": {
              "outlinewidth": 0,
              "ticks": ""
             }
            },
            "type": "scattermapbox"
           }
          ],
          "scatterpolar": [
           {
            "marker": {
             "colorbar": {
              "outlinewidth": 0,
              "ticks": ""
             }
            },
            "type": "scatterpolar"
           }
          ],
          "scatterpolargl": [
           {
            "marker": {
             "colorbar": {
              "outlinewidth": 0,
              "ticks": ""
             }
            },
            "type": "scatterpolargl"
           }
          ],
          "scatterternary": [
           {
            "marker": {
             "colorbar": {
              "outlinewidth": 0,
              "ticks": ""
             }
            },
            "type": "scatterternary"
           }
          ],
          "surface": [
           {
            "colorbar": {
             "outlinewidth": 0,
             "ticks": ""
            },
            "colorscale": [
             [
              0,
              "#0d0887"
             ],
             [
              0.1111111111111111,
              "#46039f"
             ],
             [
              0.2222222222222222,
              "#7201a8"
             ],
             [
              0.3333333333333333,
              "#9c179e"
             ],
             [
              0.4444444444444444,
              "#bd3786"
             ],
             [
              0.5555555555555556,
              "#d8576b"
             ],
             [
              0.6666666666666666,
              "#ed7953"
             ],
             [
              0.7777777777777778,
              "#fb9f3a"
             ],
             [
              0.8888888888888888,
              "#fdca26"
             ],
             [
              1,
              "#f0f921"
             ]
            ],
            "type": "surface"
           }
          ],
          "table": [
           {
            "cells": {
             "fill": {
              "color": "#EBF0F8"
             },
             "line": {
              "color": "white"
             }
            },
            "header": {
             "fill": {
              "color": "#C8D4E3"
             },
             "line": {
              "color": "white"
             }
            },
            "type": "table"
           }
          ]
         },
         "layout": {
          "annotationdefaults": {
           "arrowcolor": "#2a3f5f",
           "arrowhead": 0,
           "arrowwidth": 1
          },
          "autotypenumbers": "strict",
          "coloraxis": {
           "colorbar": {
            "outlinewidth": 0,
            "ticks": ""
           }
          },
          "colorscale": {
           "diverging": [
            [
             0,
             "#8e0152"
            ],
            [
             0.1,
             "#c51b7d"
            ],
            [
             0.2,
             "#de77ae"
            ],
            [
             0.3,
             "#f1b6da"
            ],
            [
             0.4,
             "#fde0ef"
            ],
            [
             0.5,
             "#f7f7f7"
            ],
            [
             0.6,
             "#e6f5d0"
            ],
            [
             0.7,
             "#b8e186"
            ],
            [
             0.8,
             "#7fbc41"
            ],
            [
             0.9,
             "#4d9221"
            ],
            [
             1,
             "#276419"
            ]
           ],
           "sequential": [
            [
             0,
             "#0d0887"
            ],
            [
             0.1111111111111111,
             "#46039f"
            ],
            [
             0.2222222222222222,
             "#7201a8"
            ],
            [
             0.3333333333333333,
             "#9c179e"
            ],
            [
             0.4444444444444444,
             "#bd3786"
            ],
            [
             0.5555555555555556,
             "#d8576b"
            ],
            [
             0.6666666666666666,
             "#ed7953"
            ],
            [
             0.7777777777777778,
             "#fb9f3a"
            ],
            [
             0.8888888888888888,
             "#fdca26"
            ],
            [
             1,
             "#f0f921"
            ]
           ],
           "sequentialminus": [
            [
             0,
             "#0d0887"
            ],
            [
             0.1111111111111111,
             "#46039f"
            ],
            [
             0.2222222222222222,
             "#7201a8"
            ],
            [
             0.3333333333333333,
             "#9c179e"
            ],
            [
             0.4444444444444444,
             "#bd3786"
            ],
            [
             0.5555555555555556,
             "#d8576b"
            ],
            [
             0.6666666666666666,
             "#ed7953"
            ],
            [
             0.7777777777777778,
             "#fb9f3a"
            ],
            [
             0.8888888888888888,
             "#fdca26"
            ],
            [
             1,
             "#f0f921"
            ]
           ]
          },
          "colorway": [
           "#636efa",
           "#EF553B",
           "#00cc96",
           "#ab63fa",
           "#FFA15A",
           "#19d3f3",
           "#FF6692",
           "#B6E880",
           "#FF97FF",
           "#FECB52"
          ],
          "font": {
           "color": "#2a3f5f"
          },
          "geo": {
           "bgcolor": "white",
           "lakecolor": "white",
           "landcolor": "#E5ECF6",
           "showlakes": true,
           "showland": true,
           "subunitcolor": "white"
          },
          "hoverlabel": {
           "align": "left"
          },
          "hovermode": "closest",
          "mapbox": {
           "style": "light"
          },
          "paper_bgcolor": "white",
          "plot_bgcolor": "#E5ECF6",
          "polar": {
           "angularaxis": {
            "gridcolor": "white",
            "linecolor": "white",
            "ticks": ""
           },
           "bgcolor": "#E5ECF6",
           "radialaxis": {
            "gridcolor": "white",
            "linecolor": "white",
            "ticks": ""
           }
          },
          "scene": {
           "xaxis": {
            "backgroundcolor": "#E5ECF6",
            "gridcolor": "white",
            "gridwidth": 2,
            "linecolor": "white",
            "showbackground": true,
            "ticks": "",
            "zerolinecolor": "white"
           },
           "yaxis": {
            "backgroundcolor": "#E5ECF6",
            "gridcolor": "white",
            "gridwidth": 2,
            "linecolor": "white",
            "showbackground": true,
            "ticks": "",
            "zerolinecolor": "white"
           },
           "zaxis": {
            "backgroundcolor": "#E5ECF6",
            "gridcolor": "white",
            "gridwidth": 2,
            "linecolor": "white",
            "showbackground": true,
            "ticks": "",
            "zerolinecolor": "white"
           }
          },
          "shapedefaults": {
           "line": {
            "color": "#2a3f5f"
           }
          },
          "ternary": {
           "aaxis": {
            "gridcolor": "white",
            "linecolor": "white",
            "ticks": ""
           },
           "baxis": {
            "gridcolor": "white",
            "linecolor": "white",
            "ticks": ""
           },
           "bgcolor": "#E5ECF6",
           "caxis": {
            "gridcolor": "white",
            "linecolor": "white",
            "ticks": ""
           }
          },
          "title": {
           "x": 0.05
          },
          "xaxis": {
           "automargin": true,
           "gridcolor": "white",
           "linecolor": "white",
           "ticks": "",
           "title": {
            "standoff": 15
           },
           "zerolinecolor": "white",
           "zerolinewidth": 2
          },
          "yaxis": {
           "automargin": true,
           "gridcolor": "white",
           "linecolor": "white",
           "ticks": "",
           "title": {
            "standoff": 15
           },
           "zerolinecolor": "white",
           "zerolinewidth": 2
          }
         }
        }
       }
      },
      "text/html": [
       "<div>                            <div id=\"01a2d01b-966d-4d40-aa8f-5f748d5e8726\" class=\"plotly-graph-div\" style=\"height:525px; width:100%;\"></div>            <script type=\"text/javascript\">                require([\"plotly\"], function(Plotly) {                    window.PLOTLYENV=window.PLOTLYENV || {};                                    if (document.getElementById(\"01a2d01b-966d-4d40-aa8f-5f748d5e8726\")) {                    Plotly.newPlot(                        \"01a2d01b-966d-4d40-aa8f-5f748d5e8726\",                        [{\"labels\":[\"Americas\",\"Europe\",\"Asia\",\"Oceania\",\"Africa\",\"(not set)\"],\"values\":[38878,15557,14645,1592,1030,94],\"type\":\"pie\",\"domain\":{\"x\":[0.0,0.45],\"y\":[0.0,1.0]}},{\"labels\":[\"Americas\",\"Europe\",\"Asia\",\"Oceania\",\"Africa\",\"(not set)\"],\"values\":[1052,9,8,0,2,1],\"type\":\"pie\",\"domain\":{\"x\":[0.55,1.0],\"y\":[0.0,1.0]}}],                        {\"template\":{\"data\":{\"histogram2dcontour\":[{\"type\":\"histogram2dcontour\",\"colorbar\":{\"outlinewidth\":0,\"ticks\":\"\"},\"colorscale\":[[0.0,\"#0d0887\"],[0.1111111111111111,\"#46039f\"],[0.2222222222222222,\"#7201a8\"],[0.3333333333333333,\"#9c179e\"],[0.4444444444444444,\"#bd3786\"],[0.5555555555555556,\"#d8576b\"],[0.6666666666666666,\"#ed7953\"],[0.7777777777777778,\"#fb9f3a\"],[0.8888888888888888,\"#fdca26\"],[1.0,\"#f0f921\"]]}],\"choropleth\":[{\"type\":\"choropleth\",\"colorbar\":{\"outlinewidth\":0,\"ticks\":\"\"}}],\"histogram2d\":[{\"type\":\"histogram2d\",\"colorbar\":{\"outlinewidth\":0,\"ticks\":\"\"},\"colorscale\":[[0.0,\"#0d0887\"],[0.1111111111111111,\"#46039f\"],[0.2222222222222222,\"#7201a8\"],[0.3333333333333333,\"#9c179e\"],[0.4444444444444444,\"#bd3786\"],[0.5555555555555556,\"#d8576b\"],[0.6666666666666666,\"#ed7953\"],[0.7777777777777778,\"#fb9f3a\"],[0.8888888888888888,\"#fdca26\"],[1.0,\"#f0f921\"]]}],\"heatmap\":[{\"type\":\"heatmap\",\"colorbar\":{\"outlinewidth\":0,\"ticks\":\"\"},\"colorscale\":[[0.0,\"#0d0887\"],[0.1111111111111111,\"#46039f\"],[0.2222222222222222,\"#7201a8\"],[0.3333333333333333,\"#9c179e\"],[0.4444444444444444,\"#bd3786\"],[0.5555555555555556,\"#d8576b\"],[0.6666666666666666,\"#ed7953\"],[0.7777777777777778,\"#fb9f3a\"],[0.8888888888888888,\"#fdca26\"],[1.0,\"#f0f921\"]]}],\"heatmapgl\":[{\"type\":\"heatmapgl\",\"colorbar\":{\"outlinewidth\":0,\"ticks\":\"\"},\"colorscale\":[[0.0,\"#0d0887\"],[0.1111111111111111,\"#46039f\"],[0.2222222222222222,\"#7201a8\"],[0.3333333333333333,\"#9c179e\"],[0.4444444444444444,\"#bd3786\"],[0.5555555555555556,\"#d8576b\"],[0.6666666666666666,\"#ed7953\"],[0.7777777777777778,\"#fb9f3a\"],[0.8888888888888888,\"#fdca26\"],[1.0,\"#f0f921\"]]}],\"contourcarpet\":[{\"type\":\"contourcarpet\",\"colorbar\":{\"outlinewidth\":0,\"ticks\":\"\"}}],\"contour\":[{\"type\":\"contour\",\"colorbar\":{\"outlinewidth\":0,\"ticks\":\"\"},\"colorscale\":[[0.0,\"#0d0887\"],[0.1111111111111111,\"#46039f\"],[0.2222222222222222,\"#7201a8\"],[0.3333333333333333,\"#9c179e\"],[0.4444444444444444,\"#bd3786\"],[0.5555555555555556,\"#d8576b\"],[0.6666666666666666,\"#ed7953\"],[0.7777777777777778,\"#fb9f3a\"],[0.8888888888888888,\"#fdca26\"],[1.0,\"#f0f921\"]]}],\"surface\":[{\"type\":\"surface\",\"colorbar\":{\"outlinewidth\":0,\"ticks\":\"\"},\"colorscale\":[[0.0,\"#0d0887\"],[0.1111111111111111,\"#46039f\"],[0.2222222222222222,\"#7201a8\"],[0.3333333333333333,\"#9c179e\"],[0.4444444444444444,\"#bd3786\"],[0.5555555555555556,\"#d8576b\"],[0.6666666666666666,\"#ed7953\"],[0.7777777777777778,\"#fb9f3a\"],[0.8888888888888888,\"#fdca26\"],[1.0,\"#f0f921\"]]}],\"mesh3d\":[{\"type\":\"mesh3d\",\"colorbar\":{\"outlinewidth\":0,\"ticks\":\"\"}}],\"scatter\":[{\"fillpattern\":{\"fillmode\":\"overlay\",\"size\":10,\"solidity\":0.2},\"type\":\"scatter\"}],\"parcoords\":[{\"type\":\"parcoords\",\"line\":{\"colorbar\":{\"outlinewidth\":0,\"ticks\":\"\"}}}],\"scatterpolargl\":[{\"type\":\"scatterpolargl\",\"marker\":{\"colorbar\":{\"outlinewidth\":0,\"ticks\":\"\"}}}],\"bar\":[{\"error_x\":{\"color\":\"#2a3f5f\"},\"error_y\":{\"color\":\"#2a3f5f\"},\"marker\":{\"line\":{\"color\":\"#E5ECF6\",\"width\":0.5},\"pattern\":{\"fillmode\":\"overlay\",\"size\":10,\"solidity\":0.2}},\"type\":\"bar\"}],\"scattergeo\":[{\"type\":\"scattergeo\",\"marker\":{\"colorbar\":{\"outlinewidth\":0,\"ticks\":\"\"}}}],\"scatterpolar\":[{\"type\":\"scatterpolar\",\"marker\":{\"colorbar\":{\"outlinewidth\":0,\"ticks\":\"\"}}}],\"histogram\":[{\"marker\":{\"pattern\":{\"fillmode\":\"overlay\",\"size\":10,\"solidity\":0.2}},\"type\":\"histogram\"}],\"scattergl\":[{\"type\":\"scattergl\",\"marker\":{\"colorbar\":{\"outlinewidth\":0,\"ticks\":\"\"}}}],\"scatter3d\":[{\"type\":\"scatter3d\",\"line\":{\"colorbar\":{\"outlinewidth\":0,\"ticks\":\"\"}},\"marker\":{\"colorbar\":{\"outlinewidth\":0,\"ticks\":\"\"}}}],\"scattermapbox\":[{\"type\":\"scattermapbox\",\"marker\":{\"colorbar\":{\"outlinewidth\":0,\"ticks\":\"\"}}}],\"scatterternary\":[{\"type\":\"scatterternary\",\"marker\":{\"colorbar\":{\"outlinewidth\":0,\"ticks\":\"\"}}}],\"scattercarpet\":[{\"type\":\"scattercarpet\",\"marker\":{\"colorbar\":{\"outlinewidth\":0,\"ticks\":\"\"}}}],\"carpet\":[{\"aaxis\":{\"endlinecolor\":\"#2a3f5f\",\"gridcolor\":\"white\",\"linecolor\":\"white\",\"minorgridcolor\":\"white\",\"startlinecolor\":\"#2a3f5f\"},\"baxis\":{\"endlinecolor\":\"#2a3f5f\",\"gridcolor\":\"white\",\"linecolor\":\"white\",\"minorgridcolor\":\"white\",\"startlinecolor\":\"#2a3f5f\"},\"type\":\"carpet\"}],\"table\":[{\"cells\":{\"fill\":{\"color\":\"#EBF0F8\"},\"line\":{\"color\":\"white\"}},\"header\":{\"fill\":{\"color\":\"#C8D4E3\"},\"line\":{\"color\":\"white\"}},\"type\":\"table\"}],\"barpolar\":[{\"marker\":{\"line\":{\"color\":\"#E5ECF6\",\"width\":0.5},\"pattern\":{\"fillmode\":\"overlay\",\"size\":10,\"solidity\":0.2}},\"type\":\"barpolar\"}],\"pie\":[{\"automargin\":true,\"type\":\"pie\"}]},\"layout\":{\"autotypenumbers\":\"strict\",\"colorway\":[\"#636efa\",\"#EF553B\",\"#00cc96\",\"#ab63fa\",\"#FFA15A\",\"#19d3f3\",\"#FF6692\",\"#B6E880\",\"#FF97FF\",\"#FECB52\"],\"font\":{\"color\":\"#2a3f5f\"},\"hovermode\":\"closest\",\"hoverlabel\":{\"align\":\"left\"},\"paper_bgcolor\":\"white\",\"plot_bgcolor\":\"#E5ECF6\",\"polar\":{\"bgcolor\":\"#E5ECF6\",\"angularaxis\":{\"gridcolor\":\"white\",\"linecolor\":\"white\",\"ticks\":\"\"},\"radialaxis\":{\"gridcolor\":\"white\",\"linecolor\":\"white\",\"ticks\":\"\"}},\"ternary\":{\"bgcolor\":\"#E5ECF6\",\"aaxis\":{\"gridcolor\":\"white\",\"linecolor\":\"white\",\"ticks\":\"\"},\"baxis\":{\"gridcolor\":\"white\",\"linecolor\":\"white\",\"ticks\":\"\"},\"caxis\":{\"gridcolor\":\"white\",\"linecolor\":\"white\",\"ticks\":\"\"}},\"coloraxis\":{\"colorbar\":{\"outlinewidth\":0,\"ticks\":\"\"}},\"colorscale\":{\"sequential\":[[0.0,\"#0d0887\"],[0.1111111111111111,\"#46039f\"],[0.2222222222222222,\"#7201a8\"],[0.3333333333333333,\"#9c179e\"],[0.4444444444444444,\"#bd3786\"],[0.5555555555555556,\"#d8576b\"],[0.6666666666666666,\"#ed7953\"],[0.7777777777777778,\"#fb9f3a\"],[0.8888888888888888,\"#fdca26\"],[1.0,\"#f0f921\"]],\"sequentialminus\":[[0.0,\"#0d0887\"],[0.1111111111111111,\"#46039f\"],[0.2222222222222222,\"#7201a8\"],[0.3333333333333333,\"#9c179e\"],[0.4444444444444444,\"#bd3786\"],[0.5555555555555556,\"#d8576b\"],[0.6666666666666666,\"#ed7953\"],[0.7777777777777778,\"#fb9f3a\"],[0.8888888888888888,\"#fdca26\"],[1.0,\"#f0f921\"]],\"diverging\":[[0,\"#8e0152\"],[0.1,\"#c51b7d\"],[0.2,\"#de77ae\"],[0.3,\"#f1b6da\"],[0.4,\"#fde0ef\"],[0.5,\"#f7f7f7\"],[0.6,\"#e6f5d0\"],[0.7,\"#b8e186\"],[0.8,\"#7fbc41\"],[0.9,\"#4d9221\"],[1,\"#276419\"]]},\"xaxis\":{\"gridcolor\":\"white\",\"linecolor\":\"white\",\"ticks\":\"\",\"title\":{\"standoff\":15},\"zerolinecolor\":\"white\",\"automargin\":true,\"zerolinewidth\":2},\"yaxis\":{\"gridcolor\":\"white\",\"linecolor\":\"white\",\"ticks\":\"\",\"title\":{\"standoff\":15},\"zerolinecolor\":\"white\",\"automargin\":true,\"zerolinewidth\":2},\"scene\":{\"xaxis\":{\"backgroundcolor\":\"#E5ECF6\",\"gridcolor\":\"white\",\"linecolor\":\"white\",\"showbackground\":true,\"ticks\":\"\",\"zerolinecolor\":\"white\",\"gridwidth\":2},\"yaxis\":{\"backgroundcolor\":\"#E5ECF6\",\"gridcolor\":\"white\",\"linecolor\":\"white\",\"showbackground\":true,\"ticks\":\"\",\"zerolinecolor\":\"white\",\"gridwidth\":2},\"zaxis\":{\"backgroundcolor\":\"#E5ECF6\",\"gridcolor\":\"white\",\"linecolor\":\"white\",\"showbackground\":true,\"ticks\":\"\",\"zerolinecolor\":\"white\",\"gridwidth\":2}},\"shapedefaults\":{\"line\":{\"color\":\"#2a3f5f\"}},\"annotationdefaults\":{\"arrowcolor\":\"#2a3f5f\",\"arrowhead\":0,\"arrowwidth\":1},\"geo\":{\"bgcolor\":\"white\",\"landcolor\":\"#E5ECF6\",\"subunitcolor\":\"white\",\"showland\":true,\"showlakes\":true,\"lakecolor\":\"white\"},\"title\":{\"x\":0.05},\"mapbox\":{\"style\":\"light\"}}},\"annotations\":[{\"font\":{\"size\":16},\"showarrow\":false,\"text\":\"Total Transactions by Region\",\"x\":0.225,\"xanchor\":\"center\",\"xref\":\"paper\",\"y\":1.0,\"yanchor\":\"bottom\",\"yref\":\"paper\"},{\"font\":{\"size\":16},\"showarrow\":false,\"text\":\"Total Views by Region\",\"x\":0.775,\"xanchor\":\"center\",\"xref\":\"paper\",\"y\":1.0,\"yanchor\":\"bottom\",\"yref\":\"paper\"}]},                        {\"responsive\": true}                    ).then(function(){\n",
       "                            \n",
       "var gd = document.getElementById('01a2d01b-966d-4d40-aa8f-5f748d5e8726');\n",
       "var x = new MutationObserver(function (mutations, observer) {{\n",
       "        var display = window.getComputedStyle(gd).display;\n",
       "        if (!display || display === 'none') {{\n",
       "            console.log([gd, 'removed!']);\n",
       "            Plotly.purge(gd);\n",
       "            observer.disconnect();\n",
       "        }}\n",
       "}});\n",
       "\n",
       "// Listen for the removal of the full notebook cells\n",
       "var notebookContainer = gd.closest('#notebook-container');\n",
       "if (notebookContainer) {{\n",
       "    x.observe(notebookContainer, {childList: true});\n",
       "}}\n",
       "\n",
       "// Listen for the clearing of the current output cell\n",
       "var outputEl = gd.closest('.output');\n",
       "if (outputEl) {{\n",
       "    x.observe(outputEl, {childList: true});\n",
       "}}\n",
       "\n",
       "                        })                };                });            </script>        </div>"
      ]
     },
     "metadata": {},
     "output_type": "display_data"
    }
   ],
   "source": [
    "# Demographics and behaviors impact conversion rates\n",
    "\n",
    "query = \"\"\"\n",
    "    SELECT \n",
    "      geoNetwork.continent region,\n",
    "      SUM(totals.transactions) total_transactions,\n",
    "      COUNT(totals.pageviews) total_views,\n",
    "      COUNT(totals.bounces) total_bounces,\n",
    "      ROUND(AVG(totals.transactions), 2) avg_transactions,\n",
    "      ROUND(AVG(totals.pageviews), 2) avg_views,\n",
    "      ROUND(SUM(totals.transactions) / COUNT(totals.pageviews), 2) * 100 views_to_transactions\n",
    "    FROM `bigquery-public-data.google_analytics_sample.ga_sessions_*`\n",
    "    WHERE _TABLE_SUFFIX BETWEEN '20170701' AND '20170731'\n",
    "    GROUP BY geoNetwork.continent\n",
    "    ORDER BY total_views DESC\n",
    "\"\"\"\n",
    "\n",
    "df = client.query(query).to_dataframe()\n",
    "df = df.fillna(0)\n",
    "\n",
    "# Create subplots: 1 row, 2 columns\n",
    "fig = make_subplots(rows=1, cols=2,\n",
    "                    subplot_titles=(\"Total Transactions by Region\", \"Total Views by Region\"),\n",
    "                    specs=[[{'type': 'pie'}, {'type': 'pie'}]])\n",
    "\n",
    "# Pie chart for total views by region\n",
    "fig.add_trace(go.Pie(labels=df['region'], values=df['total_views']), row=1, col=1)\n",
    "\n",
    "# Pie chart for total bounces by region\n",
    "fig.add_trace(go.Pie(labels=df['region'], values=df['total_transactions']), row=1, col=2)\n",
    "\n",
    "# Show the plot\n",
    "fig.show()"
   ]
  },
  {
   "cell_type": "code",
   "execution_count": 208,
   "id": "74ab4d20",
   "metadata": {},
   "outputs": [
    {
     "data": {
      "application/vnd.plotly.v1+json": {
       "config": {
        "plotlyServerURL": "https://plot.ly"
       },
       "data": [
        {
         "marker": {
          "color": "blue"
         },
         "name": "Average Transactions",
         "type": "bar",
         "x": [
          "Americas",
          "Europe",
          "Asia",
          "Oceania",
          "Africa",
          "(not set)"
         ],
         "xaxis": "x",
         "y": [
          1.04,
          1,
          1,
          0,
          1,
          1
         ],
         "yaxis": "y"
        },
        {
         "marker": {
          "color": "green"
         },
         "name": "Average Views",
         "type": "bar",
         "x": [
          "Americas",
          "Europe",
          "Asia",
          "Oceania",
          "Africa",
          "(not set)"
         ],
         "xaxis": "x2",
         "y": [
          4.63,
          2.54,
          2.98,
          2.91,
          2.31,
          2.38
         ],
         "yaxis": "y2"
        },
        {
         "marker": {
          "color": "orange"
         },
         "name": "Views to Transactions",
         "type": "bar",
         "x": [
          "Americas",
          "Europe",
          "Asia",
          "Oceania",
          "Africa",
          "(not set)"
         ],
         "xaxis": "x3",
         "y": [
          3,
          0,
          0,
          0,
          0,
          1
         ],
         "yaxis": "y3"
        }
       ],
       "layout": {
        "annotations": [
         {
          "font": {
           "size": 16
          },
          "showarrow": false,
          "text": "Average Transactions by Region",
          "x": 0.14444444444444446,
          "xanchor": "center",
          "xref": "paper",
          "y": 1,
          "yanchor": "bottom",
          "yref": "paper"
         },
         {
          "font": {
           "size": 16
          },
          "showarrow": false,
          "text": "Average Views by Region",
          "x": 0.5,
          "xanchor": "center",
          "xref": "paper",
          "y": 1,
          "yanchor": "bottom",
          "yref": "paper"
         },
         {
          "font": {
           "size": 16
          },
          "showarrow": false,
          "text": "Views to Transaction by Region",
          "x": 0.8555555555555556,
          "xanchor": "center",
          "xref": "paper",
          "y": 1,
          "yanchor": "bottom",
          "yref": "paper"
         }
        ],
        "showlegend": false,
        "template": {
         "data": {
          "bar": [
           {
            "error_x": {
             "color": "#2a3f5f"
            },
            "error_y": {
             "color": "#2a3f5f"
            },
            "marker": {
             "line": {
              "color": "#E5ECF6",
              "width": 0.5
             },
             "pattern": {
              "fillmode": "overlay",
              "size": 10,
              "solidity": 0.2
             }
            },
            "type": "bar"
           }
          ],
          "barpolar": [
           {
            "marker": {
             "line": {
              "color": "#E5ECF6",
              "width": 0.5
             },
             "pattern": {
              "fillmode": "overlay",
              "size": 10,
              "solidity": 0.2
             }
            },
            "type": "barpolar"
           }
          ],
          "carpet": [
           {
            "aaxis": {
             "endlinecolor": "#2a3f5f",
             "gridcolor": "white",
             "linecolor": "white",
             "minorgridcolor": "white",
             "startlinecolor": "#2a3f5f"
            },
            "baxis": {
             "endlinecolor": "#2a3f5f",
             "gridcolor": "white",
             "linecolor": "white",
             "minorgridcolor": "white",
             "startlinecolor": "#2a3f5f"
            },
            "type": "carpet"
           }
          ],
          "choropleth": [
           {
            "colorbar": {
             "outlinewidth": 0,
             "ticks": ""
            },
            "type": "choropleth"
           }
          ],
          "contour": [
           {
            "colorbar": {
             "outlinewidth": 0,
             "ticks": ""
            },
            "colorscale": [
             [
              0,
              "#0d0887"
             ],
             [
              0.1111111111111111,
              "#46039f"
             ],
             [
              0.2222222222222222,
              "#7201a8"
             ],
             [
              0.3333333333333333,
              "#9c179e"
             ],
             [
              0.4444444444444444,
              "#bd3786"
             ],
             [
              0.5555555555555556,
              "#d8576b"
             ],
             [
              0.6666666666666666,
              "#ed7953"
             ],
             [
              0.7777777777777778,
              "#fb9f3a"
             ],
             [
              0.8888888888888888,
              "#fdca26"
             ],
             [
              1,
              "#f0f921"
             ]
            ],
            "type": "contour"
           }
          ],
          "contourcarpet": [
           {
            "colorbar": {
             "outlinewidth": 0,
             "ticks": ""
            },
            "type": "contourcarpet"
           }
          ],
          "heatmap": [
           {
            "colorbar": {
             "outlinewidth": 0,
             "ticks": ""
            },
            "colorscale": [
             [
              0,
              "#0d0887"
             ],
             [
              0.1111111111111111,
              "#46039f"
             ],
             [
              0.2222222222222222,
              "#7201a8"
             ],
             [
              0.3333333333333333,
              "#9c179e"
             ],
             [
              0.4444444444444444,
              "#bd3786"
             ],
             [
              0.5555555555555556,
              "#d8576b"
             ],
             [
              0.6666666666666666,
              "#ed7953"
             ],
             [
              0.7777777777777778,
              "#fb9f3a"
             ],
             [
              0.8888888888888888,
              "#fdca26"
             ],
             [
              1,
              "#f0f921"
             ]
            ],
            "type": "heatmap"
           }
          ],
          "heatmapgl": [
           {
            "colorbar": {
             "outlinewidth": 0,
             "ticks": ""
            },
            "colorscale": [
             [
              0,
              "#0d0887"
             ],
             [
              0.1111111111111111,
              "#46039f"
             ],
             [
              0.2222222222222222,
              "#7201a8"
             ],
             [
              0.3333333333333333,
              "#9c179e"
             ],
             [
              0.4444444444444444,
              "#bd3786"
             ],
             [
              0.5555555555555556,
              "#d8576b"
             ],
             [
              0.6666666666666666,
              "#ed7953"
             ],
             [
              0.7777777777777778,
              "#fb9f3a"
             ],
             [
              0.8888888888888888,
              "#fdca26"
             ],
             [
              1,
              "#f0f921"
             ]
            ],
            "type": "heatmapgl"
           }
          ],
          "histogram": [
           {
            "marker": {
             "pattern": {
              "fillmode": "overlay",
              "size": 10,
              "solidity": 0.2
             }
            },
            "type": "histogram"
           }
          ],
          "histogram2d": [
           {
            "colorbar": {
             "outlinewidth": 0,
             "ticks": ""
            },
            "colorscale": [
             [
              0,
              "#0d0887"
             ],
             [
              0.1111111111111111,
              "#46039f"
             ],
             [
              0.2222222222222222,
              "#7201a8"
             ],
             [
              0.3333333333333333,
              "#9c179e"
             ],
             [
              0.4444444444444444,
              "#bd3786"
             ],
             [
              0.5555555555555556,
              "#d8576b"
             ],
             [
              0.6666666666666666,
              "#ed7953"
             ],
             [
              0.7777777777777778,
              "#fb9f3a"
             ],
             [
              0.8888888888888888,
              "#fdca26"
             ],
             [
              1,
              "#f0f921"
             ]
            ],
            "type": "histogram2d"
           }
          ],
          "histogram2dcontour": [
           {
            "colorbar": {
             "outlinewidth": 0,
             "ticks": ""
            },
            "colorscale": [
             [
              0,
              "#0d0887"
             ],
             [
              0.1111111111111111,
              "#46039f"
             ],
             [
              0.2222222222222222,
              "#7201a8"
             ],
             [
              0.3333333333333333,
              "#9c179e"
             ],
             [
              0.4444444444444444,
              "#bd3786"
             ],
             [
              0.5555555555555556,
              "#d8576b"
             ],
             [
              0.6666666666666666,
              "#ed7953"
             ],
             [
              0.7777777777777778,
              "#fb9f3a"
             ],
             [
              0.8888888888888888,
              "#fdca26"
             ],
             [
              1,
              "#f0f921"
             ]
            ],
            "type": "histogram2dcontour"
           }
          ],
          "mesh3d": [
           {
            "colorbar": {
             "outlinewidth": 0,
             "ticks": ""
            },
            "type": "mesh3d"
           }
          ],
          "parcoords": [
           {
            "line": {
             "colorbar": {
              "outlinewidth": 0,
              "ticks": ""
             }
            },
            "type": "parcoords"
           }
          ],
          "pie": [
           {
            "automargin": true,
            "type": "pie"
           }
          ],
          "scatter": [
           {
            "fillpattern": {
             "fillmode": "overlay",
             "size": 10,
             "solidity": 0.2
            },
            "type": "scatter"
           }
          ],
          "scatter3d": [
           {
            "line": {
             "colorbar": {
              "outlinewidth": 0,
              "ticks": ""
             }
            },
            "marker": {
             "colorbar": {
              "outlinewidth": 0,
              "ticks": ""
             }
            },
            "type": "scatter3d"
           }
          ],
          "scattercarpet": [
           {
            "marker": {
             "colorbar": {
              "outlinewidth": 0,
              "ticks": ""
             }
            },
            "type": "scattercarpet"
           }
          ],
          "scattergeo": [
           {
            "marker": {
             "colorbar": {
              "outlinewidth": 0,
              "ticks": ""
             }
            },
            "type": "scattergeo"
           }
          ],
          "scattergl": [
           {
            "marker": {
             "colorbar": {
              "outlinewidth": 0,
              "ticks": ""
             }
            },
            "type": "scattergl"
           }
          ],
          "scattermapbox": [
           {
            "marker": {
             "colorbar": {
              "outlinewidth": 0,
              "ticks": ""
             }
            },
            "type": "scattermapbox"
           }
          ],
          "scatterpolar": [
           {
            "marker": {
             "colorbar": {
              "outlinewidth": 0,
              "ticks": ""
             }
            },
            "type": "scatterpolar"
           }
          ],
          "scatterpolargl": [
           {
            "marker": {
             "colorbar": {
              "outlinewidth": 0,
              "ticks": ""
             }
            },
            "type": "scatterpolargl"
           }
          ],
          "scatterternary": [
           {
            "marker": {
             "colorbar": {
              "outlinewidth": 0,
              "ticks": ""
             }
            },
            "type": "scatterternary"
           }
          ],
          "surface": [
           {
            "colorbar": {
             "outlinewidth": 0,
             "ticks": ""
            },
            "colorscale": [
             [
              0,
              "#0d0887"
             ],
             [
              0.1111111111111111,
              "#46039f"
             ],
             [
              0.2222222222222222,
              "#7201a8"
             ],
             [
              0.3333333333333333,
              "#9c179e"
             ],
             [
              0.4444444444444444,
              "#bd3786"
             ],
             [
              0.5555555555555556,
              "#d8576b"
             ],
             [
              0.6666666666666666,
              "#ed7953"
             ],
             [
              0.7777777777777778,
              "#fb9f3a"
             ],
             [
              0.8888888888888888,
              "#fdca26"
             ],
             [
              1,
              "#f0f921"
             ]
            ],
            "type": "surface"
           }
          ],
          "table": [
           {
            "cells": {
             "fill": {
              "color": "#EBF0F8"
             },
             "line": {
              "color": "white"
             }
            },
            "header": {
             "fill": {
              "color": "#C8D4E3"
             },
             "line": {
              "color": "white"
             }
            },
            "type": "table"
           }
          ]
         },
         "layout": {
          "annotationdefaults": {
           "arrowcolor": "#2a3f5f",
           "arrowhead": 0,
           "arrowwidth": 1
          },
          "autotypenumbers": "strict",
          "coloraxis": {
           "colorbar": {
            "outlinewidth": 0,
            "ticks": ""
           }
          },
          "colorscale": {
           "diverging": [
            [
             0,
             "#8e0152"
            ],
            [
             0.1,
             "#c51b7d"
            ],
            [
             0.2,
             "#de77ae"
            ],
            [
             0.3,
             "#f1b6da"
            ],
            [
             0.4,
             "#fde0ef"
            ],
            [
             0.5,
             "#f7f7f7"
            ],
            [
             0.6,
             "#e6f5d0"
            ],
            [
             0.7,
             "#b8e186"
            ],
            [
             0.8,
             "#7fbc41"
            ],
            [
             0.9,
             "#4d9221"
            ],
            [
             1,
             "#276419"
            ]
           ],
           "sequential": [
            [
             0,
             "#0d0887"
            ],
            [
             0.1111111111111111,
             "#46039f"
            ],
            [
             0.2222222222222222,
             "#7201a8"
            ],
            [
             0.3333333333333333,
             "#9c179e"
            ],
            [
             0.4444444444444444,
             "#bd3786"
            ],
            [
             0.5555555555555556,
             "#d8576b"
            ],
            [
             0.6666666666666666,
             "#ed7953"
            ],
            [
             0.7777777777777778,
             "#fb9f3a"
            ],
            [
             0.8888888888888888,
             "#fdca26"
            ],
            [
             1,
             "#f0f921"
            ]
           ],
           "sequentialminus": [
            [
             0,
             "#0d0887"
            ],
            [
             0.1111111111111111,
             "#46039f"
            ],
            [
             0.2222222222222222,
             "#7201a8"
            ],
            [
             0.3333333333333333,
             "#9c179e"
            ],
            [
             0.4444444444444444,
             "#bd3786"
            ],
            [
             0.5555555555555556,
             "#d8576b"
            ],
            [
             0.6666666666666666,
             "#ed7953"
            ],
            [
             0.7777777777777778,
             "#fb9f3a"
            ],
            [
             0.8888888888888888,
             "#fdca26"
            ],
            [
             1,
             "#f0f921"
            ]
           ]
          },
          "colorway": [
           "#636efa",
           "#EF553B",
           "#00cc96",
           "#ab63fa",
           "#FFA15A",
           "#19d3f3",
           "#FF6692",
           "#B6E880",
           "#FF97FF",
           "#FECB52"
          ],
          "font": {
           "color": "#2a3f5f"
          },
          "geo": {
           "bgcolor": "white",
           "lakecolor": "white",
           "landcolor": "#E5ECF6",
           "showlakes": true,
           "showland": true,
           "subunitcolor": "white"
          },
          "hoverlabel": {
           "align": "left"
          },
          "hovermode": "closest",
          "mapbox": {
           "style": "light"
          },
          "paper_bgcolor": "white",
          "plot_bgcolor": "#E5ECF6",
          "polar": {
           "angularaxis": {
            "gridcolor": "white",
            "linecolor": "white",
            "ticks": ""
           },
           "bgcolor": "#E5ECF6",
           "radialaxis": {
            "gridcolor": "white",
            "linecolor": "white",
            "ticks": ""
           }
          },
          "scene": {
           "xaxis": {
            "backgroundcolor": "#E5ECF6",
            "gridcolor": "white",
            "gridwidth": 2,
            "linecolor": "white",
            "showbackground": true,
            "ticks": "",
            "zerolinecolor": "white"
           },
           "yaxis": {
            "backgroundcolor": "#E5ECF6",
            "gridcolor": "white",
            "gridwidth": 2,
            "linecolor": "white",
            "showbackground": true,
            "ticks": "",
            "zerolinecolor": "white"
           },
           "zaxis": {
            "backgroundcolor": "#E5ECF6",
            "gridcolor": "white",
            "gridwidth": 2,
            "linecolor": "white",
            "showbackground": true,
            "ticks": "",
            "zerolinecolor": "white"
           }
          },
          "shapedefaults": {
           "line": {
            "color": "#2a3f5f"
           }
          },
          "ternary": {
           "aaxis": {
            "gridcolor": "white",
            "linecolor": "white",
            "ticks": ""
           },
           "baxis": {
            "gridcolor": "white",
            "linecolor": "white",
            "ticks": ""
           },
           "bgcolor": "#E5ECF6",
           "caxis": {
            "gridcolor": "white",
            "linecolor": "white",
            "ticks": ""
           }
          },
          "title": {
           "x": 0.05
          },
          "xaxis": {
           "automargin": true,
           "gridcolor": "white",
           "linecolor": "white",
           "ticks": "",
           "title": {
            "standoff": 15
           },
           "zerolinecolor": "white",
           "zerolinewidth": 2
          },
          "yaxis": {
           "automargin": true,
           "gridcolor": "white",
           "linecolor": "white",
           "ticks": "",
           "title": {
            "standoff": 15
           },
           "zerolinecolor": "white",
           "zerolinewidth": 2
          }
         }
        },
        "title": {
         "text": "Average Transactions/Views and Views to Transaction per Region"
        },
        "xaxis": {
         "anchor": "y",
         "domain": [
          0,
          0.2888888888888889
         ],
         "title": {
          "text": "Region"
         }
        },
        "xaxis2": {
         "anchor": "y2",
         "domain": [
          0.35555555555555557,
          0.6444444444444445
         ],
         "title": {
          "text": "Region"
         }
        },
        "xaxis3": {
         "anchor": "y3",
         "domain": [
          0.7111111111111111,
          1
         ],
         "title": {
          "text": "Region"
         }
        },
        "yaxis": {
         "anchor": "x",
         "domain": [
          0,
          1
         ],
         "title": {
          "text": "Average Transactions"
         }
        },
        "yaxis2": {
         "anchor": "x2",
         "domain": [
          0,
          1
         ],
         "title": {
          "text": "Average Views"
         }
        },
        "yaxis3": {
         "anchor": "x3",
         "domain": [
          0,
          1
         ],
         "title": {
          "text": "Views to Transactions"
         }
        }
       }
      },
      "text/html": [
       "<div>                            <div id=\"3051c9b1-d02e-458c-918b-1d8eb7127664\" class=\"plotly-graph-div\" style=\"height:525px; width:100%;\"></div>            <script type=\"text/javascript\">                require([\"plotly\"], function(Plotly) {                    window.PLOTLYENV=window.PLOTLYENV || {};                                    if (document.getElementById(\"3051c9b1-d02e-458c-918b-1d8eb7127664\")) {                    Plotly.newPlot(                        \"3051c9b1-d02e-458c-918b-1d8eb7127664\",                        [{\"marker\":{\"color\":\"blue\"},\"name\":\"Average Transactions\",\"x\":[\"Americas\",\"Europe\",\"Asia\",\"Oceania\",\"Africa\",\"(not set)\"],\"y\":[1.04,1.0,1.0,0.0,1.0,1.0],\"type\":\"bar\",\"xaxis\":\"x\",\"yaxis\":\"y\"},{\"marker\":{\"color\":\"green\"},\"name\":\"Average Views\",\"x\":[\"Americas\",\"Europe\",\"Asia\",\"Oceania\",\"Africa\",\"(not set)\"],\"y\":[4.63,2.54,2.98,2.91,2.31,2.38],\"type\":\"bar\",\"xaxis\":\"x2\",\"yaxis\":\"y2\"},{\"marker\":{\"color\":\"orange\"},\"name\":\"Views to Transactions\",\"x\":[\"Americas\",\"Europe\",\"Asia\",\"Oceania\",\"Africa\",\"(not set)\"],\"y\":[3.0,0.0,0.0,0.0,0.0,1.0],\"type\":\"bar\",\"xaxis\":\"x3\",\"yaxis\":\"y3\"}],                        {\"template\":{\"data\":{\"histogram2dcontour\":[{\"type\":\"histogram2dcontour\",\"colorbar\":{\"outlinewidth\":0,\"ticks\":\"\"},\"colorscale\":[[0.0,\"#0d0887\"],[0.1111111111111111,\"#46039f\"],[0.2222222222222222,\"#7201a8\"],[0.3333333333333333,\"#9c179e\"],[0.4444444444444444,\"#bd3786\"],[0.5555555555555556,\"#d8576b\"],[0.6666666666666666,\"#ed7953\"],[0.7777777777777778,\"#fb9f3a\"],[0.8888888888888888,\"#fdca26\"],[1.0,\"#f0f921\"]]}],\"choropleth\":[{\"type\":\"choropleth\",\"colorbar\":{\"outlinewidth\":0,\"ticks\":\"\"}}],\"histogram2d\":[{\"type\":\"histogram2d\",\"colorbar\":{\"outlinewidth\":0,\"ticks\":\"\"},\"colorscale\":[[0.0,\"#0d0887\"],[0.1111111111111111,\"#46039f\"],[0.2222222222222222,\"#7201a8\"],[0.3333333333333333,\"#9c179e\"],[0.4444444444444444,\"#bd3786\"],[0.5555555555555556,\"#d8576b\"],[0.6666666666666666,\"#ed7953\"],[0.7777777777777778,\"#fb9f3a\"],[0.8888888888888888,\"#fdca26\"],[1.0,\"#f0f921\"]]}],\"heatmap\":[{\"type\":\"heatmap\",\"colorbar\":{\"outlinewidth\":0,\"ticks\":\"\"},\"colorscale\":[[0.0,\"#0d0887\"],[0.1111111111111111,\"#46039f\"],[0.2222222222222222,\"#7201a8\"],[0.3333333333333333,\"#9c179e\"],[0.4444444444444444,\"#bd3786\"],[0.5555555555555556,\"#d8576b\"],[0.6666666666666666,\"#ed7953\"],[0.7777777777777778,\"#fb9f3a\"],[0.8888888888888888,\"#fdca26\"],[1.0,\"#f0f921\"]]}],\"heatmapgl\":[{\"type\":\"heatmapgl\",\"colorbar\":{\"outlinewidth\":0,\"ticks\":\"\"},\"colorscale\":[[0.0,\"#0d0887\"],[0.1111111111111111,\"#46039f\"],[0.2222222222222222,\"#7201a8\"],[0.3333333333333333,\"#9c179e\"],[0.4444444444444444,\"#bd3786\"],[0.5555555555555556,\"#d8576b\"],[0.6666666666666666,\"#ed7953\"],[0.7777777777777778,\"#fb9f3a\"],[0.8888888888888888,\"#fdca26\"],[1.0,\"#f0f921\"]]}],\"contourcarpet\":[{\"type\":\"contourcarpet\",\"colorbar\":{\"outlinewidth\":0,\"ticks\":\"\"}}],\"contour\":[{\"type\":\"contour\",\"colorbar\":{\"outlinewidth\":0,\"ticks\":\"\"},\"colorscale\":[[0.0,\"#0d0887\"],[0.1111111111111111,\"#46039f\"],[0.2222222222222222,\"#7201a8\"],[0.3333333333333333,\"#9c179e\"],[0.4444444444444444,\"#bd3786\"],[0.5555555555555556,\"#d8576b\"],[0.6666666666666666,\"#ed7953\"],[0.7777777777777778,\"#fb9f3a\"],[0.8888888888888888,\"#fdca26\"],[1.0,\"#f0f921\"]]}],\"surface\":[{\"type\":\"surface\",\"colorbar\":{\"outlinewidth\":0,\"ticks\":\"\"},\"colorscale\":[[0.0,\"#0d0887\"],[0.1111111111111111,\"#46039f\"],[0.2222222222222222,\"#7201a8\"],[0.3333333333333333,\"#9c179e\"],[0.4444444444444444,\"#bd3786\"],[0.5555555555555556,\"#d8576b\"],[0.6666666666666666,\"#ed7953\"],[0.7777777777777778,\"#fb9f3a\"],[0.8888888888888888,\"#fdca26\"],[1.0,\"#f0f921\"]]}],\"mesh3d\":[{\"type\":\"mesh3d\",\"colorbar\":{\"outlinewidth\":0,\"ticks\":\"\"}}],\"scatter\":[{\"fillpattern\":{\"fillmode\":\"overlay\",\"size\":10,\"solidity\":0.2},\"type\":\"scatter\"}],\"parcoords\":[{\"type\":\"parcoords\",\"line\":{\"colorbar\":{\"outlinewidth\":0,\"ticks\":\"\"}}}],\"scatterpolargl\":[{\"type\":\"scatterpolargl\",\"marker\":{\"colorbar\":{\"outlinewidth\":0,\"ticks\":\"\"}}}],\"bar\":[{\"error_x\":{\"color\":\"#2a3f5f\"},\"error_y\":{\"color\":\"#2a3f5f\"},\"marker\":{\"line\":{\"color\":\"#E5ECF6\",\"width\":0.5},\"pattern\":{\"fillmode\":\"overlay\",\"size\":10,\"solidity\":0.2}},\"type\":\"bar\"}],\"scattergeo\":[{\"type\":\"scattergeo\",\"marker\":{\"colorbar\":{\"outlinewidth\":0,\"ticks\":\"\"}}}],\"scatterpolar\":[{\"type\":\"scatterpolar\",\"marker\":{\"colorbar\":{\"outlinewidth\":0,\"ticks\":\"\"}}}],\"histogram\":[{\"marker\":{\"pattern\":{\"fillmode\":\"overlay\",\"size\":10,\"solidity\":0.2}},\"type\":\"histogram\"}],\"scattergl\":[{\"type\":\"scattergl\",\"marker\":{\"colorbar\":{\"outlinewidth\":0,\"ticks\":\"\"}}}],\"scatter3d\":[{\"type\":\"scatter3d\",\"line\":{\"colorbar\":{\"outlinewidth\":0,\"ticks\":\"\"}},\"marker\":{\"colorbar\":{\"outlinewidth\":0,\"ticks\":\"\"}}}],\"scattermapbox\":[{\"type\":\"scattermapbox\",\"marker\":{\"colorbar\":{\"outlinewidth\":0,\"ticks\":\"\"}}}],\"scatterternary\":[{\"type\":\"scatterternary\",\"marker\":{\"colorbar\":{\"outlinewidth\":0,\"ticks\":\"\"}}}],\"scattercarpet\":[{\"type\":\"scattercarpet\",\"marker\":{\"colorbar\":{\"outlinewidth\":0,\"ticks\":\"\"}}}],\"carpet\":[{\"aaxis\":{\"endlinecolor\":\"#2a3f5f\",\"gridcolor\":\"white\",\"linecolor\":\"white\",\"minorgridcolor\":\"white\",\"startlinecolor\":\"#2a3f5f\"},\"baxis\":{\"endlinecolor\":\"#2a3f5f\",\"gridcolor\":\"white\",\"linecolor\":\"white\",\"minorgridcolor\":\"white\",\"startlinecolor\":\"#2a3f5f\"},\"type\":\"carpet\"}],\"table\":[{\"cells\":{\"fill\":{\"color\":\"#EBF0F8\"},\"line\":{\"color\":\"white\"}},\"header\":{\"fill\":{\"color\":\"#C8D4E3\"},\"line\":{\"color\":\"white\"}},\"type\":\"table\"}],\"barpolar\":[{\"marker\":{\"line\":{\"color\":\"#E5ECF6\",\"width\":0.5},\"pattern\":{\"fillmode\":\"overlay\",\"size\":10,\"solidity\":0.2}},\"type\":\"barpolar\"}],\"pie\":[{\"automargin\":true,\"type\":\"pie\"}]},\"layout\":{\"autotypenumbers\":\"strict\",\"colorway\":[\"#636efa\",\"#EF553B\",\"#00cc96\",\"#ab63fa\",\"#FFA15A\",\"#19d3f3\",\"#FF6692\",\"#B6E880\",\"#FF97FF\",\"#FECB52\"],\"font\":{\"color\":\"#2a3f5f\"},\"hovermode\":\"closest\",\"hoverlabel\":{\"align\":\"left\"},\"paper_bgcolor\":\"white\",\"plot_bgcolor\":\"#E5ECF6\",\"polar\":{\"bgcolor\":\"#E5ECF6\",\"angularaxis\":{\"gridcolor\":\"white\",\"linecolor\":\"white\",\"ticks\":\"\"},\"radialaxis\":{\"gridcolor\":\"white\",\"linecolor\":\"white\",\"ticks\":\"\"}},\"ternary\":{\"bgcolor\":\"#E5ECF6\",\"aaxis\":{\"gridcolor\":\"white\",\"linecolor\":\"white\",\"ticks\":\"\"},\"baxis\":{\"gridcolor\":\"white\",\"linecolor\":\"white\",\"ticks\":\"\"},\"caxis\":{\"gridcolor\":\"white\",\"linecolor\":\"white\",\"ticks\":\"\"}},\"coloraxis\":{\"colorbar\":{\"outlinewidth\":0,\"ticks\":\"\"}},\"colorscale\":{\"sequential\":[[0.0,\"#0d0887\"],[0.1111111111111111,\"#46039f\"],[0.2222222222222222,\"#7201a8\"],[0.3333333333333333,\"#9c179e\"],[0.4444444444444444,\"#bd3786\"],[0.5555555555555556,\"#d8576b\"],[0.6666666666666666,\"#ed7953\"],[0.7777777777777778,\"#fb9f3a\"],[0.8888888888888888,\"#fdca26\"],[1.0,\"#f0f921\"]],\"sequentialminus\":[[0.0,\"#0d0887\"],[0.1111111111111111,\"#46039f\"],[0.2222222222222222,\"#7201a8\"],[0.3333333333333333,\"#9c179e\"],[0.4444444444444444,\"#bd3786\"],[0.5555555555555556,\"#d8576b\"],[0.6666666666666666,\"#ed7953\"],[0.7777777777777778,\"#fb9f3a\"],[0.8888888888888888,\"#fdca26\"],[1.0,\"#f0f921\"]],\"diverging\":[[0,\"#8e0152\"],[0.1,\"#c51b7d\"],[0.2,\"#de77ae\"],[0.3,\"#f1b6da\"],[0.4,\"#fde0ef\"],[0.5,\"#f7f7f7\"],[0.6,\"#e6f5d0\"],[0.7,\"#b8e186\"],[0.8,\"#7fbc41\"],[0.9,\"#4d9221\"],[1,\"#276419\"]]},\"xaxis\":{\"gridcolor\":\"white\",\"linecolor\":\"white\",\"ticks\":\"\",\"title\":{\"standoff\":15},\"zerolinecolor\":\"white\",\"automargin\":true,\"zerolinewidth\":2},\"yaxis\":{\"gridcolor\":\"white\",\"linecolor\":\"white\",\"ticks\":\"\",\"title\":{\"standoff\":15},\"zerolinecolor\":\"white\",\"automargin\":true,\"zerolinewidth\":2},\"scene\":{\"xaxis\":{\"backgroundcolor\":\"#E5ECF6\",\"gridcolor\":\"white\",\"linecolor\":\"white\",\"showbackground\":true,\"ticks\":\"\",\"zerolinecolor\":\"white\",\"gridwidth\":2},\"yaxis\":{\"backgroundcolor\":\"#E5ECF6\",\"gridcolor\":\"white\",\"linecolor\":\"white\",\"showbackground\":true,\"ticks\":\"\",\"zerolinecolor\":\"white\",\"gridwidth\":2},\"zaxis\":{\"backgroundcolor\":\"#E5ECF6\",\"gridcolor\":\"white\",\"linecolor\":\"white\",\"showbackground\":true,\"ticks\":\"\",\"zerolinecolor\":\"white\",\"gridwidth\":2}},\"shapedefaults\":{\"line\":{\"color\":\"#2a3f5f\"}},\"annotationdefaults\":{\"arrowcolor\":\"#2a3f5f\",\"arrowhead\":0,\"arrowwidth\":1},\"geo\":{\"bgcolor\":\"white\",\"landcolor\":\"#E5ECF6\",\"subunitcolor\":\"white\",\"showland\":true,\"showlakes\":true,\"lakecolor\":\"white\"},\"title\":{\"x\":0.05},\"mapbox\":{\"style\":\"light\"}}},\"xaxis\":{\"anchor\":\"y\",\"domain\":[0.0,0.2888888888888889],\"title\":{\"text\":\"Region\"}},\"yaxis\":{\"anchor\":\"x\",\"domain\":[0.0,1.0],\"title\":{\"text\":\"Average Transactions\"}},\"xaxis2\":{\"anchor\":\"y2\",\"domain\":[0.35555555555555557,0.6444444444444445],\"title\":{\"text\":\"Region\"}},\"yaxis2\":{\"anchor\":\"x2\",\"domain\":[0.0,1.0],\"title\":{\"text\":\"Average Views\"}},\"xaxis3\":{\"anchor\":\"y3\",\"domain\":[0.7111111111111111,1.0],\"title\":{\"text\":\"Region\"}},\"yaxis3\":{\"anchor\":\"x3\",\"domain\":[0.0,1.0],\"title\":{\"text\":\"Views to Transactions\"}},\"annotations\":[{\"font\":{\"size\":16},\"showarrow\":false,\"text\":\"Average Transactions by Region\",\"x\":0.14444444444444446,\"xanchor\":\"center\",\"xref\":\"paper\",\"y\":1.0,\"yanchor\":\"bottom\",\"yref\":\"paper\"},{\"font\":{\"size\":16},\"showarrow\":false,\"text\":\"Average Views by Region\",\"x\":0.5,\"xanchor\":\"center\",\"xref\":\"paper\",\"y\":1.0,\"yanchor\":\"bottom\",\"yref\":\"paper\"},{\"font\":{\"size\":16},\"showarrow\":false,\"text\":\"Views to Transaction by Region\",\"x\":0.8555555555555556,\"xanchor\":\"center\",\"xref\":\"paper\",\"y\":1.0,\"yanchor\":\"bottom\",\"yref\":\"paper\"}],\"title\":{\"text\":\"Average Transactions/Views and Views to Transaction per Region\"},\"showlegend\":false},                        {\"responsive\": true}                    ).then(function(){\n",
       "                            \n",
       "var gd = document.getElementById('3051c9b1-d02e-458c-918b-1d8eb7127664');\n",
       "var x = new MutationObserver(function (mutations, observer) {{\n",
       "        var display = window.getComputedStyle(gd).display;\n",
       "        if (!display || display === 'none') {{\n",
       "            console.log([gd, 'removed!']);\n",
       "            Plotly.purge(gd);\n",
       "            observer.disconnect();\n",
       "        }}\n",
       "}});\n",
       "\n",
       "// Listen for the removal of the full notebook cells\n",
       "var notebookContainer = gd.closest('#notebook-container');\n",
       "if (notebookContainer) {{\n",
       "    x.observe(notebookContainer, {childList: true});\n",
       "}}\n",
       "\n",
       "// Listen for the clearing of the current output cell\n",
       "var outputEl = gd.closest('.output');\n",
       "if (outputEl) {{\n",
       "    x.observe(outputEl, {childList: true});\n",
       "}}\n",
       "\n",
       "                        })                };                });            </script>        </div>"
      ]
     },
     "metadata": {},
     "output_type": "display_data"
    }
   ],
   "source": [
    "# Create subplots: 1 row, 2 columns\n",
    "fig = make_subplots(rows=1, cols=3, subplot_titles=(\"Average Transactions by Region\", \"Average Views by Region\", \"Views to Transaction by Region\"))\n",
    "\n",
    "# Add the total transactions bar plot\n",
    "fig.add_trace(\n",
    "    go.Bar(x=df['region'], y=df['avg_transactions'], name='Average Transactions', marker_color='blue'),\n",
    "    row=1, col=1\n",
    ")\n",
    "\n",
    "# Add the total views bar plot\n",
    "fig.add_trace(\n",
    "    go.Bar(x=df['region'], y=df['avg_views'], name='Average Views', marker_color='green'),\n",
    "    row=1, col=2\n",
    ")\n",
    "\n",
    "fig.add_trace(\n",
    "    go.Bar(x=df['region'], y=df['views_to_transactions'], name='Views to Transactions', marker_color='orange'),\n",
    "    row=1, col=3\n",
    ")\n",
    "\n",
    "# Update layout\n",
    "fig.update_layout(\n",
    "    title_text='Average Transactions/Views and Views to Transaction per Region',\n",
    "    showlegend=False\n",
    ")\n",
    "\n",
    "# Update x-axis and y-axis titles\n",
    "fig.update_xaxes(title_text='Region', row=1, col=1)\n",
    "fig.update_yaxes(title_text='Average Transactions', row=1, col=1)\n",
    "fig.update_xaxes(title_text='Region', row=1, col=2)\n",
    "fig.update_yaxes(title_text='Average Views', row=1, col=2)\n",
    "fig.update_xaxes(title_text='Region', row=1, col=3)\n",
    "fig.update_yaxes(title_text='Views to Transactions', row=1, col=3)\n",
    "\n",
    "# Show the plot\n",
    "fig.show()"
   ]
  },
  {
   "cell_type": "markdown",
   "id": "959bac53",
   "metadata": {},
   "source": [
    "As we can see in our previous charts depicting views and transactions per region:\n",
    "\n",
    "- **International Audience:** Although North America is the dominant share of views and transactions, views from Europe and Asia are also significant, suggesting there is a demand or attention from these regions to the store.\n",
    "\n",
    "- **Imbalance between Views and Transactions:** This is likely to happen if a certain product or service is focused primarily on the US market, but depending on the product or service, expanding the audience might be a simple question of adding new payment methods or outsourcing delviery.\n",
    "\n",
    "In sum, depending on the objective or strategic goals of the store, it might be worth considering whether or not to expand business to attend other regions."
   ]
  },
  {
   "cell_type": "markdown",
   "id": "b364e4eb",
   "metadata": {},
   "source": [
    "**Daily Trends**\n",
    "\n",
    "Doing this can help us understand better the user behavior and might provide some insights about the best time for creating social media posts with content that might attract more users, such as promotions and discounts."
   ]
  },
  {
   "cell_type": "markdown",
   "id": "0d2f471f",
   "metadata": {},
   "source": [
    "NOTES:\n",
    "\n",
    "- Bounce : A situation where site visitors just come and don't take any action.\n",
    "\n",
    "> In Analytics, a bounce is calculated specifically as a session that triggers only a single request to the Analytics server, such as when a user opens a single page on your site and then exits without triggering any other requests to the Analytics server during that session.\n",
    "\n",
    "- Bounce rate: Percentage of all sessions on your site in which users viewed only a single page and triggered only a single request to the Analytics server.\n",
    "\n"
   ]
  },
  {
   "cell_type": "code",
   "execution_count": 209,
   "id": "1a6e485c",
   "metadata": {},
   "outputs": [
    {
     "data": {
      "text/html": [
       "<div>\n",
       "<style scoped>\n",
       "    .dataframe tbody tr th:only-of-type {\n",
       "        vertical-align: middle;\n",
       "    }\n",
       "\n",
       "    .dataframe tbody tr th {\n",
       "        vertical-align: top;\n",
       "    }\n",
       "\n",
       "    .dataframe thead th {\n",
       "        text-align: right;\n",
       "    }\n",
       "</style>\n",
       "<table border=\"1\" class=\"dataframe\">\n",
       "  <thead>\n",
       "    <tr style=\"text-align: right;\">\n",
       "      <th></th>\n",
       "      <th>hour</th>\n",
       "      <th>total_visits</th>\n",
       "      <th>total_bounces</th>\n",
       "      <th>bounce_rate</th>\n",
       "    </tr>\n",
       "  </thead>\n",
       "  <tbody>\n",
       "    <tr>\n",
       "      <th>0</th>\n",
       "      <td>0</td>\n",
       "      <td>56146</td>\n",
       "      <td>8930</td>\n",
       "      <td>15.904962</td>\n",
       "    </tr>\n",
       "    <tr>\n",
       "      <th>1</th>\n",
       "      <td>1</td>\n",
       "      <td>52034</td>\n",
       "      <td>8916</td>\n",
       "      <td>17.134950</td>\n",
       "    </tr>\n",
       "    <tr>\n",
       "      <th>2</th>\n",
       "      <td>2</td>\n",
       "      <td>47505</td>\n",
       "      <td>9020</td>\n",
       "      <td>18.987475</td>\n",
       "    </tr>\n",
       "    <tr>\n",
       "      <th>3</th>\n",
       "      <td>3</td>\n",
       "      <td>46638</td>\n",
       "      <td>9000</td>\n",
       "      <td>19.297569</td>\n",
       "    </tr>\n",
       "    <tr>\n",
       "      <th>4</th>\n",
       "      <td>4</td>\n",
       "      <td>50468</td>\n",
       "      <td>9777</td>\n",
       "      <td>19.372672</td>\n",
       "    </tr>\n",
       "  </tbody>\n",
       "</table>\n",
       "</div>"
      ],
      "text/plain": [
       "   hour  total_visits  total_bounces  bounce_rate\n",
       "0     0         56146           8930    15.904962\n",
       "1     1         52034           8916    17.134950\n",
       "2     2         47505           9020    18.987475\n",
       "3     3         46638           9000    19.297569\n",
       "4     4         50468           9777    19.372672"
      ]
     },
     "execution_count": 209,
     "metadata": {},
     "output_type": "execute_result"
    }
   ],
   "source": [
    "# Daily Trends\n",
    "\n",
    "query = \"\"\"\n",
    "SELECT\n",
    "  hit.hour hour,\n",
    "  COUNT(*) total_visits,\n",
    "  SUM(totals.bounces) total_bounces,\n",
    "  (SUM(totals.bounces) / COUNT(*) * 100) bounce_rate\n",
    "FROM `bigquery-public-data.google_analytics_sample.ga_sessions_*` h, UNNEST(h.hits) hit\n",
    "WHERE _TABLE_SUFFIX BETWEEN '20170101' AND '20170731'\n",
    "GROUP BY hour\n",
    "ORDER BY hour\n",
    "\"\"\"\n",
    "\n",
    "df = client.query(query).to_dataframe()\n",
    "df.head()"
   ]
  },
  {
   "cell_type": "code",
   "execution_count": 210,
   "id": "6545bd4c",
   "metadata": {},
   "outputs": [
    {
     "data": {
      "application/vnd.plotly.v1+json": {
       "config": {
        "plotlyServerURL": "https://plot.ly"
       },
       "data": [
        {
         "hovertemplate": "Metric=total_visits<br>hour=%{x}<br>Total visits & Bounces=%{y}<extra></extra>",
         "legendgroup": "total_visits",
         "line": {
          "color": "#636efa",
          "dash": "solid"
         },
         "marker": {
          "symbol": "circle"
         },
         "mode": "markers+lines",
         "name": "total_visits",
         "orientation": "h",
         "showlegend": true,
         "type": "scatter",
         "x": [
          0,
          1,
          2,
          3,
          4,
          5,
          6,
          7,
          8,
          9,
          10,
          11,
          12,
          13,
          14,
          15,
          16,
          17,
          18,
          19,
          20,
          21,
          22,
          23
         ],
         "xaxis": "x",
         "y": [
          56146,
          52034,
          47505,
          46638,
          50468,
          61250,
          78041,
          94571,
          113495,
          115480,
          125113,
          127995,
          117996,
          123429,
          117578,
          103746,
          92542,
          88012,
          83764,
          79850,
          79197,
          72762,
          68545,
          62190
         ],
         "yaxis": "y"
        },
        {
         "hovertemplate": "Metric=total_bounces<br>hour=%{x}<br>Total visits & Bounces=%{y}<extra></extra>",
         "legendgroup": "total_bounces",
         "line": {
          "color": "#EF553B",
          "dash": "solid"
         },
         "marker": {
          "symbol": "circle"
         },
         "mode": "markers+lines",
         "name": "total_bounces",
         "orientation": "h",
         "showlegend": true,
         "type": "scatter",
         "x": [
          0,
          1,
          2,
          3,
          4,
          5,
          6,
          7,
          8,
          9,
          10,
          11,
          12,
          13,
          14,
          15,
          16,
          17,
          18,
          19,
          20,
          21,
          22,
          23
         ],
         "xaxis": "x",
         "y": [
          8930,
          8916,
          9020,
          9000,
          9777,
          10960,
          11997,
          12603,
          13154,
          12771,
          12638,
          12325,
          11590,
          11532,
          10194,
          8871,
          8082,
          7753,
          7627,
          7411,
          7203,
          6903,
          7295,
          7833
         ],
         "yaxis": "y"
        }
       ],
       "layout": {
        "legend": {
         "title": {
          "text": "Metric"
         },
         "tracegroupgap": 0
        },
        "template": {
         "data": {
          "bar": [
           {
            "error_x": {
             "color": "#2a3f5f"
            },
            "error_y": {
             "color": "#2a3f5f"
            },
            "marker": {
             "line": {
              "color": "#E5ECF6",
              "width": 0.5
             },
             "pattern": {
              "fillmode": "overlay",
              "size": 10,
              "solidity": 0.2
             }
            },
            "type": "bar"
           }
          ],
          "barpolar": [
           {
            "marker": {
             "line": {
              "color": "#E5ECF6",
              "width": 0.5
             },
             "pattern": {
              "fillmode": "overlay",
              "size": 10,
              "solidity": 0.2
             }
            },
            "type": "barpolar"
           }
          ],
          "carpet": [
           {
            "aaxis": {
             "endlinecolor": "#2a3f5f",
             "gridcolor": "white",
             "linecolor": "white",
             "minorgridcolor": "white",
             "startlinecolor": "#2a3f5f"
            },
            "baxis": {
             "endlinecolor": "#2a3f5f",
             "gridcolor": "white",
             "linecolor": "white",
             "minorgridcolor": "white",
             "startlinecolor": "#2a3f5f"
            },
            "type": "carpet"
           }
          ],
          "choropleth": [
           {
            "colorbar": {
             "outlinewidth": 0,
             "ticks": ""
            },
            "type": "choropleth"
           }
          ],
          "contour": [
           {
            "colorbar": {
             "outlinewidth": 0,
             "ticks": ""
            },
            "colorscale": [
             [
              0,
              "#0d0887"
             ],
             [
              0.1111111111111111,
              "#46039f"
             ],
             [
              0.2222222222222222,
              "#7201a8"
             ],
             [
              0.3333333333333333,
              "#9c179e"
             ],
             [
              0.4444444444444444,
              "#bd3786"
             ],
             [
              0.5555555555555556,
              "#d8576b"
             ],
             [
              0.6666666666666666,
              "#ed7953"
             ],
             [
              0.7777777777777778,
              "#fb9f3a"
             ],
             [
              0.8888888888888888,
              "#fdca26"
             ],
             [
              1,
              "#f0f921"
             ]
            ],
            "type": "contour"
           }
          ],
          "contourcarpet": [
           {
            "colorbar": {
             "outlinewidth": 0,
             "ticks": ""
            },
            "type": "contourcarpet"
           }
          ],
          "heatmap": [
           {
            "colorbar": {
             "outlinewidth": 0,
             "ticks": ""
            },
            "colorscale": [
             [
              0,
              "#0d0887"
             ],
             [
              0.1111111111111111,
              "#46039f"
             ],
             [
              0.2222222222222222,
              "#7201a8"
             ],
             [
              0.3333333333333333,
              "#9c179e"
             ],
             [
              0.4444444444444444,
              "#bd3786"
             ],
             [
              0.5555555555555556,
              "#d8576b"
             ],
             [
              0.6666666666666666,
              "#ed7953"
             ],
             [
              0.7777777777777778,
              "#fb9f3a"
             ],
             [
              0.8888888888888888,
              "#fdca26"
             ],
             [
              1,
              "#f0f921"
             ]
            ],
            "type": "heatmap"
           }
          ],
          "heatmapgl": [
           {
            "colorbar": {
             "outlinewidth": 0,
             "ticks": ""
            },
            "colorscale": [
             [
              0,
              "#0d0887"
             ],
             [
              0.1111111111111111,
              "#46039f"
             ],
             [
              0.2222222222222222,
              "#7201a8"
             ],
             [
              0.3333333333333333,
              "#9c179e"
             ],
             [
              0.4444444444444444,
              "#bd3786"
             ],
             [
              0.5555555555555556,
              "#d8576b"
             ],
             [
              0.6666666666666666,
              "#ed7953"
             ],
             [
              0.7777777777777778,
              "#fb9f3a"
             ],
             [
              0.8888888888888888,
              "#fdca26"
             ],
             [
              1,
              "#f0f921"
             ]
            ],
            "type": "heatmapgl"
           }
          ],
          "histogram": [
           {
            "marker": {
             "pattern": {
              "fillmode": "overlay",
              "size": 10,
              "solidity": 0.2
             }
            },
            "type": "histogram"
           }
          ],
          "histogram2d": [
           {
            "colorbar": {
             "outlinewidth": 0,
             "ticks": ""
            },
            "colorscale": [
             [
              0,
              "#0d0887"
             ],
             [
              0.1111111111111111,
              "#46039f"
             ],
             [
              0.2222222222222222,
              "#7201a8"
             ],
             [
              0.3333333333333333,
              "#9c179e"
             ],
             [
              0.4444444444444444,
              "#bd3786"
             ],
             [
              0.5555555555555556,
              "#d8576b"
             ],
             [
              0.6666666666666666,
              "#ed7953"
             ],
             [
              0.7777777777777778,
              "#fb9f3a"
             ],
             [
              0.8888888888888888,
              "#fdca26"
             ],
             [
              1,
              "#f0f921"
             ]
            ],
            "type": "histogram2d"
           }
          ],
          "histogram2dcontour": [
           {
            "colorbar": {
             "outlinewidth": 0,
             "ticks": ""
            },
            "colorscale": [
             [
              0,
              "#0d0887"
             ],
             [
              0.1111111111111111,
              "#46039f"
             ],
             [
              0.2222222222222222,
              "#7201a8"
             ],
             [
              0.3333333333333333,
              "#9c179e"
             ],
             [
              0.4444444444444444,
              "#bd3786"
             ],
             [
              0.5555555555555556,
              "#d8576b"
             ],
             [
              0.6666666666666666,
              "#ed7953"
             ],
             [
              0.7777777777777778,
              "#fb9f3a"
             ],
             [
              0.8888888888888888,
              "#fdca26"
             ],
             [
              1,
              "#f0f921"
             ]
            ],
            "type": "histogram2dcontour"
           }
          ],
          "mesh3d": [
           {
            "colorbar": {
             "outlinewidth": 0,
             "ticks": ""
            },
            "type": "mesh3d"
           }
          ],
          "parcoords": [
           {
            "line": {
             "colorbar": {
              "outlinewidth": 0,
              "ticks": ""
             }
            },
            "type": "parcoords"
           }
          ],
          "pie": [
           {
            "automargin": true,
            "type": "pie"
           }
          ],
          "scatter": [
           {
            "fillpattern": {
             "fillmode": "overlay",
             "size": 10,
             "solidity": 0.2
            },
            "type": "scatter"
           }
          ],
          "scatter3d": [
           {
            "line": {
             "colorbar": {
              "outlinewidth": 0,
              "ticks": ""
             }
            },
            "marker": {
             "colorbar": {
              "outlinewidth": 0,
              "ticks": ""
             }
            },
            "type": "scatter3d"
           }
          ],
          "scattercarpet": [
           {
            "marker": {
             "colorbar": {
              "outlinewidth": 0,
              "ticks": ""
             }
            },
            "type": "scattercarpet"
           }
          ],
          "scattergeo": [
           {
            "marker": {
             "colorbar": {
              "outlinewidth": 0,
              "ticks": ""
             }
            },
            "type": "scattergeo"
           }
          ],
          "scattergl": [
           {
            "marker": {
             "colorbar": {
              "outlinewidth": 0,
              "ticks": ""
             }
            },
            "type": "scattergl"
           }
          ],
          "scattermapbox": [
           {
            "marker": {
             "colorbar": {
              "outlinewidth": 0,
              "ticks": ""
             }
            },
            "type": "scattermapbox"
           }
          ],
          "scatterpolar": [
           {
            "marker": {
             "colorbar": {
              "outlinewidth": 0,
              "ticks": ""
             }
            },
            "type": "scatterpolar"
           }
          ],
          "scatterpolargl": [
           {
            "marker": {
             "colorbar": {
              "outlinewidth": 0,
              "ticks": ""
             }
            },
            "type": "scatterpolargl"
           }
          ],
          "scatterternary": [
           {
            "marker": {
             "colorbar": {
              "outlinewidth": 0,
              "ticks": ""
             }
            },
            "type": "scatterternary"
           }
          ],
          "surface": [
           {
            "colorbar": {
             "outlinewidth": 0,
             "ticks": ""
            },
            "colorscale": [
             [
              0,
              "#0d0887"
             ],
             [
              0.1111111111111111,
              "#46039f"
             ],
             [
              0.2222222222222222,
              "#7201a8"
             ],
             [
              0.3333333333333333,
              "#9c179e"
             ],
             [
              0.4444444444444444,
              "#bd3786"
             ],
             [
              0.5555555555555556,
              "#d8576b"
             ],
             [
              0.6666666666666666,
              "#ed7953"
             ],
             [
              0.7777777777777778,
              "#fb9f3a"
             ],
             [
              0.8888888888888888,
              "#fdca26"
             ],
             [
              1,
              "#f0f921"
             ]
            ],
            "type": "surface"
           }
          ],
          "table": [
           {
            "cells": {
             "fill": {
              "color": "#EBF0F8"
             },
             "line": {
              "color": "white"
             }
            },
            "header": {
             "fill": {
              "color": "#C8D4E3"
             },
             "line": {
              "color": "white"
             }
            },
            "type": "table"
           }
          ]
         },
         "layout": {
          "annotationdefaults": {
           "arrowcolor": "#2a3f5f",
           "arrowhead": 0,
           "arrowwidth": 1
          },
          "autotypenumbers": "strict",
          "coloraxis": {
           "colorbar": {
            "outlinewidth": 0,
            "ticks": ""
           }
          },
          "colorscale": {
           "diverging": [
            [
             0,
             "#8e0152"
            ],
            [
             0.1,
             "#c51b7d"
            ],
            [
             0.2,
             "#de77ae"
            ],
            [
             0.3,
             "#f1b6da"
            ],
            [
             0.4,
             "#fde0ef"
            ],
            [
             0.5,
             "#f7f7f7"
            ],
            [
             0.6,
             "#e6f5d0"
            ],
            [
             0.7,
             "#b8e186"
            ],
            [
             0.8,
             "#7fbc41"
            ],
            [
             0.9,
             "#4d9221"
            ],
            [
             1,
             "#276419"
            ]
           ],
           "sequential": [
            [
             0,
             "#0d0887"
            ],
            [
             0.1111111111111111,
             "#46039f"
            ],
            [
             0.2222222222222222,
             "#7201a8"
            ],
            [
             0.3333333333333333,
             "#9c179e"
            ],
            [
             0.4444444444444444,
             "#bd3786"
            ],
            [
             0.5555555555555556,
             "#d8576b"
            ],
            [
             0.6666666666666666,
             "#ed7953"
            ],
            [
             0.7777777777777778,
             "#fb9f3a"
            ],
            [
             0.8888888888888888,
             "#fdca26"
            ],
            [
             1,
             "#f0f921"
            ]
           ],
           "sequentialminus": [
            [
             0,
             "#0d0887"
            ],
            [
             0.1111111111111111,
             "#46039f"
            ],
            [
             0.2222222222222222,
             "#7201a8"
            ],
            [
             0.3333333333333333,
             "#9c179e"
            ],
            [
             0.4444444444444444,
             "#bd3786"
            ],
            [
             0.5555555555555556,
             "#d8576b"
            ],
            [
             0.6666666666666666,
             "#ed7953"
            ],
            [
             0.7777777777777778,
             "#fb9f3a"
            ],
            [
             0.8888888888888888,
             "#fdca26"
            ],
            [
             1,
             "#f0f921"
            ]
           ]
          },
          "colorway": [
           "#636efa",
           "#EF553B",
           "#00cc96",
           "#ab63fa",
           "#FFA15A",
           "#19d3f3",
           "#FF6692",
           "#B6E880",
           "#FF97FF",
           "#FECB52"
          ],
          "font": {
           "color": "#2a3f5f"
          },
          "geo": {
           "bgcolor": "white",
           "lakecolor": "white",
           "landcolor": "#E5ECF6",
           "showlakes": true,
           "showland": true,
           "subunitcolor": "white"
          },
          "hoverlabel": {
           "align": "left"
          },
          "hovermode": "closest",
          "mapbox": {
           "style": "light"
          },
          "paper_bgcolor": "white",
          "plot_bgcolor": "#E5ECF6",
          "polar": {
           "angularaxis": {
            "gridcolor": "white",
            "linecolor": "white",
            "ticks": ""
           },
           "bgcolor": "#E5ECF6",
           "radialaxis": {
            "gridcolor": "white",
            "linecolor": "white",
            "ticks": ""
           }
          },
          "scene": {
           "xaxis": {
            "backgroundcolor": "#E5ECF6",
            "gridcolor": "white",
            "gridwidth": 2,
            "linecolor": "white",
            "showbackground": true,
            "ticks": "",
            "zerolinecolor": "white"
           },
           "yaxis": {
            "backgroundcolor": "#E5ECF6",
            "gridcolor": "white",
            "gridwidth": 2,
            "linecolor": "white",
            "showbackground": true,
            "ticks": "",
            "zerolinecolor": "white"
           },
           "zaxis": {
            "backgroundcolor": "#E5ECF6",
            "gridcolor": "white",
            "gridwidth": 2,
            "linecolor": "white",
            "showbackground": true,
            "ticks": "",
            "zerolinecolor": "white"
           }
          },
          "shapedefaults": {
           "line": {
            "color": "#2a3f5f"
           }
          },
          "ternary": {
           "aaxis": {
            "gridcolor": "white",
            "linecolor": "white",
            "ticks": ""
           },
           "baxis": {
            "gridcolor": "white",
            "linecolor": "white",
            "ticks": ""
           },
           "bgcolor": "#E5ECF6",
           "caxis": {
            "gridcolor": "white",
            "linecolor": "white",
            "ticks": ""
           }
          },
          "title": {
           "x": 0.05
          },
          "xaxis": {
           "automargin": true,
           "gridcolor": "white",
           "linecolor": "white",
           "ticks": "",
           "title": {
            "standoff": 15
           },
           "zerolinecolor": "white",
           "zerolinewidth": 2
          },
          "yaxis": {
           "automargin": true,
           "gridcolor": "white",
           "linecolor": "white",
           "ticks": "",
           "title": {
            "standoff": 15
           },
           "zerolinecolor": "white",
           "zerolinewidth": 2
          }
         }
        },
        "title": {
         "text": "Total Visits and Bounces per Hour"
        },
        "xaxis": {
         "anchor": "y",
         "domain": [
          0,
          1
         ],
         "title": {
          "text": "hour"
         }
        },
        "yaxis": {
         "anchor": "x",
         "domain": [
          0,
          1
         ],
         "title": {
          "text": "Total visits & Bounces"
         }
        }
       }
      },
      "text/html": [
       "<div>                            <div id=\"a18df800-5ecf-4d8a-b70e-a59e9a7462f6\" class=\"plotly-graph-div\" style=\"height:525px; width:100%;\"></div>            <script type=\"text/javascript\">                require([\"plotly\"], function(Plotly) {                    window.PLOTLYENV=window.PLOTLYENV || {};                                    if (document.getElementById(\"a18df800-5ecf-4d8a-b70e-a59e9a7462f6\")) {                    Plotly.newPlot(                        \"a18df800-5ecf-4d8a-b70e-a59e9a7462f6\",                        [{\"hovertemplate\":\"Metric=total_visits<br>hour=%{x}<br>Total visits & Bounces=%{y}<extra></extra>\",\"legendgroup\":\"total_visits\",\"line\":{\"color\":\"#636efa\",\"dash\":\"solid\"},\"marker\":{\"symbol\":\"circle\"},\"mode\":\"markers+lines\",\"name\":\"total_visits\",\"orientation\":\"h\",\"showlegend\":true,\"x\":[0,1,2,3,4,5,6,7,8,9,10,11,12,13,14,15,16,17,18,19,20,21,22,23],\"xaxis\":\"x\",\"y\":[56146,52034,47505,46638,50468,61250,78041,94571,113495,115480,125113,127995,117996,123429,117578,103746,92542,88012,83764,79850,79197,72762,68545,62190],\"yaxis\":\"y\",\"type\":\"scatter\"},{\"hovertemplate\":\"Metric=total_bounces<br>hour=%{x}<br>Total visits & Bounces=%{y}<extra></extra>\",\"legendgroup\":\"total_bounces\",\"line\":{\"color\":\"#EF553B\",\"dash\":\"solid\"},\"marker\":{\"symbol\":\"circle\"},\"mode\":\"markers+lines\",\"name\":\"total_bounces\",\"orientation\":\"h\",\"showlegend\":true,\"x\":[0,1,2,3,4,5,6,7,8,9,10,11,12,13,14,15,16,17,18,19,20,21,22,23],\"xaxis\":\"x\",\"y\":[8930,8916,9020,9000,9777,10960,11997,12603,13154,12771,12638,12325,11590,11532,10194,8871,8082,7753,7627,7411,7203,6903,7295,7833],\"yaxis\":\"y\",\"type\":\"scatter\"}],                        {\"template\":{\"data\":{\"histogram2dcontour\":[{\"type\":\"histogram2dcontour\",\"colorbar\":{\"outlinewidth\":0,\"ticks\":\"\"},\"colorscale\":[[0.0,\"#0d0887\"],[0.1111111111111111,\"#46039f\"],[0.2222222222222222,\"#7201a8\"],[0.3333333333333333,\"#9c179e\"],[0.4444444444444444,\"#bd3786\"],[0.5555555555555556,\"#d8576b\"],[0.6666666666666666,\"#ed7953\"],[0.7777777777777778,\"#fb9f3a\"],[0.8888888888888888,\"#fdca26\"],[1.0,\"#f0f921\"]]}],\"choropleth\":[{\"type\":\"choropleth\",\"colorbar\":{\"outlinewidth\":0,\"ticks\":\"\"}}],\"histogram2d\":[{\"type\":\"histogram2d\",\"colorbar\":{\"outlinewidth\":0,\"ticks\":\"\"},\"colorscale\":[[0.0,\"#0d0887\"],[0.1111111111111111,\"#46039f\"],[0.2222222222222222,\"#7201a8\"],[0.3333333333333333,\"#9c179e\"],[0.4444444444444444,\"#bd3786\"],[0.5555555555555556,\"#d8576b\"],[0.6666666666666666,\"#ed7953\"],[0.7777777777777778,\"#fb9f3a\"],[0.8888888888888888,\"#fdca26\"],[1.0,\"#f0f921\"]]}],\"heatmap\":[{\"type\":\"heatmap\",\"colorbar\":{\"outlinewidth\":0,\"ticks\":\"\"},\"colorscale\":[[0.0,\"#0d0887\"],[0.1111111111111111,\"#46039f\"],[0.2222222222222222,\"#7201a8\"],[0.3333333333333333,\"#9c179e\"],[0.4444444444444444,\"#bd3786\"],[0.5555555555555556,\"#d8576b\"],[0.6666666666666666,\"#ed7953\"],[0.7777777777777778,\"#fb9f3a\"],[0.8888888888888888,\"#fdca26\"],[1.0,\"#f0f921\"]]}],\"heatmapgl\":[{\"type\":\"heatmapgl\",\"colorbar\":{\"outlinewidth\":0,\"ticks\":\"\"},\"colorscale\":[[0.0,\"#0d0887\"],[0.1111111111111111,\"#46039f\"],[0.2222222222222222,\"#7201a8\"],[0.3333333333333333,\"#9c179e\"],[0.4444444444444444,\"#bd3786\"],[0.5555555555555556,\"#d8576b\"],[0.6666666666666666,\"#ed7953\"],[0.7777777777777778,\"#fb9f3a\"],[0.8888888888888888,\"#fdca26\"],[1.0,\"#f0f921\"]]}],\"contourcarpet\":[{\"type\":\"contourcarpet\",\"colorbar\":{\"outlinewidth\":0,\"ticks\":\"\"}}],\"contour\":[{\"type\":\"contour\",\"colorbar\":{\"outlinewidth\":0,\"ticks\":\"\"},\"colorscale\":[[0.0,\"#0d0887\"],[0.1111111111111111,\"#46039f\"],[0.2222222222222222,\"#7201a8\"],[0.3333333333333333,\"#9c179e\"],[0.4444444444444444,\"#bd3786\"],[0.5555555555555556,\"#d8576b\"],[0.6666666666666666,\"#ed7953\"],[0.7777777777777778,\"#fb9f3a\"],[0.8888888888888888,\"#fdca26\"],[1.0,\"#f0f921\"]]}],\"surface\":[{\"type\":\"surface\",\"colorbar\":{\"outlinewidth\":0,\"ticks\":\"\"},\"colorscale\":[[0.0,\"#0d0887\"],[0.1111111111111111,\"#46039f\"],[0.2222222222222222,\"#7201a8\"],[0.3333333333333333,\"#9c179e\"],[0.4444444444444444,\"#bd3786\"],[0.5555555555555556,\"#d8576b\"],[0.6666666666666666,\"#ed7953\"],[0.7777777777777778,\"#fb9f3a\"],[0.8888888888888888,\"#fdca26\"],[1.0,\"#f0f921\"]]}],\"mesh3d\":[{\"type\":\"mesh3d\",\"colorbar\":{\"outlinewidth\":0,\"ticks\":\"\"}}],\"scatter\":[{\"fillpattern\":{\"fillmode\":\"overlay\",\"size\":10,\"solidity\":0.2},\"type\":\"scatter\"}],\"parcoords\":[{\"type\":\"parcoords\",\"line\":{\"colorbar\":{\"outlinewidth\":0,\"ticks\":\"\"}}}],\"scatterpolargl\":[{\"type\":\"scatterpolargl\",\"marker\":{\"colorbar\":{\"outlinewidth\":0,\"ticks\":\"\"}}}],\"bar\":[{\"error_x\":{\"color\":\"#2a3f5f\"},\"error_y\":{\"color\":\"#2a3f5f\"},\"marker\":{\"line\":{\"color\":\"#E5ECF6\",\"width\":0.5},\"pattern\":{\"fillmode\":\"overlay\",\"size\":10,\"solidity\":0.2}},\"type\":\"bar\"}],\"scattergeo\":[{\"type\":\"scattergeo\",\"marker\":{\"colorbar\":{\"outlinewidth\":0,\"ticks\":\"\"}}}],\"scatterpolar\":[{\"type\":\"scatterpolar\",\"marker\":{\"colorbar\":{\"outlinewidth\":0,\"ticks\":\"\"}}}],\"histogram\":[{\"marker\":{\"pattern\":{\"fillmode\":\"overlay\",\"size\":10,\"solidity\":0.2}},\"type\":\"histogram\"}],\"scattergl\":[{\"type\":\"scattergl\",\"marker\":{\"colorbar\":{\"outlinewidth\":0,\"ticks\":\"\"}}}],\"scatter3d\":[{\"type\":\"scatter3d\",\"line\":{\"colorbar\":{\"outlinewidth\":0,\"ticks\":\"\"}},\"marker\":{\"colorbar\":{\"outlinewidth\":0,\"ticks\":\"\"}}}],\"scattermapbox\":[{\"type\":\"scattermapbox\",\"marker\":{\"colorbar\":{\"outlinewidth\":0,\"ticks\":\"\"}}}],\"scatterternary\":[{\"type\":\"scatterternary\",\"marker\":{\"colorbar\":{\"outlinewidth\":0,\"ticks\":\"\"}}}],\"scattercarpet\":[{\"type\":\"scattercarpet\",\"marker\":{\"colorbar\":{\"outlinewidth\":0,\"ticks\":\"\"}}}],\"carpet\":[{\"aaxis\":{\"endlinecolor\":\"#2a3f5f\",\"gridcolor\":\"white\",\"linecolor\":\"white\",\"minorgridcolor\":\"white\",\"startlinecolor\":\"#2a3f5f\"},\"baxis\":{\"endlinecolor\":\"#2a3f5f\",\"gridcolor\":\"white\",\"linecolor\":\"white\",\"minorgridcolor\":\"white\",\"startlinecolor\":\"#2a3f5f\"},\"type\":\"carpet\"}],\"table\":[{\"cells\":{\"fill\":{\"color\":\"#EBF0F8\"},\"line\":{\"color\":\"white\"}},\"header\":{\"fill\":{\"color\":\"#C8D4E3\"},\"line\":{\"color\":\"white\"}},\"type\":\"table\"}],\"barpolar\":[{\"marker\":{\"line\":{\"color\":\"#E5ECF6\",\"width\":0.5},\"pattern\":{\"fillmode\":\"overlay\",\"size\":10,\"solidity\":0.2}},\"type\":\"barpolar\"}],\"pie\":[{\"automargin\":true,\"type\":\"pie\"}]},\"layout\":{\"autotypenumbers\":\"strict\",\"colorway\":[\"#636efa\",\"#EF553B\",\"#00cc96\",\"#ab63fa\",\"#FFA15A\",\"#19d3f3\",\"#FF6692\",\"#B6E880\",\"#FF97FF\",\"#FECB52\"],\"font\":{\"color\":\"#2a3f5f\"},\"hovermode\":\"closest\",\"hoverlabel\":{\"align\":\"left\"},\"paper_bgcolor\":\"white\",\"plot_bgcolor\":\"#E5ECF6\",\"polar\":{\"bgcolor\":\"#E5ECF6\",\"angularaxis\":{\"gridcolor\":\"white\",\"linecolor\":\"white\",\"ticks\":\"\"},\"radialaxis\":{\"gridcolor\":\"white\",\"linecolor\":\"white\",\"ticks\":\"\"}},\"ternary\":{\"bgcolor\":\"#E5ECF6\",\"aaxis\":{\"gridcolor\":\"white\",\"linecolor\":\"white\",\"ticks\":\"\"},\"baxis\":{\"gridcolor\":\"white\",\"linecolor\":\"white\",\"ticks\":\"\"},\"caxis\":{\"gridcolor\":\"white\",\"linecolor\":\"white\",\"ticks\":\"\"}},\"coloraxis\":{\"colorbar\":{\"outlinewidth\":0,\"ticks\":\"\"}},\"colorscale\":{\"sequential\":[[0.0,\"#0d0887\"],[0.1111111111111111,\"#46039f\"],[0.2222222222222222,\"#7201a8\"],[0.3333333333333333,\"#9c179e\"],[0.4444444444444444,\"#bd3786\"],[0.5555555555555556,\"#d8576b\"],[0.6666666666666666,\"#ed7953\"],[0.7777777777777778,\"#fb9f3a\"],[0.8888888888888888,\"#fdca26\"],[1.0,\"#f0f921\"]],\"sequentialminus\":[[0.0,\"#0d0887\"],[0.1111111111111111,\"#46039f\"],[0.2222222222222222,\"#7201a8\"],[0.3333333333333333,\"#9c179e\"],[0.4444444444444444,\"#bd3786\"],[0.5555555555555556,\"#d8576b\"],[0.6666666666666666,\"#ed7953\"],[0.7777777777777778,\"#fb9f3a\"],[0.8888888888888888,\"#fdca26\"],[1.0,\"#f0f921\"]],\"diverging\":[[0,\"#8e0152\"],[0.1,\"#c51b7d\"],[0.2,\"#de77ae\"],[0.3,\"#f1b6da\"],[0.4,\"#fde0ef\"],[0.5,\"#f7f7f7\"],[0.6,\"#e6f5d0\"],[0.7,\"#b8e186\"],[0.8,\"#7fbc41\"],[0.9,\"#4d9221\"],[1,\"#276419\"]]},\"xaxis\":{\"gridcolor\":\"white\",\"linecolor\":\"white\",\"ticks\":\"\",\"title\":{\"standoff\":15},\"zerolinecolor\":\"white\",\"automargin\":true,\"zerolinewidth\":2},\"yaxis\":{\"gridcolor\":\"white\",\"linecolor\":\"white\",\"ticks\":\"\",\"title\":{\"standoff\":15},\"zerolinecolor\":\"white\",\"automargin\":true,\"zerolinewidth\":2},\"scene\":{\"xaxis\":{\"backgroundcolor\":\"#E5ECF6\",\"gridcolor\":\"white\",\"linecolor\":\"white\",\"showbackground\":true,\"ticks\":\"\",\"zerolinecolor\":\"white\",\"gridwidth\":2},\"yaxis\":{\"backgroundcolor\":\"#E5ECF6\",\"gridcolor\":\"white\",\"linecolor\":\"white\",\"showbackground\":true,\"ticks\":\"\",\"zerolinecolor\":\"white\",\"gridwidth\":2},\"zaxis\":{\"backgroundcolor\":\"#E5ECF6\",\"gridcolor\":\"white\",\"linecolor\":\"white\",\"showbackground\":true,\"ticks\":\"\",\"zerolinecolor\":\"white\",\"gridwidth\":2}},\"shapedefaults\":{\"line\":{\"color\":\"#2a3f5f\"}},\"annotationdefaults\":{\"arrowcolor\":\"#2a3f5f\",\"arrowhead\":0,\"arrowwidth\":1},\"geo\":{\"bgcolor\":\"white\",\"landcolor\":\"#E5ECF6\",\"subunitcolor\":\"white\",\"showland\":true,\"showlakes\":true,\"lakecolor\":\"white\"},\"title\":{\"x\":0.05},\"mapbox\":{\"style\":\"light\"}}},\"xaxis\":{\"anchor\":\"y\",\"domain\":[0.0,1.0],\"title\":{\"text\":\"hour\"}},\"yaxis\":{\"anchor\":\"x\",\"domain\":[0.0,1.0],\"title\":{\"text\":\"Total visits & Bounces\"}},\"legend\":{\"title\":{\"text\":\"Metric\"},\"tracegroupgap\":0},\"title\":{\"text\":\"Total Visits and Bounces per Hour\"}},                        {\"responsive\": true}                    ).then(function(){\n",
       "                            \n",
       "var gd = document.getElementById('a18df800-5ecf-4d8a-b70e-a59e9a7462f6');\n",
       "var x = new MutationObserver(function (mutations, observer) {{\n",
       "        var display = window.getComputedStyle(gd).display;\n",
       "        if (!display || display === 'none') {{\n",
       "            console.log([gd, 'removed!']);\n",
       "            Plotly.purge(gd);\n",
       "            observer.disconnect();\n",
       "        }}\n",
       "}});\n",
       "\n",
       "// Listen for the removal of the full notebook cells\n",
       "var notebookContainer = gd.closest('#notebook-container');\n",
       "if (notebookContainer) {{\n",
       "    x.observe(notebookContainer, {childList: true});\n",
       "}}\n",
       "\n",
       "// Listen for the clearing of the current output cell\n",
       "var outputEl = gd.closest('.output');\n",
       "if (outputEl) {{\n",
       "    x.observe(outputEl, {childList: true});\n",
       "}}\n",
       "\n",
       "                        })                };                });            </script>        </div>"
      ]
     },
     "metadata": {},
     "output_type": "display_data"
    }
   ],
   "source": [
    "# Melt the DataFrame to long format for Plotly express\n",
    "df_melted = df.melt(id_vars=['hour'], value_vars=['total_visits', 'total_bounces'],\n",
    "                    var_name='metric', value_name='value')\n",
    "\n",
    "# Create the line plot\n",
    "fig = px.line(df_melted, x='hour', y='value', color='metric', markers=True,\n",
    "              title='Total Visits and Bounces per Hour',\n",
    "              labels={'value': 'Total visits & Bounces', 'metric': 'Metric'})\n",
    "\n",
    "# Show the plot\n",
    "fig.show()"
   ]
  },
  {
   "cell_type": "code",
   "execution_count": 211,
   "id": "bc32aa6a",
   "metadata": {},
   "outputs": [
    {
     "data": {
      "application/vnd.plotly.v1+json": {
       "config": {
        "plotlyServerURL": "https://plot.ly"
       },
       "data": [
        {
         "alignmentgroup": "True",
         "hovertemplate": "hour=%{x}<br>Bounce Rate=%{y}<extra></extra>",
         "legendgroup": "",
         "marker": {
          "color": "#636efa",
          "pattern": {
           "shape": ""
          }
         },
         "name": "",
         "offsetgroup": "",
         "orientation": "v",
         "showlegend": false,
         "textposition": "auto",
         "type": "bar",
         "x": [
          0,
          1,
          2,
          3,
          4,
          5,
          6,
          7,
          8,
          9,
          10,
          11,
          12,
          13,
          14,
          15,
          16,
          17,
          18,
          19,
          20,
          21,
          22,
          23
         ],
         "xaxis": "x",
         "y": [
          15.904962063192391,
          17.13495022485298,
          18.987475002631303,
          19.297568506368197,
          19.37267179202663,
          17.893877551020406,
          15.372688714906268,
          13.3264954372905,
          11.589937882726112,
          11.059057845514374,
          10.1012684533182,
          9.629282393843509,
          9.822366859893556,
          9.343023114503074,
          8.669989283709539,
          8.550691110982592,
          8.733331892546087,
          8.809026041903376,
          9.105343584356048,
          9.281152160300564,
          9.095041478843896,
          9.487094912179435,
          10.642643518856227,
          12.595272551857212
         ],
         "yaxis": "y"
        }
       ],
       "layout": {
        "barmode": "relative",
        "legend": {
         "tracegroupgap": 0
        },
        "template": {
         "data": {
          "bar": [
           {
            "error_x": {
             "color": "#2a3f5f"
            },
            "error_y": {
             "color": "#2a3f5f"
            },
            "marker": {
             "line": {
              "color": "#E5ECF6",
              "width": 0.5
             },
             "pattern": {
              "fillmode": "overlay",
              "size": 10,
              "solidity": 0.2
             }
            },
            "type": "bar"
           }
          ],
          "barpolar": [
           {
            "marker": {
             "line": {
              "color": "#E5ECF6",
              "width": 0.5
             },
             "pattern": {
              "fillmode": "overlay",
              "size": 10,
              "solidity": 0.2
             }
            },
            "type": "barpolar"
           }
          ],
          "carpet": [
           {
            "aaxis": {
             "endlinecolor": "#2a3f5f",
             "gridcolor": "white",
             "linecolor": "white",
             "minorgridcolor": "white",
             "startlinecolor": "#2a3f5f"
            },
            "baxis": {
             "endlinecolor": "#2a3f5f",
             "gridcolor": "white",
             "linecolor": "white",
             "minorgridcolor": "white",
             "startlinecolor": "#2a3f5f"
            },
            "type": "carpet"
           }
          ],
          "choropleth": [
           {
            "colorbar": {
             "outlinewidth": 0,
             "ticks": ""
            },
            "type": "choropleth"
           }
          ],
          "contour": [
           {
            "colorbar": {
             "outlinewidth": 0,
             "ticks": ""
            },
            "colorscale": [
             [
              0,
              "#0d0887"
             ],
             [
              0.1111111111111111,
              "#46039f"
             ],
             [
              0.2222222222222222,
              "#7201a8"
             ],
             [
              0.3333333333333333,
              "#9c179e"
             ],
             [
              0.4444444444444444,
              "#bd3786"
             ],
             [
              0.5555555555555556,
              "#d8576b"
             ],
             [
              0.6666666666666666,
              "#ed7953"
             ],
             [
              0.7777777777777778,
              "#fb9f3a"
             ],
             [
              0.8888888888888888,
              "#fdca26"
             ],
             [
              1,
              "#f0f921"
             ]
            ],
            "type": "contour"
           }
          ],
          "contourcarpet": [
           {
            "colorbar": {
             "outlinewidth": 0,
             "ticks": ""
            },
            "type": "contourcarpet"
           }
          ],
          "heatmap": [
           {
            "colorbar": {
             "outlinewidth": 0,
             "ticks": ""
            },
            "colorscale": [
             [
              0,
              "#0d0887"
             ],
             [
              0.1111111111111111,
              "#46039f"
             ],
             [
              0.2222222222222222,
              "#7201a8"
             ],
             [
              0.3333333333333333,
              "#9c179e"
             ],
             [
              0.4444444444444444,
              "#bd3786"
             ],
             [
              0.5555555555555556,
              "#d8576b"
             ],
             [
              0.6666666666666666,
              "#ed7953"
             ],
             [
              0.7777777777777778,
              "#fb9f3a"
             ],
             [
              0.8888888888888888,
              "#fdca26"
             ],
             [
              1,
              "#f0f921"
             ]
            ],
            "type": "heatmap"
           }
          ],
          "heatmapgl": [
           {
            "colorbar": {
             "outlinewidth": 0,
             "ticks": ""
            },
            "colorscale": [
             [
              0,
              "#0d0887"
             ],
             [
              0.1111111111111111,
              "#46039f"
             ],
             [
              0.2222222222222222,
              "#7201a8"
             ],
             [
              0.3333333333333333,
              "#9c179e"
             ],
             [
              0.4444444444444444,
              "#bd3786"
             ],
             [
              0.5555555555555556,
              "#d8576b"
             ],
             [
              0.6666666666666666,
              "#ed7953"
             ],
             [
              0.7777777777777778,
              "#fb9f3a"
             ],
             [
              0.8888888888888888,
              "#fdca26"
             ],
             [
              1,
              "#f0f921"
             ]
            ],
            "type": "heatmapgl"
           }
          ],
          "histogram": [
           {
            "marker": {
             "pattern": {
              "fillmode": "overlay",
              "size": 10,
              "solidity": 0.2
             }
            },
            "type": "histogram"
           }
          ],
          "histogram2d": [
           {
            "colorbar": {
             "outlinewidth": 0,
             "ticks": ""
            },
            "colorscale": [
             [
              0,
              "#0d0887"
             ],
             [
              0.1111111111111111,
              "#46039f"
             ],
             [
              0.2222222222222222,
              "#7201a8"
             ],
             [
              0.3333333333333333,
              "#9c179e"
             ],
             [
              0.4444444444444444,
              "#bd3786"
             ],
             [
              0.5555555555555556,
              "#d8576b"
             ],
             [
              0.6666666666666666,
              "#ed7953"
             ],
             [
              0.7777777777777778,
              "#fb9f3a"
             ],
             [
              0.8888888888888888,
              "#fdca26"
             ],
             [
              1,
              "#f0f921"
             ]
            ],
            "type": "histogram2d"
           }
          ],
          "histogram2dcontour": [
           {
            "colorbar": {
             "outlinewidth": 0,
             "ticks": ""
            },
            "colorscale": [
             [
              0,
              "#0d0887"
             ],
             [
              0.1111111111111111,
              "#46039f"
             ],
             [
              0.2222222222222222,
              "#7201a8"
             ],
             [
              0.3333333333333333,
              "#9c179e"
             ],
             [
              0.4444444444444444,
              "#bd3786"
             ],
             [
              0.5555555555555556,
              "#d8576b"
             ],
             [
              0.6666666666666666,
              "#ed7953"
             ],
             [
              0.7777777777777778,
              "#fb9f3a"
             ],
             [
              0.8888888888888888,
              "#fdca26"
             ],
             [
              1,
              "#f0f921"
             ]
            ],
            "type": "histogram2dcontour"
           }
          ],
          "mesh3d": [
           {
            "colorbar": {
             "outlinewidth": 0,
             "ticks": ""
            },
            "type": "mesh3d"
           }
          ],
          "parcoords": [
           {
            "line": {
             "colorbar": {
              "outlinewidth": 0,
              "ticks": ""
             }
            },
            "type": "parcoords"
           }
          ],
          "pie": [
           {
            "automargin": true,
            "type": "pie"
           }
          ],
          "scatter": [
           {
            "fillpattern": {
             "fillmode": "overlay",
             "size": 10,
             "solidity": 0.2
            },
            "type": "scatter"
           }
          ],
          "scatter3d": [
           {
            "line": {
             "colorbar": {
              "outlinewidth": 0,
              "ticks": ""
             }
            },
            "marker": {
             "colorbar": {
              "outlinewidth": 0,
              "ticks": ""
             }
            },
            "type": "scatter3d"
           }
          ],
          "scattercarpet": [
           {
            "marker": {
             "colorbar": {
              "outlinewidth": 0,
              "ticks": ""
             }
            },
            "type": "scattercarpet"
           }
          ],
          "scattergeo": [
           {
            "marker": {
             "colorbar": {
              "outlinewidth": 0,
              "ticks": ""
             }
            },
            "type": "scattergeo"
           }
          ],
          "scattergl": [
           {
            "marker": {
             "colorbar": {
              "outlinewidth": 0,
              "ticks": ""
             }
            },
            "type": "scattergl"
           }
          ],
          "scattermapbox": [
           {
            "marker": {
             "colorbar": {
              "outlinewidth": 0,
              "ticks": ""
             }
            },
            "type": "scattermapbox"
           }
          ],
          "scatterpolar": [
           {
            "marker": {
             "colorbar": {
              "outlinewidth": 0,
              "ticks": ""
             }
            },
            "type": "scatterpolar"
           }
          ],
          "scatterpolargl": [
           {
            "marker": {
             "colorbar": {
              "outlinewidth": 0,
              "ticks": ""
             }
            },
            "type": "scatterpolargl"
           }
          ],
          "scatterternary": [
           {
            "marker": {
             "colorbar": {
              "outlinewidth": 0,
              "ticks": ""
             }
            },
            "type": "scatterternary"
           }
          ],
          "surface": [
           {
            "colorbar": {
             "outlinewidth": 0,
             "ticks": ""
            },
            "colorscale": [
             [
              0,
              "#0d0887"
             ],
             [
              0.1111111111111111,
              "#46039f"
             ],
             [
              0.2222222222222222,
              "#7201a8"
             ],
             [
              0.3333333333333333,
              "#9c179e"
             ],
             [
              0.4444444444444444,
              "#bd3786"
             ],
             [
              0.5555555555555556,
              "#d8576b"
             ],
             [
              0.6666666666666666,
              "#ed7953"
             ],
             [
              0.7777777777777778,
              "#fb9f3a"
             ],
             [
              0.8888888888888888,
              "#fdca26"
             ],
             [
              1,
              "#f0f921"
             ]
            ],
            "type": "surface"
           }
          ],
          "table": [
           {
            "cells": {
             "fill": {
              "color": "#EBF0F8"
             },
             "line": {
              "color": "white"
             }
            },
            "header": {
             "fill": {
              "color": "#C8D4E3"
             },
             "line": {
              "color": "white"
             }
            },
            "type": "table"
           }
          ]
         },
         "layout": {
          "annotationdefaults": {
           "arrowcolor": "#2a3f5f",
           "arrowhead": 0,
           "arrowwidth": 1
          },
          "autotypenumbers": "strict",
          "coloraxis": {
           "colorbar": {
            "outlinewidth": 0,
            "ticks": ""
           }
          },
          "colorscale": {
           "diverging": [
            [
             0,
             "#8e0152"
            ],
            [
             0.1,
             "#c51b7d"
            ],
            [
             0.2,
             "#de77ae"
            ],
            [
             0.3,
             "#f1b6da"
            ],
            [
             0.4,
             "#fde0ef"
            ],
            [
             0.5,
             "#f7f7f7"
            ],
            [
             0.6,
             "#e6f5d0"
            ],
            [
             0.7,
             "#b8e186"
            ],
            [
             0.8,
             "#7fbc41"
            ],
            [
             0.9,
             "#4d9221"
            ],
            [
             1,
             "#276419"
            ]
           ],
           "sequential": [
            [
             0,
             "#0d0887"
            ],
            [
             0.1111111111111111,
             "#46039f"
            ],
            [
             0.2222222222222222,
             "#7201a8"
            ],
            [
             0.3333333333333333,
             "#9c179e"
            ],
            [
             0.4444444444444444,
             "#bd3786"
            ],
            [
             0.5555555555555556,
             "#d8576b"
            ],
            [
             0.6666666666666666,
             "#ed7953"
            ],
            [
             0.7777777777777778,
             "#fb9f3a"
            ],
            [
             0.8888888888888888,
             "#fdca26"
            ],
            [
             1,
             "#f0f921"
            ]
           ],
           "sequentialminus": [
            [
             0,
             "#0d0887"
            ],
            [
             0.1111111111111111,
             "#46039f"
            ],
            [
             0.2222222222222222,
             "#7201a8"
            ],
            [
             0.3333333333333333,
             "#9c179e"
            ],
            [
             0.4444444444444444,
             "#bd3786"
            ],
            [
             0.5555555555555556,
             "#d8576b"
            ],
            [
             0.6666666666666666,
             "#ed7953"
            ],
            [
             0.7777777777777778,
             "#fb9f3a"
            ],
            [
             0.8888888888888888,
             "#fdca26"
            ],
            [
             1,
             "#f0f921"
            ]
           ]
          },
          "colorway": [
           "#636efa",
           "#EF553B",
           "#00cc96",
           "#ab63fa",
           "#FFA15A",
           "#19d3f3",
           "#FF6692",
           "#B6E880",
           "#FF97FF",
           "#FECB52"
          ],
          "font": {
           "color": "#2a3f5f"
          },
          "geo": {
           "bgcolor": "white",
           "lakecolor": "white",
           "landcolor": "#E5ECF6",
           "showlakes": true,
           "showland": true,
           "subunitcolor": "white"
          },
          "hoverlabel": {
           "align": "left"
          },
          "hovermode": "closest",
          "mapbox": {
           "style": "light"
          },
          "paper_bgcolor": "white",
          "plot_bgcolor": "#E5ECF6",
          "polar": {
           "angularaxis": {
            "gridcolor": "white",
            "linecolor": "white",
            "ticks": ""
           },
           "bgcolor": "#E5ECF6",
           "radialaxis": {
            "gridcolor": "white",
            "linecolor": "white",
            "ticks": ""
           }
          },
          "scene": {
           "xaxis": {
            "backgroundcolor": "#E5ECF6",
            "gridcolor": "white",
            "gridwidth": 2,
            "linecolor": "white",
            "showbackground": true,
            "ticks": "",
            "zerolinecolor": "white"
           },
           "yaxis": {
            "backgroundcolor": "#E5ECF6",
            "gridcolor": "white",
            "gridwidth": 2,
            "linecolor": "white",
            "showbackground": true,
            "ticks": "",
            "zerolinecolor": "white"
           },
           "zaxis": {
            "backgroundcolor": "#E5ECF6",
            "gridcolor": "white",
            "gridwidth": 2,
            "linecolor": "white",
            "showbackground": true,
            "ticks": "",
            "zerolinecolor": "white"
           }
          },
          "shapedefaults": {
           "line": {
            "color": "#2a3f5f"
           }
          },
          "ternary": {
           "aaxis": {
            "gridcolor": "white",
            "linecolor": "white",
            "ticks": ""
           },
           "baxis": {
            "gridcolor": "white",
            "linecolor": "white",
            "ticks": ""
           },
           "bgcolor": "#E5ECF6",
           "caxis": {
            "gridcolor": "white",
            "linecolor": "white",
            "ticks": ""
           }
          },
          "title": {
           "x": 0.05
          },
          "xaxis": {
           "automargin": true,
           "gridcolor": "white",
           "linecolor": "white",
           "ticks": "",
           "title": {
            "standoff": 15
           },
           "zerolinecolor": "white",
           "zerolinewidth": 2
          },
          "yaxis": {
           "automargin": true,
           "gridcolor": "white",
           "linecolor": "white",
           "ticks": "",
           "title": {
            "standoff": 15
           },
           "zerolinecolor": "white",
           "zerolinewidth": 2
          }
         }
        },
        "title": {
         "text": "Bounce Rate by Hour"
        },
        "xaxis": {
         "anchor": "y",
         "domain": [
          0,
          1
         ],
         "title": {
          "text": "hour"
         }
        },
        "yaxis": {
         "anchor": "x",
         "domain": [
          0,
          1
         ],
         "title": {
          "text": "Bounce Rate"
         }
        }
       }
      },
      "text/html": [
       "<div>                            <div id=\"136111ba-9dde-4e3d-b991-52f96ca636da\" class=\"plotly-graph-div\" style=\"height:525px; width:100%;\"></div>            <script type=\"text/javascript\">                require([\"plotly\"], function(Plotly) {                    window.PLOTLYENV=window.PLOTLYENV || {};                                    if (document.getElementById(\"136111ba-9dde-4e3d-b991-52f96ca636da\")) {                    Plotly.newPlot(                        \"136111ba-9dde-4e3d-b991-52f96ca636da\",                        [{\"alignmentgroup\":\"True\",\"hovertemplate\":\"hour=%{x}<br>Bounce Rate=%{y}<extra></extra>\",\"legendgroup\":\"\",\"marker\":{\"color\":\"#636efa\",\"pattern\":{\"shape\":\"\"}},\"name\":\"\",\"offsetgroup\":\"\",\"orientation\":\"v\",\"showlegend\":false,\"textposition\":\"auto\",\"x\":[0,1,2,3,4,5,6,7,8,9,10,11,12,13,14,15,16,17,18,19,20,21,22,23],\"xaxis\":\"x\",\"y\":[15.904962063192391,17.13495022485298,18.987475002631303,19.297568506368197,19.37267179202663,17.893877551020406,15.372688714906268,13.3264954372905,11.589937882726112,11.059057845514374,10.1012684533182,9.629282393843509,9.822366859893556,9.343023114503074,8.669989283709539,8.550691110982592,8.733331892546087,8.809026041903376,9.105343584356048,9.281152160300564,9.095041478843896,9.487094912179435,10.642643518856227,12.595272551857212],\"yaxis\":\"y\",\"type\":\"bar\"}],                        {\"template\":{\"data\":{\"histogram2dcontour\":[{\"type\":\"histogram2dcontour\",\"colorbar\":{\"outlinewidth\":0,\"ticks\":\"\"},\"colorscale\":[[0.0,\"#0d0887\"],[0.1111111111111111,\"#46039f\"],[0.2222222222222222,\"#7201a8\"],[0.3333333333333333,\"#9c179e\"],[0.4444444444444444,\"#bd3786\"],[0.5555555555555556,\"#d8576b\"],[0.6666666666666666,\"#ed7953\"],[0.7777777777777778,\"#fb9f3a\"],[0.8888888888888888,\"#fdca26\"],[1.0,\"#f0f921\"]]}],\"choropleth\":[{\"type\":\"choropleth\",\"colorbar\":{\"outlinewidth\":0,\"ticks\":\"\"}}],\"histogram2d\":[{\"type\":\"histogram2d\",\"colorbar\":{\"outlinewidth\":0,\"ticks\":\"\"},\"colorscale\":[[0.0,\"#0d0887\"],[0.1111111111111111,\"#46039f\"],[0.2222222222222222,\"#7201a8\"],[0.3333333333333333,\"#9c179e\"],[0.4444444444444444,\"#bd3786\"],[0.5555555555555556,\"#d8576b\"],[0.6666666666666666,\"#ed7953\"],[0.7777777777777778,\"#fb9f3a\"],[0.8888888888888888,\"#fdca26\"],[1.0,\"#f0f921\"]]}],\"heatmap\":[{\"type\":\"heatmap\",\"colorbar\":{\"outlinewidth\":0,\"ticks\":\"\"},\"colorscale\":[[0.0,\"#0d0887\"],[0.1111111111111111,\"#46039f\"],[0.2222222222222222,\"#7201a8\"],[0.3333333333333333,\"#9c179e\"],[0.4444444444444444,\"#bd3786\"],[0.5555555555555556,\"#d8576b\"],[0.6666666666666666,\"#ed7953\"],[0.7777777777777778,\"#fb9f3a\"],[0.8888888888888888,\"#fdca26\"],[1.0,\"#f0f921\"]]}],\"heatmapgl\":[{\"type\":\"heatmapgl\",\"colorbar\":{\"outlinewidth\":0,\"ticks\":\"\"},\"colorscale\":[[0.0,\"#0d0887\"],[0.1111111111111111,\"#46039f\"],[0.2222222222222222,\"#7201a8\"],[0.3333333333333333,\"#9c179e\"],[0.4444444444444444,\"#bd3786\"],[0.5555555555555556,\"#d8576b\"],[0.6666666666666666,\"#ed7953\"],[0.7777777777777778,\"#fb9f3a\"],[0.8888888888888888,\"#fdca26\"],[1.0,\"#f0f921\"]]}],\"contourcarpet\":[{\"type\":\"contourcarpet\",\"colorbar\":{\"outlinewidth\":0,\"ticks\":\"\"}}],\"contour\":[{\"type\":\"contour\",\"colorbar\":{\"outlinewidth\":0,\"ticks\":\"\"},\"colorscale\":[[0.0,\"#0d0887\"],[0.1111111111111111,\"#46039f\"],[0.2222222222222222,\"#7201a8\"],[0.3333333333333333,\"#9c179e\"],[0.4444444444444444,\"#bd3786\"],[0.5555555555555556,\"#d8576b\"],[0.6666666666666666,\"#ed7953\"],[0.7777777777777778,\"#fb9f3a\"],[0.8888888888888888,\"#fdca26\"],[1.0,\"#f0f921\"]]}],\"surface\":[{\"type\":\"surface\",\"colorbar\":{\"outlinewidth\":0,\"ticks\":\"\"},\"colorscale\":[[0.0,\"#0d0887\"],[0.1111111111111111,\"#46039f\"],[0.2222222222222222,\"#7201a8\"],[0.3333333333333333,\"#9c179e\"],[0.4444444444444444,\"#bd3786\"],[0.5555555555555556,\"#d8576b\"],[0.6666666666666666,\"#ed7953\"],[0.7777777777777778,\"#fb9f3a\"],[0.8888888888888888,\"#fdca26\"],[1.0,\"#f0f921\"]]}],\"mesh3d\":[{\"type\":\"mesh3d\",\"colorbar\":{\"outlinewidth\":0,\"ticks\":\"\"}}],\"scatter\":[{\"fillpattern\":{\"fillmode\":\"overlay\",\"size\":10,\"solidity\":0.2},\"type\":\"scatter\"}],\"parcoords\":[{\"type\":\"parcoords\",\"line\":{\"colorbar\":{\"outlinewidth\":0,\"ticks\":\"\"}}}],\"scatterpolargl\":[{\"type\":\"scatterpolargl\",\"marker\":{\"colorbar\":{\"outlinewidth\":0,\"ticks\":\"\"}}}],\"bar\":[{\"error_x\":{\"color\":\"#2a3f5f\"},\"error_y\":{\"color\":\"#2a3f5f\"},\"marker\":{\"line\":{\"color\":\"#E5ECF6\",\"width\":0.5},\"pattern\":{\"fillmode\":\"overlay\",\"size\":10,\"solidity\":0.2}},\"type\":\"bar\"}],\"scattergeo\":[{\"type\":\"scattergeo\",\"marker\":{\"colorbar\":{\"outlinewidth\":0,\"ticks\":\"\"}}}],\"scatterpolar\":[{\"type\":\"scatterpolar\",\"marker\":{\"colorbar\":{\"outlinewidth\":0,\"ticks\":\"\"}}}],\"histogram\":[{\"marker\":{\"pattern\":{\"fillmode\":\"overlay\",\"size\":10,\"solidity\":0.2}},\"type\":\"histogram\"}],\"scattergl\":[{\"type\":\"scattergl\",\"marker\":{\"colorbar\":{\"outlinewidth\":0,\"ticks\":\"\"}}}],\"scatter3d\":[{\"type\":\"scatter3d\",\"line\":{\"colorbar\":{\"outlinewidth\":0,\"ticks\":\"\"}},\"marker\":{\"colorbar\":{\"outlinewidth\":0,\"ticks\":\"\"}}}],\"scattermapbox\":[{\"type\":\"scattermapbox\",\"marker\":{\"colorbar\":{\"outlinewidth\":0,\"ticks\":\"\"}}}],\"scatterternary\":[{\"type\":\"scatterternary\",\"marker\":{\"colorbar\":{\"outlinewidth\":0,\"ticks\":\"\"}}}],\"scattercarpet\":[{\"type\":\"scattercarpet\",\"marker\":{\"colorbar\":{\"outlinewidth\":0,\"ticks\":\"\"}}}],\"carpet\":[{\"aaxis\":{\"endlinecolor\":\"#2a3f5f\",\"gridcolor\":\"white\",\"linecolor\":\"white\",\"minorgridcolor\":\"white\",\"startlinecolor\":\"#2a3f5f\"},\"baxis\":{\"endlinecolor\":\"#2a3f5f\",\"gridcolor\":\"white\",\"linecolor\":\"white\",\"minorgridcolor\":\"white\",\"startlinecolor\":\"#2a3f5f\"},\"type\":\"carpet\"}],\"table\":[{\"cells\":{\"fill\":{\"color\":\"#EBF0F8\"},\"line\":{\"color\":\"white\"}},\"header\":{\"fill\":{\"color\":\"#C8D4E3\"},\"line\":{\"color\":\"white\"}},\"type\":\"table\"}],\"barpolar\":[{\"marker\":{\"line\":{\"color\":\"#E5ECF6\",\"width\":0.5},\"pattern\":{\"fillmode\":\"overlay\",\"size\":10,\"solidity\":0.2}},\"type\":\"barpolar\"}],\"pie\":[{\"automargin\":true,\"type\":\"pie\"}]},\"layout\":{\"autotypenumbers\":\"strict\",\"colorway\":[\"#636efa\",\"#EF553B\",\"#00cc96\",\"#ab63fa\",\"#FFA15A\",\"#19d3f3\",\"#FF6692\",\"#B6E880\",\"#FF97FF\",\"#FECB52\"],\"font\":{\"color\":\"#2a3f5f\"},\"hovermode\":\"closest\",\"hoverlabel\":{\"align\":\"left\"},\"paper_bgcolor\":\"white\",\"plot_bgcolor\":\"#E5ECF6\",\"polar\":{\"bgcolor\":\"#E5ECF6\",\"angularaxis\":{\"gridcolor\":\"white\",\"linecolor\":\"white\",\"ticks\":\"\"},\"radialaxis\":{\"gridcolor\":\"white\",\"linecolor\":\"white\",\"ticks\":\"\"}},\"ternary\":{\"bgcolor\":\"#E5ECF6\",\"aaxis\":{\"gridcolor\":\"white\",\"linecolor\":\"white\",\"ticks\":\"\"},\"baxis\":{\"gridcolor\":\"white\",\"linecolor\":\"white\",\"ticks\":\"\"},\"caxis\":{\"gridcolor\":\"white\",\"linecolor\":\"white\",\"ticks\":\"\"}},\"coloraxis\":{\"colorbar\":{\"outlinewidth\":0,\"ticks\":\"\"}},\"colorscale\":{\"sequential\":[[0.0,\"#0d0887\"],[0.1111111111111111,\"#46039f\"],[0.2222222222222222,\"#7201a8\"],[0.3333333333333333,\"#9c179e\"],[0.4444444444444444,\"#bd3786\"],[0.5555555555555556,\"#d8576b\"],[0.6666666666666666,\"#ed7953\"],[0.7777777777777778,\"#fb9f3a\"],[0.8888888888888888,\"#fdca26\"],[1.0,\"#f0f921\"]],\"sequentialminus\":[[0.0,\"#0d0887\"],[0.1111111111111111,\"#46039f\"],[0.2222222222222222,\"#7201a8\"],[0.3333333333333333,\"#9c179e\"],[0.4444444444444444,\"#bd3786\"],[0.5555555555555556,\"#d8576b\"],[0.6666666666666666,\"#ed7953\"],[0.7777777777777778,\"#fb9f3a\"],[0.8888888888888888,\"#fdca26\"],[1.0,\"#f0f921\"]],\"diverging\":[[0,\"#8e0152\"],[0.1,\"#c51b7d\"],[0.2,\"#de77ae\"],[0.3,\"#f1b6da\"],[0.4,\"#fde0ef\"],[0.5,\"#f7f7f7\"],[0.6,\"#e6f5d0\"],[0.7,\"#b8e186\"],[0.8,\"#7fbc41\"],[0.9,\"#4d9221\"],[1,\"#276419\"]]},\"xaxis\":{\"gridcolor\":\"white\",\"linecolor\":\"white\",\"ticks\":\"\",\"title\":{\"standoff\":15},\"zerolinecolor\":\"white\",\"automargin\":true,\"zerolinewidth\":2},\"yaxis\":{\"gridcolor\":\"white\",\"linecolor\":\"white\",\"ticks\":\"\",\"title\":{\"standoff\":15},\"zerolinecolor\":\"white\",\"automargin\":true,\"zerolinewidth\":2},\"scene\":{\"xaxis\":{\"backgroundcolor\":\"#E5ECF6\",\"gridcolor\":\"white\",\"linecolor\":\"white\",\"showbackground\":true,\"ticks\":\"\",\"zerolinecolor\":\"white\",\"gridwidth\":2},\"yaxis\":{\"backgroundcolor\":\"#E5ECF6\",\"gridcolor\":\"white\",\"linecolor\":\"white\",\"showbackground\":true,\"ticks\":\"\",\"zerolinecolor\":\"white\",\"gridwidth\":2},\"zaxis\":{\"backgroundcolor\":\"#E5ECF6\",\"gridcolor\":\"white\",\"linecolor\":\"white\",\"showbackground\":true,\"ticks\":\"\",\"zerolinecolor\":\"white\",\"gridwidth\":2}},\"shapedefaults\":{\"line\":{\"color\":\"#2a3f5f\"}},\"annotationdefaults\":{\"arrowcolor\":\"#2a3f5f\",\"arrowhead\":0,\"arrowwidth\":1},\"geo\":{\"bgcolor\":\"white\",\"landcolor\":\"#E5ECF6\",\"subunitcolor\":\"white\",\"showland\":true,\"showlakes\":true,\"lakecolor\":\"white\"},\"title\":{\"x\":0.05},\"mapbox\":{\"style\":\"light\"}}},\"xaxis\":{\"anchor\":\"y\",\"domain\":[0.0,1.0],\"title\":{\"text\":\"hour\"}},\"yaxis\":{\"anchor\":\"x\",\"domain\":[0.0,1.0],\"title\":{\"text\":\"Bounce Rate\"}},\"legend\":{\"tracegroupgap\":0},\"title\":{\"text\":\"Bounce Rate by Hour\"},\"barmode\":\"relative\"},                        {\"responsive\": true}                    ).then(function(){\n",
       "                            \n",
       "var gd = document.getElementById('136111ba-9dde-4e3d-b991-52f96ca636da');\n",
       "var x = new MutationObserver(function (mutations, observer) {{\n",
       "        var display = window.getComputedStyle(gd).display;\n",
       "        if (!display || display === 'none') {{\n",
       "            console.log([gd, 'removed!']);\n",
       "            Plotly.purge(gd);\n",
       "            observer.disconnect();\n",
       "        }}\n",
       "}});\n",
       "\n",
       "// Listen for the removal of the full notebook cells\n",
       "var notebookContainer = gd.closest('#notebook-container');\n",
       "if (notebookContainer) {{\n",
       "    x.observe(notebookContainer, {childList: true});\n",
       "}}\n",
       "\n",
       "// Listen for the clearing of the current output cell\n",
       "var outputEl = gd.closest('.output');\n",
       "if (outputEl) {{\n",
       "    x.observe(outputEl, {childList: true});\n",
       "}}\n",
       "\n",
       "                        })                };                });            </script>        </div>"
      ]
     },
     "metadata": {},
     "output_type": "display_data"
    }
   ],
   "source": [
    "# Create the line plot\n",
    "fig = px.bar(df, x='hour', y='bounce_rate',\n",
    "              title='Bounce Rate by Hour',\n",
    "              labels={'bounce_rate': 'Bounce Rate',})\n",
    "\n",
    "# Show the plot\n",
    "fig.show()"
   ]
  },
  {
   "cell_type": "markdown",
   "id": "ff55a2f1",
   "metadata": {},
   "source": [
    "NOTE:\n",
    "\n",
    "Doing this can help us understand better the user behavior and might provide some insights about the best time for creating social media posts with content that might attract more users, such as promotions and discounts."
   ]
  },
  {
   "cell_type": "markdown",
   "id": "c11511a5",
   "metadata": {},
   "source": [
    "**Traffic Trends & Patterns**\n",
    "\n",
    "- By analyzing historical website traffic and sales data over a prolonged period, we can determine whether there are any identifiable patterns that repeat annually or at specific intervals. \n",
    "\n",
    "- To analyze seasonal trends, we can aggregate data on a monthly, quarterly, or weekly basis and use visualizations such as line charts, bar graphs, or heatmaps.\n",
    "\n",
    "- We can also use seasonal decomposition methods, such as moving averages or seasonal indices to extract underlying patterns from the noise."
   ]
  },
  {
   "cell_type": "markdown",
   "id": "dbd46e74",
   "metadata": {},
   "source": [
    "NOTES:\n",
    "- \"Traffic Source from which the session originated\" means the origin of visitors to your website. \n",
    "> This information is crucial in understanding how users are finding and accessing your site, which can help optimize marketing efforts and improve user acquisition strategies.\n",
    "\n",
    "\n",
    "Traffic source can come from following sources:\n",
    "\n",
    "- Direct: Visitors who arrive at your site by typing the URL directly into their browser, using a bookmark, or other direct means.\n",
    "\n",
    "- Referral: Visitors who come to your site from a link on another website.\n",
    "\n",
    "- Organic Search: Visitors who arrive at your site from unpaid search engine results (e.g., Google, Bing).\n",
    "\n",
    "- Paid Search: Visitors who come to your site through paid advertising on search engines (e.g., Google Ads).\n",
    "\n",
    "- Social: Visitors who come from social media platforms (e.g., Facebook, Twitter, LinkedIn).\n",
    "\n",
    "- Email: Visitors who arrive via links in email campaigns.\n",
    "\n",
    "- Other Campaigns: Visitors from other specific marketing campaigns, such as display ads or affiliate marketing."
   ]
  },
  {
   "cell_type": "code",
   "execution_count": 212,
   "id": "075451b7",
   "metadata": {},
   "outputs": [
    {
     "data": {
      "text/html": [
       "<div>\n",
       "<style scoped>\n",
       "    .dataframe tbody tr th:only-of-type {\n",
       "        vertical-align: middle;\n",
       "    }\n",
       "\n",
       "    .dataframe tbody tr th {\n",
       "        vertical-align: top;\n",
       "    }\n",
       "\n",
       "    .dataframe thead th {\n",
       "        text-align: right;\n",
       "    }\n",
       "</style>\n",
       "<table border=\"1\" class=\"dataframe\">\n",
       "  <thead>\n",
       "    <tr style=\"text-align: right;\">\n",
       "      <th></th>\n",
       "      <th>month</th>\n",
       "      <th>source</th>\n",
       "      <th>total_visits</th>\n",
       "    </tr>\n",
       "  </thead>\n",
       "  <tbody>\n",
       "    <tr>\n",
       "      <th>0</th>\n",
       "      <td>2017-01-01</td>\n",
       "      <td>(direct)</td>\n",
       "      <td>46795</td>\n",
       "    </tr>\n",
       "    <tr>\n",
       "      <th>1</th>\n",
       "      <td>2017-01-01</td>\n",
       "      <td>youtube.com</td>\n",
       "      <td>9709</td>\n",
       "    </tr>\n",
       "    <tr>\n",
       "      <th>2</th>\n",
       "      <td>2017-01-01</td>\n",
       "      <td>google</td>\n",
       "      <td>2672</td>\n",
       "    </tr>\n",
       "    <tr>\n",
       "      <th>3</th>\n",
       "      <td>2017-01-01</td>\n",
       "      <td>Partners</td>\n",
       "      <td>1248</td>\n",
       "    </tr>\n",
       "    <tr>\n",
       "      <th>4</th>\n",
       "      <td>2017-01-01</td>\n",
       "      <td>analytics.google.com</td>\n",
       "      <td>920</td>\n",
       "    </tr>\n",
       "  </tbody>\n",
       "</table>\n",
       "</div>"
      ],
      "text/plain": [
       "        month                source  total_visits\n",
       "0  2017-01-01              (direct)         46795\n",
       "1  2017-01-01           youtube.com          9709\n",
       "2  2017-01-01                google          2672\n",
       "3  2017-01-01              Partners          1248\n",
       "4  2017-01-01  analytics.google.com           920"
      ]
     },
     "execution_count": 212,
     "metadata": {},
     "output_type": "execute_result"
    }
   ],
   "source": [
    "query = \"\"\"\n",
    "SELECT\n",
    "  DATE_TRUNC(PARSE_DATE('%Y%m%d', _TABLE_SUFFIX), MONTH) month,\n",
    "  trafficSource.source source,\n",
    "  COUNT(*) total_visits\n",
    "FROM `bigquery-public-data.google_analytics_sample.ga_sessions_*`\n",
    "WHERE\n",
    "  _TABLE_SUFFIX BETWEEN '20170101' AND '20170731'\n",
    "GROUP BY\n",
    "  month, source\n",
    "ORDER BY\n",
    "  month, total_visits DESC\n",
    "\"\"\"\n",
    "\n",
    "df = client.query(query).to_dataframe()\n",
    "df.head()"
   ]
  },
  {
   "cell_type": "code",
   "execution_count": 213,
   "id": "b50ad71c",
   "metadata": {},
   "outputs": [
    {
     "data": {
      "application/vnd.plotly.v1+json": {
       "config": {
        "plotlyServerURL": "https://plot.ly"
       },
       "data": [
        {
         "hovertemplate": "source=(direct)<br>month=%{x}<br>total_visits=%{y}<extra></extra>",
         "legendgroup": "(direct)",
         "line": {
          "color": "#636efa",
          "dash": "solid",
          "shape": "spline"
         },
         "marker": {
          "symbol": "circle"
         },
         "mode": "markers+lines",
         "name": "(direct)",
         "orientation": "v",
         "showlegend": true,
         "type": "scatter",
         "x": [
          "2017-01-01",
          "2017-02-01",
          "2017-03-01",
          "2017-04-01",
          "2017-05-01",
          "2017-06-01",
          "2017-07-01"
         ],
         "xaxis": "x",
         "y": [
          46795,
          26549,
          15724,
          19377,
          21454,
          37491,
          19891
         ],
         "yaxis": "y"
        },
        {
         "hovertemplate": "source=youtube.com<br>month=%{x}<br>total_visits=%{y}<extra></extra>",
         "legendgroup": "youtube.com",
         "line": {
          "color": "#EF553B",
          "dash": "solid",
          "shape": "spline"
         },
         "marker": {
          "symbol": "circle"
         },
         "mode": "markers+lines",
         "name": "youtube.com",
         "orientation": "v",
         "showlegend": true,
         "type": "scatter",
         "x": [
          "2017-01-01",
          "2017-02-01",
          "2017-03-01",
          "2017-04-01",
          "2017-05-01",
          "2017-06-01",
          "2017-07-01"
         ],
         "xaxis": "x",
         "y": [
          9709,
          9422,
          11970,
          9330,
          1591,
          1838,
          6351
         ],
         "yaxis": "y"
        },
        {
         "hovertemplate": "source=google<br>month=%{x}<br>total_visits=%{y}<extra></extra>",
         "legendgroup": "google",
         "line": {
          "color": "#00cc96",
          "dash": "solid",
          "shape": "spline"
         },
         "marker": {
          "symbol": "circle"
         },
         "mode": "markers+lines",
         "name": "google",
         "orientation": "v",
         "showlegend": true,
         "type": "scatter",
         "x": [
          "2017-01-01",
          "2017-02-01",
          "2017-03-01",
          "2017-04-01",
          "2017-05-01",
          "2017-06-01",
          "2017-07-01"
         ],
         "xaxis": "x",
         "y": [
          2672,
          19899,
          35520,
          30625,
          34730,
          17958,
          38400
         ],
         "yaxis": "y"
        },
        {
         "hovertemplate": "source=Partners<br>month=%{x}<br>total_visits=%{y}<extra></extra>",
         "legendgroup": "Partners",
         "line": {
          "color": "#ab63fa",
          "dash": "solid",
          "shape": "spline"
         },
         "marker": {
          "symbol": "circle"
         },
         "mode": "markers+lines",
         "name": "Partners",
         "orientation": "v",
         "showlegend": true,
         "type": "scatter",
         "x": [
          "2017-01-01",
          "2017-02-01",
          "2017-03-01",
          "2017-04-01",
          "2017-05-01",
          "2017-06-01",
          "2017-07-01"
         ],
         "xaxis": "x",
         "y": [
          1248,
          1214,
          1469,
          1367,
          1317,
          1313,
          1788
         ],
         "yaxis": "y"
        },
        {
         "hovertemplate": "source=analytics.google.com<br>month=%{x}<br>total_visits=%{y}<extra></extra>",
         "legendgroup": "analytics.google.com",
         "line": {
          "color": "#FFA15A",
          "dash": "solid",
          "shape": "spline"
         },
         "marker": {
          "symbol": "circle"
         },
         "mode": "markers+lines",
         "name": "analytics.google.com",
         "orientation": "v",
         "showlegend": true,
         "type": "scatter",
         "x": [
          "2017-01-01",
          "2017-02-01",
          "2017-03-01",
          "2017-04-01",
          "2017-05-01",
          "2017-06-01",
          "2017-07-01"
         ],
         "xaxis": "x",
         "y": [
          920,
          1228,
          1503,
          1614,
          1871,
          1751,
          1972
         ],
         "yaxis": "y"
        },
        {
         "hovertemplate": "source=dfa<br>month=%{x}<br>total_visits=%{y}<extra></extra>",
         "legendgroup": "dfa",
         "line": {
          "color": "#19d3f3",
          "dash": "solid",
          "shape": "spline"
         },
         "marker": {
          "symbol": "circle"
         },
         "mode": "markers+lines",
         "name": "dfa",
         "orientation": "v",
         "showlegend": true,
         "type": "scatter",
         "x": [
          "2017-01-01",
          "2017-02-01",
          "2017-03-01",
          "2017-04-01",
          "2017-05-01",
          "2017-06-01",
          "2017-07-01"
         ],
         "xaxis": "x",
         "y": [
          660,
          526,
          411,
          209,
          366,
          239,
          302
         ],
         "yaxis": "y"
        },
        {
         "hovertemplate": "source=google.com<br>month=%{x}<br>total_visits=%{y}<extra></extra>",
         "legendgroup": "google.com",
         "line": {
          "color": "#FF6692",
          "dash": "solid",
          "shape": "spline"
         },
         "marker": {
          "symbol": "circle"
         },
         "mode": "markers+lines",
         "name": "google.com",
         "orientation": "v",
         "showlegend": true,
         "type": "scatter",
         "x": [
          "2017-01-01",
          "2017-02-01",
          "2017-03-01",
          "2017-04-01",
          "2017-05-01",
          "2017-06-01",
          "2017-07-01"
         ],
         "xaxis": "x",
         "y": [
          380,
          439,
          514,
          410,
          393,
          396,
          368
         ],
         "yaxis": "y"
        },
        {
         "hovertemplate": "source=sites.google.com<br>month=%{x}<br>total_visits=%{y}<extra></extra>",
         "legendgroup": "sites.google.com",
         "line": {
          "color": "#B6E880",
          "dash": "solid",
          "shape": "spline"
         },
         "marker": {
          "symbol": "circle"
         },
         "mode": "markers+lines",
         "name": "sites.google.com",
         "orientation": "v",
         "showlegend": true,
         "type": "scatter",
         "x": [
          "2017-01-01",
          "2017-02-01",
          "2017-03-01",
          "2017-04-01",
          "2017-05-01",
          "2017-06-01",
          "2017-07-01"
         ],
         "xaxis": "x",
         "y": [
          353,
          129,
          164,
          134,
          196,
          226,
          230
         ],
         "yaxis": "y"
        },
        {
         "hovertemplate": "source=quora.com<br>month=%{x}<br>total_visits=%{y}<extra></extra>",
         "legendgroup": "quora.com",
         "line": {
          "color": "#FF97FF",
          "dash": "solid",
          "shape": "spline"
         },
         "marker": {
          "symbol": "circle"
         },
         "mode": "markers+lines",
         "name": "quora.com",
         "orientation": "v",
         "showlegend": true,
         "type": "scatter",
         "x": [
          "2017-01-01",
          "2017-02-01",
          "2017-03-01",
          "2017-04-01",
          "2017-05-01",
          "2017-06-01",
          "2017-07-01"
         ],
         "xaxis": "x",
         "y": [
          242,
          114,
          140,
          148,
          138,
          153,
          140
         ],
         "yaxis": "y"
        },
        {
         "hovertemplate": "source=siliconvalley.about.com<br>month=%{x}<br>total_visits=%{y}<extra></extra>",
         "legendgroup": "siliconvalley.about.com",
         "line": {
          "color": "#FECB52",
          "dash": "solid",
          "shape": "spline"
         },
         "marker": {
          "symbol": "circle"
         },
         "mode": "markers+lines",
         "name": "siliconvalley.about.com",
         "orientation": "v",
         "showlegend": true,
         "type": "scatter",
         "x": [
          "2017-01-01",
          "2017-02-01",
          "2017-03-01",
          "2017-04-01",
          "2017-05-01",
          "2017-06-01",
          "2017-07-01"
         ],
         "xaxis": "x",
         "y": [
          192,
          176,
          187,
          203,
          99,
          2,
          3
         ],
         "yaxis": "y"
        },
        {
         "hovertemplate": "source=baidu<br>month=%{x}<br>total_visits=%{y}<extra></extra>",
         "legendgroup": "baidu",
         "line": {
          "color": "#636efa",
          "dash": "solid",
          "shape": "spline"
         },
         "marker": {
          "symbol": "circle"
         },
         "mode": "markers+lines",
         "name": "baidu",
         "orientation": "v",
         "showlegend": true,
         "type": "scatter",
         "x": [
          "2017-01-01",
          "2017-02-01",
          "2017-03-01",
          "2017-04-01",
          "2017-05-01",
          "2017-06-01",
          "2017-07-01"
         ],
         "xaxis": "x",
         "y": [
          153,
          144,
          133,
          183,
          152,
          204,
          140
         ],
         "yaxis": "y"
        },
        {
         "hovertemplate": "source=facebook.com<br>month=%{x}<br>total_visits=%{y}<extra></extra>",
         "legendgroup": "facebook.com",
         "line": {
          "color": "#EF553B",
          "dash": "solid",
          "shape": "spline"
         },
         "marker": {
          "symbol": "circle"
         },
         "mode": "markers+lines",
         "name": "facebook.com",
         "orientation": "v",
         "showlegend": true,
         "type": "scatter",
         "x": [
          "2017-01-01",
          "2017-02-01",
          "2017-03-01",
          "2017-04-01",
          "2017-05-01",
          "2017-06-01",
          "2017-07-01"
         ],
         "xaxis": "x",
         "y": [
          136,
          274,
          129,
          241,
          222,
          95,
          191
         ],
         "yaxis": "y"
        },
        {
         "hovertemplate": "source=mail.google.com<br>month=%{x}<br>total_visits=%{y}<extra></extra>",
         "legendgroup": "mail.google.com",
         "line": {
          "color": "#00cc96",
          "dash": "solid",
          "shape": "spline"
         },
         "marker": {
          "symbol": "circle"
         },
         "mode": "markers+lines",
         "name": "mail.google.com",
         "orientation": "v",
         "showlegend": true,
         "type": "scatter",
         "x": [
          "2017-01-01",
          "2017-02-01",
          "2017-03-01",
          "2017-04-01",
          "2017-05-01",
          "2017-06-01",
          "2017-07-01"
         ],
         "xaxis": "x",
         "y": [
          132,
          179,
          104,
          105,
          119,
          143,
          101
         ],
         "yaxis": "y"
        },
        {
         "hovertemplate": "source=reddit.com<br>month=%{x}<br>total_visits=%{y}<extra></extra>",
         "legendgroup": "reddit.com",
         "line": {
          "color": "#ab63fa",
          "dash": "solid",
          "shape": "spline"
         },
         "marker": {
          "symbol": "circle"
         },
         "mode": "markers+lines",
         "name": "reddit.com",
         "orientation": "v",
         "showlegend": true,
         "type": "scatter",
         "x": [
          "2017-01-01",
          "2017-02-01",
          "2017-03-01",
          "2017-04-01",
          "2017-05-01",
          "2017-06-01",
          "2017-07-01"
         ],
         "xaxis": "x",
         "y": [
          127,
          143,
          144,
          405,
          220,
          144,
          189
         ],
         "yaxis": "y"
        },
        {
         "hovertemplate": "source=qiita.com<br>month=%{x}<br>total_visits=%{y}<extra></extra>",
         "legendgroup": "qiita.com",
         "line": {
          "color": "#FFA15A",
          "dash": "solid",
          "shape": "spline"
         },
         "marker": {
          "symbol": "circle"
         },
         "mode": "markers+lines",
         "name": "qiita.com",
         "orientation": "v",
         "showlegend": true,
         "type": "scatter",
         "x": [
          "2017-01-01",
          "2017-02-01",
          "2017-03-01",
          "2017-04-01",
          "2017-05-01",
          "2017-06-01",
          "2017-07-01"
         ],
         "xaxis": "x",
         "y": [
          123,
          153,
          155,
          166,
          180,
          160,
          146
         ],
         "yaxis": "y"
        },
        {
         "hovertemplate": "source=yahoo<br>month=%{x}<br>total_visits=%{y}<extra></extra>",
         "legendgroup": "yahoo",
         "line": {
          "color": "#19d3f3",
          "dash": "solid",
          "shape": "spline"
         },
         "marker": {
          "symbol": "circle"
         },
         "mode": "markers+lines",
         "name": "yahoo",
         "orientation": "v",
         "showlegend": true,
         "type": "scatter",
         "x": [
          "2017-01-01",
          "2017-02-01",
          "2017-03-01",
          "2017-04-01",
          "2017-05-01",
          "2017-06-01",
          "2017-07-01"
         ],
         "xaxis": "x",
         "y": [
          88,
          98,
          264,
          268,
          98,
          106,
          100
         ],
         "yaxis": "y"
        },
        {
         "hovertemplate": "source=bing<br>month=%{x}<br>total_visits=%{y}<extra></extra>",
         "legendgroup": "bing",
         "line": {
          "color": "#FF6692",
          "dash": "solid",
          "shape": "spline"
         },
         "marker": {
          "symbol": "circle"
         },
         "mode": "markers+lines",
         "name": "bing",
         "orientation": "v",
         "showlegend": true,
         "type": "scatter",
         "x": [
          "2017-01-01",
          "2017-02-01",
          "2017-03-01",
          "2017-04-01",
          "2017-05-01",
          "2017-06-01",
          "2017-07-01"
         ],
         "xaxis": "x",
         "y": [
          80,
          115,
          256,
          223,
          143,
          151,
          111
         ],
         "yaxis": "y"
        },
        {
         "hovertemplate": "source=m.facebook.com<br>month=%{x}<br>total_visits=%{y}<extra></extra>",
         "legendgroup": "m.facebook.com",
         "line": {
          "color": "#B6E880",
          "dash": "solid",
          "shape": "spline"
         },
         "marker": {
          "symbol": "circle"
         },
         "mode": "markers+lines",
         "name": "m.facebook.com",
         "orientation": "v",
         "showlegend": true,
         "type": "scatter",
         "x": [
          "2017-01-01",
          "2017-02-01",
          "2017-03-01",
          "2017-04-01",
          "2017-05-01",
          "2017-06-01",
          "2017-07-01"
         ],
         "xaxis": "x",
         "y": [
          75,
          358,
          218,
          511,
          714,
          241,
          669
         ],
         "yaxis": "y"
        },
        {
         "hovertemplate": "source=blog.golang.org<br>month=%{x}<br>total_visits=%{y}<extra></extra>",
         "legendgroup": "blog.golang.org",
         "line": {
          "color": "#FF97FF",
          "dash": "solid",
          "shape": "spline"
         },
         "marker": {
          "symbol": "circle"
         },
         "mode": "markers+lines",
         "name": "blog.golang.org",
         "orientation": "v",
         "showlegend": true,
         "type": "scatter",
         "x": [
          "2017-01-01",
          "2017-02-01",
          "2017-03-01",
          "2017-04-01",
          "2017-05-01",
          "2017-06-01",
          "2017-07-01"
         ],
         "xaxis": "x",
         "y": [
          71,
          85,
          81,
          70,
          67,
          59,
          65
         ],
         "yaxis": "y"
        },
        {
         "hovertemplate": "source=groups.google.com<br>month=%{x}<br>total_visits=%{y}<extra></extra>",
         "legendgroup": "groups.google.com",
         "line": {
          "color": "#FECB52",
          "dash": "solid",
          "shape": "spline"
         },
         "marker": {
          "symbol": "circle"
         },
         "mode": "markers+lines",
         "name": "groups.google.com",
         "orientation": "v",
         "showlegend": true,
         "type": "scatter",
         "x": [
          "2017-01-01",
          "2017-02-01",
          "2017-03-01",
          "2017-04-01",
          "2017-05-01",
          "2017-06-01",
          "2017-07-01"
         ],
         "xaxis": "x",
         "y": [
          69,
          203,
          52,
          71,
          229,
          106,
          50
         ],
         "yaxis": "y"
        },
        {
         "hovertemplate": "source=plus.google.com<br>month=%{x}<br>total_visits=%{y}<extra></extra>",
         "legendgroup": "plus.google.com",
         "line": {
          "color": "#636efa",
          "dash": "solid",
          "shape": "spline"
         },
         "marker": {
          "symbol": "circle"
         },
         "mode": "markers+lines",
         "name": "plus.google.com",
         "orientation": "v",
         "showlegend": true,
         "type": "scatter",
         "x": [
          "2017-01-01",
          "2017-02-01",
          "2017-03-01",
          "2017-04-01",
          "2017-05-01",
          "2017-06-01",
          "2017-07-01"
         ],
         "xaxis": "x",
         "y": [
          61,
          150,
          76,
          23,
          91,
          14,
          8
         ],
         "yaxis": "y"
        },
        {
         "hovertemplate": "source=productforums.google.com<br>month=%{x}<br>total_visits=%{y}<extra></extra>",
         "legendgroup": "productforums.google.com",
         "line": {
          "color": "#EF553B",
          "dash": "solid",
          "shape": "spline"
         },
         "marker": {
          "symbol": "circle"
         },
         "mode": "markers+lines",
         "name": "productforums.google.com",
         "orientation": "v",
         "showlegend": true,
         "type": "scatter",
         "x": [
          "2017-01-01",
          "2017-02-01",
          "2017-03-01",
          "2017-04-01",
          "2017-05-01",
          "2017-06-01",
          "2017-07-01"
         ],
         "xaxis": "x",
         "y": [
          42,
          31,
          17,
          25,
          21,
          28,
          25
         ],
         "yaxis": "y"
        },
        {
         "hovertemplate": "source=sashihara.jp<br>month=%{x}<br>total_visits=%{y}<extra></extra>",
         "legendgroup": "sashihara.jp",
         "line": {
          "color": "#00cc96",
          "dash": "solid",
          "shape": "spline"
         },
         "marker": {
          "symbol": "circle"
         },
         "mode": "markers+lines",
         "name": "sashihara.jp",
         "orientation": "v",
         "showlegend": true,
         "type": "scatter",
         "x": [
          "2017-01-01",
          "2017-02-01",
          "2017-03-01",
          "2017-04-01",
          "2017-05-01",
          "2017-06-01",
          "2017-07-01"
         ],
         "xaxis": "x",
         "y": [
          31,
          16,
          15,
          32,
          27,
          26,
          14
         ],
         "yaxis": "y"
        },
        {
         "hovertemplate": "source=dealspotr.com<br>month=%{x}<br>total_visits=%{y}<extra></extra>",
         "legendgroup": "dealspotr.com",
         "line": {
          "color": "#ab63fa",
          "dash": "solid",
          "shape": "spline"
         },
         "marker": {
          "symbol": "circle"
         },
         "mode": "markers+lines",
         "name": "dealspotr.com",
         "orientation": "v",
         "showlegend": true,
         "type": "scatter",
         "x": [
          "2017-01-01",
          "2017-02-01",
          "2017-03-01",
          "2017-04-01",
          "2017-05-01",
          "2017-06-01",
          "2017-07-01"
         ],
         "xaxis": "x",
         "y": [
          28,
          23,
          11,
          21,
          28,
          18,
          26
         ],
         "yaxis": "y"
        },
        {
         "hovertemplate": "source=googleads.g.doubleclick.net<br>month=%{x}<br>total_visits=%{y}<extra></extra>",
         "legendgroup": "googleads.g.doubleclick.net",
         "line": {
          "color": "#FFA15A",
          "dash": "solid",
          "shape": "spline"
         },
         "marker": {
          "symbol": "circle"
         },
         "mode": "markers+lines",
         "name": "googleads.g.doubleclick.net",
         "orientation": "v",
         "showlegend": true,
         "type": "scatter",
         "x": [
          "2017-01-01",
          "2017-02-01",
          "2017-03-01",
          "2017-04-01",
          "2017-05-01",
          "2017-06-01",
          "2017-07-01"
         ],
         "xaxis": "x",
         "y": [
          26,
          19,
          16,
          10,
          8,
          11,
          4
         ],
         "yaxis": "y"
        },
        {
         "hovertemplate": "source=docs.google.com<br>month=%{x}<br>total_visits=%{y}<extra></extra>",
         "legendgroup": "docs.google.com",
         "line": {
          "color": "#19d3f3",
          "dash": "solid",
          "shape": "spline"
         },
         "marker": {
          "symbol": "circle"
         },
         "mode": "markers+lines",
         "name": "docs.google.com",
         "orientation": "v",
         "showlegend": true,
         "type": "scatter",
         "x": [
          "2017-01-01",
          "2017-02-01",
          "2017-03-01",
          "2017-04-01",
          "2017-05-01",
          "2017-06-01",
          "2017-07-01"
         ],
         "xaxis": "x",
         "y": [
          25,
          27,
          41,
          50,
          66,
          17,
          20
         ],
         "yaxis": "y"
        },
        {
         "hovertemplate": "source=ask<br>month=%{x}<br>total_visits=%{y}<extra></extra>",
         "legendgroup": "ask",
         "line": {
          "color": "#FF6692",
          "dash": "solid",
          "shape": "spline"
         },
         "marker": {
          "symbol": "circle"
         },
         "mode": "markers+lines",
         "name": "ask",
         "orientation": "v",
         "showlegend": true,
         "type": "scatter",
         "x": [
          "2017-01-01",
          "2017-02-01",
          "2017-03-01",
          "2017-04-01",
          "2017-05-01",
          "2017-06-01",
          "2017-07-01"
         ],
         "xaxis": "x",
         "y": [
          16,
          27,
          26,
          26,
          22,
          37,
          24
         ],
         "yaxis": "y"
        },
        {
         "hovertemplate": "source=l.facebook.com<br>month=%{x}<br>total_visits=%{y}<extra></extra>",
         "legendgroup": "l.facebook.com",
         "line": {
          "color": "#B6E880",
          "dash": "solid",
          "shape": "spline"
         },
         "marker": {
          "symbol": "circle"
         },
         "mode": "markers+lines",
         "name": "l.facebook.com",
         "orientation": "v",
         "showlegend": true,
         "type": "scatter",
         "x": [
          "2017-01-01",
          "2017-02-01",
          "2017-03-01",
          "2017-04-01",
          "2017-05-01",
          "2017-06-01",
          "2017-07-01"
         ],
         "xaxis": "x",
         "y": [
          16,
          62,
          140,
          112,
          105,
          83,
          51
         ],
         "yaxis": "y"
        },
        {
         "hovertemplate": "source=phandroid.com<br>month=%{x}<br>total_visits=%{y}<extra></extra>",
         "legendgroup": "phandroid.com",
         "line": {
          "color": "#FF97FF",
          "dash": "solid",
          "shape": "spline"
         },
         "marker": {
          "symbol": "circle"
         },
         "mode": "markers+lines",
         "name": "phandroid.com",
         "orientation": "v",
         "showlegend": true,
         "type": "scatter",
         "x": [
          "2017-01-01",
          "2017-02-01",
          "2017-03-01",
          "2017-04-01",
          "2017-05-01",
          "2017-06-01",
          "2017-07-01"
         ],
         "xaxis": "x",
         "y": [
          16,
          13,
          8,
          10,
          14,
          13,
          9
         ],
         "yaxis": "y"
        },
        {
         "hovertemplate": "source=m.baidu.com<br>month=%{x}<br>total_visits=%{y}<extra></extra>",
         "legendgroup": "m.baidu.com",
         "line": {
          "color": "#FECB52",
          "dash": "solid",
          "shape": "spline"
         },
         "marker": {
          "symbol": "circle"
         },
         "mode": "markers+lines",
         "name": "m.baidu.com",
         "orientation": "v",
         "showlegend": true,
         "type": "scatter",
         "x": [
          "2017-01-01",
          "2017-02-01",
          "2017-03-01",
          "2017-04-01",
          "2017-05-01",
          "2017-06-01",
          "2017-07-01"
         ],
         "xaxis": "x",
         "y": [
          13,
          5,
          15,
          5,
          4,
          4,
          3
         ],
         "yaxis": "y"
        },
        {
         "hovertemplate": "source=cv.il3.ub.edu<br>month=%{x}<br>total_visits=%{y}<extra></extra>",
         "legendgroup": "cv.il3.ub.edu",
         "line": {
          "color": "#636efa",
          "dash": "solid",
          "shape": "spline"
         },
         "marker": {
          "symbol": "circle"
         },
         "mode": "markers+lines",
         "name": "cv.il3.ub.edu",
         "orientation": "v",
         "showlegend": true,
         "type": "scatter",
         "x": [
          "2017-01-01",
          "2017-02-01"
         ],
         "xaxis": "x",
         "y": [
          13,
          4
         ],
         "yaxis": "y"
        },
        {
         "hovertemplate": "source=google.co.uk<br>month=%{x}<br>total_visits=%{y}<extra></extra>",
         "legendgroup": "google.co.uk",
         "line": {
          "color": "#EF553B",
          "dash": "solid",
          "shape": "spline"
         },
         "marker": {
          "symbol": "circle"
         },
         "mode": "markers+lines",
         "name": "google.co.uk",
         "orientation": "v",
         "showlegend": true,
         "type": "scatter",
         "x": [
          "2017-01-01",
          "2017-02-01",
          "2017-03-01",
          "2017-04-01",
          "2017-05-01",
          "2017-06-01",
          "2017-07-01"
         ],
         "xaxis": "x",
         "y": [
          11,
          18,
          22,
          16,
          24,
          15,
          15
         ],
         "yaxis": "y"
        },
        {
         "hovertemplate": "source=t.co<br>month=%{x}<br>total_visits=%{y}<extra></extra>",
         "legendgroup": "t.co",
         "line": {
          "color": "#00cc96",
          "dash": "solid",
          "shape": "spline"
         },
         "marker": {
          "symbol": "circle"
         },
         "mode": "markers+lines",
         "name": "t.co",
         "orientation": "v",
         "showlegend": true,
         "type": "scatter",
         "x": [
          "2017-01-01",
          "2017-02-01",
          "2017-03-01",
          "2017-04-01",
          "2017-05-01",
          "2017-06-01",
          "2017-07-01"
         ],
         "xaxis": "x",
         "y": [
          10,
          17,
          64,
          601,
          343,
          128,
          38
         ],
         "yaxis": "y"
        },
        {
         "hovertemplate": "source=learn.colorado.edu<br>month=%{x}<br>total_visits=%{y}<extra></extra>",
         "legendgroup": "learn.colorado.edu",
         "line": {
          "color": "#ab63fa",
          "dash": "solid",
          "shape": "spline"
         },
         "marker": {
          "symbol": "circle"
         },
         "mode": "markers+lines",
         "name": "learn.colorado.edu",
         "orientation": "v",
         "showlegend": true,
         "type": "scatter",
         "x": [
          "2017-01-01",
          "2017-02-01",
          "2017-04-01",
          "2017-05-01"
         ],
         "xaxis": "x",
         "y": [
          10,
          2,
          1,
          1
         ],
         "yaxis": "y"
        },
        {
         "hovertemplate": "source=optimize.google.com<br>month=%{x}<br>total_visits=%{y}<extra></extra>",
         "legendgroup": "optimize.google.com",
         "line": {
          "color": "#FFA15A",
          "dash": "solid",
          "shape": "spline"
         },
         "marker": {
          "symbol": "circle"
         },
         "mode": "markers+lines",
         "name": "optimize.google.com",
         "orientation": "v",
         "showlegend": true,
         "type": "scatter",
         "x": [
          "2017-01-01",
          "2017-02-01",
          "2017-03-01",
          "2017-04-01",
          "2017-05-01",
          "2017-06-01",
          "2017-07-01"
         ],
         "xaxis": "x",
         "y": [
          9,
          6,
          9,
          24,
          24,
          40,
          21
         ],
         "yaxis": "y"
        },
        {
         "hovertemplate": "source=duckduckgo.com<br>month=%{x}<br>total_visits=%{y}<extra></extra>",
         "legendgroup": "duckduckgo.com",
         "line": {
          "color": "#19d3f3",
          "dash": "solid",
          "shape": "spline"
         },
         "marker": {
          "symbol": "circle"
         },
         "mode": "markers+lines",
         "name": "duckduckgo.com",
         "orientation": "v",
         "showlegend": true,
         "type": "scatter",
         "x": [
          "2017-01-01",
          "2017-02-01",
          "2017-03-01",
          "2017-04-01",
          "2017-05-01",
          "2017-06-01",
          "2017-07-01"
         ],
         "xaxis": "x",
         "y": [
          8,
          19,
          52,
          37,
          14,
          36,
          16
         ],
         "yaxis": "y"
        },
        {
         "hovertemplate": "source=search.mysearch.com<br>month=%{x}<br>total_visits=%{y}<extra></extra>",
         "legendgroup": "search.mysearch.com",
         "line": {
          "color": "#FF6692",
          "dash": "solid",
          "shape": "spline"
         },
         "marker": {
          "symbol": "circle"
         },
         "mode": "markers+lines",
         "name": "search.mysearch.com",
         "orientation": "v",
         "showlegend": true,
         "type": "scatter",
         "x": [
          "2017-01-01",
          "2017-02-01",
          "2017-03-01",
          "2017-04-01",
          "2017-05-01",
          "2017-06-01",
          "2017-07-01"
         ],
         "xaxis": "x",
         "y": [
          8,
          8,
          17,
          8,
          12,
          13,
          12
         ],
         "yaxis": "y"
        },
        {
         "hovertemplate": "source=int.search.tb.ask.com<br>month=%{x}<br>total_visits=%{y}<extra></extra>",
         "legendgroup": "int.search.tb.ask.com",
         "line": {
          "color": "#B6E880",
          "dash": "solid",
          "shape": "spline"
         },
         "marker": {
          "symbol": "circle"
         },
         "mode": "markers+lines",
         "name": "int.search.tb.ask.com",
         "orientation": "v",
         "showlegend": true,
         "type": "scatter",
         "x": [
          "2017-01-01",
          "2017-02-01",
          "2017-03-01",
          "2017-04-01",
          "2017-05-01",
          "2017-06-01",
          "2017-07-01"
         ],
         "xaxis": "x",
         "y": [
          7,
          14,
          11,
          7,
          16,
          17,
          23
         ],
         "yaxis": "y"
        },
        {
         "hovertemplate": "source=google.co.jp<br>month=%{x}<br>total_visits=%{y}<extra></extra>",
         "legendgroup": "google.co.jp",
         "line": {
          "color": "#FF97FF",
          "dash": "solid",
          "shape": "spline"
         },
         "marker": {
          "symbol": "circle"
         },
         "mode": "markers+lines",
         "name": "google.co.jp",
         "orientation": "v",
         "showlegend": true,
         "type": "scatter",
         "x": [
          "2017-01-01",
          "2017-02-01",
          "2017-03-01",
          "2017-04-01",
          "2017-05-01",
          "2017-06-01",
          "2017-07-01"
         ],
         "xaxis": "x",
         "y": [
          7,
          14,
          22,
          33,
          39,
          44,
          36
         ],
         "yaxis": "y"
        },
        {
         "hovertemplate": "source=keep.google.com<br>month=%{x}<br>total_visits=%{y}<extra></extra>",
         "legendgroup": "keep.google.com",
         "line": {
          "color": "#FECB52",
          "dash": "solid",
          "shape": "spline"
         },
         "marker": {
          "symbol": "circle"
         },
         "mode": "markers+lines",
         "name": "keep.google.com",
         "orientation": "v",
         "showlegend": true,
         "type": "scatter",
         "x": [
          "2017-01-01",
          "2017-02-01",
          "2017-03-01",
          "2017-04-01",
          "2017-05-01",
          "2017-06-01"
         ],
         "xaxis": "x",
         "y": [
          7,
          2,
          3,
          3,
          2,
          5
         ],
         "yaxis": "y"
        },
        {
         "hovertemplate": "source=lunametrics.com<br>month=%{x}<br>total_visits=%{y}<extra></extra>",
         "legendgroup": "lunametrics.com",
         "line": {
          "color": "#636efa",
          "dash": "solid",
          "shape": "spline"
         },
         "marker": {
          "symbol": "circle"
         },
         "mode": "markers+lines",
         "name": "lunametrics.com",
         "orientation": "v",
         "showlegend": true,
         "type": "scatter",
         "x": [
          "2017-01-01",
          "2017-02-01",
          "2017-03-01",
          "2017-04-01",
          "2017-05-01",
          "2017-06-01",
          "2017-07-01"
         ],
         "xaxis": "x",
         "y": [
          6,
          8,
          10,
          14,
          10,
          13,
          13
         ],
         "yaxis": "y"
        },
        {
         "hovertemplate": "source=images.google<br>month=%{x}<br>total_visits=%{y}<extra></extra>",
         "legendgroup": "images.google",
         "line": {
          "color": "#EF553B",
          "dash": "solid",
          "shape": "spline"
         },
         "marker": {
          "symbol": "circle"
         },
         "mode": "markers+lines",
         "name": "images.google",
         "orientation": "v",
         "showlegend": true,
         "type": "scatter",
         "x": [
          "2017-01-01",
          "2017-02-01",
          "2017-03-01",
          "2017-04-01"
         ],
         "xaxis": "x",
         "y": [
          6,
          3,
          1,
          1
         ],
         "yaxis": "y"
        },
        {
         "hovertemplate": "source=github.com<br>month=%{x}<br>total_visits=%{y}<extra></extra>",
         "legendgroup": "github.com",
         "line": {
          "color": "#00cc96",
          "dash": "solid",
          "shape": "spline"
         },
         "marker": {
          "symbol": "circle"
         },
         "mode": "markers+lines",
         "name": "github.com",
         "orientation": "v",
         "showlegend": true,
         "type": "scatter",
         "x": [
          "2017-01-01",
          "2017-02-01",
          "2017-03-01",
          "2017-04-01",
          "2017-05-01",
          "2017-06-01",
          "2017-07-01"
         ],
         "xaxis": "x",
         "y": [
          5,
          4,
          5,
          4,
          2,
          4,
          2
         ],
         "yaxis": "y"
        },
        {
         "hovertemplate": "source=outlook.live.com<br>month=%{x}<br>total_visits=%{y}<extra></extra>",
         "legendgroup": "outlook.live.com",
         "line": {
          "color": "#ab63fa",
          "dash": "solid",
          "shape": "spline"
         },
         "marker": {
          "symbol": "circle"
         },
         "mode": "markers+lines",
         "name": "outlook.live.com",
         "orientation": "v",
         "showlegend": true,
         "type": "scatter",
         "x": [
          "2017-01-01",
          "2017-02-01",
          "2017-03-01",
          "2017-04-01",
          "2017-05-01",
          "2017-06-01",
          "2017-07-01"
         ],
         "xaxis": "x",
         "y": [
          5,
          8,
          4,
          4,
          8,
          2,
          10
         ],
         "yaxis": "y"
        },
        {
         "hovertemplate": "source=gophergala.com<br>month=%{x}<br>total_visits=%{y}<extra></extra>",
         "legendgroup": "gophergala.com",
         "line": {
          "color": "#FFA15A",
          "dash": "solid",
          "shape": "spline"
         },
         "marker": {
          "symbol": "circle"
         },
         "mode": "markers+lines",
         "name": "gophergala.com",
         "orientation": "v",
         "showlegend": true,
         "type": "scatter",
         "x": [
          "2017-01-01",
          "2017-02-01",
          "2017-03-01",
          "2017-04-01",
          "2017-05-01",
          "2017-06-01",
          "2017-07-01"
         ],
         "xaxis": "x",
         "y": [
          4,
          3,
          4,
          2,
          2,
          1,
          1
         ],
         "yaxis": "y"
        },
        {
         "hovertemplate": "source=mg.mail.yahoo.com<br>month=%{x}<br>total_visits=%{y}<extra></extra>",
         "legendgroup": "mg.mail.yahoo.com",
         "line": {
          "color": "#19d3f3",
          "dash": "solid",
          "shape": "spline"
         },
         "marker": {
          "symbol": "circle"
         },
         "mode": "markers+lines",
         "name": "mg.mail.yahoo.com",
         "orientation": "v",
         "showlegend": true,
         "type": "scatter",
         "x": [
          "2017-01-01",
          "2017-02-01",
          "2017-03-01",
          "2017-04-01",
          "2017-05-01",
          "2017-06-01"
         ],
         "xaxis": "x",
         "y": [
          4,
          1,
          3,
          7,
          7,
          1
         ],
         "yaxis": "y"
        },
        {
         "hovertemplate": "source=m.vk.com<br>month=%{x}<br>total_visits=%{y}<extra></extra>",
         "legendgroup": "m.vk.com",
         "line": {
          "color": "#FF6692",
          "dash": "solid",
          "shape": "spline"
         },
         "marker": {
          "symbol": "circle"
         },
         "mode": "markers+lines",
         "name": "m.vk.com",
         "orientation": "v",
         "showlegend": true,
         "type": "scatter",
         "x": [
          "2017-01-01",
          "2017-03-01"
         ],
         "xaxis": "x",
         "y": [
          4,
          1
         ],
         "yaxis": "y"
        },
        {
         "hovertemplate": "source=images.google.de<br>month=%{x}<br>total_visits=%{y}<extra></extra>",
         "legendgroup": "images.google.de",
         "line": {
          "color": "#B6E880",
          "dash": "solid",
          "shape": "spline"
         },
         "marker": {
          "symbol": "circle"
         },
         "mode": "markers+lines",
         "name": "images.google.de",
         "orientation": "v",
         "showlegend": true,
         "type": "scatter",
         "x": [
          "2017-01-01",
          "2017-02-01"
         ],
         "xaxis": "x",
         "y": [
          3,
          2
         ],
         "yaxis": "y"
        },
        {
         "hovertemplate": "source=wheretoget.it<br>month=%{x}<br>total_visits=%{y}<extra></extra>",
         "legendgroup": "wheretoget.it",
         "line": {
          "color": "#FF97FF",
          "dash": "solid",
          "shape": "spline"
         },
         "marker": {
          "symbol": "circle"
         },
         "mode": "markers+lines",
         "name": "wheretoget.it",
         "orientation": "v",
         "showlegend": true,
         "type": "scatter",
         "x": [
          "2017-01-01",
          "2017-02-01",
          "2017-03-01"
         ],
         "xaxis": "x",
         "y": [
          3,
          2,
          1
         ],
         "yaxis": "y"
        },
        {
         "hovertemplate": "source=m.youtube.com<br>month=%{x}<br>total_visits=%{y}<extra></extra>",
         "legendgroup": "m.youtube.com",
         "line": {
          "color": "#FECB52",
          "dash": "solid",
          "shape": "spline"
         },
         "marker": {
          "symbol": "circle"
         },
         "mode": "markers+lines",
         "name": "m.youtube.com",
         "orientation": "v",
         "showlegend": true,
         "type": "scatter",
         "x": [
          "2017-01-01",
          "2017-04-01",
          "2017-05-01",
          "2017-06-01",
          "2017-07-01"
         ],
         "xaxis": "x",
         "y": [
          3,
          14,
          5,
          39,
          34
         ],
         "yaxis": "y"
        },
        {
         "hovertemplate": "source=google.co.in<br>month=%{x}<br>total_visits=%{y}<extra></extra>",
         "legendgroup": "google.co.in",
         "line": {
          "color": "#636efa",
          "dash": "solid",
          "shape": "spline"
         },
         "marker": {
          "symbol": "circle"
         },
         "mode": "markers+lines",
         "name": "google.co.in",
         "orientation": "v",
         "showlegend": true,
         "type": "scatter",
         "x": [
          "2017-01-01",
          "2017-02-01",
          "2017-03-01",
          "2017-04-01",
          "2017-05-01",
          "2017-06-01",
          "2017-07-01"
         ],
         "xaxis": "x",
         "y": [
          3,
          1,
          5,
          4,
          3,
          4,
          6
         ],
         "yaxis": "y"
        },
        {
         "hovertemplate": "source=images.google.fr<br>month=%{x}<br>total_visits=%{y}<extra></extra>",
         "legendgroup": "images.google.fr",
         "line": {
          "color": "#EF553B",
          "dash": "solid",
          "shape": "spline"
         },
         "marker": {
          "symbol": "circle"
         },
         "mode": "markers+lines",
         "name": "images.google.fr",
         "orientation": "v",
         "showlegend": true,
         "type": "scatter",
         "x": [
          "2017-01-01"
         ],
         "xaxis": "x",
         "y": [
          3
         ],
         "yaxis": "y"
        },
        {
         "hovertemplate": "source=google.de<br>month=%{x}<br>total_visits=%{y}<extra></extra>",
         "legendgroup": "google.de",
         "line": {
          "color": "#00cc96",
          "dash": "solid",
          "shape": "spline"
         },
         "marker": {
          "symbol": "circle"
         },
         "mode": "markers+lines",
         "name": "google.de",
         "orientation": "v",
         "showlegend": true,
         "type": "scatter",
         "x": [
          "2017-01-01",
          "2017-02-01",
          "2017-03-01",
          "2017-04-01",
          "2017-05-01",
          "2017-06-01"
         ],
         "xaxis": "x",
         "y": [
          3,
          9,
          4,
          2,
          2,
          1
         ],
         "yaxis": "y"
        },
        {
         "hovertemplate": "source=s0.2mdn.net<br>month=%{x}<br>total_visits=%{y}<extra></extra>",
         "legendgroup": "s0.2mdn.net",
         "line": {
          "color": "#ab63fa",
          "dash": "solid",
          "shape": "spline"
         },
         "marker": {
          "symbol": "circle"
         },
         "mode": "markers+lines",
         "name": "s0.2mdn.net",
         "orientation": "v",
         "showlegend": true,
         "type": "scatter",
         "x": [
          "2017-01-01",
          "2017-02-01",
          "2017-03-01",
          "2017-04-01",
          "2017-05-01",
          "2017-06-01",
          "2017-07-01"
         ],
         "xaxis": "x",
         "y": [
          3,
          29,
          17,
          17,
          17,
          8,
          5
         ],
         "yaxis": "y"
        },
        {
         "hovertemplate": "source=adwords.google.com<br>month=%{x}<br>total_visits=%{y}<extra></extra>",
         "legendgroup": "adwords.google.com",
         "line": {
          "color": "#FFA15A",
          "dash": "solid",
          "shape": "spline"
         },
         "marker": {
          "symbol": "circle"
         },
         "mode": "markers+lines",
         "name": "adwords.google.com",
         "orientation": "v",
         "showlegend": true,
         "type": "scatter",
         "x": [
          "2017-01-01",
          "2017-02-01",
          "2017-03-01",
          "2017-04-01",
          "2017-05-01",
          "2017-06-01",
          "2017-07-01"
         ],
         "xaxis": "x",
         "y": [
          2,
          6,
          2,
          11,
          5,
          5,
          16
         ],
         "yaxis": "y"
        },
        {
         "hovertemplate": "source=aulagrado.esic.edu<br>month=%{x}<br>total_visits=%{y}<extra></extra>",
         "legendgroup": "aulagrado.esic.edu",
         "line": {
          "color": "#19d3f3",
          "dash": "solid",
          "shape": "spline"
         },
         "marker": {
          "symbol": "circle"
         },
         "mode": "markers+lines",
         "name": "aulagrado.esic.edu",
         "orientation": "v",
         "showlegend": true,
         "type": "scatter",
         "x": [
          "2017-01-01",
          "2017-02-01"
         ],
         "xaxis": "x",
         "y": [
          2,
          3
         ],
         "yaxis": "y"
        },
        {
         "hovertemplate": "source=online-metrics.com<br>month=%{x}<br>total_visits=%{y}<extra></extra>",
         "legendgroup": "online-metrics.com",
         "line": {
          "color": "#FF6692",
          "dash": "solid",
          "shape": "spline"
         },
         "marker": {
          "symbol": "circle"
         },
         "mode": "markers+lines",
         "name": "online-metrics.com",
         "orientation": "v",
         "showlegend": true,
         "type": "scatter",
         "x": [
          "2017-01-01",
          "2017-02-01",
          "2017-03-01",
          "2017-04-01",
          "2017-05-01",
          "2017-06-01",
          "2017-07-01"
         ],
         "xaxis": "x",
         "y": [
          2,
          9,
          2,
          12,
          2,
          1,
          5
         ],
         "yaxis": "y"
        },
        {
         "hovertemplate": "source=search.tb.ask.com<br>month=%{x}<br>total_visits=%{y}<extra></extra>",
         "legendgroup": "search.tb.ask.com",
         "line": {
          "color": "#B6E880",
          "dash": "solid",
          "shape": "spline"
         },
         "marker": {
          "symbol": "circle"
         },
         "mode": "markers+lines",
         "name": "search.tb.ask.com",
         "orientation": "v",
         "showlegend": true,
         "type": "scatter",
         "x": [
          "2017-01-01",
          "2017-02-01",
          "2017-03-01",
          "2017-04-01",
          "2017-06-01",
          "2017-07-01"
         ],
         "xaxis": "x",
         "y": [
          2,
          1,
          1,
          4,
          6,
          1
         ],
         "yaxis": "y"
        },
        {
         "hovertemplate": "source=connect.googleforwork.com<br>month=%{x}<br>total_visits=%{y}<extra></extra>",
         "legendgroup": "connect.googleforwork.com",
         "line": {
          "color": "#FF97FF",
          "dash": "solid",
          "shape": "spline"
         },
         "marker": {
          "symbol": "circle"
         },
         "mode": "markers+lines",
         "name": "connect.googleforwork.com",
         "orientation": "v",
         "showlegend": true,
         "type": "scatter",
         "x": [
          "2017-01-01",
          "2017-02-01",
          "2017-03-01",
          "2017-04-01",
          "2017-06-01",
          "2017-07-01"
         ],
         "xaxis": "x",
         "y": [
          2,
          2,
          4,
          2,
          12,
          8
         ],
         "yaxis": "y"
        },
        {
         "hovertemplate": "source=images.google.lt<br>month=%{x}<br>total_visits=%{y}<extra></extra>",
         "legendgroup": "images.google.lt",
         "line": {
          "color": "#FECB52",
          "dash": "solid",
          "shape": "spline"
         },
         "marker": {
          "symbol": "circle"
         },
         "mode": "markers+lines",
         "name": "images.google.lt",
         "orientation": "v",
         "showlegend": true,
         "type": "scatter",
         "x": [
          "2017-01-01"
         ],
         "xaxis": "x",
         "y": [
          2
         ],
         "yaxis": "y"
        },
        {
         "hovertemplate": "source=lm.facebook.com<br>month=%{x}<br>total_visits=%{y}<extra></extra>",
         "legendgroup": "lm.facebook.com",
         "line": {
          "color": "#636efa",
          "dash": "solid",
          "shape": "spline"
         },
         "marker": {
          "symbol": "circle"
         },
         "mode": "markers+lines",
         "name": "lm.facebook.com",
         "orientation": "v",
         "showlegend": true,
         "type": "scatter",
         "x": [
          "2017-01-01",
          "2017-02-01",
          "2017-03-01",
          "2017-04-01",
          "2017-05-01",
          "2017-06-01",
          "2017-07-01"
         ],
         "xaxis": "x",
         "y": [
          2,
          5,
          2,
          6,
          14,
          5,
          18
         ],
         "yaxis": "y"
        },
        {
         "hovertemplate": "source=csfirst.withgoogle.com<br>month=%{x}<br>total_visits=%{y}<extra></extra>",
         "legendgroup": "csfirst.withgoogle.com",
         "line": {
          "color": "#EF553B",
          "dash": "solid",
          "shape": "spline"
         },
         "marker": {
          "symbol": "circle"
         },
         "mode": "markers+lines",
         "name": "csfirst.withgoogle.com",
         "orientation": "v",
         "showlegend": true,
         "type": "scatter",
         "x": [
          "2017-01-01",
          "2017-02-01"
         ],
         "xaxis": "x",
         "y": [
          2,
          2
         ],
         "yaxis": "y"
        },
        {
         "hovertemplate": "source=hangouts.google.com<br>month=%{x}<br>total_visits=%{y}<extra></extra>",
         "legendgroup": "hangouts.google.com",
         "line": {
          "color": "#00cc96",
          "dash": "solid",
          "shape": "spline"
         },
         "marker": {
          "symbol": "circle"
         },
         "mode": "markers+lines",
         "name": "hangouts.google.com",
         "orientation": "v",
         "showlegend": true,
         "type": "scatter",
         "x": [
          "2017-01-01",
          "2017-02-01",
          "2017-03-01",
          "2017-04-01",
          "2017-05-01",
          "2017-06-01",
          "2017-07-01"
         ],
         "xaxis": "x",
         "y": [
          2,
          4,
          7,
          2,
          2,
          5,
          5
         ],
         "yaxis": "y"
        },
        {
         "hovertemplate": "source=(not set)<br>month=%{x}<br>total_visits=%{y}<extra></extra>",
         "legendgroup": "(not set)",
         "line": {
          "color": "#ab63fa",
          "dash": "solid",
          "shape": "spline"
         },
         "marker": {
          "symbol": "circle"
         },
         "mode": "markers+lines",
         "name": "(not set)",
         "orientation": "v",
         "showlegend": true,
         "type": "scatter",
         "x": [
          "2017-01-01",
          "2017-04-01",
          "2017-05-01"
         ],
         "xaxis": "x",
         "y": [
          1,
          61,
          3
         ],
         "yaxis": "y"
        },
        {
         "hovertemplate": "source=messenger.com<br>month=%{x}<br>total_visits=%{y}<extra></extra>",
         "legendgroup": "messenger.com",
         "line": {
          "color": "#FFA15A",
          "dash": "solid",
          "shape": "spline"
         },
         "marker": {
          "symbol": "circle"
         },
         "mode": "markers+lines",
         "name": "messenger.com",
         "orientation": "v",
         "showlegend": true,
         "type": "scatter",
         "x": [
          "2017-01-01",
          "2017-02-01",
          "2017-03-01",
          "2017-04-01"
         ],
         "xaxis": "x",
         "y": [
          1,
          1,
          2,
          4
         ],
         "yaxis": "y"
        },
        {
         "hovertemplate": "source=de.pinterest.com<br>month=%{x}<br>total_visits=%{y}<extra></extra>",
         "legendgroup": "de.pinterest.com",
         "line": {
          "color": "#19d3f3",
          "dash": "solid",
          "shape": "spline"
         },
         "marker": {
          "symbol": "circle"
         },
         "mode": "markers+lines",
         "name": "de.pinterest.com",
         "orientation": "v",
         "showlegend": true,
         "type": "scatter",
         "x": [
          "2017-01-01"
         ],
         "xaxis": "x",
         "y": [
          1
         ],
         "yaxis": "y"
        },
        {
         "hovertemplate": "source=inbox.google.com<br>month=%{x}<br>total_visits=%{y}<extra></extra>",
         "legendgroup": "inbox.google.com",
         "line": {
          "color": "#FF6692",
          "dash": "solid",
          "shape": "spline"
         },
         "marker": {
          "symbol": "circle"
         },
         "mode": "markers+lines",
         "name": "inbox.google.com",
         "orientation": "v",
         "showlegend": true,
         "type": "scatter",
         "x": [
          "2017-01-01",
          "2017-05-01"
         ],
         "xaxis": "x",
         "y": [
          1,
          1
         ],
         "yaxis": "y"
        },
        {
         "hovertemplate": "source=google.it<br>month=%{x}<br>total_visits=%{y}<extra></extra>",
         "legendgroup": "google.it",
         "line": {
          "color": "#B6E880",
          "dash": "solid",
          "shape": "spline"
         },
         "marker": {
          "symbol": "circle"
         },
         "mode": "markers+lines",
         "name": "google.it",
         "orientation": "v",
         "showlegend": true,
         "type": "scatter",
         "x": [
          "2017-01-01",
          "2017-04-01",
          "2017-05-01",
          "2017-06-01",
          "2017-07-01"
         ],
         "xaxis": "x",
         "y": [
          1,
          2,
          1,
          2,
          2
         ],
         "yaxis": "y"
        },
        {
         "hovertemplate": "source=web.mail.comcast.net<br>month=%{x}<br>total_visits=%{y}<extra></extra>",
         "legendgroup": "web.mail.comcast.net",
         "line": {
          "color": "#FF97FF",
          "dash": "solid",
          "shape": "spline"
         },
         "marker": {
          "symbol": "circle"
         },
         "mode": "markers+lines",
         "name": "web.mail.comcast.net",
         "orientation": "v",
         "showlegend": true,
         "type": "scatter",
         "x": [
          "2017-01-01",
          "2017-07-01"
         ],
         "xaxis": "x",
         "y": [
          1,
          1
         ],
         "yaxis": "y"
        },
        {
         "hovertemplate": "source=seroundtable.com<br>month=%{x}<br>total_visits=%{y}<extra></extra>",
         "legendgroup": "seroundtable.com",
         "line": {
          "color": "#FECB52",
          "dash": "solid",
          "shape": "spline"
         },
         "marker": {
          "symbol": "circle"
         },
         "mode": "markers+lines",
         "name": "seroundtable.com",
         "orientation": "v",
         "showlegend": true,
         "type": "scatter",
         "x": [
          "2017-01-01"
         ],
         "xaxis": "x",
         "y": [
          1
         ],
         "yaxis": "y"
        },
        {
         "hovertemplate": "source=s7-eu4.ixquick.com<br>month=%{x}<br>total_visits=%{y}<extra></extra>",
         "legendgroup": "s7-eu4.ixquick.com",
         "line": {
          "color": "#636efa",
          "dash": "solid",
          "shape": "spline"
         },
         "marker": {
          "symbol": "circle"
         },
         "mode": "markers+lines",
         "name": "s7-eu4.ixquick.com",
         "orientation": "v",
         "showlegend": true,
         "type": "scatter",
         "x": [
          "2017-01-01"
         ],
         "xaxis": "x",
         "y": [
          1
         ],
         "yaxis": "y"
        },
        {
         "hovertemplate": "source=google.fr<br>month=%{x}<br>total_visits=%{y}<extra></extra>",
         "legendgroup": "google.fr",
         "line": {
          "color": "#EF553B",
          "dash": "solid",
          "shape": "spline"
         },
         "marker": {
          "symbol": "circle"
         },
         "mode": "markers+lines",
         "name": "google.fr",
         "orientation": "v",
         "showlegend": true,
         "type": "scatter",
         "x": [
          "2017-01-01",
          "2017-02-01",
          "2017-03-01",
          "2017-04-01",
          "2017-05-01",
          "2017-06-01"
         ],
         "xaxis": "x",
         "y": [
          1,
          2,
          2,
          4,
          1,
          1
         ],
         "yaxis": "y"
        },
        {
         "hovertemplate": "source=myactivity.google.com<br>month=%{x}<br>total_visits=%{y}<extra></extra>",
         "legendgroup": "myactivity.google.com",
         "line": {
          "color": "#00cc96",
          "dash": "solid",
          "shape": "spline"
         },
         "marker": {
          "symbol": "circle"
         },
         "mode": "markers+lines",
         "name": "myactivity.google.com",
         "orientation": "v",
         "showlegend": true,
         "type": "scatter",
         "x": [
          "2017-01-01",
          "2017-03-01",
          "2017-04-01",
          "2017-05-01",
          "2017-06-01",
          "2017-07-01"
         ],
         "xaxis": "x",
         "y": [
          1,
          4,
          1,
          4,
          5,
          2
         ],
         "yaxis": "y"
        },
        {
         "hovertemplate": "source=google.co.id<br>month=%{x}<br>total_visits=%{y}<extra></extra>",
         "legendgroup": "google.co.id",
         "line": {
          "color": "#ab63fa",
          "dash": "solid",
          "shape": "spline"
         },
         "marker": {
          "symbol": "circle"
         },
         "mode": "markers+lines",
         "name": "google.co.id",
         "orientation": "v",
         "showlegend": true,
         "type": "scatter",
         "x": [
          "2017-01-01",
          "2017-05-01"
         ],
         "xaxis": "x",
         "y": [
          1,
          1
         ],
         "yaxis": "y"
        },
        {
         "hovertemplate": "source=linkedin.com<br>month=%{x}<br>total_visits=%{y}<extra></extra>",
         "legendgroup": "linkedin.com",
         "line": {
          "color": "#FFA15A",
          "dash": "solid",
          "shape": "spline"
         },
         "marker": {
          "symbol": "circle"
         },
         "mode": "markers+lines",
         "name": "linkedin.com",
         "orientation": "v",
         "showlegend": true,
         "type": "scatter",
         "x": [
          "2017-01-01",
          "2017-03-01",
          "2017-04-01",
          "2017-06-01"
         ],
         "xaxis": "x",
         "y": [
          1,
          6,
          1,
          3
         ],
         "yaxis": "y"
        },
        {
         "hovertemplate": "source=m.reddit.com<br>month=%{x}<br>total_visits=%{y}<extra></extra>",
         "legendgroup": "m.reddit.com",
         "line": {
          "color": "#19d3f3",
          "dash": "solid",
          "shape": "spline"
         },
         "marker": {
          "symbol": "circle"
         },
         "mode": "markers+lines",
         "name": "m.reddit.com",
         "orientation": "v",
         "showlegend": true,
         "type": "scatter",
         "x": [
          "2017-01-01"
         ],
         "xaxis": "x",
         "y": [
          1
         ],
         "yaxis": "y"
        },
        {
         "hovertemplate": "source=blognone.com<br>month=%{x}<br>total_visits=%{y}<extra></extra>",
         "legendgroup": "blognone.com",
         "line": {
          "color": "#FF6692",
          "dash": "solid",
          "shape": "spline"
         },
         "marker": {
          "symbol": "circle"
         },
         "mode": "markers+lines",
         "name": "blognone.com",
         "orientation": "v",
         "showlegend": true,
         "type": "scatter",
         "x": [
          "2017-01-01",
          "2017-03-01"
         ],
         "xaxis": "x",
         "y": [
          1,
          1
         ],
         "yaxis": "y"
        },
        {
         "hovertemplate": "source=basecamp.com<br>month=%{x}<br>total_visits=%{y}<extra></extra>",
         "legendgroup": "basecamp.com",
         "line": {
          "color": "#B6E880",
          "dash": "solid",
          "shape": "spline"
         },
         "marker": {
          "symbol": "circle"
         },
         "mode": "markers+lines",
         "name": "basecamp.com",
         "orientation": "v",
         "showlegend": true,
         "type": "scatter",
         "x": [
          "2017-01-01"
         ],
         "xaxis": "x",
         "y": [
          1
         ],
         "yaxis": "y"
        },
        {
         "hovertemplate": "source=plus.url.google.com<br>month=%{x}<br>total_visits=%{y}<extra></extra>",
         "legendgroup": "plus.url.google.com",
         "line": {
          "color": "#FF97FF",
          "dash": "solid",
          "shape": "spline"
         },
         "marker": {
          "symbol": "circle"
         },
         "mode": "markers+lines",
         "name": "plus.url.google.com",
         "orientation": "v",
         "showlegend": true,
         "type": "scatter",
         "x": [
          "2017-01-01",
          "2017-02-01",
          "2017-05-01",
          "2017-06-01",
          "2017-07-01"
         ],
         "xaxis": "x",
         "y": [
          1,
          1,
          10,
          1,
          2
         ],
         "yaxis": "y"
        },
        {
         "hovertemplate": "source=images.google.co.id<br>month=%{x}<br>total_visits=%{y}<extra></extra>",
         "legendgroup": "images.google.co.id",
         "line": {
          "color": "#FECB52",
          "dash": "solid",
          "shape": "spline"
         },
         "marker": {
          "symbol": "circle"
         },
         "mode": "markers+lines",
         "name": "images.google.co.id",
         "orientation": "v",
         "showlegend": true,
         "type": "scatter",
         "x": [
          "2017-01-01",
          "2017-05-01"
         ],
         "xaxis": "x",
         "y": [
          1,
          1
         ],
         "yaxis": "y"
        },
        {
         "hovertemplate": "source=in.search.yahoo.com<br>month=%{x}<br>total_visits=%{y}<extra></extra>",
         "legendgroup": "in.search.yahoo.com",
         "line": {
          "color": "#636efa",
          "dash": "solid",
          "shape": "spline"
         },
         "marker": {
          "symbol": "circle"
         },
         "mode": "markers+lines",
         "name": "in.search.yahoo.com",
         "orientation": "v",
         "showlegend": true,
         "type": "scatter",
         "x": [
          "2017-01-01",
          "2017-04-01",
          "2017-06-01",
          "2017-07-01"
         ],
         "xaxis": "x",
         "y": [
          1,
          4,
          1,
          4
         ],
         "yaxis": "y"
        },
        {
         "hovertemplate": "source=uk.search.yahoo.com<br>month=%{x}<br>total_visits=%{y}<extra></extra>",
         "legendgroup": "uk.search.yahoo.com",
         "line": {
          "color": "#EF553B",
          "dash": "solid",
          "shape": "spline"
         },
         "marker": {
          "symbol": "circle"
         },
         "mode": "markers+lines",
         "name": "uk.search.yahoo.com",
         "orientation": "v",
         "showlegend": true,
         "type": "scatter",
         "x": [
          "2017-01-01",
          "2017-02-01",
          "2017-03-01",
          "2017-05-01",
          "2017-07-01"
         ],
         "xaxis": "x",
         "y": [
          1,
          1,
          4,
          3,
          2
         ],
         "yaxis": "y"
        },
        {
         "hovertemplate": "source=sg.search.yahoo.com<br>month=%{x}<br>total_visits=%{y}<extra></extra>",
         "legendgroup": "sg.search.yahoo.com",
         "line": {
          "color": "#00cc96",
          "dash": "solid",
          "shape": "spline"
         },
         "marker": {
          "symbol": "circle"
         },
         "mode": "markers+lines",
         "name": "sg.search.yahoo.com",
         "orientation": "v",
         "showlegend": true,
         "type": "scatter",
         "x": [
          "2017-01-01",
          "2017-06-01"
         ],
         "xaxis": "x",
         "y": [
          1,
          1
         ],
         "yaxis": "y"
        },
        {
         "hovertemplate": "source=au.search.yahoo.com<br>month=%{x}<br>total_visits=%{y}<extra></extra>",
         "legendgroup": "au.search.yahoo.com",
         "line": {
          "color": "#ab63fa",
          "dash": "solid",
          "shape": "spline"
         },
         "marker": {
          "symbol": "circle"
         },
         "mode": "markers+lines",
         "name": "au.search.yahoo.com",
         "orientation": "v",
         "showlegend": true,
         "type": "scatter",
         "x": [
          "2017-01-01",
          "2017-03-01",
          "2017-04-01",
          "2017-06-01",
          "2017-07-01"
         ],
         "xaxis": "x",
         "y": [
          1,
          1,
          2,
          3,
          2
         ],
         "yaxis": "y"
        },
        {
         "hovertemplate": "source=suche.t-online.de<br>month=%{x}<br>total_visits=%{y}<extra></extra>",
         "legendgroup": "suche.t-online.de",
         "line": {
          "color": "#FFA15A",
          "dash": "solid",
          "shape": "spline"
         },
         "marker": {
          "symbol": "circle"
         },
         "mode": "markers+lines",
         "name": "suche.t-online.de",
         "orientation": "v",
         "showlegend": true,
         "type": "scatter",
         "x": [
          "2017-01-01",
          "2017-02-01",
          "2017-03-01",
          "2017-05-01",
          "2017-06-01",
          "2017-07-01"
         ],
         "xaxis": "x",
         "y": [
          1,
          1,
          1,
          1,
          1,
          1
         ],
         "yaxis": "y"
        },
        {
         "hovertemplate": "source=google.es<br>month=%{x}<br>total_visits=%{y}<extra></extra>",
         "legendgroup": "google.es",
         "line": {
          "color": "#19d3f3",
          "dash": "solid",
          "shape": "spline"
         },
         "marker": {
          "symbol": "circle"
         },
         "mode": "markers+lines",
         "name": "google.es",
         "orientation": "v",
         "showlegend": true,
         "type": "scatter",
         "x": [
          "2017-01-01",
          "2017-02-01",
          "2017-03-01",
          "2017-04-01",
          "2017-05-01",
          "2017-06-01",
          "2017-07-01"
         ],
         "xaxis": "x",
         "y": [
          1,
          3,
          2,
          1,
          3,
          5,
          1
         ],
         "yaxis": "y"
        },
        {
         "hovertemplate": "source=course.fso.fullsail.edu<br>month=%{x}<br>total_visits=%{y}<extra></extra>",
         "legendgroup": "course.fso.fullsail.edu",
         "line": {
          "color": "#FF6692",
          "dash": "solid",
          "shape": "spline"
         },
         "marker": {
          "symbol": "circle"
         },
         "mode": "markers+lines",
         "name": "course.fso.fullsail.edu",
         "orientation": "v",
         "showlegend": true,
         "type": "scatter",
         "x": [
          "2017-01-01",
          "2017-02-01",
          "2017-03-01"
         ],
         "xaxis": "x",
         "y": [
          1,
          2,
          2
         ],
         "yaxis": "y"
        },
        {
         "hovertemplate": "source=amazon.com<br>month=%{x}<br>total_visits=%{y}<extra></extra>",
         "legendgroup": "amazon.com",
         "line": {
          "color": "#B6E880",
          "dash": "solid",
          "shape": "spline"
         },
         "marker": {
          "symbol": "circle"
         },
         "mode": "markers+lines",
         "name": "amazon.com",
         "orientation": "v",
         "showlegend": true,
         "type": "scatter",
         "x": [
          "2017-01-01",
          "2017-02-01",
          "2017-03-01"
         ],
         "xaxis": "x",
         "y": [
          1,
          2,
          1
         ],
         "yaxis": "y"
        },
        {
         "hovertemplate": "source=google.at<br>month=%{x}<br>total_visits=%{y}<extra></extra>",
         "legendgroup": "google.at",
         "line": {
          "color": "#FF97FF",
          "dash": "solid",
          "shape": "spline"
         },
         "marker": {
          "symbol": "circle"
         },
         "mode": "markers+lines",
         "name": "google.at",
         "orientation": "v",
         "showlegend": true,
         "type": "scatter",
         "x": [
          "2017-01-01",
          "2017-05-01"
         ],
         "xaxis": "x",
         "y": [
          1,
          1
         ],
         "yaxis": "y"
        },
        {
         "hovertemplate": "source=aol<br>month=%{x}<br>total_visits=%{y}<extra></extra>",
         "legendgroup": "aol",
         "line": {
          "color": "#FECB52",
          "dash": "solid",
          "shape": "spline"
         },
         "marker": {
          "symbol": "circle"
         },
         "mode": "markers+lines",
         "name": "aol",
         "orientation": "v",
         "showlegend": true,
         "type": "scatter",
         "x": [
          "2017-01-01",
          "2017-03-01",
          "2017-04-01",
          "2017-05-01",
          "2017-06-01",
          "2017-07-01"
         ],
         "xaxis": "x",
         "y": [
          1,
          1,
          1,
          1,
          1,
          1
         ],
         "yaxis": "y"
        },
        {
         "hovertemplate": "source=marketingland.com<br>month=%{x}<br>total_visits=%{y}<extra></extra>",
         "legendgroup": "marketingland.com",
         "line": {
          "color": "#636efa",
          "dash": "solid",
          "shape": "spline"
         },
         "marker": {
          "symbol": "circle"
         },
         "mode": "markers+lines",
         "name": "marketingland.com",
         "orientation": "v",
         "showlegend": true,
         "type": "scatter",
         "x": [
          "2017-01-01",
          "2017-03-01"
         ],
         "xaxis": "x",
         "y": [
          1,
          1
         ],
         "yaxis": "y"
        },
        {
         "hovertemplate": "source=nordic.businessinsider.com<br>month=%{x}<br>total_visits=%{y}<extra></extra>",
         "legendgroup": "nordic.businessinsider.com",
         "line": {
          "color": "#EF553B",
          "dash": "solid",
          "shape": "spline"
         },
         "marker": {
          "symbol": "circle"
         },
         "mode": "markers+lines",
         "name": "nordic.businessinsider.com",
         "orientation": "v",
         "showlegend": true,
         "type": "scatter",
         "x": [
          "2017-01-01",
          "2017-02-01",
          "2017-04-01",
          "2017-05-01"
         ],
         "xaxis": "x",
         "y": [
          1,
          7,
          1,
          1
         ],
         "yaxis": "y"
        },
        {
         "hovertemplate": "source=support.google.com<br>month=%{x}<br>total_visits=%{y}<extra></extra>",
         "legendgroup": "support.google.com",
         "line": {
          "color": "#00cc96",
          "dash": "solid",
          "shape": "spline"
         },
         "marker": {
          "symbol": "circle"
         },
         "mode": "markers+lines",
         "name": "support.google.com",
         "orientation": "v",
         "showlegend": true,
         "type": "scatter",
         "x": [
          "2017-01-01",
          "2017-03-01",
          "2017-04-01",
          "2017-05-01",
          "2017-06-01",
          "2017-07-01"
         ],
         "xaxis": "x",
         "y": [
          1,
          12,
          27,
          12,
          21,
          24
         ],
         "yaxis": "y"
        },
        {
         "hovertemplate": "source=google.com.pk<br>month=%{x}<br>total_visits=%{y}<extra></extra>",
         "legendgroup": "google.com.pk",
         "line": {
          "color": "#ab63fa",
          "dash": "solid",
          "shape": "spline"
         },
         "marker": {
          "symbol": "circle"
         },
         "mode": "markers+lines",
         "name": "google.com.pk",
         "orientation": "v",
         "showlegend": true,
         "type": "scatter",
         "x": [
          "2017-01-01",
          "2017-03-01"
         ],
         "xaxis": "x",
         "y": [
          1,
          1
         ],
         "yaxis": "y"
        },
        {
         "hovertemplate": "source=m.sogou.com<br>month=%{x}<br>total_visits=%{y}<extra></extra>",
         "legendgroup": "m.sogou.com",
         "line": {
          "color": "#FFA15A",
          "dash": "solid",
          "shape": "spline"
         },
         "marker": {
          "symbol": "circle"
         },
         "mode": "markers+lines",
         "name": "m.sogou.com",
         "orientation": "v",
         "showlegend": true,
         "type": "scatter",
         "x": [
          "2017-01-01",
          "2017-07-01"
         ],
         "xaxis": "x",
         "y": [
          1,
          4
         ],
         "yaxis": "y"
        },
        {
         "hovertemplate": "source=h.yandex-team.ru<br>month=%{x}<br>total_visits=%{y}<extra></extra>",
         "legendgroup": "h.yandex-team.ru",
         "line": {
          "color": "#19d3f3",
          "dash": "solid",
          "shape": "spline"
         },
         "marker": {
          "symbol": "circle"
         },
         "mode": "markers+lines",
         "name": "h.yandex-team.ru",
         "orientation": "v",
         "showlegend": true,
         "type": "scatter",
         "x": [
          "2017-02-01"
         ],
         "xaxis": "x",
         "y": [
          85
         ],
         "yaxis": "y"
        },
        {
         "hovertemplate": "source=learn.temple.edu<br>month=%{x}<br>total_visits=%{y}<extra></extra>",
         "legendgroup": "learn.temple.edu",
         "line": {
          "color": "#FF6692",
          "dash": "solid",
          "shape": "spline"
         },
         "marker": {
          "symbol": "circle"
         },
         "mode": "markers+lines",
         "name": "learn.temple.edu",
         "orientation": "v",
         "showlegend": true,
         "type": "scatter",
         "x": [
          "2017-02-01",
          "2017-03-01"
         ],
         "xaxis": "x",
         "y": [
          8,
          11
         ],
         "yaxis": "y"
        },
        {
         "hovertemplate": "source=google.ru<br>month=%{x}<br>total_visits=%{y}<extra></extra>",
         "legendgroup": "google.ru",
         "line": {
          "color": "#B6E880",
          "dash": "solid",
          "shape": "spline"
         },
         "marker": {
          "symbol": "circle"
         },
         "mode": "markers+lines",
         "name": "google.ru",
         "orientation": "v",
         "showlegend": true,
         "type": "scatter",
         "x": [
          "2017-02-01",
          "2017-03-01",
          "2017-05-01",
          "2017-06-01",
          "2017-07-01"
         ],
         "xaxis": "x",
         "y": [
          5,
          4,
          7,
          2,
          5
         ],
         "yaxis": "y"
        },
        {
         "hovertemplate": "source=search.xfinity.com<br>month=%{x}<br>total_visits=%{y}<extra></extra>",
         "legendgroup": "search.xfinity.com",
         "line": {
          "color": "#FF97FF",
          "dash": "solid",
          "shape": "spline"
         },
         "marker": {
          "symbol": "circle"
         },
         "mode": "markers+lines",
         "name": "search.xfinity.com",
         "orientation": "v",
         "showlegend": true,
         "type": "scatter",
         "x": [
          "2017-02-01",
          "2017-03-01",
          "2017-04-01",
          "2017-05-01",
          "2017-06-01",
          "2017-07-01"
         ],
         "xaxis": "x",
         "y": [
          4,
          1,
          4,
          1,
          4,
          6
         ],
         "yaxis": "y"
        },
        {
         "hovertemplate": "source=l.messenger.com<br>month=%{x}<br>total_visits=%{y}<extra></extra>",
         "legendgroup": "l.messenger.com",
         "line": {
          "color": "#FECB52",
          "dash": "solid",
          "shape": "spline"
         },
         "marker": {
          "symbol": "circle"
         },
         "mode": "markers+lines",
         "name": "l.messenger.com",
         "orientation": "v",
         "showlegend": true,
         "type": "scatter",
         "x": [
          "2017-02-01",
          "2017-03-01",
          "2017-04-01",
          "2017-05-01",
          "2017-06-01",
          "2017-07-01"
         ],
         "xaxis": "x",
         "y": [
          4,
          4,
          7,
          7,
          11,
          17
         ],
         "yaxis": "y"
        },
        {
         "hovertemplate": "source=us.search.yahoo.com<br>month=%{x}<br>total_visits=%{y}<extra></extra>",
         "legendgroup": "us.search.yahoo.com",
         "line": {
          "color": "#636efa",
          "dash": "solid",
          "shape": "spline"
         },
         "marker": {
          "symbol": "circle"
         },
         "mode": "markers+lines",
         "name": "us.search.yahoo.com",
         "orientation": "v",
         "showlegend": true,
         "type": "scatter",
         "x": [
          "2017-02-01",
          "2017-03-01",
          "2017-04-01"
         ],
         "xaxis": "x",
         "y": [
          2,
          26,
          15
         ],
         "yaxis": "y"
        },
        {
         "hovertemplate": "source=pinterest.com<br>month=%{x}<br>total_visits=%{y}<extra></extra>",
         "legendgroup": "pinterest.com",
         "line": {
          "color": "#EF553B",
          "dash": "solid",
          "shape": "spline"
         },
         "marker": {
          "symbol": "circle"
         },
         "mode": "markers+lines",
         "name": "pinterest.com",
         "orientation": "v",
         "showlegend": true,
         "type": "scatter",
         "x": [
          "2017-02-01",
          "2017-03-01",
          "2017-04-01",
          "2017-06-01"
         ],
         "xaxis": "x",
         "y": [
          2,
          1,
          7,
          1
         ],
         "yaxis": "y"
        },
        {
         "hovertemplate": "source=dena-design.qiita.com<br>month=%{x}<br>total_visits=%{y}<extra></extra>",
         "legendgroup": "dena-design.qiita.com",
         "line": {
          "color": "#00cc96",
          "dash": "solid",
          "shape": "spline"
         },
         "marker": {
          "symbol": "circle"
         },
         "mode": "markers+lines",
         "name": "dena-design.qiita.com",
         "orientation": "v",
         "showlegend": true,
         "type": "scatter",
         "x": [
          "2017-02-01",
          "2017-03-01"
         ],
         "xaxis": "x",
         "y": [
          2,
          3
         ],
         "yaxis": "y"
        },
        {
         "hovertemplate": "source=members.s7.exacttarget.com<br>month=%{x}<br>total_visits=%{y}<extra></extra>",
         "legendgroup": "members.s7.exacttarget.com",
         "line": {
          "color": "#ab63fa",
          "dash": "solid",
          "shape": "spline"
         },
         "marker": {
          "symbol": "circle"
         },
         "mode": "markers+lines",
         "name": "members.s7.exacttarget.com",
         "orientation": "v",
         "showlegend": true,
         "type": "scatter",
         "x": [
          "2017-02-01"
         ],
         "xaxis": "x",
         "y": [
          2
         ],
         "yaxis": "y"
        },
        {
         "hovertemplate": "source=maktoob.search.yahoo.com<br>month=%{x}<br>total_visits=%{y}<extra></extra>",
         "legendgroup": "maktoob.search.yahoo.com",
         "line": {
          "color": "#FFA15A",
          "dash": "solid",
          "shape": "spline"
         },
         "marker": {
          "symbol": "circle"
         },
         "mode": "markers+lines",
         "name": "maktoob.search.yahoo.com",
         "orientation": "v",
         "showlegend": true,
         "type": "scatter",
         "x": [
          "2017-02-01"
         ],
         "xaxis": "x",
         "y": [
          2
         ],
         "yaxis": "y"
        },
        {
         "hovertemplate": "source=yandex<br>month=%{x}<br>total_visits=%{y}<extra></extra>",
         "legendgroup": "yandex",
         "line": {
          "color": "#19d3f3",
          "dash": "solid",
          "shape": "spline"
         },
         "marker": {
          "symbol": "circle"
         },
         "mode": "markers+lines",
         "name": "yandex",
         "orientation": "v",
         "showlegend": true,
         "type": "scatter",
         "x": [
          "2017-02-01"
         ],
         "xaxis": "x",
         "y": [
          2
         ],
         "yaxis": "y"
        },
        {
         "hovertemplate": "source=fr.yhs4.search.yahoo.com<br>month=%{x}<br>total_visits=%{y}<extra></extra>",
         "legendgroup": "fr.yhs4.search.yahoo.com",
         "line": {
          "color": "#FF6692",
          "dash": "solid",
          "shape": "spline"
         },
         "marker": {
          "symbol": "circle"
         },
         "mode": "markers+lines",
         "name": "fr.yhs4.search.yahoo.com",
         "orientation": "v",
         "showlegend": true,
         "type": "scatter",
         "x": [
          "2017-02-01"
         ],
         "xaxis": "x",
         "y": [
          1
         ],
         "yaxis": "y"
        },
        {
         "hovertemplate": "source=google.com.tw<br>month=%{x}<br>total_visits=%{y}<extra></extra>",
         "legendgroup": "google.com.tw",
         "line": {
          "color": "#B6E880",
          "dash": "solid",
          "shape": "spline"
         },
         "marker": {
          "symbol": "circle"
         },
         "mode": "markers+lines",
         "name": "google.com.tw",
         "orientation": "v",
         "showlegend": true,
         "type": "scatter",
         "x": [
          "2017-02-01",
          "2017-06-01"
         ],
         "xaxis": "x",
         "y": [
          1,
          1
         ],
         "yaxis": "y"
        },
        {
         "hovertemplate": "source=ad.doubleclick.net<br>month=%{x}<br>total_visits=%{y}<extra></extra>",
         "legendgroup": "ad.doubleclick.net",
         "line": {
          "color": "#FF97FF",
          "dash": "solid",
          "shape": "spline"
         },
         "marker": {
          "symbol": "circle"
         },
         "mode": "markers+lines",
         "name": "ad.doubleclick.net",
         "orientation": "v",
         "showlegend": true,
         "type": "scatter",
         "x": [
          "2017-02-01"
         ],
         "xaxis": "x",
         "y": [
          1
         ],
         "yaxis": "y"
        },
        {
         "hovertemplate": "source=mail.verizon.com<br>month=%{x}<br>total_visits=%{y}<extra></extra>",
         "legendgroup": "mail.verizon.com",
         "line": {
          "color": "#FECB52",
          "dash": "solid",
          "shape": "spline"
         },
         "marker": {
          "symbol": "circle"
         },
         "mode": "markers+lines",
         "name": "mail.verizon.com",
         "orientation": "v",
         "showlegend": true,
         "type": "scatter",
         "x": [
          "2017-02-01"
         ],
         "xaxis": "x",
         "y": [
          1
         ],
         "yaxis": "y"
        },
        {
         "hovertemplate": "source=google.com.mx<br>month=%{x}<br>total_visits=%{y}<extra></extra>",
         "legendgroup": "google.com.mx",
         "line": {
          "color": "#636efa",
          "dash": "solid",
          "shape": "spline"
         },
         "marker": {
          "symbol": "circle"
         },
         "mode": "markers+lines",
         "name": "google.com.mx",
         "orientation": "v",
         "showlegend": true,
         "type": "scatter",
         "x": [
          "2017-02-01",
          "2017-05-01"
         ],
         "xaxis": "x",
         "y": [
          1,
          1
         ],
         "yaxis": "y"
        },
        {
         "hovertemplate": "source=blackboard.towson.edu<br>month=%{x}<br>total_visits=%{y}<extra></extra>",
         "legendgroup": "blackboard.towson.edu",
         "line": {
          "color": "#EF553B",
          "dash": "solid",
          "shape": "spline"
         },
         "marker": {
          "symbol": "circle"
         },
         "mode": "markers+lines",
         "name": "blackboard.towson.edu",
         "orientation": "v",
         "showlegend": true,
         "type": "scatter",
         "x": [
          "2017-02-01"
         ],
         "xaxis": "x",
         "y": [
          1
         ],
         "yaxis": "y"
        },
        {
         "hovertemplate": "source=vk.com<br>month=%{x}<br>total_visits=%{y}<extra></extra>",
         "legendgroup": "vk.com",
         "line": {
          "color": "#00cc96",
          "dash": "solid",
          "shape": "spline"
         },
         "marker": {
          "symbol": "circle"
         },
         "mode": "markers+lines",
         "name": "vk.com",
         "orientation": "v",
         "showlegend": true,
         "type": "scatter",
         "x": [
          "2017-02-01",
          "2017-03-01"
         ],
         "xaxis": "x",
         "y": [
          1,
          6
         ],
         "yaxis": "y"
        },
        {
         "hovertemplate": "source=tw.search.yahoo.com<br>month=%{x}<br>total_visits=%{y}<extra></extra>",
         "legendgroup": "tw.search.yahoo.com",
         "line": {
          "color": "#ab63fa",
          "dash": "solid",
          "shape": "spline"
         },
         "marker": {
          "symbol": "circle"
         },
         "mode": "markers+lines",
         "name": "tw.search.yahoo.com",
         "orientation": "v",
         "showlegend": true,
         "type": "scatter",
         "x": [
          "2017-02-01",
          "2017-05-01",
          "2017-06-01",
          "2017-07-01"
         ],
         "xaxis": "x",
         "y": [
          1,
          1,
          2,
          10
         ],
         "yaxis": "y"
        },
        {
         "hovertemplate": "source=google.co.il<br>month=%{x}<br>total_visits=%{y}<extra></extra>",
         "legendgroup": "google.co.il",
         "line": {
          "color": "#FFA15A",
          "dash": "solid",
          "shape": "spline"
         },
         "marker": {
          "symbol": "circle"
         },
         "mode": "markers+lines",
         "name": "google.co.il",
         "orientation": "v",
         "showlegend": true,
         "type": "scatter",
         "x": [
          "2017-02-01"
         ],
         "xaxis": "x",
         "y": [
          1
         ],
         "yaxis": "y"
        },
        {
         "hovertemplate": "source=google.nl<br>month=%{x}<br>total_visits=%{y}<extra></extra>",
         "legendgroup": "google.nl",
         "line": {
          "color": "#19d3f3",
          "dash": "solid",
          "shape": "spline"
         },
         "marker": {
          "symbol": "circle"
         },
         "mode": "markers+lines",
         "name": "google.nl",
         "orientation": "v",
         "showlegend": true,
         "type": "scatter",
         "x": [
          "2017-02-01",
          "2017-03-01",
          "2017-04-01",
          "2017-05-01",
          "2017-06-01",
          "2017-07-01"
         ],
         "xaxis": "x",
         "y": [
          1,
          3,
          4,
          2,
          1,
          1
         ],
         "yaxis": "y"
        },
        {
         "hovertemplate": "source=web.facebook.com<br>month=%{x}<br>total_visits=%{y}<extra></extra>",
         "legendgroup": "web.facebook.com",
         "line": {
          "color": "#FF6692",
          "dash": "solid",
          "shape": "spline"
         },
         "marker": {
          "symbol": "circle"
         },
         "mode": "markers+lines",
         "name": "web.facebook.com",
         "orientation": "v",
         "showlegend": true,
         "type": "scatter",
         "x": [
          "2017-02-01",
          "2017-03-01",
          "2017-04-01",
          "2017-05-01",
          "2017-07-01"
         ],
         "xaxis": "x",
         "y": [
          1,
          1,
          1,
          1,
          1
         ],
         "yaxis": "y"
        },
        {
         "hovertemplate": "source=kidrex.org<br>month=%{x}<br>total_visits=%{y}<extra></extra>",
         "legendgroup": "kidrex.org",
         "line": {
          "color": "#B6E880",
          "dash": "solid",
          "shape": "spline"
         },
         "marker": {
          "symbol": "circle"
         },
         "mode": "markers+lines",
         "name": "kidrex.org",
         "orientation": "v",
         "showlegend": true,
         "type": "scatter",
         "x": [
          "2017-02-01",
          "2017-03-01",
          "2017-05-01",
          "2017-06-01",
          "2017-07-01"
         ],
         "xaxis": "x",
         "y": [
          1,
          1,
          1,
          1,
          1
         ],
         "yaxis": "y"
        },
        {
         "hovertemplate": "source=spaces.google.com<br>month=%{x}<br>total_visits=%{y}<extra></extra>",
         "legendgroup": "spaces.google.com",
         "line": {
          "color": "#FF97FF",
          "dash": "solid",
          "shape": "spline"
         },
         "marker": {
          "symbol": "circle"
         },
         "mode": "markers+lines",
         "name": "spaces.google.com",
         "orientation": "v",
         "showlegend": true,
         "type": "scatter",
         "x": [
          "2017-02-01"
         ],
         "xaxis": "x",
         "y": [
          1
         ],
         "yaxis": "y"
        },
        {
         "hovertemplate": "source=searchlock.com<br>month=%{x}<br>total_visits=%{y}<extra></extra>",
         "legendgroup": "searchlock.com",
         "line": {
          "color": "#FECB52",
          "dash": "solid",
          "shape": "spline"
         },
         "marker": {
          "symbol": "circle"
         },
         "mode": "markers+lines",
         "name": "searchlock.com",
         "orientation": "v",
         "showlegend": true,
         "type": "scatter",
         "x": [
          "2017-02-01",
          "2017-03-01",
          "2017-04-01"
         ],
         "xaxis": "x",
         "y": [
          1,
          1,
          1
         ],
         "yaxis": "y"
        },
        {
         "hovertemplate": "source=fr.search.yahoo.com<br>month=%{x}<br>total_visits=%{y}<extra></extra>",
         "legendgroup": "fr.search.yahoo.com",
         "line": {
          "color": "#636efa",
          "dash": "solid",
          "shape": "spline"
         },
         "marker": {
          "symbol": "circle"
         },
         "mode": "markers+lines",
         "name": "fr.search.yahoo.com",
         "orientation": "v",
         "showlegend": true,
         "type": "scatter",
         "x": [
          "2017-02-01",
          "2017-05-01",
          "2017-06-01"
         ],
         "xaxis": "x",
         "y": [
          1,
          4,
          2
         ],
         "yaxis": "y"
        },
        {
         "hovertemplate": "source=businessinsider.com<br>month=%{x}<br>total_visits=%{y}<extra></extra>",
         "legendgroup": "businessinsider.com",
         "line": {
          "color": "#EF553B",
          "dash": "solid",
          "shape": "spline"
         },
         "marker": {
          "symbol": "circle"
         },
         "mode": "markers+lines",
         "name": "businessinsider.com",
         "orientation": "v",
         "showlegend": true,
         "type": "scatter",
         "x": [
          "2017-02-01",
          "2017-03-01",
          "2017-04-01",
          "2017-05-01",
          "2017-06-01"
         ],
         "xaxis": "x",
         "y": [
          1,
          2,
          47,
          3,
          2
         ],
         "yaxis": "y"
        },
        {
         "hovertemplate": "source=ca.search.yahoo.com<br>month=%{x}<br>total_visits=%{y}<extra></extra>",
         "legendgroup": "ca.search.yahoo.com",
         "line": {
          "color": "#00cc96",
          "dash": "solid",
          "shape": "spline"
         },
         "marker": {
          "symbol": "circle"
         },
         "mode": "markers+lines",
         "name": "ca.search.yahoo.com",
         "orientation": "v",
         "showlegend": true,
         "type": "scatter",
         "x": [
          "2017-02-01",
          "2017-04-01"
         ],
         "xaxis": "x",
         "y": [
          1,
          4
         ],
         "yaxis": "y"
        },
        {
         "hovertemplate": "source=images.google.lk<br>month=%{x}<br>total_visits=%{y}<extra></extra>",
         "legendgroup": "images.google.lk",
         "line": {
          "color": "#ab63fa",
          "dash": "solid",
          "shape": "spline"
         },
         "marker": {
          "symbol": "circle"
         },
         "mode": "markers+lines",
         "name": "images.google.lk",
         "orientation": "v",
         "showlegend": true,
         "type": "scatter",
         "x": [
          "2017-02-01"
         ],
         "xaxis": "x",
         "y": [
          1
         ],
         "yaxis": "y"
        },
        {
         "hovertemplate": "source=collaborate.northwestern.edu<br>month=%{x}<br>total_visits=%{y}<extra></extra>",
         "legendgroup": "collaborate.northwestern.edu",
         "line": {
          "color": "#FFA15A",
          "dash": "solid",
          "shape": "spline"
         },
         "marker": {
          "symbol": "circle"
         },
         "mode": "markers+lines",
         "name": "collaborate.northwestern.edu",
         "orientation": "v",
         "showlegend": true,
         "type": "scatter",
         "x": [
          "2017-02-01"
         ],
         "xaxis": "x",
         "y": [
          1
         ],
         "yaxis": "y"
        },
        {
         "hovertemplate": "source=ph.search.yahoo.com<br>month=%{x}<br>total_visits=%{y}<extra></extra>",
         "legendgroup": "ph.search.yahoo.com",
         "line": {
          "color": "#19d3f3",
          "dash": "solid",
          "shape": "spline"
         },
         "marker": {
          "symbol": "circle"
         },
         "mode": "markers+lines",
         "name": "ph.search.yahoo.com",
         "orientation": "v",
         "showlegend": true,
         "type": "scatter",
         "x": [
          "2017-02-01",
          "2017-03-01",
          "2017-04-01",
          "2017-07-01"
         ],
         "xaxis": "x",
         "y": [
          1,
          1,
          1,
          1
         ],
         "yaxis": "y"
        },
        {
         "hovertemplate": "source=se.search.yahoo.com<br>month=%{x}<br>total_visits=%{y}<extra></extra>",
         "legendgroup": "se.search.yahoo.com",
         "line": {
          "color": "#FF6692",
          "dash": "solid",
          "shape": "spline"
         },
         "marker": {
          "symbol": "circle"
         },
         "mode": "markers+lines",
         "name": "se.search.yahoo.com",
         "orientation": "v",
         "showlegend": true,
         "type": "scatter",
         "x": [
          "2017-02-01",
          "2017-05-01"
         ],
         "xaxis": "x",
         "y": [
          1,
          2
         ],
         "yaxis": "y"
        },
        {
         "hovertemplate": "source=go.mail.ru<br>month=%{x}<br>total_visits=%{y}<extra></extra>",
         "legendgroup": "go.mail.ru",
         "line": {
          "color": "#B6E880",
          "dash": "solid",
          "shape": "spline"
         },
         "marker": {
          "symbol": "circle"
         },
         "mode": "markers+lines",
         "name": "go.mail.ru",
         "orientation": "v",
         "showlegend": true,
         "type": "scatter",
         "x": [
          "2017-02-01",
          "2017-03-01",
          "2017-05-01"
         ],
         "xaxis": "x",
         "y": [
          1,
          1,
          1
         ],
         "yaxis": "y"
        },
        {
         "hovertemplate": "source=es.search.yahoo.com<br>month=%{x}<br>total_visits=%{y}<extra></extra>",
         "legendgroup": "es.search.yahoo.com",
         "line": {
          "color": "#FF97FF",
          "dash": "solid",
          "shape": "spline"
         },
         "marker": {
          "symbol": "circle"
         },
         "mode": "markers+lines",
         "name": "es.search.yahoo.com",
         "orientation": "v",
         "showlegend": true,
         "type": "scatter",
         "x": [
          "2017-02-01",
          "2017-06-01",
          "2017-07-01"
         ],
         "xaxis": "x",
         "y": [
          1,
          2,
          1
         ],
         "yaxis": "y"
        },
        {
         "hovertemplate": "source=myaccount.google.com<br>month=%{x}<br>total_visits=%{y}<extra></extra>",
         "legendgroup": "myaccount.google.com",
         "line": {
          "color": "#FECB52",
          "dash": "solid",
          "shape": "spline"
         },
         "marker": {
          "symbol": "circle"
         },
         "mode": "markers+lines",
         "name": "myaccount.google.com",
         "orientation": "v",
         "showlegend": true,
         "type": "scatter",
         "x": [
          "2017-02-01"
         ],
         "xaxis": "x",
         "y": [
          1
         ],
         "yaxis": "y"
        },
        {
         "hovertemplate": "source=datastudio.google.com<br>month=%{x}<br>total_visits=%{y}<extra></extra>",
         "legendgroup": "datastudio.google.com",
         "line": {
          "color": "#636efa",
          "dash": "solid",
          "shape": "spline"
         },
         "marker": {
          "symbol": "circle"
         },
         "mode": "markers+lines",
         "name": "datastudio.google.com",
         "orientation": "v",
         "showlegend": true,
         "type": "scatter",
         "x": [
          "2017-02-01",
          "2017-05-01",
          "2017-06-01"
         ],
         "xaxis": "x",
         "y": [
          1,
          1,
          4
         ],
         "yaxis": "y"
        },
        {
         "hovertemplate": "source=feedly.com<br>month=%{x}<br>total_visits=%{y}<extra></extra>",
         "legendgroup": "feedly.com",
         "line": {
          "color": "#EF553B",
          "dash": "solid",
          "shape": "spline"
         },
         "marker": {
          "symbol": "circle"
         },
         "mode": "markers+lines",
         "name": "feedly.com",
         "orientation": "v",
         "showlegend": true,
         "type": "scatter",
         "x": [
          "2017-02-01",
          "2017-04-01",
          "2017-05-01"
         ],
         "xaxis": "x",
         "y": [
          1,
          25,
          1
         ],
         "yaxis": "y"
        },
        {
         "hovertemplate": "source=hk.search.yahoo.com<br>month=%{x}<br>total_visits=%{y}<extra></extra>",
         "legendgroup": "hk.search.yahoo.com",
         "line": {
          "color": "#00cc96",
          "dash": "solid",
          "shape": "spline"
         },
         "marker": {
          "symbol": "circle"
         },
         "mode": "markers+lines",
         "name": "hk.search.yahoo.com",
         "orientation": "v",
         "showlegend": true,
         "type": "scatter",
         "x": [
          "2017-02-01"
         ],
         "xaxis": "x",
         "y": [
          1
         ],
         "yaxis": "y"
        },
        {
         "hovertemplate": "source=google.co.th<br>month=%{x}<br>total_visits=%{y}<extra></extra>",
         "legendgroup": "google.co.th",
         "line": {
          "color": "#ab63fa",
          "dash": "solid",
          "shape": "spline"
         },
         "marker": {
          "symbol": "circle"
         },
         "mode": "markers+lines",
         "name": "google.co.th",
         "orientation": "v",
         "showlegend": true,
         "type": "scatter",
         "x": [
          "2017-03-01",
          "2017-04-01",
          "2017-06-01",
          "2017-07-01"
         ],
         "xaxis": "x",
         "y": [
          7,
          1,
          3,
          2
         ],
         "yaxis": "y"
        },
        {
         "hovertemplate": "source=apis.mail.yahoo.com<br>month=%{x}<br>total_visits=%{y}<extra></extra>",
         "legendgroup": "apis.mail.yahoo.com",
         "line": {
          "color": "#FFA15A",
          "dash": "solid",
          "shape": "spline"
         },
         "marker": {
          "symbol": "circle"
         },
         "mode": "markers+lines",
         "name": "apis.mail.yahoo.com",
         "orientation": "v",
         "showlegend": true,
         "type": "scatter",
         "x": [
          "2017-03-01",
          "2017-04-01"
         ],
         "xaxis": "x",
         "y": [
          4,
          4
         ],
         "yaxis": "y"
        },
        {
         "hovertemplate": "source=ex.fit.edu<br>month=%{x}<br>total_visits=%{y}<extra></extra>",
         "legendgroup": "ex.fit.edu",
         "line": {
          "color": "#19d3f3",
          "dash": "solid",
          "shape": "spline"
         },
         "marker": {
          "symbol": "circle"
         },
         "mode": "markers+lines",
         "name": "ex.fit.edu",
         "orientation": "v",
         "showlegend": true,
         "type": "scatter",
         "x": [
          "2017-03-01"
         ],
         "xaxis": "x",
         "y": [
          3
         ],
         "yaxis": "y"
        },
        {
         "hovertemplate": "source=gist.github.com<br>month=%{x}<br>total_visits=%{y}<extra></extra>",
         "legendgroup": "gist.github.com",
         "line": {
          "color": "#FF6692",
          "dash": "solid",
          "shape": "spline"
         },
         "marker": {
          "symbol": "circle"
         },
         "mode": "markers+lines",
         "name": "gist.github.com",
         "orientation": "v",
         "showlegend": true,
         "type": "scatter",
         "x": [
          "2017-03-01"
         ],
         "xaxis": "x",
         "y": [
          3
         ],
         "yaxis": "y"
        },
        {
         "hovertemplate": "source=google.ca<br>month=%{x}<br>total_visits=%{y}<extra></extra>",
         "legendgroup": "google.ca",
         "line": {
          "color": "#B6E880",
          "dash": "solid",
          "shape": "spline"
         },
         "marker": {
          "symbol": "circle"
         },
         "mode": "markers+lines",
         "name": "google.ca",
         "orientation": "v",
         "showlegend": true,
         "type": "scatter",
         "x": [
          "2017-03-01",
          "2017-04-01",
          "2017-05-01",
          "2017-06-01",
          "2017-07-01"
         ],
         "xaxis": "x",
         "y": [
          3,
          1,
          1,
          5,
          1
         ],
         "yaxis": "y"
        },
        {
         "hovertemplate": "source=google.com.br<br>month=%{x}<br>total_visits=%{y}<extra></extra>",
         "legendgroup": "google.com.br",
         "line": {
          "color": "#FF97FF",
          "dash": "solid",
          "shape": "spline"
         },
         "marker": {
          "symbol": "circle"
         },
         "mode": "markers+lines",
         "name": "google.com.br",
         "orientation": "v",
         "showlegend": true,
         "type": "scatter",
         "x": [
          "2017-03-01",
          "2017-04-01",
          "2017-07-01"
         ],
         "xaxis": "x",
         "y": [
          3,
          2,
          1
         ],
         "yaxis": "y"
        },
        {
         "hovertemplate": "source=web.skype.com<br>month=%{x}<br>total_visits=%{y}<extra></extra>",
         "legendgroup": "web.skype.com",
         "line": {
          "color": "#FECB52",
          "dash": "solid",
          "shape": "spline"
         },
         "marker": {
          "symbol": "circle"
         },
         "mode": "markers+lines",
         "name": "web.skype.com",
         "orientation": "v",
         "showlegend": true,
         "type": "scatter",
         "x": [
          "2017-03-01"
         ],
         "xaxis": "x",
         "y": [
          3
         ],
         "yaxis": "y"
        },
        {
         "hovertemplate": "source=getpocket.com<br>month=%{x}<br>total_visits=%{y}<extra></extra>",
         "legendgroup": "getpocket.com",
         "line": {
          "color": "#636efa",
          "dash": "solid",
          "shape": "spline"
         },
         "marker": {
          "symbol": "circle"
         },
         "mode": "markers+lines",
         "name": "getpocket.com",
         "orientation": "v",
         "showlegend": true,
         "type": "scatter",
         "x": [
          "2017-03-01",
          "2017-04-01",
          "2017-05-01",
          "2017-06-01",
          "2017-07-01"
         ],
         "xaxis": "x",
         "y": [
          2,
          1,
          1,
          2,
          3
         ],
         "yaxis": "y"
        },
        {
         "hovertemplate": "source=cn.bing.com<br>month=%{x}<br>total_visits=%{y}<extra></extra>",
         "legendgroup": "cn.bing.com",
         "line": {
          "color": "#EF553B",
          "dash": "solid",
          "shape": "spline"
         },
         "marker": {
          "symbol": "circle"
         },
         "mode": "markers+lines",
         "name": "cn.bing.com",
         "orientation": "v",
         "showlegend": true,
         "type": "scatter",
         "x": [
          "2017-03-01"
         ],
         "xaxis": "x",
         "y": [
          2
         ],
         "yaxis": "y"
        },
        {
         "hovertemplate": "source=us.yhs4.search.yahoo.com<br>month=%{x}<br>total_visits=%{y}<extra></extra>",
         "legendgroup": "us.yhs4.search.yahoo.com",
         "line": {
          "color": "#00cc96",
          "dash": "solid",
          "shape": "spline"
         },
         "marker": {
          "symbol": "circle"
         },
         "mode": "markers+lines",
         "name": "us.yhs4.search.yahoo.com",
         "orientation": "v",
         "showlegend": true,
         "type": "scatter",
         "x": [
          "2017-03-01"
         ],
         "xaxis": "x",
         "y": [
          2
         ],
         "yaxis": "y"
        },
        {
         "hovertemplate": "source=baidu.com<br>month=%{x}<br>total_visits=%{y}<extra></extra>",
         "legendgroup": "baidu.com",
         "line": {
          "color": "#ab63fa",
          "dash": "solid",
          "shape": "spline"
         },
         "marker": {
          "symbol": "circle"
         },
         "mode": "markers+lines",
         "name": "baidu.com",
         "orientation": "v",
         "showlegend": true,
         "type": "scatter",
         "x": [
          "2017-03-01",
          "2017-04-01"
         ],
         "xaxis": "x",
         "y": [
          1,
          1
         ],
         "yaxis": "y"
        },
        {
         "hovertemplate": "source=se.yhs4.search.yahoo.com<br>month=%{x}<br>total_visits=%{y}<extra></extra>",
         "legendgroup": "se.yhs4.search.yahoo.com",
         "line": {
          "color": "#FFA15A",
          "dash": "solid",
          "shape": "spline"
         },
         "marker": {
          "symbol": "circle"
         },
         "mode": "markers+lines",
         "name": "se.yhs4.search.yahoo.com",
         "orientation": "v",
         "showlegend": true,
         "type": "scatter",
         "x": [
          "2017-03-01"
         ],
         "xaxis": "x",
         "y": [
          1
         ],
         "yaxis": "y"
        },
        {
         "hovertemplate": "source=mysearch.com<br>month=%{x}<br>total_visits=%{y}<extra></extra>",
         "legendgroup": "mysearch.com",
         "line": {
          "color": "#19d3f3",
          "dash": "solid",
          "shape": "spline"
         },
         "marker": {
          "symbol": "circle"
         },
         "mode": "markers+lines",
         "name": "mysearch.com",
         "orientation": "v",
         "showlegend": true,
         "type": "scatter",
         "x": [
          "2017-03-01"
         ],
         "xaxis": "x",
         "y": [
          1
         ],
         "yaxis": "y"
        },
        {
         "hovertemplate": "source=search.snapdo.com<br>month=%{x}<br>total_visits=%{y}<extra></extra>",
         "legendgroup": "search.snapdo.com",
         "line": {
          "color": "#FF6692",
          "dash": "solid",
          "shape": "spline"
         },
         "marker": {
          "symbol": "circle"
         },
         "mode": "markers+lines",
         "name": "search.snapdo.com",
         "orientation": "v",
         "showlegend": true,
         "type": "scatter",
         "x": [
          "2017-03-01"
         ],
         "xaxis": "x",
         "y": [
          1
         ],
         "yaxis": "y"
        },
        {
         "hovertemplate": "source=start.wow.com<br>month=%{x}<br>total_visits=%{y}<extra></extra>",
         "legendgroup": "start.wow.com",
         "line": {
          "color": "#B6E880",
          "dash": "solid",
          "shape": "spline"
         },
         "marker": {
          "symbol": "circle"
         },
         "mode": "markers+lines",
         "name": "start.wow.com",
         "orientation": "v",
         "showlegend": true,
         "type": "scatter",
         "x": [
          "2017-03-01"
         ],
         "xaxis": "x",
         "y": [
          1
         ],
         "yaxis": "y"
        },
        {
         "hovertemplate": "source=bing.com<br>month=%{x}<br>total_visits=%{y}<extra></extra>",
         "legendgroup": "bing.com",
         "line": {
          "color": "#FF97FF",
          "dash": "solid",
          "shape": "spline"
         },
         "marker": {
          "symbol": "circle"
         },
         "mode": "markers+lines",
         "name": "bing.com",
         "orientation": "v",
         "showlegend": true,
         "type": "scatter",
         "x": [
          "2017-03-01",
          "2017-04-01"
         ],
         "xaxis": "x",
         "y": [
          1,
          3
         ],
         "yaxis": "y"
        },
        {
         "hovertemplate": "source=it.search.yahoo.com<br>month=%{x}<br>total_visits=%{y}<extra></extra>",
         "legendgroup": "it.search.yahoo.com",
         "line": {
          "color": "#FECB52",
          "dash": "solid",
          "shape": "spline"
         },
         "marker": {
          "symbol": "circle"
         },
         "mode": "markers+lines",
         "name": "it.search.yahoo.com",
         "orientation": "v",
         "showlegend": true,
         "type": "scatter",
         "x": [
          "2017-03-01",
          "2017-06-01"
         ],
         "xaxis": "x",
         "y": [
          1,
          1
         ],
         "yaxis": "y"
        },
        {
         "hovertemplate": "source=google.ch<br>month=%{x}<br>total_visits=%{y}<extra></extra>",
         "legendgroup": "google.ch",
         "line": {
          "color": "#636efa",
          "dash": "solid",
          "shape": "spline"
         },
         "marker": {
          "symbol": "circle"
         },
         "mode": "markers+lines",
         "name": "google.ch",
         "orientation": "v",
         "showlegend": true,
         "type": "scatter",
         "x": [
          "2017-03-01",
          "2017-05-01"
         ],
         "xaxis": "x",
         "y": [
          1,
          1
         ],
         "yaxis": "y"
        },
        {
         "hovertemplate": "source=google.no<br>month=%{x}<br>total_visits=%{y}<extra></extra>",
         "legendgroup": "google.no",
         "line": {
          "color": "#EF553B",
          "dash": "solid",
          "shape": "spline"
         },
         "marker": {
          "symbol": "circle"
         },
         "mode": "markers+lines",
         "name": "google.no",
         "orientation": "v",
         "showlegend": true,
         "type": "scatter",
         "x": [
          "2017-03-01"
         ],
         "xaxis": "x",
         "y": [
          1
         ],
         "yaxis": "y"
        },
        {
         "hovertemplate": "source=google.pl<br>month=%{x}<br>total_visits=%{y}<extra></extra>",
         "legendgroup": "google.pl",
         "line": {
          "color": "#00cc96",
          "dash": "solid",
          "shape": "spline"
         },
         "marker": {
          "symbol": "circle"
         },
         "mode": "markers+lines",
         "name": "google.pl",
         "orientation": "v",
         "showlegend": true,
         "type": "scatter",
         "x": [
          "2017-03-01"
         ],
         "xaxis": "x",
         "y": [
          1
         ],
         "yaxis": "y"
        },
        {
         "hovertemplate": "source=ausdroid.net<br>month=%{x}<br>total_visits=%{y}<extra></extra>",
         "legendgroup": "ausdroid.net",
         "line": {
          "color": "#ab63fa",
          "dash": "solid",
          "shape": "spline"
         },
         "marker": {
          "symbol": "circle"
         },
         "mode": "markers+lines",
         "name": "ausdroid.net",
         "orientation": "v",
         "showlegend": true,
         "type": "scatter",
         "x": [
          "2017-03-01"
         ],
         "xaxis": "x",
         "y": [
          1
         ],
         "yaxis": "y"
        },
        {
         "hovertemplate": "source=msn<br>month=%{x}<br>total_visits=%{y}<extra></extra>",
         "legendgroup": "msn",
         "line": {
          "color": "#FFA15A",
          "dash": "solid",
          "shape": "spline"
         },
         "marker": {
          "symbol": "circle"
         },
         "mode": "markers+lines",
         "name": "msn",
         "orientation": "v",
         "showlegend": true,
         "type": "scatter",
         "x": [
          "2017-03-01"
         ],
         "xaxis": "x",
         "y": [
          1
         ],
         "yaxis": "y"
        },
        {
         "hovertemplate": "source=google.rs<br>month=%{x}<br>total_visits=%{y}<extra></extra>",
         "legendgroup": "google.rs",
         "line": {
          "color": "#19d3f3",
          "dash": "solid",
          "shape": "spline"
         },
         "marker": {
          "symbol": "circle"
         },
         "mode": "markers+lines",
         "name": "google.rs",
         "orientation": "v",
         "showlegend": true,
         "type": "scatter",
         "x": [
          "2017-03-01"
         ],
         "xaxis": "x",
         "y": [
          1
         ],
         "yaxis": "y"
        },
        {
         "hovertemplate": "source=web.whatsapp.com<br>month=%{x}<br>total_visits=%{y}<extra></extra>",
         "legendgroup": "web.whatsapp.com",
         "line": {
          "color": "#FF6692",
          "dash": "solid",
          "shape": "spline"
         },
         "marker": {
          "symbol": "circle"
         },
         "mode": "markers+lines",
         "name": "web.whatsapp.com",
         "orientation": "v",
         "showlegend": true,
         "type": "scatter",
         "x": [
          "2017-03-01"
         ],
         "xaxis": "x",
         "y": [
          1
         ],
         "yaxis": "y"
        },
        {
         "hovertemplate": "source=br.pinterest.com<br>month=%{x}<br>total_visits=%{y}<extra></extra>",
         "legendgroup": "br.pinterest.com",
         "line": {
          "color": "#B6E880",
          "dash": "solid",
          "shape": "spline"
         },
         "marker": {
          "symbol": "circle"
         },
         "mode": "markers+lines",
         "name": "br.pinterest.com",
         "orientation": "v",
         "showlegend": true,
         "type": "scatter",
         "x": [
          "2017-03-01"
         ],
         "xaxis": "x",
         "y": [
          1
         ],
         "yaxis": "y"
        },
        {
         "hovertemplate": "source=good.barkpost.com<br>month=%{x}<br>total_visits=%{y}<extra></extra>",
         "legendgroup": "good.barkpost.com",
         "line": {
          "color": "#FF97FF",
          "dash": "solid",
          "shape": "spline"
         },
         "marker": {
          "symbol": "circle"
         },
         "mode": "markers+lines",
         "name": "good.barkpost.com",
         "orientation": "v",
         "showlegend": true,
         "type": "scatter",
         "x": [
          "2017-03-01"
         ],
         "xaxis": "x",
         "y": [
          1
         ],
         "yaxis": "y"
        },
        {
         "hovertemplate": "source=flipboard.com<br>month=%{x}<br>total_visits=%{y}<extra></extra>",
         "legendgroup": "flipboard.com",
         "line": {
          "color": "#FECB52",
          "dash": "solid",
          "shape": "spline"
         },
         "marker": {
          "symbol": "circle"
         },
         "mode": "markers+lines",
         "name": "flipboard.com",
         "orientation": "v",
         "showlegend": true,
         "type": "scatter",
         "x": [
          "2017-04-01",
          "2017-05-01"
         ],
         "xaxis": "x",
         "y": [
          22,
          1
         ],
         "yaxis": "y"
        },
        {
         "hovertemplate": "source=uk.businessinsider.com<br>month=%{x}<br>total_visits=%{y}<extra></extra>",
         "legendgroup": "uk.businessinsider.com",
         "line": {
          "color": "#636efa",
          "dash": "solid",
          "shape": "spline"
         },
         "marker": {
          "symbol": "circle"
         },
         "mode": "markers+lines",
         "name": "uk.businessinsider.com",
         "orientation": "v",
         "showlegend": true,
         "type": "scatter",
         "x": [
          "2017-04-01",
          "2017-05-01"
         ],
         "xaxis": "x",
         "y": [
          13,
          1
         ],
         "yaxis": "y"
        },
        {
         "hovertemplate": "source=finance.yahoo.com<br>month=%{x}<br>total_visits=%{y}<extra></extra>",
         "legendgroup": "finance.yahoo.com",
         "line": {
          "color": "#EF553B",
          "dash": "solid",
          "shape": "spline"
         },
         "marker": {
          "symbol": "circle"
         },
         "mode": "markers+lines",
         "name": "finance.yahoo.com",
         "orientation": "v",
         "showlegend": true,
         "type": "scatter",
         "x": [
          "2017-04-01"
         ],
         "xaxis": "x",
         "y": [
          6
         ],
         "yaxis": "y"
        },
        {
         "hovertemplate": "source=msn.com<br>month=%{x}<br>total_visits=%{y}<extra></extra>",
         "legendgroup": "msn.com",
         "line": {
          "color": "#00cc96",
          "dash": "solid",
          "shape": "spline"
         },
         "marker": {
          "symbol": "circle"
         },
         "mode": "markers+lines",
         "name": "msn.com",
         "orientation": "v",
         "showlegend": true,
         "type": "scatter",
         "x": [
          "2017-04-01",
          "2017-05-01",
          "2017-06-01",
          "2017-07-01"
         ],
         "xaxis": "x",
         "y": [
          3,
          4,
          7,
          2
         ],
         "yaxis": "y"
        },
        {
         "hovertemplate": "source=away.vk.com<br>month=%{x}<br>total_visits=%{y}<extra></extra>",
         "legendgroup": "away.vk.com",
         "line": {
          "color": "#ab63fa",
          "dash": "solid",
          "shape": "spline"
         },
         "marker": {
          "symbol": "circle"
         },
         "mode": "markers+lines",
         "name": "away.vk.com",
         "orientation": "v",
         "showlegend": true,
         "type": "scatter",
         "x": [
          "2017-04-01",
          "2017-05-01",
          "2017-06-01",
          "2017-07-01"
         ],
         "xaxis": "x",
         "y": [
          3,
          15,
          7,
          4
         ],
         "yaxis": "y"
        },
        {
         "hovertemplate": "source=twitter.com<br>month=%{x}<br>total_visits=%{y}<extra></extra>",
         "legendgroup": "twitter.com",
         "line": {
          "color": "#FFA15A",
          "dash": "solid",
          "shape": "spline"
         },
         "marker": {
          "symbol": "circle"
         },
         "mode": "markers+lines",
         "name": "twitter.com",
         "orientation": "v",
         "showlegend": true,
         "type": "scatter",
         "x": [
          "2017-04-01",
          "2017-05-01"
         ],
         "xaxis": "x",
         "y": [
          2,
          2
         ],
         "yaxis": "y"
        },
        {
         "hovertemplate": "source=markets.businessinsider.com<br>month=%{x}<br>total_visits=%{y}<extra></extra>",
         "legendgroup": "markets.businessinsider.com",
         "line": {
          "color": "#19d3f3",
          "dash": "solid",
          "shape": "spline"
         },
         "marker": {
          "symbol": "circle"
         },
         "mode": "markers+lines",
         "name": "markets.businessinsider.com",
         "orientation": "v",
         "showlegend": true,
         "type": "scatter",
         "x": [
          "2017-04-01",
          "2017-05-01"
         ],
         "xaxis": "x",
         "y": [
          2,
          1
         ],
         "yaxis": "y"
        },
        {
         "hovertemplate": "source=chat.google.com<br>month=%{x}<br>total_visits=%{y}<extra></extra>",
         "legendgroup": "chat.google.com",
         "line": {
          "color": "#FF6692",
          "dash": "solid",
          "shape": "spline"
         },
         "marker": {
          "symbol": "circle"
         },
         "mode": "markers+lines",
         "name": "chat.google.com",
         "orientation": "v",
         "showlegend": true,
         "type": "scatter",
         "x": [
          "2017-04-01",
          "2017-06-01"
         ],
         "xaxis": "x",
         "y": [
          2,
          5
         ],
         "yaxis": "y"
        },
        {
         "hovertemplate": "source=google.com.hk<br>month=%{x}<br>total_visits=%{y}<extra></extra>",
         "legendgroup": "google.com.hk",
         "line": {
          "color": "#B6E880",
          "dash": "solid",
          "shape": "spline"
         },
         "marker": {
          "symbol": "circle"
         },
         "mode": "markers+lines",
         "name": "google.com.hk",
         "orientation": "v",
         "showlegend": true,
         "type": "scatter",
         "x": [
          "2017-04-01"
         ],
         "xaxis": "x",
         "y": [
          2
         ],
         "yaxis": "y"
        },
        {
         "hovertemplate": "source=images.google.ie<br>month=%{x}<br>total_visits=%{y}<extra></extra>",
         "legendgroup": "images.google.ie",
         "line": {
          "color": "#FF97FF",
          "dash": "solid",
          "shape": "spline"
         },
         "marker": {
          "symbol": "circle"
         },
         "mode": "markers+lines",
         "name": "images.google.ie",
         "orientation": "v",
         "showlegend": true,
         "type": "scatter",
         "x": [
          "2017-04-01"
         ],
         "xaxis": "x",
         "y": [
          2
         ],
         "yaxis": "y"
        },
        {
         "hovertemplate": "source=businessinsider.in<br>month=%{x}<br>total_visits=%{y}<extra></extra>",
         "legendgroup": "businessinsider.in",
         "line": {
          "color": "#FECB52",
          "dash": "solid",
          "shape": "spline"
         },
         "marker": {
          "symbol": "circle"
         },
         "mode": "markers+lines",
         "name": "businessinsider.in",
         "orientation": "v",
         "showlegend": true,
         "type": "scatter",
         "x": [
          "2017-04-01"
         ],
         "xaxis": "x",
         "y": [
          2
         ],
         "yaxis": "y"
        },
        {
         "hovertemplate": "source=br.search.yahoo.com<br>month=%{x}<br>total_visits=%{y}<extra></extra>",
         "legendgroup": "br.search.yahoo.com",
         "line": {
          "color": "#636efa",
          "dash": "solid",
          "shape": "spline"
         },
         "marker": {
          "symbol": "circle"
         },
         "mode": "markers+lines",
         "name": "br.search.yahoo.com",
         "orientation": "v",
         "showlegend": true,
         "type": "scatter",
         "x": [
          "2017-04-01"
         ],
         "xaxis": "x",
         "y": [
          2
         ],
         "yaxis": "y"
        },
        {
         "hovertemplate": "source=google.co.nz<br>month=%{x}<br>total_visits=%{y}<extra></extra>",
         "legendgroup": "google.co.nz",
         "line": {
          "color": "#EF553B",
          "dash": "solid",
          "shape": "spline"
         },
         "marker": {
          "symbol": "circle"
         },
         "mode": "markers+lines",
         "name": "google.co.nz",
         "orientation": "v",
         "showlegend": true,
         "type": "scatter",
         "x": [
          "2017-04-01"
         ],
         "xaxis": "x",
         "y": [
          1
         ],
         "yaxis": "y"
        },
        {
         "hovertemplate": "source=9to5google.com<br>month=%{x}<br>total_visits=%{y}<extra></extra>",
         "legendgroup": "9to5google.com",
         "line": {
          "color": "#00cc96",
          "dash": "solid",
          "shape": "spline"
         },
         "marker": {
          "symbol": "circle"
         },
         "mode": "markers+lines",
         "name": "9to5google.com",
         "orientation": "v",
         "showlegend": true,
         "type": "scatter",
         "x": [
          "2017-04-01"
         ],
         "xaxis": "x",
         "y": [
          1
         ],
         "yaxis": "y"
        },
        {
         "hovertemplate": "source=google.com.au<br>month=%{x}<br>total_visits=%{y}<extra></extra>",
         "legendgroup": "google.com.au",
         "line": {
          "color": "#ab63fa",
          "dash": "solid",
          "shape": "spline"
         },
         "marker": {
          "symbol": "circle"
         },
         "mode": "markers+lines",
         "name": "google.com.au",
         "orientation": "v",
         "showlegend": true,
         "type": "scatter",
         "x": [
          "2017-04-01",
          "2017-05-01",
          "2017-06-01"
         ],
         "xaxis": "x",
         "y": [
          1,
          1,
          3
         ],
         "yaxis": "y"
        },
        {
         "hovertemplate": "source=yahoo.com<br>month=%{x}<br>total_visits=%{y}<extra></extra>",
         "legendgroup": "yahoo.com",
         "line": {
          "color": "#FFA15A",
          "dash": "solid",
          "shape": "spline"
         },
         "marker": {
          "symbol": "circle"
         },
         "mode": "markers+lines",
         "name": "yahoo.com",
         "orientation": "v",
         "showlegend": true,
         "type": "scatter",
         "x": [
          "2017-04-01"
         ],
         "xaxis": "x",
         "y": [
          1
         ],
         "yaxis": "y"
        },
        {
         "hovertemplate": "source=google.lk<br>month=%{x}<br>total_visits=%{y}<extra></extra>",
         "legendgroup": "google.lk",
         "line": {
          "color": "#19d3f3",
          "dash": "solid",
          "shape": "spline"
         },
         "marker": {
          "symbol": "circle"
         },
         "mode": "markers+lines",
         "name": "google.lk",
         "orientation": "v",
         "showlegend": true,
         "type": "scatter",
         "x": [
          "2017-04-01"
         ],
         "xaxis": "x",
         "y": [
          1
         ],
         "yaxis": "y"
        },
        {
         "hovertemplate": "source=search.earthlink.net<br>month=%{x}<br>total_visits=%{y}<extra></extra>",
         "legendgroup": "search.earthlink.net",
         "line": {
          "color": "#FF6692",
          "dash": "solid",
          "shape": "spline"
         },
         "marker": {
          "symbol": "circle"
         },
         "mode": "markers+lines",
         "name": "search.earthlink.net",
         "orientation": "v",
         "showlegend": true,
         "type": "scatter",
         "x": [
          "2017-04-01",
          "2017-05-01",
          "2017-06-01"
         ],
         "xaxis": "x",
         "y": [
          1,
          1,
          1
         ],
         "yaxis": "y"
        },
        {
         "hovertemplate": "source=search.1and1.com<br>month=%{x}<br>total_visits=%{y}<extra></extra>",
         "legendgroup": "search.1and1.com",
         "line": {
          "color": "#B6E880",
          "dash": "solid",
          "shape": "spline"
         },
         "marker": {
          "symbol": "circle"
         },
         "mode": "markers+lines",
         "name": "search.1and1.com",
         "orientation": "v",
         "showlegend": true,
         "type": "scatter",
         "x": [
          "2017-04-01",
          "2017-07-01"
         ],
         "xaxis": "x",
         "y": [
          1,
          2
         ],
         "yaxis": "y"
        },
        {
         "hovertemplate": "source=google.com.ph<br>month=%{x}<br>total_visits=%{y}<extra></extra>",
         "legendgroup": "google.com.ph",
         "line": {
          "color": "#FF97FF",
          "dash": "solid",
          "shape": "spline"
         },
         "marker": {
          "symbol": "circle"
         },
         "mode": "markers+lines",
         "name": "google.com.ph",
         "orientation": "v",
         "showlegend": true,
         "type": "scatter",
         "x": [
          "2017-04-01"
         ],
         "xaxis": "x",
         "y": [
          1
         ],
         "yaxis": "y"
        },
        {
         "hovertemplate": "source=newsstand.google.com<br>month=%{x}<br>total_visits=%{y}<extra></extra>",
         "legendgroup": "newsstand.google.com",
         "line": {
          "color": "#FECB52",
          "dash": "solid",
          "shape": "spline"
         },
         "marker": {
          "symbol": "circle"
         },
         "mode": "markers+lines",
         "name": "newsstand.google.com",
         "orientation": "v",
         "showlegend": true,
         "type": "scatter",
         "x": [
          "2017-04-01"
         ],
         "xaxis": "x",
         "y": [
          1
         ],
         "yaxis": "y"
        },
        {
         "hovertemplate": "source=us.wow.com<br>month=%{x}<br>total_visits=%{y}<extra></extra>",
         "legendgroup": "us.wow.com",
         "line": {
          "color": "#636efa",
          "dash": "solid",
          "shape": "spline"
         },
         "marker": {
          "symbol": "circle"
         },
         "mode": "markers+lines",
         "name": "us.wow.com",
         "orientation": "v",
         "showlegend": true,
         "type": "scatter",
         "x": [
          "2017-04-01"
         ],
         "xaxis": "x",
         "y": [
          1
         ],
         "yaxis": "y"
        },
        {
         "hovertemplate": "source=search.incredibar.com<br>month=%{x}<br>total_visits=%{y}<extra></extra>",
         "legendgroup": "search.incredibar.com",
         "line": {
          "color": "#EF553B",
          "dash": "solid",
          "shape": "spline"
         },
         "marker": {
          "symbol": "circle"
         },
         "mode": "markers+lines",
         "name": "search.incredibar.com",
         "orientation": "v",
         "showlegend": true,
         "type": "scatter",
         "x": [
          "2017-04-01",
          "2017-05-01",
          "2017-06-01"
         ],
         "xaxis": "x",
         "y": [
          1,
          1,
          1
         ],
         "yaxis": "y"
        },
        {
         "hovertemplate": "source=google.co.kr<br>month=%{x}<br>total_visits=%{y}<extra></extra>",
         "legendgroup": "google.co.kr",
         "line": {
          "color": "#00cc96",
          "dash": "solid",
          "shape": "spline"
         },
         "marker": {
          "symbol": "circle"
         },
         "mode": "markers+lines",
         "name": "google.co.kr",
         "orientation": "v",
         "showlegend": true,
         "type": "scatter",
         "x": [
          "2017-04-01"
         ],
         "xaxis": "x",
         "y": [
          1
         ],
         "yaxis": "y"
        },
        {
         "hovertemplate": "source=ps-dm.reddit.com<br>month=%{x}<br>total_visits=%{y}<extra></extra>",
         "legendgroup": "ps-dm.reddit.com",
         "line": {
          "color": "#ab63fa",
          "dash": "solid",
          "shape": "spline"
         },
         "marker": {
          "symbol": "circle"
         },
         "mode": "markers+lines",
         "name": "ps-dm.reddit.com",
         "orientation": "v",
         "showlegend": true,
         "type": "scatter",
         "x": [
          "2017-04-01"
         ],
         "xaxis": "x",
         "y": [
          1
         ],
         "yaxis": "y"
        },
        {
         "hovertemplate": "source=evernote.com<br>month=%{x}<br>total_visits=%{y}<extra></extra>",
         "legendgroup": "evernote.com",
         "line": {
          "color": "#FFA15A",
          "dash": "solid",
          "shape": "spline"
         },
         "marker": {
          "symbol": "circle"
         },
         "mode": "markers+lines",
         "name": "evernote.com",
         "orientation": "v",
         "showlegend": true,
         "type": "scatter",
         "x": [
          "2017-04-01",
          "2017-05-01"
         ],
         "xaxis": "x",
         "y": [
          1,
          1
         ],
         "yaxis": "y"
        },
        {
         "hovertemplate": "source=voice.google.com<br>month=%{x}<br>total_visits=%{y}<extra></extra>",
         "legendgroup": "voice.google.com",
         "line": {
          "color": "#19d3f3",
          "dash": "solid",
          "shape": "spline"
         },
         "marker": {
          "symbol": "circle"
         },
         "mode": "markers+lines",
         "name": "voice.google.com",
         "orientation": "v",
         "showlegend": true,
         "type": "scatter",
         "x": [
          "2017-04-01"
         ],
         "xaxis": "x",
         "y": [
          1
         ],
         "yaxis": "y"
        },
        {
         "hovertemplate": "source=desktop.google.com.ua<br>month=%{x}<br>total_visits=%{y}<extra></extra>",
         "legendgroup": "desktop.google.com.ua",
         "line": {
          "color": "#FF6692",
          "dash": "solid",
          "shape": "spline"
         },
         "marker": {
          "symbol": "circle"
         },
         "mode": "markers+lines",
         "name": "desktop.google.com.ua",
         "orientation": "v",
         "showlegend": true,
         "type": "scatter",
         "x": [
          "2017-04-01",
          "2017-05-01",
          "2017-06-01"
         ],
         "xaxis": "x",
         "y": [
          1,
          5,
          5
         ],
         "yaxis": "y"
        },
        {
         "hovertemplate": "source=espanol.search.yahoo.com<br>month=%{x}<br>total_visits=%{y}<extra></extra>",
         "legendgroup": "espanol.search.yahoo.com",
         "line": {
          "color": "#B6E880",
          "dash": "solid",
          "shape": "spline"
         },
         "marker": {
          "symbol": "circle"
         },
         "mode": "markers+lines",
         "name": "espanol.search.yahoo.com",
         "orientation": "v",
         "showlegend": true,
         "type": "scatter",
         "x": [
          "2017-04-01"
         ],
         "xaxis": "x",
         "y": [
          1
         ],
         "yaxis": "y"
        },
        {
         "hovertemplate": "source=en.wikipedia.org<br>month=%{x}<br>total_visits=%{y}<extra></extra>",
         "legendgroup": "en.wikipedia.org",
         "line": {
          "color": "#FF97FF",
          "dash": "solid",
          "shape": "spline"
         },
         "marker": {
          "symbol": "circle"
         },
         "mode": "markers+lines",
         "name": "en.wikipedia.org",
         "orientation": "v",
         "showlegend": true,
         "type": "scatter",
         "x": [
          "2017-05-01"
         ],
         "xaxis": "x",
         "y": [
          6
         ],
         "yaxis": "y"
        },
        {
         "hovertemplate": "source=search.myway.com<br>month=%{x}<br>total_visits=%{y}<extra></extra>",
         "legendgroup": "search.myway.com",
         "line": {
          "color": "#FECB52",
          "dash": "solid",
          "shape": "spline"
         },
         "marker": {
          "symbol": "circle"
         },
         "mode": "markers+lines",
         "name": "search.myway.com",
         "orientation": "v",
         "showlegend": true,
         "type": "scatter",
         "x": [
          "2017-05-01",
          "2017-06-01"
         ],
         "xaxis": "x",
         "y": [
          3,
          5
         ],
         "yaxis": "y"
        },
        {
         "hovertemplate": "source=kik.com<br>month=%{x}<br>total_visits=%{y}<extra></extra>",
         "legendgroup": "kik.com",
         "line": {
          "color": "#636efa",
          "dash": "solid",
          "shape": "spline"
         },
         "marker": {
          "symbol": "circle"
         },
         "mode": "markers+lines",
         "name": "kik.com",
         "orientation": "v",
         "showlegend": true,
         "type": "scatter",
         "x": [
          "2017-05-01",
          "2017-07-01"
         ],
         "xaxis": "x",
         "y": [
          3,
          1
         ],
         "yaxis": "y"
        },
        {
         "hovertemplate": "source=computerworld.com<br>month=%{x}<br>total_visits=%{y}<extra></extra>",
         "legendgroup": "computerworld.com",
         "line": {
          "color": "#EF553B",
          "dash": "solid",
          "shape": "spline"
         },
         "marker": {
          "symbol": "circle"
         },
         "mode": "markers+lines",
         "name": "computerworld.com",
         "orientation": "v",
         "showlegend": true,
         "type": "scatter",
         "x": [
          "2017-05-01"
         ],
         "xaxis": "x",
         "y": [
          1
         ],
         "yaxis": "y"
        },
        {
         "hovertemplate": "source=cc.csusm.edu<br>month=%{x}<br>total_visits=%{y}<extra></extra>",
         "legendgroup": "cc.csusm.edu",
         "line": {
          "color": "#00cc96",
          "dash": "solid",
          "shape": "spline"
         },
         "marker": {
          "symbol": "circle"
         },
         "mode": "markers+lines",
         "name": "cc.csusm.edu",
         "orientation": "v",
         "showlegend": true,
         "type": "scatter",
         "x": [
          "2017-05-01"
         ],
         "xaxis": "x",
         "y": [
          1
         ],
         "yaxis": "y"
        },
        {
         "hovertemplate": "source=getiriver.com<br>month=%{x}<br>total_visits=%{y}<extra></extra>",
         "legendgroup": "getiriver.com",
         "line": {
          "color": "#ab63fa",
          "dash": "solid",
          "shape": "spline"
         },
         "marker": {
          "symbol": "circle"
         },
         "mode": "markers+lines",
         "name": "getiriver.com",
         "orientation": "v",
         "showlegend": true,
         "type": "scatter",
         "x": [
          "2017-05-01",
          "2017-06-01"
         ],
         "xaxis": "x",
         "y": [
          1,
          1
         ],
         "yaxis": "y"
        },
        {
         "hovertemplate": "source=so.com<br>month=%{x}<br>total_visits=%{y}<extra></extra>",
         "legendgroup": "so.com",
         "line": {
          "color": "#FFA15A",
          "dash": "solid",
          "shape": "spline"
         },
         "marker": {
          "symbol": "circle"
         },
         "mode": "markers+lines",
         "name": "so.com",
         "orientation": "v",
         "showlegend": true,
         "type": "scatter",
         "x": [
          "2017-05-01"
         ],
         "xaxis": "x",
         "y": [
          1
         ],
         "yaxis": "y"
        },
        {
         "hovertemplate": "source=google.co.za<br>month=%{x}<br>total_visits=%{y}<extra></extra>",
         "legendgroup": "google.co.za",
         "line": {
          "color": "#19d3f3",
          "dash": "solid",
          "shape": "spline"
         },
         "marker": {
          "symbol": "circle"
         },
         "mode": "markers+lines",
         "name": "google.co.za",
         "orientation": "v",
         "showlegend": true,
         "type": "scatter",
         "x": [
          "2017-05-01"
         ],
         "xaxis": "x",
         "y": [
          1
         ],
         "yaxis": "y"
        },
        {
         "hovertemplate": "source=online.fullsail.edu<br>month=%{x}<br>total_visits=%{y}<extra></extra>",
         "legendgroup": "online.fullsail.edu",
         "line": {
          "color": "#FF6692",
          "dash": "solid",
          "shape": "spline"
         },
         "marker": {
          "symbol": "circle"
         },
         "mode": "markers+lines",
         "name": "online.fullsail.edu",
         "orientation": "v",
         "showlegend": true,
         "type": "scatter",
         "x": [
          "2017-05-01",
          "2017-06-01",
          "2017-07-01"
         ],
         "xaxis": "x",
         "y": [
          1,
          1,
          1
         ],
         "yaxis": "y"
        },
        {
         "hovertemplate": "source=google.cl<br>month=%{x}<br>total_visits=%{y}<extra></extra>",
         "legendgroup": "google.cl",
         "line": {
          "color": "#B6E880",
          "dash": "solid",
          "shape": "spline"
         },
         "marker": {
          "symbol": "circle"
         },
         "mode": "markers+lines",
         "name": "google.cl",
         "orientation": "v",
         "showlegend": true,
         "type": "scatter",
         "x": [
          "2017-05-01",
          "2017-07-01"
         ],
         "xaxis": "x",
         "y": [
          1,
          2
         ],
         "yaxis": "y"
        },
        {
         "hovertemplate": "source=malaysia.search.yahoo.com<br>month=%{x}<br>total_visits=%{y}<extra></extra>",
         "legendgroup": "malaysia.search.yahoo.com",
         "line": {
          "color": "#FF97FF",
          "dash": "solid",
          "shape": "spline"
         },
         "marker": {
          "symbol": "circle"
         },
         "mode": "markers+lines",
         "name": "malaysia.search.yahoo.com",
         "orientation": "v",
         "showlegend": true,
         "type": "scatter",
         "x": [
          "2017-06-01",
          "2017-07-01"
         ],
         "xaxis": "x",
         "y": [
          5,
          1
         ],
         "yaxis": "y"
        },
        {
         "hovertemplate": "source=google.com.ua<br>month=%{x}<br>total_visits=%{y}<extra></extra>",
         "legendgroup": "google.com.ua",
         "line": {
          "color": "#FECB52",
          "dash": "solid",
          "shape": "spline"
         },
         "marker": {
          "symbol": "circle"
         },
         "mode": "markers+lines",
         "name": "google.com.ua",
         "orientation": "v",
         "showlegend": true,
         "type": "scatter",
         "x": [
          "2017-06-01"
         ],
         "xaxis": "x",
         "y": [
          3
         ],
         "yaxis": "y"
        },
        {
         "hovertemplate": "source=nl.search.yahoo.com<br>month=%{x}<br>total_visits=%{y}<extra></extra>",
         "legendgroup": "nl.search.yahoo.com",
         "line": {
          "color": "#636efa",
          "dash": "solid",
          "shape": "spline"
         },
         "marker": {
          "symbol": "circle"
         },
         "mode": "markers+lines",
         "name": "nl.search.yahoo.com",
         "orientation": "v",
         "showlegend": true,
         "type": "scatter",
         "x": [
          "2017-06-01"
         ],
         "xaxis": "x",
         "y": [
          2
         ],
         "yaxis": "y"
        },
        {
         "hovertemplate": "source=admin.globalaccess.com<br>month=%{x}<br>total_visits=%{y}<extra></extra>",
         "legendgroup": "admin.globalaccess.com",
         "line": {
          "color": "#EF553B",
          "dash": "solid",
          "shape": "spline"
         },
         "marker": {
          "symbol": "circle"
         },
         "mode": "markers+lines",
         "name": "admin.globalaccess.com",
         "orientation": "v",
         "showlegend": true,
         "type": "scatter",
         "x": [
          "2017-06-01"
         ],
         "xaxis": "x",
         "y": [
          2
         ],
         "yaxis": "y"
        },
        {
         "hovertemplate": "source=staging.talkgadget.google.com<br>month=%{x}<br>total_visits=%{y}<extra></extra>",
         "legendgroup": "staging.talkgadget.google.com",
         "line": {
          "color": "#00cc96",
          "dash": "solid",
          "shape": "spline"
         },
         "marker": {
          "symbol": "circle"
         },
         "mode": "markers+lines",
         "name": "staging.talkgadget.google.com",
         "orientation": "v",
         "showlegend": true,
         "type": "scatter",
         "x": [
          "2017-06-01"
         ],
         "xaxis": "x",
         "y": [
          2
         ],
         "yaxis": "y"
        },
        {
         "hovertemplate": "source=meetup.com<br>month=%{x}<br>total_visits=%{y}<extra></extra>",
         "legendgroup": "meetup.com",
         "line": {
          "color": "#ab63fa",
          "dash": "solid",
          "shape": "spline"
         },
         "marker": {
          "symbol": "circle"
         },
         "mode": "markers+lines",
         "name": "meetup.com",
         "orientation": "v",
         "showlegend": true,
         "type": "scatter",
         "x": [
          "2017-06-01"
         ],
         "xaxis": "x",
         "y": [
          1
         ],
         "yaxis": "y"
        },
        {
         "hovertemplate": "source=mail.aol.com<br>month=%{x}<br>total_visits=%{y}<extra></extra>",
         "legendgroup": "mail.aol.com",
         "line": {
          "color": "#FFA15A",
          "dash": "solid",
          "shape": "spline"
         },
         "marker": {
          "symbol": "circle"
         },
         "mode": "markers+lines",
         "name": "mail.aol.com",
         "orientation": "v",
         "showlegend": true,
         "type": "scatter",
         "x": [
          "2017-06-01"
         ],
         "xaxis": "x",
         "y": [
          1
         ],
         "yaxis": "y"
        },
        {
         "hovertemplate": "source=m.yz.sm.cn<br>month=%{x}<br>total_visits=%{y}<extra></extra>",
         "legendgroup": "m.yz.sm.cn",
         "line": {
          "color": "#19d3f3",
          "dash": "solid",
          "shape": "spline"
         },
         "marker": {
          "symbol": "circle"
         },
         "mode": "markers+lines",
         "name": "m.yz.sm.cn",
         "orientation": "v",
         "showlegend": true,
         "type": "scatter",
         "x": [
          "2017-06-01",
          "2017-07-01"
         ],
         "xaxis": "x",
         "y": [
          1,
          7
         ],
         "yaxis": "y"
        },
        {
         "hovertemplate": "source=int.search.mywebsearch.com<br>month=%{x}<br>total_visits=%{y}<extra></extra>",
         "legendgroup": "int.search.mywebsearch.com",
         "line": {
          "color": "#FF6692",
          "dash": "solid",
          "shape": "spline"
         },
         "marker": {
          "symbol": "circle"
         },
         "mode": "markers+lines",
         "name": "int.search.mywebsearch.com",
         "orientation": "v",
         "showlegend": true,
         "type": "scatter",
         "x": [
          "2017-06-01"
         ],
         "xaxis": "x",
         "y": [
          1
         ],
         "yaxis": "y"
        },
        {
         "hovertemplate": "source=gsuite.google.com<br>month=%{x}<br>total_visits=%{y}<extra></extra>",
         "legendgroup": "gsuite.google.com",
         "line": {
          "color": "#B6E880",
          "dash": "solid",
          "shape": "spline"
         },
         "marker": {
          "symbol": "circle"
         },
         "mode": "markers+lines",
         "name": "gsuite.google.com",
         "orientation": "v",
         "showlegend": true,
         "type": "scatter",
         "x": [
          "2017-06-01"
         ],
         "xaxis": "x",
         "y": [
          1
         ],
         "yaxis": "y"
        },
        {
         "hovertemplate": "source=centrum.cz<br>month=%{x}<br>total_visits=%{y}<extra></extra>",
         "legendgroup": "centrum.cz",
         "line": {
          "color": "#FF97FF",
          "dash": "solid",
          "shape": "spline"
         },
         "marker": {
          "symbol": "circle"
         },
         "mode": "markers+lines",
         "name": "centrum.cz",
         "orientation": "v",
         "showlegend": true,
         "type": "scatter",
         "x": [
          "2017-06-01",
          "2017-07-01"
         ],
         "xaxis": "x",
         "y": [
          1,
          2
         ],
         "yaxis": "y"
        },
        {
         "hovertemplate": "source=google.com.pe<br>month=%{x}<br>total_visits=%{y}<extra></extra>",
         "legendgroup": "google.com.pe",
         "line": {
          "color": "#FECB52",
          "dash": "solid",
          "shape": "spline"
         },
         "marker": {
          "symbol": "circle"
         },
         "mode": "markers+lines",
         "name": "google.com.pe",
         "orientation": "v",
         "showlegend": true,
         "type": "scatter",
         "x": [
          "2017-06-01"
         ],
         "xaxis": "x",
         "y": [
          1
         ],
         "yaxis": "y"
        },
        {
         "hovertemplate": "source=wap.sogou.com<br>month=%{x}<br>total_visits=%{y}<extra></extra>",
         "legendgroup": "wap.sogou.com",
         "line": {
          "color": "#636efa",
          "dash": "solid",
          "shape": "spline"
         },
         "marker": {
          "symbol": "circle"
         },
         "mode": "markers+lines",
         "name": "wap.sogou.com",
         "orientation": "v",
         "showlegend": true,
         "type": "scatter",
         "x": [
          "2017-07-01"
         ],
         "xaxis": "x",
         "y": [
          2
         ],
         "yaxis": "y"
        },
        {
         "hovertemplate": "source=m.sp.sm.cn<br>month=%{x}<br>total_visits=%{y}<extra></extra>",
         "legendgroup": "m.sp.sm.cn",
         "line": {
          "color": "#EF553B",
          "dash": "solid",
          "shape": "spline"
         },
         "marker": {
          "symbol": "circle"
         },
         "mode": "markers+lines",
         "name": "m.sp.sm.cn",
         "orientation": "v",
         "showlegend": true,
         "type": "scatter",
         "x": [
          "2017-07-01"
         ],
         "xaxis": "x",
         "y": [
          2
         ],
         "yaxis": "y"
        },
        {
         "hovertemplate": "source=moodle.aurora.edu<br>month=%{x}<br>total_visits=%{y}<extra></extra>",
         "legendgroup": "moodle.aurora.edu",
         "line": {
          "color": "#00cc96",
          "dash": "solid",
          "shape": "spline"
         },
         "marker": {
          "symbol": "circle"
         },
         "mode": "markers+lines",
         "name": "moodle.aurora.edu",
         "orientation": "v",
         "showlegend": true,
         "type": "scatter",
         "x": [
          "2017-07-01"
         ],
         "xaxis": "x",
         "y": [
          2
         ],
         "yaxis": "y"
        },
        {
         "hovertemplate": "source=amp.reddit.com<br>month=%{x}<br>total_visits=%{y}<extra></extra>",
         "legendgroup": "amp.reddit.com",
         "line": {
          "color": "#ab63fa",
          "dash": "solid",
          "shape": "spline"
         },
         "marker": {
          "symbol": "circle"
         },
         "mode": "markers+lines",
         "name": "amp.reddit.com",
         "orientation": "v",
         "showlegend": true,
         "type": "scatter",
         "x": [
          "2017-07-01"
         ],
         "xaxis": "x",
         "y": [
          2
         ],
         "yaxis": "y"
        },
        {
         "hovertemplate": "source=calendar.google.com<br>month=%{x}<br>total_visits=%{y}<extra></extra>",
         "legendgroup": "calendar.google.com",
         "line": {
          "color": "#FFA15A",
          "dash": "solid",
          "shape": "spline"
         },
         "marker": {
          "symbol": "circle"
         },
         "mode": "markers+lines",
         "name": "calendar.google.com",
         "orientation": "v",
         "showlegend": true,
         "type": "scatter",
         "x": [
          "2017-07-01"
         ],
         "xaxis": "x",
         "y": [
          2
         ],
         "yaxis": "y"
        },
        {
         "hovertemplate": "source=google.bg<br>month=%{x}<br>total_visits=%{y}<extra></extra>",
         "legendgroup": "google.bg",
         "line": {
          "color": "#19d3f3",
          "dash": "solid",
          "shape": "spline"
         },
         "marker": {
          "symbol": "circle"
         },
         "mode": "markers+lines",
         "name": "google.bg",
         "orientation": "v",
         "showlegend": true,
         "type": "scatter",
         "x": [
          "2017-07-01"
         ],
         "xaxis": "x",
         "y": [
          1
         ],
         "yaxis": "y"
        },
        {
         "hovertemplate": "source=it.pinterest.com<br>month=%{x}<br>total_visits=%{y}<extra></extra>",
         "legendgroup": "it.pinterest.com",
         "line": {
          "color": "#FF6692",
          "dash": "solid",
          "shape": "spline"
         },
         "marker": {
          "symbol": "circle"
         },
         "mode": "markers+lines",
         "name": "it.pinterest.com",
         "orientation": "v",
         "showlegend": true,
         "type": "scatter",
         "x": [
          "2017-07-01"
         ],
         "xaxis": "x",
         "y": [
          1
         ],
         "yaxis": "y"
        },
        {
         "hovertemplate": "source=mx.search.yahoo.com<br>month=%{x}<br>total_visits=%{y}<extra></extra>",
         "legendgroup": "mx.search.yahoo.com",
         "line": {
          "color": "#B6E880",
          "dash": "solid",
          "shape": "spline"
         },
         "marker": {
          "symbol": "circle"
         },
         "mode": "markers+lines",
         "name": "mx.search.yahoo.com",
         "orientation": "v",
         "showlegend": true,
         "type": "scatter",
         "x": [
          "2017-07-01"
         ],
         "xaxis": "x",
         "y": [
          1
         ],
         "yaxis": "y"
        },
        {
         "hovertemplate": "source=images.google.com.au<br>month=%{x}<br>total_visits=%{y}<extra></extra>",
         "legendgroup": "images.google.com.au",
         "line": {
          "color": "#FF97FF",
          "dash": "solid",
          "shape": "spline"
         },
         "marker": {
          "symbol": "circle"
         },
         "mode": "markers+lines",
         "name": "images.google.com.au",
         "orientation": "v",
         "showlegend": true,
         "type": "scatter",
         "x": [
          "2017-07-01"
         ],
         "xaxis": "x",
         "y": [
          1
         ],
         "yaxis": "y"
        },
        {
         "hovertemplate": "source=earth.google.com<br>month=%{x}<br>total_visits=%{y}<extra></extra>",
         "legendgroup": "earth.google.com",
         "line": {
          "color": "#FECB52",
          "dash": "solid",
          "shape": "spline"
         },
         "marker": {
          "symbol": "circle"
         },
         "mode": "markers+lines",
         "name": "earth.google.com",
         "orientation": "v",
         "showlegend": true,
         "type": "scatter",
         "x": [
          "2017-07-01"
         ],
         "xaxis": "x",
         "y": [
          1
         ],
         "yaxis": "y"
        },
        {
         "hovertemplate": "source=news.ycombinator.com<br>month=%{x}<br>total_visits=%{y}<extra></extra>",
         "legendgroup": "news.ycombinator.com",
         "line": {
          "color": "#636efa",
          "dash": "solid",
          "shape": "spline"
         },
         "marker": {
          "symbol": "circle"
         },
         "mode": "markers+lines",
         "name": "news.ycombinator.com",
         "orientation": "v",
         "showlegend": true,
         "type": "scatter",
         "x": [
          "2017-07-01"
         ],
         "xaxis": "x",
         "y": [
          1
         ],
         "yaxis": "y"
        },
        {
         "hovertemplate": "source=arstechnica.com<br>month=%{x}<br>total_visits=%{y}<extra></extra>",
         "legendgroup": "arstechnica.com",
         "line": {
          "color": "#EF553B",
          "dash": "solid",
          "shape": "spline"
         },
         "marker": {
          "symbol": "circle"
         },
         "mode": "markers+lines",
         "name": "arstechnica.com",
         "orientation": "v",
         "showlegend": true,
         "type": "scatter",
         "x": [
          "2017-07-01"
         ],
         "xaxis": "x",
         "y": [
          1
         ],
         "yaxis": "y"
        },
        {
         "hovertemplate": "source=newclasses.nyu.edu<br>month=%{x}<br>total_visits=%{y}<extra></extra>",
         "legendgroup": "newclasses.nyu.edu",
         "line": {
          "color": "#00cc96",
          "dash": "solid",
          "shape": "spline"
         },
         "marker": {
          "symbol": "circle"
         },
         "mode": "markers+lines",
         "name": "newclasses.nyu.edu",
         "orientation": "v",
         "showlegend": true,
         "type": "scatter",
         "x": [
          "2017-07-01"
         ],
         "xaxis": "x",
         "y": [
          1
         ],
         "yaxis": "y"
        }
       ],
       "layout": {
        "legend": {
         "title": {
          "text": "Source"
         },
         "tracegroupgap": 0
        },
        "template": {
         "data": {
          "bar": [
           {
            "error_x": {
             "color": "#2a3f5f"
            },
            "error_y": {
             "color": "#2a3f5f"
            },
            "marker": {
             "line": {
              "color": "#E5ECF6",
              "width": 0.5
             },
             "pattern": {
              "fillmode": "overlay",
              "size": 10,
              "solidity": 0.2
             }
            },
            "type": "bar"
           }
          ],
          "barpolar": [
           {
            "marker": {
             "line": {
              "color": "#E5ECF6",
              "width": 0.5
             },
             "pattern": {
              "fillmode": "overlay",
              "size": 10,
              "solidity": 0.2
             }
            },
            "type": "barpolar"
           }
          ],
          "carpet": [
           {
            "aaxis": {
             "endlinecolor": "#2a3f5f",
             "gridcolor": "white",
             "linecolor": "white",
             "minorgridcolor": "white",
             "startlinecolor": "#2a3f5f"
            },
            "baxis": {
             "endlinecolor": "#2a3f5f",
             "gridcolor": "white",
             "linecolor": "white",
             "minorgridcolor": "white",
             "startlinecolor": "#2a3f5f"
            },
            "type": "carpet"
           }
          ],
          "choropleth": [
           {
            "colorbar": {
             "outlinewidth": 0,
             "ticks": ""
            },
            "type": "choropleth"
           }
          ],
          "contour": [
           {
            "colorbar": {
             "outlinewidth": 0,
             "ticks": ""
            },
            "colorscale": [
             [
              0,
              "#0d0887"
             ],
             [
              0.1111111111111111,
              "#46039f"
             ],
             [
              0.2222222222222222,
              "#7201a8"
             ],
             [
              0.3333333333333333,
              "#9c179e"
             ],
             [
              0.4444444444444444,
              "#bd3786"
             ],
             [
              0.5555555555555556,
              "#d8576b"
             ],
             [
              0.6666666666666666,
              "#ed7953"
             ],
             [
              0.7777777777777778,
              "#fb9f3a"
             ],
             [
              0.8888888888888888,
              "#fdca26"
             ],
             [
              1,
              "#f0f921"
             ]
            ],
            "type": "contour"
           }
          ],
          "contourcarpet": [
           {
            "colorbar": {
             "outlinewidth": 0,
             "ticks": ""
            },
            "type": "contourcarpet"
           }
          ],
          "heatmap": [
           {
            "colorbar": {
             "outlinewidth": 0,
             "ticks": ""
            },
            "colorscale": [
             [
              0,
              "#0d0887"
             ],
             [
              0.1111111111111111,
              "#46039f"
             ],
             [
              0.2222222222222222,
              "#7201a8"
             ],
             [
              0.3333333333333333,
              "#9c179e"
             ],
             [
              0.4444444444444444,
              "#bd3786"
             ],
             [
              0.5555555555555556,
              "#d8576b"
             ],
             [
              0.6666666666666666,
              "#ed7953"
             ],
             [
              0.7777777777777778,
              "#fb9f3a"
             ],
             [
              0.8888888888888888,
              "#fdca26"
             ],
             [
              1,
              "#f0f921"
             ]
            ],
            "type": "heatmap"
           }
          ],
          "heatmapgl": [
           {
            "colorbar": {
             "outlinewidth": 0,
             "ticks": ""
            },
            "colorscale": [
             [
              0,
              "#0d0887"
             ],
             [
              0.1111111111111111,
              "#46039f"
             ],
             [
              0.2222222222222222,
              "#7201a8"
             ],
             [
              0.3333333333333333,
              "#9c179e"
             ],
             [
              0.4444444444444444,
              "#bd3786"
             ],
             [
              0.5555555555555556,
              "#d8576b"
             ],
             [
              0.6666666666666666,
              "#ed7953"
             ],
             [
              0.7777777777777778,
              "#fb9f3a"
             ],
             [
              0.8888888888888888,
              "#fdca26"
             ],
             [
              1,
              "#f0f921"
             ]
            ],
            "type": "heatmapgl"
           }
          ],
          "histogram": [
           {
            "marker": {
             "pattern": {
              "fillmode": "overlay",
              "size": 10,
              "solidity": 0.2
             }
            },
            "type": "histogram"
           }
          ],
          "histogram2d": [
           {
            "colorbar": {
             "outlinewidth": 0,
             "ticks": ""
            },
            "colorscale": [
             [
              0,
              "#0d0887"
             ],
             [
              0.1111111111111111,
              "#46039f"
             ],
             [
              0.2222222222222222,
              "#7201a8"
             ],
             [
              0.3333333333333333,
              "#9c179e"
             ],
             [
              0.4444444444444444,
              "#bd3786"
             ],
             [
              0.5555555555555556,
              "#d8576b"
             ],
             [
              0.6666666666666666,
              "#ed7953"
             ],
             [
              0.7777777777777778,
              "#fb9f3a"
             ],
             [
              0.8888888888888888,
              "#fdca26"
             ],
             [
              1,
              "#f0f921"
             ]
            ],
            "type": "histogram2d"
           }
          ],
          "histogram2dcontour": [
           {
            "colorbar": {
             "outlinewidth": 0,
             "ticks": ""
            },
            "colorscale": [
             [
              0,
              "#0d0887"
             ],
             [
              0.1111111111111111,
              "#46039f"
             ],
             [
              0.2222222222222222,
              "#7201a8"
             ],
             [
              0.3333333333333333,
              "#9c179e"
             ],
             [
              0.4444444444444444,
              "#bd3786"
             ],
             [
              0.5555555555555556,
              "#d8576b"
             ],
             [
              0.6666666666666666,
              "#ed7953"
             ],
             [
              0.7777777777777778,
              "#fb9f3a"
             ],
             [
              0.8888888888888888,
              "#fdca26"
             ],
             [
              1,
              "#f0f921"
             ]
            ],
            "type": "histogram2dcontour"
           }
          ],
          "mesh3d": [
           {
            "colorbar": {
             "outlinewidth": 0,
             "ticks": ""
            },
            "type": "mesh3d"
           }
          ],
          "parcoords": [
           {
            "line": {
             "colorbar": {
              "outlinewidth": 0,
              "ticks": ""
             }
            },
            "type": "parcoords"
           }
          ],
          "pie": [
           {
            "automargin": true,
            "type": "pie"
           }
          ],
          "scatter": [
           {
            "fillpattern": {
             "fillmode": "overlay",
             "size": 10,
             "solidity": 0.2
            },
            "type": "scatter"
           }
          ],
          "scatter3d": [
           {
            "line": {
             "colorbar": {
              "outlinewidth": 0,
              "ticks": ""
             }
            },
            "marker": {
             "colorbar": {
              "outlinewidth": 0,
              "ticks": ""
             }
            },
            "type": "scatter3d"
           }
          ],
          "scattercarpet": [
           {
            "marker": {
             "colorbar": {
              "outlinewidth": 0,
              "ticks": ""
             }
            },
            "type": "scattercarpet"
           }
          ],
          "scattergeo": [
           {
            "marker": {
             "colorbar": {
              "outlinewidth": 0,
              "ticks": ""
             }
            },
            "type": "scattergeo"
           }
          ],
          "scattergl": [
           {
            "marker": {
             "colorbar": {
              "outlinewidth": 0,
              "ticks": ""
             }
            },
            "type": "scattergl"
           }
          ],
          "scattermapbox": [
           {
            "marker": {
             "colorbar": {
              "outlinewidth": 0,
              "ticks": ""
             }
            },
            "type": "scattermapbox"
           }
          ],
          "scatterpolar": [
           {
            "marker": {
             "colorbar": {
              "outlinewidth": 0,
              "ticks": ""
             }
            },
            "type": "scatterpolar"
           }
          ],
          "scatterpolargl": [
           {
            "marker": {
             "colorbar": {
              "outlinewidth": 0,
              "ticks": ""
             }
            },
            "type": "scatterpolargl"
           }
          ],
          "scatterternary": [
           {
            "marker": {
             "colorbar": {
              "outlinewidth": 0,
              "ticks": ""
             }
            },
            "type": "scatterternary"
           }
          ],
          "surface": [
           {
            "colorbar": {
             "outlinewidth": 0,
             "ticks": ""
            },
            "colorscale": [
             [
              0,
              "#0d0887"
             ],
             [
              0.1111111111111111,
              "#46039f"
             ],
             [
              0.2222222222222222,
              "#7201a8"
             ],
             [
              0.3333333333333333,
              "#9c179e"
             ],
             [
              0.4444444444444444,
              "#bd3786"
             ],
             [
              0.5555555555555556,
              "#d8576b"
             ],
             [
              0.6666666666666666,
              "#ed7953"
             ],
             [
              0.7777777777777778,
              "#fb9f3a"
             ],
             [
              0.8888888888888888,
              "#fdca26"
             ],
             [
              1,
              "#f0f921"
             ]
            ],
            "type": "surface"
           }
          ],
          "table": [
           {
            "cells": {
             "fill": {
              "color": "#EBF0F8"
             },
             "line": {
              "color": "white"
             }
            },
            "header": {
             "fill": {
              "color": "#C8D4E3"
             },
             "line": {
              "color": "white"
             }
            },
            "type": "table"
           }
          ]
         },
         "layout": {
          "annotationdefaults": {
           "arrowcolor": "#2a3f5f",
           "arrowhead": 0,
           "arrowwidth": 1
          },
          "autotypenumbers": "strict",
          "coloraxis": {
           "colorbar": {
            "outlinewidth": 0,
            "ticks": ""
           }
          },
          "colorscale": {
           "diverging": [
            [
             0,
             "#8e0152"
            ],
            [
             0.1,
             "#c51b7d"
            ],
            [
             0.2,
             "#de77ae"
            ],
            [
             0.3,
             "#f1b6da"
            ],
            [
             0.4,
             "#fde0ef"
            ],
            [
             0.5,
             "#f7f7f7"
            ],
            [
             0.6,
             "#e6f5d0"
            ],
            [
             0.7,
             "#b8e186"
            ],
            [
             0.8,
             "#7fbc41"
            ],
            [
             0.9,
             "#4d9221"
            ],
            [
             1,
             "#276419"
            ]
           ],
           "sequential": [
            [
             0,
             "#0d0887"
            ],
            [
             0.1111111111111111,
             "#46039f"
            ],
            [
             0.2222222222222222,
             "#7201a8"
            ],
            [
             0.3333333333333333,
             "#9c179e"
            ],
            [
             0.4444444444444444,
             "#bd3786"
            ],
            [
             0.5555555555555556,
             "#d8576b"
            ],
            [
             0.6666666666666666,
             "#ed7953"
            ],
            [
             0.7777777777777778,
             "#fb9f3a"
            ],
            [
             0.8888888888888888,
             "#fdca26"
            ],
            [
             1,
             "#f0f921"
            ]
           ],
           "sequentialminus": [
            [
             0,
             "#0d0887"
            ],
            [
             0.1111111111111111,
             "#46039f"
            ],
            [
             0.2222222222222222,
             "#7201a8"
            ],
            [
             0.3333333333333333,
             "#9c179e"
            ],
            [
             0.4444444444444444,
             "#bd3786"
            ],
            [
             0.5555555555555556,
             "#d8576b"
            ],
            [
             0.6666666666666666,
             "#ed7953"
            ],
            [
             0.7777777777777778,
             "#fb9f3a"
            ],
            [
             0.8888888888888888,
             "#fdca26"
            ],
            [
             1,
             "#f0f921"
            ]
           ]
          },
          "colorway": [
           "#636efa",
           "#EF553B",
           "#00cc96",
           "#ab63fa",
           "#FFA15A",
           "#19d3f3",
           "#FF6692",
           "#B6E880",
           "#FF97FF",
           "#FECB52"
          ],
          "font": {
           "color": "#2a3f5f"
          },
          "geo": {
           "bgcolor": "white",
           "lakecolor": "white",
           "landcolor": "#E5ECF6",
           "showlakes": true,
           "showland": true,
           "subunitcolor": "white"
          },
          "hoverlabel": {
           "align": "left"
          },
          "hovermode": "closest",
          "mapbox": {
           "style": "light"
          },
          "paper_bgcolor": "white",
          "plot_bgcolor": "#E5ECF6",
          "polar": {
           "angularaxis": {
            "gridcolor": "white",
            "linecolor": "white",
            "ticks": ""
           },
           "bgcolor": "#E5ECF6",
           "radialaxis": {
            "gridcolor": "white",
            "linecolor": "white",
            "ticks": ""
           }
          },
          "scene": {
           "xaxis": {
            "backgroundcolor": "#E5ECF6",
            "gridcolor": "white",
            "gridwidth": 2,
            "linecolor": "white",
            "showbackground": true,
            "ticks": "",
            "zerolinecolor": "white"
           },
           "yaxis": {
            "backgroundcolor": "#E5ECF6",
            "gridcolor": "white",
            "gridwidth": 2,
            "linecolor": "white",
            "showbackground": true,
            "ticks": "",
            "zerolinecolor": "white"
           },
           "zaxis": {
            "backgroundcolor": "#E5ECF6",
            "gridcolor": "white",
            "gridwidth": 2,
            "linecolor": "white",
            "showbackground": true,
            "ticks": "",
            "zerolinecolor": "white"
           }
          },
          "shapedefaults": {
           "line": {
            "color": "#2a3f5f"
           }
          },
          "ternary": {
           "aaxis": {
            "gridcolor": "white",
            "linecolor": "white",
            "ticks": ""
           },
           "baxis": {
            "gridcolor": "white",
            "linecolor": "white",
            "ticks": ""
           },
           "bgcolor": "#E5ECF6",
           "caxis": {
            "gridcolor": "white",
            "linecolor": "white",
            "ticks": ""
           }
          },
          "title": {
           "x": 0.05
          },
          "xaxis": {
           "automargin": true,
           "gridcolor": "white",
           "linecolor": "white",
           "ticks": "",
           "title": {
            "standoff": 15
           },
           "zerolinecolor": "white",
           "zerolinewidth": 2
          },
          "yaxis": {
           "automargin": true,
           "gridcolor": "white",
           "linecolor": "white",
           "ticks": "",
           "title": {
            "standoff": 15
           },
           "zerolinecolor": "white",
           "zerolinewidth": 2
          }
         }
        },
        "title": {
         "text": "Monthly Traffic Volume by Source"
        },
        "xaxis": {
         "anchor": "y",
         "domain": [
          0,
          1
         ],
         "title": {
          "text": "Month"
         }
        },
        "yaxis": {
         "anchor": "x",
         "domain": [
          0,
          1
         ],
         "title": {
          "text": "Total Visits"
         }
        }
       }
      },
      "text/html": [
       "<div>                            <div id=\"caa7781c-4594-40bf-a984-bbf84902756e\" class=\"plotly-graph-div\" style=\"height:525px; width:100%;\"></div>            <script type=\"text/javascript\">                require([\"plotly\"], function(Plotly) {                    window.PLOTLYENV=window.PLOTLYENV || {};                                    if (document.getElementById(\"caa7781c-4594-40bf-a984-bbf84902756e\")) {                    Plotly.newPlot(                        \"caa7781c-4594-40bf-a984-bbf84902756e\",                        [{\"hovertemplate\":\"source=(direct)<br>month=%{x}<br>total_visits=%{y}<extra></extra>\",\"legendgroup\":\"(direct)\",\"line\":{\"color\":\"#636efa\",\"dash\":\"solid\",\"shape\":\"spline\"},\"marker\":{\"symbol\":\"circle\"},\"mode\":\"markers+lines\",\"name\":\"(direct)\",\"orientation\":\"v\",\"showlegend\":true,\"x\":[\"2017-01-01\",\"2017-02-01\",\"2017-03-01\",\"2017-04-01\",\"2017-05-01\",\"2017-06-01\",\"2017-07-01\"],\"xaxis\":\"x\",\"y\":[46795,26549,15724,19377,21454,37491,19891],\"yaxis\":\"y\",\"type\":\"scatter\"},{\"hovertemplate\":\"source=youtube.com<br>month=%{x}<br>total_visits=%{y}<extra></extra>\",\"legendgroup\":\"youtube.com\",\"line\":{\"color\":\"#EF553B\",\"dash\":\"solid\",\"shape\":\"spline\"},\"marker\":{\"symbol\":\"circle\"},\"mode\":\"markers+lines\",\"name\":\"youtube.com\",\"orientation\":\"v\",\"showlegend\":true,\"x\":[\"2017-01-01\",\"2017-02-01\",\"2017-03-01\",\"2017-04-01\",\"2017-05-01\",\"2017-06-01\",\"2017-07-01\"],\"xaxis\":\"x\",\"y\":[9709,9422,11970,9330,1591,1838,6351],\"yaxis\":\"y\",\"type\":\"scatter\"},{\"hovertemplate\":\"source=google<br>month=%{x}<br>total_visits=%{y}<extra></extra>\",\"legendgroup\":\"google\",\"line\":{\"color\":\"#00cc96\",\"dash\":\"solid\",\"shape\":\"spline\"},\"marker\":{\"symbol\":\"circle\"},\"mode\":\"markers+lines\",\"name\":\"google\",\"orientation\":\"v\",\"showlegend\":true,\"x\":[\"2017-01-01\",\"2017-02-01\",\"2017-03-01\",\"2017-04-01\",\"2017-05-01\",\"2017-06-01\",\"2017-07-01\"],\"xaxis\":\"x\",\"y\":[2672,19899,35520,30625,34730,17958,38400],\"yaxis\":\"y\",\"type\":\"scatter\"},{\"hovertemplate\":\"source=Partners<br>month=%{x}<br>total_visits=%{y}<extra></extra>\",\"legendgroup\":\"Partners\",\"line\":{\"color\":\"#ab63fa\",\"dash\":\"solid\",\"shape\":\"spline\"},\"marker\":{\"symbol\":\"circle\"},\"mode\":\"markers+lines\",\"name\":\"Partners\",\"orientation\":\"v\",\"showlegend\":true,\"x\":[\"2017-01-01\",\"2017-02-01\",\"2017-03-01\",\"2017-04-01\",\"2017-05-01\",\"2017-06-01\",\"2017-07-01\"],\"xaxis\":\"x\",\"y\":[1248,1214,1469,1367,1317,1313,1788],\"yaxis\":\"y\",\"type\":\"scatter\"},{\"hovertemplate\":\"source=analytics.google.com<br>month=%{x}<br>total_visits=%{y}<extra></extra>\",\"legendgroup\":\"analytics.google.com\",\"line\":{\"color\":\"#FFA15A\",\"dash\":\"solid\",\"shape\":\"spline\"},\"marker\":{\"symbol\":\"circle\"},\"mode\":\"markers+lines\",\"name\":\"analytics.google.com\",\"orientation\":\"v\",\"showlegend\":true,\"x\":[\"2017-01-01\",\"2017-02-01\",\"2017-03-01\",\"2017-04-01\",\"2017-05-01\",\"2017-06-01\",\"2017-07-01\"],\"xaxis\":\"x\",\"y\":[920,1228,1503,1614,1871,1751,1972],\"yaxis\":\"y\",\"type\":\"scatter\"},{\"hovertemplate\":\"source=dfa<br>month=%{x}<br>total_visits=%{y}<extra></extra>\",\"legendgroup\":\"dfa\",\"line\":{\"color\":\"#19d3f3\",\"dash\":\"solid\",\"shape\":\"spline\"},\"marker\":{\"symbol\":\"circle\"},\"mode\":\"markers+lines\",\"name\":\"dfa\",\"orientation\":\"v\",\"showlegend\":true,\"x\":[\"2017-01-01\",\"2017-02-01\",\"2017-03-01\",\"2017-04-01\",\"2017-05-01\",\"2017-06-01\",\"2017-07-01\"],\"xaxis\":\"x\",\"y\":[660,526,411,209,366,239,302],\"yaxis\":\"y\",\"type\":\"scatter\"},{\"hovertemplate\":\"source=google.com<br>month=%{x}<br>total_visits=%{y}<extra></extra>\",\"legendgroup\":\"google.com\",\"line\":{\"color\":\"#FF6692\",\"dash\":\"solid\",\"shape\":\"spline\"},\"marker\":{\"symbol\":\"circle\"},\"mode\":\"markers+lines\",\"name\":\"google.com\",\"orientation\":\"v\",\"showlegend\":true,\"x\":[\"2017-01-01\",\"2017-02-01\",\"2017-03-01\",\"2017-04-01\",\"2017-05-01\",\"2017-06-01\",\"2017-07-01\"],\"xaxis\":\"x\",\"y\":[380,439,514,410,393,396,368],\"yaxis\":\"y\",\"type\":\"scatter\"},{\"hovertemplate\":\"source=sites.google.com<br>month=%{x}<br>total_visits=%{y}<extra></extra>\",\"legendgroup\":\"sites.google.com\",\"line\":{\"color\":\"#B6E880\",\"dash\":\"solid\",\"shape\":\"spline\"},\"marker\":{\"symbol\":\"circle\"},\"mode\":\"markers+lines\",\"name\":\"sites.google.com\",\"orientation\":\"v\",\"showlegend\":true,\"x\":[\"2017-01-01\",\"2017-02-01\",\"2017-03-01\",\"2017-04-01\",\"2017-05-01\",\"2017-06-01\",\"2017-07-01\"],\"xaxis\":\"x\",\"y\":[353,129,164,134,196,226,230],\"yaxis\":\"y\",\"type\":\"scatter\"},{\"hovertemplate\":\"source=quora.com<br>month=%{x}<br>total_visits=%{y}<extra></extra>\",\"legendgroup\":\"quora.com\",\"line\":{\"color\":\"#FF97FF\",\"dash\":\"solid\",\"shape\":\"spline\"},\"marker\":{\"symbol\":\"circle\"},\"mode\":\"markers+lines\",\"name\":\"quora.com\",\"orientation\":\"v\",\"showlegend\":true,\"x\":[\"2017-01-01\",\"2017-02-01\",\"2017-03-01\",\"2017-04-01\",\"2017-05-01\",\"2017-06-01\",\"2017-07-01\"],\"xaxis\":\"x\",\"y\":[242,114,140,148,138,153,140],\"yaxis\":\"y\",\"type\":\"scatter\"},{\"hovertemplate\":\"source=siliconvalley.about.com<br>month=%{x}<br>total_visits=%{y}<extra></extra>\",\"legendgroup\":\"siliconvalley.about.com\",\"line\":{\"color\":\"#FECB52\",\"dash\":\"solid\",\"shape\":\"spline\"},\"marker\":{\"symbol\":\"circle\"},\"mode\":\"markers+lines\",\"name\":\"siliconvalley.about.com\",\"orientation\":\"v\",\"showlegend\":true,\"x\":[\"2017-01-01\",\"2017-02-01\",\"2017-03-01\",\"2017-04-01\",\"2017-05-01\",\"2017-06-01\",\"2017-07-01\"],\"xaxis\":\"x\",\"y\":[192,176,187,203,99,2,3],\"yaxis\":\"y\",\"type\":\"scatter\"},{\"hovertemplate\":\"source=baidu<br>month=%{x}<br>total_visits=%{y}<extra></extra>\",\"legendgroup\":\"baidu\",\"line\":{\"color\":\"#636efa\",\"dash\":\"solid\",\"shape\":\"spline\"},\"marker\":{\"symbol\":\"circle\"},\"mode\":\"markers+lines\",\"name\":\"baidu\",\"orientation\":\"v\",\"showlegend\":true,\"x\":[\"2017-01-01\",\"2017-02-01\",\"2017-03-01\",\"2017-04-01\",\"2017-05-01\",\"2017-06-01\",\"2017-07-01\"],\"xaxis\":\"x\",\"y\":[153,144,133,183,152,204,140],\"yaxis\":\"y\",\"type\":\"scatter\"},{\"hovertemplate\":\"source=facebook.com<br>month=%{x}<br>total_visits=%{y}<extra></extra>\",\"legendgroup\":\"facebook.com\",\"line\":{\"color\":\"#EF553B\",\"dash\":\"solid\",\"shape\":\"spline\"},\"marker\":{\"symbol\":\"circle\"},\"mode\":\"markers+lines\",\"name\":\"facebook.com\",\"orientation\":\"v\",\"showlegend\":true,\"x\":[\"2017-01-01\",\"2017-02-01\",\"2017-03-01\",\"2017-04-01\",\"2017-05-01\",\"2017-06-01\",\"2017-07-01\"],\"xaxis\":\"x\",\"y\":[136,274,129,241,222,95,191],\"yaxis\":\"y\",\"type\":\"scatter\"},{\"hovertemplate\":\"source=mail.google.com<br>month=%{x}<br>total_visits=%{y}<extra></extra>\",\"legendgroup\":\"mail.google.com\",\"line\":{\"color\":\"#00cc96\",\"dash\":\"solid\",\"shape\":\"spline\"},\"marker\":{\"symbol\":\"circle\"},\"mode\":\"markers+lines\",\"name\":\"mail.google.com\",\"orientation\":\"v\",\"showlegend\":true,\"x\":[\"2017-01-01\",\"2017-02-01\",\"2017-03-01\",\"2017-04-01\",\"2017-05-01\",\"2017-06-01\",\"2017-07-01\"],\"xaxis\":\"x\",\"y\":[132,179,104,105,119,143,101],\"yaxis\":\"y\",\"type\":\"scatter\"},{\"hovertemplate\":\"source=reddit.com<br>month=%{x}<br>total_visits=%{y}<extra></extra>\",\"legendgroup\":\"reddit.com\",\"line\":{\"color\":\"#ab63fa\",\"dash\":\"solid\",\"shape\":\"spline\"},\"marker\":{\"symbol\":\"circle\"},\"mode\":\"markers+lines\",\"name\":\"reddit.com\",\"orientation\":\"v\",\"showlegend\":true,\"x\":[\"2017-01-01\",\"2017-02-01\",\"2017-03-01\",\"2017-04-01\",\"2017-05-01\",\"2017-06-01\",\"2017-07-01\"],\"xaxis\":\"x\",\"y\":[127,143,144,405,220,144,189],\"yaxis\":\"y\",\"type\":\"scatter\"},{\"hovertemplate\":\"source=qiita.com<br>month=%{x}<br>total_visits=%{y}<extra></extra>\",\"legendgroup\":\"qiita.com\",\"line\":{\"color\":\"#FFA15A\",\"dash\":\"solid\",\"shape\":\"spline\"},\"marker\":{\"symbol\":\"circle\"},\"mode\":\"markers+lines\",\"name\":\"qiita.com\",\"orientation\":\"v\",\"showlegend\":true,\"x\":[\"2017-01-01\",\"2017-02-01\",\"2017-03-01\",\"2017-04-01\",\"2017-05-01\",\"2017-06-01\",\"2017-07-01\"],\"xaxis\":\"x\",\"y\":[123,153,155,166,180,160,146],\"yaxis\":\"y\",\"type\":\"scatter\"},{\"hovertemplate\":\"source=yahoo<br>month=%{x}<br>total_visits=%{y}<extra></extra>\",\"legendgroup\":\"yahoo\",\"line\":{\"color\":\"#19d3f3\",\"dash\":\"solid\",\"shape\":\"spline\"},\"marker\":{\"symbol\":\"circle\"},\"mode\":\"markers+lines\",\"name\":\"yahoo\",\"orientation\":\"v\",\"showlegend\":true,\"x\":[\"2017-01-01\",\"2017-02-01\",\"2017-03-01\",\"2017-04-01\",\"2017-05-01\",\"2017-06-01\",\"2017-07-01\"],\"xaxis\":\"x\",\"y\":[88,98,264,268,98,106,100],\"yaxis\":\"y\",\"type\":\"scatter\"},{\"hovertemplate\":\"source=bing<br>month=%{x}<br>total_visits=%{y}<extra></extra>\",\"legendgroup\":\"bing\",\"line\":{\"color\":\"#FF6692\",\"dash\":\"solid\",\"shape\":\"spline\"},\"marker\":{\"symbol\":\"circle\"},\"mode\":\"markers+lines\",\"name\":\"bing\",\"orientation\":\"v\",\"showlegend\":true,\"x\":[\"2017-01-01\",\"2017-02-01\",\"2017-03-01\",\"2017-04-01\",\"2017-05-01\",\"2017-06-01\",\"2017-07-01\"],\"xaxis\":\"x\",\"y\":[80,115,256,223,143,151,111],\"yaxis\":\"y\",\"type\":\"scatter\"},{\"hovertemplate\":\"source=m.facebook.com<br>month=%{x}<br>total_visits=%{y}<extra></extra>\",\"legendgroup\":\"m.facebook.com\",\"line\":{\"color\":\"#B6E880\",\"dash\":\"solid\",\"shape\":\"spline\"},\"marker\":{\"symbol\":\"circle\"},\"mode\":\"markers+lines\",\"name\":\"m.facebook.com\",\"orientation\":\"v\",\"showlegend\":true,\"x\":[\"2017-01-01\",\"2017-02-01\",\"2017-03-01\",\"2017-04-01\",\"2017-05-01\",\"2017-06-01\",\"2017-07-01\"],\"xaxis\":\"x\",\"y\":[75,358,218,511,714,241,669],\"yaxis\":\"y\",\"type\":\"scatter\"},{\"hovertemplate\":\"source=blog.golang.org<br>month=%{x}<br>total_visits=%{y}<extra></extra>\",\"legendgroup\":\"blog.golang.org\",\"line\":{\"color\":\"#FF97FF\",\"dash\":\"solid\",\"shape\":\"spline\"},\"marker\":{\"symbol\":\"circle\"},\"mode\":\"markers+lines\",\"name\":\"blog.golang.org\",\"orientation\":\"v\",\"showlegend\":true,\"x\":[\"2017-01-01\",\"2017-02-01\",\"2017-03-01\",\"2017-04-01\",\"2017-05-01\",\"2017-06-01\",\"2017-07-01\"],\"xaxis\":\"x\",\"y\":[71,85,81,70,67,59,65],\"yaxis\":\"y\",\"type\":\"scatter\"},{\"hovertemplate\":\"source=groups.google.com<br>month=%{x}<br>total_visits=%{y}<extra></extra>\",\"legendgroup\":\"groups.google.com\",\"line\":{\"color\":\"#FECB52\",\"dash\":\"solid\",\"shape\":\"spline\"},\"marker\":{\"symbol\":\"circle\"},\"mode\":\"markers+lines\",\"name\":\"groups.google.com\",\"orientation\":\"v\",\"showlegend\":true,\"x\":[\"2017-01-01\",\"2017-02-01\",\"2017-03-01\",\"2017-04-01\",\"2017-05-01\",\"2017-06-01\",\"2017-07-01\"],\"xaxis\":\"x\",\"y\":[69,203,52,71,229,106,50],\"yaxis\":\"y\",\"type\":\"scatter\"},{\"hovertemplate\":\"source=plus.google.com<br>month=%{x}<br>total_visits=%{y}<extra></extra>\",\"legendgroup\":\"plus.google.com\",\"line\":{\"color\":\"#636efa\",\"dash\":\"solid\",\"shape\":\"spline\"},\"marker\":{\"symbol\":\"circle\"},\"mode\":\"markers+lines\",\"name\":\"plus.google.com\",\"orientation\":\"v\",\"showlegend\":true,\"x\":[\"2017-01-01\",\"2017-02-01\",\"2017-03-01\",\"2017-04-01\",\"2017-05-01\",\"2017-06-01\",\"2017-07-01\"],\"xaxis\":\"x\",\"y\":[61,150,76,23,91,14,8],\"yaxis\":\"y\",\"type\":\"scatter\"},{\"hovertemplate\":\"source=productforums.google.com<br>month=%{x}<br>total_visits=%{y}<extra></extra>\",\"legendgroup\":\"productforums.google.com\",\"line\":{\"color\":\"#EF553B\",\"dash\":\"solid\",\"shape\":\"spline\"},\"marker\":{\"symbol\":\"circle\"},\"mode\":\"markers+lines\",\"name\":\"productforums.google.com\",\"orientation\":\"v\",\"showlegend\":true,\"x\":[\"2017-01-01\",\"2017-02-01\",\"2017-03-01\",\"2017-04-01\",\"2017-05-01\",\"2017-06-01\",\"2017-07-01\"],\"xaxis\":\"x\",\"y\":[42,31,17,25,21,28,25],\"yaxis\":\"y\",\"type\":\"scatter\"},{\"hovertemplate\":\"source=sashihara.jp<br>month=%{x}<br>total_visits=%{y}<extra></extra>\",\"legendgroup\":\"sashihara.jp\",\"line\":{\"color\":\"#00cc96\",\"dash\":\"solid\",\"shape\":\"spline\"},\"marker\":{\"symbol\":\"circle\"},\"mode\":\"markers+lines\",\"name\":\"sashihara.jp\",\"orientation\":\"v\",\"showlegend\":true,\"x\":[\"2017-01-01\",\"2017-02-01\",\"2017-03-01\",\"2017-04-01\",\"2017-05-01\",\"2017-06-01\",\"2017-07-01\"],\"xaxis\":\"x\",\"y\":[31,16,15,32,27,26,14],\"yaxis\":\"y\",\"type\":\"scatter\"},{\"hovertemplate\":\"source=dealspotr.com<br>month=%{x}<br>total_visits=%{y}<extra></extra>\",\"legendgroup\":\"dealspotr.com\",\"line\":{\"color\":\"#ab63fa\",\"dash\":\"solid\",\"shape\":\"spline\"},\"marker\":{\"symbol\":\"circle\"},\"mode\":\"markers+lines\",\"name\":\"dealspotr.com\",\"orientation\":\"v\",\"showlegend\":true,\"x\":[\"2017-01-01\",\"2017-02-01\",\"2017-03-01\",\"2017-04-01\",\"2017-05-01\",\"2017-06-01\",\"2017-07-01\"],\"xaxis\":\"x\",\"y\":[28,23,11,21,28,18,26],\"yaxis\":\"y\",\"type\":\"scatter\"},{\"hovertemplate\":\"source=googleads.g.doubleclick.net<br>month=%{x}<br>total_visits=%{y}<extra></extra>\",\"legendgroup\":\"googleads.g.doubleclick.net\",\"line\":{\"color\":\"#FFA15A\",\"dash\":\"solid\",\"shape\":\"spline\"},\"marker\":{\"symbol\":\"circle\"},\"mode\":\"markers+lines\",\"name\":\"googleads.g.doubleclick.net\",\"orientation\":\"v\",\"showlegend\":true,\"x\":[\"2017-01-01\",\"2017-02-01\",\"2017-03-01\",\"2017-04-01\",\"2017-05-01\",\"2017-06-01\",\"2017-07-01\"],\"xaxis\":\"x\",\"y\":[26,19,16,10,8,11,4],\"yaxis\":\"y\",\"type\":\"scatter\"},{\"hovertemplate\":\"source=docs.google.com<br>month=%{x}<br>total_visits=%{y}<extra></extra>\",\"legendgroup\":\"docs.google.com\",\"line\":{\"color\":\"#19d3f3\",\"dash\":\"solid\",\"shape\":\"spline\"},\"marker\":{\"symbol\":\"circle\"},\"mode\":\"markers+lines\",\"name\":\"docs.google.com\",\"orientation\":\"v\",\"showlegend\":true,\"x\":[\"2017-01-01\",\"2017-02-01\",\"2017-03-01\",\"2017-04-01\",\"2017-05-01\",\"2017-06-01\",\"2017-07-01\"],\"xaxis\":\"x\",\"y\":[25,27,41,50,66,17,20],\"yaxis\":\"y\",\"type\":\"scatter\"},{\"hovertemplate\":\"source=ask<br>month=%{x}<br>total_visits=%{y}<extra></extra>\",\"legendgroup\":\"ask\",\"line\":{\"color\":\"#FF6692\",\"dash\":\"solid\",\"shape\":\"spline\"},\"marker\":{\"symbol\":\"circle\"},\"mode\":\"markers+lines\",\"name\":\"ask\",\"orientation\":\"v\",\"showlegend\":true,\"x\":[\"2017-01-01\",\"2017-02-01\",\"2017-03-01\",\"2017-04-01\",\"2017-05-01\",\"2017-06-01\",\"2017-07-01\"],\"xaxis\":\"x\",\"y\":[16,27,26,26,22,37,24],\"yaxis\":\"y\",\"type\":\"scatter\"},{\"hovertemplate\":\"source=l.facebook.com<br>month=%{x}<br>total_visits=%{y}<extra></extra>\",\"legendgroup\":\"l.facebook.com\",\"line\":{\"color\":\"#B6E880\",\"dash\":\"solid\",\"shape\":\"spline\"},\"marker\":{\"symbol\":\"circle\"},\"mode\":\"markers+lines\",\"name\":\"l.facebook.com\",\"orientation\":\"v\",\"showlegend\":true,\"x\":[\"2017-01-01\",\"2017-02-01\",\"2017-03-01\",\"2017-04-01\",\"2017-05-01\",\"2017-06-01\",\"2017-07-01\"],\"xaxis\":\"x\",\"y\":[16,62,140,112,105,83,51],\"yaxis\":\"y\",\"type\":\"scatter\"},{\"hovertemplate\":\"source=phandroid.com<br>month=%{x}<br>total_visits=%{y}<extra></extra>\",\"legendgroup\":\"phandroid.com\",\"line\":{\"color\":\"#FF97FF\",\"dash\":\"solid\",\"shape\":\"spline\"},\"marker\":{\"symbol\":\"circle\"},\"mode\":\"markers+lines\",\"name\":\"phandroid.com\",\"orientation\":\"v\",\"showlegend\":true,\"x\":[\"2017-01-01\",\"2017-02-01\",\"2017-03-01\",\"2017-04-01\",\"2017-05-01\",\"2017-06-01\",\"2017-07-01\"],\"xaxis\":\"x\",\"y\":[16,13,8,10,14,13,9],\"yaxis\":\"y\",\"type\":\"scatter\"},{\"hovertemplate\":\"source=m.baidu.com<br>month=%{x}<br>total_visits=%{y}<extra></extra>\",\"legendgroup\":\"m.baidu.com\",\"line\":{\"color\":\"#FECB52\",\"dash\":\"solid\",\"shape\":\"spline\"},\"marker\":{\"symbol\":\"circle\"},\"mode\":\"markers+lines\",\"name\":\"m.baidu.com\",\"orientation\":\"v\",\"showlegend\":true,\"x\":[\"2017-01-01\",\"2017-02-01\",\"2017-03-01\",\"2017-04-01\",\"2017-05-01\",\"2017-06-01\",\"2017-07-01\"],\"xaxis\":\"x\",\"y\":[13,5,15,5,4,4,3],\"yaxis\":\"y\",\"type\":\"scatter\"},{\"hovertemplate\":\"source=cv.il3.ub.edu<br>month=%{x}<br>total_visits=%{y}<extra></extra>\",\"legendgroup\":\"cv.il3.ub.edu\",\"line\":{\"color\":\"#636efa\",\"dash\":\"solid\",\"shape\":\"spline\"},\"marker\":{\"symbol\":\"circle\"},\"mode\":\"markers+lines\",\"name\":\"cv.il3.ub.edu\",\"orientation\":\"v\",\"showlegend\":true,\"x\":[\"2017-01-01\",\"2017-02-01\"],\"xaxis\":\"x\",\"y\":[13,4],\"yaxis\":\"y\",\"type\":\"scatter\"},{\"hovertemplate\":\"source=google.co.uk<br>month=%{x}<br>total_visits=%{y}<extra></extra>\",\"legendgroup\":\"google.co.uk\",\"line\":{\"color\":\"#EF553B\",\"dash\":\"solid\",\"shape\":\"spline\"},\"marker\":{\"symbol\":\"circle\"},\"mode\":\"markers+lines\",\"name\":\"google.co.uk\",\"orientation\":\"v\",\"showlegend\":true,\"x\":[\"2017-01-01\",\"2017-02-01\",\"2017-03-01\",\"2017-04-01\",\"2017-05-01\",\"2017-06-01\",\"2017-07-01\"],\"xaxis\":\"x\",\"y\":[11,18,22,16,24,15,15],\"yaxis\":\"y\",\"type\":\"scatter\"},{\"hovertemplate\":\"source=t.co<br>month=%{x}<br>total_visits=%{y}<extra></extra>\",\"legendgroup\":\"t.co\",\"line\":{\"color\":\"#00cc96\",\"dash\":\"solid\",\"shape\":\"spline\"},\"marker\":{\"symbol\":\"circle\"},\"mode\":\"markers+lines\",\"name\":\"t.co\",\"orientation\":\"v\",\"showlegend\":true,\"x\":[\"2017-01-01\",\"2017-02-01\",\"2017-03-01\",\"2017-04-01\",\"2017-05-01\",\"2017-06-01\",\"2017-07-01\"],\"xaxis\":\"x\",\"y\":[10,17,64,601,343,128,38],\"yaxis\":\"y\",\"type\":\"scatter\"},{\"hovertemplate\":\"source=learn.colorado.edu<br>month=%{x}<br>total_visits=%{y}<extra></extra>\",\"legendgroup\":\"learn.colorado.edu\",\"line\":{\"color\":\"#ab63fa\",\"dash\":\"solid\",\"shape\":\"spline\"},\"marker\":{\"symbol\":\"circle\"},\"mode\":\"markers+lines\",\"name\":\"learn.colorado.edu\",\"orientation\":\"v\",\"showlegend\":true,\"x\":[\"2017-01-01\",\"2017-02-01\",\"2017-04-01\",\"2017-05-01\"],\"xaxis\":\"x\",\"y\":[10,2,1,1],\"yaxis\":\"y\",\"type\":\"scatter\"},{\"hovertemplate\":\"source=optimize.google.com<br>month=%{x}<br>total_visits=%{y}<extra></extra>\",\"legendgroup\":\"optimize.google.com\",\"line\":{\"color\":\"#FFA15A\",\"dash\":\"solid\",\"shape\":\"spline\"},\"marker\":{\"symbol\":\"circle\"},\"mode\":\"markers+lines\",\"name\":\"optimize.google.com\",\"orientation\":\"v\",\"showlegend\":true,\"x\":[\"2017-01-01\",\"2017-02-01\",\"2017-03-01\",\"2017-04-01\",\"2017-05-01\",\"2017-06-01\",\"2017-07-01\"],\"xaxis\":\"x\",\"y\":[9,6,9,24,24,40,21],\"yaxis\":\"y\",\"type\":\"scatter\"},{\"hovertemplate\":\"source=duckduckgo.com<br>month=%{x}<br>total_visits=%{y}<extra></extra>\",\"legendgroup\":\"duckduckgo.com\",\"line\":{\"color\":\"#19d3f3\",\"dash\":\"solid\",\"shape\":\"spline\"},\"marker\":{\"symbol\":\"circle\"},\"mode\":\"markers+lines\",\"name\":\"duckduckgo.com\",\"orientation\":\"v\",\"showlegend\":true,\"x\":[\"2017-01-01\",\"2017-02-01\",\"2017-03-01\",\"2017-04-01\",\"2017-05-01\",\"2017-06-01\",\"2017-07-01\"],\"xaxis\":\"x\",\"y\":[8,19,52,37,14,36,16],\"yaxis\":\"y\",\"type\":\"scatter\"},{\"hovertemplate\":\"source=search.mysearch.com<br>month=%{x}<br>total_visits=%{y}<extra></extra>\",\"legendgroup\":\"search.mysearch.com\",\"line\":{\"color\":\"#FF6692\",\"dash\":\"solid\",\"shape\":\"spline\"},\"marker\":{\"symbol\":\"circle\"},\"mode\":\"markers+lines\",\"name\":\"search.mysearch.com\",\"orientation\":\"v\",\"showlegend\":true,\"x\":[\"2017-01-01\",\"2017-02-01\",\"2017-03-01\",\"2017-04-01\",\"2017-05-01\",\"2017-06-01\",\"2017-07-01\"],\"xaxis\":\"x\",\"y\":[8,8,17,8,12,13,12],\"yaxis\":\"y\",\"type\":\"scatter\"},{\"hovertemplate\":\"source=int.search.tb.ask.com<br>month=%{x}<br>total_visits=%{y}<extra></extra>\",\"legendgroup\":\"int.search.tb.ask.com\",\"line\":{\"color\":\"#B6E880\",\"dash\":\"solid\",\"shape\":\"spline\"},\"marker\":{\"symbol\":\"circle\"},\"mode\":\"markers+lines\",\"name\":\"int.search.tb.ask.com\",\"orientation\":\"v\",\"showlegend\":true,\"x\":[\"2017-01-01\",\"2017-02-01\",\"2017-03-01\",\"2017-04-01\",\"2017-05-01\",\"2017-06-01\",\"2017-07-01\"],\"xaxis\":\"x\",\"y\":[7,14,11,7,16,17,23],\"yaxis\":\"y\",\"type\":\"scatter\"},{\"hovertemplate\":\"source=google.co.jp<br>month=%{x}<br>total_visits=%{y}<extra></extra>\",\"legendgroup\":\"google.co.jp\",\"line\":{\"color\":\"#FF97FF\",\"dash\":\"solid\",\"shape\":\"spline\"},\"marker\":{\"symbol\":\"circle\"},\"mode\":\"markers+lines\",\"name\":\"google.co.jp\",\"orientation\":\"v\",\"showlegend\":true,\"x\":[\"2017-01-01\",\"2017-02-01\",\"2017-03-01\",\"2017-04-01\",\"2017-05-01\",\"2017-06-01\",\"2017-07-01\"],\"xaxis\":\"x\",\"y\":[7,14,22,33,39,44,36],\"yaxis\":\"y\",\"type\":\"scatter\"},{\"hovertemplate\":\"source=keep.google.com<br>month=%{x}<br>total_visits=%{y}<extra></extra>\",\"legendgroup\":\"keep.google.com\",\"line\":{\"color\":\"#FECB52\",\"dash\":\"solid\",\"shape\":\"spline\"},\"marker\":{\"symbol\":\"circle\"},\"mode\":\"markers+lines\",\"name\":\"keep.google.com\",\"orientation\":\"v\",\"showlegend\":true,\"x\":[\"2017-01-01\",\"2017-02-01\",\"2017-03-01\",\"2017-04-01\",\"2017-05-01\",\"2017-06-01\"],\"xaxis\":\"x\",\"y\":[7,2,3,3,2,5],\"yaxis\":\"y\",\"type\":\"scatter\"},{\"hovertemplate\":\"source=lunametrics.com<br>month=%{x}<br>total_visits=%{y}<extra></extra>\",\"legendgroup\":\"lunametrics.com\",\"line\":{\"color\":\"#636efa\",\"dash\":\"solid\",\"shape\":\"spline\"},\"marker\":{\"symbol\":\"circle\"},\"mode\":\"markers+lines\",\"name\":\"lunametrics.com\",\"orientation\":\"v\",\"showlegend\":true,\"x\":[\"2017-01-01\",\"2017-02-01\",\"2017-03-01\",\"2017-04-01\",\"2017-05-01\",\"2017-06-01\",\"2017-07-01\"],\"xaxis\":\"x\",\"y\":[6,8,10,14,10,13,13],\"yaxis\":\"y\",\"type\":\"scatter\"},{\"hovertemplate\":\"source=images.google<br>month=%{x}<br>total_visits=%{y}<extra></extra>\",\"legendgroup\":\"images.google\",\"line\":{\"color\":\"#EF553B\",\"dash\":\"solid\",\"shape\":\"spline\"},\"marker\":{\"symbol\":\"circle\"},\"mode\":\"markers+lines\",\"name\":\"images.google\",\"orientation\":\"v\",\"showlegend\":true,\"x\":[\"2017-01-01\",\"2017-02-01\",\"2017-03-01\",\"2017-04-01\"],\"xaxis\":\"x\",\"y\":[6,3,1,1],\"yaxis\":\"y\",\"type\":\"scatter\"},{\"hovertemplate\":\"source=github.com<br>month=%{x}<br>total_visits=%{y}<extra></extra>\",\"legendgroup\":\"github.com\",\"line\":{\"color\":\"#00cc96\",\"dash\":\"solid\",\"shape\":\"spline\"},\"marker\":{\"symbol\":\"circle\"},\"mode\":\"markers+lines\",\"name\":\"github.com\",\"orientation\":\"v\",\"showlegend\":true,\"x\":[\"2017-01-01\",\"2017-02-01\",\"2017-03-01\",\"2017-04-01\",\"2017-05-01\",\"2017-06-01\",\"2017-07-01\"],\"xaxis\":\"x\",\"y\":[5,4,5,4,2,4,2],\"yaxis\":\"y\",\"type\":\"scatter\"},{\"hovertemplate\":\"source=outlook.live.com<br>month=%{x}<br>total_visits=%{y}<extra></extra>\",\"legendgroup\":\"outlook.live.com\",\"line\":{\"color\":\"#ab63fa\",\"dash\":\"solid\",\"shape\":\"spline\"},\"marker\":{\"symbol\":\"circle\"},\"mode\":\"markers+lines\",\"name\":\"outlook.live.com\",\"orientation\":\"v\",\"showlegend\":true,\"x\":[\"2017-01-01\",\"2017-02-01\",\"2017-03-01\",\"2017-04-01\",\"2017-05-01\",\"2017-06-01\",\"2017-07-01\"],\"xaxis\":\"x\",\"y\":[5,8,4,4,8,2,10],\"yaxis\":\"y\",\"type\":\"scatter\"},{\"hovertemplate\":\"source=gophergala.com<br>month=%{x}<br>total_visits=%{y}<extra></extra>\",\"legendgroup\":\"gophergala.com\",\"line\":{\"color\":\"#FFA15A\",\"dash\":\"solid\",\"shape\":\"spline\"},\"marker\":{\"symbol\":\"circle\"},\"mode\":\"markers+lines\",\"name\":\"gophergala.com\",\"orientation\":\"v\",\"showlegend\":true,\"x\":[\"2017-01-01\",\"2017-02-01\",\"2017-03-01\",\"2017-04-01\",\"2017-05-01\",\"2017-06-01\",\"2017-07-01\"],\"xaxis\":\"x\",\"y\":[4,3,4,2,2,1,1],\"yaxis\":\"y\",\"type\":\"scatter\"},{\"hovertemplate\":\"source=mg.mail.yahoo.com<br>month=%{x}<br>total_visits=%{y}<extra></extra>\",\"legendgroup\":\"mg.mail.yahoo.com\",\"line\":{\"color\":\"#19d3f3\",\"dash\":\"solid\",\"shape\":\"spline\"},\"marker\":{\"symbol\":\"circle\"},\"mode\":\"markers+lines\",\"name\":\"mg.mail.yahoo.com\",\"orientation\":\"v\",\"showlegend\":true,\"x\":[\"2017-01-01\",\"2017-02-01\",\"2017-03-01\",\"2017-04-01\",\"2017-05-01\",\"2017-06-01\"],\"xaxis\":\"x\",\"y\":[4,1,3,7,7,1],\"yaxis\":\"y\",\"type\":\"scatter\"},{\"hovertemplate\":\"source=m.vk.com<br>month=%{x}<br>total_visits=%{y}<extra></extra>\",\"legendgroup\":\"m.vk.com\",\"line\":{\"color\":\"#FF6692\",\"dash\":\"solid\",\"shape\":\"spline\"},\"marker\":{\"symbol\":\"circle\"},\"mode\":\"markers+lines\",\"name\":\"m.vk.com\",\"orientation\":\"v\",\"showlegend\":true,\"x\":[\"2017-01-01\",\"2017-03-01\"],\"xaxis\":\"x\",\"y\":[4,1],\"yaxis\":\"y\",\"type\":\"scatter\"},{\"hovertemplate\":\"source=images.google.de<br>month=%{x}<br>total_visits=%{y}<extra></extra>\",\"legendgroup\":\"images.google.de\",\"line\":{\"color\":\"#B6E880\",\"dash\":\"solid\",\"shape\":\"spline\"},\"marker\":{\"symbol\":\"circle\"},\"mode\":\"markers+lines\",\"name\":\"images.google.de\",\"orientation\":\"v\",\"showlegend\":true,\"x\":[\"2017-01-01\",\"2017-02-01\"],\"xaxis\":\"x\",\"y\":[3,2],\"yaxis\":\"y\",\"type\":\"scatter\"},{\"hovertemplate\":\"source=wheretoget.it<br>month=%{x}<br>total_visits=%{y}<extra></extra>\",\"legendgroup\":\"wheretoget.it\",\"line\":{\"color\":\"#FF97FF\",\"dash\":\"solid\",\"shape\":\"spline\"},\"marker\":{\"symbol\":\"circle\"},\"mode\":\"markers+lines\",\"name\":\"wheretoget.it\",\"orientation\":\"v\",\"showlegend\":true,\"x\":[\"2017-01-01\",\"2017-02-01\",\"2017-03-01\"],\"xaxis\":\"x\",\"y\":[3,2,1],\"yaxis\":\"y\",\"type\":\"scatter\"},{\"hovertemplate\":\"source=m.youtube.com<br>month=%{x}<br>total_visits=%{y}<extra></extra>\",\"legendgroup\":\"m.youtube.com\",\"line\":{\"color\":\"#FECB52\",\"dash\":\"solid\",\"shape\":\"spline\"},\"marker\":{\"symbol\":\"circle\"},\"mode\":\"markers+lines\",\"name\":\"m.youtube.com\",\"orientation\":\"v\",\"showlegend\":true,\"x\":[\"2017-01-01\",\"2017-04-01\",\"2017-05-01\",\"2017-06-01\",\"2017-07-01\"],\"xaxis\":\"x\",\"y\":[3,14,5,39,34],\"yaxis\":\"y\",\"type\":\"scatter\"},{\"hovertemplate\":\"source=google.co.in<br>month=%{x}<br>total_visits=%{y}<extra></extra>\",\"legendgroup\":\"google.co.in\",\"line\":{\"color\":\"#636efa\",\"dash\":\"solid\",\"shape\":\"spline\"},\"marker\":{\"symbol\":\"circle\"},\"mode\":\"markers+lines\",\"name\":\"google.co.in\",\"orientation\":\"v\",\"showlegend\":true,\"x\":[\"2017-01-01\",\"2017-02-01\",\"2017-03-01\",\"2017-04-01\",\"2017-05-01\",\"2017-06-01\",\"2017-07-01\"],\"xaxis\":\"x\",\"y\":[3,1,5,4,3,4,6],\"yaxis\":\"y\",\"type\":\"scatter\"},{\"hovertemplate\":\"source=images.google.fr<br>month=%{x}<br>total_visits=%{y}<extra></extra>\",\"legendgroup\":\"images.google.fr\",\"line\":{\"color\":\"#EF553B\",\"dash\":\"solid\",\"shape\":\"spline\"},\"marker\":{\"symbol\":\"circle\"},\"mode\":\"markers+lines\",\"name\":\"images.google.fr\",\"orientation\":\"v\",\"showlegend\":true,\"x\":[\"2017-01-01\"],\"xaxis\":\"x\",\"y\":[3],\"yaxis\":\"y\",\"type\":\"scatter\"},{\"hovertemplate\":\"source=google.de<br>month=%{x}<br>total_visits=%{y}<extra></extra>\",\"legendgroup\":\"google.de\",\"line\":{\"color\":\"#00cc96\",\"dash\":\"solid\",\"shape\":\"spline\"},\"marker\":{\"symbol\":\"circle\"},\"mode\":\"markers+lines\",\"name\":\"google.de\",\"orientation\":\"v\",\"showlegend\":true,\"x\":[\"2017-01-01\",\"2017-02-01\",\"2017-03-01\",\"2017-04-01\",\"2017-05-01\",\"2017-06-01\"],\"xaxis\":\"x\",\"y\":[3,9,4,2,2,1],\"yaxis\":\"y\",\"type\":\"scatter\"},{\"hovertemplate\":\"source=s0.2mdn.net<br>month=%{x}<br>total_visits=%{y}<extra></extra>\",\"legendgroup\":\"s0.2mdn.net\",\"line\":{\"color\":\"#ab63fa\",\"dash\":\"solid\",\"shape\":\"spline\"},\"marker\":{\"symbol\":\"circle\"},\"mode\":\"markers+lines\",\"name\":\"s0.2mdn.net\",\"orientation\":\"v\",\"showlegend\":true,\"x\":[\"2017-01-01\",\"2017-02-01\",\"2017-03-01\",\"2017-04-01\",\"2017-05-01\",\"2017-06-01\",\"2017-07-01\"],\"xaxis\":\"x\",\"y\":[3,29,17,17,17,8,5],\"yaxis\":\"y\",\"type\":\"scatter\"},{\"hovertemplate\":\"source=adwords.google.com<br>month=%{x}<br>total_visits=%{y}<extra></extra>\",\"legendgroup\":\"adwords.google.com\",\"line\":{\"color\":\"#FFA15A\",\"dash\":\"solid\",\"shape\":\"spline\"},\"marker\":{\"symbol\":\"circle\"},\"mode\":\"markers+lines\",\"name\":\"adwords.google.com\",\"orientation\":\"v\",\"showlegend\":true,\"x\":[\"2017-01-01\",\"2017-02-01\",\"2017-03-01\",\"2017-04-01\",\"2017-05-01\",\"2017-06-01\",\"2017-07-01\"],\"xaxis\":\"x\",\"y\":[2,6,2,11,5,5,16],\"yaxis\":\"y\",\"type\":\"scatter\"},{\"hovertemplate\":\"source=aulagrado.esic.edu<br>month=%{x}<br>total_visits=%{y}<extra></extra>\",\"legendgroup\":\"aulagrado.esic.edu\",\"line\":{\"color\":\"#19d3f3\",\"dash\":\"solid\",\"shape\":\"spline\"},\"marker\":{\"symbol\":\"circle\"},\"mode\":\"markers+lines\",\"name\":\"aulagrado.esic.edu\",\"orientation\":\"v\",\"showlegend\":true,\"x\":[\"2017-01-01\",\"2017-02-01\"],\"xaxis\":\"x\",\"y\":[2,3],\"yaxis\":\"y\",\"type\":\"scatter\"},{\"hovertemplate\":\"source=online-metrics.com<br>month=%{x}<br>total_visits=%{y}<extra></extra>\",\"legendgroup\":\"online-metrics.com\",\"line\":{\"color\":\"#FF6692\",\"dash\":\"solid\",\"shape\":\"spline\"},\"marker\":{\"symbol\":\"circle\"},\"mode\":\"markers+lines\",\"name\":\"online-metrics.com\",\"orientation\":\"v\",\"showlegend\":true,\"x\":[\"2017-01-01\",\"2017-02-01\",\"2017-03-01\",\"2017-04-01\",\"2017-05-01\",\"2017-06-01\",\"2017-07-01\"],\"xaxis\":\"x\",\"y\":[2,9,2,12,2,1,5],\"yaxis\":\"y\",\"type\":\"scatter\"},{\"hovertemplate\":\"source=search.tb.ask.com<br>month=%{x}<br>total_visits=%{y}<extra></extra>\",\"legendgroup\":\"search.tb.ask.com\",\"line\":{\"color\":\"#B6E880\",\"dash\":\"solid\",\"shape\":\"spline\"},\"marker\":{\"symbol\":\"circle\"},\"mode\":\"markers+lines\",\"name\":\"search.tb.ask.com\",\"orientation\":\"v\",\"showlegend\":true,\"x\":[\"2017-01-01\",\"2017-02-01\",\"2017-03-01\",\"2017-04-01\",\"2017-06-01\",\"2017-07-01\"],\"xaxis\":\"x\",\"y\":[2,1,1,4,6,1],\"yaxis\":\"y\",\"type\":\"scatter\"},{\"hovertemplate\":\"source=connect.googleforwork.com<br>month=%{x}<br>total_visits=%{y}<extra></extra>\",\"legendgroup\":\"connect.googleforwork.com\",\"line\":{\"color\":\"#FF97FF\",\"dash\":\"solid\",\"shape\":\"spline\"},\"marker\":{\"symbol\":\"circle\"},\"mode\":\"markers+lines\",\"name\":\"connect.googleforwork.com\",\"orientation\":\"v\",\"showlegend\":true,\"x\":[\"2017-01-01\",\"2017-02-01\",\"2017-03-01\",\"2017-04-01\",\"2017-06-01\",\"2017-07-01\"],\"xaxis\":\"x\",\"y\":[2,2,4,2,12,8],\"yaxis\":\"y\",\"type\":\"scatter\"},{\"hovertemplate\":\"source=images.google.lt<br>month=%{x}<br>total_visits=%{y}<extra></extra>\",\"legendgroup\":\"images.google.lt\",\"line\":{\"color\":\"#FECB52\",\"dash\":\"solid\",\"shape\":\"spline\"},\"marker\":{\"symbol\":\"circle\"},\"mode\":\"markers+lines\",\"name\":\"images.google.lt\",\"orientation\":\"v\",\"showlegend\":true,\"x\":[\"2017-01-01\"],\"xaxis\":\"x\",\"y\":[2],\"yaxis\":\"y\",\"type\":\"scatter\"},{\"hovertemplate\":\"source=lm.facebook.com<br>month=%{x}<br>total_visits=%{y}<extra></extra>\",\"legendgroup\":\"lm.facebook.com\",\"line\":{\"color\":\"#636efa\",\"dash\":\"solid\",\"shape\":\"spline\"},\"marker\":{\"symbol\":\"circle\"},\"mode\":\"markers+lines\",\"name\":\"lm.facebook.com\",\"orientation\":\"v\",\"showlegend\":true,\"x\":[\"2017-01-01\",\"2017-02-01\",\"2017-03-01\",\"2017-04-01\",\"2017-05-01\",\"2017-06-01\",\"2017-07-01\"],\"xaxis\":\"x\",\"y\":[2,5,2,6,14,5,18],\"yaxis\":\"y\",\"type\":\"scatter\"},{\"hovertemplate\":\"source=csfirst.withgoogle.com<br>month=%{x}<br>total_visits=%{y}<extra></extra>\",\"legendgroup\":\"csfirst.withgoogle.com\",\"line\":{\"color\":\"#EF553B\",\"dash\":\"solid\",\"shape\":\"spline\"},\"marker\":{\"symbol\":\"circle\"},\"mode\":\"markers+lines\",\"name\":\"csfirst.withgoogle.com\",\"orientation\":\"v\",\"showlegend\":true,\"x\":[\"2017-01-01\",\"2017-02-01\"],\"xaxis\":\"x\",\"y\":[2,2],\"yaxis\":\"y\",\"type\":\"scatter\"},{\"hovertemplate\":\"source=hangouts.google.com<br>month=%{x}<br>total_visits=%{y}<extra></extra>\",\"legendgroup\":\"hangouts.google.com\",\"line\":{\"color\":\"#00cc96\",\"dash\":\"solid\",\"shape\":\"spline\"},\"marker\":{\"symbol\":\"circle\"},\"mode\":\"markers+lines\",\"name\":\"hangouts.google.com\",\"orientation\":\"v\",\"showlegend\":true,\"x\":[\"2017-01-01\",\"2017-02-01\",\"2017-03-01\",\"2017-04-01\",\"2017-05-01\",\"2017-06-01\",\"2017-07-01\"],\"xaxis\":\"x\",\"y\":[2,4,7,2,2,5,5],\"yaxis\":\"y\",\"type\":\"scatter\"},{\"hovertemplate\":\"source=(not set)<br>month=%{x}<br>total_visits=%{y}<extra></extra>\",\"legendgroup\":\"(not set)\",\"line\":{\"color\":\"#ab63fa\",\"dash\":\"solid\",\"shape\":\"spline\"},\"marker\":{\"symbol\":\"circle\"},\"mode\":\"markers+lines\",\"name\":\"(not set)\",\"orientation\":\"v\",\"showlegend\":true,\"x\":[\"2017-01-01\",\"2017-04-01\",\"2017-05-01\"],\"xaxis\":\"x\",\"y\":[1,61,3],\"yaxis\":\"y\",\"type\":\"scatter\"},{\"hovertemplate\":\"source=messenger.com<br>month=%{x}<br>total_visits=%{y}<extra></extra>\",\"legendgroup\":\"messenger.com\",\"line\":{\"color\":\"#FFA15A\",\"dash\":\"solid\",\"shape\":\"spline\"},\"marker\":{\"symbol\":\"circle\"},\"mode\":\"markers+lines\",\"name\":\"messenger.com\",\"orientation\":\"v\",\"showlegend\":true,\"x\":[\"2017-01-01\",\"2017-02-01\",\"2017-03-01\",\"2017-04-01\"],\"xaxis\":\"x\",\"y\":[1,1,2,4],\"yaxis\":\"y\",\"type\":\"scatter\"},{\"hovertemplate\":\"source=de.pinterest.com<br>month=%{x}<br>total_visits=%{y}<extra></extra>\",\"legendgroup\":\"de.pinterest.com\",\"line\":{\"color\":\"#19d3f3\",\"dash\":\"solid\",\"shape\":\"spline\"},\"marker\":{\"symbol\":\"circle\"},\"mode\":\"markers+lines\",\"name\":\"de.pinterest.com\",\"orientation\":\"v\",\"showlegend\":true,\"x\":[\"2017-01-01\"],\"xaxis\":\"x\",\"y\":[1],\"yaxis\":\"y\",\"type\":\"scatter\"},{\"hovertemplate\":\"source=inbox.google.com<br>month=%{x}<br>total_visits=%{y}<extra></extra>\",\"legendgroup\":\"inbox.google.com\",\"line\":{\"color\":\"#FF6692\",\"dash\":\"solid\",\"shape\":\"spline\"},\"marker\":{\"symbol\":\"circle\"},\"mode\":\"markers+lines\",\"name\":\"inbox.google.com\",\"orientation\":\"v\",\"showlegend\":true,\"x\":[\"2017-01-01\",\"2017-05-01\"],\"xaxis\":\"x\",\"y\":[1,1],\"yaxis\":\"y\",\"type\":\"scatter\"},{\"hovertemplate\":\"source=google.it<br>month=%{x}<br>total_visits=%{y}<extra></extra>\",\"legendgroup\":\"google.it\",\"line\":{\"color\":\"#B6E880\",\"dash\":\"solid\",\"shape\":\"spline\"},\"marker\":{\"symbol\":\"circle\"},\"mode\":\"markers+lines\",\"name\":\"google.it\",\"orientation\":\"v\",\"showlegend\":true,\"x\":[\"2017-01-01\",\"2017-04-01\",\"2017-05-01\",\"2017-06-01\",\"2017-07-01\"],\"xaxis\":\"x\",\"y\":[1,2,1,2,2],\"yaxis\":\"y\",\"type\":\"scatter\"},{\"hovertemplate\":\"source=web.mail.comcast.net<br>month=%{x}<br>total_visits=%{y}<extra></extra>\",\"legendgroup\":\"web.mail.comcast.net\",\"line\":{\"color\":\"#FF97FF\",\"dash\":\"solid\",\"shape\":\"spline\"},\"marker\":{\"symbol\":\"circle\"},\"mode\":\"markers+lines\",\"name\":\"web.mail.comcast.net\",\"orientation\":\"v\",\"showlegend\":true,\"x\":[\"2017-01-01\",\"2017-07-01\"],\"xaxis\":\"x\",\"y\":[1,1],\"yaxis\":\"y\",\"type\":\"scatter\"},{\"hovertemplate\":\"source=seroundtable.com<br>month=%{x}<br>total_visits=%{y}<extra></extra>\",\"legendgroup\":\"seroundtable.com\",\"line\":{\"color\":\"#FECB52\",\"dash\":\"solid\",\"shape\":\"spline\"},\"marker\":{\"symbol\":\"circle\"},\"mode\":\"markers+lines\",\"name\":\"seroundtable.com\",\"orientation\":\"v\",\"showlegend\":true,\"x\":[\"2017-01-01\"],\"xaxis\":\"x\",\"y\":[1],\"yaxis\":\"y\",\"type\":\"scatter\"},{\"hovertemplate\":\"source=s7-eu4.ixquick.com<br>month=%{x}<br>total_visits=%{y}<extra></extra>\",\"legendgroup\":\"s7-eu4.ixquick.com\",\"line\":{\"color\":\"#636efa\",\"dash\":\"solid\",\"shape\":\"spline\"},\"marker\":{\"symbol\":\"circle\"},\"mode\":\"markers+lines\",\"name\":\"s7-eu4.ixquick.com\",\"orientation\":\"v\",\"showlegend\":true,\"x\":[\"2017-01-01\"],\"xaxis\":\"x\",\"y\":[1],\"yaxis\":\"y\",\"type\":\"scatter\"},{\"hovertemplate\":\"source=google.fr<br>month=%{x}<br>total_visits=%{y}<extra></extra>\",\"legendgroup\":\"google.fr\",\"line\":{\"color\":\"#EF553B\",\"dash\":\"solid\",\"shape\":\"spline\"},\"marker\":{\"symbol\":\"circle\"},\"mode\":\"markers+lines\",\"name\":\"google.fr\",\"orientation\":\"v\",\"showlegend\":true,\"x\":[\"2017-01-01\",\"2017-02-01\",\"2017-03-01\",\"2017-04-01\",\"2017-05-01\",\"2017-06-01\"],\"xaxis\":\"x\",\"y\":[1,2,2,4,1,1],\"yaxis\":\"y\",\"type\":\"scatter\"},{\"hovertemplate\":\"source=myactivity.google.com<br>month=%{x}<br>total_visits=%{y}<extra></extra>\",\"legendgroup\":\"myactivity.google.com\",\"line\":{\"color\":\"#00cc96\",\"dash\":\"solid\",\"shape\":\"spline\"},\"marker\":{\"symbol\":\"circle\"},\"mode\":\"markers+lines\",\"name\":\"myactivity.google.com\",\"orientation\":\"v\",\"showlegend\":true,\"x\":[\"2017-01-01\",\"2017-03-01\",\"2017-04-01\",\"2017-05-01\",\"2017-06-01\",\"2017-07-01\"],\"xaxis\":\"x\",\"y\":[1,4,1,4,5,2],\"yaxis\":\"y\",\"type\":\"scatter\"},{\"hovertemplate\":\"source=google.co.id<br>month=%{x}<br>total_visits=%{y}<extra></extra>\",\"legendgroup\":\"google.co.id\",\"line\":{\"color\":\"#ab63fa\",\"dash\":\"solid\",\"shape\":\"spline\"},\"marker\":{\"symbol\":\"circle\"},\"mode\":\"markers+lines\",\"name\":\"google.co.id\",\"orientation\":\"v\",\"showlegend\":true,\"x\":[\"2017-01-01\",\"2017-05-01\"],\"xaxis\":\"x\",\"y\":[1,1],\"yaxis\":\"y\",\"type\":\"scatter\"},{\"hovertemplate\":\"source=linkedin.com<br>month=%{x}<br>total_visits=%{y}<extra></extra>\",\"legendgroup\":\"linkedin.com\",\"line\":{\"color\":\"#FFA15A\",\"dash\":\"solid\",\"shape\":\"spline\"},\"marker\":{\"symbol\":\"circle\"},\"mode\":\"markers+lines\",\"name\":\"linkedin.com\",\"orientation\":\"v\",\"showlegend\":true,\"x\":[\"2017-01-01\",\"2017-03-01\",\"2017-04-01\",\"2017-06-01\"],\"xaxis\":\"x\",\"y\":[1,6,1,3],\"yaxis\":\"y\",\"type\":\"scatter\"},{\"hovertemplate\":\"source=m.reddit.com<br>month=%{x}<br>total_visits=%{y}<extra></extra>\",\"legendgroup\":\"m.reddit.com\",\"line\":{\"color\":\"#19d3f3\",\"dash\":\"solid\",\"shape\":\"spline\"},\"marker\":{\"symbol\":\"circle\"},\"mode\":\"markers+lines\",\"name\":\"m.reddit.com\",\"orientation\":\"v\",\"showlegend\":true,\"x\":[\"2017-01-01\"],\"xaxis\":\"x\",\"y\":[1],\"yaxis\":\"y\",\"type\":\"scatter\"},{\"hovertemplate\":\"source=blognone.com<br>month=%{x}<br>total_visits=%{y}<extra></extra>\",\"legendgroup\":\"blognone.com\",\"line\":{\"color\":\"#FF6692\",\"dash\":\"solid\",\"shape\":\"spline\"},\"marker\":{\"symbol\":\"circle\"},\"mode\":\"markers+lines\",\"name\":\"blognone.com\",\"orientation\":\"v\",\"showlegend\":true,\"x\":[\"2017-01-01\",\"2017-03-01\"],\"xaxis\":\"x\",\"y\":[1,1],\"yaxis\":\"y\",\"type\":\"scatter\"},{\"hovertemplate\":\"source=basecamp.com<br>month=%{x}<br>total_visits=%{y}<extra></extra>\",\"legendgroup\":\"basecamp.com\",\"line\":{\"color\":\"#B6E880\",\"dash\":\"solid\",\"shape\":\"spline\"},\"marker\":{\"symbol\":\"circle\"},\"mode\":\"markers+lines\",\"name\":\"basecamp.com\",\"orientation\":\"v\",\"showlegend\":true,\"x\":[\"2017-01-01\"],\"xaxis\":\"x\",\"y\":[1],\"yaxis\":\"y\",\"type\":\"scatter\"},{\"hovertemplate\":\"source=plus.url.google.com<br>month=%{x}<br>total_visits=%{y}<extra></extra>\",\"legendgroup\":\"plus.url.google.com\",\"line\":{\"color\":\"#FF97FF\",\"dash\":\"solid\",\"shape\":\"spline\"},\"marker\":{\"symbol\":\"circle\"},\"mode\":\"markers+lines\",\"name\":\"plus.url.google.com\",\"orientation\":\"v\",\"showlegend\":true,\"x\":[\"2017-01-01\",\"2017-02-01\",\"2017-05-01\",\"2017-06-01\",\"2017-07-01\"],\"xaxis\":\"x\",\"y\":[1,1,10,1,2],\"yaxis\":\"y\",\"type\":\"scatter\"},{\"hovertemplate\":\"source=images.google.co.id<br>month=%{x}<br>total_visits=%{y}<extra></extra>\",\"legendgroup\":\"images.google.co.id\",\"line\":{\"color\":\"#FECB52\",\"dash\":\"solid\",\"shape\":\"spline\"},\"marker\":{\"symbol\":\"circle\"},\"mode\":\"markers+lines\",\"name\":\"images.google.co.id\",\"orientation\":\"v\",\"showlegend\":true,\"x\":[\"2017-01-01\",\"2017-05-01\"],\"xaxis\":\"x\",\"y\":[1,1],\"yaxis\":\"y\",\"type\":\"scatter\"},{\"hovertemplate\":\"source=in.search.yahoo.com<br>month=%{x}<br>total_visits=%{y}<extra></extra>\",\"legendgroup\":\"in.search.yahoo.com\",\"line\":{\"color\":\"#636efa\",\"dash\":\"solid\",\"shape\":\"spline\"},\"marker\":{\"symbol\":\"circle\"},\"mode\":\"markers+lines\",\"name\":\"in.search.yahoo.com\",\"orientation\":\"v\",\"showlegend\":true,\"x\":[\"2017-01-01\",\"2017-04-01\",\"2017-06-01\",\"2017-07-01\"],\"xaxis\":\"x\",\"y\":[1,4,1,4],\"yaxis\":\"y\",\"type\":\"scatter\"},{\"hovertemplate\":\"source=uk.search.yahoo.com<br>month=%{x}<br>total_visits=%{y}<extra></extra>\",\"legendgroup\":\"uk.search.yahoo.com\",\"line\":{\"color\":\"#EF553B\",\"dash\":\"solid\",\"shape\":\"spline\"},\"marker\":{\"symbol\":\"circle\"},\"mode\":\"markers+lines\",\"name\":\"uk.search.yahoo.com\",\"orientation\":\"v\",\"showlegend\":true,\"x\":[\"2017-01-01\",\"2017-02-01\",\"2017-03-01\",\"2017-05-01\",\"2017-07-01\"],\"xaxis\":\"x\",\"y\":[1,1,4,3,2],\"yaxis\":\"y\",\"type\":\"scatter\"},{\"hovertemplate\":\"source=sg.search.yahoo.com<br>month=%{x}<br>total_visits=%{y}<extra></extra>\",\"legendgroup\":\"sg.search.yahoo.com\",\"line\":{\"color\":\"#00cc96\",\"dash\":\"solid\",\"shape\":\"spline\"},\"marker\":{\"symbol\":\"circle\"},\"mode\":\"markers+lines\",\"name\":\"sg.search.yahoo.com\",\"orientation\":\"v\",\"showlegend\":true,\"x\":[\"2017-01-01\",\"2017-06-01\"],\"xaxis\":\"x\",\"y\":[1,1],\"yaxis\":\"y\",\"type\":\"scatter\"},{\"hovertemplate\":\"source=au.search.yahoo.com<br>month=%{x}<br>total_visits=%{y}<extra></extra>\",\"legendgroup\":\"au.search.yahoo.com\",\"line\":{\"color\":\"#ab63fa\",\"dash\":\"solid\",\"shape\":\"spline\"},\"marker\":{\"symbol\":\"circle\"},\"mode\":\"markers+lines\",\"name\":\"au.search.yahoo.com\",\"orientation\":\"v\",\"showlegend\":true,\"x\":[\"2017-01-01\",\"2017-03-01\",\"2017-04-01\",\"2017-06-01\",\"2017-07-01\"],\"xaxis\":\"x\",\"y\":[1,1,2,3,2],\"yaxis\":\"y\",\"type\":\"scatter\"},{\"hovertemplate\":\"source=suche.t-online.de<br>month=%{x}<br>total_visits=%{y}<extra></extra>\",\"legendgroup\":\"suche.t-online.de\",\"line\":{\"color\":\"#FFA15A\",\"dash\":\"solid\",\"shape\":\"spline\"},\"marker\":{\"symbol\":\"circle\"},\"mode\":\"markers+lines\",\"name\":\"suche.t-online.de\",\"orientation\":\"v\",\"showlegend\":true,\"x\":[\"2017-01-01\",\"2017-02-01\",\"2017-03-01\",\"2017-05-01\",\"2017-06-01\",\"2017-07-01\"],\"xaxis\":\"x\",\"y\":[1,1,1,1,1,1],\"yaxis\":\"y\",\"type\":\"scatter\"},{\"hovertemplate\":\"source=google.es<br>month=%{x}<br>total_visits=%{y}<extra></extra>\",\"legendgroup\":\"google.es\",\"line\":{\"color\":\"#19d3f3\",\"dash\":\"solid\",\"shape\":\"spline\"},\"marker\":{\"symbol\":\"circle\"},\"mode\":\"markers+lines\",\"name\":\"google.es\",\"orientation\":\"v\",\"showlegend\":true,\"x\":[\"2017-01-01\",\"2017-02-01\",\"2017-03-01\",\"2017-04-01\",\"2017-05-01\",\"2017-06-01\",\"2017-07-01\"],\"xaxis\":\"x\",\"y\":[1,3,2,1,3,5,1],\"yaxis\":\"y\",\"type\":\"scatter\"},{\"hovertemplate\":\"source=course.fso.fullsail.edu<br>month=%{x}<br>total_visits=%{y}<extra></extra>\",\"legendgroup\":\"course.fso.fullsail.edu\",\"line\":{\"color\":\"#FF6692\",\"dash\":\"solid\",\"shape\":\"spline\"},\"marker\":{\"symbol\":\"circle\"},\"mode\":\"markers+lines\",\"name\":\"course.fso.fullsail.edu\",\"orientation\":\"v\",\"showlegend\":true,\"x\":[\"2017-01-01\",\"2017-02-01\",\"2017-03-01\"],\"xaxis\":\"x\",\"y\":[1,2,2],\"yaxis\":\"y\",\"type\":\"scatter\"},{\"hovertemplate\":\"source=amazon.com<br>month=%{x}<br>total_visits=%{y}<extra></extra>\",\"legendgroup\":\"amazon.com\",\"line\":{\"color\":\"#B6E880\",\"dash\":\"solid\",\"shape\":\"spline\"},\"marker\":{\"symbol\":\"circle\"},\"mode\":\"markers+lines\",\"name\":\"amazon.com\",\"orientation\":\"v\",\"showlegend\":true,\"x\":[\"2017-01-01\",\"2017-02-01\",\"2017-03-01\"],\"xaxis\":\"x\",\"y\":[1,2,1],\"yaxis\":\"y\",\"type\":\"scatter\"},{\"hovertemplate\":\"source=google.at<br>month=%{x}<br>total_visits=%{y}<extra></extra>\",\"legendgroup\":\"google.at\",\"line\":{\"color\":\"#FF97FF\",\"dash\":\"solid\",\"shape\":\"spline\"},\"marker\":{\"symbol\":\"circle\"},\"mode\":\"markers+lines\",\"name\":\"google.at\",\"orientation\":\"v\",\"showlegend\":true,\"x\":[\"2017-01-01\",\"2017-05-01\"],\"xaxis\":\"x\",\"y\":[1,1],\"yaxis\":\"y\",\"type\":\"scatter\"},{\"hovertemplate\":\"source=aol<br>month=%{x}<br>total_visits=%{y}<extra></extra>\",\"legendgroup\":\"aol\",\"line\":{\"color\":\"#FECB52\",\"dash\":\"solid\",\"shape\":\"spline\"},\"marker\":{\"symbol\":\"circle\"},\"mode\":\"markers+lines\",\"name\":\"aol\",\"orientation\":\"v\",\"showlegend\":true,\"x\":[\"2017-01-01\",\"2017-03-01\",\"2017-04-01\",\"2017-05-01\",\"2017-06-01\",\"2017-07-01\"],\"xaxis\":\"x\",\"y\":[1,1,1,1,1,1],\"yaxis\":\"y\",\"type\":\"scatter\"},{\"hovertemplate\":\"source=marketingland.com<br>month=%{x}<br>total_visits=%{y}<extra></extra>\",\"legendgroup\":\"marketingland.com\",\"line\":{\"color\":\"#636efa\",\"dash\":\"solid\",\"shape\":\"spline\"},\"marker\":{\"symbol\":\"circle\"},\"mode\":\"markers+lines\",\"name\":\"marketingland.com\",\"orientation\":\"v\",\"showlegend\":true,\"x\":[\"2017-01-01\",\"2017-03-01\"],\"xaxis\":\"x\",\"y\":[1,1],\"yaxis\":\"y\",\"type\":\"scatter\"},{\"hovertemplate\":\"source=nordic.businessinsider.com<br>month=%{x}<br>total_visits=%{y}<extra></extra>\",\"legendgroup\":\"nordic.businessinsider.com\",\"line\":{\"color\":\"#EF553B\",\"dash\":\"solid\",\"shape\":\"spline\"},\"marker\":{\"symbol\":\"circle\"},\"mode\":\"markers+lines\",\"name\":\"nordic.businessinsider.com\",\"orientation\":\"v\",\"showlegend\":true,\"x\":[\"2017-01-01\",\"2017-02-01\",\"2017-04-01\",\"2017-05-01\"],\"xaxis\":\"x\",\"y\":[1,7,1,1],\"yaxis\":\"y\",\"type\":\"scatter\"},{\"hovertemplate\":\"source=support.google.com<br>month=%{x}<br>total_visits=%{y}<extra></extra>\",\"legendgroup\":\"support.google.com\",\"line\":{\"color\":\"#00cc96\",\"dash\":\"solid\",\"shape\":\"spline\"},\"marker\":{\"symbol\":\"circle\"},\"mode\":\"markers+lines\",\"name\":\"support.google.com\",\"orientation\":\"v\",\"showlegend\":true,\"x\":[\"2017-01-01\",\"2017-03-01\",\"2017-04-01\",\"2017-05-01\",\"2017-06-01\",\"2017-07-01\"],\"xaxis\":\"x\",\"y\":[1,12,27,12,21,24],\"yaxis\":\"y\",\"type\":\"scatter\"},{\"hovertemplate\":\"source=google.com.pk<br>month=%{x}<br>total_visits=%{y}<extra></extra>\",\"legendgroup\":\"google.com.pk\",\"line\":{\"color\":\"#ab63fa\",\"dash\":\"solid\",\"shape\":\"spline\"},\"marker\":{\"symbol\":\"circle\"},\"mode\":\"markers+lines\",\"name\":\"google.com.pk\",\"orientation\":\"v\",\"showlegend\":true,\"x\":[\"2017-01-01\",\"2017-03-01\"],\"xaxis\":\"x\",\"y\":[1,1],\"yaxis\":\"y\",\"type\":\"scatter\"},{\"hovertemplate\":\"source=m.sogou.com<br>month=%{x}<br>total_visits=%{y}<extra></extra>\",\"legendgroup\":\"m.sogou.com\",\"line\":{\"color\":\"#FFA15A\",\"dash\":\"solid\",\"shape\":\"spline\"},\"marker\":{\"symbol\":\"circle\"},\"mode\":\"markers+lines\",\"name\":\"m.sogou.com\",\"orientation\":\"v\",\"showlegend\":true,\"x\":[\"2017-01-01\",\"2017-07-01\"],\"xaxis\":\"x\",\"y\":[1,4],\"yaxis\":\"y\",\"type\":\"scatter\"},{\"hovertemplate\":\"source=h.yandex-team.ru<br>month=%{x}<br>total_visits=%{y}<extra></extra>\",\"legendgroup\":\"h.yandex-team.ru\",\"line\":{\"color\":\"#19d3f3\",\"dash\":\"solid\",\"shape\":\"spline\"},\"marker\":{\"symbol\":\"circle\"},\"mode\":\"markers+lines\",\"name\":\"h.yandex-team.ru\",\"orientation\":\"v\",\"showlegend\":true,\"x\":[\"2017-02-01\"],\"xaxis\":\"x\",\"y\":[85],\"yaxis\":\"y\",\"type\":\"scatter\"},{\"hovertemplate\":\"source=learn.temple.edu<br>month=%{x}<br>total_visits=%{y}<extra></extra>\",\"legendgroup\":\"learn.temple.edu\",\"line\":{\"color\":\"#FF6692\",\"dash\":\"solid\",\"shape\":\"spline\"},\"marker\":{\"symbol\":\"circle\"},\"mode\":\"markers+lines\",\"name\":\"learn.temple.edu\",\"orientation\":\"v\",\"showlegend\":true,\"x\":[\"2017-02-01\",\"2017-03-01\"],\"xaxis\":\"x\",\"y\":[8,11],\"yaxis\":\"y\",\"type\":\"scatter\"},{\"hovertemplate\":\"source=google.ru<br>month=%{x}<br>total_visits=%{y}<extra></extra>\",\"legendgroup\":\"google.ru\",\"line\":{\"color\":\"#B6E880\",\"dash\":\"solid\",\"shape\":\"spline\"},\"marker\":{\"symbol\":\"circle\"},\"mode\":\"markers+lines\",\"name\":\"google.ru\",\"orientation\":\"v\",\"showlegend\":true,\"x\":[\"2017-02-01\",\"2017-03-01\",\"2017-05-01\",\"2017-06-01\",\"2017-07-01\"],\"xaxis\":\"x\",\"y\":[5,4,7,2,5],\"yaxis\":\"y\",\"type\":\"scatter\"},{\"hovertemplate\":\"source=search.xfinity.com<br>month=%{x}<br>total_visits=%{y}<extra></extra>\",\"legendgroup\":\"search.xfinity.com\",\"line\":{\"color\":\"#FF97FF\",\"dash\":\"solid\",\"shape\":\"spline\"},\"marker\":{\"symbol\":\"circle\"},\"mode\":\"markers+lines\",\"name\":\"search.xfinity.com\",\"orientation\":\"v\",\"showlegend\":true,\"x\":[\"2017-02-01\",\"2017-03-01\",\"2017-04-01\",\"2017-05-01\",\"2017-06-01\",\"2017-07-01\"],\"xaxis\":\"x\",\"y\":[4,1,4,1,4,6],\"yaxis\":\"y\",\"type\":\"scatter\"},{\"hovertemplate\":\"source=l.messenger.com<br>month=%{x}<br>total_visits=%{y}<extra></extra>\",\"legendgroup\":\"l.messenger.com\",\"line\":{\"color\":\"#FECB52\",\"dash\":\"solid\",\"shape\":\"spline\"},\"marker\":{\"symbol\":\"circle\"},\"mode\":\"markers+lines\",\"name\":\"l.messenger.com\",\"orientation\":\"v\",\"showlegend\":true,\"x\":[\"2017-02-01\",\"2017-03-01\",\"2017-04-01\",\"2017-05-01\",\"2017-06-01\",\"2017-07-01\"],\"xaxis\":\"x\",\"y\":[4,4,7,7,11,17],\"yaxis\":\"y\",\"type\":\"scatter\"},{\"hovertemplate\":\"source=us.search.yahoo.com<br>month=%{x}<br>total_visits=%{y}<extra></extra>\",\"legendgroup\":\"us.search.yahoo.com\",\"line\":{\"color\":\"#636efa\",\"dash\":\"solid\",\"shape\":\"spline\"},\"marker\":{\"symbol\":\"circle\"},\"mode\":\"markers+lines\",\"name\":\"us.search.yahoo.com\",\"orientation\":\"v\",\"showlegend\":true,\"x\":[\"2017-02-01\",\"2017-03-01\",\"2017-04-01\"],\"xaxis\":\"x\",\"y\":[2,26,15],\"yaxis\":\"y\",\"type\":\"scatter\"},{\"hovertemplate\":\"source=pinterest.com<br>month=%{x}<br>total_visits=%{y}<extra></extra>\",\"legendgroup\":\"pinterest.com\",\"line\":{\"color\":\"#EF553B\",\"dash\":\"solid\",\"shape\":\"spline\"},\"marker\":{\"symbol\":\"circle\"},\"mode\":\"markers+lines\",\"name\":\"pinterest.com\",\"orientation\":\"v\",\"showlegend\":true,\"x\":[\"2017-02-01\",\"2017-03-01\",\"2017-04-01\",\"2017-06-01\"],\"xaxis\":\"x\",\"y\":[2,1,7,1],\"yaxis\":\"y\",\"type\":\"scatter\"},{\"hovertemplate\":\"source=dena-design.qiita.com<br>month=%{x}<br>total_visits=%{y}<extra></extra>\",\"legendgroup\":\"dena-design.qiita.com\",\"line\":{\"color\":\"#00cc96\",\"dash\":\"solid\",\"shape\":\"spline\"},\"marker\":{\"symbol\":\"circle\"},\"mode\":\"markers+lines\",\"name\":\"dena-design.qiita.com\",\"orientation\":\"v\",\"showlegend\":true,\"x\":[\"2017-02-01\",\"2017-03-01\"],\"xaxis\":\"x\",\"y\":[2,3],\"yaxis\":\"y\",\"type\":\"scatter\"},{\"hovertemplate\":\"source=members.s7.exacttarget.com<br>month=%{x}<br>total_visits=%{y}<extra></extra>\",\"legendgroup\":\"members.s7.exacttarget.com\",\"line\":{\"color\":\"#ab63fa\",\"dash\":\"solid\",\"shape\":\"spline\"},\"marker\":{\"symbol\":\"circle\"},\"mode\":\"markers+lines\",\"name\":\"members.s7.exacttarget.com\",\"orientation\":\"v\",\"showlegend\":true,\"x\":[\"2017-02-01\"],\"xaxis\":\"x\",\"y\":[2],\"yaxis\":\"y\",\"type\":\"scatter\"},{\"hovertemplate\":\"source=maktoob.search.yahoo.com<br>month=%{x}<br>total_visits=%{y}<extra></extra>\",\"legendgroup\":\"maktoob.search.yahoo.com\",\"line\":{\"color\":\"#FFA15A\",\"dash\":\"solid\",\"shape\":\"spline\"},\"marker\":{\"symbol\":\"circle\"},\"mode\":\"markers+lines\",\"name\":\"maktoob.search.yahoo.com\",\"orientation\":\"v\",\"showlegend\":true,\"x\":[\"2017-02-01\"],\"xaxis\":\"x\",\"y\":[2],\"yaxis\":\"y\",\"type\":\"scatter\"},{\"hovertemplate\":\"source=yandex<br>month=%{x}<br>total_visits=%{y}<extra></extra>\",\"legendgroup\":\"yandex\",\"line\":{\"color\":\"#19d3f3\",\"dash\":\"solid\",\"shape\":\"spline\"},\"marker\":{\"symbol\":\"circle\"},\"mode\":\"markers+lines\",\"name\":\"yandex\",\"orientation\":\"v\",\"showlegend\":true,\"x\":[\"2017-02-01\"],\"xaxis\":\"x\",\"y\":[2],\"yaxis\":\"y\",\"type\":\"scatter\"},{\"hovertemplate\":\"source=fr.yhs4.search.yahoo.com<br>month=%{x}<br>total_visits=%{y}<extra></extra>\",\"legendgroup\":\"fr.yhs4.search.yahoo.com\",\"line\":{\"color\":\"#FF6692\",\"dash\":\"solid\",\"shape\":\"spline\"},\"marker\":{\"symbol\":\"circle\"},\"mode\":\"markers+lines\",\"name\":\"fr.yhs4.search.yahoo.com\",\"orientation\":\"v\",\"showlegend\":true,\"x\":[\"2017-02-01\"],\"xaxis\":\"x\",\"y\":[1],\"yaxis\":\"y\",\"type\":\"scatter\"},{\"hovertemplate\":\"source=google.com.tw<br>month=%{x}<br>total_visits=%{y}<extra></extra>\",\"legendgroup\":\"google.com.tw\",\"line\":{\"color\":\"#B6E880\",\"dash\":\"solid\",\"shape\":\"spline\"},\"marker\":{\"symbol\":\"circle\"},\"mode\":\"markers+lines\",\"name\":\"google.com.tw\",\"orientation\":\"v\",\"showlegend\":true,\"x\":[\"2017-02-01\",\"2017-06-01\"],\"xaxis\":\"x\",\"y\":[1,1],\"yaxis\":\"y\",\"type\":\"scatter\"},{\"hovertemplate\":\"source=ad.doubleclick.net<br>month=%{x}<br>total_visits=%{y}<extra></extra>\",\"legendgroup\":\"ad.doubleclick.net\",\"line\":{\"color\":\"#FF97FF\",\"dash\":\"solid\",\"shape\":\"spline\"},\"marker\":{\"symbol\":\"circle\"},\"mode\":\"markers+lines\",\"name\":\"ad.doubleclick.net\",\"orientation\":\"v\",\"showlegend\":true,\"x\":[\"2017-02-01\"],\"xaxis\":\"x\",\"y\":[1],\"yaxis\":\"y\",\"type\":\"scatter\"},{\"hovertemplate\":\"source=mail.verizon.com<br>month=%{x}<br>total_visits=%{y}<extra></extra>\",\"legendgroup\":\"mail.verizon.com\",\"line\":{\"color\":\"#FECB52\",\"dash\":\"solid\",\"shape\":\"spline\"},\"marker\":{\"symbol\":\"circle\"},\"mode\":\"markers+lines\",\"name\":\"mail.verizon.com\",\"orientation\":\"v\",\"showlegend\":true,\"x\":[\"2017-02-01\"],\"xaxis\":\"x\",\"y\":[1],\"yaxis\":\"y\",\"type\":\"scatter\"},{\"hovertemplate\":\"source=google.com.mx<br>month=%{x}<br>total_visits=%{y}<extra></extra>\",\"legendgroup\":\"google.com.mx\",\"line\":{\"color\":\"#636efa\",\"dash\":\"solid\",\"shape\":\"spline\"},\"marker\":{\"symbol\":\"circle\"},\"mode\":\"markers+lines\",\"name\":\"google.com.mx\",\"orientation\":\"v\",\"showlegend\":true,\"x\":[\"2017-02-01\",\"2017-05-01\"],\"xaxis\":\"x\",\"y\":[1,1],\"yaxis\":\"y\",\"type\":\"scatter\"},{\"hovertemplate\":\"source=blackboard.towson.edu<br>month=%{x}<br>total_visits=%{y}<extra></extra>\",\"legendgroup\":\"blackboard.towson.edu\",\"line\":{\"color\":\"#EF553B\",\"dash\":\"solid\",\"shape\":\"spline\"},\"marker\":{\"symbol\":\"circle\"},\"mode\":\"markers+lines\",\"name\":\"blackboard.towson.edu\",\"orientation\":\"v\",\"showlegend\":true,\"x\":[\"2017-02-01\"],\"xaxis\":\"x\",\"y\":[1],\"yaxis\":\"y\",\"type\":\"scatter\"},{\"hovertemplate\":\"source=vk.com<br>month=%{x}<br>total_visits=%{y}<extra></extra>\",\"legendgroup\":\"vk.com\",\"line\":{\"color\":\"#00cc96\",\"dash\":\"solid\",\"shape\":\"spline\"},\"marker\":{\"symbol\":\"circle\"},\"mode\":\"markers+lines\",\"name\":\"vk.com\",\"orientation\":\"v\",\"showlegend\":true,\"x\":[\"2017-02-01\",\"2017-03-01\"],\"xaxis\":\"x\",\"y\":[1,6],\"yaxis\":\"y\",\"type\":\"scatter\"},{\"hovertemplate\":\"source=tw.search.yahoo.com<br>month=%{x}<br>total_visits=%{y}<extra></extra>\",\"legendgroup\":\"tw.search.yahoo.com\",\"line\":{\"color\":\"#ab63fa\",\"dash\":\"solid\",\"shape\":\"spline\"},\"marker\":{\"symbol\":\"circle\"},\"mode\":\"markers+lines\",\"name\":\"tw.search.yahoo.com\",\"orientation\":\"v\",\"showlegend\":true,\"x\":[\"2017-02-01\",\"2017-05-01\",\"2017-06-01\",\"2017-07-01\"],\"xaxis\":\"x\",\"y\":[1,1,2,10],\"yaxis\":\"y\",\"type\":\"scatter\"},{\"hovertemplate\":\"source=google.co.il<br>month=%{x}<br>total_visits=%{y}<extra></extra>\",\"legendgroup\":\"google.co.il\",\"line\":{\"color\":\"#FFA15A\",\"dash\":\"solid\",\"shape\":\"spline\"},\"marker\":{\"symbol\":\"circle\"},\"mode\":\"markers+lines\",\"name\":\"google.co.il\",\"orientation\":\"v\",\"showlegend\":true,\"x\":[\"2017-02-01\"],\"xaxis\":\"x\",\"y\":[1],\"yaxis\":\"y\",\"type\":\"scatter\"},{\"hovertemplate\":\"source=google.nl<br>month=%{x}<br>total_visits=%{y}<extra></extra>\",\"legendgroup\":\"google.nl\",\"line\":{\"color\":\"#19d3f3\",\"dash\":\"solid\",\"shape\":\"spline\"},\"marker\":{\"symbol\":\"circle\"},\"mode\":\"markers+lines\",\"name\":\"google.nl\",\"orientation\":\"v\",\"showlegend\":true,\"x\":[\"2017-02-01\",\"2017-03-01\",\"2017-04-01\",\"2017-05-01\",\"2017-06-01\",\"2017-07-01\"],\"xaxis\":\"x\",\"y\":[1,3,4,2,1,1],\"yaxis\":\"y\",\"type\":\"scatter\"},{\"hovertemplate\":\"source=web.facebook.com<br>month=%{x}<br>total_visits=%{y}<extra></extra>\",\"legendgroup\":\"web.facebook.com\",\"line\":{\"color\":\"#FF6692\",\"dash\":\"solid\",\"shape\":\"spline\"},\"marker\":{\"symbol\":\"circle\"},\"mode\":\"markers+lines\",\"name\":\"web.facebook.com\",\"orientation\":\"v\",\"showlegend\":true,\"x\":[\"2017-02-01\",\"2017-03-01\",\"2017-04-01\",\"2017-05-01\",\"2017-07-01\"],\"xaxis\":\"x\",\"y\":[1,1,1,1,1],\"yaxis\":\"y\",\"type\":\"scatter\"},{\"hovertemplate\":\"source=kidrex.org<br>month=%{x}<br>total_visits=%{y}<extra></extra>\",\"legendgroup\":\"kidrex.org\",\"line\":{\"color\":\"#B6E880\",\"dash\":\"solid\",\"shape\":\"spline\"},\"marker\":{\"symbol\":\"circle\"},\"mode\":\"markers+lines\",\"name\":\"kidrex.org\",\"orientation\":\"v\",\"showlegend\":true,\"x\":[\"2017-02-01\",\"2017-03-01\",\"2017-05-01\",\"2017-06-01\",\"2017-07-01\"],\"xaxis\":\"x\",\"y\":[1,1,1,1,1],\"yaxis\":\"y\",\"type\":\"scatter\"},{\"hovertemplate\":\"source=spaces.google.com<br>month=%{x}<br>total_visits=%{y}<extra></extra>\",\"legendgroup\":\"spaces.google.com\",\"line\":{\"color\":\"#FF97FF\",\"dash\":\"solid\",\"shape\":\"spline\"},\"marker\":{\"symbol\":\"circle\"},\"mode\":\"markers+lines\",\"name\":\"spaces.google.com\",\"orientation\":\"v\",\"showlegend\":true,\"x\":[\"2017-02-01\"],\"xaxis\":\"x\",\"y\":[1],\"yaxis\":\"y\",\"type\":\"scatter\"},{\"hovertemplate\":\"source=searchlock.com<br>month=%{x}<br>total_visits=%{y}<extra></extra>\",\"legendgroup\":\"searchlock.com\",\"line\":{\"color\":\"#FECB52\",\"dash\":\"solid\",\"shape\":\"spline\"},\"marker\":{\"symbol\":\"circle\"},\"mode\":\"markers+lines\",\"name\":\"searchlock.com\",\"orientation\":\"v\",\"showlegend\":true,\"x\":[\"2017-02-01\",\"2017-03-01\",\"2017-04-01\"],\"xaxis\":\"x\",\"y\":[1,1,1],\"yaxis\":\"y\",\"type\":\"scatter\"},{\"hovertemplate\":\"source=fr.search.yahoo.com<br>month=%{x}<br>total_visits=%{y}<extra></extra>\",\"legendgroup\":\"fr.search.yahoo.com\",\"line\":{\"color\":\"#636efa\",\"dash\":\"solid\",\"shape\":\"spline\"},\"marker\":{\"symbol\":\"circle\"},\"mode\":\"markers+lines\",\"name\":\"fr.search.yahoo.com\",\"orientation\":\"v\",\"showlegend\":true,\"x\":[\"2017-02-01\",\"2017-05-01\",\"2017-06-01\"],\"xaxis\":\"x\",\"y\":[1,4,2],\"yaxis\":\"y\",\"type\":\"scatter\"},{\"hovertemplate\":\"source=businessinsider.com<br>month=%{x}<br>total_visits=%{y}<extra></extra>\",\"legendgroup\":\"businessinsider.com\",\"line\":{\"color\":\"#EF553B\",\"dash\":\"solid\",\"shape\":\"spline\"},\"marker\":{\"symbol\":\"circle\"},\"mode\":\"markers+lines\",\"name\":\"businessinsider.com\",\"orientation\":\"v\",\"showlegend\":true,\"x\":[\"2017-02-01\",\"2017-03-01\",\"2017-04-01\",\"2017-05-01\",\"2017-06-01\"],\"xaxis\":\"x\",\"y\":[1,2,47,3,2],\"yaxis\":\"y\",\"type\":\"scatter\"},{\"hovertemplate\":\"source=ca.search.yahoo.com<br>month=%{x}<br>total_visits=%{y}<extra></extra>\",\"legendgroup\":\"ca.search.yahoo.com\",\"line\":{\"color\":\"#00cc96\",\"dash\":\"solid\",\"shape\":\"spline\"},\"marker\":{\"symbol\":\"circle\"},\"mode\":\"markers+lines\",\"name\":\"ca.search.yahoo.com\",\"orientation\":\"v\",\"showlegend\":true,\"x\":[\"2017-02-01\",\"2017-04-01\"],\"xaxis\":\"x\",\"y\":[1,4],\"yaxis\":\"y\",\"type\":\"scatter\"},{\"hovertemplate\":\"source=images.google.lk<br>month=%{x}<br>total_visits=%{y}<extra></extra>\",\"legendgroup\":\"images.google.lk\",\"line\":{\"color\":\"#ab63fa\",\"dash\":\"solid\",\"shape\":\"spline\"},\"marker\":{\"symbol\":\"circle\"},\"mode\":\"markers+lines\",\"name\":\"images.google.lk\",\"orientation\":\"v\",\"showlegend\":true,\"x\":[\"2017-02-01\"],\"xaxis\":\"x\",\"y\":[1],\"yaxis\":\"y\",\"type\":\"scatter\"},{\"hovertemplate\":\"source=collaborate.northwestern.edu<br>month=%{x}<br>total_visits=%{y}<extra></extra>\",\"legendgroup\":\"collaborate.northwestern.edu\",\"line\":{\"color\":\"#FFA15A\",\"dash\":\"solid\",\"shape\":\"spline\"},\"marker\":{\"symbol\":\"circle\"},\"mode\":\"markers+lines\",\"name\":\"collaborate.northwestern.edu\",\"orientation\":\"v\",\"showlegend\":true,\"x\":[\"2017-02-01\"],\"xaxis\":\"x\",\"y\":[1],\"yaxis\":\"y\",\"type\":\"scatter\"},{\"hovertemplate\":\"source=ph.search.yahoo.com<br>month=%{x}<br>total_visits=%{y}<extra></extra>\",\"legendgroup\":\"ph.search.yahoo.com\",\"line\":{\"color\":\"#19d3f3\",\"dash\":\"solid\",\"shape\":\"spline\"},\"marker\":{\"symbol\":\"circle\"},\"mode\":\"markers+lines\",\"name\":\"ph.search.yahoo.com\",\"orientation\":\"v\",\"showlegend\":true,\"x\":[\"2017-02-01\",\"2017-03-01\",\"2017-04-01\",\"2017-07-01\"],\"xaxis\":\"x\",\"y\":[1,1,1,1],\"yaxis\":\"y\",\"type\":\"scatter\"},{\"hovertemplate\":\"source=se.search.yahoo.com<br>month=%{x}<br>total_visits=%{y}<extra></extra>\",\"legendgroup\":\"se.search.yahoo.com\",\"line\":{\"color\":\"#FF6692\",\"dash\":\"solid\",\"shape\":\"spline\"},\"marker\":{\"symbol\":\"circle\"},\"mode\":\"markers+lines\",\"name\":\"se.search.yahoo.com\",\"orientation\":\"v\",\"showlegend\":true,\"x\":[\"2017-02-01\",\"2017-05-01\"],\"xaxis\":\"x\",\"y\":[1,2],\"yaxis\":\"y\",\"type\":\"scatter\"},{\"hovertemplate\":\"source=go.mail.ru<br>month=%{x}<br>total_visits=%{y}<extra></extra>\",\"legendgroup\":\"go.mail.ru\",\"line\":{\"color\":\"#B6E880\",\"dash\":\"solid\",\"shape\":\"spline\"},\"marker\":{\"symbol\":\"circle\"},\"mode\":\"markers+lines\",\"name\":\"go.mail.ru\",\"orientation\":\"v\",\"showlegend\":true,\"x\":[\"2017-02-01\",\"2017-03-01\",\"2017-05-01\"],\"xaxis\":\"x\",\"y\":[1,1,1],\"yaxis\":\"y\",\"type\":\"scatter\"},{\"hovertemplate\":\"source=es.search.yahoo.com<br>month=%{x}<br>total_visits=%{y}<extra></extra>\",\"legendgroup\":\"es.search.yahoo.com\",\"line\":{\"color\":\"#FF97FF\",\"dash\":\"solid\",\"shape\":\"spline\"},\"marker\":{\"symbol\":\"circle\"},\"mode\":\"markers+lines\",\"name\":\"es.search.yahoo.com\",\"orientation\":\"v\",\"showlegend\":true,\"x\":[\"2017-02-01\",\"2017-06-01\",\"2017-07-01\"],\"xaxis\":\"x\",\"y\":[1,2,1],\"yaxis\":\"y\",\"type\":\"scatter\"},{\"hovertemplate\":\"source=myaccount.google.com<br>month=%{x}<br>total_visits=%{y}<extra></extra>\",\"legendgroup\":\"myaccount.google.com\",\"line\":{\"color\":\"#FECB52\",\"dash\":\"solid\",\"shape\":\"spline\"},\"marker\":{\"symbol\":\"circle\"},\"mode\":\"markers+lines\",\"name\":\"myaccount.google.com\",\"orientation\":\"v\",\"showlegend\":true,\"x\":[\"2017-02-01\"],\"xaxis\":\"x\",\"y\":[1],\"yaxis\":\"y\",\"type\":\"scatter\"},{\"hovertemplate\":\"source=datastudio.google.com<br>month=%{x}<br>total_visits=%{y}<extra></extra>\",\"legendgroup\":\"datastudio.google.com\",\"line\":{\"color\":\"#636efa\",\"dash\":\"solid\",\"shape\":\"spline\"},\"marker\":{\"symbol\":\"circle\"},\"mode\":\"markers+lines\",\"name\":\"datastudio.google.com\",\"orientation\":\"v\",\"showlegend\":true,\"x\":[\"2017-02-01\",\"2017-05-01\",\"2017-06-01\"],\"xaxis\":\"x\",\"y\":[1,1,4],\"yaxis\":\"y\",\"type\":\"scatter\"},{\"hovertemplate\":\"source=feedly.com<br>month=%{x}<br>total_visits=%{y}<extra></extra>\",\"legendgroup\":\"feedly.com\",\"line\":{\"color\":\"#EF553B\",\"dash\":\"solid\",\"shape\":\"spline\"},\"marker\":{\"symbol\":\"circle\"},\"mode\":\"markers+lines\",\"name\":\"feedly.com\",\"orientation\":\"v\",\"showlegend\":true,\"x\":[\"2017-02-01\",\"2017-04-01\",\"2017-05-01\"],\"xaxis\":\"x\",\"y\":[1,25,1],\"yaxis\":\"y\",\"type\":\"scatter\"},{\"hovertemplate\":\"source=hk.search.yahoo.com<br>month=%{x}<br>total_visits=%{y}<extra></extra>\",\"legendgroup\":\"hk.search.yahoo.com\",\"line\":{\"color\":\"#00cc96\",\"dash\":\"solid\",\"shape\":\"spline\"},\"marker\":{\"symbol\":\"circle\"},\"mode\":\"markers+lines\",\"name\":\"hk.search.yahoo.com\",\"orientation\":\"v\",\"showlegend\":true,\"x\":[\"2017-02-01\"],\"xaxis\":\"x\",\"y\":[1],\"yaxis\":\"y\",\"type\":\"scatter\"},{\"hovertemplate\":\"source=google.co.th<br>month=%{x}<br>total_visits=%{y}<extra></extra>\",\"legendgroup\":\"google.co.th\",\"line\":{\"color\":\"#ab63fa\",\"dash\":\"solid\",\"shape\":\"spline\"},\"marker\":{\"symbol\":\"circle\"},\"mode\":\"markers+lines\",\"name\":\"google.co.th\",\"orientation\":\"v\",\"showlegend\":true,\"x\":[\"2017-03-01\",\"2017-04-01\",\"2017-06-01\",\"2017-07-01\"],\"xaxis\":\"x\",\"y\":[7,1,3,2],\"yaxis\":\"y\",\"type\":\"scatter\"},{\"hovertemplate\":\"source=apis.mail.yahoo.com<br>month=%{x}<br>total_visits=%{y}<extra></extra>\",\"legendgroup\":\"apis.mail.yahoo.com\",\"line\":{\"color\":\"#FFA15A\",\"dash\":\"solid\",\"shape\":\"spline\"},\"marker\":{\"symbol\":\"circle\"},\"mode\":\"markers+lines\",\"name\":\"apis.mail.yahoo.com\",\"orientation\":\"v\",\"showlegend\":true,\"x\":[\"2017-03-01\",\"2017-04-01\"],\"xaxis\":\"x\",\"y\":[4,4],\"yaxis\":\"y\",\"type\":\"scatter\"},{\"hovertemplate\":\"source=ex.fit.edu<br>month=%{x}<br>total_visits=%{y}<extra></extra>\",\"legendgroup\":\"ex.fit.edu\",\"line\":{\"color\":\"#19d3f3\",\"dash\":\"solid\",\"shape\":\"spline\"},\"marker\":{\"symbol\":\"circle\"},\"mode\":\"markers+lines\",\"name\":\"ex.fit.edu\",\"orientation\":\"v\",\"showlegend\":true,\"x\":[\"2017-03-01\"],\"xaxis\":\"x\",\"y\":[3],\"yaxis\":\"y\",\"type\":\"scatter\"},{\"hovertemplate\":\"source=gist.github.com<br>month=%{x}<br>total_visits=%{y}<extra></extra>\",\"legendgroup\":\"gist.github.com\",\"line\":{\"color\":\"#FF6692\",\"dash\":\"solid\",\"shape\":\"spline\"},\"marker\":{\"symbol\":\"circle\"},\"mode\":\"markers+lines\",\"name\":\"gist.github.com\",\"orientation\":\"v\",\"showlegend\":true,\"x\":[\"2017-03-01\"],\"xaxis\":\"x\",\"y\":[3],\"yaxis\":\"y\",\"type\":\"scatter\"},{\"hovertemplate\":\"source=google.ca<br>month=%{x}<br>total_visits=%{y}<extra></extra>\",\"legendgroup\":\"google.ca\",\"line\":{\"color\":\"#B6E880\",\"dash\":\"solid\",\"shape\":\"spline\"},\"marker\":{\"symbol\":\"circle\"},\"mode\":\"markers+lines\",\"name\":\"google.ca\",\"orientation\":\"v\",\"showlegend\":true,\"x\":[\"2017-03-01\",\"2017-04-01\",\"2017-05-01\",\"2017-06-01\",\"2017-07-01\"],\"xaxis\":\"x\",\"y\":[3,1,1,5,1],\"yaxis\":\"y\",\"type\":\"scatter\"},{\"hovertemplate\":\"source=google.com.br<br>month=%{x}<br>total_visits=%{y}<extra></extra>\",\"legendgroup\":\"google.com.br\",\"line\":{\"color\":\"#FF97FF\",\"dash\":\"solid\",\"shape\":\"spline\"},\"marker\":{\"symbol\":\"circle\"},\"mode\":\"markers+lines\",\"name\":\"google.com.br\",\"orientation\":\"v\",\"showlegend\":true,\"x\":[\"2017-03-01\",\"2017-04-01\",\"2017-07-01\"],\"xaxis\":\"x\",\"y\":[3,2,1],\"yaxis\":\"y\",\"type\":\"scatter\"},{\"hovertemplate\":\"source=web.skype.com<br>month=%{x}<br>total_visits=%{y}<extra></extra>\",\"legendgroup\":\"web.skype.com\",\"line\":{\"color\":\"#FECB52\",\"dash\":\"solid\",\"shape\":\"spline\"},\"marker\":{\"symbol\":\"circle\"},\"mode\":\"markers+lines\",\"name\":\"web.skype.com\",\"orientation\":\"v\",\"showlegend\":true,\"x\":[\"2017-03-01\"],\"xaxis\":\"x\",\"y\":[3],\"yaxis\":\"y\",\"type\":\"scatter\"},{\"hovertemplate\":\"source=getpocket.com<br>month=%{x}<br>total_visits=%{y}<extra></extra>\",\"legendgroup\":\"getpocket.com\",\"line\":{\"color\":\"#636efa\",\"dash\":\"solid\",\"shape\":\"spline\"},\"marker\":{\"symbol\":\"circle\"},\"mode\":\"markers+lines\",\"name\":\"getpocket.com\",\"orientation\":\"v\",\"showlegend\":true,\"x\":[\"2017-03-01\",\"2017-04-01\",\"2017-05-01\",\"2017-06-01\",\"2017-07-01\"],\"xaxis\":\"x\",\"y\":[2,1,1,2,3],\"yaxis\":\"y\",\"type\":\"scatter\"},{\"hovertemplate\":\"source=cn.bing.com<br>month=%{x}<br>total_visits=%{y}<extra></extra>\",\"legendgroup\":\"cn.bing.com\",\"line\":{\"color\":\"#EF553B\",\"dash\":\"solid\",\"shape\":\"spline\"},\"marker\":{\"symbol\":\"circle\"},\"mode\":\"markers+lines\",\"name\":\"cn.bing.com\",\"orientation\":\"v\",\"showlegend\":true,\"x\":[\"2017-03-01\"],\"xaxis\":\"x\",\"y\":[2],\"yaxis\":\"y\",\"type\":\"scatter\"},{\"hovertemplate\":\"source=us.yhs4.search.yahoo.com<br>month=%{x}<br>total_visits=%{y}<extra></extra>\",\"legendgroup\":\"us.yhs4.search.yahoo.com\",\"line\":{\"color\":\"#00cc96\",\"dash\":\"solid\",\"shape\":\"spline\"},\"marker\":{\"symbol\":\"circle\"},\"mode\":\"markers+lines\",\"name\":\"us.yhs4.search.yahoo.com\",\"orientation\":\"v\",\"showlegend\":true,\"x\":[\"2017-03-01\"],\"xaxis\":\"x\",\"y\":[2],\"yaxis\":\"y\",\"type\":\"scatter\"},{\"hovertemplate\":\"source=baidu.com<br>month=%{x}<br>total_visits=%{y}<extra></extra>\",\"legendgroup\":\"baidu.com\",\"line\":{\"color\":\"#ab63fa\",\"dash\":\"solid\",\"shape\":\"spline\"},\"marker\":{\"symbol\":\"circle\"},\"mode\":\"markers+lines\",\"name\":\"baidu.com\",\"orientation\":\"v\",\"showlegend\":true,\"x\":[\"2017-03-01\",\"2017-04-01\"],\"xaxis\":\"x\",\"y\":[1,1],\"yaxis\":\"y\",\"type\":\"scatter\"},{\"hovertemplate\":\"source=se.yhs4.search.yahoo.com<br>month=%{x}<br>total_visits=%{y}<extra></extra>\",\"legendgroup\":\"se.yhs4.search.yahoo.com\",\"line\":{\"color\":\"#FFA15A\",\"dash\":\"solid\",\"shape\":\"spline\"},\"marker\":{\"symbol\":\"circle\"},\"mode\":\"markers+lines\",\"name\":\"se.yhs4.search.yahoo.com\",\"orientation\":\"v\",\"showlegend\":true,\"x\":[\"2017-03-01\"],\"xaxis\":\"x\",\"y\":[1],\"yaxis\":\"y\",\"type\":\"scatter\"},{\"hovertemplate\":\"source=mysearch.com<br>month=%{x}<br>total_visits=%{y}<extra></extra>\",\"legendgroup\":\"mysearch.com\",\"line\":{\"color\":\"#19d3f3\",\"dash\":\"solid\",\"shape\":\"spline\"},\"marker\":{\"symbol\":\"circle\"},\"mode\":\"markers+lines\",\"name\":\"mysearch.com\",\"orientation\":\"v\",\"showlegend\":true,\"x\":[\"2017-03-01\"],\"xaxis\":\"x\",\"y\":[1],\"yaxis\":\"y\",\"type\":\"scatter\"},{\"hovertemplate\":\"source=search.snapdo.com<br>month=%{x}<br>total_visits=%{y}<extra></extra>\",\"legendgroup\":\"search.snapdo.com\",\"line\":{\"color\":\"#FF6692\",\"dash\":\"solid\",\"shape\":\"spline\"},\"marker\":{\"symbol\":\"circle\"},\"mode\":\"markers+lines\",\"name\":\"search.snapdo.com\",\"orientation\":\"v\",\"showlegend\":true,\"x\":[\"2017-03-01\"],\"xaxis\":\"x\",\"y\":[1],\"yaxis\":\"y\",\"type\":\"scatter\"},{\"hovertemplate\":\"source=start.wow.com<br>month=%{x}<br>total_visits=%{y}<extra></extra>\",\"legendgroup\":\"start.wow.com\",\"line\":{\"color\":\"#B6E880\",\"dash\":\"solid\",\"shape\":\"spline\"},\"marker\":{\"symbol\":\"circle\"},\"mode\":\"markers+lines\",\"name\":\"start.wow.com\",\"orientation\":\"v\",\"showlegend\":true,\"x\":[\"2017-03-01\"],\"xaxis\":\"x\",\"y\":[1],\"yaxis\":\"y\",\"type\":\"scatter\"},{\"hovertemplate\":\"source=bing.com<br>month=%{x}<br>total_visits=%{y}<extra></extra>\",\"legendgroup\":\"bing.com\",\"line\":{\"color\":\"#FF97FF\",\"dash\":\"solid\",\"shape\":\"spline\"},\"marker\":{\"symbol\":\"circle\"},\"mode\":\"markers+lines\",\"name\":\"bing.com\",\"orientation\":\"v\",\"showlegend\":true,\"x\":[\"2017-03-01\",\"2017-04-01\"],\"xaxis\":\"x\",\"y\":[1,3],\"yaxis\":\"y\",\"type\":\"scatter\"},{\"hovertemplate\":\"source=it.search.yahoo.com<br>month=%{x}<br>total_visits=%{y}<extra></extra>\",\"legendgroup\":\"it.search.yahoo.com\",\"line\":{\"color\":\"#FECB52\",\"dash\":\"solid\",\"shape\":\"spline\"},\"marker\":{\"symbol\":\"circle\"},\"mode\":\"markers+lines\",\"name\":\"it.search.yahoo.com\",\"orientation\":\"v\",\"showlegend\":true,\"x\":[\"2017-03-01\",\"2017-06-01\"],\"xaxis\":\"x\",\"y\":[1,1],\"yaxis\":\"y\",\"type\":\"scatter\"},{\"hovertemplate\":\"source=google.ch<br>month=%{x}<br>total_visits=%{y}<extra></extra>\",\"legendgroup\":\"google.ch\",\"line\":{\"color\":\"#636efa\",\"dash\":\"solid\",\"shape\":\"spline\"},\"marker\":{\"symbol\":\"circle\"},\"mode\":\"markers+lines\",\"name\":\"google.ch\",\"orientation\":\"v\",\"showlegend\":true,\"x\":[\"2017-03-01\",\"2017-05-01\"],\"xaxis\":\"x\",\"y\":[1,1],\"yaxis\":\"y\",\"type\":\"scatter\"},{\"hovertemplate\":\"source=google.no<br>month=%{x}<br>total_visits=%{y}<extra></extra>\",\"legendgroup\":\"google.no\",\"line\":{\"color\":\"#EF553B\",\"dash\":\"solid\",\"shape\":\"spline\"},\"marker\":{\"symbol\":\"circle\"},\"mode\":\"markers+lines\",\"name\":\"google.no\",\"orientation\":\"v\",\"showlegend\":true,\"x\":[\"2017-03-01\"],\"xaxis\":\"x\",\"y\":[1],\"yaxis\":\"y\",\"type\":\"scatter\"},{\"hovertemplate\":\"source=google.pl<br>month=%{x}<br>total_visits=%{y}<extra></extra>\",\"legendgroup\":\"google.pl\",\"line\":{\"color\":\"#00cc96\",\"dash\":\"solid\",\"shape\":\"spline\"},\"marker\":{\"symbol\":\"circle\"},\"mode\":\"markers+lines\",\"name\":\"google.pl\",\"orientation\":\"v\",\"showlegend\":true,\"x\":[\"2017-03-01\"],\"xaxis\":\"x\",\"y\":[1],\"yaxis\":\"y\",\"type\":\"scatter\"},{\"hovertemplate\":\"source=ausdroid.net<br>month=%{x}<br>total_visits=%{y}<extra></extra>\",\"legendgroup\":\"ausdroid.net\",\"line\":{\"color\":\"#ab63fa\",\"dash\":\"solid\",\"shape\":\"spline\"},\"marker\":{\"symbol\":\"circle\"},\"mode\":\"markers+lines\",\"name\":\"ausdroid.net\",\"orientation\":\"v\",\"showlegend\":true,\"x\":[\"2017-03-01\"],\"xaxis\":\"x\",\"y\":[1],\"yaxis\":\"y\",\"type\":\"scatter\"},{\"hovertemplate\":\"source=msn<br>month=%{x}<br>total_visits=%{y}<extra></extra>\",\"legendgroup\":\"msn\",\"line\":{\"color\":\"#FFA15A\",\"dash\":\"solid\",\"shape\":\"spline\"},\"marker\":{\"symbol\":\"circle\"},\"mode\":\"markers+lines\",\"name\":\"msn\",\"orientation\":\"v\",\"showlegend\":true,\"x\":[\"2017-03-01\"],\"xaxis\":\"x\",\"y\":[1],\"yaxis\":\"y\",\"type\":\"scatter\"},{\"hovertemplate\":\"source=google.rs<br>month=%{x}<br>total_visits=%{y}<extra></extra>\",\"legendgroup\":\"google.rs\",\"line\":{\"color\":\"#19d3f3\",\"dash\":\"solid\",\"shape\":\"spline\"},\"marker\":{\"symbol\":\"circle\"},\"mode\":\"markers+lines\",\"name\":\"google.rs\",\"orientation\":\"v\",\"showlegend\":true,\"x\":[\"2017-03-01\"],\"xaxis\":\"x\",\"y\":[1],\"yaxis\":\"y\",\"type\":\"scatter\"},{\"hovertemplate\":\"source=web.whatsapp.com<br>month=%{x}<br>total_visits=%{y}<extra></extra>\",\"legendgroup\":\"web.whatsapp.com\",\"line\":{\"color\":\"#FF6692\",\"dash\":\"solid\",\"shape\":\"spline\"},\"marker\":{\"symbol\":\"circle\"},\"mode\":\"markers+lines\",\"name\":\"web.whatsapp.com\",\"orientation\":\"v\",\"showlegend\":true,\"x\":[\"2017-03-01\"],\"xaxis\":\"x\",\"y\":[1],\"yaxis\":\"y\",\"type\":\"scatter\"},{\"hovertemplate\":\"source=br.pinterest.com<br>month=%{x}<br>total_visits=%{y}<extra></extra>\",\"legendgroup\":\"br.pinterest.com\",\"line\":{\"color\":\"#B6E880\",\"dash\":\"solid\",\"shape\":\"spline\"},\"marker\":{\"symbol\":\"circle\"},\"mode\":\"markers+lines\",\"name\":\"br.pinterest.com\",\"orientation\":\"v\",\"showlegend\":true,\"x\":[\"2017-03-01\"],\"xaxis\":\"x\",\"y\":[1],\"yaxis\":\"y\",\"type\":\"scatter\"},{\"hovertemplate\":\"source=good.barkpost.com<br>month=%{x}<br>total_visits=%{y}<extra></extra>\",\"legendgroup\":\"good.barkpost.com\",\"line\":{\"color\":\"#FF97FF\",\"dash\":\"solid\",\"shape\":\"spline\"},\"marker\":{\"symbol\":\"circle\"},\"mode\":\"markers+lines\",\"name\":\"good.barkpost.com\",\"orientation\":\"v\",\"showlegend\":true,\"x\":[\"2017-03-01\"],\"xaxis\":\"x\",\"y\":[1],\"yaxis\":\"y\",\"type\":\"scatter\"},{\"hovertemplate\":\"source=flipboard.com<br>month=%{x}<br>total_visits=%{y}<extra></extra>\",\"legendgroup\":\"flipboard.com\",\"line\":{\"color\":\"#FECB52\",\"dash\":\"solid\",\"shape\":\"spline\"},\"marker\":{\"symbol\":\"circle\"},\"mode\":\"markers+lines\",\"name\":\"flipboard.com\",\"orientation\":\"v\",\"showlegend\":true,\"x\":[\"2017-04-01\",\"2017-05-01\"],\"xaxis\":\"x\",\"y\":[22,1],\"yaxis\":\"y\",\"type\":\"scatter\"},{\"hovertemplate\":\"source=uk.businessinsider.com<br>month=%{x}<br>total_visits=%{y}<extra></extra>\",\"legendgroup\":\"uk.businessinsider.com\",\"line\":{\"color\":\"#636efa\",\"dash\":\"solid\",\"shape\":\"spline\"},\"marker\":{\"symbol\":\"circle\"},\"mode\":\"markers+lines\",\"name\":\"uk.businessinsider.com\",\"orientation\":\"v\",\"showlegend\":true,\"x\":[\"2017-04-01\",\"2017-05-01\"],\"xaxis\":\"x\",\"y\":[13,1],\"yaxis\":\"y\",\"type\":\"scatter\"},{\"hovertemplate\":\"source=finance.yahoo.com<br>month=%{x}<br>total_visits=%{y}<extra></extra>\",\"legendgroup\":\"finance.yahoo.com\",\"line\":{\"color\":\"#EF553B\",\"dash\":\"solid\",\"shape\":\"spline\"},\"marker\":{\"symbol\":\"circle\"},\"mode\":\"markers+lines\",\"name\":\"finance.yahoo.com\",\"orientation\":\"v\",\"showlegend\":true,\"x\":[\"2017-04-01\"],\"xaxis\":\"x\",\"y\":[6],\"yaxis\":\"y\",\"type\":\"scatter\"},{\"hovertemplate\":\"source=msn.com<br>month=%{x}<br>total_visits=%{y}<extra></extra>\",\"legendgroup\":\"msn.com\",\"line\":{\"color\":\"#00cc96\",\"dash\":\"solid\",\"shape\":\"spline\"},\"marker\":{\"symbol\":\"circle\"},\"mode\":\"markers+lines\",\"name\":\"msn.com\",\"orientation\":\"v\",\"showlegend\":true,\"x\":[\"2017-04-01\",\"2017-05-01\",\"2017-06-01\",\"2017-07-01\"],\"xaxis\":\"x\",\"y\":[3,4,7,2],\"yaxis\":\"y\",\"type\":\"scatter\"},{\"hovertemplate\":\"source=away.vk.com<br>month=%{x}<br>total_visits=%{y}<extra></extra>\",\"legendgroup\":\"away.vk.com\",\"line\":{\"color\":\"#ab63fa\",\"dash\":\"solid\",\"shape\":\"spline\"},\"marker\":{\"symbol\":\"circle\"},\"mode\":\"markers+lines\",\"name\":\"away.vk.com\",\"orientation\":\"v\",\"showlegend\":true,\"x\":[\"2017-04-01\",\"2017-05-01\",\"2017-06-01\",\"2017-07-01\"],\"xaxis\":\"x\",\"y\":[3,15,7,4],\"yaxis\":\"y\",\"type\":\"scatter\"},{\"hovertemplate\":\"source=twitter.com<br>month=%{x}<br>total_visits=%{y}<extra></extra>\",\"legendgroup\":\"twitter.com\",\"line\":{\"color\":\"#FFA15A\",\"dash\":\"solid\",\"shape\":\"spline\"},\"marker\":{\"symbol\":\"circle\"},\"mode\":\"markers+lines\",\"name\":\"twitter.com\",\"orientation\":\"v\",\"showlegend\":true,\"x\":[\"2017-04-01\",\"2017-05-01\"],\"xaxis\":\"x\",\"y\":[2,2],\"yaxis\":\"y\",\"type\":\"scatter\"},{\"hovertemplate\":\"source=markets.businessinsider.com<br>month=%{x}<br>total_visits=%{y}<extra></extra>\",\"legendgroup\":\"markets.businessinsider.com\",\"line\":{\"color\":\"#19d3f3\",\"dash\":\"solid\",\"shape\":\"spline\"},\"marker\":{\"symbol\":\"circle\"},\"mode\":\"markers+lines\",\"name\":\"markets.businessinsider.com\",\"orientation\":\"v\",\"showlegend\":true,\"x\":[\"2017-04-01\",\"2017-05-01\"],\"xaxis\":\"x\",\"y\":[2,1],\"yaxis\":\"y\",\"type\":\"scatter\"},{\"hovertemplate\":\"source=chat.google.com<br>month=%{x}<br>total_visits=%{y}<extra></extra>\",\"legendgroup\":\"chat.google.com\",\"line\":{\"color\":\"#FF6692\",\"dash\":\"solid\",\"shape\":\"spline\"},\"marker\":{\"symbol\":\"circle\"},\"mode\":\"markers+lines\",\"name\":\"chat.google.com\",\"orientation\":\"v\",\"showlegend\":true,\"x\":[\"2017-04-01\",\"2017-06-01\"],\"xaxis\":\"x\",\"y\":[2,5],\"yaxis\":\"y\",\"type\":\"scatter\"},{\"hovertemplate\":\"source=google.com.hk<br>month=%{x}<br>total_visits=%{y}<extra></extra>\",\"legendgroup\":\"google.com.hk\",\"line\":{\"color\":\"#B6E880\",\"dash\":\"solid\",\"shape\":\"spline\"},\"marker\":{\"symbol\":\"circle\"},\"mode\":\"markers+lines\",\"name\":\"google.com.hk\",\"orientation\":\"v\",\"showlegend\":true,\"x\":[\"2017-04-01\"],\"xaxis\":\"x\",\"y\":[2],\"yaxis\":\"y\",\"type\":\"scatter\"},{\"hovertemplate\":\"source=images.google.ie<br>month=%{x}<br>total_visits=%{y}<extra></extra>\",\"legendgroup\":\"images.google.ie\",\"line\":{\"color\":\"#FF97FF\",\"dash\":\"solid\",\"shape\":\"spline\"},\"marker\":{\"symbol\":\"circle\"},\"mode\":\"markers+lines\",\"name\":\"images.google.ie\",\"orientation\":\"v\",\"showlegend\":true,\"x\":[\"2017-04-01\"],\"xaxis\":\"x\",\"y\":[2],\"yaxis\":\"y\",\"type\":\"scatter\"},{\"hovertemplate\":\"source=businessinsider.in<br>month=%{x}<br>total_visits=%{y}<extra></extra>\",\"legendgroup\":\"businessinsider.in\",\"line\":{\"color\":\"#FECB52\",\"dash\":\"solid\",\"shape\":\"spline\"},\"marker\":{\"symbol\":\"circle\"},\"mode\":\"markers+lines\",\"name\":\"businessinsider.in\",\"orientation\":\"v\",\"showlegend\":true,\"x\":[\"2017-04-01\"],\"xaxis\":\"x\",\"y\":[2],\"yaxis\":\"y\",\"type\":\"scatter\"},{\"hovertemplate\":\"source=br.search.yahoo.com<br>month=%{x}<br>total_visits=%{y}<extra></extra>\",\"legendgroup\":\"br.search.yahoo.com\",\"line\":{\"color\":\"#636efa\",\"dash\":\"solid\",\"shape\":\"spline\"},\"marker\":{\"symbol\":\"circle\"},\"mode\":\"markers+lines\",\"name\":\"br.search.yahoo.com\",\"orientation\":\"v\",\"showlegend\":true,\"x\":[\"2017-04-01\"],\"xaxis\":\"x\",\"y\":[2],\"yaxis\":\"y\",\"type\":\"scatter\"},{\"hovertemplate\":\"source=google.co.nz<br>month=%{x}<br>total_visits=%{y}<extra></extra>\",\"legendgroup\":\"google.co.nz\",\"line\":{\"color\":\"#EF553B\",\"dash\":\"solid\",\"shape\":\"spline\"},\"marker\":{\"symbol\":\"circle\"},\"mode\":\"markers+lines\",\"name\":\"google.co.nz\",\"orientation\":\"v\",\"showlegend\":true,\"x\":[\"2017-04-01\"],\"xaxis\":\"x\",\"y\":[1],\"yaxis\":\"y\",\"type\":\"scatter\"},{\"hovertemplate\":\"source=9to5google.com<br>month=%{x}<br>total_visits=%{y}<extra></extra>\",\"legendgroup\":\"9to5google.com\",\"line\":{\"color\":\"#00cc96\",\"dash\":\"solid\",\"shape\":\"spline\"},\"marker\":{\"symbol\":\"circle\"},\"mode\":\"markers+lines\",\"name\":\"9to5google.com\",\"orientation\":\"v\",\"showlegend\":true,\"x\":[\"2017-04-01\"],\"xaxis\":\"x\",\"y\":[1],\"yaxis\":\"y\",\"type\":\"scatter\"},{\"hovertemplate\":\"source=google.com.au<br>month=%{x}<br>total_visits=%{y}<extra></extra>\",\"legendgroup\":\"google.com.au\",\"line\":{\"color\":\"#ab63fa\",\"dash\":\"solid\",\"shape\":\"spline\"},\"marker\":{\"symbol\":\"circle\"},\"mode\":\"markers+lines\",\"name\":\"google.com.au\",\"orientation\":\"v\",\"showlegend\":true,\"x\":[\"2017-04-01\",\"2017-05-01\",\"2017-06-01\"],\"xaxis\":\"x\",\"y\":[1,1,3],\"yaxis\":\"y\",\"type\":\"scatter\"},{\"hovertemplate\":\"source=yahoo.com<br>month=%{x}<br>total_visits=%{y}<extra></extra>\",\"legendgroup\":\"yahoo.com\",\"line\":{\"color\":\"#FFA15A\",\"dash\":\"solid\",\"shape\":\"spline\"},\"marker\":{\"symbol\":\"circle\"},\"mode\":\"markers+lines\",\"name\":\"yahoo.com\",\"orientation\":\"v\",\"showlegend\":true,\"x\":[\"2017-04-01\"],\"xaxis\":\"x\",\"y\":[1],\"yaxis\":\"y\",\"type\":\"scatter\"},{\"hovertemplate\":\"source=google.lk<br>month=%{x}<br>total_visits=%{y}<extra></extra>\",\"legendgroup\":\"google.lk\",\"line\":{\"color\":\"#19d3f3\",\"dash\":\"solid\",\"shape\":\"spline\"},\"marker\":{\"symbol\":\"circle\"},\"mode\":\"markers+lines\",\"name\":\"google.lk\",\"orientation\":\"v\",\"showlegend\":true,\"x\":[\"2017-04-01\"],\"xaxis\":\"x\",\"y\":[1],\"yaxis\":\"y\",\"type\":\"scatter\"},{\"hovertemplate\":\"source=search.earthlink.net<br>month=%{x}<br>total_visits=%{y}<extra></extra>\",\"legendgroup\":\"search.earthlink.net\",\"line\":{\"color\":\"#FF6692\",\"dash\":\"solid\",\"shape\":\"spline\"},\"marker\":{\"symbol\":\"circle\"},\"mode\":\"markers+lines\",\"name\":\"search.earthlink.net\",\"orientation\":\"v\",\"showlegend\":true,\"x\":[\"2017-04-01\",\"2017-05-01\",\"2017-06-01\"],\"xaxis\":\"x\",\"y\":[1,1,1],\"yaxis\":\"y\",\"type\":\"scatter\"},{\"hovertemplate\":\"source=search.1and1.com<br>month=%{x}<br>total_visits=%{y}<extra></extra>\",\"legendgroup\":\"search.1and1.com\",\"line\":{\"color\":\"#B6E880\",\"dash\":\"solid\",\"shape\":\"spline\"},\"marker\":{\"symbol\":\"circle\"},\"mode\":\"markers+lines\",\"name\":\"search.1and1.com\",\"orientation\":\"v\",\"showlegend\":true,\"x\":[\"2017-04-01\",\"2017-07-01\"],\"xaxis\":\"x\",\"y\":[1,2],\"yaxis\":\"y\",\"type\":\"scatter\"},{\"hovertemplate\":\"source=google.com.ph<br>month=%{x}<br>total_visits=%{y}<extra></extra>\",\"legendgroup\":\"google.com.ph\",\"line\":{\"color\":\"#FF97FF\",\"dash\":\"solid\",\"shape\":\"spline\"},\"marker\":{\"symbol\":\"circle\"},\"mode\":\"markers+lines\",\"name\":\"google.com.ph\",\"orientation\":\"v\",\"showlegend\":true,\"x\":[\"2017-04-01\"],\"xaxis\":\"x\",\"y\":[1],\"yaxis\":\"y\",\"type\":\"scatter\"},{\"hovertemplate\":\"source=newsstand.google.com<br>month=%{x}<br>total_visits=%{y}<extra></extra>\",\"legendgroup\":\"newsstand.google.com\",\"line\":{\"color\":\"#FECB52\",\"dash\":\"solid\",\"shape\":\"spline\"},\"marker\":{\"symbol\":\"circle\"},\"mode\":\"markers+lines\",\"name\":\"newsstand.google.com\",\"orientation\":\"v\",\"showlegend\":true,\"x\":[\"2017-04-01\"],\"xaxis\":\"x\",\"y\":[1],\"yaxis\":\"y\",\"type\":\"scatter\"},{\"hovertemplate\":\"source=us.wow.com<br>month=%{x}<br>total_visits=%{y}<extra></extra>\",\"legendgroup\":\"us.wow.com\",\"line\":{\"color\":\"#636efa\",\"dash\":\"solid\",\"shape\":\"spline\"},\"marker\":{\"symbol\":\"circle\"},\"mode\":\"markers+lines\",\"name\":\"us.wow.com\",\"orientation\":\"v\",\"showlegend\":true,\"x\":[\"2017-04-01\"],\"xaxis\":\"x\",\"y\":[1],\"yaxis\":\"y\",\"type\":\"scatter\"},{\"hovertemplate\":\"source=search.incredibar.com<br>month=%{x}<br>total_visits=%{y}<extra></extra>\",\"legendgroup\":\"search.incredibar.com\",\"line\":{\"color\":\"#EF553B\",\"dash\":\"solid\",\"shape\":\"spline\"},\"marker\":{\"symbol\":\"circle\"},\"mode\":\"markers+lines\",\"name\":\"search.incredibar.com\",\"orientation\":\"v\",\"showlegend\":true,\"x\":[\"2017-04-01\",\"2017-05-01\",\"2017-06-01\"],\"xaxis\":\"x\",\"y\":[1,1,1],\"yaxis\":\"y\",\"type\":\"scatter\"},{\"hovertemplate\":\"source=google.co.kr<br>month=%{x}<br>total_visits=%{y}<extra></extra>\",\"legendgroup\":\"google.co.kr\",\"line\":{\"color\":\"#00cc96\",\"dash\":\"solid\",\"shape\":\"spline\"},\"marker\":{\"symbol\":\"circle\"},\"mode\":\"markers+lines\",\"name\":\"google.co.kr\",\"orientation\":\"v\",\"showlegend\":true,\"x\":[\"2017-04-01\"],\"xaxis\":\"x\",\"y\":[1],\"yaxis\":\"y\",\"type\":\"scatter\"},{\"hovertemplate\":\"source=ps-dm.reddit.com<br>month=%{x}<br>total_visits=%{y}<extra></extra>\",\"legendgroup\":\"ps-dm.reddit.com\",\"line\":{\"color\":\"#ab63fa\",\"dash\":\"solid\",\"shape\":\"spline\"},\"marker\":{\"symbol\":\"circle\"},\"mode\":\"markers+lines\",\"name\":\"ps-dm.reddit.com\",\"orientation\":\"v\",\"showlegend\":true,\"x\":[\"2017-04-01\"],\"xaxis\":\"x\",\"y\":[1],\"yaxis\":\"y\",\"type\":\"scatter\"},{\"hovertemplate\":\"source=evernote.com<br>month=%{x}<br>total_visits=%{y}<extra></extra>\",\"legendgroup\":\"evernote.com\",\"line\":{\"color\":\"#FFA15A\",\"dash\":\"solid\",\"shape\":\"spline\"},\"marker\":{\"symbol\":\"circle\"},\"mode\":\"markers+lines\",\"name\":\"evernote.com\",\"orientation\":\"v\",\"showlegend\":true,\"x\":[\"2017-04-01\",\"2017-05-01\"],\"xaxis\":\"x\",\"y\":[1,1],\"yaxis\":\"y\",\"type\":\"scatter\"},{\"hovertemplate\":\"source=voice.google.com<br>month=%{x}<br>total_visits=%{y}<extra></extra>\",\"legendgroup\":\"voice.google.com\",\"line\":{\"color\":\"#19d3f3\",\"dash\":\"solid\",\"shape\":\"spline\"},\"marker\":{\"symbol\":\"circle\"},\"mode\":\"markers+lines\",\"name\":\"voice.google.com\",\"orientation\":\"v\",\"showlegend\":true,\"x\":[\"2017-04-01\"],\"xaxis\":\"x\",\"y\":[1],\"yaxis\":\"y\",\"type\":\"scatter\"},{\"hovertemplate\":\"source=desktop.google.com.ua<br>month=%{x}<br>total_visits=%{y}<extra></extra>\",\"legendgroup\":\"desktop.google.com.ua\",\"line\":{\"color\":\"#FF6692\",\"dash\":\"solid\",\"shape\":\"spline\"},\"marker\":{\"symbol\":\"circle\"},\"mode\":\"markers+lines\",\"name\":\"desktop.google.com.ua\",\"orientation\":\"v\",\"showlegend\":true,\"x\":[\"2017-04-01\",\"2017-05-01\",\"2017-06-01\"],\"xaxis\":\"x\",\"y\":[1,5,5],\"yaxis\":\"y\",\"type\":\"scatter\"},{\"hovertemplate\":\"source=espanol.search.yahoo.com<br>month=%{x}<br>total_visits=%{y}<extra></extra>\",\"legendgroup\":\"espanol.search.yahoo.com\",\"line\":{\"color\":\"#B6E880\",\"dash\":\"solid\",\"shape\":\"spline\"},\"marker\":{\"symbol\":\"circle\"},\"mode\":\"markers+lines\",\"name\":\"espanol.search.yahoo.com\",\"orientation\":\"v\",\"showlegend\":true,\"x\":[\"2017-04-01\"],\"xaxis\":\"x\",\"y\":[1],\"yaxis\":\"y\",\"type\":\"scatter\"},{\"hovertemplate\":\"source=en.wikipedia.org<br>month=%{x}<br>total_visits=%{y}<extra></extra>\",\"legendgroup\":\"en.wikipedia.org\",\"line\":{\"color\":\"#FF97FF\",\"dash\":\"solid\",\"shape\":\"spline\"},\"marker\":{\"symbol\":\"circle\"},\"mode\":\"markers+lines\",\"name\":\"en.wikipedia.org\",\"orientation\":\"v\",\"showlegend\":true,\"x\":[\"2017-05-01\"],\"xaxis\":\"x\",\"y\":[6],\"yaxis\":\"y\",\"type\":\"scatter\"},{\"hovertemplate\":\"source=search.myway.com<br>month=%{x}<br>total_visits=%{y}<extra></extra>\",\"legendgroup\":\"search.myway.com\",\"line\":{\"color\":\"#FECB52\",\"dash\":\"solid\",\"shape\":\"spline\"},\"marker\":{\"symbol\":\"circle\"},\"mode\":\"markers+lines\",\"name\":\"search.myway.com\",\"orientation\":\"v\",\"showlegend\":true,\"x\":[\"2017-05-01\",\"2017-06-01\"],\"xaxis\":\"x\",\"y\":[3,5],\"yaxis\":\"y\",\"type\":\"scatter\"},{\"hovertemplate\":\"source=kik.com<br>month=%{x}<br>total_visits=%{y}<extra></extra>\",\"legendgroup\":\"kik.com\",\"line\":{\"color\":\"#636efa\",\"dash\":\"solid\",\"shape\":\"spline\"},\"marker\":{\"symbol\":\"circle\"},\"mode\":\"markers+lines\",\"name\":\"kik.com\",\"orientation\":\"v\",\"showlegend\":true,\"x\":[\"2017-05-01\",\"2017-07-01\"],\"xaxis\":\"x\",\"y\":[3,1],\"yaxis\":\"y\",\"type\":\"scatter\"},{\"hovertemplate\":\"source=computerworld.com<br>month=%{x}<br>total_visits=%{y}<extra></extra>\",\"legendgroup\":\"computerworld.com\",\"line\":{\"color\":\"#EF553B\",\"dash\":\"solid\",\"shape\":\"spline\"},\"marker\":{\"symbol\":\"circle\"},\"mode\":\"markers+lines\",\"name\":\"computerworld.com\",\"orientation\":\"v\",\"showlegend\":true,\"x\":[\"2017-05-01\"],\"xaxis\":\"x\",\"y\":[1],\"yaxis\":\"y\",\"type\":\"scatter\"},{\"hovertemplate\":\"source=cc.csusm.edu<br>month=%{x}<br>total_visits=%{y}<extra></extra>\",\"legendgroup\":\"cc.csusm.edu\",\"line\":{\"color\":\"#00cc96\",\"dash\":\"solid\",\"shape\":\"spline\"},\"marker\":{\"symbol\":\"circle\"},\"mode\":\"markers+lines\",\"name\":\"cc.csusm.edu\",\"orientation\":\"v\",\"showlegend\":true,\"x\":[\"2017-05-01\"],\"xaxis\":\"x\",\"y\":[1],\"yaxis\":\"y\",\"type\":\"scatter\"},{\"hovertemplate\":\"source=getiriver.com<br>month=%{x}<br>total_visits=%{y}<extra></extra>\",\"legendgroup\":\"getiriver.com\",\"line\":{\"color\":\"#ab63fa\",\"dash\":\"solid\",\"shape\":\"spline\"},\"marker\":{\"symbol\":\"circle\"},\"mode\":\"markers+lines\",\"name\":\"getiriver.com\",\"orientation\":\"v\",\"showlegend\":true,\"x\":[\"2017-05-01\",\"2017-06-01\"],\"xaxis\":\"x\",\"y\":[1,1],\"yaxis\":\"y\",\"type\":\"scatter\"},{\"hovertemplate\":\"source=so.com<br>month=%{x}<br>total_visits=%{y}<extra></extra>\",\"legendgroup\":\"so.com\",\"line\":{\"color\":\"#FFA15A\",\"dash\":\"solid\",\"shape\":\"spline\"},\"marker\":{\"symbol\":\"circle\"},\"mode\":\"markers+lines\",\"name\":\"so.com\",\"orientation\":\"v\",\"showlegend\":true,\"x\":[\"2017-05-01\"],\"xaxis\":\"x\",\"y\":[1],\"yaxis\":\"y\",\"type\":\"scatter\"},{\"hovertemplate\":\"source=google.co.za<br>month=%{x}<br>total_visits=%{y}<extra></extra>\",\"legendgroup\":\"google.co.za\",\"line\":{\"color\":\"#19d3f3\",\"dash\":\"solid\",\"shape\":\"spline\"},\"marker\":{\"symbol\":\"circle\"},\"mode\":\"markers+lines\",\"name\":\"google.co.za\",\"orientation\":\"v\",\"showlegend\":true,\"x\":[\"2017-05-01\"],\"xaxis\":\"x\",\"y\":[1],\"yaxis\":\"y\",\"type\":\"scatter\"},{\"hovertemplate\":\"source=online.fullsail.edu<br>month=%{x}<br>total_visits=%{y}<extra></extra>\",\"legendgroup\":\"online.fullsail.edu\",\"line\":{\"color\":\"#FF6692\",\"dash\":\"solid\",\"shape\":\"spline\"},\"marker\":{\"symbol\":\"circle\"},\"mode\":\"markers+lines\",\"name\":\"online.fullsail.edu\",\"orientation\":\"v\",\"showlegend\":true,\"x\":[\"2017-05-01\",\"2017-06-01\",\"2017-07-01\"],\"xaxis\":\"x\",\"y\":[1,1,1],\"yaxis\":\"y\",\"type\":\"scatter\"},{\"hovertemplate\":\"source=google.cl<br>month=%{x}<br>total_visits=%{y}<extra></extra>\",\"legendgroup\":\"google.cl\",\"line\":{\"color\":\"#B6E880\",\"dash\":\"solid\",\"shape\":\"spline\"},\"marker\":{\"symbol\":\"circle\"},\"mode\":\"markers+lines\",\"name\":\"google.cl\",\"orientation\":\"v\",\"showlegend\":true,\"x\":[\"2017-05-01\",\"2017-07-01\"],\"xaxis\":\"x\",\"y\":[1,2],\"yaxis\":\"y\",\"type\":\"scatter\"},{\"hovertemplate\":\"source=malaysia.search.yahoo.com<br>month=%{x}<br>total_visits=%{y}<extra></extra>\",\"legendgroup\":\"malaysia.search.yahoo.com\",\"line\":{\"color\":\"#FF97FF\",\"dash\":\"solid\",\"shape\":\"spline\"},\"marker\":{\"symbol\":\"circle\"},\"mode\":\"markers+lines\",\"name\":\"malaysia.search.yahoo.com\",\"orientation\":\"v\",\"showlegend\":true,\"x\":[\"2017-06-01\",\"2017-07-01\"],\"xaxis\":\"x\",\"y\":[5,1],\"yaxis\":\"y\",\"type\":\"scatter\"},{\"hovertemplate\":\"source=google.com.ua<br>month=%{x}<br>total_visits=%{y}<extra></extra>\",\"legendgroup\":\"google.com.ua\",\"line\":{\"color\":\"#FECB52\",\"dash\":\"solid\",\"shape\":\"spline\"},\"marker\":{\"symbol\":\"circle\"},\"mode\":\"markers+lines\",\"name\":\"google.com.ua\",\"orientation\":\"v\",\"showlegend\":true,\"x\":[\"2017-06-01\"],\"xaxis\":\"x\",\"y\":[3],\"yaxis\":\"y\",\"type\":\"scatter\"},{\"hovertemplate\":\"source=nl.search.yahoo.com<br>month=%{x}<br>total_visits=%{y}<extra></extra>\",\"legendgroup\":\"nl.search.yahoo.com\",\"line\":{\"color\":\"#636efa\",\"dash\":\"solid\",\"shape\":\"spline\"},\"marker\":{\"symbol\":\"circle\"},\"mode\":\"markers+lines\",\"name\":\"nl.search.yahoo.com\",\"orientation\":\"v\",\"showlegend\":true,\"x\":[\"2017-06-01\"],\"xaxis\":\"x\",\"y\":[2],\"yaxis\":\"y\",\"type\":\"scatter\"},{\"hovertemplate\":\"source=admin.globalaccess.com<br>month=%{x}<br>total_visits=%{y}<extra></extra>\",\"legendgroup\":\"admin.globalaccess.com\",\"line\":{\"color\":\"#EF553B\",\"dash\":\"solid\",\"shape\":\"spline\"},\"marker\":{\"symbol\":\"circle\"},\"mode\":\"markers+lines\",\"name\":\"admin.globalaccess.com\",\"orientation\":\"v\",\"showlegend\":true,\"x\":[\"2017-06-01\"],\"xaxis\":\"x\",\"y\":[2],\"yaxis\":\"y\",\"type\":\"scatter\"},{\"hovertemplate\":\"source=staging.talkgadget.google.com<br>month=%{x}<br>total_visits=%{y}<extra></extra>\",\"legendgroup\":\"staging.talkgadget.google.com\",\"line\":{\"color\":\"#00cc96\",\"dash\":\"solid\",\"shape\":\"spline\"},\"marker\":{\"symbol\":\"circle\"},\"mode\":\"markers+lines\",\"name\":\"staging.talkgadget.google.com\",\"orientation\":\"v\",\"showlegend\":true,\"x\":[\"2017-06-01\"],\"xaxis\":\"x\",\"y\":[2],\"yaxis\":\"y\",\"type\":\"scatter\"},{\"hovertemplate\":\"source=meetup.com<br>month=%{x}<br>total_visits=%{y}<extra></extra>\",\"legendgroup\":\"meetup.com\",\"line\":{\"color\":\"#ab63fa\",\"dash\":\"solid\",\"shape\":\"spline\"},\"marker\":{\"symbol\":\"circle\"},\"mode\":\"markers+lines\",\"name\":\"meetup.com\",\"orientation\":\"v\",\"showlegend\":true,\"x\":[\"2017-06-01\"],\"xaxis\":\"x\",\"y\":[1],\"yaxis\":\"y\",\"type\":\"scatter\"},{\"hovertemplate\":\"source=mail.aol.com<br>month=%{x}<br>total_visits=%{y}<extra></extra>\",\"legendgroup\":\"mail.aol.com\",\"line\":{\"color\":\"#FFA15A\",\"dash\":\"solid\",\"shape\":\"spline\"},\"marker\":{\"symbol\":\"circle\"},\"mode\":\"markers+lines\",\"name\":\"mail.aol.com\",\"orientation\":\"v\",\"showlegend\":true,\"x\":[\"2017-06-01\"],\"xaxis\":\"x\",\"y\":[1],\"yaxis\":\"y\",\"type\":\"scatter\"},{\"hovertemplate\":\"source=m.yz.sm.cn<br>month=%{x}<br>total_visits=%{y}<extra></extra>\",\"legendgroup\":\"m.yz.sm.cn\",\"line\":{\"color\":\"#19d3f3\",\"dash\":\"solid\",\"shape\":\"spline\"},\"marker\":{\"symbol\":\"circle\"},\"mode\":\"markers+lines\",\"name\":\"m.yz.sm.cn\",\"orientation\":\"v\",\"showlegend\":true,\"x\":[\"2017-06-01\",\"2017-07-01\"],\"xaxis\":\"x\",\"y\":[1,7],\"yaxis\":\"y\",\"type\":\"scatter\"},{\"hovertemplate\":\"source=int.search.mywebsearch.com<br>month=%{x}<br>total_visits=%{y}<extra></extra>\",\"legendgroup\":\"int.search.mywebsearch.com\",\"line\":{\"color\":\"#FF6692\",\"dash\":\"solid\",\"shape\":\"spline\"},\"marker\":{\"symbol\":\"circle\"},\"mode\":\"markers+lines\",\"name\":\"int.search.mywebsearch.com\",\"orientation\":\"v\",\"showlegend\":true,\"x\":[\"2017-06-01\"],\"xaxis\":\"x\",\"y\":[1],\"yaxis\":\"y\",\"type\":\"scatter\"},{\"hovertemplate\":\"source=gsuite.google.com<br>month=%{x}<br>total_visits=%{y}<extra></extra>\",\"legendgroup\":\"gsuite.google.com\",\"line\":{\"color\":\"#B6E880\",\"dash\":\"solid\",\"shape\":\"spline\"},\"marker\":{\"symbol\":\"circle\"},\"mode\":\"markers+lines\",\"name\":\"gsuite.google.com\",\"orientation\":\"v\",\"showlegend\":true,\"x\":[\"2017-06-01\"],\"xaxis\":\"x\",\"y\":[1],\"yaxis\":\"y\",\"type\":\"scatter\"},{\"hovertemplate\":\"source=centrum.cz<br>month=%{x}<br>total_visits=%{y}<extra></extra>\",\"legendgroup\":\"centrum.cz\",\"line\":{\"color\":\"#FF97FF\",\"dash\":\"solid\",\"shape\":\"spline\"},\"marker\":{\"symbol\":\"circle\"},\"mode\":\"markers+lines\",\"name\":\"centrum.cz\",\"orientation\":\"v\",\"showlegend\":true,\"x\":[\"2017-06-01\",\"2017-07-01\"],\"xaxis\":\"x\",\"y\":[1,2],\"yaxis\":\"y\",\"type\":\"scatter\"},{\"hovertemplate\":\"source=google.com.pe<br>month=%{x}<br>total_visits=%{y}<extra></extra>\",\"legendgroup\":\"google.com.pe\",\"line\":{\"color\":\"#FECB52\",\"dash\":\"solid\",\"shape\":\"spline\"},\"marker\":{\"symbol\":\"circle\"},\"mode\":\"markers+lines\",\"name\":\"google.com.pe\",\"orientation\":\"v\",\"showlegend\":true,\"x\":[\"2017-06-01\"],\"xaxis\":\"x\",\"y\":[1],\"yaxis\":\"y\",\"type\":\"scatter\"},{\"hovertemplate\":\"source=wap.sogou.com<br>month=%{x}<br>total_visits=%{y}<extra></extra>\",\"legendgroup\":\"wap.sogou.com\",\"line\":{\"color\":\"#636efa\",\"dash\":\"solid\",\"shape\":\"spline\"},\"marker\":{\"symbol\":\"circle\"},\"mode\":\"markers+lines\",\"name\":\"wap.sogou.com\",\"orientation\":\"v\",\"showlegend\":true,\"x\":[\"2017-07-01\"],\"xaxis\":\"x\",\"y\":[2],\"yaxis\":\"y\",\"type\":\"scatter\"},{\"hovertemplate\":\"source=m.sp.sm.cn<br>month=%{x}<br>total_visits=%{y}<extra></extra>\",\"legendgroup\":\"m.sp.sm.cn\",\"line\":{\"color\":\"#EF553B\",\"dash\":\"solid\",\"shape\":\"spline\"},\"marker\":{\"symbol\":\"circle\"},\"mode\":\"markers+lines\",\"name\":\"m.sp.sm.cn\",\"orientation\":\"v\",\"showlegend\":true,\"x\":[\"2017-07-01\"],\"xaxis\":\"x\",\"y\":[2],\"yaxis\":\"y\",\"type\":\"scatter\"},{\"hovertemplate\":\"source=moodle.aurora.edu<br>month=%{x}<br>total_visits=%{y}<extra></extra>\",\"legendgroup\":\"moodle.aurora.edu\",\"line\":{\"color\":\"#00cc96\",\"dash\":\"solid\",\"shape\":\"spline\"},\"marker\":{\"symbol\":\"circle\"},\"mode\":\"markers+lines\",\"name\":\"moodle.aurora.edu\",\"orientation\":\"v\",\"showlegend\":true,\"x\":[\"2017-07-01\"],\"xaxis\":\"x\",\"y\":[2],\"yaxis\":\"y\",\"type\":\"scatter\"},{\"hovertemplate\":\"source=amp.reddit.com<br>month=%{x}<br>total_visits=%{y}<extra></extra>\",\"legendgroup\":\"amp.reddit.com\",\"line\":{\"color\":\"#ab63fa\",\"dash\":\"solid\",\"shape\":\"spline\"},\"marker\":{\"symbol\":\"circle\"},\"mode\":\"markers+lines\",\"name\":\"amp.reddit.com\",\"orientation\":\"v\",\"showlegend\":true,\"x\":[\"2017-07-01\"],\"xaxis\":\"x\",\"y\":[2],\"yaxis\":\"y\",\"type\":\"scatter\"},{\"hovertemplate\":\"source=calendar.google.com<br>month=%{x}<br>total_visits=%{y}<extra></extra>\",\"legendgroup\":\"calendar.google.com\",\"line\":{\"color\":\"#FFA15A\",\"dash\":\"solid\",\"shape\":\"spline\"},\"marker\":{\"symbol\":\"circle\"},\"mode\":\"markers+lines\",\"name\":\"calendar.google.com\",\"orientation\":\"v\",\"showlegend\":true,\"x\":[\"2017-07-01\"],\"xaxis\":\"x\",\"y\":[2],\"yaxis\":\"y\",\"type\":\"scatter\"},{\"hovertemplate\":\"source=google.bg<br>month=%{x}<br>total_visits=%{y}<extra></extra>\",\"legendgroup\":\"google.bg\",\"line\":{\"color\":\"#19d3f3\",\"dash\":\"solid\",\"shape\":\"spline\"},\"marker\":{\"symbol\":\"circle\"},\"mode\":\"markers+lines\",\"name\":\"google.bg\",\"orientation\":\"v\",\"showlegend\":true,\"x\":[\"2017-07-01\"],\"xaxis\":\"x\",\"y\":[1],\"yaxis\":\"y\",\"type\":\"scatter\"},{\"hovertemplate\":\"source=it.pinterest.com<br>month=%{x}<br>total_visits=%{y}<extra></extra>\",\"legendgroup\":\"it.pinterest.com\",\"line\":{\"color\":\"#FF6692\",\"dash\":\"solid\",\"shape\":\"spline\"},\"marker\":{\"symbol\":\"circle\"},\"mode\":\"markers+lines\",\"name\":\"it.pinterest.com\",\"orientation\":\"v\",\"showlegend\":true,\"x\":[\"2017-07-01\"],\"xaxis\":\"x\",\"y\":[1],\"yaxis\":\"y\",\"type\":\"scatter\"},{\"hovertemplate\":\"source=mx.search.yahoo.com<br>month=%{x}<br>total_visits=%{y}<extra></extra>\",\"legendgroup\":\"mx.search.yahoo.com\",\"line\":{\"color\":\"#B6E880\",\"dash\":\"solid\",\"shape\":\"spline\"},\"marker\":{\"symbol\":\"circle\"},\"mode\":\"markers+lines\",\"name\":\"mx.search.yahoo.com\",\"orientation\":\"v\",\"showlegend\":true,\"x\":[\"2017-07-01\"],\"xaxis\":\"x\",\"y\":[1],\"yaxis\":\"y\",\"type\":\"scatter\"},{\"hovertemplate\":\"source=images.google.com.au<br>month=%{x}<br>total_visits=%{y}<extra></extra>\",\"legendgroup\":\"images.google.com.au\",\"line\":{\"color\":\"#FF97FF\",\"dash\":\"solid\",\"shape\":\"spline\"},\"marker\":{\"symbol\":\"circle\"},\"mode\":\"markers+lines\",\"name\":\"images.google.com.au\",\"orientation\":\"v\",\"showlegend\":true,\"x\":[\"2017-07-01\"],\"xaxis\":\"x\",\"y\":[1],\"yaxis\":\"y\",\"type\":\"scatter\"},{\"hovertemplate\":\"source=earth.google.com<br>month=%{x}<br>total_visits=%{y}<extra></extra>\",\"legendgroup\":\"earth.google.com\",\"line\":{\"color\":\"#FECB52\",\"dash\":\"solid\",\"shape\":\"spline\"},\"marker\":{\"symbol\":\"circle\"},\"mode\":\"markers+lines\",\"name\":\"earth.google.com\",\"orientation\":\"v\",\"showlegend\":true,\"x\":[\"2017-07-01\"],\"xaxis\":\"x\",\"y\":[1],\"yaxis\":\"y\",\"type\":\"scatter\"},{\"hovertemplate\":\"source=news.ycombinator.com<br>month=%{x}<br>total_visits=%{y}<extra></extra>\",\"legendgroup\":\"news.ycombinator.com\",\"line\":{\"color\":\"#636efa\",\"dash\":\"solid\",\"shape\":\"spline\"},\"marker\":{\"symbol\":\"circle\"},\"mode\":\"markers+lines\",\"name\":\"news.ycombinator.com\",\"orientation\":\"v\",\"showlegend\":true,\"x\":[\"2017-07-01\"],\"xaxis\":\"x\",\"y\":[1],\"yaxis\":\"y\",\"type\":\"scatter\"},{\"hovertemplate\":\"source=arstechnica.com<br>month=%{x}<br>total_visits=%{y}<extra></extra>\",\"legendgroup\":\"arstechnica.com\",\"line\":{\"color\":\"#EF553B\",\"dash\":\"solid\",\"shape\":\"spline\"},\"marker\":{\"symbol\":\"circle\"},\"mode\":\"markers+lines\",\"name\":\"arstechnica.com\",\"orientation\":\"v\",\"showlegend\":true,\"x\":[\"2017-07-01\"],\"xaxis\":\"x\",\"y\":[1],\"yaxis\":\"y\",\"type\":\"scatter\"},{\"hovertemplate\":\"source=newclasses.nyu.edu<br>month=%{x}<br>total_visits=%{y}<extra></extra>\",\"legendgroup\":\"newclasses.nyu.edu\",\"line\":{\"color\":\"#00cc96\",\"dash\":\"solid\",\"shape\":\"spline\"},\"marker\":{\"symbol\":\"circle\"},\"mode\":\"markers+lines\",\"name\":\"newclasses.nyu.edu\",\"orientation\":\"v\",\"showlegend\":true,\"x\":[\"2017-07-01\"],\"xaxis\":\"x\",\"y\":[1],\"yaxis\":\"y\",\"type\":\"scatter\"}],                        {\"template\":{\"data\":{\"histogram2dcontour\":[{\"type\":\"histogram2dcontour\",\"colorbar\":{\"outlinewidth\":0,\"ticks\":\"\"},\"colorscale\":[[0.0,\"#0d0887\"],[0.1111111111111111,\"#46039f\"],[0.2222222222222222,\"#7201a8\"],[0.3333333333333333,\"#9c179e\"],[0.4444444444444444,\"#bd3786\"],[0.5555555555555556,\"#d8576b\"],[0.6666666666666666,\"#ed7953\"],[0.7777777777777778,\"#fb9f3a\"],[0.8888888888888888,\"#fdca26\"],[1.0,\"#f0f921\"]]}],\"choropleth\":[{\"type\":\"choropleth\",\"colorbar\":{\"outlinewidth\":0,\"ticks\":\"\"}}],\"histogram2d\":[{\"type\":\"histogram2d\",\"colorbar\":{\"outlinewidth\":0,\"ticks\":\"\"},\"colorscale\":[[0.0,\"#0d0887\"],[0.1111111111111111,\"#46039f\"],[0.2222222222222222,\"#7201a8\"],[0.3333333333333333,\"#9c179e\"],[0.4444444444444444,\"#bd3786\"],[0.5555555555555556,\"#d8576b\"],[0.6666666666666666,\"#ed7953\"],[0.7777777777777778,\"#fb9f3a\"],[0.8888888888888888,\"#fdca26\"],[1.0,\"#f0f921\"]]}],\"heatmap\":[{\"type\":\"heatmap\",\"colorbar\":{\"outlinewidth\":0,\"ticks\":\"\"},\"colorscale\":[[0.0,\"#0d0887\"],[0.1111111111111111,\"#46039f\"],[0.2222222222222222,\"#7201a8\"],[0.3333333333333333,\"#9c179e\"],[0.4444444444444444,\"#bd3786\"],[0.5555555555555556,\"#d8576b\"],[0.6666666666666666,\"#ed7953\"],[0.7777777777777778,\"#fb9f3a\"],[0.8888888888888888,\"#fdca26\"],[1.0,\"#f0f921\"]]}],\"heatmapgl\":[{\"type\":\"heatmapgl\",\"colorbar\":{\"outlinewidth\":0,\"ticks\":\"\"},\"colorscale\":[[0.0,\"#0d0887\"],[0.1111111111111111,\"#46039f\"],[0.2222222222222222,\"#7201a8\"],[0.3333333333333333,\"#9c179e\"],[0.4444444444444444,\"#bd3786\"],[0.5555555555555556,\"#d8576b\"],[0.6666666666666666,\"#ed7953\"],[0.7777777777777778,\"#fb9f3a\"],[0.8888888888888888,\"#fdca26\"],[1.0,\"#f0f921\"]]}],\"contourcarpet\":[{\"type\":\"contourcarpet\",\"colorbar\":{\"outlinewidth\":0,\"ticks\":\"\"}}],\"contour\":[{\"type\":\"contour\",\"colorbar\":{\"outlinewidth\":0,\"ticks\":\"\"},\"colorscale\":[[0.0,\"#0d0887\"],[0.1111111111111111,\"#46039f\"],[0.2222222222222222,\"#7201a8\"],[0.3333333333333333,\"#9c179e\"],[0.4444444444444444,\"#bd3786\"],[0.5555555555555556,\"#d8576b\"],[0.6666666666666666,\"#ed7953\"],[0.7777777777777778,\"#fb9f3a\"],[0.8888888888888888,\"#fdca26\"],[1.0,\"#f0f921\"]]}],\"surface\":[{\"type\":\"surface\",\"colorbar\":{\"outlinewidth\":0,\"ticks\":\"\"},\"colorscale\":[[0.0,\"#0d0887\"],[0.1111111111111111,\"#46039f\"],[0.2222222222222222,\"#7201a8\"],[0.3333333333333333,\"#9c179e\"],[0.4444444444444444,\"#bd3786\"],[0.5555555555555556,\"#d8576b\"],[0.6666666666666666,\"#ed7953\"],[0.7777777777777778,\"#fb9f3a\"],[0.8888888888888888,\"#fdca26\"],[1.0,\"#f0f921\"]]}],\"mesh3d\":[{\"type\":\"mesh3d\",\"colorbar\":{\"outlinewidth\":0,\"ticks\":\"\"}}],\"scatter\":[{\"fillpattern\":{\"fillmode\":\"overlay\",\"size\":10,\"solidity\":0.2},\"type\":\"scatter\"}],\"parcoords\":[{\"type\":\"parcoords\",\"line\":{\"colorbar\":{\"outlinewidth\":0,\"ticks\":\"\"}}}],\"scatterpolargl\":[{\"type\":\"scatterpolargl\",\"marker\":{\"colorbar\":{\"outlinewidth\":0,\"ticks\":\"\"}}}],\"bar\":[{\"error_x\":{\"color\":\"#2a3f5f\"},\"error_y\":{\"color\":\"#2a3f5f\"},\"marker\":{\"line\":{\"color\":\"#E5ECF6\",\"width\":0.5},\"pattern\":{\"fillmode\":\"overlay\",\"size\":10,\"solidity\":0.2}},\"type\":\"bar\"}],\"scattergeo\":[{\"type\":\"scattergeo\",\"marker\":{\"colorbar\":{\"outlinewidth\":0,\"ticks\":\"\"}}}],\"scatterpolar\":[{\"type\":\"scatterpolar\",\"marker\":{\"colorbar\":{\"outlinewidth\":0,\"ticks\":\"\"}}}],\"histogram\":[{\"marker\":{\"pattern\":{\"fillmode\":\"overlay\",\"size\":10,\"solidity\":0.2}},\"type\":\"histogram\"}],\"scattergl\":[{\"type\":\"scattergl\",\"marker\":{\"colorbar\":{\"outlinewidth\":0,\"ticks\":\"\"}}}],\"scatter3d\":[{\"type\":\"scatter3d\",\"line\":{\"colorbar\":{\"outlinewidth\":0,\"ticks\":\"\"}},\"marker\":{\"colorbar\":{\"outlinewidth\":0,\"ticks\":\"\"}}}],\"scattermapbox\":[{\"type\":\"scattermapbox\",\"marker\":{\"colorbar\":{\"outlinewidth\":0,\"ticks\":\"\"}}}],\"scatterternary\":[{\"type\":\"scatterternary\",\"marker\":{\"colorbar\":{\"outlinewidth\":0,\"ticks\":\"\"}}}],\"scattercarpet\":[{\"type\":\"scattercarpet\",\"marker\":{\"colorbar\":{\"outlinewidth\":0,\"ticks\":\"\"}}}],\"carpet\":[{\"aaxis\":{\"endlinecolor\":\"#2a3f5f\",\"gridcolor\":\"white\",\"linecolor\":\"white\",\"minorgridcolor\":\"white\",\"startlinecolor\":\"#2a3f5f\"},\"baxis\":{\"endlinecolor\":\"#2a3f5f\",\"gridcolor\":\"white\",\"linecolor\":\"white\",\"minorgridcolor\":\"white\",\"startlinecolor\":\"#2a3f5f\"},\"type\":\"carpet\"}],\"table\":[{\"cells\":{\"fill\":{\"color\":\"#EBF0F8\"},\"line\":{\"color\":\"white\"}},\"header\":{\"fill\":{\"color\":\"#C8D4E3\"},\"line\":{\"color\":\"white\"}},\"type\":\"table\"}],\"barpolar\":[{\"marker\":{\"line\":{\"color\":\"#E5ECF6\",\"width\":0.5},\"pattern\":{\"fillmode\":\"overlay\",\"size\":10,\"solidity\":0.2}},\"type\":\"barpolar\"}],\"pie\":[{\"automargin\":true,\"type\":\"pie\"}]},\"layout\":{\"autotypenumbers\":\"strict\",\"colorway\":[\"#636efa\",\"#EF553B\",\"#00cc96\",\"#ab63fa\",\"#FFA15A\",\"#19d3f3\",\"#FF6692\",\"#B6E880\",\"#FF97FF\",\"#FECB52\"],\"font\":{\"color\":\"#2a3f5f\"},\"hovermode\":\"closest\",\"hoverlabel\":{\"align\":\"left\"},\"paper_bgcolor\":\"white\",\"plot_bgcolor\":\"#E5ECF6\",\"polar\":{\"bgcolor\":\"#E5ECF6\",\"angularaxis\":{\"gridcolor\":\"white\",\"linecolor\":\"white\",\"ticks\":\"\"},\"radialaxis\":{\"gridcolor\":\"white\",\"linecolor\":\"white\",\"ticks\":\"\"}},\"ternary\":{\"bgcolor\":\"#E5ECF6\",\"aaxis\":{\"gridcolor\":\"white\",\"linecolor\":\"white\",\"ticks\":\"\"},\"baxis\":{\"gridcolor\":\"white\",\"linecolor\":\"white\",\"ticks\":\"\"},\"caxis\":{\"gridcolor\":\"white\",\"linecolor\":\"white\",\"ticks\":\"\"}},\"coloraxis\":{\"colorbar\":{\"outlinewidth\":0,\"ticks\":\"\"}},\"colorscale\":{\"sequential\":[[0.0,\"#0d0887\"],[0.1111111111111111,\"#46039f\"],[0.2222222222222222,\"#7201a8\"],[0.3333333333333333,\"#9c179e\"],[0.4444444444444444,\"#bd3786\"],[0.5555555555555556,\"#d8576b\"],[0.6666666666666666,\"#ed7953\"],[0.7777777777777778,\"#fb9f3a\"],[0.8888888888888888,\"#fdca26\"],[1.0,\"#f0f921\"]],\"sequentialminus\":[[0.0,\"#0d0887\"],[0.1111111111111111,\"#46039f\"],[0.2222222222222222,\"#7201a8\"],[0.3333333333333333,\"#9c179e\"],[0.4444444444444444,\"#bd3786\"],[0.5555555555555556,\"#d8576b\"],[0.6666666666666666,\"#ed7953\"],[0.7777777777777778,\"#fb9f3a\"],[0.8888888888888888,\"#fdca26\"],[1.0,\"#f0f921\"]],\"diverging\":[[0,\"#8e0152\"],[0.1,\"#c51b7d\"],[0.2,\"#de77ae\"],[0.3,\"#f1b6da\"],[0.4,\"#fde0ef\"],[0.5,\"#f7f7f7\"],[0.6,\"#e6f5d0\"],[0.7,\"#b8e186\"],[0.8,\"#7fbc41\"],[0.9,\"#4d9221\"],[1,\"#276419\"]]},\"xaxis\":{\"gridcolor\":\"white\",\"linecolor\":\"white\",\"ticks\":\"\",\"title\":{\"standoff\":15},\"zerolinecolor\":\"white\",\"automargin\":true,\"zerolinewidth\":2},\"yaxis\":{\"gridcolor\":\"white\",\"linecolor\":\"white\",\"ticks\":\"\",\"title\":{\"standoff\":15},\"zerolinecolor\":\"white\",\"automargin\":true,\"zerolinewidth\":2},\"scene\":{\"xaxis\":{\"backgroundcolor\":\"#E5ECF6\",\"gridcolor\":\"white\",\"linecolor\":\"white\",\"showbackground\":true,\"ticks\":\"\",\"zerolinecolor\":\"white\",\"gridwidth\":2},\"yaxis\":{\"backgroundcolor\":\"#E5ECF6\",\"gridcolor\":\"white\",\"linecolor\":\"white\",\"showbackground\":true,\"ticks\":\"\",\"zerolinecolor\":\"white\",\"gridwidth\":2},\"zaxis\":{\"backgroundcolor\":\"#E5ECF6\",\"gridcolor\":\"white\",\"linecolor\":\"white\",\"showbackground\":true,\"ticks\":\"\",\"zerolinecolor\":\"white\",\"gridwidth\":2}},\"shapedefaults\":{\"line\":{\"color\":\"#2a3f5f\"}},\"annotationdefaults\":{\"arrowcolor\":\"#2a3f5f\",\"arrowhead\":0,\"arrowwidth\":1},\"geo\":{\"bgcolor\":\"white\",\"landcolor\":\"#E5ECF6\",\"subunitcolor\":\"white\",\"showland\":true,\"showlakes\":true,\"lakecolor\":\"white\"},\"title\":{\"x\":0.05},\"mapbox\":{\"style\":\"light\"}}},\"xaxis\":{\"anchor\":\"y\",\"domain\":[0.0,1.0],\"title\":{\"text\":\"Month\"}},\"yaxis\":{\"anchor\":\"x\",\"domain\":[0.0,1.0],\"title\":{\"text\":\"Total Visits\"}},\"legend\":{\"title\":{\"text\":\"Source\"},\"tracegroupgap\":0},\"title\":{\"text\":\"Monthly Traffic Volume by Source\"}},                        {\"responsive\": true}                    ).then(function(){\n",
       "                            \n",
       "var gd = document.getElementById('caa7781c-4594-40bf-a984-bbf84902756e');\n",
       "var x = new MutationObserver(function (mutations, observer) {{\n",
       "        var display = window.getComputedStyle(gd).display;\n",
       "        if (!display || display === 'none') {{\n",
       "            console.log([gd, 'removed!']);\n",
       "            Plotly.purge(gd);\n",
       "            observer.disconnect();\n",
       "        }}\n",
       "}});\n",
       "\n",
       "// Listen for the removal of the full notebook cells\n",
       "var notebookContainer = gd.closest('#notebook-container');\n",
       "if (notebookContainer) {{\n",
       "    x.observe(notebookContainer, {childList: true});\n",
       "}}\n",
       "\n",
       "// Listen for the clearing of the current output cell\n",
       "var outputEl = gd.closest('.output');\n",
       "if (outputEl) {{\n",
       "    x.observe(outputEl, {childList: true});\n",
       "}}\n",
       "\n",
       "                        })                };                });            </script>        </div>"
      ]
     },
     "metadata": {},
     "output_type": "display_data"
    }
   ],
   "source": [
    "fig = px.line(df, x='month', y='total_visits', color='source',\n",
    "              title='Monthly Traffic Volume by Source',\n",
    "              markers=True, line_shape='spline')\n",
    "\n",
    "fig.update_layout(xaxis_title='Month', yaxis_title='Total Visits', legend_title='Source')\n",
    "fig.show()"
   ]
  },
  {
   "cell_type": "markdown",
   "id": "71548682",
   "metadata": {},
   "source": [
    "As we can see in our line chart dpicting diverse traffic channels, a few salient observations come into focus:\n",
    "\n",
    "1. **Growth in Organic Search:** The standout trend centers around the sustained growth in organic search traffic. This upward trajectory suggest an encouraging narrative of users organically discovering and engaging with the content.\n",
    "\n",
    "2. **Fluctuating Direct Traffic:** The direct traffic inflows chart shows fluctuations. Some periods register spikes, others see a dip. The unpredictability of this pattern merits a closer analysis. It would be useful to understand what contributes to the instability in this cannel.\n",
    "\n",
    "3. **Dimishing YouTube0Sourced Traffic:** Another insight emerges from the diminishing traffic originated from YouTube sources. This decline is a warning to check this channel in detail. Are there shifts in content? Are we changing engagement strategies? Or maybe there are changes in the YouTube algorithm that could be influencing this reduction? Addressing this issue would be good to foster growth again.\n",
    "\n",
    "Reflecting on these findings, while organic search displays encouraging growth, it's worth considering the prospect of amplifying our focus on YouTube traffic."
   ]
  },
  {
   "cell_type": "markdown",
   "id": "dc60a4a1",
   "metadata": {},
   "source": [
    "**Areas for Improvement**\n",
    "\n",
    "We've looked closely at our analysis and found pages and products that are doing really well. This information can be really helpful if we can use it to improve the website's search engine optimization (SEO) and making the most of these popular products for marketing purposes.\n",
    "\n",
    "Importantly, there's a growing interest from people around the world, which means we have a chance to increase sales to international customers, but the complexity of this task depends on a few unknown variables at the moment.\n",
    "\n",
    "When it comes to our marketing plan, we've figured out what's growing and stable, which helps us decide where to invest our resources, namely YouTube traffic seems to be dwindling and could do better. We should continue the work with channels that are doing well and paying extra attention to the ones that need some improvement.\n",
    "\n",
    "In a nutshell, these insights sum up our research. With this knowledge, it's possible to adapt the company's approach to better fit customer expectations and expand strategically, engage more with their audience, and maintain a strong presence in the market."
   ]
  },
  {
   "cell_type": "markdown",
   "id": "3da839bc",
   "metadata": {},
   "source": [
    "# Source\n",
    "\n",
    "https://www.kaggle.com/code/leandrocassius/evaluating-store-performance-with-bigquery#Online-Store-Performance:-Insights-from-Google-Analytics-Data-using-BigQuery"
   ]
  }
 ],
 "metadata": {
  "kernelspec": {
   "display_name": "Python 3 (ipykernel)",
   "language": "python",
   "name": "python3"
  },
  "language_info": {
   "codemirror_mode": {
    "name": "ipython",
    "version": 3
   },
   "file_extension": ".py",
   "mimetype": "text/x-python",
   "name": "python",
   "nbconvert_exporter": "python",
   "pygments_lexer": "ipython3",
   "version": "3.11.4"
  }
 },
 "nbformat": 4,
 "nbformat_minor": 5
}
