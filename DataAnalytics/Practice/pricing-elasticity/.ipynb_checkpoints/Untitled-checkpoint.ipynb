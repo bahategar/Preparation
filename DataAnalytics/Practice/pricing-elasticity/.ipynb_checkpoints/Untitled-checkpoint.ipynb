{
 "cells": [
  {
   "cell_type": "code",
   "execution_count": 1,
   "id": "2f0c68e2",
   "metadata": {},
   "outputs": [],
   "source": [
    "import numpy as np\n",
    "import pandas as pd\n",
    "import matplotlib.pyplot as plt\n",
    "from pygam import s, ExpectileGAM"
   ]
  },
  {
   "cell_type": "code",
   "execution_count": 2,
   "id": "1107cd1f",
   "metadata": {},
   "outputs": [],
   "source": [
    "# Data Generation\n",
    "\n",
    "np.random.seed(0)\n",
    "n = 100\n",
    "price = np.sort(np.random.exponential(scale=100, size=n))\n",
    "quantity = 100 - 5 * price + np.random.normal(loc=0, scale=50, size=n)\n",
    "quantity = quantity.clip(min=0)"
   ]
  },
  {
   "cell_type": "code",
   "execution_count": 4,
   "id": "008596c2",
   "metadata": {},
   "outputs": [],
   "source": [
    "# Add outliers\n",
    "n_outliers = 10\n",
    "outlier_prices = np.random.uniform(5, 50, n_outliers)\n",
    "outlier_quantity = 1100 + np.random.normal(loc=0, scale=50, size=n_outliers)\n",
    "price = np.concatenate([price, outlier_prices])\n",
    "quantity = np.concatenate([quantity, outlier_quantity])"
   ]
  },
  {
   "cell_type": "code",
   "execution_count": 5,
   "id": "f2934f3a",
   "metadata": {},
   "outputs": [],
   "source": [
    "# Add outliers 2\n",
    "n_outliers = 10\n",
    "outlier_prices = np.random.uniform(51, 100, n_outliers)\n",
    "outlier_quantity = 900 + np.random.normal(loc=0, scale=50, size=n_outliers)\n",
    "price = np.concatenate([price, outlier_prices])\n",
    "quantity = np.concatenate([quantity, outlier_quantity])"
   ]
  },
  {
   "cell_type": "code",
   "execution_count": 6,
   "id": "b44ac3e2",
   "metadata": {},
   "outputs": [],
   "source": [
    "df = pd.DataFrame({\n",
    "    'Price': price,\n",
    "    'Quantity': quantity\n",
    "})"
   ]
  },
  {
   "cell_type": "code",
   "execution_count": 7,
   "id": "d66e8844",
   "metadata": {},
   "outputs": [],
   "source": [
    "# Filter out prices less than 5\n",
    "\n",
    "df = df[df['Price'] >= 5]"
   ]
  },
  {
   "cell_type": "code",
   "execution_count": 8,
   "id": "f48713cf",
   "metadata": {},
   "outputs": [],
   "source": [
    "# Reshape data\n",
    "X = df['Price']\n",
    "y = df['Quantity']"
   ]
  },
  {
   "cell_type": "code",
   "execution_count": 10,
   "id": "2827d910",
   "metadata": {},
   "outputs": [
    {
     "data": {
      "text/plain": [
       "{0.025: ExpectileGAM(callbacks=[Deviance(), Diffs()], expectile=0.025, \n",
       "    fit_intercept=True, max_iter=100, scale=None, \n",
       "    terms=s(0) + intercept, tol=0.0001, verbose=False),\n",
       " 0.5: ExpectileGAM(callbacks=[Deviance(), Diffs()], expectile=0.5, \n",
       "    fit_intercept=True, max_iter=100, scale=None, \n",
       "    terms=s(0) + intercept, tol=0.0001, verbose=False),\n",
       " 0.975: ExpectileGAM(callbacks=[Deviance(), Diffs()], expectile=0.975, \n",
       "    fit_intercept=True, max_iter=100, scale=None, \n",
       "    terms=s(0) + intercept, tol=0.0001, verbose=False)}"
      ]
     },
     "execution_count": 10,
     "metadata": {},
     "output_type": "execute_result"
    }
   ],
   "source": [
    "# Quantile GAMs\n",
    "\n",
    "quantiles = [0.025, 0.5, 0.975]\n",
    "gam_results = {}\n",
    "\n",
    "for q in quantiles:\n",
    "    gam = ExpectileGAM(s(0), expectile=q)\n",
    "    gam.fit(X, y)\n",
    "    gam_results[q] = gam\n",
    "    \n",
    "gam_results"
   ]
  },
  {
   "cell_type": "code",
   "execution_count": null,
   "id": "caa48f8e",
   "metadata": {},
   "outputs": [],
   "source": [
    "# Visualization\n",
    "\n",
    "plt.figure(figsize=(10, 6))\n",
    "plt.scatter(df['Price'], df['Quantity'], alpha=0.5, label='Data Points')\n",
    "\n",
    "# Plot Quantile GAMs\n"
   ]
  }
 ],
 "metadata": {
  "kernelspec": {
   "display_name": "Python 3 (ipykernel)",
   "language": "python",
   "name": "python3"
  },
  "language_info": {
   "codemirror_mode": {
    "name": "ipython",
    "version": 3
   },
   "file_extension": ".py",
   "mimetype": "text/x-python",
   "name": "python",
   "nbconvert_exporter": "python",
   "pygments_lexer": "ipython3",
   "version": "3.11.4"
  }
 },
 "nbformat": 4,
 "nbformat_minor": 5
}
