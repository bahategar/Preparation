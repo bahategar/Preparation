{
 "cells": [
  {
   "cell_type": "markdown",
   "id": "3b12e5a7",
   "metadata": {},
   "source": [
    "# Introduction"
   ]
  },
  {
   "cell_type": "markdown",
   "id": "4b88b93e",
   "metadata": {},
   "source": [
    "> Regression analysis and regression models are frequently used to model the relationships between the attributes and the outcomes.\n",
    "\n",
    "> Regression analysis estimates the values of output variables by finding a function of the attributes or features that best approximates the output values.\n",
    "\n",
    "> General concept regression polynomial:\n",
    "``` Y = a + b1 X1 + b X2 + ... ```\n",
    "\n",
    "Where: \n",
    "- a = intercept at Y-axis \n",
    "- bi = coefficient (It represents the amount by which dependent variable changes if we change its independent variable by one unit keeping others independent variables constant).\n",
    "\n",
    "In general, we can determine which variable most influences the value of the dependent variable by selecting the highest coefficent. But please make sure that its coefficient is statistically significant by looking its p-value.\n",
    "\n",
    "NOTE: If a coefficient is considered statistically significant, it means that there is strong evidence to suggest that the corresponding independent variable has a non-zero effect on the outcome variable. "
   ]
  },
  {
   "cell_type": "markdown",
   "id": "f1ed1228",
   "metadata": {},
   "source": [
    "# Exercise"
   ]
  },
  {
   "cell_type": "markdown",
   "id": "a787793e",
   "metadata": {},
   "source": [
    "For this exercise, we will be using one of the publicly available datasets from IBM Watson, which can be found at https://www.ibm.com/communities/analytics/watson-analytics-blog/marketing-customer-value-analysis/."
   ]
  },
  {
   "cell_type": "code",
   "execution_count": null,
   "id": "e1792b34",
   "metadata": {},
   "outputs": [],
   "source": []
  }
 ],
 "metadata": {
  "kernelspec": {
   "display_name": "Python 3 (ipykernel)",
   "language": "python",
   "name": "python3"
  },
  "language_info": {
   "codemirror_mode": {
    "name": "ipython",
    "version": 3
   },
   "file_extension": ".py",
   "mimetype": "text/x-python",
   "name": "python",
   "nbconvert_exporter": "python",
   "pygments_lexer": "ipython3",
   "version": "3.11.4"
  }
 },
 "nbformat": 4,
 "nbformat_minor": 5
}
