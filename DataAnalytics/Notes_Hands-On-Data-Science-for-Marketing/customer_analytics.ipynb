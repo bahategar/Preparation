{
 "cells": [
  {
   "cell_type": "markdown",
   "id": "136403b9",
   "metadata": {},
   "source": [
    "# Introduction\n",
    "\n",
    "> Customer analytics is a process of understanding and gaining insights into customer behavior through analyzing customer behavior data.\n",
    "\n",
    "The information and insights gained through customer analytics can then be utilized in forming marketing strategies, optimizing sales channels, and making other key business decisions.\n",
    "\n",
    "Example customer analytics:\n",
    "- Sales funnel analytics\n",
    "> Analyzing a sequence of different steps a user takes before reaching a conversion.\n",
    "- Customer segmentation\n",
    "> The process of dividing a customer base into distinct groups of individuals that have similar characteristics.\n",
    "- Predictive analytics\n",
    "> Making a predictions about future outcomes using historical data combined with statistical modeling."
   ]
  },
  {
   "cell_type": "markdown",
   "id": "cb09543a",
   "metadata": {},
   "source": [
    "# Exercise"
   ]
  },
  {
   "cell_type": "code",
   "execution_count": 4,
   "id": "ac317c54",
   "metadata": {},
   "outputs": [],
   "source": [
    "import pandas as pd\n",
    "import numpy as np\n",
    "import matplotlib.pyplot as plt\n"
   ]
  },
  {
   "cell_type": "code",
   "execution_count": 5,
   "id": "86030fcc",
   "metadata": {},
   "outputs": [
    {
     "name": "stdout",
     "output_type": "stream",
     "text": [
      "<class 'pandas.core.frame.DataFrame'>\n",
      "RangeIndex: 9134 entries, 0 to 9133\n",
      "Data columns (total 24 columns):\n",
      " #   Column                         Non-Null Count  Dtype  \n",
      "---  ------                         --------------  -----  \n",
      " 0   Customer                       9134 non-null   object \n",
      " 1   State                          9134 non-null   object \n",
      " 2   Customer Lifetime Value        9134 non-null   float64\n",
      " 3   Response                       9134 non-null   object \n",
      " 4   Coverage                       9134 non-null   object \n",
      " 5   Education                      9134 non-null   object \n",
      " 6   Effective To Date              9134 non-null   object \n",
      " 7   EmploymentStatus               9134 non-null   object \n",
      " 8   Gender                         9134 non-null   object \n",
      " 9   Income                         9134 non-null   int64  \n",
      " 10  Location Code                  9134 non-null   object \n",
      " 11  Marital Status                 9134 non-null   object \n",
      " 12  Monthly Premium Auto           9134 non-null   int64  \n",
      " 13  Months Since Last Claim        9134 non-null   int64  \n",
      " 14  Months Since Policy Inception  9134 non-null   int64  \n",
      " 15  Number of Open Complaints      9134 non-null   int64  \n",
      " 16  Number of Policies             9134 non-null   int64  \n",
      " 17  Policy Type                    9134 non-null   object \n",
      " 18  Policy                         9134 non-null   object \n",
      " 19  Renew Offer Type               9134 non-null   object \n",
      " 20  Sales Channel                  9134 non-null   object \n",
      " 21  Total Claim Amount             9134 non-null   float64\n",
      " 22  Vehicle Class                  9134 non-null   object \n",
      " 23  Vehicle Size                   9134 non-null   object \n",
      "dtypes: float64(2), int64(6), object(16)\n",
      "memory usage: 1.7+ MB\n",
      "None\n"
     ]
    },
    {
     "data": {
      "text/html": [
       "<div>\n",
       "<style scoped>\n",
       "    .dataframe tbody tr th:only-of-type {\n",
       "        vertical-align: middle;\n",
       "    }\n",
       "\n",
       "    .dataframe tbody tr th {\n",
       "        vertical-align: top;\n",
       "    }\n",
       "\n",
       "    .dataframe thead th {\n",
       "        text-align: right;\n",
       "    }\n",
       "</style>\n",
       "<table border=\"1\" class=\"dataframe\">\n",
       "  <thead>\n",
       "    <tr style=\"text-align: right;\">\n",
       "      <th></th>\n",
       "      <th>Customer</th>\n",
       "      <th>State</th>\n",
       "      <th>Customer Lifetime Value</th>\n",
       "      <th>Response</th>\n",
       "      <th>Coverage</th>\n",
       "      <th>Education</th>\n",
       "      <th>Effective To Date</th>\n",
       "      <th>EmploymentStatus</th>\n",
       "      <th>Gender</th>\n",
       "      <th>Income</th>\n",
       "      <th>...</th>\n",
       "      <th>Months Since Policy Inception</th>\n",
       "      <th>Number of Open Complaints</th>\n",
       "      <th>Number of Policies</th>\n",
       "      <th>Policy Type</th>\n",
       "      <th>Policy</th>\n",
       "      <th>Renew Offer Type</th>\n",
       "      <th>Sales Channel</th>\n",
       "      <th>Total Claim Amount</th>\n",
       "      <th>Vehicle Class</th>\n",
       "      <th>Vehicle Size</th>\n",
       "    </tr>\n",
       "  </thead>\n",
       "  <tbody>\n",
       "    <tr>\n",
       "      <th>0</th>\n",
       "      <td>BU79786</td>\n",
       "      <td>Washington</td>\n",
       "      <td>2763.519279</td>\n",
       "      <td>No</td>\n",
       "      <td>Basic</td>\n",
       "      <td>Bachelor</td>\n",
       "      <td>2/24/11</td>\n",
       "      <td>Employed</td>\n",
       "      <td>F</td>\n",
       "      <td>56274</td>\n",
       "      <td>...</td>\n",
       "      <td>5</td>\n",
       "      <td>0</td>\n",
       "      <td>1</td>\n",
       "      <td>Corporate Auto</td>\n",
       "      <td>Corporate L3</td>\n",
       "      <td>Offer1</td>\n",
       "      <td>Agent</td>\n",
       "      <td>384.811147</td>\n",
       "      <td>Two-Door Car</td>\n",
       "      <td>Medsize</td>\n",
       "    </tr>\n",
       "    <tr>\n",
       "      <th>1</th>\n",
       "      <td>QZ44356</td>\n",
       "      <td>Arizona</td>\n",
       "      <td>6979.535903</td>\n",
       "      <td>No</td>\n",
       "      <td>Extended</td>\n",
       "      <td>Bachelor</td>\n",
       "      <td>1/31/11</td>\n",
       "      <td>Unemployed</td>\n",
       "      <td>F</td>\n",
       "      <td>0</td>\n",
       "      <td>...</td>\n",
       "      <td>42</td>\n",
       "      <td>0</td>\n",
       "      <td>8</td>\n",
       "      <td>Personal Auto</td>\n",
       "      <td>Personal L3</td>\n",
       "      <td>Offer3</td>\n",
       "      <td>Agent</td>\n",
       "      <td>1131.464935</td>\n",
       "      <td>Four-Door Car</td>\n",
       "      <td>Medsize</td>\n",
       "    </tr>\n",
       "    <tr>\n",
       "      <th>2</th>\n",
       "      <td>AI49188</td>\n",
       "      <td>Nevada</td>\n",
       "      <td>12887.431650</td>\n",
       "      <td>No</td>\n",
       "      <td>Premium</td>\n",
       "      <td>Bachelor</td>\n",
       "      <td>2/19/11</td>\n",
       "      <td>Employed</td>\n",
       "      <td>F</td>\n",
       "      <td>48767</td>\n",
       "      <td>...</td>\n",
       "      <td>38</td>\n",
       "      <td>0</td>\n",
       "      <td>2</td>\n",
       "      <td>Personal Auto</td>\n",
       "      <td>Personal L3</td>\n",
       "      <td>Offer1</td>\n",
       "      <td>Agent</td>\n",
       "      <td>566.472247</td>\n",
       "      <td>Two-Door Car</td>\n",
       "      <td>Medsize</td>\n",
       "    </tr>\n",
       "    <tr>\n",
       "      <th>3</th>\n",
       "      <td>WW63253</td>\n",
       "      <td>California</td>\n",
       "      <td>7645.861827</td>\n",
       "      <td>No</td>\n",
       "      <td>Basic</td>\n",
       "      <td>Bachelor</td>\n",
       "      <td>1/20/11</td>\n",
       "      <td>Unemployed</td>\n",
       "      <td>M</td>\n",
       "      <td>0</td>\n",
       "      <td>...</td>\n",
       "      <td>65</td>\n",
       "      <td>0</td>\n",
       "      <td>7</td>\n",
       "      <td>Corporate Auto</td>\n",
       "      <td>Corporate L2</td>\n",
       "      <td>Offer1</td>\n",
       "      <td>Call Center</td>\n",
       "      <td>529.881344</td>\n",
       "      <td>SUV</td>\n",
       "      <td>Medsize</td>\n",
       "    </tr>\n",
       "    <tr>\n",
       "      <th>4</th>\n",
       "      <td>HB64268</td>\n",
       "      <td>Washington</td>\n",
       "      <td>2813.692575</td>\n",
       "      <td>No</td>\n",
       "      <td>Basic</td>\n",
       "      <td>Bachelor</td>\n",
       "      <td>2/3/11</td>\n",
       "      <td>Employed</td>\n",
       "      <td>M</td>\n",
       "      <td>43836</td>\n",
       "      <td>...</td>\n",
       "      <td>44</td>\n",
       "      <td>0</td>\n",
       "      <td>1</td>\n",
       "      <td>Personal Auto</td>\n",
       "      <td>Personal L1</td>\n",
       "      <td>Offer1</td>\n",
       "      <td>Agent</td>\n",
       "      <td>138.130879</td>\n",
       "      <td>Four-Door Car</td>\n",
       "      <td>Medsize</td>\n",
       "    </tr>\n",
       "  </tbody>\n",
       "</table>\n",
       "<p>5 rows × 24 columns</p>\n",
       "</div>"
      ],
      "text/plain": [
       "  Customer       State  Customer Lifetime Value Response  Coverage Education  \\\n",
       "0  BU79786  Washington              2763.519279       No     Basic  Bachelor   \n",
       "1  QZ44356     Arizona              6979.535903       No  Extended  Bachelor   \n",
       "2  AI49188      Nevada             12887.431650       No   Premium  Bachelor   \n",
       "3  WW63253  California              7645.861827       No     Basic  Bachelor   \n",
       "4  HB64268  Washington              2813.692575       No     Basic  Bachelor   \n",
       "\n",
       "  Effective To Date EmploymentStatus Gender  Income  ...  \\\n",
       "0           2/24/11         Employed      F   56274  ...   \n",
       "1           1/31/11       Unemployed      F       0  ...   \n",
       "2           2/19/11         Employed      F   48767  ...   \n",
       "3           1/20/11       Unemployed      M       0  ...   \n",
       "4            2/3/11         Employed      M   43836  ...   \n",
       "\n",
       "  Months Since Policy Inception Number of Open Complaints  Number of Policies  \\\n",
       "0                             5                         0                   1   \n",
       "1                            42                         0                   8   \n",
       "2                            38                         0                   2   \n",
       "3                            65                         0                   7   \n",
       "4                            44                         0                   1   \n",
       "\n",
       "      Policy Type        Policy  Renew Offer Type  Sales Channel  \\\n",
       "0  Corporate Auto  Corporate L3            Offer1          Agent   \n",
       "1   Personal Auto   Personal L3            Offer3          Agent   \n",
       "2   Personal Auto   Personal L3            Offer1          Agent   \n",
       "3  Corporate Auto  Corporate L2            Offer1    Call Center   \n",
       "4   Personal Auto   Personal L1            Offer1          Agent   \n",
       "\n",
       "  Total Claim Amount  Vehicle Class Vehicle Size  \n",
       "0         384.811147   Two-Door Car      Medsize  \n",
       "1        1131.464935  Four-Door Car      Medsize  \n",
       "2         566.472247   Two-Door Car      Medsize  \n",
       "3         529.881344            SUV      Medsize  \n",
       "4         138.130879  Four-Door Car      Medsize  \n",
       "\n",
       "[5 rows x 24 columns]"
      ]
     },
     "execution_count": 5,
     "metadata": {},
     "output_type": "execute_result"
    }
   ],
   "source": [
    "df = pd.read_csv('./data/WA_Fn-UseC_-Marketing-Customer-Value-Analysis.csv')\n",
    "print(df.info())\n",
    "df.head()"
   ]
  },
  {
   "cell_type": "markdown",
   "id": "5e8ccf5f",
   "metadata": {},
   "source": [
    "**Analytics on engage customers**\n",
    "\n",
    "- Overall engagement rate\n",
    "- Engagement rates by offer type\n",
    "- Engagement rates by offer type and vehicle class\n",
    "- Engagement rates by sales channel\n",
    "- Engagement rates by sales channel and vehicle size"
   ]
  },
  {
   "cell_type": "code",
   "execution_count": 6,
   "id": "b0074e74",
   "metadata": {},
   "outputs": [
    {
     "data": {
      "text/plain": [
       "Response\n",
       "No     7826\n",
       "Yes    1308\n",
       "Name: Customer, dtype: int64"
      ]
     },
     "execution_count": 6,
     "metadata": {},
     "output_type": "execute_result"
    }
   ],
   "source": [
    "# 1. Overall engagement rate\n",
    "\n",
    "df.groupby('Response')['Customer'].count()"
   ]
  },
  {
   "cell_type": "code",
   "execution_count": 7,
   "id": "231846b0",
   "metadata": {},
   "outputs": [
    {
     "data": {
      "image/png": "[encoded data removed]",
      "text/plain": [
       "<Figure size 1000x700 with 1 Axes>"
      ]
     },
     "metadata": {},
     "output_type": "display_data"
    }
   ],
   "source": [
    "ax = df.groupby('Response')['Customer']\\\n",
    "        .count()\\\n",
    "        .plot(kind='bar',\n",
    "              color='skyblue',\n",
    "              grid=True,\n",
    "              figsize=(10, 7),\n",
    "              title='Marketing Engagment')\n",
    "\n",
    "ax.set_xlabel('Engaged')\n",
    "ax.set_ylabel('Count')\n",
    "plt.show()"
   ]
  },
  {
   "cell_type": "code",
   "execution_count": 8,
   "id": "0305b2b1",
   "metadata": {},
   "outputs": [
    {
     "data": {
      "text/plain": [
       "Response\n",
       "No     0.856799\n",
       "Yes    0.143201\n",
       "Name: Customer, dtype: float64"
      ]
     },
     "execution_count": 8,
     "metadata": {},
     "output_type": "execute_result"
    }
   ],
   "source": [
    "df.groupby('Response')['Customer'].count() / df.shape[0]"
   ]
  },
  {
   "cell_type": "markdown",
   "id": "1d04d57a",
   "metadata": {},
   "source": [
    "NOTE: We can see that only about 14% of the customers responded to the marketing calls."
   ]
  },
  {
   "cell_type": "code",
   "execution_count": 9,
   "id": "18d12d7c",
   "metadata": {},
   "outputs": [
    {
     "data": {
      "text/plain": [
       "Renew Offer Type\n",
       "Offer1    0.158316\n",
       "Offer2    0.233766\n",
       "Offer3    0.020950\n",
       "Offer4    0.000000\n",
       "Name: Customer, dtype: float64"
      ]
     },
     "execution_count": 9,
     "metadata": {},
     "output_type": "execute_result"
    }
   ],
   "source": [
    "# 2. Engagement rates by offer type\n",
    "count_offer_type_yes = df.loc[df['Response'] == 'Yes']\\\n",
    "                        .groupby(['Renew Offer Type'])\\\n",
    "                        .count()['Customer']\n",
    "count_offer_type = df.groupby(['Renew Offer Type']).count()['Customer']\n",
    "\n",
    "by_offer_type = (count_offer_type_yes / count_offer_type).fillna(0)\n",
    "by_offer_type"
   ]
  },
  {
   "cell_type": "code",
   "execution_count": 10,
   "id": "39dda9cf",
   "metadata": {},
   "outputs": [
    {
     "data": {
      "image/png": "[encoded data removed]",
      "text/plain": [
       "<Figure size 700x700 with 1 Axes>"
      ]
     },
     "metadata": {},
     "output_type": "display_data"
    }
   ],
   "source": [
    "ax = (by_offer_type*100.0).plot(\n",
    "    kind='bar',\n",
    "    figsize=(7, 7),\n",
    "    color='skyblue',\n",
    "    grid=True\n",
    ")\n",
    "\n",
    "ax.set_ylabel('Engagement Rate (%)')\n",
    "\n",
    "plt.show()"
   ]
  },
  {
   "cell_type": "markdown",
   "id": "af838351",
   "metadata": {},
   "source": [
    "NOTES:\n",
    "- From this plot, Offer2 had the highest engagement rate among the customers.\n",
    "- When conducting customer analytics, we often want to know the demographics and attributes of customers for each event, so that we can understand what works best for which type of customers. "
   ]
  },
  {
   "cell_type": "code",
   "execution_count": 11,
   "id": "a29cf814",
   "metadata": {},
   "outputs": [
    {
     "data": {
      "text/plain": [
       "Renew Offer Type  Vehicle Class\n",
       "Offer1            Four-Door Car    0.070362\n",
       "                  Luxury Car       0.001599\n",
       "                  Luxury SUV       0.004797\n",
       "                  SUV              0.044776\n",
       "                  Sports Car       0.011194\n",
       "                  Two-Door Car     0.025586\n",
       "Offer2            Four-Door Car    0.114833\n",
       "                  Luxury Car       0.002051\n",
       "                  Luxury SUV       0.004101\n",
       "                  SUV              0.041012\n",
       "                  Sports Car       0.016405\n",
       "                  Two-Door Car     0.055366\n",
       "Offer3            Four-Door Car    0.016760\n",
       "                  Two-Door Car     0.004190\n",
       "Name: Customer, dtype: float64"
      ]
     },
     "execution_count": 11,
     "metadata": {},
     "output_type": "execute_result"
    }
   ],
   "source": [
    "# 3. Engagement rates by offer type and vehicle class\n",
    "\n",
    "count_offer_type_vehicle_yes = df.loc[df['Response'] == 'Yes']\\\n",
    "                                    .groupby(['Renew Offer Type',\n",
    "                                              'Vehicle Class'])\\\n",
    "                                    .count()['Customer']\n",
    "\n",
    "by_offer_type_vehicle = count_offer_type_vehicle_yes / count_offer_type\n",
    "by_offer_type_vehicle"
   ]
  },
  {
   "cell_type": "code",
   "execution_count": 12,
   "id": "0557096e",
   "metadata": {},
   "outputs": [
    {
     "data": {
      "text/html": [
       "<div>\n",
       "<style scoped>\n",
       "    .dataframe tbody tr th:only-of-type {\n",
       "        vertical-align: middle;\n",
       "    }\n",
       "\n",
       "    .dataframe tbody tr th {\n",
       "        vertical-align: top;\n",
       "    }\n",
       "\n",
       "    .dataframe thead th {\n",
       "        text-align: right;\n",
       "    }\n",
       "</style>\n",
       "<table border=\"1\" class=\"dataframe\">\n",
       "  <thead>\n",
       "    <tr style=\"text-align: right;\">\n",
       "      <th>Vehicle Class</th>\n",
       "      <th>Four-Door Car</th>\n",
       "      <th>Luxury Car</th>\n",
       "      <th>Luxury SUV</th>\n",
       "      <th>SUV</th>\n",
       "      <th>Sports Car</th>\n",
       "      <th>Two-Door Car</th>\n",
       "    </tr>\n",
       "    <tr>\n",
       "      <th>Renew Offer Type</th>\n",
       "      <th></th>\n",
       "      <th></th>\n",
       "      <th></th>\n",
       "      <th></th>\n",
       "      <th></th>\n",
       "      <th></th>\n",
       "    </tr>\n",
       "  </thead>\n",
       "  <tbody>\n",
       "    <tr>\n",
       "      <th>Offer1</th>\n",
       "      <td>0.070362</td>\n",
       "      <td>0.001599</td>\n",
       "      <td>0.004797</td>\n",
       "      <td>0.044776</td>\n",
       "      <td>0.011194</td>\n",
       "      <td>0.025586</td>\n",
       "    </tr>\n",
       "    <tr>\n",
       "      <th>Offer2</th>\n",
       "      <td>0.114833</td>\n",
       "      <td>0.002051</td>\n",
       "      <td>0.004101</td>\n",
       "      <td>0.041012</td>\n",
       "      <td>0.016405</td>\n",
       "      <td>0.055366</td>\n",
       "    </tr>\n",
       "    <tr>\n",
       "      <th>Offer3</th>\n",
       "      <td>0.016760</td>\n",
       "      <td>0.000000</td>\n",
       "      <td>0.000000</td>\n",
       "      <td>0.000000</td>\n",
       "      <td>0.000000</td>\n",
       "      <td>0.004190</td>\n",
       "    </tr>\n",
       "  </tbody>\n",
       "</table>\n",
       "</div>"
      ],
      "text/plain": [
       "Vehicle Class     Four-Door Car  Luxury Car  Luxury SUV       SUV  Sports Car  \\\n",
       "Renew Offer Type                                                                \n",
       "Offer1                 0.070362    0.001599    0.004797  0.044776    0.011194   \n",
       "Offer2                 0.114833    0.002051    0.004101  0.041012    0.016405   \n",
       "Offer3                 0.016760    0.000000    0.000000  0.000000    0.000000   \n",
       "\n",
       "Vehicle Class     Two-Door Car  \n",
       "Renew Offer Type                \n",
       "Offer1                0.025586  \n",
       "Offer2                0.055366  \n",
       "Offer3                0.004190  "
      ]
     },
     "execution_count": 12,
     "metadata": {},
     "output_type": "execute_result"
    }
   ],
   "source": [
    "by_offer_type_vehicle = by_offer_type_vehicle.unstack().fillna(0)\n",
    "\n",
    "by_offer_type_vehicle"
   ]
  },
  {
   "cell_type": "code",
   "execution_count": 13,
   "id": "74cdb48a",
   "metadata": {},
   "outputs": [
    {
     "data": {
      "image/png": "[encoded data removed]",
      "text/plain": [
       "<Figure size 640x480 with 1 Axes>"
      ]
     },
     "metadata": {},
     "output_type": "display_data"
    }
   ],
   "source": [
    "ax = (by_offer_type_vehicle*100.0).plot(\n",
    "    kind='bar',\n",
    "    grid=True\n",
    ")\n",
    "\n",
    "ax.set_ylabel('Engagement Rate (%)')\n",
    "\n",
    "plt.show()"
   ]
  },
  {
   "cell_type": "markdown",
   "id": "e4d7cb72",
   "metadata": {},
   "source": [
    "NOTES:\n",
    "- Customers with Four-Door Car respond the most frequently for all offer types.\n",
    "- Customers with SUV respond with a higher chance to Offer1 than to Offer2.\n",
    "- If we see any significant difference in the response rates among different customer segments, we can fine-tune who to target for different sets of offers.\n",
    "\n",
    "a. Example: If we believe customers with SUV respond to Offer1 with a significantly higher degree of engagement than to Offer2, then we can target SUV customers with Offer1.\n",
    "\n",
    "b. Example: If we believe customers with Two-Door Car respond to Offer2 with a significantly higher degree of engagement than to other offer types, then we can target Two-Door Car owners with Offer2."
   ]
  },
  {
   "cell_type": "code",
   "execution_count": 14,
   "id": "48fdfcbe",
   "metadata": {},
   "outputs": [
    {
     "data": {
      "text/plain": [
       "Sales Channel\n",
       "Agent          0.191544\n",
       "Branch         0.114531\n",
       "Call Center    0.108782\n",
       "Web            0.117736\n",
       "Name: Customer, dtype: float64"
      ]
     },
     "execution_count": 14,
     "metadata": {},
     "output_type": "execute_result"
    }
   ],
   "source": [
    "# 4. Engagement rates by sales channel\n",
    "count_sales_channel_yes = df.loc[df['Response'] == 'Yes']\\\n",
    "                            .groupby(['Sales Channel'])\\\n",
    "                            .count()['Customer']\n",
    "\n",
    "count_sales_channel = df.groupby(['Sales Channel'])\\\n",
    "                        .count()['Customer']\n",
    "\n",
    "by_sales_channel = count_sales_channel_yes / count_sales_channel\n",
    "\n",
    "by_sales_channel"
   ]
  },
  {
   "cell_type": "code",
   "execution_count": 15,
   "id": "fe24a1a5",
   "metadata": {},
   "outputs": [
    {
     "data": {
      "image/png": "[encoded data removed]",
      "text/plain": [
       "<Figure size 700x700 with 1 Axes>"
      ]
     },
     "metadata": {},
     "output_type": "display_data"
    }
   ],
   "source": [
    "ax = (by_sales_channel*100.0).plot(\n",
    "    kind='bar',\n",
    "    figsize=(7, 7),\n",
    "    color='skyblue',\n",
    "    grid=True\n",
    ")\n",
    "\n",
    "ax.set_ylabel('Engagement Rate (%)')\n",
    "\n",
    "plt.show()"
   ]
  },
  {
   "cell_type": "markdown",
   "id": "7ff009f1",
   "metadata": {},
   "source": [
    "NOTES: Agent works the best in terms of getting responses from the customers. Then, sales through Web works the second best."
   ]
  },
  {
   "cell_type": "code",
   "execution_count": 16,
   "id": "1e9d87f5",
   "metadata": {},
   "outputs": [
    {
     "data": {
      "text/plain": [
       "Sales Channel  Vehicle Size\n",
       "Agent          Large           0.020708\n",
       "               Medsize         0.144953\n",
       "               Small           0.025884\n",
       "Branch         Large           0.021036\n",
       "               Medsize         0.074795\n",
       "               Small           0.018699\n",
       "Call Center    Large           0.013598\n",
       "               Medsize         0.067989\n",
       "               Small           0.027195\n",
       "Web            Large           0.013585\n",
       "               Medsize         0.095094\n",
       "               Small           0.009057\n",
       "Name: Customer, dtype: float64"
      ]
     },
     "execution_count": 16,
     "metadata": {},
     "output_type": "execute_result"
    }
   ],
   "source": [
    "# 5. Engagement rates by sales channel and vehicle size\n",
    "\n",
    "count_sales_channel_yes = df.loc[df['Response'] == 'Yes']\\\n",
    "                            .groupby(['Sales Channel', 'Vehicle Size'])\\\n",
    "                            .count()['Customer']\n",
    "count_sales_channel = df.groupby(['Sales Channel']).count()['Customer']\n",
    "\n",
    "by_sales_channel = count_sales_channel_yes / count_sales_channel\n",
    "by_sales_channel"
   ]
  },
  {
   "cell_type": "code",
   "execution_count": 17,
   "id": "94cabefa",
   "metadata": {},
   "outputs": [
    {
     "data": {
      "text/html": [
       "<div>\n",
       "<style scoped>\n",
       "    .dataframe tbody tr th:only-of-type {\n",
       "        vertical-align: middle;\n",
       "    }\n",
       "\n",
       "    .dataframe tbody tr th {\n",
       "        vertical-align: top;\n",
       "    }\n",
       "\n",
       "    .dataframe thead th {\n",
       "        text-align: right;\n",
       "    }\n",
       "</style>\n",
       "<table border=\"1\" class=\"dataframe\">\n",
       "  <thead>\n",
       "    <tr style=\"text-align: right;\">\n",
       "      <th>Vehicle Size</th>\n",
       "      <th>Large</th>\n",
       "      <th>Medsize</th>\n",
       "      <th>Small</th>\n",
       "    </tr>\n",
       "    <tr>\n",
       "      <th>Sales Channel</th>\n",
       "      <th></th>\n",
       "      <th></th>\n",
       "      <th></th>\n",
       "    </tr>\n",
       "  </thead>\n",
       "  <tbody>\n",
       "    <tr>\n",
       "      <th>Agent</th>\n",
       "      <td>0.020708</td>\n",
       "      <td>0.144953</td>\n",
       "      <td>0.025884</td>\n",
       "    </tr>\n",
       "    <tr>\n",
       "      <th>Branch</th>\n",
       "      <td>0.021036</td>\n",
       "      <td>0.074795</td>\n",
       "      <td>0.018699</td>\n",
       "    </tr>\n",
       "    <tr>\n",
       "      <th>Call Center</th>\n",
       "      <td>0.013598</td>\n",
       "      <td>0.067989</td>\n",
       "      <td>0.027195</td>\n",
       "    </tr>\n",
       "    <tr>\n",
       "      <th>Web</th>\n",
       "      <td>0.013585</td>\n",
       "      <td>0.095094</td>\n",
       "      <td>0.009057</td>\n",
       "    </tr>\n",
       "  </tbody>\n",
       "</table>\n",
       "</div>"
      ],
      "text/plain": [
       "Vehicle Size      Large   Medsize     Small\n",
       "Sales Channel                              \n",
       "Agent          0.020708  0.144953  0.025884\n",
       "Branch         0.021036  0.074795  0.018699\n",
       "Call Center    0.013598  0.067989  0.027195\n",
       "Web            0.013585  0.095094  0.009057"
      ]
     },
     "execution_count": 17,
     "metadata": {},
     "output_type": "execute_result"
    }
   ],
   "source": [
    "by_sales_channel = by_sales_channel.unstack().fillna(0)\n",
    "by_sales_channel"
   ]
  },
  {
   "cell_type": "code",
   "execution_count": 18,
   "id": "a33eeca7",
   "metadata": {},
   "outputs": [
    {
     "data": {
      "image/png": "[encoded data removed]",
      "text/plain": [
       "<Figure size 640x480 with 1 Axes>"
      ]
     },
     "metadata": {},
     "output_type": "display_data"
    }
   ],
   "source": [
    "ax = (by_sales_channel * 100).plot(kind='bar', grid=True)\n",
    "ax.set_ylabel('Engagement Rate (%)')\n",
    "plt.show()"
   ]
  },
  {
   "cell_type": "markdown",
   "id": "63f67792",
   "metadata": {},
   "source": [
    "NOTES: \n",
    "- The engagement rates across different sales channels differ slightly between Large and Small vehicle owners.\n",
    "-  Small vehicle owners respond better through Agent and Call Center channels.\n",
    "- Large vehicle owners respond better through the Branch and Web channels.\n",
    "- Small car owners respond with a higher chance through Agent and Call Center, we can utilize those two channels more heavily for Small car owners."
   ]
  },
  {
   "cell_type": "markdown",
   "id": "78fb7deb",
   "metadata": {},
   "source": [
    "**Segmenting customer base**\n",
    "\n",
    "In this section, we will be segmenting our customer base by Customer Lifetime Value and Months Since Policy Inception."
   ]
  },
  {
   "cell_type": "code",
   "execution_count": 19,
   "id": "390dba2a",
   "metadata": {},
   "outputs": [
    {
     "data": {
      "text/plain": [
       "count     9134.000000\n",
       "mean      8004.940475\n",
       "std       6870.967608\n",
       "min       1898.007675\n",
       "25%       3994.251794\n",
       "50%       5780.182197\n",
       "75%       8962.167041\n",
       "max      83325.381190\n",
       "Name: Customer Lifetime Value, dtype: float64"
      ]
     },
     "execution_count": 19,
     "metadata": {},
     "output_type": "execute_result"
    }
   ],
   "source": [
    "df['Customer Lifetime Value'].describe()"
   ]
  },
  {
   "cell_type": "markdown",
   "id": "baad2b3b",
   "metadata": {},
   "source": [
    "Based on this information, we are going to define those customers with a Customer Lifetime Value higher than the median as high-CLV customers and those with a CLV below the median as low-CLV customers."
   ]
  },
  {
   "cell_type": "code",
   "execution_count": 20,
   "id": "40a117be",
   "metadata": {},
   "outputs": [],
   "source": [
    "df['CLV Segment'] = df['Customer Lifetime Value'].apply(\n",
    "    lambda x: 'High' if x > df['Customer Lifetime Value'].median() else 'Low'\n",
    ")"
   ]
  },
  {
   "cell_type": "code",
   "execution_count": 21,
   "id": "494e1a4b",
   "metadata": {},
   "outputs": [
    {
     "data": {
      "text/plain": [
       "count    9134.000000\n",
       "mean       48.064594\n",
       "std        27.905991\n",
       "min         0.000000\n",
       "25%        24.000000\n",
       "50%        48.000000\n",
       "75%        71.000000\n",
       "max        99.000000\n",
       "Name: Months Since Policy Inception, dtype: float64"
      ]
     },
     "execution_count": 21,
     "metadata": {},
     "output_type": "execute_result"
    }
   ],
   "source": [
    "df['Months Since Policy Inception'].describe()"
   ]
  },
  {
   "cell_type": "markdown",
   "id": "ebd61bee",
   "metadata": {},
   "source": [
    "Since Policy Inception higher than the median as high Policy Age Segment customers and those below the median as low Policy Age Segment customers."
   ]
  },
  {
   "cell_type": "code",
   "execution_count": 22,
   "id": "412c4a5b",
   "metadata": {},
   "outputs": [],
   "source": [
    "df['Policy Age Segment'] = df['Months Since Policy Inception'].apply(\n",
    "    lambda x: 'High' if x > df['Months Since Policy Inception'].median() else 'Low'\n",
    ")"
   ]
  },
  {
   "cell_type": "code",
   "execution_count": 23,
   "id": "3063b778",
   "metadata": {},
   "outputs": [
    {
     "data": {
      "image/png": "[encoded data removed]",
      "text/plain": [
       "<Figure size 1000x700 with 1 Axes>"
      ]
     },
     "metadata": {},
     "output_type": "display_data"
    }
   ],
   "source": [
    "ax = df.loc[\n",
    "    (df['CLV Segment'] == 'High') & (df['Policy Age Segment'] == 'High')\n",
    "].plot.scatter(\n",
    "    x='Months Since Policy Inception',\n",
    "    y='Customer Lifetime Value',\n",
    "    logy=True,\n",
    "    color='red'\n",
    ")\n",
    "\n",
    "df.loc[\n",
    "    (df['CLV Segment'] == 'Low') & (df['Policy Age Segment'] == 'High')\n",
    "].plot.scatter(\n",
    "    ax=ax,\n",
    "    x='Months Since Policy Inception',\n",
    "    y='Customer Lifetime Value',\n",
    "    logy=True,\n",
    "    color='blue'\n",
    ")\n",
    "\n",
    "df.loc[\n",
    "    (df['CLV Segment'] == 'High') & (df['Policy Age Segment'] == 'Low')\n",
    "].plot.scatter(\n",
    "    ax=ax,\n",
    "    x='Months Since Policy Inception',\n",
    "    y='Customer Lifetime Value',\n",
    "    logy=True,\n",
    "    color='orange'\n",
    ")\n",
    "\n",
    "df.loc[\n",
    "    (df['CLV Segment'] == 'Low') & (df['Policy Age Segment'] == 'Low')\n",
    "].plot.scatter(\n",
    "    ax=ax,\n",
    "    x='Months Since Policy Inception',\n",
    "    y='Customer Lifetime Value',\n",
    "    logy=True,\n",
    "    color='green',\n",
    "    grid=True,\n",
    "    figsize=(10, 7)\n",
    ")\n",
    "\n",
    "ax.set_ylabel('CLV (in log scale)')\n",
    "ax.set_xlabel('Months Since Policy Inception')\n",
    "\n",
    "ax.set_title('Segments by CLV and Policy Age')\n",
    "\n",
    "plt.show()"
   ]
  },
  {
   "cell_type": "code",
   "execution_count": 24,
   "id": "1bec34a1",
   "metadata": {},
   "outputs": [
    {
     "data": {
      "text/plain": [
       "CLV Segment  Policy Age Segment\n",
       "High         High                  0.138728\n",
       "             Low                   0.132067\n",
       "Low          High                  0.162450\n",
       "             Low                   0.139957\n",
       "Name: Customer, dtype: float64"
      ]
     },
     "execution_count": 24,
     "metadata": {},
     "output_type": "execute_result"
    }
   ],
   "source": [
    "engagment_rates_by_segment = df.loc[\n",
    "    df['Response'] == 'Yes'\n",
    "].groupby(\n",
    "    ['CLV Segment', 'Policy Age Segment']\n",
    ").count()['Customer']/df.groupby(\n",
    "    ['CLV Segment', 'Policy Age Segment']\n",
    ").count()['Customer']\n",
    "\n",
    "engagment_rates_by_segment"
   ]
  },
  {
   "cell_type": "code",
   "execution_count": 25,
   "id": "af15035b",
   "metadata": {},
   "outputs": [
    {
     "data": {
      "image/png": "[encoded data removed]",
      "text/plain": [
       "<Figure size 1000x700 with 1 Axes>"
      ]
     },
     "metadata": {},
     "output_type": "display_data"
    }
   ],
   "source": [
    "ax = (engagment_rates_by_segment.unstack()*100.0).plot(\n",
    "    kind='bar',\n",
    "    figsize=(10, 7),\n",
    "    grid=True\n",
    ")\n",
    "\n",
    "ax.set_ylabel('Engagement Rate (%)')\n",
    "ax.set_title('Engagement Rates by Customer Segments')\n",
    "\n",
    "plt.show()"
   ]
  },
  {
   "cell_type": "markdown",
   "id": "552ba867",
   "metadata": {},
   "source": [
    "NOTES:\n",
    "- High Policy Age Segment has higher engagement than the Low Policy Age Segment. This suggests that those customers who have been insured by this company longer respond better.\n",
    "- It is also noticeable that the High Policy Age and Low CLV segment has the highest engagement rate among the four segments."
   ]
  },
  {
   "cell_type": "markdown",
   "id": "b29ff68a",
   "metadata": {},
   "source": [
    "**Predictive Analytics**\n",
    "\n",
    "Case: Predicting the likelihood of marketing engagement."
   ]
  },
  {
   "cell_type": "code",
   "execution_count": 26,
   "id": "2598b3ad",
   "metadata": {},
   "outputs": [
    {
     "data": {
      "text/html": [
       "<div>\n",
       "<style scoped>\n",
       "    .dataframe tbody tr th:only-of-type {\n",
       "        vertical-align: middle;\n",
       "    }\n",
       "\n",
       "    .dataframe tbody tr th {\n",
       "        vertical-align: top;\n",
       "    }\n",
       "\n",
       "    .dataframe thead th {\n",
       "        text-align: right;\n",
       "    }\n",
       "</style>\n",
       "<table border=\"1\" class=\"dataframe\">\n",
       "  <thead>\n",
       "    <tr style=\"text-align: right;\">\n",
       "      <th></th>\n",
       "      <th>Customer</th>\n",
       "      <th>State</th>\n",
       "      <th>Customer Lifetime Value</th>\n",
       "      <th>Response</th>\n",
       "      <th>Coverage</th>\n",
       "      <th>Education</th>\n",
       "      <th>Effective To Date</th>\n",
       "      <th>EmploymentStatus</th>\n",
       "      <th>Gender</th>\n",
       "      <th>Income</th>\n",
       "      <th>...</th>\n",
       "      <th>Marital.Status.Single</th>\n",
       "      <th>Education.Bachelor</th>\n",
       "      <th>Education.College</th>\n",
       "      <th>Education.Doctor</th>\n",
       "      <th>Education.High School or Below</th>\n",
       "      <th>Education.Master</th>\n",
       "      <th>Coverage.Basic</th>\n",
       "      <th>Coverage.Extended</th>\n",
       "      <th>Coverage.Premium</th>\n",
       "      <th>Is.Female</th>\n",
       "    </tr>\n",
       "  </thead>\n",
       "  <tbody>\n",
       "    <tr>\n",
       "      <th>0</th>\n",
       "      <td>BU79786</td>\n",
       "      <td>Washington</td>\n",
       "      <td>2763.519279</td>\n",
       "      <td>No</td>\n",
       "      <td>Basic</td>\n",
       "      <td>Bachelor</td>\n",
       "      <td>2/24/11</td>\n",
       "      <td>Employed</td>\n",
       "      <td>F</td>\n",
       "      <td>56274</td>\n",
       "      <td>...</td>\n",
       "      <td>0</td>\n",
       "      <td>1</td>\n",
       "      <td>0</td>\n",
       "      <td>0</td>\n",
       "      <td>0</td>\n",
       "      <td>0</td>\n",
       "      <td>1</td>\n",
       "      <td>0</td>\n",
       "      <td>0</td>\n",
       "      <td>1</td>\n",
       "    </tr>\n",
       "    <tr>\n",
       "      <th>1</th>\n",
       "      <td>QZ44356</td>\n",
       "      <td>Arizona</td>\n",
       "      <td>6979.535903</td>\n",
       "      <td>No</td>\n",
       "      <td>Extended</td>\n",
       "      <td>Bachelor</td>\n",
       "      <td>1/31/11</td>\n",
       "      <td>Unemployed</td>\n",
       "      <td>F</td>\n",
       "      <td>0</td>\n",
       "      <td>...</td>\n",
       "      <td>1</td>\n",
       "      <td>1</td>\n",
       "      <td>0</td>\n",
       "      <td>0</td>\n",
       "      <td>0</td>\n",
       "      <td>0</td>\n",
       "      <td>0</td>\n",
       "      <td>1</td>\n",
       "      <td>0</td>\n",
       "      <td>1</td>\n",
       "    </tr>\n",
       "    <tr>\n",
       "      <th>2</th>\n",
       "      <td>AI49188</td>\n",
       "      <td>Nevada</td>\n",
       "      <td>12887.431650</td>\n",
       "      <td>No</td>\n",
       "      <td>Premium</td>\n",
       "      <td>Bachelor</td>\n",
       "      <td>2/19/11</td>\n",
       "      <td>Employed</td>\n",
       "      <td>F</td>\n",
       "      <td>48767</td>\n",
       "      <td>...</td>\n",
       "      <td>0</td>\n",
       "      <td>1</td>\n",
       "      <td>0</td>\n",
       "      <td>0</td>\n",
       "      <td>0</td>\n",
       "      <td>0</td>\n",
       "      <td>0</td>\n",
       "      <td>0</td>\n",
       "      <td>1</td>\n",
       "      <td>1</td>\n",
       "    </tr>\n",
       "    <tr>\n",
       "      <th>3</th>\n",
       "      <td>WW63253</td>\n",
       "      <td>California</td>\n",
       "      <td>7645.861827</td>\n",
       "      <td>No</td>\n",
       "      <td>Basic</td>\n",
       "      <td>Bachelor</td>\n",
       "      <td>1/20/11</td>\n",
       "      <td>Unemployed</td>\n",
       "      <td>M</td>\n",
       "      <td>0</td>\n",
       "      <td>...</td>\n",
       "      <td>0</td>\n",
       "      <td>1</td>\n",
       "      <td>0</td>\n",
       "      <td>0</td>\n",
       "      <td>0</td>\n",
       "      <td>0</td>\n",
       "      <td>1</td>\n",
       "      <td>0</td>\n",
       "      <td>0</td>\n",
       "      <td>0</td>\n",
       "    </tr>\n",
       "    <tr>\n",
       "      <th>4</th>\n",
       "      <td>HB64268</td>\n",
       "      <td>Washington</td>\n",
       "      <td>2813.692575</td>\n",
       "      <td>No</td>\n",
       "      <td>Basic</td>\n",
       "      <td>Bachelor</td>\n",
       "      <td>2/3/11</td>\n",
       "      <td>Employed</td>\n",
       "      <td>M</td>\n",
       "      <td>43836</td>\n",
       "      <td>...</td>\n",
       "      <td>1</td>\n",
       "      <td>1</td>\n",
       "      <td>0</td>\n",
       "      <td>0</td>\n",
       "      <td>0</td>\n",
       "      <td>0</td>\n",
       "      <td>1</td>\n",
       "      <td>0</td>\n",
       "      <td>0</td>\n",
       "      <td>0</td>\n",
       "    </tr>\n",
       "  </tbody>\n",
       "</table>\n",
       "<p>5 rows × 69 columns</p>\n",
       "</div>"
      ],
      "text/plain": [
       "  Customer       State  Customer Lifetime Value Response  Coverage Education  \\\n",
       "0  BU79786  Washington              2763.519279       No     Basic  Bachelor   \n",
       "1  QZ44356     Arizona              6979.535903       No  Extended  Bachelor   \n",
       "2  AI49188      Nevada             12887.431650       No   Premium  Bachelor   \n",
       "3  WW63253  California              7645.861827       No     Basic  Bachelor   \n",
       "4  HB64268  Washington              2813.692575       No     Basic  Bachelor   \n",
       "\n",
       "  Effective To Date EmploymentStatus Gender  Income  ...  \\\n",
       "0           2/24/11         Employed      F   56274  ...   \n",
       "1           1/31/11       Unemployed      F       0  ...   \n",
       "2           2/19/11         Employed      F   48767  ...   \n",
       "3           1/20/11       Unemployed      M       0  ...   \n",
       "4            2/3/11         Employed      M   43836  ...   \n",
       "\n",
       "  Marital.Status.Single Education.Bachelor  Education.College  \\\n",
       "0                     0                  1                  0   \n",
       "1                     1                  1                  0   \n",
       "2                     0                  1                  0   \n",
       "3                     0                  1                  0   \n",
       "4                     1                  1                  0   \n",
       "\n",
       "   Education.Doctor  Education.High School or Below  Education.Master  \\\n",
       "0                 0                               0                 0   \n",
       "1                 0                               0                 0   \n",
       "2                 0                               0                 0   \n",
       "3                 0                               0                 0   \n",
       "4                 0                               0                 0   \n",
       "\n",
       "   Coverage.Basic Coverage.Extended Coverage.Premium Is.Female  \n",
       "0               1                 0                0         1  \n",
       "1               0                 1                0         1  \n",
       "2               0                 0                1         1  \n",
       "3               1                 0                0         0  \n",
       "4               1                 0                0         0  \n",
       "\n",
       "[5 rows x 69 columns]"
      ]
     },
     "execution_count": 26,
     "metadata": {},
     "output_type": "execute_result"
    }
   ],
   "source": [
    "continuous_features = [\n",
    "    'Customer Lifetime Value', 'Income', 'Monthly Premium Auto',\n",
    "    'Months Since Last Claim', 'Months Since Policy Inception',\n",
    "    'Number of Open Complaints', 'Number of Policies', 'Total Claim Amount'\n",
    "]\n",
    "\n",
    "# Respone variable encoding\n",
    "df['Engaged'] = df['Response'].apply(lambda x : 1 if x == 'Yes' else 0)\n",
    "\n",
    "# Categorical variable encoding\n",
    "columns_to_encoce = [\n",
    "    'Sales Channel', 'Vehicle Size', 'Vehicle Class',\n",
    "    'Months Since Last Claim', 'Months Since Policy Inception',\n",
    "    'Number of Open Complaints', 'Number of Policies', 'Total Claim Amount',\n",
    "]\n",
    "\n",
    "columns_to_encode = [\n",
    "    'Sales Channel', 'Vehicle Size', 'Vehicle Class', 'Policy', 'Policy Type', \n",
    "    'EmploymentStatus', 'Marital Status', 'Education', 'Coverage'\n",
    "]\n",
    "categorical_features = []\n",
    "for col in columns_to_encode:\n",
    "    encoded_df = pd.get_dummies(df[col])\n",
    "    encoded_df.columns = [col.replace(' ', '.') + '.' + x for x in encoded_df.columns]\n",
    "    \n",
    "    categorical_features += list(encoded_df.columns)\n",
    "    \n",
    "    df = pd.concat([df, encoded_df], axis=1)\n",
    "    \n",
    "# Gender Encoding\n",
    "df['Is.Female'] = df['Gender'].apply(lambda x: 1 if x == 'F' else 0)\n",
    "\n",
    "categorical_features.append('Is.Female')\n",
    "\n",
    "all_features = continuous_features + categorical_features\n",
    "response = 'Engaged'\n",
    "\n",
    "sample_df = df[all_features + [response]]\n",
    "sample_df.columns = [x.replace(' ', '.') for x in sample_df.columns]\n",
    "all_features = [x.replace(' ', '.') for x in all_features]\n",
    "\n",
    "df.head()"
   ]
  },
  {
   "cell_type": "code",
   "execution_count": 27,
   "id": "12d4771c",
   "metadata": {},
   "outputs": [],
   "source": [
    "from sklearn.model_selection import train_test_split"
   ]
  },
  {
   "cell_type": "code",
   "execution_count": 29,
   "id": "e78b98e2",
   "metadata": {},
   "outputs": [],
   "source": [
    "x_train, x_test, y_train, y_test = train_test_split(sample_df[all_features], sample_df[response], test_size=0.3)\n"
   ]
  },
  {
   "cell_type": "code",
   "execution_count": 32,
   "id": "0d825c1f",
   "metadata": {},
   "outputs": [
    {
     "data": {
      "text/plain": [
       "(9134, 51)"
      ]
     },
     "execution_count": 32,
     "metadata": {},
     "output_type": "execute_result"
    }
   ],
   "source": [
    "sample_df.shape\n"
   ]
  },
  {
   "cell_type": "code",
   "execution_count": 31,
   "id": "f07ae482",
   "metadata": {},
   "outputs": [
    {
     "data": {
      "text/plain": [
       "(6393, 50)"
      ]
     },
     "execution_count": 31,
     "metadata": {},
     "output_type": "execute_result"
    }
   ],
   "source": [
    "x_train.shape"
   ]
  },
  {
   "cell_type": "code",
   "execution_count": 33,
   "id": "9c3bbf8e",
   "metadata": {},
   "outputs": [
    {
     "data": {
      "text/plain": [
       "(2741, 50)"
      ]
     },
     "execution_count": 33,
     "metadata": {},
     "output_type": "execute_result"
    }
   ],
   "source": [
    "x_test.shape"
   ]
  },
  {
   "cell_type": "code",
   "execution_count": 34,
   "id": "cbc89d36",
   "metadata": {},
   "outputs": [
    {
     "data": {
      "text/html": [
       "<style>#sk-container-id-1 {color: black;background-color: white;}#sk-container-id-1 pre{padding: 0;}#sk-container-id-1 div.sk-toggleable {background-color: white;}#sk-container-id-1 label.sk-toggleable__label {cursor: pointer;display: block;width: 100%;margin-bottom: 0;padding: 0.3em;box-sizing: border-box;text-align: center;}#sk-container-id-1 label.sk-toggleable__label-arrow:before {content: \"▸\";float: left;margin-right: 0.25em;color: #696969;}#sk-container-id-1 label.sk-toggleable__label-arrow:hover:before {color: black;}#sk-container-id-1 div.sk-estimator:hover label.sk-toggleable__label-arrow:before {color: black;}#sk-container-id-1 div.sk-toggleable__content {max-height: 0;max-width: 0;overflow: hidden;text-align: left;background-color: #f0f8ff;}#sk-container-id-1 div.sk-toggleable__content pre {margin: 0.2em;color: black;border-radius: 0.25em;background-color: #f0f8ff;}#sk-container-id-1 input.sk-toggleable__control:checked~div.sk-toggleable__content {max-height: 200px;max-width: 100%;overflow: auto;}#sk-container-id-1 input.sk-toggleable__control:checked~label.sk-toggleable__label-arrow:before {content: \"▾\";}#sk-container-id-1 div.sk-estimator input.sk-toggleable__control:checked~label.sk-toggleable__label {background-color: #d4ebff;}#sk-container-id-1 div.sk-label input.sk-toggleable__control:checked~label.sk-toggleable__label {background-color: #d4ebff;}#sk-container-id-1 input.sk-hidden--visually {border: 0;clip: rect(1px 1px 1px 1px);clip: rect(1px, 1px, 1px, 1px);height: 1px;margin: -1px;overflow: hidden;padding: 0;position: absolute;width: 1px;}#sk-container-id-1 div.sk-estimator {font-family: monospace;background-color: #f0f8ff;border: 1px dotted black;border-radius: 0.25em;box-sizing: border-box;margin-bottom: 0.5em;}#sk-container-id-1 div.sk-estimator:hover {background-color: #d4ebff;}#sk-container-id-1 div.sk-parallel-item::after {content: \"\";width: 100%;border-bottom: 1px solid gray;flex-grow: 1;}#sk-container-id-1 div.sk-label:hover label.sk-toggleable__label {background-color: #d4ebff;}#sk-container-id-1 div.sk-serial::before {content: \"\";position: absolute;border-left: 1px solid gray;box-sizing: border-box;top: 0;bottom: 0;left: 50%;z-index: 0;}#sk-container-id-1 div.sk-serial {display: flex;flex-direction: column;align-items: center;background-color: white;padding-right: 0.2em;padding-left: 0.2em;position: relative;}#sk-container-id-1 div.sk-item {position: relative;z-index: 1;}#sk-container-id-1 div.sk-parallel {display: flex;align-items: stretch;justify-content: center;background-color: white;position: relative;}#sk-container-id-1 div.sk-item::before, #sk-container-id-1 div.sk-parallel-item::before {content: \"\";position: absolute;border-left: 1px solid gray;box-sizing: border-box;top: 0;bottom: 0;left: 50%;z-index: -1;}#sk-container-id-1 div.sk-parallel-item {display: flex;flex-direction: column;z-index: 1;position: relative;background-color: white;}#sk-container-id-1 div.sk-parallel-item:first-child::after {align-self: flex-end;width: 50%;}#sk-container-id-1 div.sk-parallel-item:last-child::after {align-self: flex-start;width: 50%;}#sk-container-id-1 div.sk-parallel-item:only-child::after {width: 0;}#sk-container-id-1 div.sk-dashed-wrapped {border: 1px dashed gray;margin: 0 0.4em 0.5em 0.4em;box-sizing: border-box;padding-bottom: 0.4em;background-color: white;}#sk-container-id-1 div.sk-label label {font-family: monospace;font-weight: bold;display: inline-block;line-height: 1.2em;}#sk-container-id-1 div.sk-label-container {text-align: center;}#sk-container-id-1 div.sk-container {/* jupyter's `normalize.less` sets `[hidden] { display: none; }` but bootstrap.min.css set `[hidden] { display: none !important; }` so we also need the `!important` here to be able to override the default hidden behavior on the sphinx rendered scikit-learn.org. See: https://github.com/scikit-learn/scikit-learn/issues/21755 */display: inline-block !important;position: relative;}#sk-container-id-1 div.sk-text-repr-fallback {display: none;}</style><div id=\"sk-container-id-1\" class=\"sk-top-container\"><div class=\"sk-text-repr-fallback\"><pre>RandomForestClassifier(max_depth=5, n_estimators=200)</pre><b>In a Jupyter environment, please rerun this cell to show the HTML representation or trust the notebook. <br />On GitHub, the HTML representation is unable to render, please try loading this page with nbviewer.org.</b></div><div class=\"sk-container\" hidden><div class=\"sk-item\"><div class=\"sk-estimator sk-toggleable\"><input class=\"sk-toggleable__control sk-hidden--visually\" id=\"sk-estimator-id-1\" type=\"checkbox\" checked><label for=\"sk-estimator-id-1\" class=\"sk-toggleable__label sk-toggleable__label-arrow\">RandomForestClassifier</label><div class=\"sk-toggleable__content\"><pre>RandomForestClassifier(max_depth=5, n_estimators=200)</pre></div></div></div></div></div>"
      ],
      "text/plain": [
       "RandomForestClassifier(max_depth=5, n_estimators=200)"
      ]
     },
     "execution_count": 34,
     "metadata": {},
     "output_type": "execute_result"
    }
   ],
   "source": [
    "from sklearn.ensemble import RandomForestClassifier\n",
    "\n",
    "\n",
    "rf_model = RandomForestClassifier(\n",
    "    n_estimators=200,\n",
    "    max_depth=5\n",
    ")\n",
    "\n",
    "rf_model.fit(X=x_train, y=y_train)"
   ]
  },
  {
   "cell_type": "code",
   "execution_count": 35,
   "id": "1a4e0c5b",
   "metadata": {},
   "outputs": [
    {
     "data": {
      "text/plain": [
       "[DecisionTreeClassifier(max_depth=5, max_features='sqrt', random_state=950845345),\n",
       " DecisionTreeClassifier(max_depth=5, max_features='sqrt',\n",
       "                        random_state=1769204377),\n",
       " DecisionTreeClassifier(max_depth=5, max_features='sqrt', random_state=835521952),\n",
       " DecisionTreeClassifier(max_depth=5, max_features='sqrt', random_state=810871184),\n",
       " DecisionTreeClassifier(max_depth=5, max_features='sqrt',\n",
       "                        random_state=2051239293),\n",
       " DecisionTreeClassifier(max_depth=5, max_features='sqrt', random_state=522503776),\n",
       " DecisionTreeClassifier(max_depth=5, max_features='sqrt', random_state=61858176),\n",
       " DecisionTreeClassifier(max_depth=5, max_features='sqrt', random_state=511809470),\n",
       " DecisionTreeClassifier(max_depth=5, max_features='sqrt', random_state=897975035),\n",
       " DecisionTreeClassifier(max_depth=5, max_features='sqrt', random_state=674090242),\n",
       " DecisionTreeClassifier(max_depth=5, max_features='sqrt', random_state=497583744),\n",
       " DecisionTreeClassifier(max_depth=5, max_features='sqrt', random_state=565188041),\n",
       " DecisionTreeClassifier(max_depth=5, max_features='sqrt',\n",
       "                        random_state=1478643975),\n",
       " DecisionTreeClassifier(max_depth=5, max_features='sqrt', random_state=72390634),\n",
       " DecisionTreeClassifier(max_depth=5, max_features='sqrt', random_state=159943322),\n",
       " DecisionTreeClassifier(max_depth=5, max_features='sqrt', random_state=919435745),\n",
       " DecisionTreeClassifier(max_depth=5, max_features='sqrt',\n",
       "                        random_state=1994118042),\n",
       " DecisionTreeClassifier(max_depth=5, max_features='sqrt',\n",
       "                        random_state=2000976511),\n",
       " DecisionTreeClassifier(max_depth=5, max_features='sqrt', random_state=352850631),\n",
       " DecisionTreeClassifier(max_depth=5, max_features='sqrt',\n",
       "                        random_state=2090255520),\n",
       " DecisionTreeClassifier(max_depth=5, max_features='sqrt', random_state=583196978),\n",
       " DecisionTreeClassifier(max_depth=5, max_features='sqrt', random_state=441992860),\n",
       " DecisionTreeClassifier(max_depth=5, max_features='sqrt',\n",
       "                        random_state=1171472536),\n",
       " DecisionTreeClassifier(max_depth=5, max_features='sqrt', random_state=131245585),\n",
       " DecisionTreeClassifier(max_depth=5, max_features='sqrt', random_state=66698521),\n",
       " DecisionTreeClassifier(max_depth=5, max_features='sqrt',\n",
       "                        random_state=1549194018),\n",
       " DecisionTreeClassifier(max_depth=5, max_features='sqrt',\n",
       "                        random_state=1121958214),\n",
       " DecisionTreeClassifier(max_depth=5, max_features='sqrt',\n",
       "                        random_state=1504956768),\n",
       " DecisionTreeClassifier(max_depth=5, max_features='sqrt', random_state=361944264),\n",
       " DecisionTreeClassifier(max_depth=5, max_features='sqrt',\n",
       "                        random_state=1754245349),\n",
       " DecisionTreeClassifier(max_depth=5, max_features='sqrt',\n",
       "                        random_state=1633314156),\n",
       " DecisionTreeClassifier(max_depth=5, max_features='sqrt',\n",
       "                        random_state=1790913295),\n",
       " DecisionTreeClassifier(max_depth=5, max_features='sqrt',\n",
       "                        random_state=1869599018),\n",
       " DecisionTreeClassifier(max_depth=5, max_features='sqrt', random_state=941914347),\n",
       " DecisionTreeClassifier(max_depth=5, max_features='sqrt',\n",
       "                        random_state=1609681037),\n",
       " DecisionTreeClassifier(max_depth=5, max_features='sqrt', random_state=428022973),\n",
       " DecisionTreeClassifier(max_depth=5, max_features='sqrt', random_state=799139656),\n",
       " DecisionTreeClassifier(max_depth=5, max_features='sqrt', random_state=404987025),\n",
       " DecisionTreeClassifier(max_depth=5, max_features='sqrt',\n",
       "                        random_state=1479230896),\n",
       " DecisionTreeClassifier(max_depth=5, max_features='sqrt',\n",
       "                        random_state=1047749192),\n",
       " DecisionTreeClassifier(max_depth=5, max_features='sqrt', random_state=34927992),\n",
       " DecisionTreeClassifier(max_depth=5, max_features='sqrt', random_state=943527557),\n",
       " DecisionTreeClassifier(max_depth=5, max_features='sqrt', random_state=88506112),\n",
       " DecisionTreeClassifier(max_depth=5, max_features='sqrt',\n",
       "                        random_state=1348364826),\n",
       " DecisionTreeClassifier(max_depth=5, max_features='sqrt',\n",
       "                        random_state=1927464658),\n",
       " DecisionTreeClassifier(max_depth=5, max_features='sqrt', random_state=215883464),\n",
       " DecisionTreeClassifier(max_depth=5, max_features='sqrt',\n",
       "                        random_state=1159649797),\n",
       " DecisionTreeClassifier(max_depth=5, max_features='sqrt', random_state=781888548),\n",
       " DecisionTreeClassifier(max_depth=5, max_features='sqrt', random_state=536083480),\n",
       " DecisionTreeClassifier(max_depth=5, max_features='sqrt',\n",
       "                        random_state=1174770959),\n",
       " DecisionTreeClassifier(max_depth=5, max_features='sqrt',\n",
       "                        random_state=1523861227),\n",
       " DecisionTreeClassifier(max_depth=5, max_features='sqrt',\n",
       "                        random_state=1581463092),\n",
       " DecisionTreeClassifier(max_depth=5, max_features='sqrt', random_state=472801967),\n",
       " DecisionTreeClassifier(max_depth=5, max_features='sqrt',\n",
       "                        random_state=1726265615),\n",
       " DecisionTreeClassifier(max_depth=5, max_features='sqrt',\n",
       "                        random_state=2004274197),\n",
       " DecisionTreeClassifier(max_depth=5, max_features='sqrt',\n",
       "                        random_state=1389012406),\n",
       " DecisionTreeClassifier(max_depth=5, max_features='sqrt', random_state=295197475),\n",
       " DecisionTreeClassifier(max_depth=5, max_features='sqrt',\n",
       "                        random_state=1133146317),\n",
       " DecisionTreeClassifier(max_depth=5, max_features='sqrt',\n",
       "                        random_state=1975868076),\n",
       " DecisionTreeClassifier(max_depth=5, max_features='sqrt',\n",
       "                        random_state=1738964007),\n",
       " DecisionTreeClassifier(max_depth=5, max_features='sqrt',\n",
       "                        random_state=1761231520),\n",
       " DecisionTreeClassifier(max_depth=5, max_features='sqrt', random_state=773554432),\n",
       " DecisionTreeClassifier(max_depth=5, max_features='sqrt', random_state=886822926),\n",
       " DecisionTreeClassifier(max_depth=5, max_features='sqrt',\n",
       "                        random_state=1376692038),\n",
       " DecisionTreeClassifier(max_depth=5, max_features='sqrt',\n",
       "                        random_state=1719422808),\n",
       " DecisionTreeClassifier(max_depth=5, max_features='sqrt',\n",
       "                        random_state=1260857449),\n",
       " DecisionTreeClassifier(max_depth=5, max_features='sqrt',\n",
       "                        random_state=1773455408),\n",
       " DecisionTreeClassifier(max_depth=5, max_features='sqrt', random_state=273841884),\n",
       " DecisionTreeClassifier(max_depth=5, max_features='sqrt',\n",
       "                        random_state=1968387566),\n",
       " DecisionTreeClassifier(max_depth=5, max_features='sqrt', random_state=812964216),\n",
       " DecisionTreeClassifier(max_depth=5, max_features='sqrt',\n",
       "                        random_state=1154358687),\n",
       " DecisionTreeClassifier(max_depth=5, max_features='sqrt', random_state=87618263),\n",
       " DecisionTreeClassifier(max_depth=5, max_features='sqrt', random_state=723006781),\n",
       " DecisionTreeClassifier(max_depth=5, max_features='sqrt', random_state=940988100),\n",
       " DecisionTreeClassifier(max_depth=5, max_features='sqrt', random_state=316434212),\n",
       " DecisionTreeClassifier(max_depth=5, max_features='sqrt', random_state=335962751),\n",
       " DecisionTreeClassifier(max_depth=5, max_features='sqrt',\n",
       "                        random_state=1924049758),\n",
       " DecisionTreeClassifier(max_depth=5, max_features='sqrt',\n",
       "                        random_state=2020516609),\n",
       " DecisionTreeClassifier(max_depth=5, max_features='sqrt', random_state=332186134),\n",
       " DecisionTreeClassifier(max_depth=5, max_features='sqrt', random_state=727646935),\n",
       " DecisionTreeClassifier(max_depth=5, max_features='sqrt',\n",
       "                        random_state=1067054409),\n",
       " DecisionTreeClassifier(max_depth=5, max_features='sqrt', random_state=900909799),\n",
       " DecisionTreeClassifier(max_depth=5, max_features='sqrt',\n",
       "                        random_state=1371296045),\n",
       " DecisionTreeClassifier(max_depth=5, max_features='sqrt', random_state=485423092),\n",
       " DecisionTreeClassifier(max_depth=5, max_features='sqrt',\n",
       "                        random_state=2147326339),\n",
       " DecisionTreeClassifier(max_depth=5, max_features='sqrt', random_state=511210027),\n",
       " DecisionTreeClassifier(max_depth=5, max_features='sqrt', random_state=155434228),\n",
       " DecisionTreeClassifier(max_depth=5, max_features='sqrt', random_state=424001622),\n",
       " DecisionTreeClassifier(max_depth=5, max_features='sqrt',\n",
       "                        random_state=2037819087),\n",
       " DecisionTreeClassifier(max_depth=5, max_features='sqrt',\n",
       "                        random_state=1677766656),\n",
       " DecisionTreeClassifier(max_depth=5, max_features='sqrt', random_state=120225158),\n",
       " DecisionTreeClassifier(max_depth=5, max_features='sqrt',\n",
       "                        random_state=1622982722),\n",
       " DecisionTreeClassifier(max_depth=5, max_features='sqrt', random_state=980505765),\n",
       " DecisionTreeClassifier(max_depth=5, max_features='sqrt', random_state=439737135),\n",
       " DecisionTreeClassifier(max_depth=5, max_features='sqrt',\n",
       "                        random_state=1338090027),\n",
       " DecisionTreeClassifier(max_depth=5, max_features='sqrt', random_state=4596603),\n",
       " DecisionTreeClassifier(max_depth=5, max_features='sqrt', random_state=761211763),\n",
       " DecisionTreeClassifier(max_depth=5, max_features='sqrt', random_state=656560039),\n",
       " DecisionTreeClassifier(max_depth=5, max_features='sqrt',\n",
       "                        random_state=1118548719),\n",
       " DecisionTreeClassifier(max_depth=5, max_features='sqrt', random_state=103402089),\n",
       " DecisionTreeClassifier(max_depth=5, max_features='sqrt',\n",
       "                        random_state=1955277175),\n",
       " DecisionTreeClassifier(max_depth=5, max_features='sqrt',\n",
       "                        random_state=1430075263),\n",
       " DecisionTreeClassifier(max_depth=5, max_features='sqrt', random_state=834171834),\n",
       " DecisionTreeClassifier(max_depth=5, max_features='sqrt',\n",
       "                        random_state=1138908539),\n",
       " DecisionTreeClassifier(max_depth=5, max_features='sqrt',\n",
       "                        random_state=1875583569),\n",
       " DecisionTreeClassifier(max_depth=5, max_features='sqrt',\n",
       "                        random_state=1087906354),\n",
       " DecisionTreeClassifier(max_depth=5, max_features='sqrt',\n",
       "                        random_state=1818189064),\n",
       " DecisionTreeClassifier(max_depth=5, max_features='sqrt',\n",
       "                        random_state=1357719003),\n",
       " DecisionTreeClassifier(max_depth=5, max_features='sqrt', random_state=98156194),\n",
       " DecisionTreeClassifier(max_depth=5, max_features='sqrt', random_state=870679144),\n",
       " DecisionTreeClassifier(max_depth=5, max_features='sqrt', random_state=304928009),\n",
       " DecisionTreeClassifier(max_depth=5, max_features='sqrt',\n",
       "                        random_state=1990186882),\n",
       " DecisionTreeClassifier(max_depth=5, max_features='sqrt',\n",
       "                        random_state=1607524133),\n",
       " DecisionTreeClassifier(max_depth=5, max_features='sqrt',\n",
       "                        random_state=1961145691),\n",
       " DecisionTreeClassifier(max_depth=5, max_features='sqrt', random_state=927148949),\n",
       " DecisionTreeClassifier(max_depth=5, max_features='sqrt', random_state=924344086),\n",
       " DecisionTreeClassifier(max_depth=5, max_features='sqrt', random_state=872074083),\n",
       " DecisionTreeClassifier(max_depth=5, max_features='sqrt', random_state=424644597),\n",
       " DecisionTreeClassifier(max_depth=5, max_features='sqrt', random_state=349032730),\n",
       " DecisionTreeClassifier(max_depth=5, max_features='sqrt', random_state=313648578),\n",
       " DecisionTreeClassifier(max_depth=5, max_features='sqrt',\n",
       "                        random_state=1367397135),\n",
       " DecisionTreeClassifier(max_depth=5, max_features='sqrt',\n",
       "                        random_state=1664666433),\n",
       " DecisionTreeClassifier(max_depth=5, max_features='sqrt',\n",
       "                        random_state=1071766755),\n",
       " DecisionTreeClassifier(max_depth=5, max_features='sqrt', random_state=147059659),\n",
       " DecisionTreeClassifier(max_depth=5, max_features='sqrt', random_state=611462865),\n",
       " DecisionTreeClassifier(max_depth=5, max_features='sqrt', random_state=673779149),\n",
       " DecisionTreeClassifier(max_depth=5, max_features='sqrt', random_state=486695483),\n",
       " DecisionTreeClassifier(max_depth=5, max_features='sqrt', random_state=762176533),\n",
       " DecisionTreeClassifier(max_depth=5, max_features='sqrt',\n",
       "                        random_state=1459311421),\n",
       " DecisionTreeClassifier(max_depth=5, max_features='sqrt', random_state=593335540),\n",
       " DecisionTreeClassifier(max_depth=5, max_features='sqrt',\n",
       "                        random_state=1895573743),\n",
       " DecisionTreeClassifier(max_depth=5, max_features='sqrt',\n",
       "                        random_state=1539872572),\n",
       " DecisionTreeClassifier(max_depth=5, max_features='sqrt', random_state=371769723),\n",
       " DecisionTreeClassifier(max_depth=5, max_features='sqrt', random_state=571280169),\n",
       " DecisionTreeClassifier(max_depth=5, max_features='sqrt',\n",
       "                        random_state=1576519459),\n",
       " DecisionTreeClassifier(max_depth=5, max_features='sqrt', random_state=957340128),\n",
       " DecisionTreeClassifier(max_depth=5, max_features='sqrt', random_state=168679023),\n",
       " DecisionTreeClassifier(max_depth=5, max_features='sqrt',\n",
       "                        random_state=1462596635),\n",
       " DecisionTreeClassifier(max_depth=5, max_features='sqrt',\n",
       "                        random_state=1130884652),\n",
       " DecisionTreeClassifier(max_depth=5, max_features='sqrt',\n",
       "                        random_state=1078969373),\n",
       " DecisionTreeClassifier(max_depth=5, max_features='sqrt',\n",
       "                        random_state=2010815937),\n",
       " DecisionTreeClassifier(max_depth=5, max_features='sqrt', random_state=422231091),\n",
       " DecisionTreeClassifier(max_depth=5, max_features='sqrt',\n",
       "                        random_state=1189931564),\n",
       " DecisionTreeClassifier(max_depth=5, max_features='sqrt', random_state=641251091),\n",
       " DecisionTreeClassifier(max_depth=5, max_features='sqrt', random_state=114549838),\n",
       " DecisionTreeClassifier(max_depth=5, max_features='sqrt',\n",
       "                        random_state=1790105576),\n",
       " DecisionTreeClassifier(max_depth=5, max_features='sqrt',\n",
       "                        random_state=1473167886),\n",
       " DecisionTreeClassifier(max_depth=5, max_features='sqrt',\n",
       "                        random_state=1573390146),\n",
       " DecisionTreeClassifier(max_depth=5, max_features='sqrt',\n",
       "                        random_state=1857790069),\n",
       " DecisionTreeClassifier(max_depth=5, max_features='sqrt',\n",
       "                        random_state=1811480999),\n",
       " DecisionTreeClassifier(max_depth=5, max_features='sqrt', random_state=748183136),\n",
       " DecisionTreeClassifier(max_depth=5, max_features='sqrt',\n",
       "                        random_state=1435746467),\n",
       " DecisionTreeClassifier(max_depth=5, max_features='sqrt',\n",
       "                        random_state=1409750447),\n",
       " DecisionTreeClassifier(max_depth=5, max_features='sqrt', random_state=118063025),\n",
       " DecisionTreeClassifier(max_depth=5, max_features='sqrt',\n",
       "                        random_state=1744830194),\n",
       " DecisionTreeClassifier(max_depth=5, max_features='sqrt',\n",
       "                        random_state=1962026268),\n",
       " DecisionTreeClassifier(max_depth=5, max_features='sqrt', random_state=411455145),\n",
       " DecisionTreeClassifier(max_depth=5, max_features='sqrt', random_state=274765520),\n",
       " DecisionTreeClassifier(max_depth=5, max_features='sqrt',\n",
       "                        random_state=1525064106),\n",
       " DecisionTreeClassifier(max_depth=5, max_features='sqrt',\n",
       "                        random_state=2018569024),\n",
       " DecisionTreeClassifier(max_depth=5, max_features='sqrt', random_state=415896163),\n",
       " DecisionTreeClassifier(max_depth=5, max_features='sqrt', random_state=989161103),\n",
       " DecisionTreeClassifier(max_depth=5, max_features='sqrt',\n",
       "                        random_state=1351646918),\n",
       " DecisionTreeClassifier(max_depth=5, max_features='sqrt',\n",
       "                        random_state=1081370716),\n",
       " DecisionTreeClassifier(max_depth=5, max_features='sqrt',\n",
       "                        random_state=1381251748),\n",
       " DecisionTreeClassifier(max_depth=5, max_features='sqrt',\n",
       "                        random_state=1593394331),\n",
       " DecisionTreeClassifier(max_depth=5, max_features='sqrt',\n",
       "                        random_state=1543772044),\n",
       " DecisionTreeClassifier(max_depth=5, max_features='sqrt', random_state=632586299),\n",
       " DecisionTreeClassifier(max_depth=5, max_features='sqrt',\n",
       "                        random_state=1735893604),\n",
       " DecisionTreeClassifier(max_depth=5, max_features='sqrt', random_state=441001495),\n",
       " DecisionTreeClassifier(max_depth=5, max_features='sqrt', random_state=227225615),\n",
       " DecisionTreeClassifier(max_depth=5, max_features='sqrt', random_state=707671751),\n",
       " DecisionTreeClassifier(max_depth=5, max_features='sqrt', random_state=43914239),\n",
       " DecisionTreeClassifier(max_depth=5, max_features='sqrt',\n",
       "                        random_state=1448453723),\n",
       " DecisionTreeClassifier(max_depth=5, max_features='sqrt',\n",
       "                        random_state=1863982513),\n",
       " DecisionTreeClassifier(max_depth=5, max_features='sqrt',\n",
       "                        random_state=2041226085),\n",
       " DecisionTreeClassifier(max_depth=5, max_features='sqrt',\n",
       "                        random_state=1589579116),\n",
       " DecisionTreeClassifier(max_depth=5, max_features='sqrt',\n",
       "                        random_state=1381018107),\n",
       " DecisionTreeClassifier(max_depth=5, max_features='sqrt',\n",
       "                        random_state=2068057186),\n",
       " DecisionTreeClassifier(max_depth=5, max_features='sqrt', random_state=252277865),\n",
       " DecisionTreeClassifier(max_depth=5, max_features='sqrt',\n",
       "                        random_state=1751279563),\n",
       " DecisionTreeClassifier(max_depth=5, max_features='sqrt',\n",
       "                        random_state=1002583969),\n",
       " DecisionTreeClassifier(max_depth=5, max_features='sqrt', random_state=693997586),\n",
       " DecisionTreeClassifier(max_depth=5, max_features='sqrt',\n",
       "                        random_state=1510221045),\n",
       " DecisionTreeClassifier(max_depth=5, max_features='sqrt',\n",
       "                        random_state=1501407668),\n",
       " DecisionTreeClassifier(max_depth=5, max_features='sqrt',\n",
       "                        random_state=1648885066),\n",
       " DecisionTreeClassifier(max_depth=5, max_features='sqrt', random_state=399057148),\n",
       " DecisionTreeClassifier(max_depth=5, max_features='sqrt',\n",
       "                        random_state=1919252835),\n",
       " DecisionTreeClassifier(max_depth=5, max_features='sqrt', random_state=509603883),\n",
       " DecisionTreeClassifier(max_depth=5, max_features='sqrt', random_state=438913899),\n",
       " DecisionTreeClassifier(max_depth=5, max_features='sqrt',\n",
       "                        random_state=1998625663),\n",
       " DecisionTreeClassifier(max_depth=5, max_features='sqrt', random_state=419286224),\n",
       " DecisionTreeClassifier(max_depth=5, max_features='sqrt',\n",
       "                        random_state=2014636994),\n",
       " DecisionTreeClassifier(max_depth=5, max_features='sqrt',\n",
       "                        random_state=1983221525),\n",
       " DecisionTreeClassifier(max_depth=5, max_features='sqrt', random_state=737651522),\n",
       " DecisionTreeClassifier(max_depth=5, max_features='sqrt', random_state=830618682),\n",
       " DecisionTreeClassifier(max_depth=5, max_features='sqrt', random_state=805312193),\n",
       " DecisionTreeClassifier(max_depth=5, max_features='sqrt',\n",
       "                        random_state=2118502662),\n",
       " DecisionTreeClassifier(max_depth=5, max_features='sqrt',\n",
       "                        random_state=1233929156),\n",
       " DecisionTreeClassifier(max_depth=5, max_features='sqrt', random_state=279666683)]"
      ]
     },
     "execution_count": 35,
     "metadata": {},
     "output_type": "execute_result"
    }
   ],
   "source": [
    "rf_model.estimators_"
   ]
  },
  {
   "cell_type": "code",
   "execution_count": 36,
   "id": "040c482b",
   "metadata": {},
   "outputs": [
    {
     "data": {
      "text/html": [
       "<style>#sk-container-id-2 {color: black;background-color: white;}#sk-container-id-2 pre{padding: 0;}#sk-container-id-2 div.sk-toggleable {background-color: white;}#sk-container-id-2 label.sk-toggleable__label {cursor: pointer;display: block;width: 100%;margin-bottom: 0;padding: 0.3em;box-sizing: border-box;text-align: center;}#sk-container-id-2 label.sk-toggleable__label-arrow:before {content: \"▸\";float: left;margin-right: 0.25em;color: #696969;}#sk-container-id-2 label.sk-toggleable__label-arrow:hover:before {color: black;}#sk-container-id-2 div.sk-estimator:hover label.sk-toggleable__label-arrow:before {color: black;}#sk-container-id-2 div.sk-toggleable__content {max-height: 0;max-width: 0;overflow: hidden;text-align: left;background-color: #f0f8ff;}#sk-container-id-2 div.sk-toggleable__content pre {margin: 0.2em;color: black;border-radius: 0.25em;background-color: #f0f8ff;}#sk-container-id-2 input.sk-toggleable__control:checked~div.sk-toggleable__content {max-height: 200px;max-width: 100%;overflow: auto;}#sk-container-id-2 input.sk-toggleable__control:checked~label.sk-toggleable__label-arrow:before {content: \"▾\";}#sk-container-id-2 div.sk-estimator input.sk-toggleable__control:checked~label.sk-toggleable__label {background-color: #d4ebff;}#sk-container-id-2 div.sk-label input.sk-toggleable__control:checked~label.sk-toggleable__label {background-color: #d4ebff;}#sk-container-id-2 input.sk-hidden--visually {border: 0;clip: rect(1px 1px 1px 1px);clip: rect(1px, 1px, 1px, 1px);height: 1px;margin: -1px;overflow: hidden;padding: 0;position: absolute;width: 1px;}#sk-container-id-2 div.sk-estimator {font-family: monospace;background-color: #f0f8ff;border: 1px dotted black;border-radius: 0.25em;box-sizing: border-box;margin-bottom: 0.5em;}#sk-container-id-2 div.sk-estimator:hover {background-color: #d4ebff;}#sk-container-id-2 div.sk-parallel-item::after {content: \"\";width: 100%;border-bottom: 1px solid gray;flex-grow: 1;}#sk-container-id-2 div.sk-label:hover label.sk-toggleable__label {background-color: #d4ebff;}#sk-container-id-2 div.sk-serial::before {content: \"\";position: absolute;border-left: 1px solid gray;box-sizing: border-box;top: 0;bottom: 0;left: 50%;z-index: 0;}#sk-container-id-2 div.sk-serial {display: flex;flex-direction: column;align-items: center;background-color: white;padding-right: 0.2em;padding-left: 0.2em;position: relative;}#sk-container-id-2 div.sk-item {position: relative;z-index: 1;}#sk-container-id-2 div.sk-parallel {display: flex;align-items: stretch;justify-content: center;background-color: white;position: relative;}#sk-container-id-2 div.sk-item::before, #sk-container-id-2 div.sk-parallel-item::before {content: \"\";position: absolute;border-left: 1px solid gray;box-sizing: border-box;top: 0;bottom: 0;left: 50%;z-index: -1;}#sk-container-id-2 div.sk-parallel-item {display: flex;flex-direction: column;z-index: 1;position: relative;background-color: white;}#sk-container-id-2 div.sk-parallel-item:first-child::after {align-self: flex-end;width: 50%;}#sk-container-id-2 div.sk-parallel-item:last-child::after {align-self: flex-start;width: 50%;}#sk-container-id-2 div.sk-parallel-item:only-child::after {width: 0;}#sk-container-id-2 div.sk-dashed-wrapped {border: 1px dashed gray;margin: 0 0.4em 0.5em 0.4em;box-sizing: border-box;padding-bottom: 0.4em;background-color: white;}#sk-container-id-2 div.sk-label label {font-family: monospace;font-weight: bold;display: inline-block;line-height: 1.2em;}#sk-container-id-2 div.sk-label-container {text-align: center;}#sk-container-id-2 div.sk-container {/* jupyter's `normalize.less` sets `[hidden] { display: none; }` but bootstrap.min.css set `[hidden] { display: none !important; }` so we also need the `!important` here to be able to override the default hidden behavior on the sphinx rendered scikit-learn.org. See: https://github.com/scikit-learn/scikit-learn/issues/21755 */display: inline-block !important;position: relative;}#sk-container-id-2 div.sk-text-repr-fallback {display: none;}</style><div id=\"sk-container-id-2\" class=\"sk-top-container\"><div class=\"sk-text-repr-fallback\"><pre>DecisionTreeClassifier(max_depth=5, max_features=&#x27;sqrt&#x27;, random_state=950845345)</pre><b>In a Jupyter environment, please rerun this cell to show the HTML representation or trust the notebook. <br />On GitHub, the HTML representation is unable to render, please try loading this page with nbviewer.org.</b></div><div class=\"sk-container\" hidden><div class=\"sk-item\"><div class=\"sk-estimator sk-toggleable\"><input class=\"sk-toggleable__control sk-hidden--visually\" id=\"sk-estimator-id-2\" type=\"checkbox\" checked><label for=\"sk-estimator-id-2\" class=\"sk-toggleable__label sk-toggleable__label-arrow\">DecisionTreeClassifier</label><div class=\"sk-toggleable__content\"><pre>DecisionTreeClassifier(max_depth=5, max_features=&#x27;sqrt&#x27;, random_state=950845345)</pre></div></div></div></div></div>"
      ],
      "text/plain": [
       "DecisionTreeClassifier(max_depth=5, max_features='sqrt', random_state=950845345)"
      ]
     },
     "execution_count": 36,
     "metadata": {},
     "output_type": "execute_result"
    }
   ],
   "source": [
    "rf_model.estimators_[0]"
   ]
  },
  {
   "cell_type": "code",
   "execution_count": 37,
   "id": "32da60fe",
   "metadata": {},
   "outputs": [
    {
     "name": "stderr",
     "output_type": "stream",
     "text": [
      "C:\\Users\\Baha Tegar\\anaconda3\\Lib\\site-packages\\sklearn\\base.py:432: UserWarning: X has feature names, but DecisionTreeClassifier was fitted without feature names\n",
      "  warnings.warn(\n"
     ]
    },
    {
     "data": {
      "text/plain": [
       "array([0., 0., 0., 0., 0., 0., 0., 0., 0., 0.])"
      ]
     },
     "execution_count": 37,
     "metadata": {},
     "output_type": "execute_result"
    }
   ],
   "source": [
    "rf_model.estimators_[0].predict(x_test)[:10]"
   ]
  },
  {
   "cell_type": "code",
   "execution_count": 38,
   "id": "d7e5bac7",
   "metadata": {},
   "outputs": [
    {
     "name": "stderr",
     "output_type": "stream",
     "text": [
      "C:\\Users\\Baha Tegar\\anaconda3\\Lib\\site-packages\\sklearn\\base.py:432: UserWarning: X has feature names, but DecisionTreeClassifier was fitted without feature names\n",
      "  warnings.warn(\n"
     ]
    },
    {
     "data": {
      "text/plain": [
       "array([0., 0., 1., 0., 0., 0., 0., 0., 0., 0.])"
      ]
     },
     "execution_count": 38,
     "metadata": {},
     "output_type": "execute_result"
    }
   ],
   "source": [
    "rf_model.estimators_[1].predict(x_test)[:10]"
   ]
  },
  {
   "cell_type": "code",
   "execution_count": 39,
   "id": "5f3c0519",
   "metadata": {},
   "outputs": [
    {
     "name": "stderr",
     "output_type": "stream",
     "text": [
      "C:\\Users\\Baha Tegar\\anaconda3\\Lib\\site-packages\\sklearn\\base.py:432: UserWarning: X has feature names, but DecisionTreeClassifier was fitted without feature names\n",
      "  warnings.warn(\n"
     ]
    },
    {
     "data": {
      "text/plain": [
       "array([0., 0., 0., 0., 0., 0., 0., 0., 0., 0.])"
      ]
     },
     "execution_count": 39,
     "metadata": {},
     "output_type": "execute_result"
    }
   ],
   "source": [
    "rf_model.estimators_[2].predict(x_test)[:10]"
   ]
  },
  {
   "cell_type": "code",
   "execution_count": 40,
   "id": "9887c9fb",
   "metadata": {},
   "outputs": [
    {
     "name": "stderr",
     "output_type": "stream",
     "text": [
      "C:\\Users\\Baha Tegar\\anaconda3\\Lib\\site-packages\\sklearn\\base.py:432: UserWarning: X has feature names, but DecisionTreeClassifier was fitted without feature names\n",
      "  warnings.warn(\n"
     ]
    },
    {
     "data": {
      "text/plain": [
       "array([0., 0., 0., 0., 0., 0., 0., 0., 0., 0.])"
      ]
     },
     "execution_count": 40,
     "metadata": {},
     "output_type": "execute_result"
    }
   ],
   "source": [
    "rf_model.estimators_[3].predict(x_test)[:10]"
   ]
  },
  {
   "cell_type": "code",
   "execution_count": 41,
   "id": "529da1c7",
   "metadata": {},
   "outputs": [
    {
     "data": {
      "text/plain": [
       "array([0.07985643, 0.07978652, 0.06125128, 0.0290443 , 0.04977581,\n",
       "       0.01011076, 0.02171856, 0.07665651, 0.04452798, 0.00618798,\n",
       "       0.00706041, 0.00750912, 0.00400006, 0.00668191, 0.00713751,\n",
       "       0.00406418, 0.00085433, 0.00209519, 0.00414522, 0.00263415,\n",
       "       0.00389893, 0.00050563, 0.00068377, 0.00059984, 0.00161969,\n",
       "       0.00125236, 0.00158641, 0.00085042, 0.00107553, 0.00226057,\n",
       "       0.00110043, 0.0014676 , 0.00104139, 0.00343585, 0.02892362,\n",
       "       0.0075248 , 0.30128546, 0.02875179, 0.03705879, 0.01606781,\n",
       "       0.01346857, 0.00356087, 0.00530648, 0.00402698, 0.00544928,\n",
       "       0.00471407, 0.00358411, 0.00520765, 0.00269417, 0.00589893])"
      ]
     },
     "execution_count": 41,
     "metadata": {},
     "output_type": "execute_result"
    }
   ],
   "source": [
    "# Feature Importances\n",
    "\n",
    "\n",
    "rf_model.feature_importances_"
   ]
  },
  {
   "cell_type": "code",
   "execution_count": 43,
   "id": "2023c489",
   "metadata": {},
   "outputs": [
    {
     "data": {
      "text/html": [
       "<div>\n",
       "<style scoped>\n",
       "    .dataframe tbody tr th:only-of-type {\n",
       "        vertical-align: middle;\n",
       "    }\n",
       "\n",
       "    .dataframe tbody tr th {\n",
       "        vertical-align: top;\n",
       "    }\n",
       "\n",
       "    .dataframe thead th {\n",
       "        text-align: right;\n",
       "    }\n",
       "</style>\n",
       "<table border=\"1\" class=\"dataframe\">\n",
       "  <thead>\n",
       "    <tr style=\"text-align: right;\">\n",
       "      <th></th>\n",
       "      <th>feature.importance</th>\n",
       "      <th>feature</th>\n",
       "    </tr>\n",
       "  </thead>\n",
       "  <tbody>\n",
       "    <tr>\n",
       "      <th>36</th>\n",
       "      <td>0.301285</td>\n",
       "      <td>EmploymentStatus.Retired</td>\n",
       "    </tr>\n",
       "    <tr>\n",
       "      <th>0</th>\n",
       "      <td>0.079856</td>\n",
       "      <td>Customer.Lifetime.Value</td>\n",
       "    </tr>\n",
       "    <tr>\n",
       "      <th>1</th>\n",
       "      <td>0.079787</td>\n",
       "      <td>Income</td>\n",
       "    </tr>\n",
       "    <tr>\n",
       "      <th>7</th>\n",
       "      <td>0.076657</td>\n",
       "      <td>Total.Claim.Amount</td>\n",
       "    </tr>\n",
       "    <tr>\n",
       "      <th>2</th>\n",
       "      <td>0.061251</td>\n",
       "      <td>Monthly.Premium.Auto</td>\n",
       "    </tr>\n",
       "    <tr>\n",
       "      <th>4</th>\n",
       "      <td>0.049776</td>\n",
       "      <td>Months.Since.Policy.Inception</td>\n",
       "    </tr>\n",
       "    <tr>\n",
       "      <th>8</th>\n",
       "      <td>0.044528</td>\n",
       "      <td>Sales.Channel.Agent</td>\n",
       "    </tr>\n",
       "    <tr>\n",
       "      <th>38</th>\n",
       "      <td>0.037059</td>\n",
       "      <td>Marital.Status.Divorced</td>\n",
       "    </tr>\n",
       "    <tr>\n",
       "      <th>3</th>\n",
       "      <td>0.029044</td>\n",
       "      <td>Months.Since.Last.Claim</td>\n",
       "    </tr>\n",
       "    <tr>\n",
       "      <th>34</th>\n",
       "      <td>0.028924</td>\n",
       "      <td>EmploymentStatus.Employed</td>\n",
       "    </tr>\n",
       "    <tr>\n",
       "      <th>37</th>\n",
       "      <td>0.028752</td>\n",
       "      <td>EmploymentStatus.Unemployed</td>\n",
       "    </tr>\n",
       "    <tr>\n",
       "      <th>6</th>\n",
       "      <td>0.021719</td>\n",
       "      <td>Number.of.Policies</td>\n",
       "    </tr>\n",
       "    <tr>\n",
       "      <th>39</th>\n",
       "      <td>0.016068</td>\n",
       "      <td>Marital.Status.Married</td>\n",
       "    </tr>\n",
       "    <tr>\n",
       "      <th>40</th>\n",
       "      <td>0.013469</td>\n",
       "      <td>Marital.Status.Single</td>\n",
       "    </tr>\n",
       "    <tr>\n",
       "      <th>5</th>\n",
       "      <td>0.010111</td>\n",
       "      <td>Number.of.Open.Complaints</td>\n",
       "    </tr>\n",
       "    <tr>\n",
       "      <th>35</th>\n",
       "      <td>0.007525</td>\n",
       "      <td>EmploymentStatus.Medical.Leave</td>\n",
       "    </tr>\n",
       "    <tr>\n",
       "      <th>11</th>\n",
       "      <td>0.007509</td>\n",
       "      <td>Sales.Channel.Web</td>\n",
       "    </tr>\n",
       "    <tr>\n",
       "      <th>14</th>\n",
       "      <td>0.007138</td>\n",
       "      <td>Vehicle.Size.Small</td>\n",
       "    </tr>\n",
       "    <tr>\n",
       "      <th>10</th>\n",
       "      <td>0.007060</td>\n",
       "      <td>Sales.Channel.Call.Center</td>\n",
       "    </tr>\n",
       "    <tr>\n",
       "      <th>13</th>\n",
       "      <td>0.006682</td>\n",
       "      <td>Vehicle.Size.Medsize</td>\n",
       "    </tr>\n",
       "    <tr>\n",
       "      <th>9</th>\n",
       "      <td>0.006188</td>\n",
       "      <td>Sales.Channel.Branch</td>\n",
       "    </tr>\n",
       "    <tr>\n",
       "      <th>49</th>\n",
       "      <td>0.005899</td>\n",
       "      <td>Is.Female</td>\n",
       "    </tr>\n",
       "    <tr>\n",
       "      <th>44</th>\n",
       "      <td>0.005449</td>\n",
       "      <td>Education.High.School.or.Below</td>\n",
       "    </tr>\n",
       "    <tr>\n",
       "      <th>42</th>\n",
       "      <td>0.005306</td>\n",
       "      <td>Education.College</td>\n",
       "    </tr>\n",
       "    <tr>\n",
       "      <th>47</th>\n",
       "      <td>0.005208</td>\n",
       "      <td>Coverage.Extended</td>\n",
       "    </tr>\n",
       "    <tr>\n",
       "      <th>45</th>\n",
       "      <td>0.004714</td>\n",
       "      <td>Education.Master</td>\n",
       "    </tr>\n",
       "    <tr>\n",
       "      <th>18</th>\n",
       "      <td>0.004145</td>\n",
       "      <td>Vehicle.Class.SUV</td>\n",
       "    </tr>\n",
       "    <tr>\n",
       "      <th>15</th>\n",
       "      <td>0.004064</td>\n",
       "      <td>Vehicle.Class.Four-Door.Car</td>\n",
       "    </tr>\n",
       "    <tr>\n",
       "      <th>43</th>\n",
       "      <td>0.004027</td>\n",
       "      <td>Education.Doctor</td>\n",
       "    </tr>\n",
       "    <tr>\n",
       "      <th>12</th>\n",
       "      <td>0.004000</td>\n",
       "      <td>Vehicle.Size.Large</td>\n",
       "    </tr>\n",
       "    <tr>\n",
       "      <th>20</th>\n",
       "      <td>0.003899</td>\n",
       "      <td>Vehicle.Class.Two-Door.Car</td>\n",
       "    </tr>\n",
       "    <tr>\n",
       "      <th>46</th>\n",
       "      <td>0.003584</td>\n",
       "      <td>Coverage.Basic</td>\n",
       "    </tr>\n",
       "    <tr>\n",
       "      <th>41</th>\n",
       "      <td>0.003561</td>\n",
       "      <td>Education.Bachelor</td>\n",
       "    </tr>\n",
       "    <tr>\n",
       "      <th>33</th>\n",
       "      <td>0.003436</td>\n",
       "      <td>EmploymentStatus.Disabled</td>\n",
       "    </tr>\n",
       "    <tr>\n",
       "      <th>48</th>\n",
       "      <td>0.002694</td>\n",
       "      <td>Coverage.Premium</td>\n",
       "    </tr>\n",
       "    <tr>\n",
       "      <th>19</th>\n",
       "      <td>0.002634</td>\n",
       "      <td>Vehicle.Class.Sports.Car</td>\n",
       "    </tr>\n",
       "    <tr>\n",
       "      <th>29</th>\n",
       "      <td>0.002261</td>\n",
       "      <td>Policy.Special.L3</td>\n",
       "    </tr>\n",
       "    <tr>\n",
       "      <th>17</th>\n",
       "      <td>0.002095</td>\n",
       "      <td>Vehicle.Class.Luxury.SUV</td>\n",
       "    </tr>\n",
       "    <tr>\n",
       "      <th>24</th>\n",
       "      <td>0.001620</td>\n",
       "      <td>Policy.Personal.L1</td>\n",
       "    </tr>\n",
       "    <tr>\n",
       "      <th>26</th>\n",
       "      <td>0.001586</td>\n",
       "      <td>Policy.Personal.L3</td>\n",
       "    </tr>\n",
       "    <tr>\n",
       "      <th>31</th>\n",
       "      <td>0.001468</td>\n",
       "      <td>Policy.Type.Personal.Auto</td>\n",
       "    </tr>\n",
       "    <tr>\n",
       "      <th>25</th>\n",
       "      <td>0.001252</td>\n",
       "      <td>Policy.Personal.L2</td>\n",
       "    </tr>\n",
       "    <tr>\n",
       "      <th>30</th>\n",
       "      <td>0.001100</td>\n",
       "      <td>Policy.Type.Corporate.Auto</td>\n",
       "    </tr>\n",
       "    <tr>\n",
       "      <th>28</th>\n",
       "      <td>0.001076</td>\n",
       "      <td>Policy.Special.L2</td>\n",
       "    </tr>\n",
       "    <tr>\n",
       "      <th>32</th>\n",
       "      <td>0.001041</td>\n",
       "      <td>Policy.Type.Special.Auto</td>\n",
       "    </tr>\n",
       "    <tr>\n",
       "      <th>16</th>\n",
       "      <td>0.000854</td>\n",
       "      <td>Vehicle.Class.Luxury.Car</td>\n",
       "    </tr>\n",
       "    <tr>\n",
       "      <th>27</th>\n",
       "      <td>0.000850</td>\n",
       "      <td>Policy.Special.L1</td>\n",
       "    </tr>\n",
       "    <tr>\n",
       "      <th>22</th>\n",
       "      <td>0.000684</td>\n",
       "      <td>Policy.Corporate.L2</td>\n",
       "    </tr>\n",
       "    <tr>\n",
       "      <th>23</th>\n",
       "      <td>0.000600</td>\n",
       "      <td>Policy.Corporate.L3</td>\n",
       "    </tr>\n",
       "    <tr>\n",
       "      <th>21</th>\n",
       "      <td>0.000506</td>\n",
       "      <td>Policy.Corporate.L1</td>\n",
       "    </tr>\n",
       "  </tbody>\n",
       "</table>\n",
       "</div>"
      ],
      "text/plain": [
       "    feature.importance                         feature\n",
       "36            0.301285        EmploymentStatus.Retired\n",
       "0             0.079856         Customer.Lifetime.Value\n",
       "1             0.079787                          Income\n",
       "7             0.076657              Total.Claim.Amount\n",
       "2             0.061251            Monthly.Premium.Auto\n",
       "4             0.049776   Months.Since.Policy.Inception\n",
       "8             0.044528             Sales.Channel.Agent\n",
       "38            0.037059         Marital.Status.Divorced\n",
       "3             0.029044         Months.Since.Last.Claim\n",
       "34            0.028924       EmploymentStatus.Employed\n",
       "37            0.028752     EmploymentStatus.Unemployed\n",
       "6             0.021719              Number.of.Policies\n",
       "39            0.016068          Marital.Status.Married\n",
       "40            0.013469           Marital.Status.Single\n",
       "5             0.010111       Number.of.Open.Complaints\n",
       "35            0.007525  EmploymentStatus.Medical.Leave\n",
       "11            0.007509               Sales.Channel.Web\n",
       "14            0.007138              Vehicle.Size.Small\n",
       "10            0.007060       Sales.Channel.Call.Center\n",
       "13            0.006682            Vehicle.Size.Medsize\n",
       "9             0.006188            Sales.Channel.Branch\n",
       "49            0.005899                       Is.Female\n",
       "44            0.005449  Education.High.School.or.Below\n",
       "42            0.005306               Education.College\n",
       "47            0.005208               Coverage.Extended\n",
       "45            0.004714                Education.Master\n",
       "18            0.004145               Vehicle.Class.SUV\n",
       "15            0.004064     Vehicle.Class.Four-Door.Car\n",
       "43            0.004027                Education.Doctor\n",
       "12            0.004000              Vehicle.Size.Large\n",
       "20            0.003899      Vehicle.Class.Two-Door.Car\n",
       "46            0.003584                  Coverage.Basic\n",
       "41            0.003561              Education.Bachelor\n",
       "33            0.003436       EmploymentStatus.Disabled\n",
       "48            0.002694                Coverage.Premium\n",
       "19            0.002634        Vehicle.Class.Sports.Car\n",
       "29            0.002261               Policy.Special.L3\n",
       "17            0.002095        Vehicle.Class.Luxury.SUV\n",
       "24            0.001620              Policy.Personal.L1\n",
       "26            0.001586              Policy.Personal.L3\n",
       "31            0.001468       Policy.Type.Personal.Auto\n",
       "25            0.001252              Policy.Personal.L2\n",
       "30            0.001100      Policy.Type.Corporate.Auto\n",
       "28            0.001076               Policy.Special.L2\n",
       "32            0.001041        Policy.Type.Special.Auto\n",
       "16            0.000854        Vehicle.Class.Luxury.Car\n",
       "27            0.000850               Policy.Special.L1\n",
       "22            0.000684             Policy.Corporate.L2\n",
       "23            0.000600             Policy.Corporate.L3\n",
       "21            0.000506             Policy.Corporate.L1"
      ]
     },
     "execution_count": 43,
     "metadata": {},
     "output_type": "execute_result"
    }
   ],
   "source": [
    "feature_importance_df = pd.DataFrame(list(zip(rf_model.feature_importances_, all_features)))\n",
    "feature_importance_df.columns = ['feature.importance', 'feature']\n",
    "\n",
    "feature_importance_df.sort_values(by='feature.importance', ascending=False)"
   ]
  },
  {
   "cell_type": "markdown",
   "id": "2db55f4a",
   "metadata": {},
   "source": [
    "NOTES:\n",
    "- As you can see from this output, the EmploymentStatus.Retired feature seems to be the most important factor in making the final prediction and the Income, Total.Claim.Amount, and Customer.Lifetime.Value features follow as the second, third, and fourth most important features."
   ]
  },
  {
   "cell_type": "code",
   "execution_count": 44,
   "id": "e8565a60",
   "metadata": {},
   "outputs": [],
   "source": [
    "# Evaluating models\n",
    "from sklearn.metrics import accuracy_score, precision_score, recall_score\n",
    "\n",
    "in_sample_preds = rf_model.predict(x_train)\n",
    "out_sample_preds = rf_model.predict(x_test)"
   ]
  },
  {
   "cell_type": "code",
   "execution_count": 45,
   "id": "e3590819",
   "metadata": {},
   "outputs": [
    {
     "name": "stdout",
     "output_type": "stream",
     "text": [
      "In-Sample Accuracy: 0.8814\n",
      "Out-of-Sample Accuracy: 0.8646\n"
     ]
    }
   ],
   "source": [
    "print('In-Sample Accuracy: %0.4f' % accuracy_score(y_train, in_sample_preds))\n",
    "print('Out-of-Sample Accuracy: %0.4f' % accuracy_score(y_test, out_sample_preds))"
   ]
  },
  {
   "cell_type": "code",
   "execution_count": 46,
   "id": "51d91f9e",
   "metadata": {},
   "outputs": [
    {
     "name": "stdout",
     "output_type": "stream",
     "text": [
      "In-Sample Precision: 0.9925\n",
      "Out-of-Sample Precision: 0.9273\n"
     ]
    }
   ],
   "source": [
    "print('In-Sample Precision: %0.4f' % precision_score(y_train, in_sample_preds))\n",
    "print('Out-of-Sample Precision: %0.4f' % precision_score(y_test, out_sample_preds))"
   ]
  },
  {
   "cell_type": "code",
   "execution_count": 47,
   "id": "74513c3e",
   "metadata": {},
   "outputs": [
    {
     "name": "stdout",
     "output_type": "stream",
     "text": [
      "In-Sample Recall: 0.1494\n",
      "Out-of-Sample Recall: 0.1220\n"
     ]
    }
   ],
   "source": [
    "print('In-Sample Recall: %0.4f' % recall_score(y_train, in_sample_preds))\n",
    "print('Out-of-Sample Recall: %0.4f' % recall_score(y_test, out_sample_preds))"
   ]
  },
  {
   "cell_type": "code",
   "execution_count": 48,
   "id": "ffad5975",
   "metadata": {},
   "outputs": [],
   "source": [
    "# ROC-AUC\n",
    "\n",
    "from sklearn.metrics import roc_curve, auc\n",
    "\n",
    "\n",
    "in_sample_preds = rf_model.predict_proba(x_train)[:,1]\n",
    "out_sample_preds = rf_model.predict_proba(x_test)[:,1]"
   ]
  },
  {
   "cell_type": "code",
   "execution_count": 49,
   "id": "9f6071ec",
   "metadata": {},
   "outputs": [],
   "source": [
    "in_sample_fpr, in_sample_tpr, in_sample_thresholds = roc_curve(y_train, in_sample_preds)\n",
    "out_sample_fpr, out_sample_tpr, out_sample_thresholds = roc_curve(y_test, out_sample_preds)"
   ]
  },
  {
   "cell_type": "code",
   "execution_count": 50,
   "id": "aa5f3d37",
   "metadata": {},
   "outputs": [
    {
     "name": "stdout",
     "output_type": "stream",
     "text": [
      "In-Sample AUC: 0.8849\n",
      "Out-Sample AUC: 0.8488\n"
     ]
    }
   ],
   "source": [
    "in_sample_roc_auc = auc(in_sample_fpr, in_sample_tpr)\n",
    "out_sample_roc_auc = auc(out_sample_fpr, out_sample_tpr)\n",
    "\n",
    "print('In-Sample AUC: %0.4f' % in_sample_roc_auc)\n",
    "print('Out-Sample AUC: %0.4f' % out_sample_roc_auc)"
   ]
  },
  {
   "cell_type": "markdown",
   "id": "4bd4b153",
   "metadata": {},
   "source": [
    "NOTES:\n",
    "- If you see a big gap between these two numbers, it is a sign of overfitting and you should try to address it by pruning the trees in the forest by tuning the hyperparameters, such as the maximum depth and minimum number of samples to split."
   ]
  },
  {
   "cell_type": "code",
   "execution_count": 51,
   "id": "13402c7e",
   "metadata": {},
   "outputs": [
    {
     "data": {
      "image/png": "[encoded data removed]",
      "text/plain": [
       "<Figure size 1000x700 with 1 Axes>"
      ]
     },
     "metadata": {},
     "output_type": "display_data"
    }
   ],
   "source": [
    "plt.figure(figsize=(10,7))\n",
    "\n",
    "plt.plot(\n",
    "    out_sample_fpr, out_sample_tpr, color='darkorange', label='Out-Sample ROC curve (area = %0.4f)' % in_sample_roc_auc\n",
    ")\n",
    "plt.plot(\n",
    "    in_sample_fpr, in_sample_tpr, color='navy', label='In-Sample ROC curve (area = %0.4f)' % out_sample_roc_auc\n",
    ")\n",
    "plt.plot([0, 1], [0, 1], color='gray', lw=1, linestyle='--')\n",
    "plt.grid()\n",
    "plt.xlim([0.0, 1.0])\n",
    "plt.ylim([0.0, 1.05])\n",
    "plt.xlabel('False Positive Rate')\n",
    "plt.ylabel('True Positive Rate')\n",
    "plt.title('RandomForest Model ROC Curve')\n",
    "plt.legend(loc=\"lower right\")\n",
    "\n",
    "plt.show()"
   ]
  },
  {
   "cell_type": "code",
   "execution_count": null,
   "id": "aab836d8",
   "metadata": {},
   "outputs": [],
   "source": []
  }
 ],
 "metadata": {
  "kernelspec": {
   "display_name": "Python 3 (ipykernel)",
   "language": "python",
   "name": "python3"
  },
  "language_info": {
   "codemirror_mode": {
    "name": "ipython",
    "version": 3
   },
   "file_extension": ".py",
   "mimetype": "text/x-python",
   "name": "python",
   "nbconvert_exporter": "python",
   "pygments_lexer": "ipython3",
   "version": "3.11.4"
  }
 },
 "nbformat": 4,
 "nbformat_minor": 5
}
