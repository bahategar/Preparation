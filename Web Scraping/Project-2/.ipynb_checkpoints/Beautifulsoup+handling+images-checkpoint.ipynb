{
 "cells": [
  {
   "cell_type": "code",
   "execution_count": 1,
   "id": "59741a3d",
   "metadata": {},
   "outputs": [],
   "source": [
    "from bs4 import BeautifulSoup\n",
    "import requests"
   ]
  },
  {
   "cell_type": "code",
   "execution_count": 12,
   "id": "88d1412b",
   "metadata": {},
   "outputs": [
    {
     "name": "stdout",
     "output_type": "stream",
     "text": [
      "200\n"
     ]
    }
   ],
   "source": [
    "url = 'https://simple.wikipedia.org/wiki/Southeast_Asia'\n",
    "\n",
    "request = requests.get(url)\n",
    "print(request.status_code)\n",
    "soup = BeautifulSoup(request.text, \"html.parser\")"
   ]
  },
  {
   "cell_type": "code",
   "execution_count": 32,
   "id": "a6d762e5",
   "metadata": {},
   "outputs": [],
   "source": [
    "# Get all images of flag\n",
    "main_box = soup.find(attrs={'id': 'mw-content-text'}).ul\n",
    "li_flag_tags = main_box.find_all(name='li')\n",
    "src_flags = []\n",
    "countries = []\n",
    "for tag in li_flag_tags:\n",
    "    src_flags.append(tag.img['src'])\n",
    "    countries.append(tag.a.text.replace(' ', '_'))"
   ]
  },
  {
   "cell_type": "code",
   "execution_count": 41,
   "id": "b953dd8c",
   "metadata": {},
   "outputs": [],
   "source": [
    "for i in range(len(src_flags)):\n",
    "    with open(f\"./result/{countries[i]}\" + \".jpg\", \"wb\") as f:\n",
    "        link = requests.get(\"https:\"+src_flags[i])\n",
    "        f.write(link.content)"
   ]
  }
 ],
 "metadata": {
  "kernelspec": {
   "display_name": "Python 3 (ipykernel)",
   "language": "python",
   "name": "python3"
  },
  "language_info": {
   "codemirror_mode": {
    "name": "ipython",
    "version": 3
   },
   "file_extension": ".py",
   "mimetype": "text/x-python",
   "name": "python",
   "nbconvert_exporter": "python",
   "pygments_lexer": "ipython3",
   "version": "3.11.4"
  }
 },
 "nbformat": 4,
 "nbformat_minor": 5
}
