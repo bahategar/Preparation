{
 "cells": [
  {
   "cell_type": "code",
   "execution_count": 2,
   "id": "6ecf9c83",
   "metadata": {},
   "outputs": [],
   "source": [
    "from bs4 import BeautifulSoup\n",
    "import lxml\n",
    "import requests"
   ]
  },
  {
   "cell_type": "markdown",
   "id": "8b11a245",
   "metadata": {},
   "source": [
    "## Make a soup\n",
    "\n",
    "> Beautiful Soup transforms a complex HTML document into a complex tree of Python objects.\n",
    "\n",
    "soup = BeautifulSoup(markup, features)\n",
    "\n",
    "     :param markup: A string or a file-like object representing\n",
    "         markup to be parsed.\n",
    "\n",
    "     :param features: Desirable features of the parser to be\n",
    "      used. This may be the name of a specific parser (\"lxml\",\n",
    "      \"lxml-xml\", \"html.parser\", or \"html5lib\") or it may be the\n",
    "      type of markup to be used (\"html\", \"html5\", \"xml\"). It's\n",
    "      recommended that you name a specific parser, so that\n",
    "      Beautiful Soup gives you the same results across platforms\n",
    "      and virtual environments.\n",
    "\n",
    "\n",
    "![https://www.crummy.com/software/BeautifulSoup/bs4/doc/#bs4.BeautifulSoup](parser-comparison.png)\n",
    "Ref: https://www.crummy.com/software/BeautifulSoup/bs4/doc/#bs4.BeautifulSoup\n",
    "\n",
    "Difference bewteen parsers: https://www.crummy.com/software/BeautifulSoup/bs4/doc/#differences-between-parsers\n",
    "\n",
    "Full documentation: https://www.crummy.com/software/BeautifulSoup/bs4/doc/#calling-a-tag-is-like-calling-find-all"
   ]
  },
  {
   "cell_type": "markdown",
   "id": "dd4b319c",
   "metadata": {},
   "source": [
    "### Kinds of Objects\n",
    "\n",
    "Empat jenis objek:\n",
    "1. Tag ==> Represent Tag object.\n",
    "2. NavigableString ==> Represent Text object inside Tag object.\n",
    "3. BeautifulSoup ==> Represents the parsed document as a whole.\n",
    "4. Comment ==> The comment object inside Tag object."
   ]
  },
  {
   "cell_type": "code",
   "execution_count": 33,
   "id": "78364eee",
   "metadata": {},
   "outputs": [
    {
     "name": "stdout",
     "output_type": "stream",
     "text": [
      "[document]\n",
      "<class 'bs4.BeautifulSoup'>\n"
     ]
    }
   ],
   "source": [
    "# BeautifulSoup object\n",
    "\n",
    "doc = BeautifulSoup(\"<document><content/>INSERT FOOTER HERE</document\", \"xml\")\n",
    "print(doc.name) # return document (since it's document object model)\n",
    "print(type(doc))"
   ]
  },
  {
   "cell_type": "code",
   "execution_count": 10,
   "id": "93e49a59",
   "metadata": {},
   "outputs": [
    {
     "data": {
      "text/plain": [
       "bs4.element.Tag"
      ]
     },
     "execution_count": 10,
     "metadata": {},
     "output_type": "execute_result"
    }
   ],
   "source": [
    "# Tag Object\n",
    "\n",
    "soup = BeautifulSoup('<b class=\"boldest\">Extremely bold</b>', 'html.parser')\n",
    "tag = soup.b\n",
    "type(tag)"
   ]
  },
  {
   "cell_type": "code",
   "execution_count": 89,
   "id": "0d351b28",
   "metadata": {},
   "outputs": [
    {
     "name": "stdout",
     "output_type": "stream",
     "text": [
      "Full tag:  <b class=\"boldest\">Extremely bold</b>\n",
      "Name of tag:  b\n",
      "Attributes of tag:  {'class': ['boldest']}\n",
      "Get class attribute:  ['boldest']\n",
      "Aftering adding 'id' attribute :  <b class=\"boldest\" id=\"verybold\">Extremely bold</b>\n",
      "Text of tag:  Extremely bold\n"
     ]
    }
   ],
   "source": [
    "# Get the \"name\" attribute from tag object\n",
    "print(\"Full tag: \", tag)\n",
    "print(\"Name of tag: \", tag.name)\n",
    "\n",
    "# Get the \"attribute\" attribute from tag object\n",
    "print(\"Attributes of tag: \", tag.attrs)\n",
    "print(\"Get class attribute: \", tag['class'])\n",
    "\n",
    "# NOTE: You can add, remove, and modify a tag’s attributes.\n",
    "tag['id'] = 'verybold'\n",
    "print(\"Aftering adding 'id' attribute : \", tag)\n",
    "del tag['id']\n",
    "\n",
    "# Get the \"text\" attribute from tag object\n",
    "print(\"Text of tag: \", tag.text)"
   ]
  },
  {
   "cell_type": "code",
   "execution_count": 18,
   "id": "12ee3974",
   "metadata": {},
   "outputs": [
    {
     "data": {
      "text/plain": [
       "bs4.element.NavigableString"
      ]
     },
     "execution_count": 18,
     "metadata": {},
     "output_type": "execute_result"
    }
   ],
   "source": [
    "# NavigableString Object\n",
    "\n",
    "type(tag.string)"
   ]
  },
  {
   "cell_type": "code",
   "execution_count": 26,
   "id": "68808a94",
   "metadata": {},
   "outputs": [
    {
     "name": "stdout",
     "output_type": "stream",
     "text": [
      "Unicode string:  Extremely bold\n",
      "Unicode string type:  <class 'str'>\n",
      "<b class=\"boldest\">No longer bold</b>\n"
     ]
    },
    {
     "data": {
      "text/plain": [
       "'No longer bold'"
      ]
     },
     "execution_count": 26,
     "metadata": {},
     "output_type": "execute_result"
    }
   ],
   "source": [
    "# Convert NavigableString to a unicode string\n",
    "\n",
    "unicode_string = str(tag.string)\n",
    "print(\"Unicode string: \", unicode_string)\n",
    "print(\"Unicode string type: \", type(unicode_string))\n",
    "\n",
    "# Note: If we print tag.string object it will show the text too.\n",
    "\n",
    "# We can't edit a string in place but we can replace one string with another\n",
    "#  using 'replace_with'. It works like cut (return the replaced text)\n",
    "\n",
    "tag.string.replace_with(\"No longer bold\")\n",
    "print(tag)\n",
    "tag.string.replace_with(\"Extremely bold\")"
   ]
  },
  {
   "cell_type": "code",
   "execution_count": 29,
   "id": "a7ca0f10",
   "metadata": {},
   "outputs": [
    {
     "data": {
      "text/plain": [
       "bs4.element.Comment"
      ]
     },
     "execution_count": 29,
     "metadata": {},
     "output_type": "execute_result"
    }
   ],
   "source": [
    "# Comment Object\n",
    "\n",
    "markup = \"<b><!--Hey, buddy. Want to buy a used parser?--></b>\"\n",
    "soup = BeautifulSoup(markup, 'html.parser')\n",
    "comment = soup.b.string\n",
    "type(comment)"
   ]
  },
  {
   "cell_type": "markdown",
   "id": "1d5a4e55",
   "metadata": {},
   "source": [
    "### Navigating the tree"
   ]
  },
  {
   "cell_type": "markdown",
   "id": "115f4a82",
   "metadata": {},
   "source": [
    "#### A. Going Down"
   ]
  },
  {
   "cell_type": "code",
   "execution_count": 30,
   "id": "793a38d1",
   "metadata": {},
   "outputs": [],
   "source": [
    "html_doc = \"\"\"\n",
    "<html><head><title>The Dormouse's story</title></head>\n",
    "<body>\n",
    "<p class=\"title\"><b>The Dormouse's story</b></p>\n",
    "\n",
    "<p class=\"story\">Once upon a time there were three little sisters; and their names were\n",
    "<a href=\"http://example.com/elsie\" class=\"sister\" id=\"link1\">Elsie</a>,\n",
    "<a href=\"http://example.com/lacie\" class=\"sister\" id=\"link2\">Lacie</a> and\n",
    "<a href=\"http://example.com/tillie\" class=\"sister\" id=\"link3\">Tillie</a>;\n",
    "and they lived at the bottom of a well.</p>\n",
    "\n",
    "<p class=\"story\">...</p>\n",
    "\"\"\"\n",
    "\n",
    "from bs4 import BeautifulSoup\n",
    "soup = BeautifulSoup(html_doc, 'html.parser')"
   ]
  },
  {
   "cell_type": "code",
   "execution_count": 39,
   "id": "44405233",
   "metadata": {},
   "outputs": [
    {
     "name": "stdout",
     "output_type": "stream",
     "text": [
      "Get head Tag object:  <head><title>The Dormouse's story</title></head>\n",
      "Get title Tag object:  <title>The Dormouse's story</title>\n",
      "Get 'a' Tag object:  <a class=\"sister\" href=\"http://example.com/elsie\" id=\"link1\">Elsie</a>\n",
      "Get 'a' tag object:  <a class=\"sister\" href=\"http://example.com/elsie\" id=\"link1\">Elsie</a>\n"
     ]
    }
   ],
   "source": [
    "# Navigating using tag names\n",
    "\n",
    "print(\"Get head Tag object: \", soup.head)\n",
    "print(\"Get title Tag object: \", soup.title)\n",
    "print(\"Get 'a' Tag object: \", soup.body.a) # Get the first 'a' tag element\n",
    "print(\"Get 'a' tag object: \", soup.a) # Get the first 'a' tag element"
   ]
  },
  {
   "cell_type": "code",
   "execution_count": 48,
   "id": "13ba5ed8",
   "metadata": {},
   "outputs": [
    {
     "name": "stdout",
     "output_type": "stream",
     "text": [
      "Get all children list: \n",
      " ['\\n', <p class=\"title\"><b>The Dormouse's story</b></p>, '\\n', <p class=\"story\">Once upon a time there were three little sisters; and their names were\n",
      "<a class=\"sister\" href=\"http://example.com/elsie\" id=\"link1\">Elsie</a>,\n",
      "<a class=\"sister\" href=\"http://example.com/lacie\" id=\"link2\">Lacie</a> and\n",
      "<a class=\"sister\" href=\"http://example.com/tillie\" id=\"link3\">Tillie</a>;\n",
      "and they lived at the bottom of a well.</p>, '\\n', <p class=\"story\">...</p>, '\\n']\n",
      "Get all children list: (as generator)  <list_iterator object at 0x0000029707BC25C0>\n"
     ]
    }
   ],
   "source": [
    "# using 'contents' attribute ==> Return list of children object\n",
    "print(\"Get all children list: \\n\", soup.body.contents)\n",
    "\n",
    "# Using 'children' attribute ==> Return generator (not list)\n",
    "print(\"Get all children list: (as generator) \", soup.body.children)"
   ]
  },
  {
   "cell_type": "code",
   "execution_count": 46,
   "id": "35066a20",
   "metadata": {},
   "outputs": [
    {
     "name": "stdout",
     "output_type": "stream",
     "text": [
      "<title>The Dormouse's story</title>\n",
      "The Dormouse's story\n"
     ]
    }
   ],
   "source": [
    "# Using 'descendants' attributes ==> Return generator all descendants object \n",
    "#                                      (not only its direct children)\n",
    "\n",
    "for child in soup.head.descendants:\n",
    "    print(child)"
   ]
  },
  {
   "cell_type": "code",
   "execution_count": 58,
   "id": "a0b1e60d",
   "metadata": {},
   "outputs": [
    {
     "name": "stdout",
     "output_type": "stream",
     "text": [
      "Using 'string' attribute:  The Dormouse's story\n",
      "Using 'strings' attribute: \n",
      "\n",
      "'\\n'\n",
      "\"The Dormouse's story\"\n",
      "'\\n'\n",
      "'\\n'\n",
      "\"The Dormouse's story\"\n",
      "'\\n'\n",
      "'Once upon a time there were three little sisters; and their names were\\n'\n",
      "'Elsie'\n",
      "',\\n'\n",
      "'Lacie'\n",
      "' and\\n'\n",
      "'Tillie'\n",
      "';\\nand they lived at the bottom of a well.'\n",
      "'\\n'\n",
      "'...'\n",
      "'\\n'\n"
     ]
    }
   ],
   "source": [
    "# Using 'string' attribute ==> Return NavigableString object\n",
    "# Note: If the tag contains more than one thing, then it will return None\n",
    "print(\"Using 'string' attribute: \", soup.head.string)\n",
    "\n",
    "# Using 'strings' attribute ==> Return generator of all NavigableString objects\n",
    "# Note: It will includes newlines and spaces that separate tags.\n",
    "print(\"Using 'strings' attribute: \\n\")\n",
    "for string in soup.strings:\n",
    "    print(repr(string))"
   ]
  },
  {
   "cell_type": "markdown",
   "id": "f6eeb353",
   "metadata": {},
   "source": [
    "#### B. Going Up"
   ]
  },
  {
   "cell_type": "code",
   "execution_count": 60,
   "id": "b8f3a655",
   "metadata": {},
   "outputs": [
    {
     "name": "stdout",
     "output_type": "stream",
     "text": [
      "<head><title>The Dormouse's story</title></head>\n",
      "p\n",
      "body\n",
      "html\n",
      "[document]\n"
     ]
    }
   ],
   "source": [
    "# Using 'parent' attribute ==> Return element direct parent object\n",
    "# Note: If the tag contains more than one thing, then it will return None\n",
    "\n",
    "print(soup.title.parent)\n",
    "\n",
    "# Using 'parents' attribute ==> Return generator of all ascending element objects\n",
    "for parent in soup.a.parents:\n",
    "    print(parent.name)"
   ]
  },
  {
   "cell_type": "markdown",
   "id": "ad1d9734",
   "metadata": {},
   "source": [
    "#### C. Going sideways"
   ]
  },
  {
   "cell_type": "code",
   "execution_count": 62,
   "id": "4db1a73d",
   "metadata": {},
   "outputs": [
    {
     "name": "stdout",
     "output_type": "stream",
     "text": [
      "<a>\n",
      " <b>\n",
      "  text1\n",
      " </b>\n",
      " <c>\n",
      "  text2\n",
      " </c>\n",
      "</a>\n",
      "\n"
     ]
    }
   ],
   "source": [
    "sibling_soup = BeautifulSoup(\"<a><b>text1</b><c>text2</c></a>\", 'html.parser')\n",
    "print(sibling_soup.prettify())"
   ]
  },
  {
   "cell_type": "code",
   "execution_count": 63,
   "id": "3a7b8286",
   "metadata": {},
   "outputs": [
    {
     "name": "stdout",
     "output_type": "stream",
     "text": [
      "Next sibling b tag element:  <c>text2</c>\n",
      "Previous sibling c tag element:  <b>text1</b>\n"
     ]
    }
   ],
   "source": [
    "# Using 'next_sibling' or 'previous_sibling' attribute \n",
    "#   ==> Return direct next or previous sibling element object\n",
    "\n",
    "print(\"Next sibling b tag element: \", sibling_soup.b.next_sibling)\n",
    "print(\"Previous sibling c tag element: \", sibling_soup.c.previous_sibling)\n",
    "\n",
    "\n",
    "# Note: In real documents, the .next_sibling or .previous_sibling of \n",
    "#         a tag will usually be a string containing whitespace."
   ]
  },
  {
   "cell_type": "code",
   "execution_count": 64,
   "id": "3a075a96",
   "metadata": {},
   "outputs": [
    {
     "name": "stdout",
     "output_type": "stream",
     "text": [
      "',\\n'\n",
      "<a class=\"sister\" href=\"http://example.com/lacie\" id=\"link2\">Lacie</a>\n",
      "' and\\n'\n",
      "<a class=\"sister\" href=\"http://example.com/tillie\" id=\"link3\">Tillie</a>\n",
      "';\\nand they lived at the bottom of a well.'\n"
     ]
    }
   ],
   "source": [
    "# Using 'next_sibling' or 'previous_sibling' attribute \n",
    "#   ==> Return generator all next or previous sibling element objects\n",
    "# Note: This inlcude the newlines and spaces\n",
    "\n",
    "for sibling in soup.a.next_siblings:\n",
    "    print(repr(sibling))"
   ]
  },
  {
   "cell_type": "markdown",
   "id": "03ad0624",
   "metadata": {},
   "source": [
    "### Searching The Tree\n"
   ]
  },
  {
   "cell_type": "markdown",
   "id": "5dcb046a",
   "metadata": {},
   "source": [
    "#### A. Descending search tree\n",
    "\n",
    "The most common methods:\n",
    "```\n",
    "1. find()\n",
    "\n",
    "find(name, attrs, recursive, string, **kwargs)\n",
    "\n",
    "=> return Object\n",
    "\n",
    "2. find_all()\n",
    "\n",
    "find_all(name, attrs, recursive, string, limit, **kwargs)\n",
    "\n",
    "=> return List\n",
    "\n",
    "```\n",
    "\n",
    "- name: The name of the tag you want to search for (e.g., 'div', 'a'). dtype=string, regex compiler, boolean function, list.\n",
    "- attrs: A dictionary of attributes you want to search for (e.g., {'class': 'example'}).\n",
    "- recursive: If set to True (default), the method will search all descendants; if set to False, it will search only direct children.\n",
    "- string: A string to search for in the tag's content.\n",
    "- **kwargs: Other keyword arguments can also be used as shortcuts for attributes (e.g., class_='example').\n",
    "- limit: The maximum number of results to return.\n",
    "\n",
    "\n",
    "Notes: Remember that find_all() and find() work their way down the tree, looking at tag’s descendants."
   ]
  },
  {
   "cell_type": "code",
   "execution_count": 65,
   "id": "e03e99b3",
   "metadata": {},
   "outputs": [
    {
     "name": "stdout",
     "output_type": "stream",
     "text": [
      "<html>\n",
      " <head>\n",
      "  <title>\n",
      "   The Dormouse's story\n",
      "  </title>\n",
      " </head>\n",
      " <body>\n",
      "  <p class=\"title\">\n",
      "   <b>\n",
      "    The Dormouse's story\n",
      "   </b>\n",
      "  </p>\n",
      "  <p class=\"story\">\n",
      "   Once upon a time there were three little sisters; and their names were\n",
      "   <a class=\"sister\" href=\"http://example.com/elsie\" id=\"link1\">\n",
      "    Elsie\n",
      "   </a>\n",
      "   ,\n",
      "   <a class=\"sister\" href=\"http://example.com/lacie\" id=\"link2\">\n",
      "    Lacie\n",
      "   </a>\n",
      "   and\n",
      "   <a class=\"sister\" href=\"http://example.com/tillie\" id=\"link3\">\n",
      "    Tillie\n",
      "   </a>\n",
      "   ;\n",
      "and they lived at the bottom of a well.\n",
      "  </p>\n",
      "  <p class=\"story\">\n",
      "   ...\n",
      "  </p>\n",
      " </body>\n",
      "</html>\n",
      "\n"
     ]
    }
   ],
   "source": [
    "html_doc = \"\"\"<html><head><title>The Dormouse's story</title></head>\n",
    "<body>\n",
    "<p class=\"title\"><b>The Dormouse's story</b></p>\n",
    "\n",
    "<p class=\"story\">Once upon a time there were three little sisters; and their names were\n",
    "<a href=\"http://example.com/elsie\" class=\"sister\" id=\"link1\">Elsie</a>,\n",
    "<a href=\"http://example.com/lacie\" class=\"sister\" id=\"link2\">Lacie</a> and\n",
    "<a href=\"http://example.com/tillie\" class=\"sister\" id=\"link3\">Tillie</a>;\n",
    "and they lived at the bottom of a well.</p>\n",
    "\n",
    "<p class=\"story\">...</p>\n",
    "\"\"\"\n",
    "\n",
    "soup = BeautifulSoup(html_doc, 'html.parser')\n",
    "\n",
    "print(soup.prettify())"
   ]
  },
  {
   "cell_type": "code",
   "execution_count": 90,
   "id": "04c226a6",
   "metadata": {},
   "outputs": [
    {
     "name": "stdout",
     "output_type": "stream",
     "text": [
      "Find all elements using name argument string:  [<a class=\"sister\" href=\"http://example.com/elsie\" id=\"link1\">Elsie</a>, <a class=\"sister\" href=\"http://example.com/lacie\" id=\"link2\">Lacie</a>, <a class=\"sister\" href=\"http://example.com/tillie\" id=\"link3\">Tillie</a>]\n",
      "\n",
      "Find all elements using name argument regex:  [<body>\n",
      "<p class=\"title\"><b>The Dormouse's story</b></p>\n",
      "<p class=\"story\">Once upon a time there were three little sisters; and their names were\n",
      "<a class=\"sister\" href=\"http://example.com/elsie\" id=\"link1\">Elsie</a>,\n",
      "<a class=\"sister\" href=\"http://example.com/lacie\" id=\"link2\">Lacie</a> and\n",
      "<a class=\"sister\" href=\"http://example.com/tillie\" id=\"link3\">Tillie</a>;\n",
      "and they lived at the bottom of a well.</p>\n",
      "<p class=\"story\">...</p>\n",
      "</body>, <b>The Dormouse's story</b>]\n",
      "\n",
      "Find all elements using name argument list:  [<b>The Dormouse's story</b>, <a class=\"sister\" href=\"http://example.com/elsie\" id=\"link1\">Elsie</a>, <a class=\"sister\" href=\"http://example.com/lacie\" id=\"link2\">Lacie</a>, <a class=\"sister\" href=\"http://example.com/tillie\" id=\"link3\">Tillie</a>]\n",
      "\n",
      "Find all elements using name argument function:  [<p class=\"title\"><b>The Dormouse's story</b></p>, <p class=\"story\">Once upon a time there were three little sisters; and their names were\n",
      "<a class=\"sister\" href=\"http://example.com/elsie\" id=\"link1\">Elsie</a>,\n",
      "<a class=\"sister\" href=\"http://example.com/lacie\" id=\"link2\">Lacie</a> and\n",
      "<a class=\"sister\" href=\"http://example.com/tillie\" id=\"link3\">Tillie</a>;\n",
      "and they lived at the bottom of a well.</p>, <p class=\"story\">...</p>]\n"
     ]
    }
   ],
   "source": [
    "# Find all element using 'string' data type\n",
    "\n",
    "import re\n",
    "\n",
    "print(\"Find all elements using name argument string: \", soup.find_all(name='a'))\n",
    "print()\n",
    "print(\"Find all elements using name argument regex: \", soup.find_all(name=re.compile(\"^b\")))\n",
    "print()\n",
    "print(\"Find all elements using name argument list: \", soup.find_all(name=['a', 'b']))\n",
    "print()\n",
    "\n",
    "def has_class_but_no_id(tag):\n",
    "    return tag.has_attr('class') and not tag.has_attr('id')\n",
    "print(\"Find all elements using name argument function: \", soup.find_all(name=has_class_but_no_id))"
   ]
  },
  {
   "cell_type": "markdown",
   "id": "0fadf876",
   "metadata": {},
   "source": [
    "#### B. Ascending search tree\n",
    "\n",
    "The most common methods:\n",
    "```\n",
    "find_parents(name, attrs, string, limit, **kwargs)\n",
    "\n",
    "=> return List\n",
    "\n",
    "find_parent(name, attrs, string, **kwargs)\n",
    "\n",
    "=> return Object\n",
    "```\n",
    "\n",
    "- name: The name of the tag you want to search for (e.g., 'div', 'a'). dtype=string, regex compiler, boolean function, list.\n",
    "- attrs: A dictionary of attributes you want to search for (e.g., {'class': 'example'}).\n",
    "- recursive: If set to True (default), the method will search all descendants; if set to False, it will search only direct children.\n",
    "- string: A string to search for in the tag's content.\n",
    "- **kwargs: Other keyword arguments can also be used as shortcuts for attributes (e.g., class_='example').\n",
    "- limit: The maximum number of results to return.\n"
   ]
  },
  {
   "cell_type": "code",
   "execution_count": 75,
   "id": "1617a809",
   "metadata": {},
   "outputs": [
    {
     "name": "stdout",
     "output_type": "stream",
     "text": [
      "Find the direct parent of the current node:  <a class=\"sister\" href=\"http://example.com/lacie\" id=\"link2\">Lacie</a>\n"
     ]
    }
   ],
   "source": [
    "a_string = soup.find(string=\"Lacie\")\n",
    "a_string # The current node\n",
    "\n",
    "print(\"Find the direct parent of the current node: \", a_string.find_parent())"
   ]
  },
  {
   "cell_type": "code",
   "execution_count": 76,
   "id": "d9b398b7",
   "metadata": {},
   "outputs": [
    {
     "name": "stdout",
     "output_type": "stream",
     "text": [
      "5\n"
     ]
    },
    {
     "data": {
      "text/plain": [
       "[<a class=\"sister\" href=\"http://example.com/lacie\" id=\"link2\">Lacie</a>,\n",
       " <p class=\"story\">Once upon a time there were three little sisters; and their names were\n",
       " <a class=\"sister\" href=\"http://example.com/elsie\" id=\"link1\">Elsie</a>,\n",
       " <a class=\"sister\" href=\"http://example.com/lacie\" id=\"link2\">Lacie</a> and\n",
       " <a class=\"sister\" href=\"http://example.com/tillie\" id=\"link3\">Tillie</a>;\n",
       " and they lived at the bottom of a well.</p>,\n",
       " <body>\n",
       " <p class=\"title\"><b>The Dormouse's story</b></p>\n",
       " <p class=\"story\">Once upon a time there were three little sisters; and their names were\n",
       " <a class=\"sister\" href=\"http://example.com/elsie\" id=\"link1\">Elsie</a>,\n",
       " <a class=\"sister\" href=\"http://example.com/lacie\" id=\"link2\">Lacie</a> and\n",
       " <a class=\"sister\" href=\"http://example.com/tillie\" id=\"link3\">Tillie</a>;\n",
       " and they lived at the bottom of a well.</p>\n",
       " <p class=\"story\">...</p>\n",
       " </body>,\n",
       " <html><head><title>The Dormouse's story</title></head>\n",
       " <body>\n",
       " <p class=\"title\"><b>The Dormouse's story</b></p>\n",
       " <p class=\"story\">Once upon a time there were three little sisters; and their names were\n",
       " <a class=\"sister\" href=\"http://example.com/elsie\" id=\"link1\">Elsie</a>,\n",
       " <a class=\"sister\" href=\"http://example.com/lacie\" id=\"link2\">Lacie</a> and\n",
       " <a class=\"sister\" href=\"http://example.com/tillie\" id=\"link3\">Tillie</a>;\n",
       " and they lived at the bottom of a well.</p>\n",
       " <p class=\"story\">...</p>\n",
       " </body></html>,\n",
       " <html><head><title>The Dormouse's story</title></head>\n",
       " <body>\n",
       " <p class=\"title\"><b>The Dormouse's story</b></p>\n",
       " <p class=\"story\">Once upon a time there were three little sisters; and their names were\n",
       " <a class=\"sister\" href=\"http://example.com/elsie\" id=\"link1\">Elsie</a>,\n",
       " <a class=\"sister\" href=\"http://example.com/lacie\" id=\"link2\">Lacie</a> and\n",
       " <a class=\"sister\" href=\"http://example.com/tillie\" id=\"link3\">Tillie</a>;\n",
       " and they lived at the bottom of a well.</p>\n",
       " <p class=\"story\">...</p>\n",
       " </body></html>]"
      ]
     },
     "execution_count": 76,
     "metadata": {},
     "output_type": "execute_result"
    }
   ],
   "source": [
    "print(len(a_string.find_parents()))\n",
    "a_string.find_parents() # Find all the direct and indirect\n",
    "                        # parent of the current node"
   ]
  }
 ],
 "metadata": {
  "kernelspec": {
   "display_name": "Python 3 (ipykernel)",
   "language": "python",
   "name": "python3"
  },
  "language_info": {
   "codemirror_mode": {
    "name": "ipython",
    "version": 3
   },
   "file_extension": ".py",
   "mimetype": "text/x-python",
   "name": "python",
   "nbconvert_exporter": "python",
   "pygments_lexer": "ipython3",
   "version": "3.11.4"
  }
 },
 "nbformat": 4,
 "nbformat_minor": 5
}
