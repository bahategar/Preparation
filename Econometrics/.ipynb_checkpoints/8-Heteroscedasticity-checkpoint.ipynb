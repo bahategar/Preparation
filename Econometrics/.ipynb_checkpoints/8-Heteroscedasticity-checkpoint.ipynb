{
 "cells": [
  {
   "cell_type": "code",
   "execution_count": 19,
   "id": "ec7a75e4",
   "metadata": {},
   "outputs": [],
   "source": [
    "# Import package for getting dataset example\n",
    "import wooldridge as woo\n",
    "\n",
    "import numpy as np\n",
    "import pandas as pd\n",
    "import matplotlib.pyplot as plt\n",
    "\n",
    "import scipy.stats as stats\n",
    "import statsmodels.api as sm\n",
    "import statsmodels.formula.api as smf\n",
    "import patsy as pt\n",
    "\n",
    "import math\n",
    "from tqdm import tqdm"
   ]
  },
  {
   "cell_type": "markdown",
   "id": "efec2336",
   "metadata": {},
   "source": [
    "# Introduction\n",
    "\n",
    "> Recall that if homoscedasticity is violated, the standard errors are invalid and all inferences from t, F, and other test based on them are unreliable. Also the asymptotic of OLS depends on homoscedasticity.\n",
    "\n",
    "This is the flow chart how to deal with heteroscedasticity:\n",
    "\n",
    "1. Heteroscedasticity Tests.\n",
    "2. If it's heteroscedasity, then try fit model with Weighted Least Squares (WLS) instead OLS.\n",
    "3. Do Heteroscedasticity Test on WLS model.\n",
    "4. If it's heteroscedasity, then try develop Heteroscedasticity-robust statistics."
   ]
  },
  {
   "cell_type": "markdown",
   "id": "02f7b498",
   "metadata": {},
   "source": [
    "# Heteroscedasticity-Robust Statistics\n",
    "\n",
    "> Heteroscedasticity-Robust statistics will modify the standard error of the regression coefficients so that the hypothesis tests and confidence intervals remain valid even when heteroskedasticity is present. The modify standard error is called **Heteroscedasticity-robust standard error**.\n",
    "\n",
    "NOTE: In case Heteroscedasticity, generally all inferences from t and F are not reliable. However wih some modification, there are t, F, or LM testing for case heteroscedasticity.\n",
    "\n",
    "Here are a few key points about heteroskedasticity-robust statistics:\n",
    "\n",
    "- Robust Standard Errors: These are adjusted standard errors that account for heteroskedasticity. They provide more reliable estimates of the variability of the regression coefficients when the error variance is not constant.\n",
    "\n",
    "- Robust Variance-Covariance Matrix: The matrix of the parameter estimates' variances and covariances is adjusted to be robust to heteroskedasticity. This adjustment leads to more accurate inference in the presence of heteroskedasticity.\n",
    "\n",
    "- White's Standard Errors: Named after Halbert White, these are a common type of heteroskedasticity-robust standard errors. They provide a way to correct the standard errors for heteroskedasticity without requiring a specific model for the error variance.\n",
    "\n",
    "- Cluster-Robust Standard Errors: When data is grouped into clusters (e.g., students within schools, patients within hospitals), cluster-robust standard errors account for the fact that observations within the same cluster may be correlated. This is useful when heteroskedasticity is present and observations are not independent"
   ]
  },
  {
   "cell_type": "markdown",
   "id": "08a4f0e0",
   "metadata": {},
   "source": [
    "In statsmodels.formula.api, if the regression model obtained by **ols** is stored in the variable $reg$, the variance-covariance\n",
    "matrix can be calculated using:\n",
    "- **reg.fit(cov_type='nonrobust')** or reg.fit() for the default homoscedasticity-based standard errors.\n",
    "- **reg.fit(cov_type='HC0')** for the classical version of White’s robust variance-covariance matrix presented by Wooldridge (2019, Equation 8.4 in Section 8.2).\n",
    "- **reg.fit(cov_type='HC1')** for a version of White’s robust variance-covariance matrix corrected by degrees of freedom.\n",
    "- **reg.fit(cov_type='HC2')** for a version with a small sample correction. This is the default behavior of Stata.\n",
    "- **reg.fit(cov_type='HC3')** for the refined version of White’s robust variance-covariance matrix."
   ]
  },
  {
   "cell_type": "markdown",
   "id": "d7a1f111",
   "metadata": {},
   "source": [
    "![image](images/Example_8-2.png)"
   ]
  },
  {
   "cell_type": "code",
   "execution_count": 6,
   "id": "f4ce8ebb",
   "metadata": {},
   "outputs": [
    {
     "name": "stdout",
     "output_type": "stream",
     "text": [
      "Table Default:\n",
      "                b      se       t  pval\n",
      "Intercept  1.4701  0.2298  6.3971   0.0\n",
      "sat        0.0011  0.0002  6.3885   0.0\n",
      "hsperc    -0.0086  0.0012 -6.9060   0.0\n",
      "tothrs     0.0025  0.0007  3.4255   0.0\n",
      "female     0.3034  0.0590  5.1412   0.0\n",
      "black     -0.1283  0.1474 -0.8705   0.0\n",
      "white     -0.0587  0.1410 -0.4165   1.0\n",
      "Table White:\n",
      "                b      se       t  pval\n",
      "Intercept  1.4701  0.2186  6.7261   0.0\n",
      "sat        0.0011  0.0002  6.0136   0.0\n",
      "hsperc    -0.0086  0.0014 -6.1001   0.0\n",
      "tothrs     0.0025  0.0007  3.4136   0.0\n",
      "female     0.3034  0.0586  5.1807   0.0\n",
      "black     -0.1283  0.1181 -1.0863   0.0\n",
      "white     -0.0587  0.1103 -0.5323   1.0\n",
      "Table Refined:\n",
      "                b      se       t  pval\n",
      "Intercept  1.4701  0.2294  6.4089   0.0\n",
      "sat        0.0011  0.0002  5.8402   0.0\n",
      "hsperc    -0.0086  0.0014 -5.9341   0.0\n",
      "tothrs     0.0025  0.0007  3.3418   0.0\n",
      "female     0.3034  0.0600  5.0539   0.0\n",
      "black     -0.1283  0.1282 -1.0007   0.0\n",
      "white     -0.0587  0.1204 -0.4876   1.0\n"
     ]
    }
   ],
   "source": [
    "gpa3 = woo.dataWoo('gpa3')\n",
    "# Part 1 demonstrate some commands for Heteroscedasticity-Robust Error\n",
    "\n",
    "reg = smf.ols(formula='cumgpa ~ sat + hsperc + tothrs + female + black + white',\n",
    "               data=gpa3, subset=(gpa3['spring'] == 1))\n",
    "\n",
    "# Default modeling\n",
    "model = reg.fit()\n",
    "\n",
    "table_default = pd.DataFrame({'b': round(model.params, 4),\n",
    "                              'se': round(model.bse, 4),\n",
    "                              't': round(model.tvalues, 4), \n",
    "                              'pval': round(model.pvalues,)})\n",
    "\n",
    "print(\"Table Default:\")\n",
    "print(table_default)\n",
    "\n",
    "# Estimate model with White SE (only for spring data)\n",
    "model_white = reg.fit(cov_type='HC0')\n",
    "table_white = pd.DataFrame({'b': round(model_white.params, 4),\n",
    "                              'se': round(model_white.bse, 4),\n",
    "                              't': round(model_white.tvalues, 4), \n",
    "                              'pval': round(model_white.pvalues,)})\n",
    "\n",
    "print(\"Table White:\")\n",
    "print(table_white)\n",
    "\n",
    "# Estimate model with refined White SE (only for spring data)\n",
    "model_refined = reg.fit(cov_type='HC3')\n",
    "\n",
    "table_refined = pd.DataFrame({'b': round(model_refined.params, 4),\n",
    "                              'se': round(model_refined.bse, 4),\n",
    "                              't': round(model_refined.tvalues, 4), \n",
    "                              'pval': round(model_refined.pvalues,)})\n",
    "\n",
    "print(\"Table Refined:\")\n",
    "print(table_refined)"
   ]
  },
  {
   "cell_type": "code",
   "execution_count": 9,
   "id": "ea44198e",
   "metadata": {},
   "outputs": [
    {
     "name": "stdout",
     "output_type": "stream",
     "text": [
      "fstat_default: 0.6796041956073365\n",
      "fpval_default: 0.5074683622584049\n",
      "\n",
      "fstat_hc3: 0.6724692957656628\n",
      "fpval_hc3: 0.5110883633440992\n",
      "\n",
      "fstat_hc3: 0.7477969818036214\n",
      "fpval_hc3: 0.4741442714738484\n"
     ]
    }
   ],
   "source": [
    "gpa = woo.dataWoo('gpa3')\n",
    "\n",
    "# Part 2 demonstrate how to applying F-test on different Heteroscedasticity-Robust\n",
    "#  and compare it.\n",
    "\n",
    "reg = smf.ols(formula='cumgpa ~ sat + hsperc + tothrs + female + black + white',\n",
    "               data=gpa3, subset=(gpa3['spring'] == 1))\n",
    "\n",
    "hypotheses = ['black = 0', 'white = 0']\n",
    "\n",
    "# F-tests using different variance-covariance formula\n",
    "# 1. Usual VCOV\n",
    "model = reg.fit()\n",
    "ftest_default = model.f_test(hypotheses)\n",
    "fstat_default = ftest_default.statistic\n",
    "fpval_default = ftest_default.pvalue\n",
    "print(f\"fstat_default: {fstat_default}\")\n",
    "print(f\"fpval_default: {fpval_default}\")\n",
    "\n",
    "# 2. Refined White VCOV\n",
    "model_hc3 = reg.fit(cov_type='HC3')\n",
    "ftest_hc3 = model_hc3.f_test(hypotheses)\n",
    "fstat_hc3 = ftest_hc3.statistic\n",
    "fpval_hc3 = ftest_hc3.pvalue\n",
    "print(f\"\\nfstat_hc3: {fstat_hc3}\")\n",
    "print(f\"fpval_hc3: {fpval_hc3}\")\n",
    "\n",
    "# 3. Classical White VCOV\n",
    "model_hc0 = reg.fit(cov_type='HC0')\n",
    "ftest_hc0 = model_hc0.f_test(hypotheses)\n",
    "fstat_hc0 = ftest_hc0.statistic\n",
    "fpval_hc0 = ftest_hc0.pvalue\n",
    "print(f\"\\nfstat_hc3: {fstat_hc0}\")\n",
    "print(f\"fpval_hc3: {fpval_hc0}\")"
   ]
  },
  {
   "cell_type": "markdown",
   "id": "373fd681",
   "metadata": {},
   "source": [
    "# Heteroscedasticity Tests\n",
    "\n",
    "The methods can be use:\n",
    "1. Breusch-Pagan test for heteroscedasticity.\n",
    "\n",
    "\n",
    "> The tests the hypothesis that the residual variance does not depend on the variables in x in the form **using simple linear relationship**.\n",
    "\n",
    "\n",
    "2. White Test (more general)\n",
    "> Checking heteroskedasticity **complex forms, such as quadratic relationships or interactions between independent variables**. Test hyptohesis that residual variance does not depend on any regressors in that complex form."
   ]
  },
  {
   "cell_type": "markdown",
   "id": "f79133d9",
   "metadata": {},
   "source": [
    "![image](images/Example_8-4.png)"
   ]
  },
  {
   "cell_type": "code",
   "execution_count": 18,
   "id": "b49c1521",
   "metadata": {},
   "outputs": [
    {
     "name": "stdout",
     "output_type": "stream",
     "text": [
      "Table Result:\n",
      "                 b       se       t    pval\n",
      "Intercept -21.7703  29.4750 -0.7386  0.4622\n",
      "lotsize     0.0021   0.0006  3.2201  0.0018\n",
      "sqrft       0.1228   0.0132  9.2751  0.0000\n",
      "bdrms      13.8525   9.0101  1.5374  0.1279\n",
      "F_statistic: 5.338919363241526\n",
      "p_value: 0.0020477444209358042\n",
      "bp_LM_statistic: 14.092385504350437\n",
      "bp_LM_pval: 0.002782059555688887\n"
     ]
    }
   ],
   "source": [
    "# Calculation with manual\n",
    "\n",
    "hprice1 = woo.dataWoo('hprice1')\n",
    "\n",
    "# Estimate model\n",
    "model = smf.ols(formula='price ~ lotsize + sqrft + bdrms',\n",
    "                data=hprice1).fit()\n",
    "table_results = pd.DataFrame({'b': round(model.params, 4),\n",
    "                              'se': round(model.bse, 4),\n",
    "                              't': round(model.tvalues, 4),\n",
    "                              'pval': round(model.pvalues, 4)})\n",
    "print(\"Table Result:\")\n",
    "print(table_results)\n",
    "\n",
    "# Manual BP test (F version):\n",
    "hprice1['resid_sq'] = model.resid ** 2\n",
    "model_resid = smf.ols(formula='resid_sq ~ lotsize + sqrft + bdrms',\n",
    "                      data=hprice1).fit()\n",
    "\n",
    "## Calculate sum of squares\n",
    "y_resid_mean = np.mean(hprice1['resid_sq'])\n",
    "SSR = np.sum((model_resid.fittedvalues - y_resid_mean) ** 2)\n",
    "SSE = np.sum(model_resid.resid ** 2)\n",
    "\n",
    "## Degrees of freedom\n",
    "df_regression = model_resid.df_model\n",
    "df_residual = model_resid.df_resid\n",
    "\n",
    "## Mean Squares\n",
    "MSR = SSR / df_regression\n",
    "MSE = SSE / df_residual\n",
    "\n",
    "## F-statistic\n",
    "bp_F_statistic = MSR / MSE\n",
    "\n",
    "## p-value\n",
    "bp_F_pval = 1 - stats.f.cdf(F_statistic, df_regression, df_residual)\n",
    "\n",
    "print(f'F_statistic: {bp_F_statistic}')\n",
    "print(f'p_value: {bp_F_pval}')\n",
    "\n",
    "\n",
    "# Manual BP test (LM version):\n",
    "# hprice1['resid_sq'] = model.resid ** 2\n",
    "model_resid = smf.ols(formula='resid_sq ~ lotsize + sqrft + bdrms',\n",
    "                      data=hprice1).fit()\n",
    "n = len(hprice1)\n",
    "r2_aux = model_resid.rsquared\n",
    "bp_LM_statistic = n * r2_aux\n",
    "bp_LM_pval = 1 - stats.chi2.cdf(bp_LM_statistic, \n",
    "                                df=len(model_resid.params) - 1)\n",
    "\n",
    "print(f\"bp_LM_statistic: {bp_LM_statistic}\")\n",
    "print(f\"bp_LM_pval: {bp_LM_pval}\")"
   ]
  },
  {
   "cell_type": "code",
   "execution_count": 25,
   "id": "2f2129e5",
   "metadata": {},
   "outputs": [
    {
     "name": "stdout",
     "output_type": "stream",
     "text": [
      "Table Result:\n",
      "                 b       se       t    pval\n",
      "Intercept -21.7703  29.4750 -0.7386  0.4622\n",
      "lotsize     0.0021   0.0006  3.2201  0.0018\n",
      "sqrft       0.1228   0.0132  9.2751  0.0000\n",
      "bdrms      13.8525   9.0101  1.5374  0.1279\n",
      "F_statistic: 5.338919363241507\n",
      "p_value: 0.002047744420935856\n",
      "bp_LM_statistic: 14.092385504350437\n",
      "bp_LM_pval: 0.0027820595556888317\n"
     ]
    }
   ],
   "source": [
    "# Calculation with Automatic\n",
    "\n",
    "hprice1 = woo.dataWoo('hprice1')\n",
    "\n",
    "# Estiimate model\n",
    "model = smf.ols(formula='price ~ lotsize + sqrft + bdrms',\n",
    "                data=hprice1).fit()\n",
    "table_results = pd.DataFrame({'b': round(model.params, 4),\n",
    "                              'se': round(model.bse, 4),\n",
    "                              't': round(model.tvalues, 4),\n",
    "                              'pval': round(model.pvalues, 4)})\n",
    "print(\"Table Result:\")\n",
    "print(table_results)\n",
    "\n",
    "\n",
    "# Automatic BP test (LM Version and F version)\n",
    "y, X_bp = pt.dmatrices('price ~ lotsize + sqrft + bdrms',\n",
    "                       data=hprice1, return_type='dataframe')\n",
    "results_bp = sm.stats.diagnostic.het_breuschpagan(model.resid, X_bp)\n",
    "bp_LM_statistic, bp_LM_pval, bp_F_statistic, bp_F_pval = results_bp\n",
    "\n",
    "\n",
    "print(f'F_statistic: {bp_F_statistic}')\n",
    "print(f'p_value: {bp_F_pval}')\n",
    "\n",
    "print(f\"bp_LM_statistic: {bp_LM_statistic}\")\n",
    "print(f\"bp_LM_pval: {bp_LM_pval}\")"
   ]
  },
  {
   "cell_type": "markdown",
   "id": "e678abda",
   "metadata": {},
   "source": [
    "![image](images/Example_8-5.png)"
   ]
  },
  {
   "cell_type": "code",
   "execution_count": 30,
   "id": "e5657f9c",
   "metadata": {},
   "outputs": [
    {
     "name": "stdout",
     "output_type": "stream",
     "text": [
      "bp_LM_statistic: 4.223245741805276\n",
      "bp_LM_pval: 0.23834482631492962\n",
      "white_statistic: 3.4472865468751914\n",
      "white_pval: 0.17841494794131688\n"
     ]
    }
   ],
   "source": [
    "hprice1 = woo.dataWoo('hprice1')\n",
    "\n",
    "# Estimate model\n",
    "model = smf.ols(formula='np.log(price) ~ np.log(lotsize) + np.log(sqrft) + bdrms',\n",
    "                data=hprice1).fit()\n",
    "\n",
    "# BP test\n",
    "y, X_bp = pt.dmatrices('np.log(price) ~ np.log(lotsize) + np.log(sqrft) + bdrms',\n",
    "                       data=hprice1, return_type='dataframe')\n",
    "result_bp = sm.stats.diagnostic.het_breuschpagan(model.resid, X_bp)\n",
    "bp_LM_statistic = result_bp[0]\n",
    "bp_LM_pval = result_bp[1]\n",
    "\n",
    "print(f\"bp_LM_statistic: {bp_LM_statistic}\")\n",
    "print(f\"bp_LM_pval: {bp_LM_pval}\")\n",
    "\n",
    "# White test\n",
    "X_wh = pd.DataFrame({'const': 1, 'fitted_reg': model.fittedvalues,\n",
    "                     'fitted_reg_sq': model.fittedvalues ** 2})\n",
    "result_white = sm.stats.diagnostic.het_breuschpagan(model.resid, X_wh)\n",
    "white_statistic = result_white[0]\n",
    "white_pval = result_white[1]\n",
    "\n",
    "print(f\"white_statistic: {white_statistic}\")\n",
    "print(f\"white_pval: {white_pval}\")"
   ]
  },
  {
   "cell_type": "markdown",
   "id": "18153cf4",
   "metadata": {},
   "source": [
    "# Wighted Least Squares\n",
    "\n",
    "> It's process for fitting model but instead minimize Sum of Squared Residuals (OLS), we use Weighted Sum.\n",
    "\n",
    "WLS is a special case of Feasible Generalized Least Squares (FGLS):\n",
    "\n",
    "- FGLS is a more general approach that adjusts the OLS estimates to account for heteroskedasticity and other forms of error structure.\n",
    "\n",
    "- In the context of heteroskedasticity, FGLS estimates the variance of the errors first and then applies WLS using these estimated variances as weights. \n",
    "\n",
    "- This process makes the estimation \"feasible\" because the true variances of the errors are usually unknown and must be estimated from the data."
   ]
  },
  {
   "cell_type": "markdown",
   "id": "06186f0a",
   "metadata": {},
   "source": [
    "![image](images/Example_8-6.png)"
   ]
  },
  {
   "cell_type": "code",
   "execution_count": 37,
   "id": "088a7e8a",
   "metadata": {},
   "outputs": [
    {
     "name": "stdout",
     "output_type": "stream",
     "text": [
      "                          b      se        t    pval\n",
      "Intercept          -20.9850  2.4720  -8.4890  0.0000\n",
      "inc                  0.7706  0.0615  12.5396  0.0000\n",
      "I((age - 25) ** 2)   0.0251  0.0026   9.6888  0.0000\n",
      "male                 2.4779  2.0478   1.2101  0.2264\n",
      "e401k                6.8862  2.1233   3.2432  0.0012\n",
      "                          b      se        t    pval\n",
      "Intercept          -16.7025  1.9580  -8.5304  0.0000\n",
      "inc                  0.7404  0.0643  11.5140  0.0000\n",
      "I((age - 25) ** 2)   0.0175  0.0019   9.0796  0.0000\n",
      "male                 1.8405  1.5636   1.1771  0.2393\n",
      "e401k                5.1883  1.7034   3.0458  0.0024\n"
     ]
    }
   ],
   "source": [
    "k401ksubs = woo.dataWoo('401ksubs')\n",
    "\n",
    "# Subsetting data\n",
    "k401ksubs_sub = k401ksubs[k401ksubs['fsize'] == 1]\n",
    "\n",
    "# OLS (only for singles, i.e. fsize==1)\n",
    "model_ols = smf.ols(formula='nettfa ~ inc + I((age - 25) ** 2) + male + e401k',\n",
    "                    data=k401ksubs_sub).fit()\n",
    "\n",
    "table_ols = pd.DataFrame({'b': round(model_ols.params, 4),\n",
    "                          'se': round(model_ols.bse, 4), \n",
    "                          't': round(model_ols.tvalues, 4),\n",
    "                          'pval': round(model_ols.pvalues, 4)})\n",
    "print(table_ols)\n",
    "\n",
    "# WLS\n",
    "wls_weight = list(1 / k401ksubs_sub['inc'])\n",
    "reg_wls = smf.wls(formula='nettfa ~ inc + I((age-25)**2) + male + e401k',\n",
    "                  weights=wls_weight, data=k401ksubs_sub)\n",
    "model_wls = reg_wls.fit()\n",
    "table_wls = pd.DataFrame({'b': round(model_wls.params, 4),\n",
    "                          'se': round(model_wls.bse, 4), \n",
    "                          't': round(model_wls.tvalues, 4),\n",
    "                          'pval': round(model_wls.pvalues, 4)})\n",
    "print(table_wls)"
   ]
  },
  {
   "cell_type": "markdown",
   "id": "5b8aab0f",
   "metadata": {},
   "source": [
    "**WLS Robust**"
   ]
  },
  {
   "cell_type": "code",
   "execution_count": 43,
   "id": "6602272b",
   "metadata": {},
   "outputs": [
    {
     "name": "stdout",
     "output_type": "stream",
     "text": [
      "                          b      se        t    pval\n",
      "Intercept          -16.7025  1.9580  -8.5304  0.0000\n",
      "inc                  0.7404  0.0643  11.5140  0.0000\n",
      "I((age - 25) ** 2)   0.0175  0.0019   9.0796  0.0000\n",
      "male                 1.8405  1.5636   1.1771  0.2393\n",
      "e401k                5.1883  1.7034   3.0458  0.0024\n",
      "                          b      se       t    pval\n",
      "Intercept          -16.7025  2.2482 -7.4292  0.0000\n",
      "inc                  0.7404  0.0752  9.8403  0.0000\n",
      "I((age - 25) ** 2)   0.0175  0.0026  6.7650  0.0000\n",
      "male                 1.8405  1.3132  1.4015  0.1611\n",
      "e401k                5.1883  1.5743  3.2955  0.0010\n"
     ]
    }
   ],
   "source": [
    "k401ksubs = woo.dataWoo('401ksubs')\n",
    "\n",
    "# Subsetting data\n",
    "k401ksubs_sub = k401ksubs[k401ksubs['fsize'] == 1]\n",
    "\n",
    "# WLS\n",
    "wls_weight = list(1 / k401ksubs_sub['inc'])\n",
    "reg_wls = smf.wls(formula='nettfa ~ inc + I((age-25)**2) + male + e401k',\n",
    "                  weights=wls_weight, data=k401ksubs_sub)\n",
    "model_wls = reg_wls.fit()\n",
    "table_wls = pd.DataFrame({'b': round(model_wls.params, 4),\n",
    "                          'se': round(model_wls.bse, 4), \n",
    "                          't': round(model_wls.tvalues, 4),\n",
    "                          'pval': round(model_wls.pvalues, 4)})\n",
    "print(table_wls)\n",
    "\n",
    "# Robust results (Refined White SE)\n",
    "model_white = reg_wls.fit(cov_type='HC3')\n",
    "table_white = pd.DataFrame({'b': round(model_white.params, 4),\n",
    "                          'se': round(model_white.bse, 4), \n",
    "                          't': round(model_white.tvalues, 4),\n",
    "                          'pval': round(model_white.pvalues, 4)})\n",
    "print(table_white)"
   ]
  },
  {
   "cell_type": "markdown",
   "id": "cb2e8894",
   "metadata": {},
   "source": [
    "![image](images/Example_8-7.png)"
   ]
  },
  {
   "cell_type": "code",
   "execution_count": 44,
   "id": "808e9faf",
   "metadata": {},
   "outputs": [
    {
     "name": "stdout",
     "output_type": "stream",
     "text": [
      "Table OLS:\n",
      "                       b       se       t    pval\n",
      "Intercept       -3.6398  24.0787 -0.1512  0.8799\n",
      "np.log(income)   0.8803   0.7278  1.2095  0.2268\n",
      "np.log(cigpric) -0.7509   5.7733 -0.1301  0.8966\n",
      "educ            -0.5015   0.1671 -3.0016  0.0028\n",
      "age              0.7707   0.1601  4.8132  0.0000\n",
      "I(age ** 2)     -0.0090   0.0017 -5.1765  0.0000\n",
      "restaurn        -2.8251   1.1118 -2.5410  0.0112\n",
      "bp_statistic: 32.25841908120112\n",
      "bp_pval: 1.4557794830279539e-05\n",
      "Table FGLS:\n",
      "                       b       se       t    pval\n",
      "Intercept       -3.6398  24.0787 -0.1512  0.8799\n",
      "np.log(income)   0.8803   0.7278  1.2095  0.2268\n",
      "np.log(cigpric) -0.7509   5.7733 -0.1301  0.8966\n",
      "educ            -0.5015   0.1671 -3.0016  0.0028\n",
      "age              0.7707   0.1601  4.8132  0.0000\n",
      "I(age ** 2)     -0.0090   0.0017 -5.1765  0.0000\n",
      "restaurn        -2.8251   1.1118 -2.5410  0.0112\n",
      "Table WLS:\n",
      "                       b       se       t    pval\n",
      "Intercept        5.6355  17.8031  0.3165  0.7517\n",
      "np.log(income)   1.2952   0.4370  2.9639  0.0031\n",
      "np.log(cigpric) -2.9403   4.4601 -0.6592  0.5099\n",
      "educ            -0.4634   0.1202 -3.8570  0.0001\n",
      "age              0.4819   0.0968  4.9784  0.0000\n",
      "I(age ** 2)     -0.0056   0.0009 -5.9897  0.0000\n",
      "restaurn        -3.4611   0.7955 -4.3508  0.0000\n"
     ]
    }
   ],
   "source": [
    "smoke = woo.dataWoo('smoke')\n",
    "\n",
    "# OLS\n",
    "model_ols = smf.ols(formula='cigs ~ np.log(income) + np.log(cigpric) +' \n",
    "                            'educ + age + I(age**2) + restaurn',\n",
    "                    data=smoke).fit()\n",
    "table_ols = pd.DataFrame({'b': round(model_ols.params, 4),\n",
    "                          'se': round(model_ols.bse, 4),\n",
    "                          't': round(model_ols.tvalues, 4),\n",
    "                          'pval': round(model_ols.pvalues, 4)})\n",
    "\n",
    "print(f\"Table OLS:\\n\", table_ols)\n",
    "\n",
    "# BP test\n",
    "y, X = pt.dmatrices('cigs ~ np.log(income) + np.log(cigpric) + educ +'\n",
    "                    'age + I(age**2) + restaurn',\n",
    "                    data=smoke, return_type='dataframe')\n",
    "result_bp = sm.stats.diagnostic.het_breuschpagan(model_ols.resid, X)\n",
    "bp_statistic = result_bp[0]\n",
    "bp_pval = result_bp[1]\n",
    "print(f\"bp_statistic: {bp_statistic}\")\n",
    "print(f\"bp_pval: {bp_pval}\")\n",
    "\n",
    "# FGLS (esimation of the variance function)\n",
    "smoke['logu2'] = np.log(model_ols.resid ** 2)\n",
    "model_fgls = smf.ols(formula='logu2 ~ np.log(income) + np.log(cigpric) +'\n",
    "                             'educ + age + I(age**2) + restaurn',\n",
    "                     data=smoke).fit()\n",
    "table_fgls = pd.DataFrame({'b': round(model_ols.params, 4),\n",
    "                          'se': round(model_ols.bse, 4),\n",
    "                          't': round(model_ols.tvalues, 4),\n",
    "                          'pval': round(model_ols.pvalues, 4)})\n",
    "\n",
    "print(f\"Table FGLS:\\n\", table_fgls)\n",
    "\n",
    "# FGLS fitted values as weight in WLS\n",
    "wls_weight = list(1 / np.exp(model_fgls.fittedvalues))\n",
    "model_wls = smf.wls(formula='cigs ~ np.log(income) + np.log(cigpric) +'\n",
    "                            'educ + age + I(age**2) +restaurn',\n",
    "                     weights=wls_weight, data=smoke).fit()\n",
    "table_wls = pd.DataFrame({'b': round(model_wls.params, 4),\n",
    "                          'se': round(model_wls.bse, 4),\n",
    "                          't': round(model_wls.tvalues, 4),\n",
    "                          'pval': round(model_wls.pvalues, 4)})\n",
    "\n",
    "print(f\"Table WLS:\\n\", table_wls)"
   ]
  },
  {
   "cell_type": "code",
   "execution_count": null,
   "id": "c04a9f53",
   "metadata": {},
   "outputs": [],
   "source": []
  }
 ],
 "metadata": {
  "kernelspec": {
   "display_name": "Python 3 (ipykernel)",
   "language": "python",
   "name": "python3"
  },
  "language_info": {
   "codemirror_mode": {
    "name": "ipython",
    "version": 3
   },
   "file_extension": ".py",
   "mimetype": "text/x-python",
   "name": "python",
   "nbconvert_exporter": "python",
   "pygments_lexer": "ipython3",
   "version": "3.11.4"
  }
 },
 "nbformat": 4,
 "nbformat_minor": 5
}
