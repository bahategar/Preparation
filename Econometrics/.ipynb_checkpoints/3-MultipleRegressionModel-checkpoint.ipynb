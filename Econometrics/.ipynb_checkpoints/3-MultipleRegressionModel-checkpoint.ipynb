{
 "cells": [
  {
   "cell_type": "code",
   "execution_count": 2,
   "id": "39422484",
   "metadata": {},
   "outputs": [
    {
     "name": "stderr",
     "output_type": "stream",
     "text": [
      "C:\\Users\\Baha Tegar\\anaconda3\\Lib\\site-packages\\pandas\\core\\arrays\\masked.py:60: UserWarning: Pandas requires version '1.3.6' or newer of 'bottleneck' (version '1.3.5' currently installed).\n",
      "  from pandas.core import (\n"
     ]
    }
   ],
   "source": [
    "# Import package for getting dataset example\n",
    "import wooldridge as woo\n",
    "\n",
    "import numpy as np\n",
    "import pandas as pd\n",
    "import matplotlib.pyplot as plt\n",
    "\n",
    "import scipy.stats as stats\n",
    "import statsmodels.api as sm\n",
    "import statsmodels.formula.api as smf\n",
    "\n",
    "import math"
   ]
  },
  {
   "cell_type": "markdown",
   "id": "9d02c4c1",
   "metadata": {},
   "source": [
    "# Multiple Regression in Practice\n",
    "\n",
    "The general formula of Multiple Regression Model:\n",
    "\n",
    "$$\n",
    "y = \\hat{\\beta}_0 + \\hat{\\beta}_1 x_1 + \\hat{\\beta}_2 x_2 + \\hat{\\beta}_3 x_3 + \\cdots + \\hat{\\beta}_k x_k + \\hat{\\text{e}}\n",
    "$$\n",
    "\n",
    "\n",
    "Assumptions model (Gauss-Markov Asumptions):\n",
    "\n",
    "1. The true model follows:\n",
    "> $$\n",
    "y = \\beta_0 + \\beta_1 x_1 + \\beta_2 x_2 + \\beta_3 x_3 + \\cdots + \\beta_k x_k + \\text{e}\n",
    "$$\n",
    "\n",
    "\n",
    "2. There are random sample of n observations from population {$(x_{i,1}, x_{i,2}, ..., x_{i,k}, y_i) : i = 1, 2, 3, ..., n$}\n",
    "\n",
    "3. No perfect collinearity \n",
    "> It allows the regressors to be correlated, they just cannot be perfectly linear correlated.\n",
    "\n",
    "4. Zero conditional mean\n",
    "> The error term $\\text{e}$ has an expected value of zero given any values of the regressors:\n",
    "> $$ E (e | x_1, x_2, ..., x_k) = 0 $$\n",
    "\n",
    "5. Homoskedasticity (**It doesn't make the estomator bias**, but it makes less precise estimator and less accurate hypothesis tests)\n",
    "> $$ Var(e | x_1, x_2, ..., x_k) = \\sigma $$"
   ]
  },
  {
   "cell_type": "markdown",
   "id": "8bf7b95b",
   "metadata": {},
   "source": [
    "**Residu and fitted value properteis**:\n",
    "1. The sample average of the residuals is zero, $ \\hat{y} = \\hat{\\bar{y}} $.\n",
    "2. The sample covariance between each regressors and the OLS residuals is zero, $ Cov( \\hat{e}, x_j ) = 0 $.\n",
    "3. The point of ($\\bar{x}_1, \\bar{x}_2, \\bar{x}_3, ..., \\bar{x}_k, \\bar{y}$) is always on the OLS regression line, $\\bar{y} = \\hat{\\beta}_0 + \\hat{\\beta}_1 \\bar{x}_1 + \\hat{\\beta}_2 \\bar{x}_2 + \\hat{\\beta}_3 \\bar{x}_3 + \\cdots + \\hat{\\beta}_k \\bar{x}_k $"
   ]
  },
  {
   "cell_type": "markdown",
   "id": "8e5610b9",
   "metadata": {},
   "source": [
    "![image](images/table-term-multiple-regression.png)"
   ]
  },
  {
   "cell_type": "markdown",
   "id": "4149a51e",
   "metadata": {},
   "source": [
    "![image](images/Example_3-1.png)"
   ]
  },
  {
   "cell_type": "code",
   "execution_count": 3,
   "id": "44a23fcf",
   "metadata": {},
   "outputs": [
    {
     "name": "stdout",
     "output_type": "stream",
     "text": [
      "Summary:\n",
      "\n",
      "                            OLS Regression Results                            \n",
      "==============================================================================\n",
      "Dep. Variable:                 colGPA   R-squared:                       0.176\n",
      "Model:                            OLS   Adj. R-squared:                  0.164\n",
      "Method:                 Least Squares   F-statistic:                     14.78\n",
      "Date:                Sat, 31 Aug 2024   Prob (F-statistic):           1.53e-06\n",
      "Time:                        13:39:33   Log-Likelihood:                -46.573\n",
      "No. Observations:                 141   AIC:                             99.15\n",
      "Df Residuals:                     138   BIC:                             108.0\n",
      "Df Model:                           2                                         \n",
      "Covariance Type:            nonrobust                                         \n",
      "==============================================================================\n",
      "                 coef    std err          t      P>|t|      [0.025      0.975]\n",
      "------------------------------------------------------------------------------\n",
      "Intercept      1.2863      0.341      3.774      0.000       0.612       1.960\n",
      "hsGPA          0.4535      0.096      4.733      0.000       0.264       0.643\n",
      "ACT            0.0094      0.011      0.875      0.383      -0.012       0.031\n",
      "==============================================================================\n",
      "Omnibus:                        3.056   Durbin-Watson:                   1.885\n",
      "Prob(Omnibus):                  0.217   Jarque-Bera (JB):                2.469\n",
      "Skew:                           0.199   Prob(JB):                        0.291\n",
      "Kurtosis:                       2.488   Cond. No.                         298.\n",
      "==============================================================================\n",
      "\n",
      "Notes:\n",
      "[1] Standard Errors assume that the covariance matrix of the errors is correctly specified.\n"
     ]
    }
   ],
   "source": [
    "# Import data\n",
    "gpa1 = woo.dataWoo('gpa1')\n",
    "\n",
    "# Modeling\n",
    "model = smf.ols(formula='colGPA ~ hsGPA + ACT', data=gpa1).fit()\n",
    "print(\"Summary:\\n\")\n",
    "print(model.summary())"
   ]
  },
  {
   "cell_type": "markdown",
   "id": "dd2c10b2",
   "metadata": {},
   "source": [
    "![image](images/Example_3-2.png)"
   ]
  },
  {
   "cell_type": "code",
   "execution_count": 4,
   "id": "11d3d97a",
   "metadata": {},
   "outputs": [
    {
     "name": "stdout",
     "output_type": "stream",
     "text": [
      "Summary:\n",
      "                            OLS Regression Results                            \n",
      "==============================================================================\n",
      "Dep. Variable:           np.log(wage)   R-squared:                       0.316\n",
      "Model:                            OLS   Adj. R-squared:                  0.312\n",
      "Method:                 Least Squares   F-statistic:                     80.39\n",
      "Date:                Sat, 31 Aug 2024   Prob (F-statistic):           9.13e-43\n",
      "Time:                        13:39:33   Log-Likelihood:                -313.55\n",
      "No. Observations:                 526   AIC:                             635.1\n",
      "Df Residuals:                     522   BIC:                             652.2\n",
      "Df Model:                           3                                         \n",
      "Covariance Type:            nonrobust                                         \n",
      "==============================================================================\n",
      "                 coef    std err          t      P>|t|      [0.025      0.975]\n",
      "------------------------------------------------------------------------------\n",
      "Intercept      0.2844      0.104      2.729      0.007       0.080       0.489\n",
      "educ           0.0920      0.007     12.555      0.000       0.078       0.106\n",
      "exper          0.0041      0.002      2.391      0.017       0.001       0.008\n",
      "tenure         0.0221      0.003      7.133      0.000       0.016       0.028\n",
      "==============================================================================\n",
      "Omnibus:                       11.534   Durbin-Watson:                   1.769\n",
      "Prob(Omnibus):                  0.003   Jarque-Bera (JB):               20.941\n",
      "Skew:                           0.021   Prob(JB):                     2.84e-05\n",
      "Kurtosis:                       3.977   Cond. No.                         135.\n",
      "==============================================================================\n",
      "\n",
      "Notes:\n",
      "[1] Standard Errors assume that the covariance matrix of the errors is correctly specified.\n"
     ]
    }
   ],
   "source": [
    "# Case  Wage vs education, experience, and tenure\n",
    "# Extract data\n",
    "\n",
    "wage1 = woo.dataWoo('wage1')\n",
    "\n",
    "# Modeling\n",
    "model = smf.ols(formula='np.log(wage) ~ educ + exper + tenure',\n",
    "                data=wage1).fit()\n",
    "\n",
    "print(\"Summary:\")\n",
    "print(model.summary())"
   ]
  },
  {
   "cell_type": "code",
   "execution_count": 5,
   "id": "8fee76dc",
   "metadata": {},
   "outputs": [
    {
     "name": "stdout",
     "output_type": "stream",
     "text": [
      "Summary:\n",
      "                            OLS Regression Results                            \n",
      "==============================================================================\n",
      "Dep. Variable:                  prate   R-squared:                       0.092\n",
      "Model:                            OLS   Adj. R-squared:                  0.091\n",
      "Method:                 Least Squares   F-statistic:                     77.79\n",
      "Date:                Sat, 31 Aug 2024   Prob (F-statistic):           6.67e-33\n",
      "Time:                        13:39:34   Log-Likelihood:                -6422.3\n",
      "No. Observations:                1534   AIC:                         1.285e+04\n",
      "Df Residuals:                    1531   BIC:                         1.287e+04\n",
      "Df Model:                           2                                         \n",
      "Covariance Type:            nonrobust                                         \n",
      "==============================================================================\n",
      "                 coef    std err          t      P>|t|      [0.025      0.975]\n",
      "------------------------------------------------------------------------------\n",
      "Intercept     80.1190      0.779    102.846      0.000      78.591      81.647\n",
      "mrate          5.5213      0.526     10.499      0.000       4.490       6.553\n",
      "age            0.2431      0.045      5.440      0.000       0.155       0.331\n",
      "==============================================================================\n",
      "Omnibus:                      375.579   Durbin-Watson:                   1.910\n",
      "Prob(Omnibus):                  0.000   Jarque-Bera (JB):              805.992\n",
      "Skew:                          -1.387   Prob(JB):                    9.57e-176\n",
      "Kurtosis:                       5.217   Cond. No.                         32.5\n",
      "==============================================================================\n",
      "\n",
      "Notes:\n",
      "[1] Standard Errors assume that the covariance matrix of the errors is correctly specified.\n"
     ]
    }
   ],
   "source": [
    "# Case prate vs mrate and age\n",
    "\n",
    "# Extract data\n",
    "k401k = woo.dataWoo('401k')\n",
    "\n",
    "# Model\n",
    "model = smf.ols(formula='prate ~ mrate + age', data=k401k).fit()\n",
    "print(\"Summary:\")\n",
    "print(model.summary())"
   ]
  },
  {
   "cell_type": "code",
   "execution_count": 6,
   "id": "e497a4e3",
   "metadata": {},
   "outputs": [
    {
     "name": "stdout",
     "output_type": "stream",
     "text": [
      "Summary:\n",
      "                            OLS Regression Results                            \n",
      "==============================================================================\n",
      "Dep. Variable:                 narr86   R-squared:                       0.041\n",
      "Model:                            OLS   Adj. R-squared:                  0.040\n",
      "Method:                 Least Squares   F-statistic:                     39.10\n",
      "Date:                Sat, 31 Aug 2024   Prob (F-statistic):           9.91e-25\n",
      "Time:                        13:39:34   Log-Likelihood:                -3394.7\n",
      "No. Observations:                2725   AIC:                             6797.\n",
      "Df Residuals:                    2721   BIC:                             6821.\n",
      "Df Model:                           3                                         \n",
      "Covariance Type:            nonrobust                                         \n",
      "==============================================================================\n",
      "                 coef    std err          t      P>|t|      [0.025      0.975]\n",
      "------------------------------------------------------------------------------\n",
      "Intercept      0.7118      0.033     21.565      0.000       0.647       0.776\n",
      "pcnv          -0.1499      0.041     -3.669      0.000      -0.230      -0.070\n",
      "ptime86       -0.0344      0.009     -4.007      0.000      -0.051      -0.018\n",
      "qemp86        -0.1041      0.010    -10.023      0.000      -0.124      -0.084\n",
      "==============================================================================\n",
      "Omnibus:                     2394.860   Durbin-Watson:                   1.836\n",
      "Prob(Omnibus):                  0.000   Jarque-Bera (JB):           106169.153\n",
      "Skew:                           4.002   Prob(JB):                         0.00\n",
      "Kurtosis:                      32.513   Cond. No.                         8.27\n",
      "==============================================================================\n",
      "\n",
      "Notes:\n",
      "[1] Standard Errors assume that the covariance matrix of the errors is correctly specified.\n"
     ]
    }
   ],
   "source": [
    "# Case narr86 vs pcnv, ptime89, and qemp86\n",
    "\n",
    "# Extract data\n",
    "crime1 = woo.dataWoo('crime1')\n",
    "\n",
    "# Modeling\n",
    "model = smf.ols(formula='narr86 ~ pcnv + ptime86 + qemp86',\n",
    "                data=crime1).fit()\n",
    "\n",
    "print(\"Summary:\")\n",
    "print(model.summary())"
   ]
  },
  {
   "cell_type": "code",
   "execution_count": 7,
   "id": "8b89c575",
   "metadata": {},
   "outputs": [
    {
     "name": "stdout",
     "output_type": "stream",
     "text": [
      "Summary:\n",
      "                            OLS Regression Results                            \n",
      "==============================================================================\n",
      "Dep. Variable:                 narr86   R-squared:                       0.042\n",
      "Model:                            OLS   Adj. R-squared:                  0.041\n",
      "Method:                 Least Squares   F-statistic:                     29.96\n",
      "Date:                Sat, 31 Aug 2024   Prob (F-statistic):           2.01e-24\n",
      "Time:                        13:39:34   Log-Likelihood:                -3393.5\n",
      "No. Observations:                2725   AIC:                             6797.\n",
      "Df Residuals:                    2720   BIC:                             6826.\n",
      "Df Model:                           4                                         \n",
      "Covariance Type:            nonrobust                                         \n",
      "==============================================================================\n",
      "                 coef    std err          t      P>|t|      [0.025      0.975]\n",
      "------------------------------------------------------------------------------\n",
      "Intercept      0.7068      0.033     21.319      0.000       0.642       0.772\n",
      "pcnv          -0.1508      0.041     -3.692      0.000      -0.231      -0.071\n",
      "avgsen         0.0074      0.005      1.572      0.116      -0.002       0.017\n",
      "ptime86       -0.0374      0.009     -4.252      0.000      -0.055      -0.020\n",
      "qemp86        -0.1033      0.010     -9.940      0.000      -0.124      -0.083\n",
      "==============================================================================\n",
      "Omnibus:                     2396.990   Durbin-Watson:                   1.837\n",
      "Prob(Omnibus):                  0.000   Jarque-Bera (JB):           106841.658\n",
      "Skew:                           4.006   Prob(JB):                         0.00\n",
      "Kurtosis:                      32.611   Cond. No.                         10.2\n",
      "==============================================================================\n",
      "\n",
      "Notes:\n",
      "[1] Standard Errors assume that the covariance matrix of the errors is correctly specified.\n"
     ]
    }
   ],
   "source": [
    "# Case narr86 vs pcnv, avgsen, ptime86, and qemp86\n",
    "\n",
    "# Extract data\n",
    "crime1 = woo.dataWoo('crime1')\n",
    "\n",
    "# Modeling\n",
    "model = smf.ols(formula='narr86 ~ pcnv + avgsen + ptime86 + qemp86',\n",
    "                data=crime1).fit()\n",
    "\n",
    "print(\"Summary:\")\n",
    "print(model.summary())"
   ]
  },
  {
   "cell_type": "code",
   "execution_count": 8,
   "id": "4c304c04",
   "metadata": {},
   "outputs": [
    {
     "name": "stdout",
     "output_type": "stream",
     "text": [
      "Summary:\n",
      "                            OLS Regression Results                            \n",
      "==============================================================================\n",
      "Dep. Variable:           np.log(wage)   R-squared:                       0.186\n",
      "Model:                            OLS   Adj. R-squared:                  0.184\n",
      "Method:                 Least Squares   F-statistic:                     119.6\n",
      "Date:                Sat, 31 Aug 2024   Prob (F-statistic):           3.27e-25\n",
      "Time:                        13:39:34   Log-Likelihood:                -359.38\n",
      "No. Observations:                 526   AIC:                             722.8\n",
      "Df Residuals:                     524   BIC:                             731.3\n",
      "Df Model:                           1                                         \n",
      "Covariance Type:            nonrobust                                         \n",
      "==============================================================================\n",
      "                 coef    std err          t      P>|t|      [0.025      0.975]\n",
      "------------------------------------------------------------------------------\n",
      "Intercept      0.5838      0.097      5.998      0.000       0.393       0.775\n",
      "educ           0.0827      0.008     10.935      0.000       0.068       0.098\n",
      "==============================================================================\n",
      "Omnibus:                       11.804   Durbin-Watson:                   1.801\n",
      "Prob(Omnibus):                  0.003   Jarque-Bera (JB):               13.811\n",
      "Skew:                           0.268   Prob(JB):                      0.00100\n",
      "Kurtosis:                       3.586   Cond. No.                         60.2\n",
      "==============================================================================\n",
      "\n",
      "Notes:\n",
      "[1] Standard Errors assume that the covariance matrix of the errors is correctly specified.\n"
     ]
    }
   ],
   "source": [
    "# Case  Wage vs education\n",
    "# Extract data\n",
    "\n",
    "wage1 = woo.dataWoo('wage1')\n",
    "\n",
    "# Modeling\n",
    "model = smf.ols(formula='np.log(wage) ~ educ',\n",
    "                data=wage1).fit()\n",
    "\n",
    "print(\"Summary:\")\n",
    "print(model.summary())"
   ]
  },
  {
   "cell_type": "markdown",
   "id": "8dccb0a5",
   "metadata": {},
   "source": [
    "# OLS in Matrix Form\n",
    "\n",
    "- Beta parameters:\n",
    "\n",
    "$$\n",
    "\\hat{\\boldsymbol{\\beta}} = \\left( \\mathbf{X}'\\mathbf{X} \\right)^{-1} \\mathbf{X}'\\mathbf{y}\n",
    "$$\n",
    "\n",
    "\n",
    "- Residuals:\n",
    "\n",
    "$$\n",
    "\\hat{\\mathbf{u}} = \\mathbf{y} - \\mathbf{X} \\hat{\\boldsymbol{\\beta}}\n",
    "$$\n",
    "\n",
    "- Variance of error (residuals):\n",
    "\n",
    "$$\n",
    "\\mathbf{\\hat{\\sigma}}^2 = \\frac{1}{n - k - 1} \\mathbf{\\hat{u}}' \\mathbf{\\hat{u}}\n",
    "$$\n",
    "\n",
    "\n",
    "- Estimated parameters OLS variance:\n",
    "\n",
    "$$\n",
    "\\text{Var}(\\mathbf{\\hat{\\beta}}) = \\sigma^2 (\\mathbf{X}'\\mathbf{X})^{-1}\n",
    "$$\n",
    "\n",
    "\n",
    "\n",
    "NOTE:\n",
    "- The standard errors of the parameter estimates are the square roots of the main diagonal of $\\text{Var}(\\mathbf{\\hat{\\beta}})$\n",
    "- Matrix multiplication using \"@\" for example: X@X"
   ]
  },
  {
   "cell_type": "code",
   "execution_count": 9,
   "id": "3e788e85",
   "metadata": {},
   "outputs": [
    {
     "name": "stdout",
     "output_type": "stream",
     "text": [
      "beta: \n",
      "[[1.28632777]\n",
      " [0.45345589]\n",
      " [0.00942601]]\n",
      "SER: [[0.34031576]]\n",
      "Std error beta = [0.34082212 0.09581292 0.01077719]\n"
     ]
    }
   ],
   "source": [
    "gpa1 = woo.dataWoo('gpa1')\n",
    "\n",
    "# Determine sample size & no. of regressors\n",
    "n = len(gpa1)\n",
    "k = 2\n",
    "\n",
    "# Extract y\n",
    "y = gpa1['colGPA']\n",
    "\n",
    "# Extract X \n",
    "X = pd.DataFrame({'const': 1, 'hsGPA': gpa1['hsGPA'], 'ACT': gpa1['ACT']})\n",
    "\n",
    "# Parameters estimates\n",
    "X = np.array(X)\n",
    "y = np.array(y).reshape(n, 1)\n",
    "b = np.linalg.inv(X.T@X) @ X.T @ y\n",
    "print(f\"beta: \\n{b}\")\n",
    "\n",
    "# Residuals, estiamted variance of residuals and SER\n",
    "residuals = y - X @ b\n",
    "var_residuals = (residuals.T @ residuals) / (n - k - 1)\n",
    "std_err_residuals = np.sqrt(var_residuals)\n",
    "print(f\"SER: {std_err_residuals}\")\n",
    "\n",
    "# Estimated variance of the parameters estiamtors and SE\n",
    "var_beta = var_residuals * np.linalg.inv(X.T @ X)\n",
    "std_error_est = np.sqrt(np.diagonal(var_beta))\n",
    "print(f\"Std error beta = {std_error_est}\")"
   ]
  },
  {
   "cell_type": "markdown",
   "id": "0e71466e",
   "metadata": {},
   "source": [
    "# Ceteris Paribus Interpretation and Omitted Variable Bias\n",
    "\n",
    "- Ceteris Paribus Interpretation\n",
    "> Analyze the effect of a single variable on an outcome, while holding all other relevant factors constant.\n",
    "\n",
    "- Omitted Variable Bias\n",
    "A particular estimator $\\hat{\\beta}_j$ is unbiased if:\n",
    "1. The omitted variables do not appear in true model.\n",
    "2. There is no correlation between regressor x_j and omitted variables (direct and indirect).\n",
    "> Example:\n",
    "\t> - Direct correlation: If $x_g$ is omitted regressor. Direct correlation means $x_g$ and $x_j$ is correlated.\n",
    "\t> - Indirect correlation: If $x_g$ is omitted regressor and there is another regressor $x_s$. Let $x_j$ and $x_s$  are correlated. Indirect correlation means that no correlation between  $x_j$ and $x_g$ but there is a correlation between $x_j$ and $x_s$.\n",
    "\n",
    "\n",
    "- Mathematically Equation\n",
    "\n",
    "We define $\\mathbf{x} = \\begin{bmatrix} 1 \\\\ x_1 \\\\ x_2 \\\\ \\vdots \\\\ x_k \\end{bmatrix}$ as vector regressors and $\\mathbf{\\beta} = \\begin{bmatrix} \\hat{\\beta}_0, & \\hat{\\beta}_1, & \\hat{\\beta}_2, & \\dots, & \\hat{\\beta}_k \\end{bmatrix}$ as vector estimators.\n",
    "\n",
    "We define $\\mathbf{x}_{om}$ as vector omitted regressors and $\\mathbf{\\beta}_{om}$ as vector omitted estimators, which both contain $m$ vectors. Where $\\mathbf{x}_{om} \\subseteq \\mathbf{x}$ and $\\mathbf{\\beta}_{om} \\subseteq \\mathbf{\\beta}$.\n",
    "\n",
    "\n",
    "$$\n",
    "\\tilde{\\beta}_j = \\hat{\\beta}_j + \\sum_{g=1}^{m} \\beta_g \\tilde{\\delta}_{j,g}\n",
    "$$\n",
    "\n",
    "Where,\n",
    "- $ \\tilde{\\delta}_{j,g} = \\frac{\\sum_{i=1}^{n} x_g \\tilde{r}_{i,j}}{\\sum_{i=1}^{n} \\left(\\tilde{r}_{i,j}\\right)^2} $\n",
    "- $ x_g \\in x_{om}$ and $\\beta_g \\in \\beta_{om}.$\n",
    "- $ \\tilde{r}_{i,j} $ = residual regression $x_j$ on un-omitted regressors at observation $i$.\n",
    "\n",
    "**Special case**:\n",
    "\n",
    "- If true model: $ y = \\beta_0 + \\beta_1 x_1 + \\beta_2 x_2 + e $\n",
    "- If omitted model: $ \\tilde{y} = \\tilde{\\beta}_0 + \\tilde{\\beta}_1 x_1 $\n",
    "\n",
    "In this case, we got:\n",
    "\n",
    "- $ \\tilde{r}_{i,1} = x_{i,1} - \\bar{x}_1 $\n",
    "- $ \\tilde{\\delta}_{1,2} = \\frac{\\sum_{i=1}^{n} x_2 \\left( x_{i,1} - \\bar{x}_1 \\right)}{\\sum_{i=1}^{n} \\left( x_{i,1} - \\bar{x}_1 \\right)^2} \\approx \\frac{ \\text{cov}(x_2, x_1) }{ \\text{var}(x_1) } = \\text{slope regression } x_2 \\text{ to } x_1 $\n",
    "- $ \\tilde{\\beta}_1 = \\beta_1 + \\beta_2 \\times \\text{slope regression } x_2 \\text{ to } x_1 $\n",
    "- $ \\text{Bias}(\\tilde{\\beta}_j) = \\beta_2 \\times \\text{slope regression } x_2 \\text{ to } x_1 $\n",
    "\n"
   ]
  },
  {
   "cell_type": "markdown",
   "id": "c436b680",
   "metadata": {},
   "source": [
    "### Case omitted hsGPA\n",
    "- True model: colGPA = ACT + hsGPA\n",
    "- Omitted model: colGPA = ACT"
   ]
  },
  {
   "cell_type": "code",
   "execution_count": 10,
   "id": "54070e73",
   "metadata": {},
   "outputs": [
    {
     "name": "stdout",
     "output_type": "stream",
     "text": [
      "Parameter model (full): \n",
      " Intercept    1.286328\n",
      "ACT          0.009426\n",
      "hsGPA        0.453456\n",
      "dtype: float64\n",
      "\n",
      "Delta tilde (omitted) alternative 1: 0.03889675325123464\n",
      "Estimator ACT (omitted) alternative 1: 0.027063973943178613\n",
      "\n",
      "Delta tilde (omitted) alternative 2: 0.03889675325123099\n",
      "Estimator ACT (omitted) alternative 2: 0.027063973943176955\n",
      "\n",
      "Parameter model (omitted): \n",
      " Intercept    2.402979\n",
      "ACT          0.027064\n",
      "dtype: float64\n"
     ]
    }
   ],
   "source": [
    "gpa1 = woo.dataWoo('gpa1')\n",
    "\n",
    "# Parameter estimates for full and simple model\n",
    "model = smf.ols(formula='colGPA ~ ACT + hsGPA', data=gpa1).fit()\n",
    "params = model.params\n",
    "print(f\"Parameter model (full): \\n\", params)\n",
    "\n",
    "print()\n",
    "\n",
    "# Relation between regressors \n",
    "# (aprroximate using slope regresion hsGPA and ACT)\n",
    "model_reg = smf.ols(formula='hsGPA ~ ACT', data=gpa1).fit()\n",
    "delta_tilde_1 = model_reg.params['ACT']\n",
    "b1_tilde = params['ACT'] + params['hsGPA'] * delta_tilde_1\n",
    "print(f\"Delta tilde (omitted) alternative 1: {delta_tilde_1}\")\n",
    "print(f\"Estimator ACT (omitted) alternative 1: {b1_tilde}\")\n",
    "\n",
    "print()\n",
    "\n",
    "# Relation between un-omitted regressors\n",
    "#  (approximation using ratio covariance residu un-omitted and \n",
    "#    omitted regressor regressors to variance of residu un-omitted)\n",
    "model_reg_unomitted = smf.ols(formula='ACT ~ 1', data=gpa1).fit()\n",
    "residu_unomitted = model_reg_unomitted.resid\n",
    "omitted = gpa1['hsGPA']\n",
    "delta_tilde_2 = np.sum(residu_unomitted * omitted) / np.sum(residu_unomitted ** 2)\n",
    "b2_tilde = params['ACT'] + params['hsGPA'] * delta_tilde_2\n",
    "print(f\"Delta tilde (omitted) alternative 2: {delta_tilde_2}\")\n",
    "print(f\"Estimator ACT (omitted) alternative 2: {b2_tilde}\")\n",
    "\n",
    "print()\n",
    "\n",
    "# Actual regression with hsGPA omitted:\n",
    "model_om = smf.ols(formula='colGPA ~ ACT', data=gpa1).fit()\n",
    "params_om = model_om.params\n",
    "print(f\"Parameter model (omitted): \\n\", params_om)"
   ]
  },
  {
   "cell_type": "markdown",
   "id": "bc461219",
   "metadata": {},
   "source": [
    "### Case omitted ACT\n",
    "- True model: colGPA = ACT + hsGPA\n",
    "- Omitted model: colGPA = hsGPA"
   ]
  },
  {
   "cell_type": "code",
   "execution_count": 11,
   "id": "26328cd5",
   "metadata": {},
   "outputs": [
    {
     "name": "stdout",
     "output_type": "stream",
     "text": [
      "Parameter model (full): \n",
      " Intercept    1.286328\n",
      "ACT          0.009426\n",
      "hsGPA        0.453456\n",
      "dtype: float64\n",
      "\n",
      "Delta tilde (omitted) alternative 1: 3.07433061472438\n",
      "Estimator hsGPA (omitted) alternative 1: 0.48243456341525165\n",
      "\n",
      "Delta tilde (omitted) alternative 2: 3.074330614724289\n",
      "Estimator hsGPA (omitted) alternative 2: 0.4824345634152508\n",
      "\n",
      "Parameter model (omitted): \n",
      " Intercept    1.415434\n",
      "hsGPA        0.482435\n",
      "dtype: float64\n"
     ]
    }
   ],
   "source": [
    "gpa1 = woo.dataWoo('gpa1')\n",
    "\n",
    "# Parameter estimates for full and simple model\n",
    "model = smf.ols(formula='colGPA ~ ACT + hsGPA', data=gpa1).fit()\n",
    "params = model.params\n",
    "print(f\"Parameter model (full): \\n\", params)\n",
    "\n",
    "print()\n",
    "\n",
    "# Relation between regressors \n",
    "# (aprroximate using slope regresion hsGPA and ACT)\n",
    "model_reg = smf.ols(formula='ACT ~ hsGPA', data=gpa1).fit()\n",
    "delta_tilde_1 = model_reg.params['hsGPA']\n",
    "b1_tilde = params['hsGPA'] + params['ACT'] * delta_tilde_1\n",
    "print(f\"Delta tilde (omitted) alternative 1: {delta_tilde_1}\")\n",
    "print(f\"Estimator hsGPA (omitted) alternative 1: {b1_tilde}\")\n",
    "\n",
    "print()\n",
    "\n",
    "# Relation between un-omitted regressors\n",
    "#  (approximation using ratio covariance residu un-omitted and \n",
    "#    omitted regressor regressors to variance of residu un-omitted)\n",
    "model_reg_unomitted = smf.ols(formula='hsGPA ~ 1', data=gpa1).fit()\n",
    "residu_unomitted = model_reg_unomitted.resid\n",
    "omitted = gpa1['ACT']\n",
    "delta_tilde_2 = np.sum(residu_unomitted * omitted) / np.sum(residu_unomitted ** 2)\n",
    "b2_tilde = params['hsGPA'] + params['ACT'] * delta_tilde_2\n",
    "print(f\"Delta tilde (omitted) alternative 2: {delta_tilde_2}\")\n",
    "print(f\"Estimator hsGPA (omitted) alternative 2: {b2_tilde}\")\n",
    "\n",
    "print()\n",
    "\n",
    "# Actual regression with ACT omitted:\n",
    "model_om = smf.ols(formula='colGPA ~ hsGPA', data=gpa1).fit()\n",
    "params_om = model_om.params\n",
    "print(f\"Parameter model (omitted): \\n\", params_om)"
   ]
  },
  {
   "cell_type": "markdown",
   "id": "90bc91ec",
   "metadata": {},
   "source": [
    "# Standard Errors, Multicollinearity, and VIF\n",
    "\n",
    "**Under Gauss-Markov Assumptions:**\n",
    "\n",
    "$$\n",
    "\\text{Var}(\\hat{\\beta}_j) = \\frac{\\sigma^2}{SST_j(1-R_j^2)} = \\frac{\\sigma^2}{SST_j} VIF_j\n",
    "$$\n",
    "\n",
    "Where,\n",
    "\n",
    "- $ j = 1, 2, 3, \\dots, k $\n",
    "- $ SST_j = \\sum_{i=1}^{n} (x_{i,j} - \\bar{x}_j) $\n",
    "- $ R_j^2 = R $ — squared from regressing $ x_j $ on other regressors (and including an intercept).\n",
    "- $ \\sigma^2 = E(e^2) = $ Variance of error model\n",
    "- $ VIF_j = \\frac{1}{(1-R_j^2)} = \\text{variance inflation factor} $\n",
    "\n",
    "The $\\sigma^2$ is estimated using sample variance error model:\n",
    "$$ \\hat{\\sigma}^2 = \\sum_{i=1}^{n} \\frac{\\hat{e}^2}{n - k -1} $$ \n",
    "\n",
    "Where,\n",
    "- $\\hat{e}^2$ = Error term model\n",
    "- $\\text{n}$ = Total observation\n",
    "- $\\text{k}$ = Number of regressors\n",
    "\n",
    "NOTE: The $\\sqrt{\\hat\\sigma^2}$ is Standard Error of Regression (SER)\n",
    "\n",
    "Then Standard Errors of $\\hat{\\beta}_j$:\n",
    "\n",
    "$$\n",
    "\\text{se}(\\hat{\\beta}_j) = \\frac{\\hat{\\sigma}}{\\sqrt{n} \\sqrt{1 - R_j^2} \\, sd(x_j)}\n",
    "$$\n",
    "\n",
    "Where,\n",
    "- $sd(x_j) = \\sqrt{1/n \\sum_{i=1}^{n} (x_{i, j} - \\bar{x})^2}$\n",
    "\n",
    "The standard Error for Intercept\n",
    "$$\n",
    "se(\\beta_0) = \\sqrt{ \\frac{\\sigma^2}{n} \\cdot \\left( 1 + \\frac{\\bar{x}_1^2 + \\bar{x}_2^2 + \\dots + \\bar{x}_n^2}{\\sum_{i=1}^{n} (x_{i1} - \\bar{x}_1)^2 + \\sum_{i=1}^{n} (x_{i2} - \\bar{x}_2)^2 + \\dots + \\sum_{i=1}^{n} (x_{in} - \\bar{x}_n)^2} \\right) }\n",
    "$$\n",
    "\n"
   ]
  },
  {
   "cell_type": "markdown",
   "id": "031866e8",
   "metadata": {},
   "source": [
    "### Case estimating VIF and Standard Error Estimator hsGPA\n",
    "\n",
    "- True model: colGPA = ACT + hsGPA\n",
    "- Omitted model: colGPA = ACT"
   ]
  },
  {
   "cell_type": "code",
   "execution_count": 13,
   "id": "fb7dbd67",
   "metadata": {},
   "outputs": [
    {
     "name": "stdout",
     "output_type": "stream",
     "text": [
      "VIF_hsGPA: 1.1358234481972784\n",
      "\n",
      "SE_hsGPA: 0.09581291608057595\n",
      "\n"
     ]
    }
   ],
   "source": [
    "# full estimation results including automatic SE\n",
    "model = smf.ols(formula='colGPA ~ hsGPA + ACT', data=gpa1).fit()\n",
    "\n",
    "# Extract SER\n",
    "SER = np.sqrt(model.mse_resid)\n",
    "\n",
    "# Regressing hsGPA on ACT for calculation of R2 & VIF\n",
    "model_hsGPA = smf.ols(formula='hsGPA ~ ACT', data=gpa1).fit()\n",
    "R2_hsGPA = model_hsGPA.rsquared\n",
    "VIF_hsGPA = 1 / (1 - R2_hsGPA)\n",
    "print(f\"VIF_hsGPA: {VIF_hsGPA}\\n\")\n",
    "\n",
    "# Manual calculation of SE of hsGPA coefficient\n",
    "n = model.nobs\n",
    "sdx = np.std(gpa1['hsGPA'], ddof=1) * np.sqrt((n - 1) / n)\n",
    "SE_hsGPA = 1 / np.sqrt(n) * SER / sdx * np.sqrt(VIF_hsGPA)\n",
    "print(f\"SE_hsGPA: {SE_hsGPA}\\n\")"
   ]
  },
  {
   "cell_type": "code",
   "execution_count": null,
   "id": "4d4269a0",
   "metadata": {},
   "outputs": [],
   "source": []
  }
 ],
 "metadata": {
  "kernelspec": {
   "display_name": "Python 3 (ipykernel)",
   "language": "python",
   "name": "python3"
  },
  "language_info": {
   "codemirror_mode": {
    "name": "ipython",
    "version": 3
   },
   "file_extension": ".py",
   "mimetype": "text/x-python",
   "name": "python",
   "nbconvert_exporter": "python",
   "pygments_lexer": "ipython3",
   "version": "3.11.4"
  }
 },
 "nbformat": 4,
 "nbformat_minor": 5
}
