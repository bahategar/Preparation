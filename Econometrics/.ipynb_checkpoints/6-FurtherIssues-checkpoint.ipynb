{
 "cells": [
  {
   "cell_type": "code",
   "execution_count": 1,
   "id": "fa325544",
   "metadata": {},
   "outputs": [
    {
     "name": "stderr",
     "output_type": "stream",
     "text": [
      "C:\\Users\\Baha Tegar\\anaconda3\\Lib\\site-packages\\pandas\\core\\arrays\\masked.py:60: UserWarning: Pandas requires version '1.3.6' or newer of 'bottleneck' (version '1.3.5' currently installed).\n",
      "  from pandas.core import (\n"
     ]
    }
   ],
   "source": [
    "# Import package for getting dataset example\n",
    "import wooldridge as woo\n",
    "\n",
    "import numpy as np\n",
    "import pandas as pd\n",
    "import matplotlib.pyplot as plt\n",
    "\n",
    "import scipy.stats as stats\n",
    "import statsmodels.api as sm\n",
    "import statsmodels.formula.api as smf\n",
    "\n",
    "import math\n",
    "from tqdm import tqdm"
   ]
  },
  {
   "cell_type": "markdown",
   "id": "080a43d3",
   "metadata": {},
   "source": [
    "# Introduction"
   ]
  },
  {
   "cell_type": "markdown",
   "id": "bf4cda6e",
   "metadata": {},
   "source": [
    "# Model Formulae"
   ]
  },
  {
   "cell_type": "markdown",
   "id": "064e9aae",
   "metadata": {},
   "source": [
    "### 1. Data Scaling: Arithmetic Operations within a Formula\n",
    "\n",
    "> Using constant to modify regressors\n",
    "\n",
    "NOTE: Inside smf.ols formula argument, using I(polynomial regressors). I(...) bracket describe any parts of the formula in which we specify arithmetic transformation."
   ]
  },
  {
   "cell_type": "code",
   "execution_count": 4,
   "id": "489f83e3",
   "metadata": {},
   "outputs": [
    {
     "data": {
      "text/html": [
       "<div>\n",
       "<style scoped>\n",
       "    .dataframe tbody tr th:only-of-type {\n",
       "        vertical-align: middle;\n",
       "    }\n",
       "\n",
       "    .dataframe tbody tr th {\n",
       "        vertical-align: top;\n",
       "    }\n",
       "\n",
       "    .dataframe thead th {\n",
       "        text-align: right;\n",
       "    }\n",
       "</style>\n",
       "<table border=\"1\" class=\"dataframe\">\n",
       "  <thead>\n",
       "    <tr style=\"text-align: right;\">\n",
       "      <th></th>\n",
       "      <th>b</th>\n",
       "      <th>b_packs</th>\n",
       "    </tr>\n",
       "  </thead>\n",
       "  <tbody>\n",
       "    <tr>\n",
       "      <th>I(cigs / 20)</th>\n",
       "      <td>NaN</td>\n",
       "      <td>-9.2682</td>\n",
       "    </tr>\n",
       "    <tr>\n",
       "      <th>Intercept</th>\n",
       "      <td>116.9741</td>\n",
       "      <td>116.9741</td>\n",
       "    </tr>\n",
       "    <tr>\n",
       "      <th>cigs</th>\n",
       "      <td>-0.4634</td>\n",
       "      <td>NaN</td>\n",
       "    </tr>\n",
       "    <tr>\n",
       "      <th>faminc</th>\n",
       "      <td>0.0928</td>\n",
       "      <td>0.0928</td>\n",
       "    </tr>\n",
       "  </tbody>\n",
       "</table>\n",
       "</div>"
      ],
      "text/plain": [
       "                     b   b_packs\n",
       "I(cigs / 20)       NaN   -9.2682\n",
       "Intercept     116.9741  116.9741\n",
       "cigs           -0.4634       NaN\n",
       "faminc          0.0928    0.0928"
      ]
     },
     "execution_count": 4,
     "metadata": {},
     "output_type": "execute_result"
    }
   ],
   "source": [
    "bwght = woo.dataWoo('bwght')\n",
    "\n",
    "# Regress nad report coefficeints (without modification)\n",
    "model = smf.ols(formula='bwght ~ cigs + faminc', data=bwght).fit()\n",
    "params_model = model.params\n",
    "\n",
    "# Modify: Cigarettes per pack (1 pack = 20 cigarettes)\n",
    "model_pack = smf.ols(formula='bwght ~ I(cigs / 20) + faminc', data=bwght).fit()\n",
    "params_modify = model_pack.params\n",
    "\n",
    "table = pd.DataFrame({'b': round(params_model, 4),\n",
    "                      'b_packs': round(params_modify, 4)})\n",
    "\n",
    "table"
   ]
  },
  {
   "cell_type": "markdown",
   "id": "3f3d9b52",
   "metadata": {},
   "source": [
    "### 2. Standardization: Beta Coefficients\n",
    "\n",
    "Standardization:\n",
    "> A variable is standardized by substracting its mean and dividing by its standard deviation.\n",
    "\n",
    "$$\n",
    "z_y = \\frac{y - \\bar{y}}{\\text{sd}(y)} \n",
    "$$\n",
    "\n",
    "$$\n",
    "z_x = \\frac{x - \\bar{x}}{\\text{sd}(x)}\n",
    "$$"
   ]
  },
  {
   "cell_type": "markdown",
   "id": "2532f90e",
   "metadata": {},
   "source": [
    "![image](images/Example_6-1.png)"
   ]
  },
  {
   "cell_type": "code",
   "execution_count": 8,
   "id": "13405ecf",
   "metadata": {},
   "outputs": [
    {
     "data": {
      "text/html": [
       "<div>\n",
       "<style scoped>\n",
       "    .dataframe tbody tr th:only-of-type {\n",
       "        vertical-align: middle;\n",
       "    }\n",
       "\n",
       "    .dataframe tbody tr th {\n",
       "        vertical-align: top;\n",
       "    }\n",
       "\n",
       "    .dataframe thead th {\n",
       "        text-align: right;\n",
       "    }\n",
       "</style>\n",
       "<table border=\"1\" class=\"dataframe\">\n",
       "  <thead>\n",
       "    <tr style=\"text-align: right;\">\n",
       "      <th></th>\n",
       "      <th>b</th>\n",
       "      <th>se</th>\n",
       "      <th>t</th>\n",
       "      <th>pval</th>\n",
       "    </tr>\n",
       "  </thead>\n",
       "  <tbody>\n",
       "    <tr>\n",
       "      <th>nox_sc</th>\n",
       "      <td>-0.3404</td>\n",
       "      <td>0.0445</td>\n",
       "      <td>-7.6511</td>\n",
       "      <td>0.0</td>\n",
       "    </tr>\n",
       "    <tr>\n",
       "      <th>crime_sc</th>\n",
       "      <td>-0.1433</td>\n",
       "      <td>0.0307</td>\n",
       "      <td>-4.6693</td>\n",
       "      <td>0.0</td>\n",
       "    </tr>\n",
       "    <tr>\n",
       "      <th>rooms_sc</th>\n",
       "      <td>0.5139</td>\n",
       "      <td>0.0300</td>\n",
       "      <td>17.1295</td>\n",
       "      <td>0.0</td>\n",
       "    </tr>\n",
       "    <tr>\n",
       "      <th>dist_sc</th>\n",
       "      <td>-0.2348</td>\n",
       "      <td>0.0430</td>\n",
       "      <td>-5.4641</td>\n",
       "      <td>0.0</td>\n",
       "    </tr>\n",
       "    <tr>\n",
       "      <th>stratio_sc</th>\n",
       "      <td>-0.2703</td>\n",
       "      <td>0.0299</td>\n",
       "      <td>-9.0274</td>\n",
       "      <td>0.0</td>\n",
       "    </tr>\n",
       "  </tbody>\n",
       "</table>\n",
       "</div>"
      ],
      "text/plain": [
       "                 b      se        t  pval\n",
       "nox_sc     -0.3404  0.0445  -7.6511   0.0\n",
       "crime_sc   -0.1433  0.0307  -4.6693   0.0\n",
       "rooms_sc    0.5139  0.0300  17.1295   0.0\n",
       "dist_sc    -0.2348  0.0430  -5.4641   0.0\n",
       "stratio_sc -0.2703  0.0299  -9.0274   0.0"
      ]
     },
     "execution_count": 8,
     "metadata": {},
     "output_type": "execute_result"
    }
   ],
   "source": [
    "def standardization(x):\n",
    "    x_mean = np.mean(x)\n",
    "    x_std = np.std(x, ddof=1)\n",
    "    return (x - x_mean) / x_std\n",
    "\n",
    "# Standardization\n",
    "hprice2 = woo.dataWoo('hprice2')\n",
    "hprice2['price_sc'] = standardization(hprice2['price'])\n",
    "hprice2['nox_sc'] = standardization(hprice2['nox'])\n",
    "hprice2['crime_sc'] = standardization(hprice2['crime'])\n",
    "hprice2['rooms_sc'] = standardization(hprice2['rooms'])\n",
    "hprice2['dist_sc'] = standardization(hprice2['dist'])\n",
    "hprice2['stratio_sc'] = standardization(hprice2['stratio'])\n",
    "\n",
    "# Modeling\n",
    "model = smf.ols(formula='price_sc ~ 0 + nox_sc + crime_sc + rooms_sc + dist_sc + stratio_sc',\n",
    "                data=hprice2).fit()\n",
    "\n",
    "\n",
    "# Print regression table\n",
    "table = pd.DataFrame({'b': round(model.params, 4),\n",
    "                      'se': round(model.bse, 4),\n",
    "                      't': round(model.tvalues, 4),\n",
    "                      'pval': round(model.pvalues, 4)})\n",
    "table"
   ]
  },
  {
   "cell_type": "markdown",
   "id": "595d2b78",
   "metadata": {},
   "source": [
    "### 3. Logarithms"
   ]
  },
  {
   "cell_type": "code",
   "execution_count": 9,
   "id": "515e5c58",
   "metadata": {},
   "outputs": [
    {
     "data": {
      "text/html": [
       "<div>\n",
       "<style scoped>\n",
       "    .dataframe tbody tr th:only-of-type {\n",
       "        vertical-align: middle;\n",
       "    }\n",
       "\n",
       "    .dataframe tbody tr th {\n",
       "        vertical-align: top;\n",
       "    }\n",
       "\n",
       "    .dataframe thead th {\n",
       "        text-align: right;\n",
       "    }\n",
       "</style>\n",
       "<table border=\"1\" class=\"dataframe\">\n",
       "  <thead>\n",
       "    <tr style=\"text-align: right;\">\n",
       "      <th></th>\n",
       "      <th>b</th>\n",
       "      <th>se</th>\n",
       "      <th>t</th>\n",
       "      <th>pval</th>\n",
       "    </tr>\n",
       "  </thead>\n",
       "  <tbody>\n",
       "    <tr>\n",
       "      <th>Intercept</th>\n",
       "      <td>9.2337</td>\n",
       "      <td>0.1877</td>\n",
       "      <td>49.1835</td>\n",
       "      <td>0.0</td>\n",
       "    </tr>\n",
       "    <tr>\n",
       "      <th>np.log(nox)</th>\n",
       "      <td>-0.7177</td>\n",
       "      <td>0.0663</td>\n",
       "      <td>-10.8182</td>\n",
       "      <td>0.0</td>\n",
       "    </tr>\n",
       "    <tr>\n",
       "      <th>rooms</th>\n",
       "      <td>0.3059</td>\n",
       "      <td>0.0190</td>\n",
       "      <td>16.0863</td>\n",
       "      <td>0.0</td>\n",
       "    </tr>\n",
       "  </tbody>\n",
       "</table>\n",
       "</div>"
      ],
      "text/plain": [
       "                  b      se        t  pval\n",
       "Intercept    9.2337  0.1877  49.1835   0.0\n",
       "np.log(nox) -0.7177  0.0663 -10.8182   0.0\n",
       "rooms        0.3059  0.0190  16.0863   0.0"
      ]
     },
     "execution_count": 9,
     "metadata": {},
     "output_type": "execute_result"
    }
   ],
   "source": [
    "hprice2 = woo.dataWoo('hprice2')\n",
    "\n",
    "model = smf.ols(formula='np.log(price) ~ np.log(nox) + rooms',\n",
    "                data=hprice2).fit()\n",
    "\n",
    "# Print regression table:\n",
    "table = pd.DataFrame({'b': round(model.params, 4),\n",
    "                      'se': round(model.bse, 4), \n",
    "                      't': round(model.tvalues, 4),\n",
    "                      'pval': round(model.pvalues, 4)})\n",
    "\n",
    "table"
   ]
  },
  {
   "cell_type": "markdown",
   "id": "a43b0070",
   "metadata": {},
   "source": [
    "### 4. Quadratics and Polynomials\n",
    "\n",
    "NOTE: Inside smf.ols formula argument, using I(polynomial regressors). I(...) bracket describe any parts of the formula in which we specify arithmetic transformation."
   ]
  },
  {
   "cell_type": "markdown",
   "id": "4e56ece3",
   "metadata": {},
   "source": [
    "![image](images/Example_6-2.png)"
   ]
  },
  {
   "cell_type": "code",
   "execution_count": 10,
   "id": "515a7169",
   "metadata": {},
   "outputs": [
    {
     "data": {
      "text/html": [
       "<div>\n",
       "<style scoped>\n",
       "    .dataframe tbody tr th:only-of-type {\n",
       "        vertical-align: middle;\n",
       "    }\n",
       "\n",
       "    .dataframe tbody tr th {\n",
       "        vertical-align: top;\n",
       "    }\n",
       "\n",
       "    .dataframe thead th {\n",
       "        text-align: right;\n",
       "    }\n",
       "</style>\n",
       "<table border=\"1\" class=\"dataframe\">\n",
       "  <thead>\n",
       "    <tr style=\"text-align: right;\">\n",
       "      <th></th>\n",
       "      <th>b</th>\n",
       "      <th>se</th>\n",
       "      <th>t</th>\n",
       "      <th>pval</th>\n",
       "    </tr>\n",
       "  </thead>\n",
       "  <tbody>\n",
       "    <tr>\n",
       "      <th>Intercept</th>\n",
       "      <td>13.3855</td>\n",
       "      <td>0.5665</td>\n",
       "      <td>23.6295</td>\n",
       "      <td>0.0000</td>\n",
       "    </tr>\n",
       "    <tr>\n",
       "      <th>np.log(nox)</th>\n",
       "      <td>-0.9017</td>\n",
       "      <td>0.1147</td>\n",
       "      <td>-7.8621</td>\n",
       "      <td>0.0000</td>\n",
       "    </tr>\n",
       "    <tr>\n",
       "      <th>np.log(dist)</th>\n",
       "      <td>-0.0868</td>\n",
       "      <td>0.0433</td>\n",
       "      <td>-2.0051</td>\n",
       "      <td>0.0455</td>\n",
       "    </tr>\n",
       "    <tr>\n",
       "      <th>rooms</th>\n",
       "      <td>-0.5451</td>\n",
       "      <td>0.1655</td>\n",
       "      <td>-3.2946</td>\n",
       "      <td>0.0011</td>\n",
       "    </tr>\n",
       "    <tr>\n",
       "      <th>I(rooms ** 2)</th>\n",
       "      <td>0.0623</td>\n",
       "      <td>0.0128</td>\n",
       "      <td>4.8623</td>\n",
       "      <td>0.0000</td>\n",
       "    </tr>\n",
       "    <tr>\n",
       "      <th>stratio</th>\n",
       "      <td>-0.0476</td>\n",
       "      <td>0.0059</td>\n",
       "      <td>-8.1293</td>\n",
       "      <td>0.0000</td>\n",
       "    </tr>\n",
       "  </tbody>\n",
       "</table>\n",
       "</div>"
      ],
      "text/plain": [
       "                     b      se        t    pval\n",
       "Intercept      13.3855  0.5665  23.6295  0.0000\n",
       "np.log(nox)    -0.9017  0.1147  -7.8621  0.0000\n",
       "np.log(dist)   -0.0868  0.0433  -2.0051  0.0455\n",
       "rooms          -0.5451  0.1655  -3.2946  0.0011\n",
       "I(rooms ** 2)   0.0623  0.0128   4.8623  0.0000\n",
       "stratio        -0.0476  0.0059  -8.1293  0.0000"
      ]
     },
     "execution_count": 10,
     "metadata": {},
     "output_type": "execute_result"
    }
   ],
   "source": [
    "hprice2 = woo.dataWoo('hprice2')\n",
    "\n",
    "model = smf.ols(formula='np.log(price) ~ np.log(nox) + np.log(dist) + rooms + I(rooms ** 2) + stratio',\n",
    "                data=hprice2).fit()\n",
    "\n",
    "table = pd.DataFrame({\n",
    "    'b': round(model.params, 4),\n",
    "    'se': round(model.bse, 4),\n",
    "    't': round(model.tvalues, 4),\n",
    "    'pval': round(model.pvalues, 4)\n",
    "})\n",
    "\n",
    "table"
   ]
  },
  {
   "cell_type": "markdown",
   "id": "69b1a35d",
   "metadata": {},
   "source": [
    "### Hypothesis Testing\n",
    "\n",
    "If using built in package \"automatic\" in smf OLS model, make sure to write the regressors as it written in smf.ols formula argument."
   ]
  },
  {
   "cell_type": "code",
   "execution_count": 12,
   "id": "b7228e99",
   "metadata": {},
   "outputs": [
    {
     "name": "stdout",
     "output_type": "stream",
     "text": [
      "fstat: 110.41878192669472\n",
      "fpval: 1.919325001953063e-40\n"
     ]
    }
   ],
   "source": [
    "hprice2 = woo.dataWoo('hprice2')\n",
    "n = hprice2.shape[0]\n",
    "\n",
    "model = smf.ols(\n",
    "    formula='np.log(price) ~ np.log(nox) + np.log(dist) + rooms + I(rooms**2) + stratio',\n",
    "    data=hprice2).fit()\n",
    "\n",
    "# Implement F test for rooms\n",
    "hypotheses = ['rooms = 0', 'I(rooms ** 2) = 0']\n",
    "ftest = model.f_test(hypotheses)\n",
    "fstat = ftest.statistic\n",
    "fpval = ftest.pvalue\n",
    "\n",
    "print(f\"fstat: {fstat}\")\n",
    "print(f\"fpval: {fpval}\")"
   ]
  },
  {
   "cell_type": "markdown",
   "id": "3d6c40f6",
   "metadata": {},
   "source": [
    "### Interaction Terms\n",
    "\n",
    "Using direct specification inside ols.smf formula argument can follow this syntax:\n",
    "- \"$x1:x2$\" = $x1*x2$ in case $y \\sim x1*x2$.\n",
    "- \"$x1*x2$\" = $x1 + x2 + x1*x2$ in case $y \\sim x1 + x2 + x1*x2$."
   ]
  },
  {
   "cell_type": "markdown",
   "id": "e2e3b73b",
   "metadata": {},
   "source": [
    "![image](images/Example_6-3.png)"
   ]
  },
  {
   "cell_type": "code",
   "execution_count": 36,
   "id": "80fe778c",
   "metadata": {},
   "outputs": [
    {
     "name": "stdout",
     "output_type": "stream",
     "text": [
      "Table: \n",
      "                     b      se       t    pval\n",
      "Intercept       2.0503  1.3603  1.5072  0.1322\n",
      "atndrte        -0.0067  0.0102 -0.6561  0.5120\n",
      "priGPA         -1.6285  0.4810 -3.3857  0.0008\n",
      "atndrte:priGPA  0.0056  0.0043  1.2938  0.1962\n",
      "ACT            -0.1280  0.0985 -1.3000  0.1940\n",
      "I(priGPA ** 2)  0.2959  0.1010  2.9283  0.0035\n",
      "I(ACT ** 2)     0.0045  0.0022  2.0829  0.0376\n",
      "fstat: 8.63258105674114\n",
      "fpval: 0.0034149923995847836\n"
     ]
    }
   ],
   "source": [
    "attend = woo.dataWoo('attend')\n",
    "n = attend.shape[0]\n",
    "\n",
    "model = smf.ols(formula='stndfnl ~ atndrte*priGPA + ACT + I(priGPA**2) + I(ACT**2)',\n",
    "                data=attend).fit()\n",
    "\n",
    "table = pd.DataFrame({\n",
    "    'b': round(model.params, 4),\n",
    "    'se': round(model.bse, 4),\n",
    "    't': round(model.tvalues, 4),\n",
    "    'pval': round(model.pvalues, 4)\n",
    "})\n",
    "\n",
    "print(f\"Table: \\n{table}\")\n",
    "\n",
    "# Estimate for partial effect at priceGPA=2.56\n",
    "hypotheses = 'atndrte + 2.59 * atndrte:priGPA = 0'\n",
    "ftest = model.f_test(hypotheses)\n",
    "fstat = ftest.statistic\n",
    "fpval = ftest.pvalue\n",
    "\n",
    "print(f\"fstat: {fstat}\")\n",
    "print(f\"fpval: {fpval}\")"
   ]
  },
  {
   "cell_type": "markdown",
   "id": "41c55523",
   "metadata": {},
   "source": [
    "# Prediction"
   ]
  },
  {
   "cell_type": "markdown",
   "id": "dbed4e28",
   "metadata": {},
   "source": [
    "### Confidence and Prediction Intervals for Predictions\n",
    "\n",
    "Mathematically, the **confidence intervals** can be estimated by:\n",
    "\n",
    "$$\n",
    "\\hat{y}_{min} = \\hat{y} - \\text{se}(\\hat{y})\n",
    "$$\n",
    "\n",
    "$$\n",
    "\\hat{y}_{max} = \\hat{y} + \\text{se}(\\hat{y})\n",
    "$$\n",
    "\n",
    "\n",
    "\n",
    "And the **prediction intervals** can be estimated by this formula:\n",
    "\n",
    "$$\n",
    "\\hat{y}_{min} = \\hat{y} - (\\text{Var}(\\hat{y}) + \\sigma^2)^{1/2}\n",
    "$$\n",
    "\n",
    "$$\n",
    "\\hat{y}_{max} = \\hat{y} + (\\text{Var}(\\hat{y}) + \\sigma^2)^{1/2}\n",
    "$$\n",
    "\n",
    "\n",
    "Where,\n",
    "- $\\hat{y}$ = Expected prediction\n",
    "- $\\hat{y}_{min}$ = Minimum confidence expected prediction\n",
    "- $\\hat{y}_{max}$ = Maximum confidence expected prediction\n",
    "- $\\text{se}(\\hat{y})$ = Standard error expected prediction\n",
    "- $\\text{Var}(\\hat{y})$ = Variance expected prediction\n",
    "- $\\sigma^2$ = Variance error term model\n",
    "\n",
    "In statsmodels.formula.api, the model after fitted (with ols or other) we can use:\n",
    "- predict() method = return expected prediction\n",
    "- get_prediction() method = return object that contain (1) expected prediction, (2) standard error prediction (*mean_se*), (3) confidence interval (*mean_ci_lower* and *mean_ci_upper*), (4) prediction interval (*obs_ci_lower* and *obs_ci_upper*).\n",
    "- summary_frame() method (after get_prediction() method) = To convert it into frame."
   ]
  },
  {
   "cell_type": "code",
   "execution_count": 41,
   "id": "9dcf2051",
   "metadata": {},
   "outputs": [
    {
     "name": "stdout",
     "output_type": "stream",
     "text": [
      "table: \n",
      "                    b      se        t    pval\n",
      "Intercept      1.4927  0.0753  19.8118  0.0000\n",
      "sat            0.0015  0.0001  22.8864  0.0000\n",
      "hsperc        -0.0139  0.0006 -24.6981  0.0000\n",
      "hsize         -0.0609  0.0165  -3.6895  0.0002\n",
      "I(hsize ** 2)  0.0055  0.0023   2.4056  0.0162\n",
      "\n",
      "cvalues2: \n",
      "             sat  hsperc  hsize\n",
      "newPerson1  1200      30      5\n",
      "newPerson2   900      20      3\n",
      "newPerson3  1400       5      1\n",
      "\n",
      "colgpa_pred2: \n",
      "newPerson1    2.700075\n",
      "newPerson2    2.425282\n",
      "newPerson3    3.457448\n",
      "dtype: float64\n",
      "\n"
     ]
    }
   ],
   "source": [
    "gpa2 = woo.dataWoo('gpa2')\n",
    "model = smf.ols(formula='colgpa ~ sat + hsperc + hsize + I(hsize**2)', data=gpa2).fit()\n",
    "# print regression table:\n",
    "table = pd.DataFrame({'b': round(model.params, 4),\n",
    "                      'se': round(model.bse, 4),\n",
    "                      't': round(model.tvalues, 4),\n",
    "                      'pval': round(model.pvalues, 4)})\n",
    "print(f'table: \\n{table}\\n')\n",
    "\n",
    "# define three sets of regressor variables:\n",
    "cvalues2 = pd.DataFrame({'sat': [1200, 900, 1400, ],\n",
    "                         'hsperc': [30, 20, 5],\n",
    "                         'hsize': [5, 3, 1]},\n",
    "index=['newPerson1', 'newPerson2', 'newPerson3'])\n",
    "print(f'cvalues2: \\n{cvalues2}\\n')\n",
    "# point estimate of prediction (cvalues2):\n",
    "colgpa_pred2 = model.predict(cvalues2)\n",
    "print(f'colgpa_pred2: \\n{colgpa_pred2}\\n')"
   ]
  },
  {
   "cell_type": "code",
   "execution_count": 43,
   "id": "b1dbc847",
   "metadata": {},
   "outputs": [
    {
     "name": "stdout",
     "output_type": "stream",
     "text": [
      "table: \n",
      "                    b      se        t    pval\n",
      "Intercept      1.4927  0.0753  19.8118  0.0000\n",
      "sat            0.0015  0.0001  22.8864  0.0000\n",
      "hsperc        -0.0139  0.0006 -24.6981  0.0000\n",
      "hsize         -0.0609  0.0165  -3.6895  0.0002\n",
      "I(hsize ** 2)  0.0055  0.0023   2.4056  0.0162\n",
      "\n",
      "cvalues2: \n",
      "             sat  hsperc  hsize\n",
      "newPerson1  1200      30      5\n",
      "newPerson2   900      20      3\n",
      "newPerson3  1400       5      1\n",
      "\n",
      "colgpa_pred2: \n",
      "       mean   mean_se  mean_ci_lower  mean_ci_upper  obs_ci_lower  \\\n",
      "0  2.700075  0.019878       2.661104       2.739047      1.601749   \n",
      "1  2.425282  0.014258       2.397329       2.453235      1.327292   \n",
      "2  3.457448  0.027891       3.402766       3.512130      2.358452   \n",
      "\n",
      "   obs_ci_upper  \n",
      "0      3.798402  \n",
      "1      3.523273  \n",
      "2      4.556444  \n",
      "\n"
     ]
    }
   ],
   "source": [
    "gpa2 = woo.dataWoo('gpa2')\n",
    "model = smf.ols(formula='colgpa ~ sat + hsperc + hsize + I(hsize**2)', data=gpa2).fit()\n",
    "# print regression table:\n",
    "table = pd.DataFrame({'b': round(model.params, 4),\n",
    "                      'se': round(model.bse, 4),\n",
    "                      't': round(model.tvalues, 4),\n",
    "                      'pval': round(model.pvalues, 4)})\n",
    "print(f'table: \\n{table}\\n')\n",
    "\n",
    "# define three sets of regressor variables:\n",
    "cvalues2 = pd.DataFrame({'sat': [1200, 900, 1400, ],\n",
    "                         'hsperc': [30, 20, 5],\n",
    "                         'hsize': [5, 3, 1]},\n",
    "index=['newPerson1', 'newPerson2', 'newPerson3'])\n",
    "print(f'cvalues2: \\n{cvalues2}\\n')\n",
    "# point estimate of prediction (cvalues2):\n",
    "colgpa_pred2 = model.get_prediction(cvalues2).summary_frame()\n",
    "print(f'colgpa_pred2: \\n{colgpa_pred2}\\n')"
   ]
  },
  {
   "cell_type": "code",
   "execution_count": 49,
   "id": "825f8429",
   "metadata": {},
   "outputs": [
    {
     "data": {
      "text/plain": [
       "3.260020995926509"
      ]
     },
     "execution_count": 49,
     "metadata": {},
     "output_type": "execute_result"
    }
   ],
   "source": [
    "2.700075 + np.sqrt(np.var(model.resid, ddof=1) + 0.019878**2)"
   ]
  },
  {
   "cell_type": "code",
   "execution_count": 60,
   "id": "d88e72f8",
   "metadata": {},
   "outputs": [
    {
     "data": {
      "text/plain": [
       "3.0474297815867786"
      ]
     },
     "execution_count": 60,
     "metadata": {},
     "output_type": "execute_result"
    }
   ],
   "source": [
    "2.700075 + np.sqrt(np.var(model.fittedvalues, ddof=1))"
   ]
  },
  {
   "cell_type": "code",
   "execution_count": null,
   "id": "1bb62cb6",
   "metadata": {},
   "outputs": [],
   "source": []
  }
 ],
 "metadata": {
  "kernelspec": {
   "display_name": "Python 3 (ipykernel)",
   "language": "python",
   "name": "python3"
  },
  "language_info": {
   "codemirror_mode": {
    "name": "ipython",
    "version": 3
   },
   "file_extension": ".py",
   "mimetype": "text/x-python",
   "name": "python",
   "nbconvert_exporter": "python",
   "pygments_lexer": "ipython3",
   "version": "3.11.4"
  }
 },
 "nbformat": 4,
 "nbformat_minor": 5
}
