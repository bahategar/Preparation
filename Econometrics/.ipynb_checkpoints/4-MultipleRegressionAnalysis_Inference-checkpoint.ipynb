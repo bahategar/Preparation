{
 "cells": [
  {
   "cell_type": "code",
   "execution_count": 1,
   "id": "8402e632",
   "metadata": {},
   "outputs": [
    {
     "name": "stderr",
     "output_type": "stream",
     "text": [
      "C:\\Users\\Baha Tegar\\anaconda3\\Lib\\site-packages\\pandas\\core\\arrays\\masked.py:60: UserWarning: Pandas requires version '1.3.6' or newer of 'bottleneck' (version '1.3.5' currently installed).\n",
      "  from pandas.core import (\n"
     ]
    }
   ],
   "source": [
    "# Import package for getting dataset example\n",
    "import wooldridge as woo\n",
    "\n",
    "import numpy as np\n",
    "import pandas as pd\n",
    "import matplotlib.pyplot as plt\n",
    "\n",
    "import scipy.stats as stats\n",
    "import statsmodels.api as sm\n",
    "import statsmodels.formula.api as smf\n",
    "\n",
    "import scipy.stats as stats\n",
    "\n",
    "import math"
   ]
  },
  {
   "cell_type": "markdown",
   "id": "b14c5c57",
   "metadata": {},
   "source": [
    "# The t-test"
   ]
  },
  {
   "cell_type": "markdown",
   "id": "9f68efbf",
   "metadata": {},
   "source": [
    "![image](images/4_t-diagram.png)"
   ]
  },
  {
   "cell_type": "markdown",
   "id": "b7ac9e44",
   "metadata": {},
   "source": [
    "![image](images/4_t-table1.png)"
   ]
  },
  {
   "cell_type": "markdown",
   "id": "8eb35fc5",
   "metadata": {},
   "source": [
    "![image](images/4_t-table2.png)"
   ]
  },
  {
   "cell_type": "markdown",
   "id": "af491002",
   "metadata": {},
   "source": [
    "### Confidence Interval\n",
    "\n",
    "$$\n",
    "\\hat{\\beta}_j \\pm \\text{t}_{crit} \\text{se}({\\hat{\\beta}_j})\n",
    "$$\n",
    "\n",
    "where,\n",
    "- $ \\text{se}(\\hat{\\beta}_j) = \\frac{\\hat{\\sigma}_{rg}}{\\sqrt{n} \\sqrt{1 - R_j^2} \\, sd(x_j)} $\n",
    "- $sd(x_j) = \\sqrt{1/n \\sum_{i=1}^{n} (x_{i, j} - \\bar{x})^2}$"
   ]
  },
  {
   "cell_type": "markdown",
   "id": "07e74e58",
   "metadata": {},
   "source": [
    "### Case Estimating t-value and p-value"
   ]
  },
  {
   "cell_type": "markdown",
   "id": "6b06eef1",
   "metadata": {},
   "source": [
    "![image](images/Example_4-1.png)"
   ]
  },
  {
   "cell_type": "code",
   "execution_count": 2,
   "id": "cef1b44f",
   "metadata": {},
   "outputs": [
    {
     "name": "stdout",
     "output_type": "stream",
     "text": [
      "                            OLS Regression Results                            \n",
      "==============================================================================\n",
      "Dep. Variable:           np.log(wage)   R-squared:                       0.316\n",
      "Model:                            OLS   Adj. R-squared:                  0.312\n",
      "Method:                 Least Squares   F-statistic:                     80.39\n",
      "Date:                Sat, 31 Aug 2024   Prob (F-statistic):           9.13e-43\n",
      "Time:                        16:12:26   Log-Likelihood:                -313.55\n",
      "No. Observations:                 526   AIC:                             635.1\n",
      "Df Residuals:                     522   BIC:                             652.2\n",
      "Df Model:                           3                                         \n",
      "Covariance Type:            nonrobust                                         \n",
      "==============================================================================\n",
      "                 coef    std err          t      P>|t|      [0.025      0.975]\n",
      "------------------------------------------------------------------------------\n",
      "Intercept      0.2844      0.104      2.729      0.007       0.080       0.489\n",
      "educ           0.0920      0.007     12.555      0.000       0.078       0.106\n",
      "exper          0.0041      0.002      2.391      0.017       0.001       0.008\n",
      "tenure         0.0221      0.003      7.133      0.000       0.016       0.028\n",
      "==============================================================================\n",
      "Omnibus:                       11.534   Durbin-Watson:                   1.769\n",
      "Prob(Omnibus):                  0.003   Jarque-Bera (JB):               20.941\n",
      "Skew:                           0.021   Prob(JB):                     2.84e-05\n",
      "Kurtosis:                       3.977   Cond. No.                         135.\n",
      "==============================================================================\n",
      "\n",
      "Notes:\n",
      "[1] Standard Errors assume that the covariance matrix of the errors is correctly specified.\n"
     ]
    }
   ],
   "source": [
    "# Using summary model\n",
    "wage1 = woo.dataWoo('wage1')\n",
    "\n",
    "model = smf.ols(formula='np.log(wage) ~ educ + exper + tenure', data=wage1).fit()\n",
    "print(model.summary())"
   ]
  },
  {
   "cell_type": "code",
   "execution_count": 70,
   "id": "415ce43c",
   "metadata": {},
   "outputs": [
    {
     "name": "stdout",
     "output_type": "stream",
     "text": [
      "Beta: \n",
      "{'intercept': 0.2843595552360746, 'educ': 0.0920289867692827, 'exper': 0.004121109045609959, 'tenure': 0.022067217434724347}\n",
      "Std Error Params: \n",
      " {'intercept': 0.10419037797067718, 'educ': 0.0073299232744946695, 'exper': 0.0017232772008454382, 'tenure': 0.0030936491910178287}\n",
      "t-values:\n",
      " {'intercept': 2.7292304795756026, 'educ': 12.555245576649948, 'exper': 2.3914371080799692, 'tenure': 7.133070387810876}\n",
      "p-values:\n",
      " {'intercept': 0.006562462394036572, 'educ': 0.0, 'exper': 0.01713562312471195, 'tenure': 3.2944758032726895e-12}\n"
     ]
    }
   ],
   "source": [
    "# Calculating manual (This model assume it's two-tail hypothesis testing)\n",
    "\n",
    "regressors = ['educ', 'exper', 'tenure']\n",
    "target = 'wage'\n",
    "n = int(wage1.shape[0])\n",
    "df = n - len(regressors) - 1\n",
    "\n",
    "params = {}\n",
    "se_params = {}\n",
    "t_values = {}\n",
    "p_values = {}\n",
    "\n",
    "# Extract X and y\n",
    "X = pd.DataFrame(np.ones(n, dtype=int))\n",
    "X = pd.concat([X, wage1[regressors]], axis=1)\n",
    "y = wage1[target].apply(lambda x: np.log(x))\n",
    "\n",
    "# Parameters estimates\n",
    "X = np.array(X)\n",
    "y = np.array(y).reshape(n, 1)\n",
    "b = np.linalg.inv(X.T@X) @ X.T @ y\n",
    "\n",
    "# Store params\n",
    "for i in range(b.shape[0]):\n",
    "    if i == 0:\n",
    "        params['intercept'] = b[i, 0]\n",
    "    else:\n",
    "        params[f'{regressors[i - 1]}'] = b[i, 0]\n",
    "print(f\"Beta: \\n{params}\")\n",
    "\n",
    "# Residuals, estiamted variance of residuals and SER\n",
    "residuals = y - X @ b\n",
    "var_residuals = (residuals.T @ residuals) / df\n",
    "SER = np.sqrt(var_residuals)[0][0]\n",
    "\n",
    "# Estimated variance of the parameters estiamtors and SE\n",
    "var_beta = var_residuals * np.linalg.inv(X.T @ X)\n",
    "std_error_beta = np.sqrt(np.diagonal(var_beta))\n",
    "\n",
    "# Store std error beta\n",
    "for i in range(len(std_error_beta)):\n",
    "    if i == 0:\n",
    "        se_params['intercept'] = std_error_beta[i]\n",
    "    else:\n",
    "        se_params[f'{regressors[i - 1]}'] = std_error_beta[i]\n",
    "    \n",
    "print(f\"Std Error Params: \\n\", se_params)\n",
    "\n",
    "# Regressors\n",
    "for variable in ['intercept'] + regressors:\n",
    "    t_value_temp = params[f'{variable}'] / se_params[f\"{variable}\"]\n",
    "    t_values[f'{variable}'] = t_value_temp\n",
    "    p_values[f'{variable}'] = 2 * (1 - stats.t.cdf(t_value_temp, df))\n",
    "    \n",
    "    \n",
    "print(\"t-values:\\n\", t_values)\n",
    "print(\"p-values:\\n\", p_values)"
   ]
  },
  {
   "cell_type": "markdown",
   "id": "5bd4d826",
   "metadata": {},
   "source": [
    "### Case Confidence Interval"
   ]
  },
  {
   "cell_type": "markdown",
   "id": "ae9914fd",
   "metadata": {},
   "source": [
    "![image](images/Example_4-8.png)"
   ]
  },
  {
   "cell_type": "code",
   "execution_count": 79,
   "id": "b2d3268d",
   "metadata": {},
   "outputs": [
    {
     "name": "stdout",
     "output_type": "stream",
     "text": [
      "{'intercept': nan, 'sales': nan, 'profmarg': nan}\n"
     ]
    },
    {
     "name": "stderr",
     "output_type": "stream",
     "text": [
      "C:\\Users\\Baha Tegar\\AppData\\Local\\Temp\\ipykernel_27096\\1209291502.py:39: RuntimeWarning: invalid value encountered in sqrt\n",
      "  std_error_beta = np.sqrt(np.diagonal(var_beta))\n"
     ]
    }
   ],
   "source": [
    "rdchem = woo.dataWoo('rdchem')\n",
    "regressors = ['sales', 'profmarg']\n",
    "target = 'rd'\n",
    "n = rdchem.shape[0]\n",
    "df = n - len(rdchem) - 1\n",
    "alpha = np.array([0.05, 0.01])\n",
    "\n",
    "# Storage\n",
    "params = {}\n",
    "se_params = {}\n",
    "CI_params = {}\n",
    "\n",
    "\n",
    "# Calculate critical values\n",
    "c_values = stats.t.ppf(1 - alpha, 522)\n",
    "\n",
    "# Extract X and y\n",
    "X = pd.DataFrame(np.ones(n, dtype=int))\n",
    "X = pd.concat([X, rdchem[regressors]], axis=1)\n",
    "X['sales'] = X['sales'].apply(lambda x: np.log(x))\n",
    "\n",
    "y = rdchem[target].apply(lambda x: np.log(x))\n",
    "\n",
    "# Parameters estimates\n",
    "X = np.array(X)\n",
    "y = np.array(y).reshape(-1, 1)\n",
    "b = np.linalg.inv(X.T @ X) @ X.T @ y\n",
    "# Store params\n",
    "for i in range(b.shape[0]):\n",
    "    if i == 0:\n",
    "        params['intercept'] = b[i, 0]\n",
    "    else:\n",
    "        params[f'{regressors[i - 1]}'] = b[i, 0]\n",
    "\n",
    "# Estimate std error parameters\n",
    "residuals = y - X @ b\n",
    "var_residuals = (residuals.T @ residuals) / df\n",
    "var_beta = var_residuals * np.linalg.inv(X.T @ X)\n",
    "std_error_beta = np.sqrt(np.diagonal(var_beta))\n",
    "\n",
    "# Store std error beta\n",
    "# for i in range(len(std_error_beta)):\n",
    "#     if i == 0:\n",
    "#         se_params['intercept'] = std_error_beta[i]\n",
    "#     else:\n",
    "#         se_params[f'{regressors[i - 1]}'] = std_error_beta[i]\n",
    "\n",
    "\n",
    "# for c in c_values:\n",
    "\n",
    "print(se_params)"
   ]
  },
  {
   "cell_type": "code",
   "execution_count": 71,
   "id": "d6a4ed76",
   "metadata": {},
   "outputs": [
    {
     "ename": "TypeError",
     "evalue": "_parse_args() missing 1 required positional argument: 'df'",
     "output_type": "error",
     "traceback": [
      "\u001b[1;31m---------------------------------------------------------------------------\u001b[0m",
      "\u001b[1;31mTypeError\u001b[0m                                 Traceback (most recent call last)",
      "Cell \u001b[1;32mIn[71], line 1\u001b[0m\n\u001b[1;32m----> 1\u001b[0m stats\u001b[38;5;241m.\u001b[39mt\u001b[38;5;241m.\u001b[39mppf(\u001b[38;5;241m1\u001b[39m \u001b[38;5;241m-\u001b[39m \u001b[38;5;241m0.05\u001b[39m, )\n",
      "File \u001b[1;32m~\\anaconda3\\Lib\\site-packages\\scipy\\stats\\_distn_infrastructure.py:2340\u001b[0m, in \u001b[0;36mrv_continuous.ppf\u001b[1;34m(self, q, *args, **kwds)\u001b[0m\n\u001b[0;32m   2319\u001b[0m \u001b[38;5;28;01mdef\u001b[39;00m \u001b[38;5;21mppf\u001b[39m(\u001b[38;5;28mself\u001b[39m, q, \u001b[38;5;241m*\u001b[39margs, \u001b[38;5;241m*\u001b[39m\u001b[38;5;241m*\u001b[39mkwds):\n\u001b[0;32m   2320\u001b[0m \u001b[38;5;250m    \u001b[39m\u001b[38;5;124;03m\"\"\"Percent point function (inverse of `cdf`) at q of the given RV.\u001b[39;00m\n\u001b[0;32m   2321\u001b[0m \n\u001b[0;32m   2322\u001b[0m \u001b[38;5;124;03m    Parameters\u001b[39;00m\n\u001b[1;32m   (...)\u001b[0m\n\u001b[0;32m   2338\u001b[0m \n\u001b[0;32m   2339\u001b[0m \u001b[38;5;124;03m    \"\"\"\u001b[39;00m\n\u001b[1;32m-> 2340\u001b[0m     args, loc, scale \u001b[38;5;241m=\u001b[39m \u001b[38;5;28mself\u001b[39m\u001b[38;5;241m.\u001b[39m_parse_args(\u001b[38;5;241m*\u001b[39margs, \u001b[38;5;241m*\u001b[39m\u001b[38;5;241m*\u001b[39mkwds)\n\u001b[0;32m   2341\u001b[0m     q, loc, scale \u001b[38;5;241m=\u001b[39m \u001b[38;5;28mmap\u001b[39m(asarray, (q, loc, scale))\n\u001b[0;32m   2342\u001b[0m     args \u001b[38;5;241m=\u001b[39m \u001b[38;5;28mtuple\u001b[39m(\u001b[38;5;28mmap\u001b[39m(asarray, args))\n",
      "\u001b[1;31mTypeError\u001b[0m: _parse_args() missing 1 required positional argument: 'df'"
     ]
    }
   ],
   "source": [
    "stats.t.ppf(1 - 0.05, )"
   ]
  },
  {
   "cell_type": "code",
   "execution_count": null,
   "id": "96ac434c",
   "metadata": {},
   "outputs": [],
   "source": []
  }
 ],
 "metadata": {
  "kernelspec": {
   "display_name": "Python 3 (ipykernel)",
   "language": "python",
   "name": "python3"
  },
  "language_info": {
   "codemirror_mode": {
    "name": "ipython",
    "version": 3
   },
   "file_extension": ".py",
   "mimetype": "text/x-python",
   "name": "python",
   "nbconvert_exporter": "python",
   "pygments_lexer": "ipython3",
   "version": "3.11.4"
  }
 },
 "nbformat": 4,
 "nbformat_minor": 5
}
