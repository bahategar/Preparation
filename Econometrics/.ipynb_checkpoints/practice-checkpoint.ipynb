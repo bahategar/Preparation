{
 "cells": [
  {
   "cell_type": "code",
   "execution_count": 2,
   "id": "1549c7a4",
   "metadata": {},
   "outputs": [],
   "source": [
    "# Import package for getting dataset example\n",
    "import wooldridge as woo\n",
    "\n",
    "import numpy as np\n",
    "import pandas as pd\n",
    "import matplotlib.pyplot as plt\n",
    "\n",
    "import scipy.stats as stats\n",
    "import statsmodels.api as sm\n",
    "import statsmodels.formula.api as smf\n",
    "\n",
    "import math\n",
    "from tqdm import tqdm"
   ]
  },
  {
   "cell_type": "markdown",
   "id": "c29fce94",
   "metadata": {},
   "source": [
    "# Simple Linear Regression"
   ]
  },
  {
   "cell_type": "markdown",
   "id": "3973ee2e",
   "metadata": {},
   "source": [
    "![image](images/practice_2-3.png)"
   ]
  },
  {
   "cell_type": "code",
   "execution_count": 3,
   "id": "9e27baac",
   "metadata": {},
   "outputs": [
    {
     "data": {
      "text/plain": [
       "Intercept    963.191336\n",
       "roe           18.501186\n",
       "dtype: float64"
      ]
     },
     "execution_count": 3,
     "metadata": {},
     "output_type": "execute_result"
    }
   ],
   "source": [
    "# import data\n",
    "\n",
    "data = woo.dataWoo('ceosal1')\n",
    "y = data['salary']\n",
    "x = data['roe']\n",
    "\n",
    "model = smf.ols(formula='salary ~ roe', data=data).fit()\n",
    "\n",
    "model.params"
   ]
  },
  {
   "cell_type": "markdown",
   "id": "047a8f5c",
   "metadata": {},
   "source": [
    "Explanation:\n",
    "- The slope 'roe' is 18.5 which means the 'salary' is predicted to change about 18,500 USD if the'roe' increase by one.\n",
    "- We can compare predicted salary. Suppose 'roe' = 30 then expected 'salary' is  1,518,221 USD. However we do not include other factors."
   ]
  },
  {
   "cell_type": "markdown",
   "id": "7347372d",
   "metadata": {},
   "source": [
    "![image](images/practice_2-4.png)"
   ]
  },
  {
   "cell_type": "code",
   "execution_count": 4,
   "id": "0afcad83",
   "metadata": {},
   "outputs": [
    {
     "data": {
      "text/plain": [
       "Intercept   -0.904852\n",
       "educ         0.541359\n",
       "dtype: float64"
      ]
     },
     "execution_count": 4,
     "metadata": {},
     "output_type": "execute_result"
    }
   ],
   "source": [
    "data = woo.dataWoo('wage1')\n",
    "\n",
    "model = smf.ols(formula='wage ~ educ', data=data).fit()\n",
    "\n",
    "model.params"
   ]
  },
  {
   "cell_type": "code",
   "execution_count": 5,
   "id": "84849a5d",
   "metadata": {},
   "outputs": [
    {
     "data": {
      "image/png": "[encoded data removed]",
      "text/plain": [
       "<Figure size 640x480 with 1 Axes>"
      ]
     },
     "metadata": {},
     "output_type": "display_data"
    }
   ],
   "source": [
    "# Create the bar plot\n",
    "ax = data['educ'].value_counts().sort_index().plot(kind='bar')\n",
    "\n",
    "# Annotate the bars with the value counts\n",
    "for p in ax.patches:\n",
    "    ax.annotate(f'{p.get_height()}', \n",
    "                (p.get_x() + p.get_width() / 2., p.get_height()), \n",
    "                ha='center', va='baseline', fontsize=12, color='black', xytext=(0, 5),\n",
    "                textcoords='offset points')\n",
    "\n",
    "# Show the plot\n",
    "plt.show()"
   ]
  },
  {
   "cell_type": "markdown",
   "id": "bbb8c85f",
   "metadata": {},
   "source": [
    "Explanation:\n",
    "- The intercept literally means that a person with no education has a predicted hourly wage of -90 cent an hour. Why this happen? the model trained by relatively small data for low level of education (only 18 people in the sample that have less than eight year education). It makes the regression line does poorly at very low levels of education.\n",
    "- The model tells that one more year of education increases hourly wage by 54 cent an hour."
   ]
  },
  {
   "cell_type": "markdown",
   "id": "77187ab9",
   "metadata": {},
   "source": [
    "![image](images/practice_2-5.png)"
   ]
  },
  {
   "cell_type": "code",
   "execution_count": 6,
   "id": "814e8061",
   "metadata": {},
   "outputs": [
    {
     "data": {
      "text/plain": [
       "Intercept    26.812214\n",
       "shareA        0.463827\n",
       "dtype: float64"
      ]
     },
     "execution_count": 6,
     "metadata": {},
     "output_type": "execute_result"
    }
   ],
   "source": [
    "data = woo.dataWoo('vote1')\n",
    "\n",
    "model = smf.ols(formula='voteA ~ shareA', data=data).fit()\n",
    "\n",
    "model.params"
   ]
  },
  {
   "cell_type": "markdown",
   "id": "735ea241",
   "metadata": {},
   "source": [
    "Explanation:\n",
    "- If 100% percentage total campaign expenditures accounted for by Candidate A, then the vote A is predicted to be about 73%."
   ]
  },
  {
   "cell_type": "markdown",
   "id": "da058bdb",
   "metadata": {},
   "source": [
    "![image](images/practice_2-7.png)"
   ]
  },
  {
   "cell_type": "code",
   "execution_count": 7,
   "id": "3eaf9fb7",
   "metadata": {},
   "outputs": [
    {
     "name": "stdout",
     "output_type": "stream",
     "text": [
      "Mean wage1 = 5.896102674787035\n",
      "Mean educ = 12.562737642585551\n",
      "Mean wage1 (from model) = 5.8961026747870395\n"
     ]
    }
   ],
   "source": [
    "data = woo.dataWoo('wage1')\n",
    "\n",
    "model = smf.ols(formula='wage ~ educ', data=data).fit()\n",
    "mean_educ = np.mean(data['educ'])\n",
    "\n",
    "print(f\"Mean wage1 = {data['wage'].mean()}\")\n",
    "print(f\"Mean educ = {mean_educ}\")\n",
    "\n",
    "formula = model.params['Intercept'] + model.params['educ'] * mean_educ \n",
    "print(f\"Mean wage1 (from model) = {formula}\")"
   ]
  },
  {
   "cell_type": "markdown",
   "id": "039d58b8",
   "metadata": {},
   "source": [
    "![image](images/practice_2-8.png)"
   ]
  },
  {
   "cell_type": "code",
   "execution_count": 8,
   "id": "1e7a8dcd",
   "metadata": {},
   "outputs": [
    {
     "data": {
      "text/plain": [
       "0.01318862408103405"
      ]
     },
     "execution_count": 8,
     "metadata": {},
     "output_type": "execute_result"
    }
   ],
   "source": [
    "data = woo.dataWoo('ceosal1')\n",
    "\n",
    "model = smf.ols(formula='salary ~ roe', data=data).fit()\n",
    "y_pred = model.fittedvalues\n",
    "y_actual = data['salary']\n",
    "residu = y_actual - y_pred\n",
    "mean_y = np.mean(y_actual)\n",
    "\n",
    "SSR = np.sum(residu ** 2)\n",
    "SST = np.sum((y_actual - mean_y) ** 2)\n",
    "R2 = 1 - SSR / SST\n",
    "R2"
   ]
  },
  {
   "cell_type": "markdown",
   "id": "c921ba98",
   "metadata": {},
   "source": [
    "Explanation:\n",
    "- Since only about 13% of the variation in salaries that can be explained by model, this model is too weak."
   ]
  },
  {
   "cell_type": "markdown",
   "id": "ec0e9699",
   "metadata": {},
   "source": [
    "![image](images/practice_2-9.png)"
   ]
  },
  {
   "cell_type": "code",
   "execution_count": 9,
   "id": "2a460b52",
   "metadata": {},
   "outputs": [
    {
     "data": {
      "text/plain": [
       "0.8561408655827665"
      ]
     },
     "execution_count": 9,
     "metadata": {},
     "output_type": "execute_result"
    }
   ],
   "source": [
    "data = woo.dataWoo('vote1')\n",
    "\n",
    "model = smf.ols(formula='voteA ~ shareA', data=data).fit()\n",
    "y_pred = model.fittedvalues\n",
    "y_actual = data['voteA']\n",
    "\n",
    "residu = y_actual - y_pred\n",
    "mean_voteA = np.mean(y_actual)\n",
    "\n",
    "SSR = np.mean(residu ** 2)\n",
    "SST = np.mean((y_actual - mean_voteA) ** 2)\n",
    "\n",
    "R2 = 1 - SSR / SST\n",
    "R2"
   ]
  },
  {
   "cell_type": "markdown",
   "id": "e5a89b37",
   "metadata": {},
   "source": [
    "Explanation:\n",
    "- It's only 85% variance of VoteA can be explained by model. It is strong model."
   ]
  },
  {
   "cell_type": "markdown",
   "id": "2136bf0f",
   "metadata": {},
   "source": [
    "![image](images/practice_2-10.png)"
   ]
  },
  {
   "cell_type": "code",
   "execution_count": 10,
   "id": "ad40fa44",
   "metadata": {},
   "outputs": [
    {
     "name": "stdout",
     "output_type": "stream",
     "text": [
      "Model:\n",
      "-0.905 + 0.541 * educ\n",
      "R2 square 0.165\n",
      "Model:\n",
      "0.584 + 0.083 * educ\n",
      "R2 square 0.186\n"
     ]
    }
   ],
   "source": [
    "data = woo.dataWoo('wage1')\n",
    "# Using normal wage dependent variable\n",
    "model = smf.ols(formula='wage ~ educ', data=data).fit()\n",
    "residual = data['wage'] - model.fittedvalues\n",
    "mean_wage = np.mean(data['wage'])\n",
    "SSR = np.sum(residual ** 2)\n",
    "SST = np.sum((data['wage'] - mean_wage) ** 2)\n",
    "R2 = 1 - SSR / SST\n",
    "print('Model:')\n",
    "print(f\"{round(model.params['Intercept'], 3)} + {round(model.params['educ'], 3)} * educ\")\n",
    "print(f'R2 square {round(R2, 3)}')\n",
    "\n",
    "# Logaritmic model\n",
    "model_log = smf.ols(formula='np.log(wage) ~ educ', data=data).fit()\n",
    "residual_log = np.log(data['wage']) - model_log.fittedvalues\n",
    "mean_wage_log = np.mean(np.log(data['wage']))\n",
    "\n",
    "SSR_log = np.sum(residual_log ** 2)\n",
    "SST_log = np.sum( (np.log(data['wage']) - mean_wage_log) ** 2 )\n",
    "R2_log = 1 - SSR_log / SST_log\n",
    "print('Model:')\n",
    "print(f\"{round(model_log.params['Intercept'], 3)} + {round(model_log.params['educ'], 3)} * educ\")\n",
    "print(f\"R2 square {round(R2_log, 3)}\")"
   ]
  },
  {
   "cell_type": "markdown",
   "id": "6ea17610",
   "metadata": {},
   "source": [
    "Explanation:\n",
    "- According to log model, wage increases 8.3% for every additional year of education. This slope is called 'return to another year of education'.\n",
    "- The R-squared shows that educ explains about 18.6% of the variation in log(wage).\n",
    "- According to the model, log wage version can explain variation of explanatory variable better than non log version."
   ]
  },
  {
   "cell_type": "markdown",
   "id": "2f1d1585",
   "metadata": {},
   "source": [
    "![image](images/practice_2-11.png)"
   ]
  },
  {
   "cell_type": "code",
   "execution_count": 11,
   "id": "8ea668b0",
   "metadata": {},
   "outputs": [
    {
     "name": "stdout",
     "output_type": "stream",
     "text": [
      "Formula (level-level): (1174, 3) + 0.015 * sales\n",
      "R2 square (level-level): 0.014\n",
      "Formula (log-log): 4.822 + 0.257 * log(sales)\n",
      "R2 square (log-log): 0.211\n"
     ]
    }
   ],
   "source": [
    "data = woo.dataWoo('ceosal1')\n",
    "\n",
    "# Normal model\n",
    "model = smf.ols(formula='salary ~ sales', data=data).fit()\n",
    "print(f\"Formula (level-level): {round(model.params['Intercept']), 3} + {round(model.params['sales'], 3)} * sales\")\n",
    "\n",
    "residual = data['salary'] - model.fittedvalues\n",
    "mean_salary = np.mean(data['salary'])\n",
    "SSR = np.sum(residual ** 2)\n",
    "SST = np.sum((data['salary'] - mean_salary) ** 2)\n",
    "\n",
    "R2 = 1 - SSR / SST\n",
    "print(f\"R2 square (level-level): {round(R2, 3)}\")\n",
    "\n",
    "# Logarithmic model\n",
    "model_log = smf.ols(formula='np.log(salary) ~ np.log(sales)', data=data).fit()\n",
    "\n",
    "print(f\"Formula (log-log): {round(model_log.params['Intercept'], 3)} + {round(model_log.params['np.log(sales)'], 3)} * log(sales)\")\n",
    "\n",
    "residual_log = np.log(data['salary']) - model_log.fittedvalues\n",
    "mean_log_salary = np.mean(np.log(data['salary']))\n",
    "SSR_log = np.sum(residual_log ** 2)\n",
    "SST_log = np.sum((np.log(data['salary']) - mean_log_salary) ** 2)\n",
    "\n",
    "R2_log = 1 - SSR_log / SST_log\n",
    "print(f\"R2 square (log-log): {round(R2_log, 3)}\")"
   ]
  },
  {
   "cell_type": "markdown",
   "id": "80392079",
   "metadata": {},
   "source": [
    "Explanation:\n",
    "- It implies that if sales increases 1%, then the salary will increase 0.257%.\n",
    "- The model only explains 21% variation of log salary. This model is not good."
   ]
  },
  {
   "cell_type": "markdown",
   "id": "0c3aad45",
   "metadata": {},
   "source": [
    "![image](images/practice_2-12.png)"
   ]
  },
  {
   "cell_type": "code",
   "execution_count": 12,
   "id": "956b1f87",
   "metadata": {},
   "outputs": [
    {
     "name": "stdout",
     "output_type": "stream",
     "text": [
      "Formula model 32.143 - 0.319 * lnchprg\n",
      "R2 square model = 0.171\n"
     ]
    }
   ],
   "source": [
    "data = woo.dataWoo('meap93')\n",
    "\n",
    "model = smf.ols(formula='math10 ~ lnchprg', data=data).fit()\n",
    "\n",
    "print(f\"Formula model {round(model.params['Intercept'], 3)} - {abs(round(model.params['lnchprg'], 3))} * lnchprg\")\n",
    "\n",
    "residu = data['math10'] - model.fittedvalues\n",
    "SSR = np.sum(residu ** 2)\n",
    "\n",
    "mean_math10 = np.mean(data['math10'])\n",
    "SST = np.sum((data['math10'] - mean_math10) ** 2)\n",
    "\n",
    "R2 = 1 - SSR / SST\n",
    "print(f\"R2 square model = {round(R2, 3)}\")"
   ]
  },
  {
   "cell_type": "markdown",
   "id": "a9ee7bdd",
   "metadata": {},
   "source": [
    "Explanation:\n",
    "- Since lnchprg is represent percentage of students who are eligible for the lunc program, commonly hard work is proportional to good results (the sign must be positive) but our model shows the negative sign (estimator = - 0.319). In general we can assume two possible reason:\n",
    "    1. If we assume our program is proven works for various years, then we expect that there are another variables that model needed to explain this phenomena.\n",
    "    2. Otherwise, it might be our program does not fit to the students. So we must to evaluate our program.\n",
    "    \n",
    "    \n",
    "- Because the R2 squared model shows the model is not good (R2 model is 17%), we can try to re-modeling our model by adding another variable."
   ]
  },
  {
   "cell_type": "markdown",
   "id": "c296f007",
   "metadata": {},
   "source": [
    "![image](images/practice_2-14.png)"
   ]
  },
  {
   "cell_type": "code",
   "execution_count": 13,
   "id": "20f3e210",
   "metadata": {},
   "outputs": [
    {
     "name": "stdout",
     "output_type": "stream",
     "text": [
      "Formula model 4.555 + 1.794 * train\n",
      "R2 square model = 0.018\n"
     ]
    }
   ],
   "source": [
    "data = woo.dataWoo('jtrain2')\n",
    "\n",
    "model = smf.ols(formula='re78 ~ train', data=data).fit()\n",
    "\n",
    "print(f\"Formula model {round(model.params['Intercept'], 3)} + {(round(model.params['train'], 3))} * train\")\n",
    "\n",
    "residu = data['re78'] - model.fittedvalues\n",
    "SSR = np.sum(residu ** 2)\n",
    "\n",
    "mean_math10 = np.mean(data['re78'])\n",
    "SST = np.sum((data['re78'] - mean_math10) ** 2)\n",
    "\n",
    "R2 = 1 - SSR / SST\n",
    "print(f\"R2 square model = {round(R2, 3)}\")"
   ]
  },
  {
   "cell_type": "markdown",
   "id": "a403b776",
   "metadata": {},
   "source": [
    "Explanation:\n",
    "- Men who participated in the program earned average of USD 1,794 more than who did not. However the R2 model is not more than 2%.\n",
    "- The small R2 indicates that many factors such as education, experience, intelligence, age, etc help determine labor market earnings.\n",
    "- Since USD 1,794 is very large, we do not know whether this estimate is statistically significant or not."
   ]
  },
  {
   "cell_type": "markdown",
   "id": "7872e700",
   "metadata": {},
   "source": [
    "# Multiple Linear Regression"
   ]
  },
  {
   "cell_type": "markdown",
   "id": "44e37d43",
   "metadata": {},
   "source": [
    "![image](images/practice_3-1.png)"
   ]
  },
  {
   "cell_type": "code",
   "execution_count": 14,
   "id": "618f08f9",
   "metadata": {
    "scrolled": true
   },
   "outputs": [
    {
     "name": "stdout",
     "output_type": "stream",
     "text": [
      "Model: GPA = 1.286 + 0.453 hsGPA + 0.0094 ACT\n"
     ]
    }
   ],
   "source": [
    "data = woo.dataWoo('gpa1')\n",
    "model = smf.ols(formula='colGPA ~ hsGPA + ACT', data=data).fit()\n",
    "\n",
    "print(f\"Model: GPA = {round(model.params['Intercept'], 3)} + \" + \\\n",
    "     f\"{round(model.params['hsGPA'], 3)} hsGPA + \" + \\\n",
    "     f\"{round(model.params['ACT'], 4)} ACT\")\n"
   ]
  },
  {
   "cell_type": "markdown",
   "id": "b6b400e6",
   "metadata": {},
   "source": [
    "Explanation:\n",
    "- There is a positive partial relationship between colGPA and hsGPA, about 0.453, which almost half a point of colGPA.\n",
    "- The ACT gives small partial effect. Naturally there are many other factors that contribute to GPA."
   ]
  },
  {
   "cell_type": "markdown",
   "id": "c8bad787",
   "metadata": {},
   "source": [
    "![image](images/practice_3-2.png)"
   ]
  },
  {
   "cell_type": "code",
   "execution_count": 15,
   "id": "cdd41089",
   "metadata": {},
   "outputs": [
    {
     "name": "stdout",
     "output_type": "stream",
     "text": [
      "Model: GPA = 0.284 + 0.092 educ + 0.004 exper + 0.022 tenure\n"
     ]
    }
   ],
   "source": [
    "data = woo.dataWoo('wage1')\n",
    "model = smf.ols(formula='np.log(wage) ~ educ + exper + tenure', data=data).fit()\n",
    "\n",
    "print(f\"Model: GPA = {round(model.params['Intercept'], 3)} + \" + \\\n",
    "     f\"{round(model.params['educ'], 3)} educ + \" + \\\n",
    "     f\"{round(model.params['exper'], 3)} exper + \" + \\\n",
    "     f\"{round(model.params['tenure'], 3)} tenure\")"
   ]
  },
  {
   "cell_type": "markdown",
   "id": "f2cc47d4",
   "metadata": {},
   "source": [
    "Explanation:\n",
    "- If we increase one unit educ, the wage increases 9.2 percent with fixed other variables.\n",
    "- If we increase one unit tenure, the wage increases 2.2 percent with fixed other variables.\n",
    "- If we increase one unit educ, the wage increases 0.41 percent with fixed other variables. It seems experience do not give significant impact if we compare it to education."
   ]
  },
  {
   "cell_type": "markdown",
   "id": "85c96484",
   "metadata": {},
   "source": [
    "![image](images/practice_3-3.png)"
   ]
  },
  {
   "cell_type": "code",
   "execution_count": 16,
   "id": "6b85946b",
   "metadata": {},
   "outputs": [
    {
     "name": "stdout",
     "output_type": "stream",
     "text": [
      "Model:\n",
      "prate = 80.119 + 5.521 mrate + 0.243 age\n",
      "Model Simple Regression:\n",
      "prate = 83.075 + 5.861 mrate\n",
      "Correlation mrate and age: 0.0101\n"
     ]
    }
   ],
   "source": [
    "data = woo.dataWoo('401k')\n",
    "\n",
    "model = smf.ols(formula='prate ~ mrate + age', data=data).fit()\n",
    "print(f\"Model:\\nprate = {round(model.params['Intercept'], 3)} + {round(model.params['mrate'], 3)} mrate + \" +\\\n",
    "      f\"{round(model.params['age'], 3)} age\")\n",
    "\n",
    "model_sr = smf.ols(formula='prate ~ mrate', data=data).fit()\n",
    "print(f\"Model Simple Regression:\\nprate = {round(model_sr.params['Intercept'], 3)} + \"+\\\n",
    "      f\"{round(model_sr.params['mrate'], 3)} mrate\")\n",
    "\n",
    "# Generate model between mrate and age\n",
    "model_r = smf.ols(formula='mrate ~ age', data=data).fit()\n",
    "corr_mrate_age = model_r.params['age']\n",
    "\n",
    "## Alternative since regressors only two variables\n",
    "corr_mrate_age = np.cov(data['mrate'], data['age'], ddof=1)[0, 1] / np.cov(data['mrate'], data['age'], ddof=1)[1, 1]\n",
    "print(f\"Correlation mrate and age: {round(corr_mrate_age, 5)}\")"
   ]
  },
  {
   "cell_type": "code",
   "execution_count": 17,
   "id": "d6f55d85",
   "metadata": {},
   "outputs": [
    {
     "name": "stdout",
     "output_type": "stream",
     "text": [
      "Parameter mrate in MLR:  5.521289125006865\n"
     ]
    }
   ],
   "source": [
    "# Try partialing out mrate using explicit formula\n",
    "\n",
    "model_reg = smf.ols(formula='mrate ~ age', data=data).fit()\n",
    "r = model_reg.resid\n",
    "\n",
    "params_mrate = np.sum(r * data['prate']) / np.sum(r ** 2)\n",
    "print(f\"Parameter mrate in MLR: \", params_mrate)"
   ]
  },
  {
   "cell_type": "markdown",
   "id": "42df4b34",
   "metadata": {},
   "source": [
    "Explanation:\n",
    "- If match rate increase one unit, the participation rate will increase 5.521 for other regressors is fixed.\n",
    "- If age increase one unit, the participation rate will increase 0.243 for other regressors is fixed.\n",
    "- If we drop age, the slope of mrate in SLR is not change that much. Because slope age in MLR is not trivial, we can say that correlation between mrate and age is small so it does not give significant impact into slope mrate in SLR."
   ]
  },
  {
   "cell_type": "markdown",
   "id": "899d1901",
   "metadata": {},
   "source": [
    "![image](images/practice_3-4.png)"
   ]
  },
  {
   "cell_type": "code",
   "execution_count": 18,
   "id": "44134882",
   "metadata": {},
   "outputs": [
    {
     "name": "stdout",
     "output_type": "stream",
     "text": [
      "Model:\n",
      "colGPA = 1.286 + 0.453 * hsGPA + 0.009 * ACT\n",
      "R2 square = 0.176\n"
     ]
    }
   ],
   "source": [
    "data = woo.dataWoo('gpa1')\n",
    "\n",
    "model = smf.ols(formula='colGPA ~ hsGPA + ACT', data=data).fit()\n",
    "\n",
    "SSR = np.sum(model.resid ** 2)\n",
    "SST = np.sum( (data['colGPA'] - np.mean(data['colGPA'])) ** 2 )\n",
    "\n",
    "R2 = 1 - SSR / SST\n",
    "\n",
    "print(f\"Model:\\ncolGPA = {round(model.params['Intercept'], 3)} + \" +\\\n",
    "      f\"{round(model.params['hsGPA'], 3)} * hsGPA + {round(model.params['ACT'], 3)} * ACT\")\n",
    "print(f\"R2 square = {round(R2, 3)}\")"
   ]
  },
  {
   "cell_type": "markdown",
   "id": "6f025f39",
   "metadata": {},
   "source": [
    "Explanation:\n",
    "- hsGPA and ACT explains 17.6% of the variation GPA. It seems that there are other factors that contribute students' GPA."
   ]
  },
  {
   "cell_type": "markdown",
   "id": "925b9e9b",
   "metadata": {},
   "source": [
    "![image](images/practice_3-5.png)"
   ]
  },
  {
   "cell_type": "code",
   "execution_count": 19,
   "id": "65e767ea",
   "metadata": {},
   "outputs": [
    {
     "name": "stdout",
     "output_type": "stream",
     "text": [
      "Model:\n",
      "narr86 = 0.707 - 0.151 * pcnv + 0.007 * avgsen - 0.037 * ptime86 - 0.103 * qemp86 \n",
      "R2: 0.0422\n"
     ]
    }
   ],
   "source": [
    "data = woo.dataWoo('crime1')\n",
    "\n",
    "model = smf.ols(formula='narr86 ~ pcnv + avgsen + ptime86 + qemp86', data=data).fit()\n",
    "pcnv = round(model.params['pcnv'], 3)\n",
    "avgsen = round(model.params['avgsen'], 3)\n",
    "ptime86 = round(model.params['ptime86'], 3)\n",
    "qemp86 = round(model.params['qemp86'], 3)\n",
    "\n",
    "print(f\"Model:\\nnarr86 = {round(model.params['Intercept'], 3)} - \" +\\\n",
    "      f\"{abs(pcnv)} * pcnv + {avgsen} * avgsen - \" +\\\n",
    "      f\"{abs(ptime86)} * ptime86 - {abs(qemp86)} * qemp86 \")\n",
    "\n",
    "# R2 square\n",
    "SSR = np.sum(model.resid ** 2)\n",
    "SST = np.sum( (data['narr86'] - np.mean(data['narr86']) ) ** 2)\n",
    "R2 = 1 - SSR / SST\n",
    "\n",
    "print(f\"R2: {round(R2, 4)}\")"
   ]
  },
  {
   "cell_type": "markdown",
   "id": "9b3b5a04",
   "metadata": {},
   "source": [
    "Explanation:\n",
    "- The model only explains 4.2% variation of data. This is bad model.\n",
    "- The fractional predictor seems weird in this case. However, the idea is to interpret this coefficient in terms of expected changes in a large group. So, if you apply the coefficient to a large population, the fractional arrest decrease makes more sense.\n",
    "- If pcnv increases 50%, then it hopes that among 100 men, the predicted fall in arrests is -7.5 with other variables constant.\n",
    "- If qemp86 increases 1 unit, then it hopes that 10.4 would be arrests among 100 men."
   ]
  },
  {
   "cell_type": "markdown",
   "id": "5268f049",
   "metadata": {},
   "source": [
    "![image](images/practice_3-6.png)"
   ]
  },
  {
   "cell_type": "code",
   "execution_count": 20,
   "id": "1a502002",
   "metadata": {},
   "outputs": [
    {
     "data": {
      "text/plain": [
       "Intercept    0.583773\n",
       "educ         0.082744\n",
       "dtype: float64"
      ]
     },
     "execution_count": 20,
     "metadata": {},
     "output_type": "execute_result"
    }
   ],
   "source": [
    "data = woo.dataWoo('wage1')\n",
    "\n",
    "# Simple Linear Regression Model\n",
    "model_slr = smf.ols(formula='np.log(wage) ~ educ', data=data).fit()\n",
    "\n",
    "model_slr.params"
   ]
  },
  {
   "cell_type": "markdown",
   "id": "6a289f6d",
   "metadata": {},
   "source": [
    "Explanation:\n",
    "- Intuitively, we can expect that educ and ability have positive sign correlation. Also wage and abil should be have positive correlation. According to these arguments, We expect that b1 in MLR should be more than 8.3%."
   ]
  },
  {
   "cell_type": "code",
   "execution_count": null,
   "id": "90bcfafc",
   "metadata": {},
   "outputs": [],
   "source": []
  }
 ],
 "metadata": {
  "kernelspec": {
   "display_name": "Python 3 (ipykernel)",
   "language": "python",
   "name": "python3"
  },
  "language_info": {
   "codemirror_mode": {
    "name": "ipython",
    "version": 3
   },
   "file_extension": ".py",
   "mimetype": "text/x-python",
   "name": "python",
   "nbconvert_exporter": "python",
   "pygments_lexer": "ipython3",
   "version": "3.11.7"
  }
 },
 "nbformat": 4,
 "nbformat_minor": 5
}
