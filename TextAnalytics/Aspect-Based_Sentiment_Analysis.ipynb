{
 "cells": [
  {
   "cell_type": "markdown",
   "id": "1789cc15",
   "metadata": {},
   "source": [
    "# Introduction\n",
    "\n",
    "> Aspect-Based Sentiment Analysis (ABSA) is a text analysis technique that divides the text data and defines its sentiment based on its aspects.\n",
    "\n",
    "\n",
    "The algorithm: \n",
    "1. Aspect Term Extraction ==> Identifying words or phrases in a text in a text that pertain to specific aspects.\n",
    "\n",
    "2. Polarity Sentiment Classification ==> Identifying the sentiment for each aspect.\n",
    "\n",
    "To identifying aspects:\n",
    "- Rule-based approach\n",
    "- Statistics-based approach\n",
    "- ML-based approach\n",
    "\n",
    "\n",
    "NOTE: Aspect-Based Sentiment Analysis (ABSA) is a more granular form of sentiment analysis.\n",
    "\n",
    "\n",
    "Example:\n",
    "\n",
    "\"The food was good, but the service was bad\"\n",
    "\n",
    "The overall sentiment will be near naeutral. But with ABSA the sentiments towards \"food\" is positive and \"service\" is negative."
   ]
  },
  {
   "cell_type": "code",
   "execution_count": null,
   "id": "c8553c12",
   "metadata": {},
   "outputs": [],
   "source": []
  }
 ],
 "metadata": {
  "kernelspec": {
   "display_name": "Python 3 (ipykernel)",
   "language": "python",
   "name": "python3"
  },
  "language_info": {
   "codemirror_mode": {
    "name": "ipython",
    "version": 3
   },
   "file_extension": ".py",
   "mimetype": "text/x-python",
   "name": "python",
   "nbconvert_exporter": "python",
   "pygments_lexer": "ipython3",
   "version": "3.11.4"
  }
 },
 "nbformat": 4,
 "nbformat_minor": 5
}
