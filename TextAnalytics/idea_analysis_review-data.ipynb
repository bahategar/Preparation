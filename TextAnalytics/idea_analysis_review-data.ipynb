{
 "cells": [
  {
   "cell_type": "markdown",
   "id": "d548228b",
   "metadata": {},
   "source": [
    "# 1. Sentiment Analysis\n",
    "\n",
    "Determine the overall sentiment of the reviews (positive, negative, neutral) to gauge customer satisfaction.\n",
    "\n",
    "\n",
    "Tools/Libraries: nltk, TextBlob, VADER, spaCy, BERT"
   ]
  },
  {
   "cell_type": "code",
   "execution_count": null,
   "id": "e2a55559",
   "metadata": {},
   "outputs": [],
   "source": [
    "from textblob import TextBlob\n",
    "\n",
    "# Example function to get sentiment polarity\n",
    "def get_sentiment(review):\n",
    "    analysis = TextBlob(review)\n",
    "    return analysis.sentiment.polarity  # Returns a value between -1 (negative) and 1 (positive)\n"
   ]
  },
  {
   "cell_type": "markdown",
   "id": "ab1f0949",
   "metadata": {},
   "source": [
    "# 2. Topic Modeling\n",
    "\n",
    "Identify common themes or topics in the reviews to understand what aspects are frequently mentioned.\n",
    "\n",
    "Tools/Libraries: gensim (LDA), sklearn (NMF), spaCy"
   ]
  },
  {
   "cell_type": "code",
   "execution_count": null,
   "id": "a8a1be96",
   "metadata": {},
   "outputs": [],
   "source": [
    "from sklearn.feature_extraction.text import CountVectorizer\n",
    "from sklearn.decomposition import LatentDirichletAllocation\n",
    "\n",
    "# Example function to perform topic modeling\n",
    "def extract_topics(reviews, num_topics=5):\n",
    "    vectorizer = CountVectorizer(stop_words='english')\n",
    "    X = vectorizer.fit_transform(reviews)\n",
    "    lda = LatentDirichletAllocation(n_components=num_topics)\n",
    "    lda.fit(X)\n",
    "    return lda, vectorizer\n"
   ]
  },
  {
   "cell_type": "markdown",
   "id": "325e69f7",
   "metadata": {},
   "source": [
    "# 3. Frequency Analysis\n",
    "\n",
    "Identify the most frequently mentioned words or phrases in the reviews.\n",
    "\n",
    "Tools/Libraries: nltk, collections.Counter, wordcloud"
   ]
  },
  {
   "cell_type": "code",
   "execution_count": null,
   "id": "81eee875",
   "metadata": {},
   "outputs": [],
   "source": [
    "from collections import Counter\n",
    "from nltk.corpus import stopwords\n",
    "from nltk.tokenize import word_tokenize\n",
    "\n",
    "# Example function to get word frequencies\n",
    "def get_word_frequencies(reviews):\n",
    "    stop_words = set(stopwords.words('english'))\n",
    "    all_words = [word for review in reviews for word in word_tokenize(review.lower()) if word.isalnum() and word not in stop_words]\n",
    "    return Counter(all_words).most_common(10)\n"
   ]
  },
  {
   "cell_type": "markdown",
   "id": "120f44bf",
   "metadata": {},
   "source": [
    "# 4. Aspect-Based Sentiment Analysis (ABSA)\n",
    "\n",
    "Analyze sentiment related to specific aspects (e.g., service, price, quality) of the product or service.\n",
    "\n",
    "Tools/Libraries: Custom NLP models, nltk, spaCy\n"
   ]
  },
  {
   "cell_type": "markdown",
   "id": "cc1cdf4c",
   "metadata": {},
   "source": [
    "# 5. Rating Distribution\n",
    "\n",
    "Analyze the distribution of ratings to understand overall customer satisfaction.\n",
    "\n",
    "Tools/Libraries: pandas, matplotlib, seaborn"
   ]
  },
  {
   "cell_type": "code",
   "execution_count": null,
   "id": "718a47f9",
   "metadata": {},
   "outputs": [],
   "source": [
    "import matplotlib.pyplot as plt\n",
    "import seaborn as sns\n",
    "\n",
    "# Example function to plot rating distribution\n",
    "def plot_rating_distribution(ratings):\n",
    "    sns.countplot(x=ratings)\n",
    "    plt.xlabel('Rating')\n",
    "    plt.ylabel('Frequency')\n",
    "    plt.title('Rating Distribution')\n",
    "    plt.show()\n"
   ]
  },
  {
   "cell_type": "markdown",
   "id": "a2241f85",
   "metadata": {},
   "source": [
    "# 6. Review Length Analysis\n",
    "\n",
    "Analyze the length of reviews to understand the depth of customer feedback.\n",
    "\n",
    "Tools/Libraries: pandas, matplotlib"
   ]
  },
  {
   "cell_type": "code",
   "execution_count": null,
   "id": "48a2a6b7",
   "metadata": {},
   "outputs": [],
   "source": [
    "# Example function to plot review length distribution\n",
    "def plot_review_length_distribution(reviews):\n",
    "    review_lengths = [len(review.split()) for review in reviews]\n",
    "    plt.hist(review_lengths, bins=30)\n",
    "    plt.xlabel('Review Length (words)')\n",
    "    plt.ylabel('Frequency')\n",
    "    plt.title('Review Length Distribution')\n",
    "    plt.show()\n"
   ]
  },
  {
   "cell_type": "markdown",
   "id": "8131c626",
   "metadata": {},
   "source": [
    "# 7. Temporal Analysis\n",
    "\n",
    "Analyze how reviews and ratings change over time to identify trends.\n",
    "\n",
    "Tools/Libraries: pandas, matplotlib"
   ]
  },
  {
   "cell_type": "code",
   "execution_count": null,
   "id": "26ceffd8",
   "metadata": {},
   "outputs": [],
   "source": [
    "# Assuming your dataset has a 'date' column in datetime format and a 'rating' column\n",
    "def plot_reviews_over_time(reviews_df):\n",
    "    reviews_df['date'] = pd.to_datetime(reviews_df['date'])\n",
    "    reviews_df.set_index('date', inplace=True)\n",
    "    reviews_df.resample('M').size().plot()\n",
    "    plt.xlabel('Date')\n",
    "    plt.ylabel('Number of Reviews')\n",
    "    plt.title('Reviews Over Time')\n",
    "    plt.show()\n"
   ]
  },
  {
   "cell_type": "markdown",
   "id": "b14f7d1a",
   "metadata": {},
   "source": [
    "# 8. Customer Segmentation\n",
    "\n",
    "Segment customers based on their reviews to identify different customer personas or segments.\n",
    "\n",
    "Tools/Libraries: sklearn (clustering algorithms like KMeans)\n"
   ]
  },
  {
   "cell_type": "code",
   "execution_count": null,
   "id": "a9391813",
   "metadata": {},
   "outputs": [],
   "source": [
    "from sklearn.feature_extraction.text import TfidfVectorizer\n",
    "from sklearn.cluster import KMeans\n",
    "\n",
    "# Example function to segment customers\n",
    "def segment_customers(reviews, num_clusters=3):\n",
    "    vectorizer = TfidfVectorizer(stop_words='english')\n",
    "    X = vectorizer.fit_transform(reviews)\n",
    "    kmeans = KMeans(n_clusters=num_clusters)\n",
    "    clusters = kmeans.fit_predict(X)\n",
    "    return clusters\n"
   ]
  },
  {
   "cell_type": "markdown",
   "id": "05f181d8",
   "metadata": {},
   "source": [
    "# 9. Comparative Analysis\n",
    "\n",
    "Compare reviews across different products, services, or time periods.\n",
    "\n",
    "Tools/Libraries: pandas, matplotlib"
   ]
  },
  {
   "cell_type": "code",
   "execution_count": null,
   "id": "6333656f",
   "metadata": {},
   "outputs": [],
   "source": [
    "# Example function to compare average ratings across products\n",
    "def compare_average_ratings(reviews_df):\n",
    "    avg_ratings = reviews_df.groupby('product')['rating'].mean()\n",
    "    avg_ratings.plot(kind='bar')\n",
    "    plt.xlabel('Product')\n",
    "    plt.ylabel('Average Rating')\n",
    "    plt.title('Average Ratings by Product')\n",
    "    plt.show()\n"
   ]
  },
  {
   "cell_type": "markdown",
   "id": "6ef47dcd",
   "metadata": {},
   "source": [
    "# 10. Review Highlights\n",
    "\n",
    "Extract key highlights or snippets from reviews that capture the essence of customer feedback.\n",
    "\n",
    "Tools/Libraries: nltk, spaCy, BERT"
   ]
  },
  {
   "cell_type": "code",
   "execution_count": null,
   "id": "e629e3b4",
   "metadata": {},
   "outputs": [],
   "source": [
    "# Example function to get key highlights using TextRank algorithm\n",
    "import spacy\n",
    "from spacy.lang.en.stop_words import STOP_WORDS\n",
    "from string import punctuation\n",
    "from heapq import nlargest\n",
    "\n",
    "def get_review_highlights(text):\n",
    "    nlp = spacy.load('en_core_web_sm')\n",
    "    doc = nlp(text)\n",
    "    keyword = []\n",
    "    pos_tag = ['PROPN', 'ADJ', 'NOUN', 'VERB']\n",
    "    for token in doc:\n",
    "        if(token.text in STOP_WORDS or token.text in punctuation):\n",
    "            continue\n",
    "        if(token.pos_ in pos_tag):\n",
    "            keyword.append(token.text)\n",
    "    freq_word = Counter(keyword)\n",
    "    max_freq = Counter(keyword).most_common(1)[0][1]\n",
    "    for word in freq_word:\n",
    "        freq_word[word] = (freq_word[word]/max_freq)\n",
    "    sent_strength={}\n",
    "    for sent in doc.sents:\n",
    "        for word in sent:\n",
    "            if word.text in freq_word.keys():\n",
    "                if sent in sent_strength.keys():\n",
    "                    sent_strength[sent]+=freq_word[word.text]\n",
    "                else:\n",
    "                    sent_strength[sent]=freq_word[word.text]\n",
    "    summarized_sentences = nlargest(3, sent_strength, key=sent_strength.get)\n",
    "    final_sentences = [w.text for w in summarized_sentences]\n",
    "    summary = ' '.join(final_sentences)\n",
    "    return summary\n",
    "\n",
    "# Example usage\n",
    "review_text = \"I loved the product! The quality is great and the delivery was on time. Customer service was very helpful and responsive. Would definitely recommend to others.\"\n",
    "print(get_review_highlights(review_text))\n"
   ]
  }
 ],
 "metadata": {
  "kernelspec": {
   "display_name": "Python 3 (ipykernel)",
   "language": "python",
   "name": "python3"
  },
  "language_info": {
   "codemirror_mode": {
    "name": "ipython",
    "version": 3
   },
   "file_extension": ".py",
   "mimetype": "text/x-python",
   "name": "python",
   "nbconvert_exporter": "python",
   "pygments_lexer": "ipython3",
   "version": "3.11.4"
  }
 },
 "nbformat": 4,
 "nbformat_minor": 5
}
