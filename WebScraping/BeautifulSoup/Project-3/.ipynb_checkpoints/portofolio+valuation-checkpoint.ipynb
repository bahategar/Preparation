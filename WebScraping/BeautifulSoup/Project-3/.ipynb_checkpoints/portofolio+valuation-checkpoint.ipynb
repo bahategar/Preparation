{
 "cells": [
  {
   "cell_type": "code",
   "execution_count": 1,
   "id": "17766a1a-b5db-4a3f-b4dd-0932fed111b3",
   "metadata": {},
   "outputs": [],
   "source": [
    "from bs4 import BeautifulSoup\n",
    "import requests"
   ]
  },
  {
   "cell_type": "markdown",
   "id": "b3fc2c3d-edef-479b-8f9c-1390b8dea045",
   "metadata": {},
   "source": [
    "# About this project\n",
    "\n",
    "- Scrape price information from Google Finance, given some ticker and exchange.\n",
    "- Summarize portfolio valuation for an arbitrary number of positions.\n",
    "- Solution should reflect USD amounts only, but also support positions listed in other currencies i.e. should support some sort of FX-ing capability."
   ]
  },
  {
   "cell_type": "code",
   "execution_count": 42,
   "id": "e540ac21-9926-4ebe-8340-5addd35d6bd8",
   "metadata": {},
   "outputs": [
    {
     "name": "stdout",
     "output_type": "stream",
     "text": [
      "+----------+------------+------------+---------+----------------+----------------+\n",
      "| Ticker   | Exchange   |   Quantity |   Price |   Market Value |   % Allocation |\n",
      "|----------+------------+------------+---------+----------------+----------------|\n",
      "| SHOP     | TSE        |         10 |   89.84 |         898.39 |          12.57 |\n",
      "| MSFT     | NASDAQ     |          2 |  418.01 |         836.02 |          11.70 |\n",
      "| GOOGL    | NASDAQ     |         30 |  180.35 |        5410.50 |          75.73 |\n",
      "+----------+------------+------------+---------+----------------+----------------+\n",
      "Total portfolio value: 7,144.91\n"
     ]
    }
   ],
   "source": [
    "from dataclasses import dataclass\n",
    "from tabulate import tabulate\n",
    "\n",
    "ticker = \"GOOG\"\n",
    "exchange = \"NASDAQ\"\n",
    "url = f\"https://www.google.com/finance/quote/{ticker}:{exchange}\"\n",
    "\n",
    "@dataclass\n",
    "class Stock:\n",
    "    ticker: str\n",
    "    exchange: str\n",
    "    price: float = 0\n",
    "    currency: str = \"USD\"\n",
    "    usd_price: float = 0\n",
    "\n",
    "    def __post_init__(self):\n",
    "        price_info = get_price_information(self.ticker, self.exchange)\n",
    "\n",
    "        if price_info['ticker'] == self.ticker:\n",
    "            self.price = price_info['price']\n",
    "            self.currency = price_info['currency']\n",
    "            self.usd_price = price_info['usd_price']\n",
    "\n",
    "@dataclass\n",
    "class Position:\n",
    "    stock: Stock\n",
    "    quantity: int\n",
    "    \n",
    "@dataclass\n",
    "class Portfolio:\n",
    "    positions: list[Position]\n",
    "    \n",
    "    def get_total_value(self):\n",
    "        total_value = 0\n",
    "\n",
    "        for position in self.positions:\n",
    "            total_value += position.quantity * position.stock.usd_price\n",
    "        return total_value\n",
    "\n",
    "def get_price_information(ticker, exchange):\n",
    "    # Define the target url\n",
    "    url = f\"https://www.google.com/finance/quote/{ticker}:{exchange}\"\n",
    "    # Make a request and get response from server url\n",
    "    response = requests.get(url)\n",
    "    # Create BeautifulSoup object\n",
    "    soup = BeautifulSoup(response.content, 'html.parser')\n",
    "    # Find the element target, the element that contains data\n",
    "    element_target = soup.find('div', attrs={'data-last-price': True})\n",
    "    # Get the price data\n",
    "    price = float(element_target.attrs.get('data-last-price'))\n",
    "    # Get the currency data\n",
    "    currency = element_target.attrs.get('data-currency-code')\n",
    "    # Define the usd price, assume that the currency is USD\n",
    "    usd_price = price\n",
    "    # If the currency not usd\n",
    "    if currency.lower() != 'usd':\n",
    "        # Get the rate currency\n",
    "        rate = get_fx_to_usd(currency)\n",
    "        # Update the usd price\n",
    "        usd_price = rate * price\n",
    "        \n",
    "        \n",
    "    return {'ticker': ticker, \n",
    "            'exchange': exchange, \n",
    "            'price': price, \n",
    "            'currency': currency, \n",
    "            'usd_price': usd_price}\n",
    "\n",
    "def get_fx_to_usd(currency):\n",
    "    # Define the target url\n",
    "    url = f\"https://www.google.com/finance/quote/{currency}-USD\"\n",
    "    # Make a request and get response from server url\n",
    "    response = requests.get(url)\n",
    "    # Create BeautifulSoup object\n",
    "    soup = BeautifulSoup(response.content, 'html.parser')\n",
    "    # Find the element target, the element that contains data\n",
    "    element_target = soup.find('div', attrs={'data-last-price': True})\n",
    "    # Get the rate current currency to usd\n",
    "    rate = float(element_target.attrs.get('data-last-price'))\n",
    "    return rate\n",
    "    \n",
    "\n",
    "\n",
    "def display_portfolio_summary(portfolio):\n",
    "    if not isinstance(portfolio, Portfolio):\n",
    "        raise TypeError(\"Please provide an instance of the Portfolio type\")\n",
    "\n",
    "    portfolio_value = portfolio.get_total_value()\n",
    "\n",
    "    position_data = []\n",
    "\n",
    "    for position in portfolio.positions:\n",
    "        position_data.append([\n",
    "            position.stock.ticker,\n",
    "            position.stock.exchange,\n",
    "            position.quantity,\n",
    "            position.stock.usd_price,\n",
    "            position.quantity * position.stock.usd_price,\n",
    "            position.quantity * position.stock.usd_price / portfolio_value * 100\n",
    "        ])\n",
    "\n",
    "    print(tabulate(position_data,\n",
    "                   headers=['Ticker', 'Exchange', 'Quantity', 'Price', 'Market Value', '% Allocation'],\n",
    "                   tablefmt='psql',\n",
    "                   floatfmt='.2f',\n",
    "                  ))\n",
    "    print(f\"Total portfolio value: {portfolio_value:,.2f}\")\n",
    "\n",
    "\n",
    "# Run program\n",
    "shop = Stock(\"SHOP\", \"TSE\")\n",
    "msft = Stock(\"MSFT\", \"NASDAQ\")\n",
    "googl = Stock(\"GOOGL\", \"NASDAQ\")\n",
    "\n",
    "portfolio = Portfolio([Position(shop, 10), Position(msft, 2), Position(googl, 30)])\n",
    "\n",
    "display_portfolio_summary(portfolio)"
   ]
  },
  {
   "cell_type": "code",
   "execution_count": 39,
   "id": "da719b20-b756-43dc-a969-ebfdd3f37887",
   "metadata": {},
   "outputs": [
    {
     "data": {
      "text/plain": [
       "Portfolio(positions=[Position(stock=Stock(ticker='SHOP', exchange='TSE', price=125.37, currency='CAD', usd_price=89.83700775), quantity=10), Position(stock=Stock(ticker='MSFT', exchange='NASDAQ', price=418.01, currency='USD', usd_price=418.01), quantity=2), Position(stock=Stock(ticker='GOOGL', exchange='NASDAQ', price=180.35, currency='USD', usd_price=180.35), quantity=30)])"
      ]
     },
     "execution_count": 39,
     "metadata": {},
     "output_type": "execute_result"
    }
   ],
   "source": [
    "portfolio"
   ]
  },
  {
   "cell_type": "code",
   "execution_count": 24,
   "id": "253ac1b1-5a06-409e-902e-beaf74eda512",
   "metadata": {},
   "outputs": [
    {
     "data": {
      "text/plain": [
       "181.97"
      ]
     },
     "execution_count": 24,
     "metadata": {},
     "output_type": "execute_result"
    }
   ],
   "source": [
    "get_price_information(ticker, exchange)"
   ]
  },
  {
   "cell_type": "code",
   "execution_count": 18,
   "id": "78183d92-1213-48df-a985-286569201d58",
   "metadata": {},
   "outputs": [],
   "source": [
    "response = requests.get(url)"
   ]
  },
  {
   "cell_type": "code",
   "execution_count": 19,
   "id": "110c3a7a-febe-4472-8f75-d375e75e8a47",
   "metadata": {},
   "outputs": [],
   "source": [
    "soup = BeautifulSoup(response.content)\n",
    "\n",
    "target = soup.find(\"div\", attrs={\"data-last-price\": True})"
   ]
  },
  {
   "cell_type": "code",
   "execution_count": 20,
   "id": "741937c1-8eed-46cb-aa9a-c893da4add34",
   "metadata": {},
   "outputs": [
    {
     "data": {
      "text/plain": [
       "{'jscontroller': 'NdbN0c',\n",
       " 'jsaction': 'oFr1Ad:uxt3if;',\n",
       " 'jsname': 'AS5Pxb',\n",
       " 'data-mid': '/g/1q4t94b6p',\n",
       " 'data-entity-type': '0',\n",
       " 'data-exchange': 'NASDAQ',\n",
       " 'data-currency-code': 'USD',\n",
       " 'data-last-price': '181.97',\n",
       " 'data-last-normal-market-timestamp': '1731358800',\n",
       " 'data-tz-offset': '-18000000'}"
      ]
     },
     "execution_count": 20,
     "metadata": {},
     "output_type": "execute_result"
    }
   ],
   "source": [
    "target.attrs"
   ]
  },
  {
   "cell_type": "code",
   "execution_count": 15,
   "id": "11cd7d61-2349-4c8f-9923-8a12ba8e7d7a",
   "metadata": {},
   "outputs": [
    {
     "ename": "ValueError",
     "evalue": "could not convert string to float: ''",
     "output_type": "error",
     "traceback": [
      "\u001b[1;31m---------------------------------------------------------------------------\u001b[0m",
      "\u001b[1;31mValueError\u001b[0m                                Traceback (most recent call last)",
      "Cell \u001b[1;32mIn[15], line 1\u001b[0m\n\u001b[1;32m----> 1\u001b[0m \u001b[38;5;28mfloat\u001b[39m(\u001b[38;5;124m'\u001b[39m\u001b[38;5;124m'\u001b[39m)\n",
      "\u001b[1;31mValueError\u001b[0m: could not convert string to float: ''"
     ]
    }
   ],
   "source": [
    "float('')"
   ]
  },
  {
   "cell_type": "code",
   "execution_count": null,
   "id": "051438da-8c84-41c9-b8d4-1a0d3e107c85",
   "metadata": {},
   "outputs": [],
   "source": []
  }
 ],
 "metadata": {
  "kernelspec": {
   "display_name": "Python 3 (ipykernel)",
   "language": "python",
   "name": "python3"
  },
  "language_info": {
   "codemirror_mode": {
    "name": "ipython",
    "version": 3
   },
   "file_extension": ".py",
   "mimetype": "text/x-python",
   "name": "python",
   "nbconvert_exporter": "python",
   "pygments_lexer": "ipython3",
   "version": "3.11.7"
  }
 },
 "nbformat": 4,
 "nbformat_minor": 5
}
