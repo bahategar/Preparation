{
 "cells": [
  {
   "cell_type": "code",
   "execution_count": 1,
   "id": "a54ef52e-1c3e-4348-9365-68d54327c7f3",
   "metadata": {},
   "outputs": [
    {
     "name": "stderr",
     "output_type": "stream",
     "text": [
      "C:\\Users\\Baha Tegar\\Desktop\\Preparation\\Transformers\\.venv\\Lib\\site-packages\\tqdm\\auto.py:21: TqdmWarning: IProgress not found. Please update jupyter and ipywidgets. See https://ipywidgets.readthedocs.io/en/stable/user_install.html\n",
      "  from .autonotebook import tqdm as notebook_tqdm\n"
     ]
    }
   ],
   "source": [
    "import pandas as pd\n",
    "import tqdm\n",
    "\n",
    "from transformers import pipeline\n",
    "\n",
    "import torch"
   ]
  },
  {
   "cell_type": "code",
   "execution_count": 2,
   "id": "126b9031-93ed-427d-9581-dec7572dfc8b",
   "metadata": {},
   "outputs": [
    {
     "name": "stdout",
     "output_type": "stream",
     "text": [
      "True\n"
     ]
    }
   ],
   "source": [
    "print(torch.cuda.is_available())  # Should return True if a compatible GPU is detected"
   ]
  },
  {
   "cell_type": "code",
   "execution_count": 18,
   "id": "d2349383-8b0f-4c7d-940d-e02d6f286a61",
   "metadata": {},
   "outputs": [
    {
     "data": {
      "text/plain": [
       "<transformers.pipelines.text2text_generation.SummarizationPipeline at 0x1b0a7edc0d0>"
      ]
     },
     "execution_count": 18,
     "metadata": {},
     "output_type": "execute_result"
    }
   ],
   "source": [
    "# Using the model (pipeline)\n",
    "\n",
    "model = pipeline('summarization', 'model', device=0)\n",
    "\n",
    "model"
   ]
  },
  {
   "cell_type": "code",
   "execution_count": 19,
   "id": "604e4b9a-ccc4-4705-ae0c-929a625cf637",
   "metadata": {},
   "outputs": [
    {
     "data": {
      "text/plain": [
       "[{'summary_text': \"Palestinian Authority becomes 123rd member of the International Criminal Court .\\nThe move gives the court jurisdiction over alleged crimes in Palestinian territories .\\nAs members of the court, Palestinians may be subject to counter-charges as well .\\nIsrael and the United States opposed the Palestinians' efforts to join the body .\"}]"
      ]
     },
     "execution_count": 19,
     "metadata": {},
     "output_type": "execute_result"
    }
   ],
   "source": [
    "sample = \"\"\"(CNN)The Palestinian Authority officially became the 123rd member of the International Criminal Court on Wednesday, a step that gives the court jurisdiction over alleged crimes in Palestinian territories. The formal accession was marked with a ceremony at The Hague, in the Netherlands, where the court is based. The Palestinians signed the ICC's founding Rome Statute in January, when they also accepted its jurisdiction over alleged crimes committed \"in the occupied Palestinian territory, including East Jerusalem, since June 13, 2014.\" Later that month, the ICC opened a preliminary examination into the situation in Palestinian territories, paving the way for possible war crimes investigations against Israelis. As members of the court, Palestinians may be subject to counter-charges as well. Israel and the United States, neither of which is an ICC member, opposed the Palestinians' efforts to join the body. But Palestinian Foreign Minister Riad al-Malki, speaking at Wednesday's ceremony, said it was a move toward greater justice. \"As Palestine formally becomes a State Party to the Rome Statute today, the world is also a step closer to ending a long era of impunity and injustice,\" he said, according to an ICC news release. \"Indeed, today brings us closer to our shared goals of justice and peace.\" Judge Kuniko Ozaki, a vice president of the ICC, said acceding to the treaty was just the first step for the Palestinians. \"As the Rome Statute today enters into force for the State of Palestine, Palestine acquires all the rights as well as responsibilities that come with being a State Party to the Statute. These are substantive commitments, which cannot be taken lightly,\" she said. Rights group Human Rights Watch welcomed the development. \"Governments seeking to penalize Palestine for joining the ICC should immediately end their pressure, and countries that support universal acceptance of the court's treaty should speak out to welcome its membership,\" said Balkees Jarrah, international justice counsel for the group. \"What's objectionable is the attempts to undermine international justice, not Palestine's decision to join a treaty to which over 100 countries around the world are members.\" In January, when the preliminary ICC examination was opened, Israeli Prime Minister Benjamin Netanyahu described it as an outrage, saying the court was overstepping its boundaries. The United States also said it \"strongly\" disagreed with the court's decision. \"As we have said repeatedly, we do not believe that Palestine is a state and therefore we do not believe that it is eligible to join the ICC,\" the State Department said in a statement. It urged the warring sides to resolve their differences through direct negotiations. \"We will continue to oppose actions against Israel at the ICC as counterproductive to the cause of peace,\" it said. But the ICC begs to differ with the definition of a state for its purposes and refers to the territories as \"Palestine.\" While a preliminary examination is not a formal investigation, it allows the court to review evidence and determine whether to investigate suspects on both sides. Prosecutor Fatou Bensouda said her office would \"conduct its analysis in full independence and impartiality.\" The war between Israel and Hamas militants in Gaza last summer left more than 2,000 people dead. The inquiry will include alleged war crimes committed since June. The International Criminal Court was set up in 2002 to prosecute genocide, crimes against humanity and war crimes. CNN's Vasco Cotovio, Kareem Khadder and Faith Karimi contributed to this report.\"\"\"\n",
    "\n",
    "sample = f\"summary: {sample}</s>\"\n",
    "model(sample)"
   ]
  },
  {
   "cell_type": "code",
   "execution_count": 20,
   "id": "c13776ca-ac78-46eb-a59c-54d4b4919526",
   "metadata": {},
   "outputs": [],
   "source": [
    "# # Using model, separate tokenizer and model.\n",
    "\n",
    "# from transformers import AutoModelForSeq2SeqLM, AutoTokenizer\n",
    "\n",
    "# model_name = \"model\"  # Replace with your saved model path\n",
    "# model = AutoModelForSeq2SeqLM.from_pretrained(model_name)\n",
    "# tokenizer = AutoTokenizer.from_pretrained(model_name)"
   ]
  },
  {
   "cell_type": "code",
   "execution_count": 21,
   "id": "d00e458f-6204-401b-856f-907e425ee1cb",
   "metadata": {},
   "outputs": [],
   "source": [
    "# def generate_summary(input, llm):\n",
    "#     input_prompt = f\"\"\"summary: {input}</s>\"\"\"\n",
    "#     # input_prompt=input\n",
    "    \n",
    "#     input_ids = tokenizer(input_prompt, return_tensors='pt')\n",
    "#     tokenized_output = llm.generate(input_ids['input_ids'], min_length=30, max_length=200)\n",
    "#     output = tokenizer.decode(tokenized_output[0], skip_special_tokens=True)\n",
    "    \n",
    "#     return output\n",
    "\n",
    "\n",
    "# generate_summary(sample, model)"
   ]
  },
  {
   "cell_type": "markdown",
   "id": "4087f646-f164-4ea6-b2eb-6df445e952b7",
   "metadata": {},
   "source": [
    "# Testing"
   ]
  },
  {
   "cell_type": "code",
   "execution_count": 23,
   "id": "0d9724f0-0b88-4984-90ce-53a66ce7a33c",
   "metadata": {},
   "outputs": [
    {
     "name": "stderr",
     "output_type": "stream",
     "text": [
      "Your max_length is set to 142, but your input_length is only 67. Since this is a summarization task, where outputs shorter than the input are typically wanted, you might consider decreasing max_length manually, e.g. summarizer('...', max_length=33)\n"
     ]
    }
   ],
   "source": [
    "sample = \"Why does it look like someone spit on my food? I had a normal transaction,  everyone was chill and polite, but now i dont want to eat this. Im trying not to think about what this milky white/clear substance is all over my food, i d*** sure am not coming back.\"\n",
    "sample = f\"summary: {sample}</s>\"\n",
    "\n",
    "summary = model(sample)[0]['summary_text']"
   ]
  },
  {
   "cell_type": "code",
   "execution_count": 24,
   "id": "16d01fbc-f985-41b9-84b3-c743a8536679",
   "metadata": {},
   "outputs": [
    {
     "name": "stdout",
     "output_type": "stream",
     "text": [
      "SAMPLE:\n",
      "('summary: Why does it look like someone spit on my food? I had a normal '\n",
      " 'transaction,  everyone was chill and polite, but now i dont want to eat '\n",
      " 'this. Im trying not to think about what this milky white/clear substance is '\n",
      " 'all over my food, i d*** sure am not coming back.</s>')\n",
      "SUMMARY:\n",
      "('\"Why does it look like someone spit on my food? I had a normal transaction,  '\n",
      " 'everyone was chill and polite, but now i dont want to eat this\" \"Im trying '\n",
      " 'not to think about what this milky white/clear substance is all over my '\n",
      " 'food, i d*** sure am not coming back\"')\n"
     ]
    }
   ],
   "source": [
    "from pprint import pprint\n",
    "\n",
    "print(\"SAMPLE:\")\n",
    "pprint(sample)\n",
    "print(\"SUMMARY:\")\n",
    "pprint(summary)"
   ]
  },
  {
   "cell_type": "code",
   "execution_count": 25,
   "id": "b2f90cda-4d4a-486f-b21e-37a8335704ed",
   "metadata": {},
   "outputs": [
    {
     "name": "stderr",
     "output_type": "stream",
     "text": [
      "Your max_length is set to 142, but your input_length is only 55. Since this is a summarization task, where outputs shorter than the input are typically wanted, you might consider decreasing max_length manually, e.g. summarizer('...', max_length=27)\n"
     ]
    }
   ],
   "source": [
    "sample = \"It'd McDonalds. It is what it is as far as the food and atmosphere go. The staff here does make a difference. They are all friendly, accommodating and always smiling. Makes for a more pleasant experience than many other fast food places.\"\n",
    "sample = f\"summary: {sample}</s>\"\n",
    "\n",
    "summary = model(sample)[0]['summary_text']"
   ]
  },
  {
   "cell_type": "code",
   "execution_count": 26,
   "id": "3975342e-c27e-4a52-9be3-969130603442",
   "metadata": {},
   "outputs": [
    {
     "name": "stdout",
     "output_type": "stream",
     "text": [
      "SAMPLE:\n",
      "(\"summary: It'd McDonalds. It is what it is as far as the food and atmosphere \"\n",
      " 'go. The staff here does make a difference. They are all friendly, '\n",
      " 'accommodating and always smiling. Makes for a more pleasant experience than '\n",
      " 'many other fast food places.</s>')\n",
      "SUMMARY:\n",
      "('Staff at McDonalds are friendly and always smiling, making for a more '\n",
      " 'pleasant experience than many other fast food places. food is what it is as '\n",
      " \"far as the food and atmosphere go - it's what McDonalds is all about, not \"\n",
      " 'what it looks like .')\n"
     ]
    }
   ],
   "source": [
    "from pprint import pprint\n",
    "\n",
    "print(\"SAMPLE:\")\n",
    "pprint(sample)\n",
    "print(\"SUMMARY:\")\n",
    "pprint(summary)"
   ]
  },
  {
   "cell_type": "code",
   "execution_count": null,
   "id": "210b6992-3e1b-4bad-a473-76641736347f",
   "metadata": {},
   "outputs": [],
   "source": []
  }
 ],
 "metadata": {
  "kernelspec": {
   "display_name": "transformers_env",
   "language": "python",
   "name": "transformers_env"
  },
  "language_info": {
   "codemirror_mode": {
    "name": "ipython",
    "version": 3
   },
   "file_extension": ".py",
   "mimetype": "text/x-python",
   "name": "python",
   "nbconvert_exporter": "python",
   "pygments_lexer": "ipython3",
   "version": "3.11.1"
  }
 },
 "nbformat": 4,
 "nbformat_minor": 5
}
