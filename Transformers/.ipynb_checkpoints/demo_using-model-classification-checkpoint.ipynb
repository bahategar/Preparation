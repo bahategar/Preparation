{
 "cells": [
  {
   "cell_type": "code",
   "execution_count": 1,
   "id": "067c59f1-ae18-454b-9995-b7479ff4980b",
   "metadata": {},
   "outputs": [],
   "source": [
    "import pandas as pd\n",
    "import tqdm\n",
    "\n",
    "from transformers import pipeline\n",
    "\n",
    "import torch"
   ]
  },
  {
   "cell_type": "code",
   "execution_count": 2,
   "id": "3d4e7156-aebe-4704-8c31-600cccf20817",
   "metadata": {},
   "outputs": [
    {
     "name": "stdout",
     "output_type": "stream",
     "text": [
      "True\n"
     ]
    }
   ],
   "source": [
    "print(torch.cuda.is_available())  # Should return True if a compatible GPU is detected"
   ]
  },
  {
   "cell_type": "code",
   "execution_count": 3,
   "id": "c65c293b-cc67-4546-96fa-235ad3289e85",
   "metadata": {},
   "outputs": [],
   "source": [
    "# Using the model\n",
    "\n",
    "model = pipeline('text-classification', model='model_demo', device=0)"
   ]
  },
  {
   "cell_type": "code",
   "execution_count": 4,
   "id": "6433d921-f465-4180-9092-a0c270629389",
   "metadata": {},
   "outputs": [
    {
     "data": {
      "text/plain": [
       "[{'label': 'positive', 'score': 0.9996795654296875}]"
      ]
     },
     "execution_count": 4,
     "metadata": {},
     "output_type": "execute_result"
    }
   ],
   "source": [
    "# Testing 1\n",
    "model('This movie is great!')"
   ]
  },
  {
   "cell_type": "code",
   "execution_count": 5,
   "id": "273121d2-4bad-48ce-b639-4b1bd552c632",
   "metadata": {},
   "outputs": [
    {
     "data": {
      "text/plain": [
       "[{'label': 'negative', 'score': 0.9966481328010559}]"
      ]
     },
     "execution_count": 5,
     "metadata": {},
     "output_type": "execute_result"
    }
   ],
   "source": [
    "# Testomg 2\n",
    "model('This movie sucks')"
   ]
  },
  {
   "cell_type": "markdown",
   "id": "3489eb87-8e87-40e2-b4b8-9ba8689db873",
   "metadata": {},
   "source": [
    "# Demo with New Data"
   ]
  },
  {
   "cell_type": "code",
   "execution_count": 6,
   "id": "7dd7a852-9596-47a3-88ed-63ef74337f41",
   "metadata": {},
   "outputs": [],
   "source": [
    "# data = [\n",
    "#     {\"sentence\": \"I love this movie.\", \"label\": \"Positive\"},\n",
    "#     {\"sentence\": \"The food was fantastic.\", \"label\": \"Positive\"},\n",
    "#     {\"sentence\": \"This book is amazing.\", \"label\": \"Positive\"},\n",
    "#     {\"sentence\": \"He always makes me smile.\", \"label\": \"Positive\"},\n",
    "#     {\"sentence\": \"The place was beautiful and peaceful.\", \"label\": \"Positive\"},\n",
    "#     {\"sentence\": \"She has a wonderful sense of humor.\", \"label\": \"Positive\"},\n",
    "#     {\"sentence\": \"The concert exceeded all expectations.\", \"label\": \"Positive\"},\n",
    "#     {\"sentence\": \"I’m thrilled with the results.\", \"label\": \"Positive\"},\n",
    "#     {\"sentence\": \"The team worked exceptionally well together.\", \"label\": \"Positive\"},\n",
    "#     {\"sentence\": \"This restaurant never disappoints.\", \"label\": \"Positive\"},\n",
    "#     {\"sentence\": \"I couldn’t be happier with my purchase.\", \"label\": \"Positive\"},\n",
    "#     {\"sentence\": \"The sunrise over the mountains took my breath away.\", \"label\": \"Positive\"},\n",
    "#     {\"sentence\": \"Her support has been invaluable during tough times.\", \"label\": \"Positive\"},\n",
    "#     {\"sentence\": \"We had a lovely evening filled with laughter.\", \"label\": \"Positive\"},\n",
    "#     {\"sentence\": \"The customer service was incredibly responsive.\", \"label\": \"Positive\"},\n",
    "#     {\"sentence\": \"This device has made my life so much easier.\", \"label\": \"Positive\"},\n",
    "#     {\"sentence\": \"Every detail in the design reflects thoughtful craftsmanship.\", \"label\": \"Positive\"},\n",
    "#     {\"sentence\": \"Traveling there was one of the best decisions I've ever made.\", \"label\": \"Positive\"},\n",
    "#     {\"sentence\": \"The atmosphere at the event was electric and uplifting.\", \"label\": \"Positive\"},\n",
    "#     {\"sentence\": \"His dedication and passion inspire everyone around him.\", \"label\": \"Positive\"},\n",
    "#     {\"sentence\": \"That meal was a culinary masterpiece I’ll never forget.\", \"label\": \"Positive\"},\n",
    "#     {\"sentence\": \"The product’s quality far surpasses its price.\", \"label\": \"Positive\"},\n",
    "#     {\"sentence\": \"Her performance was so captivating, it left the audience speechless.\", \"label\": \"Positive\"},\n",
    "#     {\"sentence\": \"I felt truly welcomed and valued as a customer here.\", \"label\": \"Positive\"},\n",
    "#     {\"sentence\": \"Their kindness and generosity left a lasting impression on me.\", \"label\": \"Positive\"},\n",
    "#     {\"sentence\": \"This artwork evokes a deep sense of tranquility and joy.\", \"label\": \"Positive\"},\n",
    "#     {\"sentence\": \"Witnessing such a selfless act restored my faith in humanity.\", \"label\": \"Positive\"},\n",
    "#     {\"sentence\": \"The experience was enlightening, far beyond my initial expectations.\", \"label\": \"Positive\"},\n",
    "#     {\"sentence\": \"This community radiates warmth and acceptance like no other.\", \"label\": \"Positive\"},\n",
    "#     {\"sentence\": \"Watching her achieve her dreams filled me with immense pride.\", \"label\": \"Positive\"},\n",
    "#     {\"sentence\": \"I dislike this song.\", \"label\": \"Negative\"},\n",
    "#     {\"sentence\": \"The service was awful.\", \"label\": \"Negative\"},\n",
    "#     {\"sentence\": \"This book is boring.\", \"label\": \"Negative\"},\n",
    "#     {\"sentence\": \"The wait was too long.\", \"label\": \"Negative\"},\n",
    "#     {\"sentence\": \"He’s always so rude.\", \"label\": \"Negative\"},\n",
    "#     {\"sentence\": \"The food was tasteless and cold.\", \"label\": \"Negative\"},\n",
    "#     {\"sentence\": \"This movie was a total waste of time.\", \"label\": \"Negative\"},\n",
    "#     {\"sentence\": \"My experience here was disappointing.\", \"label\": \"Negative\"},\n",
    "#     {\"sentence\": \"The team lacked coordination.\", \"label\": \"Negative\"},\n",
    "#     {\"sentence\": \"I regret making this purchase.\", \"label\": \"Negative\"},\n",
    "#     {\"sentence\": \"The noise level in the restaurant was unbearable.\", \"label\": \"Negative\"},\n",
    "#     {\"sentence\": \"The device broke after one use.\", \"label\": \"Negative\"},\n",
    "#     {\"sentence\": \"Her attitude was disrespectful and dismissive.\", \"label\": \"Negative\"},\n",
    "#     {\"sentence\": \"The event was poorly organized and chaotic.\", \"label\": \"Negative\"},\n",
    "#     {\"sentence\": \"I’m deeply dissatisfied with the quality of this product.\", \"label\": \"Negative\"},\n",
    "#     {\"sentence\": \"The customer service was unhelpful and slow to respond.\", \"label\": \"Negative\"},\n",
    "#     {\"sentence\": \"The outdated decor made the place feel dreary.\", \"label\": \"Negative\"},\n",
    "#     {\"sentence\": \"The level of care in that facility was shockingly low.\", \"label\": \"Negative\"},\n",
    "#     {\"sentence\": \"This place lacks warmth and charm.\", \"label\": \"Negative\"},\n",
    "#     {\"sentence\": \"The speaker failed to engage the audience.\", \"label\": \"Negative\"},\n",
    "#     {\"sentence\": \"His lack of empathy is deeply troubling.\", \"label\": \"Negative\"},\n",
    "#     {\"sentence\": \"That meal was one of the worst I’ve ever had.\", \"label\": \"Negative\"},\n",
    "#     {\"sentence\": \"The neighborhood felt unsafe and unwelcoming.\", \"label\": \"Negative\"},\n",
    "#     {\"sentence\": \"This product’s durability does not match its high price.\", \"label\": \"Negative\"},\n",
    "#     {\"sentence\": \"The trip was ruined by constant delays and cancellations.\", \"label\": \"Negative\"},\n",
    "#     {\"sentence\": \"The film’s storyline was confusing and poorly written.\", \"label\": \"Negative\"},\n",
    "#     {\"sentence\": \"The building’s neglect has made it feel lifeless and dull.\", \"label\": \"Negative\"},\n",
    "#     {\"sentence\": \"Their response lacked empathy and was completely dismissive.\", \"label\": \"Negative\"},\n",
    "#     {\"sentence\": \"The whole experience left a bitter taste in my mouth.\", \"label\": \"Negative\"},\n",
    "#     {\"sentence\": \"Despite the hype, the service was subpar and disappointing.\", \"label\": \"Negative\"}\n",
    "# ]\n"
   ]
  },
  {
   "cell_type": "code",
   "execution_count": 17,
   "id": "df7e39df-65ed-450e-ab52-5a4e1a21cfbf",
   "metadata": {},
   "outputs": [],
   "source": [
    "data = [\n",
    "    {\"sentence\": \"The food was delicious, but the service was slow and unhelpful. Not sure if I'd come back.\", \"sentiment\": \"Negative\"},\n",
    "    {\"sentence\": \"The movie had some great action scenes, yet the storyline was all over the place. I wouldn't recommend it.\", \"sentiment\": \"Negative\"},\n",
    "    {\"sentence\": \"This app has a user-friendly interface, although it crashes frequently. Needs improvement.\", \"sentiment\": \"Negative\"},\n",
    "    {\"sentence\": \"The hotel was clean and well-located, but the room was far too small for the price.\", \"sentiment\": \"Negative\"},\n",
    "    {\"sentence\": \"The game graphics are stunning, but the gameplay feels repetitive after a while.\", \"sentiment\": \"Negative\"},\n",
    "    {\"sentence\": \"I love the colors and design, but it feels a bit overpriced for what you get.\", \"sentiment\": \"Negative\"},\n",
    "    {\"sentence\": \"The product quality is outstanding, and it arrived early. I’m very happy with my purchase!\", \"sentiment\": \"Positive\"},\n",
    "    {\"sentence\": \"The course content is very detailed and helpful, making it worth every penny.\", \"sentiment\": \"Positive\"},\n",
    "    {\"sentence\": \"Customer service was responsive, and the issue was resolved quickly. Very satisfied!\", \"sentiment\": \"Positive\"},\n",
    "    {\"sentence\": \"Great sound quality and easy to set up. Highly recommend this speaker!\", \"sentiment\": \"Positive\"},\n",
    "    {\"sentence\": \"The book was well-written and kept me engaged till the end. A fantastic read!\", \"sentiment\": \"Positive\"},\n",
    "    {\"sentence\": \"The laptop runs smoothly, and the screen is sharp and clear. Perfect for my needs!\", \"sentiment\": \"Positive\"},\n",
    "    {\"sentence\": \"The packaging was excellent, but the item arrived broken. Disappointed overall.\", \"sentiment\": \"Negative\"},\n",
    "    {\"sentence\": \"The software is feature-rich, though a bit complex to learn at first.\", \"sentiment\": \"Negative\"},\n",
    "    {\"sentence\": \"My order was delayed, but the customer service was very helpful throughout the process.\", \"sentiment\": \"Positive\"},\n",
    "    {\"sentence\": \"The fragrance is light and refreshing, exactly what I was looking for!\", \"sentiment\": \"Positive\"},\n",
    "    {\"sentence\": \"It’s an affordable option with decent performance, though there are better choices available.\", \"sentiment\": \"Negative\"},\n",
    "    {\"sentence\": \"The venue was beautiful, but the event was poorly organized and chaotic.\", \"sentiment\": \"Negative\"},\n",
    "    {\"sentence\": \"The restaurant ambiance was lovely, and the food was simply amazing.\", \"sentiment\": \"Positive\"},\n",
    "    {\"sentence\": \"Good battery life, but the phone heats up quickly, which is a big downside.\", \"sentiment\": \"Negative\"},\n",
    "    {\"sentence\": \"The bed was very comfortable, and we slept well. We’d definitely stay here again!\", \"sentiment\": \"Positive\"},\n",
    "    {\"sentence\": \"The setup instructions were clear, and everything worked as expected. Very pleased!\", \"sentiment\": \"Positive\"},\n",
    "    {\"sentence\": \"I like the idea, but the execution is sloppy and needs a lot of work.\", \"sentiment\": \"Negative\"},\n",
    "    {\"sentence\": \"The chair is ergonomic and looks great in my office. Worth the price!\", \"sentiment\": \"Positive\"},\n",
    "    {\"sentence\": \"The film’s visuals were stunning, but the plot was too predictable. Wouldn’t rewatch.\", \"sentiment\": \"Negative\"},\n",
    "    {\"sentence\": \"The service was prompt, and the food tasted fresh. A wonderful experience!\", \"sentiment\": \"Positive\"},\n",
    "    {\"sentence\": \"I enjoy the features, but the app has too many ads which is frustrating.\", \"sentiment\": \"Negative\"},\n",
    "    {\"sentence\": \"The dress fits perfectly, and the fabric is soft and comfortable.\", \"sentiment\": \"Positive\"},\n",
    "    {\"sentence\": \"Great customer support, and the return process was smooth and easy.\", \"sentiment\": \"Positive\"},\n",
    "    {\"sentence\": \"The car drives well and feels safe, but the interior materials seem cheap.\", \"sentiment\": \"Negative\"}\n",
    "]\n"
   ]
  },
  {
   "cell_type": "code",
   "execution_count": 18,
   "id": "1f93aa42-53a6-4f39-aa75-02f3ba7164bc",
   "metadata": {},
   "outputs": [
    {
     "name": "stdout",
     "output_type": "stream",
     "text": [
      "                                            sentence sentiment\n",
      "0  The food was delicious, but the service was sl...  Negative\n",
      "1  The movie had some great action scenes, yet th...  Negative\n",
      "2  This app has a user-friendly interface, althou...  Negative\n",
      "3  The hotel was clean and well-located, but the ...  Negative\n",
      "4  The game graphics are stunning, but the gamepl...  Negative\n"
     ]
    }
   ],
   "source": [
    "df = pd.DataFrame.from_dict(data)\n",
    "print(df.head())"
   ]
  },
  {
   "cell_type": "code",
   "execution_count": 19,
   "id": "95e71735-4728-473f-a992-66c34bcaa1aa",
   "metadata": {},
   "outputs": [
    {
     "name": "stderr",
     "output_type": "stream",
     "text": [
      " 30%|████████████████████████▉                                                          | 9/30 [00:01<00:02, 10.30it/s]You seem to be using the pipelines sequentially on GPU. In order to maximize efficiency please use a dataset\n",
      "100%|██████████████████████████████████████████████████████████████████████████████████| 30/30 [00:01<00:00, 18.00it/s]\n"
     ]
    }
   ],
   "source": [
    "tqdm.tqdm.pandas()\n",
    "df['prediction'] = df['sentence'].progress_apply(lambda x: model(x)[0]['label'])"
   ]
  },
  {
   "cell_type": "code",
   "execution_count": 24,
   "id": "342e2911-646d-4f9a-b7ce-abdb840b6cfd",
   "metadata": {},
   "outputs": [],
   "source": [
    "df['compare'] = df.apply(lambda x: x['sentiment'].lower() == x['prediction'].lower(), axis=1)"
   ]
  },
  {
   "cell_type": "code",
   "execution_count": 25,
   "id": "943a7ffa-abf9-4644-ae58-e4396dd1d85a",
   "metadata": {},
   "outputs": [
    {
     "data": {
      "text/html": [
       "<div>\n",
       "<style scoped>\n",
       "    .dataframe tbody tr th:only-of-type {\n",
       "        vertical-align: middle;\n",
       "    }\n",
       "\n",
       "    .dataframe tbody tr th {\n",
       "        vertical-align: top;\n",
       "    }\n",
       "\n",
       "    .dataframe thead th {\n",
       "        text-align: right;\n",
       "    }\n",
       "</style>\n",
       "<table border=\"1\" class=\"dataframe\">\n",
       "  <thead>\n",
       "    <tr style=\"text-align: right;\">\n",
       "      <th></th>\n",
       "      <th>sentence</th>\n",
       "      <th>sentiment</th>\n",
       "      <th>prediction</th>\n",
       "      <th>compare</th>\n",
       "    </tr>\n",
       "  </thead>\n",
       "  <tbody>\n",
       "    <tr>\n",
       "      <th>13</th>\n",
       "      <td>The software is feature-rich, though a bit com...</td>\n",
       "      <td>Negative</td>\n",
       "      <td>positive</td>\n",
       "      <td>False</td>\n",
       "    </tr>\n",
       "    <tr>\n",
       "      <th>16</th>\n",
       "      <td>It’s an affordable option with decent performa...</td>\n",
       "      <td>Negative</td>\n",
       "      <td>positive</td>\n",
       "      <td>False</td>\n",
       "    </tr>\n",
       "  </tbody>\n",
       "</table>\n",
       "</div>"
      ],
      "text/plain": [
       "                                             sentence sentiment prediction  \\\n",
       "13  The software is feature-rich, though a bit com...  Negative   positive   \n",
       "16  It’s an affordable option with decent performa...  Negative   positive   \n",
       "\n",
       "    compare  \n",
       "13    False  \n",
       "16    False  "
      ]
     },
     "execution_count": 25,
     "metadata": {},
     "output_type": "execute_result"
    }
   ],
   "source": [
    "df[df['compare'] == False]"
   ]
  },
  {
   "cell_type": "code",
   "execution_count": 26,
   "id": "dd707809-3155-45ef-8deb-d448ab0ff684",
   "metadata": {},
   "outputs": [
    {
     "name": "stdout",
     "output_type": "stream",
     "text": [
      "The software is feature-rich, though a bit complex to learn at first.\n",
      "It’s an affordable option with decent performance, though there are better choices available.\n"
     ]
    }
   ],
   "source": [
    "for t in df[df['compare'] == False]['sentence'].values:\n",
    "    print(t)"
   ]
  },
  {
   "cell_type": "code",
   "execution_count": 20,
   "id": "7d28a7df-8bf5-444a-9c64-894372d2276c",
   "metadata": {},
   "outputs": [
    {
     "data": {
      "text/html": [
       "<div>\n",
       "<style scoped>\n",
       "    .dataframe tbody tr th:only-of-type {\n",
       "        vertical-align: middle;\n",
       "    }\n",
       "\n",
       "    .dataframe tbody tr th {\n",
       "        vertical-align: top;\n",
       "    }\n",
       "\n",
       "    .dataframe thead th {\n",
       "        text-align: right;\n",
       "    }\n",
       "</style>\n",
       "<table border=\"1\" class=\"dataframe\">\n",
       "  <thead>\n",
       "    <tr style=\"text-align: right;\">\n",
       "      <th></th>\n",
       "      <th>sentence</th>\n",
       "      <th>sentiment</th>\n",
       "      <th>prediction</th>\n",
       "    </tr>\n",
       "  </thead>\n",
       "  <tbody>\n",
       "    <tr>\n",
       "      <th>0</th>\n",
       "      <td>The food was delicious, but the service was sl...</td>\n",
       "      <td>Negative</td>\n",
       "      <td>negative</td>\n",
       "    </tr>\n",
       "    <tr>\n",
       "      <th>1</th>\n",
       "      <td>The movie had some great action scenes, yet th...</td>\n",
       "      <td>Negative</td>\n",
       "      <td>negative</td>\n",
       "    </tr>\n",
       "    <tr>\n",
       "      <th>2</th>\n",
       "      <td>This app has a user-friendly interface, althou...</td>\n",
       "      <td>Negative</td>\n",
       "      <td>negative</td>\n",
       "    </tr>\n",
       "    <tr>\n",
       "      <th>3</th>\n",
       "      <td>The hotel was clean and well-located, but the ...</td>\n",
       "      <td>Negative</td>\n",
       "      <td>negative</td>\n",
       "    </tr>\n",
       "    <tr>\n",
       "      <th>4</th>\n",
       "      <td>The game graphics are stunning, but the gamepl...</td>\n",
       "      <td>Negative</td>\n",
       "      <td>negative</td>\n",
       "    </tr>\n",
       "    <tr>\n",
       "      <th>5</th>\n",
       "      <td>I love the colors and design, but it feels a b...</td>\n",
       "      <td>Negative</td>\n",
       "      <td>negative</td>\n",
       "    </tr>\n",
       "    <tr>\n",
       "      <th>6</th>\n",
       "      <td>The product quality is outstanding, and it arr...</td>\n",
       "      <td>Positive</td>\n",
       "      <td>positive</td>\n",
       "    </tr>\n",
       "    <tr>\n",
       "      <th>7</th>\n",
       "      <td>The course content is very detailed and helpfu...</td>\n",
       "      <td>Positive</td>\n",
       "      <td>positive</td>\n",
       "    </tr>\n",
       "    <tr>\n",
       "      <th>8</th>\n",
       "      <td>Customer service was responsive, and the issue...</td>\n",
       "      <td>Positive</td>\n",
       "      <td>positive</td>\n",
       "    </tr>\n",
       "    <tr>\n",
       "      <th>9</th>\n",
       "      <td>Great sound quality and easy to set up. Highly...</td>\n",
       "      <td>Positive</td>\n",
       "      <td>positive</td>\n",
       "    </tr>\n",
       "    <tr>\n",
       "      <th>10</th>\n",
       "      <td>The book was well-written and kept me engaged ...</td>\n",
       "      <td>Positive</td>\n",
       "      <td>positive</td>\n",
       "    </tr>\n",
       "    <tr>\n",
       "      <th>11</th>\n",
       "      <td>The laptop runs smoothly, and the screen is sh...</td>\n",
       "      <td>Positive</td>\n",
       "      <td>positive</td>\n",
       "    </tr>\n",
       "    <tr>\n",
       "      <th>12</th>\n",
       "      <td>The packaging was excellent, but the item arri...</td>\n",
       "      <td>Negative</td>\n",
       "      <td>negative</td>\n",
       "    </tr>\n",
       "    <tr>\n",
       "      <th>13</th>\n",
       "      <td>The software is feature-rich, though a bit com...</td>\n",
       "      <td>Negative</td>\n",
       "      <td>positive</td>\n",
       "    </tr>\n",
       "    <tr>\n",
       "      <th>14</th>\n",
       "      <td>My order was delayed, but the customer service...</td>\n",
       "      <td>Positive</td>\n",
       "      <td>positive</td>\n",
       "    </tr>\n",
       "    <tr>\n",
       "      <th>15</th>\n",
       "      <td>The fragrance is light and refreshing, exactly...</td>\n",
       "      <td>Positive</td>\n",
       "      <td>positive</td>\n",
       "    </tr>\n",
       "    <tr>\n",
       "      <th>16</th>\n",
       "      <td>It’s an affordable option with decent performa...</td>\n",
       "      <td>Negative</td>\n",
       "      <td>positive</td>\n",
       "    </tr>\n",
       "    <tr>\n",
       "      <th>17</th>\n",
       "      <td>The venue was beautiful, but the event was poo...</td>\n",
       "      <td>Negative</td>\n",
       "      <td>negative</td>\n",
       "    </tr>\n",
       "    <tr>\n",
       "      <th>18</th>\n",
       "      <td>The restaurant ambiance was lovely, and the fo...</td>\n",
       "      <td>Positive</td>\n",
       "      <td>positive</td>\n",
       "    </tr>\n",
       "    <tr>\n",
       "      <th>19</th>\n",
       "      <td>Good battery life, but the phone heats up quic...</td>\n",
       "      <td>Negative</td>\n",
       "      <td>negative</td>\n",
       "    </tr>\n",
       "    <tr>\n",
       "      <th>20</th>\n",
       "      <td>The bed was very comfortable, and we slept wel...</td>\n",
       "      <td>Positive</td>\n",
       "      <td>positive</td>\n",
       "    </tr>\n",
       "    <tr>\n",
       "      <th>21</th>\n",
       "      <td>The setup instructions were clear, and everyth...</td>\n",
       "      <td>Positive</td>\n",
       "      <td>positive</td>\n",
       "    </tr>\n",
       "    <tr>\n",
       "      <th>22</th>\n",
       "      <td>I like the idea, but the execution is sloppy a...</td>\n",
       "      <td>Negative</td>\n",
       "      <td>negative</td>\n",
       "    </tr>\n",
       "    <tr>\n",
       "      <th>23</th>\n",
       "      <td>The chair is ergonomic and looks great in my o...</td>\n",
       "      <td>Positive</td>\n",
       "      <td>positive</td>\n",
       "    </tr>\n",
       "    <tr>\n",
       "      <th>24</th>\n",
       "      <td>The film’s visuals were stunning, but the plot...</td>\n",
       "      <td>Negative</td>\n",
       "      <td>negative</td>\n",
       "    </tr>\n",
       "    <tr>\n",
       "      <th>25</th>\n",
       "      <td>The service was prompt, and the food tasted fr...</td>\n",
       "      <td>Positive</td>\n",
       "      <td>positive</td>\n",
       "    </tr>\n",
       "    <tr>\n",
       "      <th>26</th>\n",
       "      <td>I enjoy the features, but the app has too many...</td>\n",
       "      <td>Negative</td>\n",
       "      <td>negative</td>\n",
       "    </tr>\n",
       "    <tr>\n",
       "      <th>27</th>\n",
       "      <td>The dress fits perfectly, and the fabric is so...</td>\n",
       "      <td>Positive</td>\n",
       "      <td>positive</td>\n",
       "    </tr>\n",
       "    <tr>\n",
       "      <th>28</th>\n",
       "      <td>Great customer support, and the return process...</td>\n",
       "      <td>Positive</td>\n",
       "      <td>positive</td>\n",
       "    </tr>\n",
       "    <tr>\n",
       "      <th>29</th>\n",
       "      <td>The car drives well and feels safe, but the in...</td>\n",
       "      <td>Negative</td>\n",
       "      <td>negative</td>\n",
       "    </tr>\n",
       "  </tbody>\n",
       "</table>\n",
       "</div>"
      ],
      "text/plain": [
       "                                             sentence sentiment prediction\n",
       "0   The food was delicious, but the service was sl...  Negative   negative\n",
       "1   The movie had some great action scenes, yet th...  Negative   negative\n",
       "2   This app has a user-friendly interface, althou...  Negative   negative\n",
       "3   The hotel was clean and well-located, but the ...  Negative   negative\n",
       "4   The game graphics are stunning, but the gamepl...  Negative   negative\n",
       "5   I love the colors and design, but it feels a b...  Negative   negative\n",
       "6   The product quality is outstanding, and it arr...  Positive   positive\n",
       "7   The course content is very detailed and helpfu...  Positive   positive\n",
       "8   Customer service was responsive, and the issue...  Positive   positive\n",
       "9   Great sound quality and easy to set up. Highly...  Positive   positive\n",
       "10  The book was well-written and kept me engaged ...  Positive   positive\n",
       "11  The laptop runs smoothly, and the screen is sh...  Positive   positive\n",
       "12  The packaging was excellent, but the item arri...  Negative   negative\n",
       "13  The software is feature-rich, though a bit com...  Negative   positive\n",
       "14  My order was delayed, but the customer service...  Positive   positive\n",
       "15  The fragrance is light and refreshing, exactly...  Positive   positive\n",
       "16  It’s an affordable option with decent performa...  Negative   positive\n",
       "17  The venue was beautiful, but the event was poo...  Negative   negative\n",
       "18  The restaurant ambiance was lovely, and the fo...  Positive   positive\n",
       "19  Good battery life, but the phone heats up quic...  Negative   negative\n",
       "20  The bed was very comfortable, and we slept wel...  Positive   positive\n",
       "21  The setup instructions were clear, and everyth...  Positive   positive\n",
       "22  I like the idea, but the execution is sloppy a...  Negative   negative\n",
       "23  The chair is ergonomic and looks great in my o...  Positive   positive\n",
       "24  The film’s visuals were stunning, but the plot...  Negative   negative\n",
       "25  The service was prompt, and the food tasted fr...  Positive   positive\n",
       "26  I enjoy the features, but the app has too many...  Negative   negative\n",
       "27  The dress fits perfectly, and the fabric is so...  Positive   positive\n",
       "28  Great customer support, and the return process...  Positive   positive\n",
       "29  The car drives well and feels safe, but the in...  Negative   negative"
      ]
     },
     "execution_count": 20,
     "metadata": {},
     "output_type": "execute_result"
    }
   ],
   "source": [
    "df"
   ]
  },
  {
   "cell_type": "code",
   "execution_count": null,
   "id": "fee4a196-988d-460a-81b7-53bb99b905dc",
   "metadata": {},
   "outputs": [],
   "source": []
  }
 ],
 "metadata": {
  "kernelspec": {
   "display_name": "Python 3 (ipykernel)",
   "language": "python",
   "name": "python3"
  },
  "language_info": {
   "codemirror_mode": {
    "name": "ipython",
    "version": 3
   },
   "file_extension": ".py",
   "mimetype": "text/x-python",
   "name": "python",
   "nbconvert_exporter": "python",
   "pygments_lexer": "ipython3",
   "version": "3.11.7"
  }
 },
 "nbformat": 4,
 "nbformat_minor": 5
}
