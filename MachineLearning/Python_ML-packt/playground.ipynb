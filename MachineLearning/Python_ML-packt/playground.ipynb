{
 "cells": [
  {
   "cell_type": "code",
   "execution_count": 1,
   "id": "9fd877e9",
   "metadata": {},
   "outputs": [],
   "source": [
    "import numpy as np\n",
    "import matplotlib.pyplot as plt\n",
    "import pandas as pd"
   ]
  },
  {
   "cell_type": "code",
   "execution_count": 15,
   "id": "002c3864",
   "metadata": {},
   "outputs": [
    {
     "data": {
      "text/plain": [
       "array([[0.25, 0.25, 0.25, 0.25],\n",
       "       [0.25, 0.25, 0.25, 0.25],\n",
       "       [0.25, 0.25, 0.25, 0.25],\n",
       "       [0.25, 0.25, 0.25, 0.25]])"
      ]
     },
     "execution_count": 15,
     "metadata": {},
     "output_type": "execute_result"
    }
   ],
   "source": [
    "X1 = np.array([-0.5, -0.5, -0.5, -0.5])\n",
    "\n",
    "np.dot(X1.reshape(-1, 1), X1.reshape(1, -1))"
   ]
  },
  {
   "cell_type": "code",
   "execution_count": 11,
   "id": "f88f7c5c",
   "metadata": {},
   "outputs": [
    {
     "data": {
      "text/plain": [
       "array([[0.110889, 0.110889, 0.110889, 0.110889],\n",
       "       [0.110889, 0.110889, 0.110889, 0.110889],\n",
       "       [0.110889, 0.110889, 0.110889, 0.110889],\n",
       "       [0.110889, 0.110889, 0.110889, 0.110889]])"
      ]
     },
     "execution_count": 11,
     "metadata": {},
     "output_type": "execute_result"
    }
   ],
   "source": [
    "X1 = np.array([-0.333, -0.333, -0.333, -0.333])\n",
    "\n",
    "np.dot(X1.reshape(-1, 1), X1.reshape(1, -1))"
   ]
  },
  {
   "cell_type": "code",
   "execution_count": 12,
   "id": "3f8fb8d7",
   "metadata": {},
   "outputs": [
    {
     "data": {
      "text/plain": [
       "array([[2.778889, 2.778889, 2.778889, 2.778889],\n",
       "       [2.778889, 2.778889, 2.778889, 2.778889],\n",
       "       [2.778889, 2.778889, 2.778889, 2.778889],\n",
       "       [2.778889, 2.778889, 2.778889, 2.778889]])"
      ]
     },
     "execution_count": 12,
     "metadata": {},
     "output_type": "execute_result"
    }
   ],
   "source": [
    "X1 = np.array([1.667, 1.667, 1.667, 1.667])\n",
    "\n",
    "np.dot(X1.reshape(-1, 1), X1.reshape(1, -1))"
   ]
  },
  {
   "cell_type": "code",
   "execution_count": 13,
   "id": "8cc22b92",
   "metadata": {},
   "outputs": [
    {
     "name": "stdout",
     "output_type": "stream",
     "text": [
      "Class 1 mean: [3.33333333 4.33333333 5.33333333 6.33333333]\n",
      "Class 2 mean: [2.5 1.5 3.5 4.5]\n"
     ]
    }
   ],
   "source": [
    "import numpy as np\n",
    "\n",
    "# Define the dataset\n",
    "X1 = np.array([[2, 3, 4, 5],\n",
    "               [3, 4, 5, 6],\n",
    "               [5, 6, 7, 8]])\n",
    "\n",
    "X2 = np.array([[2, 1, 3, 4],\n",
    "               [3, 2, 4, 5]])\n",
    "\n",
    "# Compute the class means\n",
    "m1 = np.mean(X1, axis=0)\n",
    "m2 = np.mean(X2, axis=0)\n",
    "\n",
    "# Print the class means\n",
    "print(\"Class 1 mean:\", m1)\n",
    "print(\"Class 2 mean:\", m2)\n"
   ]
  },
  {
   "cell_type": "code",
   "execution_count": 14,
   "id": "da7ba720",
   "metadata": {},
   "outputs": [
    {
     "name": "stdout",
     "output_type": "stream",
     "text": [
      "Within-class scatter matrix for Class 1:\n",
      "[[4.66666667 4.66666667 4.66666667 4.66666667]\n",
      " [4.66666667 4.66666667 4.66666667 4.66666667]\n",
      " [4.66666667 4.66666667 4.66666667 4.66666667]\n",
      " [4.66666667 4.66666667 4.66666667 4.66666667]]\n",
      "\n",
      "Within-class scatter matrix for Class 2:\n",
      "[[0.5 0.5 0.5 0.5]\n",
      " [0.5 0.5 0.5 0.5]\n",
      " [0.5 0.5 0.5 0.5]\n",
      " [0.5 0.5 0.5 0.5]]\n",
      "\n",
      "Total within-class scatter matrix:\n",
      "[[5.16666667 5.16666667 5.16666667 5.16666667]\n",
      " [5.16666667 5.16666667 5.16666667 5.16666667]\n",
      " [5.16666667 5.16666667 5.16666667 5.16666667]\n",
      " [5.16666667 5.16666667 5.16666667 5.16666667]]\n"
     ]
    }
   ],
   "source": [
    "# Compute the within-class scatter matrix for Class 1\n",
    "S_w1 = np.dot((X1 - m1).T, (X1 - m1))\n",
    "\n",
    "# Compute the within-class scatter matrix for Class 2\n",
    "S_w2 = np.dot((X2 - m2).T, (X2 - m2))\n",
    "\n",
    "# Total within-class scatter matrix\n",
    "S_w = S_w1 + S_w2\n",
    "\n",
    "# Print the within-class scatter matrices\n",
    "print(\"Within-class scatter matrix for Class 1:\")\n",
    "print(S_w1)\n",
    "print(\"\\nWithin-class scatter matrix for Class 2:\")\n",
    "print(S_w2)\n",
    "print(\"\\nTotal within-class scatter matrix:\")\n",
    "print(S_w)\n"
   ]
  },
  {
   "cell_type": "code",
   "execution_count": null,
   "id": "95efc669",
   "metadata": {},
   "outputs": [],
   "source": []
  }
 ],
 "metadata": {
  "kernelspec": {
   "display_name": "Python 3 (ipykernel)",
   "language": "python",
   "name": "python3"
  },
  "language_info": {
   "codemirror_mode": {
    "name": "ipython",
    "version": 3
   },
   "file_extension": ".py",
   "mimetype": "text/x-python",
   "name": "python",
   "nbconvert_exporter": "python",
   "pygments_lexer": "ipython3",
   "version": "3.11.4"
  }
 },
 "nbformat": 4,
 "nbformat_minor": 5
}
