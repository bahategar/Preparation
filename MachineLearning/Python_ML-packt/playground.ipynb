{
 "cells": [
  {
   "cell_type": "code",
   "execution_count": 1,
   "id": "cd9e5b34",
   "metadata": {},
   "outputs": [],
   "source": [
    "import numpy as np\n",
    "import matplotlib.pyplot as plt\n",
    "import pandas as pd"
   ]
  },
  {
   "cell_type": "code",
   "execution_count": 41,
   "id": "b85dbd54",
   "metadata": {},
   "outputs": [
    {
     "data": {
      "text/plain": [
       "array([[ 4.41,  2.73,  2.1 , -3.99],\n",
       "       [ 2.73,  1.69,  1.3 , -2.47],\n",
       "       [ 2.1 ,  1.3 ,  1.  , -1.9 ],\n",
       "       [-3.99, -2.47, -1.9 ,  3.61]])"
      ]
     },
     "execution_count": 41,
     "metadata": {},
     "output_type": "execute_result"
    }
   ],
   "source": [
    "X1 = np.array([2.1, 1.3, 1, -1.9])\n",
    "\n",
    "np.dot(X1.reshape(-1, 1), X1.reshape(1, -1))"
   ]
  },
  {
   "cell_type": "code",
   "execution_count": 22,
   "id": "ed5afaef",
   "metadata": {},
   "outputs": [
    {
     "data": {
      "text/plain": [
       "array([[0.75, 2.55, 1.65, 1.65],\n",
       "       [2.55, 8.67, 5.61, 5.61],\n",
       "       [1.65, 5.61, 3.63, 3.63],\n",
       "       [1.65, 5.61, 3.63, 3.63]])"
      ]
     },
     "execution_count": 22,
     "metadata": {},
     "output_type": "execute_result"
    }
   ],
   "source": [
    "X1 = np.array([-0.5, -1.7, -1.1, -1.1])\n",
    "\n",
    "3 * np.dot(X1.reshape(-1, 1), X1.reshape(1, -1))"
   ]
  },
  {
   "cell_type": "code",
   "execution_count": 12,
   "id": "3a0fc0f6",
   "metadata": {},
   "outputs": [
    {
     "data": {
      "text/plain": [
       "array([[2.778889, 2.778889, 2.778889, 2.778889],\n",
       "       [2.778889, 2.778889, 2.778889, 2.778889],\n",
       "       [2.778889, 2.778889, 2.778889, 2.778889],\n",
       "       [2.778889, 2.778889, 2.778889, 2.778889]])"
      ]
     },
     "execution_count": 12,
     "metadata": {},
     "output_type": "execute_result"
    }
   ],
   "source": [
    "X1 = np.array([1.667, 1.667, 1.667, 1.667])\n",
    "\n",
    "np.dot(X1.reshape(-1, 1), X1.reshape(1, -1))"
   ]
  },
  {
   "cell_type": "code",
   "execution_count": 45,
   "id": "dedfb4ee",
   "metadata": {},
   "outputs": [
    {
     "name": "stdout",
     "output_type": "stream",
     "text": [
      "Original data shape: (5, 4)\n",
      "Transformed data shape: (5, 1)\n",
      "Transformed data:\n",
      "[[-6.7753605 ]\n",
      " [-6.83708072]\n",
      " [-3.41375479]\n",
      " [-5.14599117]\n",
      " [-6.20480617]]\n"
     ]
    }
   ],
   "source": [
    "import numpy as np\n",
    "\n",
    "# Sample data\n",
    "X = np.array([[3, 6, 4, 10],\n",
    "              [2, 7, 5, 9],\n",
    "              [1, 6, 7, 4],\n",
    "              [4, 9, 8, 3],\n",
    "              [7, 8, 6, 6]])\n",
    "\n",
    "y = np.array([0, 0, 0, 1, 1])  # Class labels\n",
    "\n",
    "# Separate data by class\n",
    "X_class1 = X[y == 0]\n",
    "X_class2 = X[y == 1]\n",
    "\n",
    "# Compute class means\n",
    "mean_class1 = np.mean(X_class1, axis=0)\n",
    "mean_class2 = np.mean(X_class2, axis=0)\n",
    "\n",
    "# Compute within-class scatter matrix Sw\n",
    "n_features = X.shape[1]\n",
    "Sw = np.zeros((n_features, n_features))\n",
    "for xi in X_class1:\n",
    "    diff = xi - mean_class1\n",
    "    Sw += np.outer(diff, diff)\n",
    "for xi in X_class2:\n",
    "    diff = xi - mean_class2\n",
    "    Sw += np.outer(diff, diff)\n",
    "\n",
    "# Compute between-class scatter matrix Sb\n",
    "diff_means = mean_class1 - mean_class2\n",
    "Sb = np.outer(diff_means, diff_means)\n",
    "\n",
    "# Compute eigenvalues and eigenvectors of Sw^-1 * Sb\n",
    "eigenvalues, eigenvectors = np.linalg.eig(np.linalg.inv(Sw).dot(Sb))\n",
    "\n",
    "# Sort eigenvalues and corresponding eigenvectors\n",
    "idx = eigenvalues.argsort()[::-1]\n",
    "eigenvalues = eigenvalues[idx]\n",
    "eigenvectors = eigenvectors[:, idx]\n",
    "\n",
    "# Choose the top k eigenvectors (k=1 for 1D projection)\n",
    "k = 1\n",
    "projection_matrix = eigenvectors[:, :k]\n",
    "\n",
    "# Project the data onto the new subspace\n",
    "X_lda = X.dot(projection_matrix)\n",
    "\n",
    "print(\"Original data shape:\", X.shape)\n",
    "print(\"Transformed data shape:\", X_lda.shape)\n",
    "print(\"Transformed data:\")\n",
    "print(X_lda)\n"
   ]
  },
  {
   "cell_type": "code",
   "execution_count": 47,
   "id": "68d2f585",
   "metadata": {},
   "outputs": [
    {
     "data": {
      "text/plain": [
       "array([[ 7.12430556e+01,  4.41028439e+01,  3.39252646e+01,\n",
       "        -6.44580026e+01],\n",
       "       [-1.57625987e+16, -9.75779919e+15, -7.50599938e+15,\n",
       "         1.42613988e+16],\n",
       "       [ 3.15251974e+16,  1.95155984e+16,  1.50119988e+16,\n",
       "        -2.85227976e+16],\n",
       "       [ 1.57625987e+16,  9.75779919e+15,  7.50599938e+15,\n",
       "        -1.42613988e+16]])"
      ]
     },
     "execution_count": 47,
     "metadata": {},
     "output_type": "execute_result"
    }
   ],
   "source": [
    "np.linalg.inv(Sw).dot(Sb)"
   ]
  },
  {
   "cell_type": "code",
   "execution_count": 13,
   "id": "0b03f0f1",
   "metadata": {},
   "outputs": [
    {
     "name": "stdout",
     "output_type": "stream",
     "text": [
      "Class 1 mean: [3.33333333 4.33333333 5.33333333 6.33333333]\n",
      "Class 2 mean: [2.5 1.5 3.5 4.5]\n"
     ]
    }
   ],
   "source": [
    "import numpy as np\n",
    "\n",
    "# Define the dataset\n",
    "X1 = np.array([[2, 3, 4, 5],\n",
    "               [3, 4, 5, 6],\n",
    "               [5, 6, 7, 8]])\n",
    "\n",
    "X2 = np.array([[2, 1, 3, 4],\n",
    "               [3, 2, 4, 5]])\n",
    "\n",
    "# Compute the class means\n",
    "m1 = np.mean(X1, axis=0)\n",
    "m2 = np.mean(X2, axis=0)\n",
    "\n",
    "# Print the class means\n",
    "print(\"Class 1 mean:\", m1)\n",
    "print(\"Class 2 mean:\", m2)\n"
   ]
  },
  {
   "cell_type": "code",
   "execution_count": 14,
   "id": "57a425e9",
   "metadata": {},
   "outputs": [
    {
     "name": "stdout",
     "output_type": "stream",
     "text": [
      "Within-class scatter matrix for Class 1:\n",
      "[[4.66666667 4.66666667 4.66666667 4.66666667]\n",
      " [4.66666667 4.66666667 4.66666667 4.66666667]\n",
      " [4.66666667 4.66666667 4.66666667 4.66666667]\n",
      " [4.66666667 4.66666667 4.66666667 4.66666667]]\n",
      "\n",
      "Within-class scatter matrix for Class 2:\n",
      "[[0.5 0.5 0.5 0.5]\n",
      " [0.5 0.5 0.5 0.5]\n",
      " [0.5 0.5 0.5 0.5]\n",
      " [0.5 0.5 0.5 0.5]]\n",
      "\n",
      "Total within-class scatter matrix:\n",
      "[[5.16666667 5.16666667 5.16666667 5.16666667]\n",
      " [5.16666667 5.16666667 5.16666667 5.16666667]\n",
      " [5.16666667 5.16666667 5.16666667 5.16666667]\n",
      " [5.16666667 5.16666667 5.16666667 5.16666667]]\n"
     ]
    }
   ],
   "source": [
    "# Compute the within-class scatter matrix for Class 1\n",
    "S_w1 = np.dot((X1 - m1).T, (X1 - m1))\n",
    "\n",
    "# Compute the within-class scatter matrix for Class 2\n",
    "S_w2 = np.dot((X2 - m2).T, (X2 - m2))\n",
    "\n",
    "# Total within-class scatter matrix\n",
    "S_w = S_w1 + S_w2\n",
    "\n",
    "# Print the within-class scatter matrices\n",
    "print(\"Within-class scatter matrix for Class 1:\")\n",
    "print(S_w1)\n",
    "print(\"\\nWithin-class scatter matrix for Class 2:\")\n",
    "print(S_w2)\n",
    "print(\"\\nTotal within-class scatter matrix:\")\n",
    "print(S_w)\n"
   ]
  },
  {
   "cell_type": "code",
   "execution_count": 48,
   "id": "1421fe5e",
   "metadata": {},
   "outputs": [
    {
     "name": "stdout",
     "output_type": "stream",
     "text": [
      "Dot Product of Inverse of A and B:\n",
      "[[ 4.84314539e+01  2.99818746e+01  2.30633550e+01 -4.38193516e+01]\n",
      " [-1.89151184e+15 -1.17096164e+15 -9.00697407e+14  1.71139145e+15]\n",
      " [ 3.78302369e+15  2.34192328e+15  1.80139481e+15 -3.42278290e+15]\n",
      " [ 1.89151184e+15  1.17096164e+15  9.00697407e+14 -1.71139145e+15]]\n"
     ]
    }
   ],
   "source": [
    "import numpy as np\n",
    "\n",
    "# Define matrices A and B\n",
    "A = np.array([[6.5, -1.5, -6, 10.5],\n",
    "                    [-1.5, 1.1667, 0.6667, -0.1667],\n",
    "                    [-6, 0.6667, 6.6667, -12.6667],\n",
    "                    [10.5, -0.1667, -12.6667, 25.1667]])\n",
    "\n",
    "B = np.array([[10.29, 6.37014, 4.9002, -9.31014],\n",
    "                    [6.3702, 3.94351, 3.0334, -5.76354667],\n",
    "                    [4.9002, 3.03349, 2.3335, -4.43353],\n",
    "                    [-9.3102, -5.76355, -4.43353, 8.42358667]])\n",
    "\n",
    "# Compute the inverse of matrix A\n",
    "A_inv = np.linalg.inv(A)\n",
    "\n",
    "# Calculate the dot product of the inverse of A and matrix B\n",
    "dot_product = np.dot(A_inv, B)\n",
    "\n",
    "# Display the result\n",
    "print(\"Dot Product of Inverse of A and B:\")\n",
    "print(dot_product)\n",
    "eigenvalues, eigenvectors = np.linalg.eig(dot_product)"
   ]
  },
  {
   "cell_type": "code",
   "execution_count": 49,
   "id": "aa45ed55",
   "metadata": {},
   "outputs": [
    {
     "data": {
      "text/plain": [
       "array([-1.25000000e-01+0.j        , -1.08095827e+15+0.j        ,\n",
       "       -5.63131588e-03+0.82831544j, -5.63131588e-03-0.82831544j])"
      ]
     },
     "execution_count": 49,
     "metadata": {},
     "output_type": "execute_result"
    }
   ],
   "source": [
    "eigenvalues"
   ]
  },
  {
   "cell_type": "code",
   "execution_count": 50,
   "id": "0c893b88",
   "metadata": {},
   "outputs": [
    {
     "data": {
      "text/plain": [
       "array([[ 2.27203544e-01+0.j        ,  1.04519057e-14+0.j        ,\n",
       "        -2.13139746e-04+0.00147903j, -2.13139746e-04-0.00147903j],\n",
       "       [-3.97571492e-01+0.j        , -4.08248290e-01+0.j        ,\n",
       "         9.61934858e-02-0.22991297j,  9.61934858e-02+0.22991297j],\n",
       "       [ 7.95142985e-01+0.j        ,  8.16496581e-01+0.j        ,\n",
       "        -8.71324625e-01+0.j        , -8.71324625e-01-0.j        ],\n",
       "       [ 3.97571492e-01+0.j        ,  4.08248290e-01+0.j        ,\n",
       "        -3.92992559e-01-0.15567547j, -3.92992559e-01+0.15567547j]])"
      ]
     },
     "execution_count": 50,
     "metadata": {},
     "output_type": "execute_result"
    }
   ],
   "source": [
    "eigenvectors"
   ]
  },
  {
   "cell_type": "code",
   "execution_count": null,
   "id": "67cfe0d6",
   "metadata": {},
   "outputs": [],
   "source": []
  }
 ],
 "metadata": {
  "kernelspec": {
   "display_name": "Python 3 (ipykernel)",
   "language": "python",
   "name": "python3"
  },
  "language_info": {
   "codemirror_mode": {
    "name": "ipython",
    "version": 3
   },
   "file_extension": ".py",
   "mimetype": "text/x-python",
   "name": "python",
   "nbconvert_exporter": "python",
   "pygments_lexer": "ipython3",
   "version": "3.11.4"
  }
 },
 "nbformat": 4,
 "nbformat_minor": 5
}
