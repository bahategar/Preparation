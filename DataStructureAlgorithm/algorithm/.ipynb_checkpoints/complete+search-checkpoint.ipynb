{
 "cells": [
  {
   "cell_type": "markdown",
   "id": "73578272",
   "metadata": {},
   "source": [
    "Complete search (or brute force search) works by exploring all possible solutions then choose the optimal one (or count the number of solutions).\n",
    "\n",
    "\n",
    "Complete search algorithms are often used when the problem size is small enough to allow for the exhaustive examination of all possible solutions within a reasonable time frame\n"
   ]
  },
  {
   "cell_type": "code",
   "execution_count": 2,
   "id": "d78cdac6",
   "metadata": {},
   "outputs": [
    {
     "name": "stdout",
     "output_type": "stream",
     "text": [
      "Subset: []\n",
      "Subset: [2]\n",
      "Subset: [1]\n",
      "Subset: [1, 2]\n",
      "Subset: [0]\n",
      "Subset: [0, 2]\n",
      "Subset: [0, 1]\n",
      "Subset: [0, 1, 2]\n"
     ]
    }
   ],
   "source": [
    "# Generating subset\n",
    "# For example,\n",
    "# input = {0, 1, 2}\n",
    "# output = {}, {0}, {1}, {2}, {0, 2}, {1, 2}, and {0, 1, 2}\n",
    "\n",
    "def search(k):\n",
    "    global n, subset\n",
    "    if (k == n):\n",
    "        print(\"Subset:\", subset)\n",
    "    else:\n",
    "        search(k + 1)\n",
    "        subset.append(k)\n",
    "        search(k + 1)\n",
    "        subset.pop()\n",
    "        \n",
    "\n",
    "if __name__ == \"__main__\":\n",
    "    subset = []\n",
    "    n = 3\n",
    "    search(0)\n"
   ]
  },
  {
   "cell_type": "markdown",
   "id": "f4fd1ed6",
   "metadata": {},
   "source": [
    "search(0) [0]\n",
    "  |\n",
    "  |\n",
    "  |-------search(1) [1]\n",
    "  |\t      |\n",
    "  |\t      |------search(2) []\n",
    "  |\t      |\t        |\n",
    "  |           |         |------search(3) print([])\n",
    "  |           |         |\n",
    "  |           |         |------search(3) print([2])\n",
    "  |           |\n",
    "  |           |\n",
    "  |           |------search(2) [1]\n",
    "  |\t                |\n",
    "  |\t\t\t|------search(3) print[1]\n",
    "  |                     |\n",
    "  |                     |------search(3) print[1,2]\n",
    "  |                     \n",
    "  |\n",
    "  |-------search(1) [0, 1]\n",
    "  \t      |\n",
    "   \t      |------search(2) [0]\n",
    "  \t      |\t        |\n",
    "              |         |------search(3) print([0])\n",
    "              |         |\n",
    "              |         |------search(3) print([0,2])\n",
    "              |\n",
    "              |\n",
    "              |------search(2) [0, 1]\n",
    "   \t                |\n",
    "   \t\t\t|------search(3) print[0, 1]\n",
    "                        |\n",
    "                        |------search(3) print[0, 1, 2]\n"
   ]
  },
  {
   "cell_type": "code",
   "execution_count": null,
   "id": "37858fcf",
   "metadata": {},
   "outputs": [],
   "source": []
  }
 ],
 "metadata": {
  "kernelspec": {
   "display_name": "Python 3 (ipykernel)",
   "language": "python",
   "name": "python3"
  },
  "language_info": {
   "codemirror_mode": {
    "name": "ipython",
    "version": 3
   },
   "file_extension": ".py",
   "mimetype": "text/x-python",
   "name": "python",
   "nbconvert_exporter": "python",
   "pygments_lexer": "ipython3",
   "version": "3.11.4"
  }
 },
 "nbformat": 4,
 "nbformat_minor": 5
}
