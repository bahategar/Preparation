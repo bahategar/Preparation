{
 "cells": [
  {
   "cell_type": "markdown",
   "id": "73578272",
   "metadata": {},
   "source": [
    "Complete search (or brute force search) works by exploring all possible solutions then choose the optimal one (or count the number of solutions).\n",
    "\n",
    "\n",
    "Complete search algorithms are often used when the problem size is small enough to allow for the exhaustive examination of all possible solutions within a reasonable time frame\n"
   ]
  },
  {
   "cell_type": "code",
   "execution_count": 2,
   "id": "d78cdac6",
   "metadata": {},
   "outputs": [
    {
     "name": "stdout",
     "output_type": "stream",
     "text": [
      "Subset: []\n",
      "Subset: [2]\n",
      "Subset: [1]\n",
      "Subset: [1, 2]\n",
      "Subset: [0]\n",
      "Subset: [0, 2]\n",
      "Subset: [0, 1]\n",
      "Subset: [0, 1, 2]\n"
     ]
    }
   ],
   "source": [
    "# Generating subset\n",
    "# For example,\n",
    "# input = {0, 1, 2}\n",
    "# output = {}, {0}, {1}, {2}, {0, 2}, {1, 2}, and {0, 1, 2}\n",
    "\n",
    "def search(k):\n",
    "    global n, subset\n",
    "    if (k == n):\n",
    "        print(\"Subset:\", subset)\n",
    "    else:\n",
    "        search(k + 1)\n",
    "        subset.append(k)\n",
    "        search(k + 1)\n",
    "        subset.pop()\n",
    "        \n",
    "\n",
    "if __name__ == \"__main__\":\n",
    "    subset = []\n",
    "    n = 3\n",
    "    search(0)\n"
   ]
  },
  {
   "cell_type": "markdown",
   "id": "1d0a0359",
   "metadata": {},
   "source": [
    "search(0) [0]\n",
    "  |\n",
    "  |\n",
    "  |-------search(1) [1]\n",
    "  |\t      |\n",
    "  |\t      |------search(2) []\n",
    "  |\t      |\t        |\n",
    "  |           |         |------search(3) print([])\n",
    "  |           |         |\n",
    "  |           |         |------search(3) print([2])\n",
    "  |           |\n",
    "  |           |\n",
    "  |           |------search(2) [1]\n",
    "  |\t                |\n",
    "  |\t\t\t|------search(3) print[1]\n",
    "  |                     |\n",
    "  |                     |------search(3) print[1,2]\n",
    "  |                     \n",
    "  |\n",
    "  |-------search(1) [0, 1]\n",
    "  \t      |\n",
    "   \t      |------search(2) [0]\n",
    "  \t      |\t        |\n",
    "              |         |------search(3) print([0])\n",
    "              |         |\n",
    "              |         |------search(3) print([0,2])\n",
    "              |\n",
    "              |\n",
    "              |------search(2) [0, 1]\n",
    "   \t                |\n",
    "   \t\t\t|------search(3) print[0, 1]\n",
    "                        |\n",
    "                        |------search(3) print[0, 1, 2]\n"
   ]
  },
  {
   "cell_type": "code",
   "execution_count": 15,
   "id": "12a40059",
   "metadata": {},
   "outputs": [
    {
     "name": "stdout",
     "output_type": "stream",
     "text": [
      "Permutation: [0, 1, 2]\n",
      "Permutation: [0, 2, 1]\n",
      "Permutation: [1, 0, 2]\n",
      "Permutation: [1, 2, 0]\n",
      "Permutation: [2, 0, 1]\n",
      "Permutation: [2, 1, 0]\n"
     ]
    }
   ],
   "source": [
    "# Generating permutation\n",
    "\n",
    "def permutation(nums):\n",
    "    global perms, chosen\n",
    "    # base case\n",
    "    if len(perms) == n:\n",
    "        print(\"Permutation:\", perms)\n",
    "    for i in range(len(nums)):\n",
    "        if (chosen[i]):\n",
    "            continue\n",
    "        chosen[i] = True\n",
    "        perms.append(nums[i])\n",
    "        permutation(nums)\n",
    "        chosen[i] = False\n",
    "        perms.pop()\n",
    "\n",
    "if __name__ == \"__main__\":\n",
    "    n = 3  # Set size\n",
    "    chosen = [False] * n  # Initialize chosen list with False values\n",
    "    perms = []\n",
    "    permutation([0, 1, 2])  # Start generating permutations"
   ]
  },
  {
   "cell_type": "code",
   "execution_count": null,
   "id": "95165c0f",
   "metadata": {},
   "outputs": [],
   "source": [
    "# Backtracking\n",
    "# Backtracking use when there are multiple solutions and \n",
    "#   we want all the solutions.\n",
    "\n",
    "\n"
   ]
  }
 ],
 "metadata": {
  "kernelspec": {
   "display_name": "Python 3 (ipykernel)",
   "language": "python",
   "name": "python3"
  },
  "language_info": {
   "codemirror_mode": {
    "name": "ipython",
    "version": 3
   },
   "file_extension": ".py",
   "mimetype": "text/x-python",
   "name": "python",
   "nbconvert_exporter": "python",
   "pygments_lexer": "ipython3",
   "version": "3.11.4"
  }
 },
 "nbformat": 4,
 "nbformat_minor": 5
}
