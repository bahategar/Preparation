{
 "cells": [
  {
   "cell_type": "markdown",
   "id": "09ef1fba",
   "metadata": {},
   "source": [
    "Greedy algorithm constructs a solution by making a choice that looks the best at the moment.\n",
    "\n",
    "It never takes back its choices, but directly constructs the final solution.\n",
    "\n",
    "The solution actually local optimal that we assume it is global optimal."
   ]
  },
  {
   "cell_type": "code",
   "execution_count": null,
   "id": "dcc4250e",
   "metadata": {},
   "outputs": [],
   "source": [
    "# Scheduling\n",
    "# Given n events with their starting and ending times, find a schedule\n",
    "# that includes as many events as possible. It is not possible to select an\n",
    "# event partially."
   ]
  }
 ],
 "metadata": {
  "kernelspec": {
   "display_name": "Python 3 (ipykernel)",
   "language": "python",
   "name": "python3"
  },
  "language_info": {
   "codemirror_mode": {
    "name": "ipython",
    "version": 3
   },
   "file_extension": ".py",
   "mimetype": "text/x-python",
   "name": "python",
   "nbconvert_exporter": "python",
   "pygments_lexer": "ipython3",
   "version": "3.11.4"
  }
 },
 "nbformat": 4,
 "nbformat_minor": 5
}
