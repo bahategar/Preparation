{
 "cells": [
  {
   "cell_type": "code",
   "execution_count": 4,
   "id": "e1e9378f",
   "metadata": {},
   "outputs": [],
   "source": [
    "def recursive(n):\n",
    "    # What is the base case?\n",
    "    \n",
    "    # What is the smallest amount of work in each iteration?\n",
    "    pass"
   ]
  },
  {
   "cell_type": "code",
   "execution_count": 8,
   "id": "88ae3881",
   "metadata": {},
   "outputs": [
    {
     "name": "stdout",
     "output_type": "stream",
     "text": [
      "ello\n",
      "llo\n",
      "lo\n",
      "o\n",
      "\n",
      "olleH\n"
     ]
    }
   ],
   "source": [
    "# String Reversal\n",
    "\n",
    "def reverseString(text):\n",
    "    if (text == \"\"):\n",
    "        return \"\"\n",
    "    return reverseString(text[1:]) + text[0]\n",
    "\n",
    "print(reverseString(\"Hello\"))"
   ]
  },
  {
   "cell_type": "code",
   "execution_count": null,
   "id": "ee3ac9fe",
   "metadata": {},
   "outputs": [],
   "source": []
  }
 ],
 "metadata": {
  "kernelspec": {
   "display_name": "Python 3 (ipykernel)",
   "language": "python",
   "name": "python3"
  },
  "language_info": {
   "codemirror_mode": {
    "name": "ipython",
    "version": 3
   },
   "file_extension": ".py",
   "mimetype": "text/x-python",
   "name": "python",
   "nbconvert_exporter": "python",
   "pygments_lexer": "ipython3",
   "version": "3.11.4"
  }
 },
 "nbformat": 4,
 "nbformat_minor": 5
}
