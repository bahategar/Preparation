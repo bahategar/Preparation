{
 "cells": [
  {
   "cell_type": "code",
   "execution_count": 3,
   "id": "5ef06b42-16d0-48fe-8680-b554d2eacf29",
   "metadata": {},
   "outputs": [],
   "source": [
    "import spacy\n",
    "import numpy as np"
   ]
  },
  {
   "cell_type": "code",
   "execution_count": 4,
   "id": "8ed7faa5-fa4c-4ed1-96d0-68308b37ab83",
   "metadata": {},
   "outputs": [],
   "source": [
    "# Create NLP object (load the model that installed)\n",
    "nlp = spacy.load(\"en_core_web_sm\")"
   ]
  },
  {
   "cell_type": "code",
   "execution_count": 5,
   "id": "f5cdb3ee-98d3-4105-b004-3e85851155f3",
   "metadata": {},
   "outputs": [
    {
     "data": {
      "text/plain": [
       "spacy.lang.en.English"
      ]
     },
     "execution_count": 5,
     "metadata": {},
     "output_type": "execute_result"
    }
   ],
   "source": [
    "type(nlp)"
   ]
  },
  {
   "cell_type": "markdown",
   "id": "3d72e4e7-c459-4b3d-b1aa-cc7cd4019e3d",
   "metadata": {},
   "source": [
    "# Introduction\n",
    "\n",
    "### What is Natural Language Processing\n",
    "- Natural Language Processing is a subfield of artificial intelligence that tries to **process and analyze natural language data.**\n",
    "  \n",
    "NOTE: Natural language is a language that developed naturally through use.\n",
    "\n",
    "The idea: Since we already know semantic and grammar rules of human language, then we can build applications that can progammatically understand utterances in that language."
   ]
  },
  {
   "cell_type": "markdown",
   "id": "ddd11414-e853-4b18-9d08-c30e02b25b87",
   "metadata": {},
   "source": [
    "### How can Computers Understand Language\n",
    "- Since computer (or machine) only understand number, we need to convert language words into numbers. This process called **Word Embedding**.\n",
    "- Word Embedding concept: **Mapping the words to vectors of real numbers that distribute the meaning of each word** between the coordinates of the corresponding word vector. NOTE:\n",
    "    - Words that similar (in machine perspectives) if their word vector are nearby.\n",
    "    - Two words are distributed nearby in the vector space based on **the contextual similarity** of their usage in a large corpus of text.\n",
    "      \n",
    "      NOTE: Key factors that influence are (1) Co-occurence in Similar Contexts and (2) Frequency of Co-occurence."
   ]
  },
  {
   "cell_type": "markdown",
   "id": "cd66d93b-826e-4260-8160-4597d6c95088",
   "metadata": {},
   "source": [
    "### Dependency Grammars vs Phrase Structure Grammars\n",
    "> spaCy primarily uses dependency grammar for syntactic parsing. It builds dependency trees that represent the relationships between words in a sentence, showing how each word depends on another.\n",
    "\n",
    "**Phrase Structure Grammars**\n",
    "- Based on how words combine to form constituents in a sentence ==> Focus on **Relation between constituents**\n",
    "  \n",
    "    NOTE: Constituents is a group of words that functions as a single unit in a sentence. E.g: Morphem, Frasa, and Clause.\n",
    "\n",
    "- Concept: The rule decompose a sentence into its constituent parts until reach one unit word in a hierarchical way.\n"
   ]
  },
  {
   "cell_type": "markdown",
   "id": "739ec731-2fc2-4b50-9b8f-53806c9ec00a",
   "metadata": {},
   "source": [
    "Example:\n",
    "\n",
    "![Images](data_spacy/images/ex-parse-structure-grammar.png)"
   ]
  },
  {
   "cell_type": "markdown",
   "id": "063b6413-8002-4476-b67b-ff9b507b697d",
   "metadata": {},
   "source": [
    "**Dependency Structure Grammars**\n",
    "- Based on the **relations between individual words.**\n",
    "- Concept: Determine root which is a main word of sentence (usually verb, we called it main verb). Then all other words are directly or indirectly dependent on this root.\n",
    "    NOTE:\n",
    "      (1) We call the independent word as \"HEAD\" and the dependent word as \"CHILD\".\n",
    "      (2) Each word in a sentence must be connected to exactly one HEAD (ROOT is connected to itself). The same word might have None, one, or several CHILDREN."
   ]
  },
  {
   "cell_type": "markdown",
   "id": "3759d2e8-0d6b-4c7e-b40f-ef8389133a02",
   "metadata": {},
   "source": [
    "Example:\n",
    "\n",
    "![Images](data_spacy/images/ex-dep-structure-grammar.png)\n",
    "\n",
    "Explanation:\n",
    "- \"sat\" is ROOT\n",
    "- \"sat\" is HEAD of \"cat\", \"on\", and \"mat\"\n",
    "- \"cat\" is HEAD of \"the\"\n",
    "- \"mat\" is HEAD of \"the\""
   ]
  },
  {
   "cell_type": "markdown",
   "id": "536a3d48-dc8e-440d-b760-941bfde185b3",
   "metadata": {},
   "source": [
    "### Common Grammar Concept\n",
    "\n",
    "**Transitive Verbs and Direct Objects**\n",
    "- A directly object is a noun (or a noun phrase) that **directly receives the action** of the verb.\n",
    "- A transitive verb is an **action verb that needs something (or someone) to receive the action**. This \"something\" that receive the action is **direct object**.\n",
    "\n",
    "For example:\n",
    "\n",
    "    \"She wrote a letter\" ==> Direct object is \"a letter\" and Transitive verb is \"wrote\"."
   ]
  },
  {
   "cell_type": "markdown",
   "id": "c2d375ab-f535-4ef8-a9c3-9adcc5dd4a9d",
   "metadata": {},
   "source": [
    "**Prepositional Objects**\n",
    "- A preposition **connects noun phrases (or noun, pronoun) with other words in a sentence**.\n",
    "    Example: \"in\", \"above\", \"at\", \"to\", \"of\", etc.\n",
    "- Object of a Preprosition: A noun (or pronoun, noun phrase) that follows a preposition.\n",
    "\n",
    "Example:\n",
    "\n",
    "    \"I wrote a series of articles.\" ==> Preposition is \"of\" and Object of preposition is \"articles\".\n",
    "\n",
    "NOTE:\n",
    "In some questions, extracting the object of preposition might give us the most informative word or phrase in terms finding the answer.\n",
    "\n",
    "Example:\n",
    "\n",
    "    \"What can be done about climate change?\" ==> The phrase “climate change” is the key phrase."
   ]
  },
  {
   "cell_type": "markdown",
   "id": "455bd5be-f1b1-4487-8043-064f154d015b",
   "metadata": {},
   "source": [
    "**Modal Auxiliary Verbs**\n",
    "- Modal auxiliary verbs are **special verbs used alongside a main verb** to express various moods or modalities. Example: \"may\", \"might\", \"can\", etc.\n",
    "\n",
    "    NOTE:\n",
    "  \n",
    "        Modal auxiliary verbs are special verbs used alongside a main verb to express various moods or modalities."
   ]
  },
  {
   "cell_type": "markdown",
   "id": "16d6c1cc-1d50-4142-bee5-dd922fb57b3c",
   "metadata": {},
   "source": [
    "**Personal Pronoun**\n",
    "- A personal pronoun refers to a specific person, object, or to multiple people or objects.\n",
    "\n",
    "Forms according to their grammatical role in a sentence:\n",
    "- The nominative form (I, you, he, she, it, we, they) is typically used as the nominal subject of a verb.\n",
    "- The accusative form (me, you, him, her, it, us, them) is typically used as the object of a verb or preposition.\n",
    "- The reflexive form (myself, yourself/yourselves, himself, herself, itself, ourselves, themselves) typically refers back to the subject specified within the same clause."
   ]
  },
  {
   "cell_type": "markdown",
   "id": "46cbcc3e-95ae-42b7-bb50-9cf4f1674b4f",
   "metadata": {},
   "source": [
    "# Basic NLP Operations with Spacy"
   ]
  },
  {
   "cell_type": "markdown",
   "id": "bed24158-4a46-470c-98ed-d22d46c9d83c",
   "metadata": {},
   "source": [
    "**Tokenization**\n",
    "\n",
    "> Parsing the text input into tokens.\n",
    "\n",
    "- By default, SpaCy tokenize text into word-level tokens."
   ]
  },
  {
   "cell_type": "code",
   "execution_count": 6,
   "id": "a8de33cb-6ace-4c48-ae17-c6b31000c6de",
   "metadata": {},
   "outputs": [
    {
     "name": "stdout",
     "output_type": "stream",
     "text": [
      "1. I\n",
      "2. am\n",
      "3. flying\n",
      "4. to\n",
      "5. Frisco\n"
     ]
    }
   ],
   "source": [
    "text = \"I am flying to Frisco\"\n",
    "doc = nlp(text)\n",
    "\n",
    "for idx, token in enumerate(doc):\n",
    "    print(f\"{idx + 1}. {token}\")"
   ]
  },
  {
   "cell_type": "markdown",
   "id": "9e0bac49-be2b-4525-82cb-7ec6994f0c80",
   "metadata": {},
   "source": [
    "**Lemmatization**\n",
    "> Process of reducing word forms to their lemma.\n",
    "\n",
    "NOTE: Lemma is a base form of a token. For example \"flying\" is \"fly\"."
   ]
  },
  {
   "cell_type": "code",
   "execution_count": 7,
   "id": "dbfa3c5a-e568-4140-a7df-b9cb24145f61",
   "metadata": {},
   "outputs": [
    {
     "name": "stdout",
     "output_type": "stream",
     "text": [
      "Text Lemma\n",
      "This this\n",
      "product product\n",
      "integrates integrate\n",
      "both both\n",
      "libraries library\n",
      "for for\n",
      "downloading download\n",
      "and and\n",
      "applying apply\n",
      "patches patch\n"
     ]
    }
   ],
   "source": [
    "text = \"This product integrates both libraries for downloading and applying patches\"\n",
    "doc = nlp(text)\n",
    "print(\"Text\", \"Lemma\")\n",
    "for token in doc:\n",
    "    print(token.text, token.lemma_)"
   ]
  },
  {
   "cell_type": "markdown",
   "id": "44f0ed95-a875-4075-97bc-4b245c8669a1",
   "metadata": {},
   "source": [
    "**Case Application Lemmatization: Meaning Recognition.**\n",
    "\n",
    "Suppose that we have NLP application that interacting with an online system that provides an API for booking tickets for trips.\n",
    "\n",
    "The application processes a customer's request, extracting necessary information from it, and then passing on that information to the underlying API.\n",
    "\n",
    "The two information that needed to extract:\n",
    "1. Determine whether the customer wants an air ticket, a railway ticket, or a bus ticket.\n",
    "2. Extract its destination.\n",
    "\n",
    "Ideas:\n",
    "1. Tokenization\n",
    "2. Lemmatization\n",
    "3. Match each token into a predefined list of keywords that help for mapping token into word that represent the customer needed.\n",
    "\n",
    "NOTE: Lemmatization helps programmer to create simple predifined list of keywords."
   ]
  },
  {
   "cell_type": "markdown",
   "id": "6eecdcf7-dc4c-4ac3-bc8c-c297d673c375",
   "metadata": {},
   "source": [
    "![Images](data_spacy/images/ex-app-lemma.png)"
   ]
  },
  {
   "cell_type": "code",
   "execution_count": 8,
   "id": "f16c005f-3618-4fb6-aac2-c7714c9b05de",
   "metadata": {},
   "outputs": [
    {
     "name": "stdout",
     "output_type": "stream",
     "text": [
      "Text Lemma\n",
      "I I\n",
      "am be\n",
      "flying fly\n",
      "to to\n",
      "Frisco San Francisco\n"
     ]
    }
   ],
   "source": [
    "from spacy.symbols import ORTH, NORM\n",
    "from spacy.language import Language\n",
    "\n",
    "# Example simple program\n",
    "\n",
    "input_text = \"I am flying to Frisco\"\n",
    "\n",
    "# Modeling\n",
    "nlp = spacy.load(\"en_core_web_sm\")\n",
    "\n",
    "# Add special case rules (for special token)\n",
    "special_case = [{ORTH: \"Frisco\", NORM: \"San Francisco\"}]\n",
    "nlp.tokenizer.add_special_case(\"Frisco\", special_case)\n",
    "\n",
    "# Custom pipeline component to adjust lemmas\n",
    "@Language.component(\"custom_lemma_setter\")\n",
    "def custom_lemma_setter(doc):\n",
    "    for token in doc:\n",
    "        if token.text == \"Frisco\":\n",
    "            token.lemma_ = \"San Francisco\"  # Set custom lemma\n",
    "    return doc\n",
    "\n",
    "# Add the component after the default lemmatizer in the pipeline\n",
    "nlp.add_pipe(\"custom_lemma_setter\", after=\"lemmatizer\")\n",
    "\n",
    "doc = nlp(input_text)\n",
    "\n",
    "print(\"Text\", \"Lemma\")\n",
    "for token in doc:\n",
    "    print(token.text, token.lemma_)"
   ]
  },
  {
   "cell_type": "markdown",
   "id": "4a797bce-c134-4d87-ae8d-9a82767dd54b",
   "metadata": {},
   "source": [
    "**Part-of-Speech Tagging**\n",
    "> Telling part-of-speech of a given word in a given sentence (noun, verb, and so on).\n",
    "\n",
    "In SpaCy, there are two types parts of speech:\n",
    "1. Coarse-gained parts of speech\n",
    "> Using Token.pos (int) and Token.pos_ (unicode) attributes. \n",
    "\n",
    "2. Fine-grained parts of speech\n",
    "> Using Token.tag (int) and Token.tag_ (unicode) attributes.\n",
    "\n",
    "NOTE: In English, the core of parts of speech include noun, pronoun, determiner, adjective, verb, adverb, preposition, conjunction, and injection.\n",
    "\n",
    "\n",
    "Detail about pos tagging: https://v2.spacy.io/api/annotation#pos-tagging"
   ]
  },
  {
   "cell_type": "code",
   "execution_count": 9,
   "id": "7b0ee653-efd7-480d-a708-dc0519c1bd02",
   "metadata": {},
   "outputs": [
    {
     "name": "stdout",
     "output_type": "stream",
     "text": [
      "1. The DET DT\n",
      "2. United PROPN NNP\n",
      "3. States PROPN NNP\n",
      "4. is AUX VBZ\n",
      "5. a DET DT\n",
      "6. country NOUN NN\n",
      "7. primarily ADV RB\n",
      "8. located VERB VBN\n",
      "9. in ADP IN\n",
      "10. North PROPN NNP\n",
      "11. America PROPN NNP\n"
     ]
    }
   ],
   "source": [
    "# Example\n",
    "\n",
    "text = \"The United States is a country primarily located in North America\"\n",
    "doc = nlp(text)\n",
    "\n",
    "for idx, token in enumerate(doc):\n",
    "    print(f\"{idx + 1}. {token.text}\", token.pos_, token.tag_)"
   ]
  },
  {
   "cell_type": "markdown",
   "id": "9d6ead5d-6be5-4741-bb4e-5456157e7c92",
   "metadata": {},
   "source": [
    "**Case Application POS Tags: Find Relevant Verbs.**\n",
    "\n",
    "Continue our case ticket online system NLP.Since there are possible way to express a word (for example in past, present, future), we need to filter it into what we expect. For example:\n",
    "\n",
    "- I flew to LA.\n",
    "- I have flown to LA.\n",
    "- I need to fly to LA.\n",
    "- I am flying to LA.\n",
    "- I will fly to LA.\n",
    "\n",
    "Notice that although all of these sentences would include the “fly to LA” combination if reduced to lemmas, only some of them imply the customer’s intent to book a plane ticket to LA. The first two definitely aren’t suitable."
   ]
  },
  {
   "cell_type": "code",
   "execution_count": 10,
   "id": "799242cf-a7e3-445b-9a7c-a39032e58087",
   "metadata": {},
   "outputs": [
    {
     "name": "stdout",
     "output_type": "stream",
     "text": [
      "Text Lemma\n",
      "flying -> fly\n",
      "Frisco -> San Francisco\n"
     ]
    }
   ],
   "source": [
    "# According to the table, we can select token with tag_ into 'VBG' or 'VB'\n",
    "# The location will expected to recognize as PROPN\n",
    "\n",
    "input_text = \"I have flown to LA. Now I am flying to Frisco.\"\n",
    "doc = nlp(input_text)\n",
    "print(\"Text\", \"Lemma\")\n",
    "current_idx = 0\n",
    "for token in doc:\n",
    "    if token.tag_ == \"VBG\" or token.tag_ == 'VB':\n",
    "        print(token.text, '->', token.lemma_)\n",
    "        current_idx = token.i\n",
    "    if token.pos_ == \"PROPN\" and current_idx < token.i and current_idx != 0:\n",
    "        print(token.text, '->', token.lemma_)"
   ]
  },
  {
   "cell_type": "markdown",
   "id": "276f438c-14a5-497c-9f40-b7c735b2d593",
   "metadata": {},
   "source": [
    "NOTE: We need to improve our model by adding context of the input text.\n",
    "\n",
    "For example “I’m already in the sky, flying to LA.” or “I’m going to fly to LA.” When submitted to the ticket booking NLP application, the application should interpret only one of these sentences as “I need an air ticket to LA.” "
   ]
  },
  {
   "cell_type": "markdown",
   "id": "43e02f8a-0f2b-4cc5-b357-93ac8875545b",
   "metadata": {},
   "source": [
    "**Syntactic Relations: Dependency Parser**\n",
    "\n",
    "> Dependency parser helps discover syntactic relations between individual tokens in a sentence and connects syntactically related pairs of words with a single arc.\n",
    "\n",
    "\n",
    "Concept:\n",
    "- Head and Child ==> Since it describes syntactic relation between two words, then one word is called Head (or Parent) and the other is child (or Dependent).\n",
    "  \n",
    "      NOTE:\n",
    "  - Each word in a sentence has exactly one head. Consequently, a word can be a child only to one head.\n",
    "  - If a token head is itself, then it is labeled as ROOT.\n",
    "  - A dependency label is always assigned to the child (the arrow in graphical representation always start from head to child).\n",
    " \n",
    "NOTE:\n",
    "- Every complete sentence should have a **verb** with the **ROOT tag** and a subject with the **nsubj tag**. The oterh elements are optional. \n",
    "  \n",
    "\n",
    "Detail info about Dependency: https://v2.spacy.io/api/annotation#dependency-parsing"
   ]
  },
  {
   "cell_type": "code",
   "execution_count": 11,
   "id": "7c67deeb-33f6-4e94-84c4-4453b7b175b1",
   "metadata": {},
   "outputs": [
    {
     "name": "stdout",
     "output_type": "stream",
     "text": [
      "Token Dependency Head\n",
      "I nsubj need\n",
      "need ROOT need\n",
      "a det ticket\n",
      "plane compound ticket\n",
      "ticket dobj need\n"
     ]
    }
   ],
   "source": [
    "# NOTES:\n",
    "# using Token.head to access head token object.\n",
    "# using Token.dep_ to access its dependency\n",
    "\n",
    "# Example\n",
    "text = \"I need a plane ticket\"\n",
    "\n",
    "doc = nlp(text)\n",
    "\n",
    "print(\"Token\", \"Dependency\", \"Head\")\n",
    "for token in doc:\n",
    "    print(token, token.dep_, token.head)"
   ]
  },
  {
   "cell_type": "code",
   "execution_count": 12,
   "id": "0c758ddd-f7b0-4618-9938-470067c70747",
   "metadata": {},
   "outputs": [
    {
     "data": {
      "text/html": [
       "<span class=\"tex2jax_ignore\"><svg xmlns=\"http://www.w3.org/2000/svg\" xmlns:xlink=\"http://www.w3.org/1999/xlink\" xml:lang=\"en\" id=\"1c9f423b7e4849138203fa7d82e08106-0\" class=\"displacy\" width=\"925\" height=\"399.5\" direction=\"ltr\" style=\"max-width: none; height: 399.5px; color: #000000; background: #ffffff; font-family: Arial; direction: ltr\">\n",
       "<text class=\"displacy-token\" fill=\"currentColor\" text-anchor=\"middle\" y=\"309.5\">\n",
       "    <tspan class=\"displacy-word\" fill=\"currentColor\" x=\"50\">I</tspan>\n",
       "    <tspan class=\"displacy-tag\" dy=\"2em\" fill=\"currentColor\" x=\"50\">PRON</tspan>\n",
       "</text>\n",
       "\n",
       "<text class=\"displacy-token\" fill=\"currentColor\" text-anchor=\"middle\" y=\"309.5\">\n",
       "    <tspan class=\"displacy-word\" fill=\"currentColor\" x=\"225\">need</tspan>\n",
       "    <tspan class=\"displacy-tag\" dy=\"2em\" fill=\"currentColor\" x=\"225\">VERB</tspan>\n",
       "</text>\n",
       "\n",
       "<text class=\"displacy-token\" fill=\"currentColor\" text-anchor=\"middle\" y=\"309.5\">\n",
       "    <tspan class=\"displacy-word\" fill=\"currentColor\" x=\"400\">a</tspan>\n",
       "    <tspan class=\"displacy-tag\" dy=\"2em\" fill=\"currentColor\" x=\"400\">DET</tspan>\n",
       "</text>\n",
       "\n",
       "<text class=\"displacy-token\" fill=\"currentColor\" text-anchor=\"middle\" y=\"309.5\">\n",
       "    <tspan class=\"displacy-word\" fill=\"currentColor\" x=\"575\">plane</tspan>\n",
       "    <tspan class=\"displacy-tag\" dy=\"2em\" fill=\"currentColor\" x=\"575\">NOUN</tspan>\n",
       "</text>\n",
       "\n",
       "<text class=\"displacy-token\" fill=\"currentColor\" text-anchor=\"middle\" y=\"309.5\">\n",
       "    <tspan class=\"displacy-word\" fill=\"currentColor\" x=\"750\">ticket</tspan>\n",
       "    <tspan class=\"displacy-tag\" dy=\"2em\" fill=\"currentColor\" x=\"750\">NOUN</tspan>\n",
       "</text>\n",
       "\n",
       "<g class=\"displacy-arrow\">\n",
       "    <path class=\"displacy-arc\" id=\"arrow-1c9f423b7e4849138203fa7d82e08106-0-0\" stroke-width=\"2px\" d=\"M70,264.5 C70,177.0 215.0,177.0 215.0,264.5\" fill=\"none\" stroke=\"currentColor\"/>\n",
       "    <text dy=\"1.25em\" style=\"font-size: 0.8em; letter-spacing: 1px\">\n",
       "        <textPath xlink:href=\"#arrow-1c9f423b7e4849138203fa7d82e08106-0-0\" class=\"displacy-label\" startOffset=\"50%\" side=\"left\" fill=\"currentColor\" text-anchor=\"middle\">nsubj</textPath>\n",
       "    </text>\n",
       "    <path class=\"displacy-arrowhead\" d=\"M70,266.5 L62,254.5 78,254.5\" fill=\"currentColor\"/>\n",
       "</g>\n",
       "\n",
       "<g class=\"displacy-arrow\">\n",
       "    <path class=\"displacy-arc\" id=\"arrow-1c9f423b7e4849138203fa7d82e08106-0-1\" stroke-width=\"2px\" d=\"M420,264.5 C420,89.5 745.0,89.5 745.0,264.5\" fill=\"none\" stroke=\"currentColor\"/>\n",
       "    <text dy=\"1.25em\" style=\"font-size: 0.8em; letter-spacing: 1px\">\n",
       "        <textPath xlink:href=\"#arrow-1c9f423b7e4849138203fa7d82e08106-0-1\" class=\"displacy-label\" startOffset=\"50%\" side=\"left\" fill=\"currentColor\" text-anchor=\"middle\">det</textPath>\n",
       "    </text>\n",
       "    <path class=\"displacy-arrowhead\" d=\"M420,266.5 L412,254.5 428,254.5\" fill=\"currentColor\"/>\n",
       "</g>\n",
       "\n",
       "<g class=\"displacy-arrow\">\n",
       "    <path class=\"displacy-arc\" id=\"arrow-1c9f423b7e4849138203fa7d82e08106-0-2\" stroke-width=\"2px\" d=\"M595,264.5 C595,177.0 740.0,177.0 740.0,264.5\" fill=\"none\" stroke=\"currentColor\"/>\n",
       "    <text dy=\"1.25em\" style=\"font-size: 0.8em; letter-spacing: 1px\">\n",
       "        <textPath xlink:href=\"#arrow-1c9f423b7e4849138203fa7d82e08106-0-2\" class=\"displacy-label\" startOffset=\"50%\" side=\"left\" fill=\"currentColor\" text-anchor=\"middle\">compound</textPath>\n",
       "    </text>\n",
       "    <path class=\"displacy-arrowhead\" d=\"M595,266.5 L587,254.5 603,254.5\" fill=\"currentColor\"/>\n",
       "</g>\n",
       "\n",
       "<g class=\"displacy-arrow\">\n",
       "    <path class=\"displacy-arc\" id=\"arrow-1c9f423b7e4849138203fa7d82e08106-0-3\" stroke-width=\"2px\" d=\"M245,264.5 C245,2.0 750.0,2.0 750.0,264.5\" fill=\"none\" stroke=\"currentColor\"/>\n",
       "    <text dy=\"1.25em\" style=\"font-size: 0.8em; letter-spacing: 1px\">\n",
       "        <textPath xlink:href=\"#arrow-1c9f423b7e4849138203fa7d82e08106-0-3\" class=\"displacy-label\" startOffset=\"50%\" side=\"left\" fill=\"currentColor\" text-anchor=\"middle\">dobj</textPath>\n",
       "    </text>\n",
       "    <path class=\"displacy-arrowhead\" d=\"M750.0,266.5 L758.0,254.5 742.0,254.5\" fill=\"currentColor\"/>\n",
       "</g>\n",
       "</svg></span>"
      ],
      "text/plain": [
       "<IPython.core.display.HTML object>"
      ]
     },
     "metadata": {},
     "output_type": "display_data"
    }
   ],
   "source": [
    "# Visualize it\n",
    "from spacy import displacy\n",
    "# Style as dependency\n",
    "displacy.render(doc, style='dep')"
   ]
  },
  {
   "cell_type": "markdown",
   "id": "586fd676-9ab7-4902-afee-52504e36d71d",
   "metadata": {},
   "source": [
    "**Case Application Syntactic Relations: Find Relevant Verbs.**\n",
    "\n",
    "Continue our case ticket online system NLP. Since there are possible the text input is conjugation of two sentences or more, we need to improve our filter. For example:\n",
    "\n",
    "\"I have flown to LA. Now I am flying to Frisco\"\n",
    "\n",
    "NOTE: In this case, we need a ticket into San Fransisco instead LA."
   ]
  },
  {
   "cell_type": "code",
   "execution_count": 13,
   "id": "f27928d4-aa3a-4562-b91a-0fb4dd76a0ff",
   "metadata": {},
   "outputs": [
    {
     "name": "stdout",
     "output_type": "stream",
     "text": [
      "[flown, LA]\n",
      "[flying, Frisco]\n"
     ]
    }
   ],
   "source": [
    "# Concept: From the pattern of text,\n",
    "#  The verb that represent what transportation do customer needed and the Location as preposition object.\n",
    "\n",
    "text = \"I have flown to LA. Now I am flying to Frisco\"\n",
    "doc = nlp(text)\n",
    "\n",
    "\n",
    "# Tokenize into sentence level\n",
    "sentences = list(doc.sents)\n",
    "for sent in sentences:\n",
    "    storage = []\n",
    "    for word in sent:\n",
    "        if word.dep_ == 'ROOT' or word.dep_ == 'pobj':\n",
    "            storage.append(word)\n",
    "    print(storage)"
   ]
  },
  {
   "cell_type": "markdown",
   "id": "3c30d5f6-acd2-4932-bebb-fcf70e2f5d83",
   "metadata": {},
   "source": [
    "**Named Entity Recognition**\n",
    "> A named entity is a real object that you can refer to by a proper name."
   ]
  },
  {
   "cell_type": "code",
   "execution_count": 14,
   "id": "83857677-68a2-4e95-98cf-3895eba9a5e4",
   "metadata": {},
   "outputs": [
    {
     "name": "stdout",
     "output_type": "stream",
     "text": [
      "Token Entity\n",
      "LA GPE\n",
      "Frisco PERSON\n"
     ]
    }
   ],
   "source": [
    "# NOTES:\n",
    "# - Using Token.ent_type_ to return Entity type of token\n",
    "# - Using Tojen.ent_type to return its int format\n",
    "\n",
    "text = \"I have flown to LA. Now I am flying to Frisco\"\n",
    "doc = nlp(text)\n",
    "\n",
    "print(\"Token\", \"Entity\")\n",
    "for token in doc:\n",
    "    if token.ent_type != 0:\n",
    "        print(token.text, token.ent_type_)"
   ]
  },
  {
   "cell_type": "markdown",
   "id": "046534ae-cf39-4c38-b7db-2417cadba7f2",
   "metadata": {},
   "source": [
    "# Working with Container Objects and Customizing Spacy\n",
    "\n",
    "### Container Objects\n",
    "\n",
    "- The main objects of SpaCy:\n",
    "    1. Container Object: Object that grouping multiple element into a single unit. It can be collected of objects (like tokens or sentences) or a set of annotation. \n",
    "    2. Pipeline Components (such as part-of-speech tagger and named entity recognizer). "
   ]
  },
  {
   "cell_type": "code",
   "execution_count": 15,
   "id": "dd987d4f-3fc4-4828-8568-e1bb3f3532e7",
   "metadata": {},
   "outputs": [
    {
     "name": "stdout",
     "output_type": "stream",
     "text": [
      "Explicit way:  Hi there \n",
      "Return from Spacy NLP Model:  Hi there\n"
     ]
    }
   ],
   "source": [
    "# Create Doc object\n",
    "\n",
    "## Explicity way\n",
    "from spacy.tokens.doc import Doc\n",
    "from spacy.vocab import Vocab\n",
    "\n",
    "doc = Doc(Vocab(), words=[\"Hi\", \"there\"])\n",
    "# NOTES:\n",
    "#  - Vocab object: Storage container that provides vocabulary data, such as lexical types\n",
    "#      (adjective, verb, noun, and so on).\n",
    "#  - words argument: list of tokens to add to the Doc object being created.\n",
    "\n",
    "print(\"Explicit way: \", doc)\n",
    "\n",
    "## By default, SpaCy model return Doc object as we input the text into the nlp model\n",
    "doc = nlp(\"Hi there\")\n",
    "print(\"Return from Spacy NLP Model: \", doc)"
   ]
  },
  {
   "cell_type": "code",
   "execution_count": 17,
   "id": "2bbd3359-bc42-4606-a1fb-f10d2861bea2",
   "metadata": {},
   "outputs": [
    {
     "name": "stdout",
     "output_type": "stream",
     "text": [
      "0. I\n",
      "1. want\n",
      "2. a\n",
      "3. green\n",
      "4. apple\n"
     ]
    }
   ],
   "source": [
    "# Iterating over token\n",
    "\n",
    "doc = nlp(\"I want a green apple\")\n",
    "for token in doc:\n",
    "    print(f\"{token.i}. {token.text}\")"
   ]
  },
  {
   "cell_type": "code",
   "execution_count": 35,
   "id": "09f049f3-c23e-431f-9cf2-7eb8ca458d37",
   "metadata": {},
   "outputs": [
    {
     "name": "stdout",
     "output_type": "stream",
     "text": [
      "The children of apple: [a, green]\n",
      "The children of apple: [a, green]\n"
     ]
    },
    {
     "data": {
      "text/html": [
       "<span class=\"tex2jax_ignore\"><svg xmlns=\"http://www.w3.org/2000/svg\" xmlns:xlink=\"http://www.w3.org/1999/xlink\" xml:lang=\"en\" id=\"7b4abfd4d09c48c99b1b66adde631ebd-0\" class=\"displacy\" width=\"925\" height=\"399.5\" direction=\"ltr\" style=\"max-width: none; height: 399.5px; color: #000000; background: #ffffff; font-family: Arial; direction: ltr\">\n",
       "<text class=\"displacy-token\" fill=\"currentColor\" text-anchor=\"middle\" y=\"309.5\">\n",
       "    <tspan class=\"displacy-word\" fill=\"currentColor\" x=\"50\">I</tspan>\n",
       "    <tspan class=\"displacy-tag\" dy=\"2em\" fill=\"currentColor\" x=\"50\">PRON</tspan>\n",
       "</text>\n",
       "\n",
       "<text class=\"displacy-token\" fill=\"currentColor\" text-anchor=\"middle\" y=\"309.5\">\n",
       "    <tspan class=\"displacy-word\" fill=\"currentColor\" x=\"225\">want</tspan>\n",
       "    <tspan class=\"displacy-tag\" dy=\"2em\" fill=\"currentColor\" x=\"225\">VERB</tspan>\n",
       "</text>\n",
       "\n",
       "<text class=\"displacy-token\" fill=\"currentColor\" text-anchor=\"middle\" y=\"309.5\">\n",
       "    <tspan class=\"displacy-word\" fill=\"currentColor\" x=\"400\">a</tspan>\n",
       "    <tspan class=\"displacy-tag\" dy=\"2em\" fill=\"currentColor\" x=\"400\">DET</tspan>\n",
       "</text>\n",
       "\n",
       "<text class=\"displacy-token\" fill=\"currentColor\" text-anchor=\"middle\" y=\"309.5\">\n",
       "    <tspan class=\"displacy-word\" fill=\"currentColor\" x=\"575\">green</tspan>\n",
       "    <tspan class=\"displacy-tag\" dy=\"2em\" fill=\"currentColor\" x=\"575\">ADJ</tspan>\n",
       "</text>\n",
       "\n",
       "<text class=\"displacy-token\" fill=\"currentColor\" text-anchor=\"middle\" y=\"309.5\">\n",
       "    <tspan class=\"displacy-word\" fill=\"currentColor\" x=\"750\">apple</tspan>\n",
       "    <tspan class=\"displacy-tag\" dy=\"2em\" fill=\"currentColor\" x=\"750\">NOUN</tspan>\n",
       "</text>\n",
       "\n",
       "<g class=\"displacy-arrow\">\n",
       "    <path class=\"displacy-arc\" id=\"arrow-7b4abfd4d09c48c99b1b66adde631ebd-0-0\" stroke-width=\"2px\" d=\"M70,264.5 C70,177.0 215.0,177.0 215.0,264.5\" fill=\"none\" stroke=\"currentColor\"/>\n",
       "    <text dy=\"1.25em\" style=\"font-size: 0.8em; letter-spacing: 1px\">\n",
       "        <textPath xlink:href=\"#arrow-7b4abfd4d09c48c99b1b66adde631ebd-0-0\" class=\"displacy-label\" startOffset=\"50%\" side=\"left\" fill=\"currentColor\" text-anchor=\"middle\">nsubj</textPath>\n",
       "    </text>\n",
       "    <path class=\"displacy-arrowhead\" d=\"M70,266.5 L62,254.5 78,254.5\" fill=\"currentColor\"/>\n",
       "</g>\n",
       "\n",
       "<g class=\"displacy-arrow\">\n",
       "    <path class=\"displacy-arc\" id=\"arrow-7b4abfd4d09c48c99b1b66adde631ebd-0-1\" stroke-width=\"2px\" d=\"M420,264.5 C420,89.5 745.0,89.5 745.0,264.5\" fill=\"none\" stroke=\"currentColor\"/>\n",
       "    <text dy=\"1.25em\" style=\"font-size: 0.8em; letter-spacing: 1px\">\n",
       "        <textPath xlink:href=\"#arrow-7b4abfd4d09c48c99b1b66adde631ebd-0-1\" class=\"displacy-label\" startOffset=\"50%\" side=\"left\" fill=\"currentColor\" text-anchor=\"middle\">det</textPath>\n",
       "    </text>\n",
       "    <path class=\"displacy-arrowhead\" d=\"M420,266.5 L412,254.5 428,254.5\" fill=\"currentColor\"/>\n",
       "</g>\n",
       "\n",
       "<g class=\"displacy-arrow\">\n",
       "    <path class=\"displacy-arc\" id=\"arrow-7b4abfd4d09c48c99b1b66adde631ebd-0-2\" stroke-width=\"2px\" d=\"M595,264.5 C595,177.0 740.0,177.0 740.0,264.5\" fill=\"none\" stroke=\"currentColor\"/>\n",
       "    <text dy=\"1.25em\" style=\"font-size: 0.8em; letter-spacing: 1px\">\n",
       "        <textPath xlink:href=\"#arrow-7b4abfd4d09c48c99b1b66adde631ebd-0-2\" class=\"displacy-label\" startOffset=\"50%\" side=\"left\" fill=\"currentColor\" text-anchor=\"middle\">amod</textPath>\n",
       "    </text>\n",
       "    <path class=\"displacy-arrowhead\" d=\"M595,266.5 L587,254.5 603,254.5\" fill=\"currentColor\"/>\n",
       "</g>\n",
       "\n",
       "<g class=\"displacy-arrow\">\n",
       "    <path class=\"displacy-arc\" id=\"arrow-7b4abfd4d09c48c99b1b66adde631ebd-0-3\" stroke-width=\"2px\" d=\"M245,264.5 C245,2.0 750.0,2.0 750.0,264.5\" fill=\"none\" stroke=\"currentColor\"/>\n",
       "    <text dy=\"1.25em\" style=\"font-size: 0.8em; letter-spacing: 1px\">\n",
       "        <textPath xlink:href=\"#arrow-7b4abfd4d09c48c99b1b66adde631ebd-0-3\" class=\"displacy-label\" startOffset=\"50%\" side=\"left\" fill=\"currentColor\" text-anchor=\"middle\">dobj</textPath>\n",
       "    </text>\n",
       "    <path class=\"displacy-arrowhead\" d=\"M750.0,266.5 L758.0,254.5 742.0,254.5\" fill=\"currentColor\"/>\n",
       "</g>\n",
       "</svg></span>"
      ],
      "text/plain": [
       "<IPython.core.display.HTML object>"
      ]
     },
     "metadata": {},
     "output_type": "display_data"
    }
   ],
   "source": [
    "# Get children\n",
    "# NOTE: By default, SpaCY uses dependency grammar parsing. The structure of Head-Child in token: Head in the right side, Child in left side.\n",
    "# - Token.lefts ==> Return generator\n",
    "# - Token.children ==> Return generator\n",
    "\n",
    "doc = nlp(\"I want a green apple\")\n",
    "print(f\"The children of {doc[4]}: {list(doc[4].lefts)}\")\n",
    "print(f\"The children of {doc[4]}: {list(doc[4].children)}\")\n",
    "\n",
    "\n",
    "from spacy import displacy\n",
    "# Style as dependency\n",
    "displacy.render(doc, style='dep')"
   ]
  },
  {
   "cell_type": "code",
   "execution_count": 46,
   "id": "660f5399-2a05-40c0-a60f-a6ec8619f392",
   "metadata": {},
   "outputs": [
    {
     "name": "stdout",
     "output_type": "stream",
     "text": [
      "1 A severe storm hit the beach.\n",
      "2 It started to rain.\n",
      "Type element Doc.sents:  <class 'spacy.tokens.span.Span'>\n",
      "The second sentence begins with a pronoun.\n",
      "Number of sentences end with a verb:  1\n"
     ]
    }
   ],
   "source": [
    "# Get sentence object\n",
    "# Doc.sents ==> Return generator, each element in span object\n",
    "\n",
    "doc = nlp(\"A severe storm hit the beach. It started to rain.\")\n",
    "for idx, s in enumerate(doc.sents):\n",
    "    print(idx + 1, s.text)\n",
    "\n",
    "print(\"Type element Doc.sents: \", type(s))\n",
    "\n",
    "# Example: check whether the first word in the second sentence of the text being processed is a pronoun\n",
    "for idx, s in enumerate(doc.sents):\n",
    "    if s[0].pos_ == 'PRON' and idx == 1:\n",
    "        print(\"The second sentence begins with a pronoun.\")\n",
    "\n",
    "# Example: find out how many sentences in the text end with a verb\n",
    "count = 0\n",
    "for idx, s in enumerate(doc.sents):\n",
    "    if s[len(s) - 2].pos_ == 'VERB':\n",
    "        count += 1\n",
    "print(\"Number of sentences end with a verb: \", count)"
   ]
  },
  {
   "cell_type": "code",
   "execution_count": 67,
   "id": "97ed8dbd-0fa3-43a0-b359-5d93a75bc17f",
   "metadata": {},
   "outputs": [
    {
     "name": "stdout",
     "output_type": "stream",
     "text": [
      "Chunk noun: \n",
      "The quick brown fox\n",
      "the lazy dog\n",
      "\n",
      "Manual way: \n",
      "The quick brown fox\n",
      "the lazy dog\n"
     ]
    }
   ],
   "source": [
    "# A noun (or phrase noun) that consists of a noun and its immediate dependents, such as adjectives, determiners, or other words\n",
    "#  that modify the noun.\n",
    "\n",
    "# Using Doc.noun_chunks ==> return Span object.\n",
    "\n",
    "doc = nlp(\"The quick brown fox jumped over the lazy dog.\")\n",
    "\n",
    "print(\"Chunk noun: \")\n",
    "for s in doc.noun_chunks:\n",
    "    print(s.text)\n",
    "\n",
    "# Manual code for noun_chunks\n",
    "store = []\n",
    "for token in doc:\n",
    "    if token.pos_ == \"NOUN\":\n",
    "        chunk = \"\"\n",
    "        for w in token.children:\n",
    "            if w.pos_ == \"DET\" or w.pos_ == \"ADJ\":\n",
    "                chunk = chunk + w.text + \" \"\n",
    "        chunk = chunk + token.text\n",
    "        store.append(chunk)\n",
    "\n",
    "print(\"\\nManual way: \")\n",
    "for s in store:\n",
    "    print(s)\n",
    "# NOTE: \n",
    "# - noun chunks can also include some other parts of speech, say, adverbs.\n",
    "# - the words used to modify noun (determiners and adjectives) are always the leftward syntactic children of the noun.\n",
    "#    So basically, we do not have to add \"if w.pos_ == \"DET\" or w.pos_ == \"ADJ\" part.\n",
    "# - the manual code returns string, but doc.noun_chunks returns Span object."
   ]
  },
  {
   "cell_type": "code",
   "execution_count": 63,
   "id": "cd54dd8b-1d6c-486a-8d11-da33c37ef8e3",
   "metadata": {},
   "outputs": [
    {
     "name": "stdout",
     "output_type": "stream",
     "text": [
      "['The quick brown fox', 'the lazy dog']\n"
     ]
    }
   ],
   "source": [
    "# Modification manual code that follows the previous notes.\n",
    "store = []\n",
    "for token in doc:\n",
    "    if token.pos_ == 'NOUN':\n",
    "        chunk = \"\"\n",
    "        for w in token.lefts:\n",
    "            chunk = chunk + w.text + \" \"\n",
    "\n",
    "        chunk = chunk + token.text\n",
    "        store.append(chunk)\n",
    "print(store)"
   ]
  },
  {
   "cell_type": "code",
   "execution_count": null,
   "id": "d5c7234f-a3a3-41dc-8b69-cf6914bec13a",
   "metadata": {},
   "outputs": [],
   "source": [
    "# Span object: a slice from a Doc object.\n",
    "#  Some example Span object: (1) slice doc: Doc[start:end], (2) element Doc.sents, (3) element Doc.noun_chunks."
   ]
  },
  {
   "cell_type": "markdown",
   "id": "e8b9072b-133e-4ac9-ba7e-158eafa79f1a",
   "metadata": {},
   "source": [
    "### Pipeline Object"
   ]
  },
  {
   "cell_type": "code",
   "execution_count": 70,
   "id": "d573287c-cb0e-4fb2-be4b-91401d447362",
   "metadata": {},
   "outputs": [
    {
     "name": "stdout",
     "output_type": "stream",
     "text": [
      "['tok2vec', 'tagger', 'parser', 'attribute_ruler', 'lemmatizer', 'custom_lemma_setter', 'ner']\n"
     ]
    }
   ],
   "source": [
    "# Check what pipeline components are available\n",
    "print(nlp.pipe_names)"
   ]
  },
  {
   "cell_type": "code",
   "execution_count": 72,
   "id": "e9a04283-b107-40a5-9e68-23cb7943cec8",
   "metadata": {},
   "outputs": [
    {
     "name": "stdout",
     "output_type": "stream",
     "text": [
      "['tok2vec', 'tagger', 'attribute_ruler', 'lemmatizer', 'ner']\n",
      "Text POS Dependency (disable)\n",
      "I PRON \n",
      "want VERB \n",
      "a DET \n",
      "green ADJ \n",
      "apple NOUN \n",
      ". PUNCT \n"
     ]
    }
   ],
   "source": [
    "# Disabling pipeline components (from model that already contain specific component)\n",
    "\n",
    "nlp = spacy.load(\"en_core_web_sm\", disable=['parser']) # Disable dependency parser\n",
    "print(nlp.pipe_names)\n",
    "\n",
    "# Try to get dependency label of each token (it won't appears since it is disable)\n",
    "doc = nlp(\"I want a green apple.\")\n",
    "\n",
    "print(\"Text\", \"POS\", \"Dependency (disable)\")\n",
    "for token in doc:\n",
    "    print(token.text, token.pos_, token.dep_)"
   ]
  },
  {
   "cell_type": "code",
   "execution_count": null,
   "id": "61abcf4f-bd88-46f7-a5f7-97d0047c3327",
   "metadata": {},
   "outputs": [],
   "source": []
  },
  {
   "cell_type": "markdown",
   "id": "6ab8d1fb-9c1b-411e-87a2-348059c288bd",
   "metadata": {},
   "source": [
    "# Getting Started with Spacy"
   ]
  },
  {
   "cell_type": "code",
   "execution_count": 109,
   "id": "ace71067-6d1e-4b83-8455-93c1a136e6ee",
   "metadata": {},
   "outputs": [
    {
     "name": "stdout",
     "output_type": "stream",
     "text": [
      "The United States of America (U.S.A. or USA), commonly known as the United States (U.S. or US) or America, is a country primarily located in North America. It consists of 50 states, a federal district, five major unincorporated territories, 326 Indian reservations, and some minor possessions.[j] At 3.8 million square miles (9.8 million square kilometers), it is the world's third- or fourth-largest country by total area.[d] The United States shares significant land borders with Canada to the north and Mexico to the south, as well as limited maritime borders with the Bahamas, Cuba, and Russia.[22] With a population of more than 331 million people, it is the third most populous country in the world. The national capital is Washington, D.C., and the most populous city is New York.\n",
      "\n",
      "Paleo-Indians migrated from Siberia to the North American mainland at least 12,000 years ago, and European colonization began in the 16th century. The United States emerged from the thirteen British colonies established along the East Coast. Disputes over taxation and political representation with Great Britain led to the American Revolutionary War (1775â€“1783), which established independence. In the late 18th century, the U.S. began expanding across North America, gradually obtaining new territories, sometimes through war, frequently displacing Native Americans, and admitting new states; by 1848, the United States spanned the continent. Slavery was legal in the southern United States until the second half of the 19th century when the American Civil War led to its abolition. The Spanishâ€“American War and World War I established the U.S. as a world power, a status confirmed by the outcome of World War II.\n",
      "\n",
      "During the Cold War, the United States fought the Korean War and the Vietnam War but avoided direct military conflict with the Soviet Union. The two superpowers competed in the Space Race, culminating in the 1969 spaceflight that first landed humans on the Moon. The Soviet Union's dissolution in 1991 ended the Cold War, leaving the United States as the world's sole superpower.\n",
      "\n",
      "The United States is a federal republic and a representative democracy with three separate branches of government, including a bicameral legislature. It is a founding member of the United Nations, World Bank, International Monetary Fund, Organization of American States, NATO, and other international organizations. It is a permanent member of the United Nations Security Council. Considered a melting pot of cultures and ethnicities, its population has been profoundly shaped by centuries of immigration. The country ranks high in international measures of economic freedom, quality of life, education, and human rights, and has low levels of perceived corruption. However, the country has received criticism concerning inequality related to race, wealth and income, the use of capital punishment, high incarceration rates, and lack of universal health care.\n",
      "\n",
      "The United States is a highly developed country, accounts for approximately a quarter of global GDP, and is the world's largest economy. By value, the United States is the world's largest importer and the second-largest exporter of goods. Although its population is only 4.2% of the world's total, it holds 29.4% of the total wealth in the world, the largest share held by any country. Making up more than a third of global military spending, it is the foremost military power in the world; and it is a leading political, cultural, and scientific force internationally.[23]\n"
     ]
    }
   ],
   "source": [
    "# Open file\n",
    "with open(\"data_spacy/wiki_us.txt\", \"r\") as f:\n",
    "    text = f.read()\n",
    "\n",
    "print(text)"
   ]
  },
  {
   "cell_type": "code",
   "execution_count": 110,
   "id": "8843ba30-1190-451d-bb26-14f14d9e0ab3",
   "metadata": {},
   "outputs": [
    {
     "data": {
      "text/plain": [
       "spacy.tokens.doc.Doc"
      ]
     },
     "execution_count": 110,
     "metadata": {},
     "output_type": "execute_result"
    }
   ],
   "source": [
    "# Create doc object\n",
    "doc = nlp(text)\n",
    "type(doc)"
   ]
  },
  {
   "cell_type": "code",
   "execution_count": 111,
   "id": "529c52bd-7c5c-45e7-acb3-2f043e57dfac",
   "metadata": {},
   "outputs": [
    {
     "data": {
      "text/plain": [
       "The United States of America (U.S.A. or USA), commonly known as the United States (U.S. or US) or America, is a country primarily located in North America. It consists of 50 states, a federal district, five major unincorporated territories, 326 Indian reservations, and some minor possessions.[j] At 3.8 million square miles (9.8 million square kilometers), it is the world's third- or fourth-largest country by total area.[d] The United States shares significant land borders with Canada to the north and Mexico to the south, as well as limited maritime borders with the Bahamas, Cuba, and Russia.[22] With a population of more than 331 million people, it is the third most populous country in the world. The national capital is Washington, D.C., and the most populous city is New York.\n",
       "\n",
       "Paleo-Indians migrated from Siberia to the North American mainland at least 12,000 years ago, and European colonization began in the 16th century. The United States emerged from the thirteen British colonies established along the East Coast. Disputes over taxation and political representation with Great Britain led to the American Revolutionary War (1775â€“1783), which established independence. In the late 18th century, the U.S. began expanding across North America, gradually obtaining new territories, sometimes through war, frequently displacing Native Americans, and admitting new states; by 1848, the United States spanned the continent. Slavery was legal in the southern United States until the second half of the 19th century when the American Civil War led to its abolition. The Spanishâ€“American War and World War I established the U.S. as a world power, a status confirmed by the outcome of World War II.\n",
       "\n",
       "During the Cold War, the United States fought the Korean War and the Vietnam War but avoided direct military conflict with the Soviet Union. The two superpowers competed in the Space Race, culminating in the 1969 spaceflight that first landed humans on the Moon. The Soviet Union's dissolution in 1991 ended the Cold War, leaving the United States as the world's sole superpower.\n",
       "\n",
       "The United States is a federal republic and a representative democracy with three separate branches of government, including a bicameral legislature. It is a founding member of the United Nations, World Bank, International Monetary Fund, Organization of American States, NATO, and other international organizations. It is a permanent member of the United Nations Security Council. Considered a melting pot of cultures and ethnicities, its population has been profoundly shaped by centuries of immigration. The country ranks high in international measures of economic freedom, quality of life, education, and human rights, and has low levels of perceived corruption. However, the country has received criticism concerning inequality related to race, wealth and income, the use of capital punishment, high incarceration rates, and lack of universal health care.\n",
       "\n",
       "The United States is a highly developed country, accounts for approximately a quarter of global GDP, and is the world's largest economy. By value, the United States is the world's largest importer and the second-largest exporter of goods. Although its population is only 4.2% of the world's total, it holds 29.4% of the total wealth in the world, the largest share held by any country. Making up more than a third of global military spending, it is the foremost military power in the world; and it is a leading political, cultural, and scientific force internationally.[23]"
      ]
     },
     "execution_count": 111,
     "metadata": {},
     "output_type": "execute_result"
    }
   ],
   "source": [
    "doc"
   ]
  },
  {
   "cell_type": "code",
   "execution_count": 112,
   "id": "2fd92353-de05-40df-a1d8-c2ae63681efc",
   "metadata": {},
   "outputs": [
    {
     "name": "stdout",
     "output_type": "stream",
     "text": [
      "Text length:  3525\n",
      "Doc object length:  652\n"
     ]
    }
   ],
   "source": [
    "# Compare length text and Doc object\n",
    "print(\"Text length: \", len(text))\n",
    "print(\"Doc object length: \", len(doc))"
   ]
  },
  {
   "cell_type": "code",
   "execution_count": 113,
   "id": "0a9c2c99-da92-4465-a19b-7bed1c2c4b1f",
   "metadata": {},
   "outputs": [
    {
     "name": "stdout",
     "output_type": "stream",
     "text": [
      "Text element: \n",
      "T\n",
      "h\n",
      "e\n",
      " \n",
      "U\n",
      "n\n",
      "i\n",
      "t\n",
      "e\n",
      "d\n",
      "\n",
      "Doc object element: \n",
      "The\n",
      "United\n",
      "States\n",
      "of\n",
      "America\n",
      "(\n",
      "U.S.A.\n",
      "or\n",
      "USA\n",
      ")\n"
     ]
    }
   ],
   "source": [
    "# Compare element of text and Doc object\n",
    "print(f\"Text element: \")\n",
    "for token in text[0:10]:\n",
    "    print(token)\n",
    "\n",
    "print(\"\\nDoc object element: \")\n",
    "for token in doc[0:10]:\n",
    "    print(token)"
   ]
  },
  {
   "cell_type": "code",
   "execution_count": 114,
   "id": "dc0c216b-91a3-468c-8651-74d365ec4cf3",
   "metadata": {},
   "outputs": [
    {
     "name": "stdout",
     "output_type": "stream",
     "text": [
      "Text split\n",
      "The\n",
      "United\n",
      "States\n",
      "of\n",
      "America\n",
      "(U.S.A.\n",
      "or\n",
      "USA),\n",
      "commonly\n",
      "known\n",
      "\n",
      "Tokenization rules:\n",
      "The\n",
      "United\n",
      "States\n",
      "of\n",
      "America\n",
      "(\n",
      "U.S.A.\n",
      "or\n",
      "USA\n",
      ")\n"
     ]
    }
   ],
   "source": [
    "# Tokenization based on rules spacy vs string split\n",
    "print(\"Text split\")\n",
    "for token in text.split()[:10]:\n",
    "    print(token)\n",
    "\n",
    "print(\"\\nTokenization rules:\")\n",
    "for token in doc[:10]:\n",
    "    print(token)"
   ]
  },
  {
   "cell_type": "code",
   "execution_count": 115,
   "id": "5926fef5-fc8e-44c4-8c9d-fa740806858a",
   "metadata": {},
   "outputs": [
    {
     "name": "stdout",
     "output_type": "stream",
     "text": [
      "1. The United States of America (U.S.A. or USA), commonly known as the United States (U.S. or US) or America, is a country primarily located in North America.\n",
      "2. It consists of 50 states, a federal district, five major unincorporated territories, 326 Indian reservations, and some minor possessions.[j]\n",
      "3. At 3.8 million square miles (9.8 million square kilometers), it is the world's third- or fourth-largest country by total area.[d]\n",
      "4. The United States shares significant land borders with Canada to the north and Mexico to the south, as well as limited maritime borders with the Bahamas, Cuba, and Russia.[22]\n",
      "5. With a population of more than 331 million people, it is the third most populous country in the world.\n",
      "6. The national capital is Washington, D.C., and the most populous city is New York.\n",
      "\n",
      "\n",
      "7. Paleo-Indians migrated from Siberia to the North American mainland at least 12,000 years ago, and European colonization began in the 16th century.\n",
      "8. The United States emerged from the thirteen British colonies established along the East Coast.\n",
      "9. Disputes over taxation and political representation with Great Britain led to the American Revolutionary War (1775â€“1783), which established independence.\n",
      "10. In the late 18th century, the U.S. began expanding across North America, gradually obtaining new territories, sometimes through war, frequently displacing Native Americans, and admitting new states; by 1848, the United States spanned the continent.\n",
      "\n",
      "Span object:  <class 'spacy.tokens.span.Span'>\n",
      "Token object:  <class 'spacy.tokens.token.Token'>\n"
     ]
    }
   ],
   "source": [
    "# Try to get sentence-based tokenization Doc object\n",
    "# Note: using \"sents\" attribute. The Doc.sents return generator.\n",
    "#        Each element of generator is Span object.\n",
    "#        The Span object contains Token objects\n",
    "\n",
    "for idx, sent in enumerate(list(doc.sents)[:10]):\n",
    "    print(f\"{idx + 1}. {sent}\")\n",
    "\n",
    "print()\n",
    "print(\"Span object: \", type(sent))\n",
    "print(\"Token object: \", type(sent[0]))"
   ]
  },
  {
   "cell_type": "markdown",
   "id": "3dc3080f-cb2a-47ad-864a-11a27976464d",
   "metadata": {},
   "source": [
    "NOTE: \n",
    "- Doc object contains individual token (based on tokenization rules), but the text input contains individual character.\n",
    "- By default, Doc object will word-based tokenize the input.\n",
    "- Doc, Span, or Token object have their own meta-data."
   ]
  },
  {
   "cell_type": "markdown",
   "id": "3bb1045a-b5ad-4a0e-8bb5-6d7cd547a3c1",
   "metadata": {},
   "source": [
    "## Extract meta-data from Token Object\n",
    "\n",
    "In this example we use Token object."
   ]
  },
  {
   "cell_type": "code",
   "execution_count": 116,
   "id": "2fb50a7c-16bc-4722-b697-4286aa1209f6",
   "metadata": {},
   "outputs": [
    {
     "name": "stdout",
     "output_type": "stream",
     "text": [
      "Main sentence:\n",
      " The United States of America (U.S.A. or USA), commonly known as the United States (U.S. or US) or America, is a country primarily located in North America.\n",
      "<class 'spacy.tokens.span.Span'>\n",
      "<class 'spacy.tokens.token.Token'>\n"
     ]
    }
   ],
   "source": [
    "# Tokens object properties\n",
    "\n",
    "sentence1 = list(doc.sents)[0]\n",
    "print(\"Main sentence:\\n\", sentence1.text)\n",
    "print(type(sentence1))\n",
    "\n",
    "token1 = sentence1[12]\n",
    "print(type(token1))"
   ]
  },
  {
   "cell_type": "code",
   "execution_count": 117,
   "id": "51956576-8487-4b1d-9daa-b734b866ff06",
   "metadata": {},
   "outputs": [
    {
     "data": {
      "text/plain": [
       "'known'"
      ]
     },
     "execution_count": 117,
     "metadata": {},
     "output_type": "execute_result"
    }
   ],
   "source": [
    "# Get text (string format type)\n",
    "#  Use \"text\" properties.\n",
    "\n",
    "token1.text"
   ]
  },
  {
   "cell_type": "code",
   "execution_count": 118,
   "id": "96d8f3bf-2acb-4b88-a5fa-6c9181be465e",
   "metadata": {},
   "outputs": [
    {
     "data": {
      "text/plain": [
       "States"
      ]
     },
     "execution_count": 118,
     "metadata": {},
     "output_type": "execute_result"
    }
   ],
   "source": [
    "# Get which word (Token object) it is governed by.\n",
    "#  Return Token object\n",
    "token1.head"
   ]
  },
  {
   "cell_type": "code",
   "execution_count": 119,
   "id": "7838e41c-bf7d-4419-8862-6d2d44181c5f",
   "metadata": {},
   "outputs": [
    {
     "data": {
      "text/plain": [
       "commonly"
      ]
     },
     "execution_count": 119,
     "metadata": {},
     "output_type": "execute_result"
    }
   ],
   "source": [
    "# Get the leftmost token of this token's syntactic descendants.\n",
    "#  Return Token object\n",
    "token1.left_edge"
   ]
  },
  {
   "cell_type": "code",
   "execution_count": 120,
   "id": "d5ab5609-4d5d-44ca-af09-74a9f79456c2",
   "metadata": {},
   "outputs": [
    {
     "data": {
      "text/plain": [
       "America"
      ]
     },
     "execution_count": 120,
     "metadata": {},
     "output_type": "execute_result"
    }
   ],
   "source": [
    "# Get the rightmost token of this token's syntactic descendants.\n",
    "#  Return Token object\n",
    "token1.right_edge"
   ]
  },
  {
   "cell_type": "code",
   "execution_count": 121,
   "id": "357da34d-a02e-4f25-b520-a699280115b2",
   "metadata": {},
   "outputs": [
    {
     "name": "stdout",
     "output_type": "stream",
     "text": [
      "384\n",
      "GPE\n"
     ]
    }
   ],
   "source": [
    "# Entity Type\n",
    "print(sentence1[2].ent_type) # Return integer that corresponds to an entity type.\n",
    "print(sentence1[2].ent_type_) # Return string name entity type."
   ]
  },
  {
   "cell_type": "markdown",
   "id": "f88932f9-3597-4341-82ce-19baa837f6b9",
   "metadata": {},
   "source": [
    "Some explanations:\n",
    "- PERSON: People, Including Fictional.\n",
    "- NORP: Nationalities or religious or political groups. \n",
    "- FAC: Buildings, airports, highways, bridges, etc.\n",
    "- ORG: Companies, agencies, institutions, etc.\n",
    "- GPE: Countries, cities, states.\n",
    "- LOC: Non-GPE locations, mountain ranges, bodies of water.\n",
    "- PRODUCT: Objects, vehicles, foods, etc. (Not services.)\n",
    "- EVENT: Named hurricanes, battles, wars, sports events, etc.\n",
    "- WORK_OF_ART: Titles of books, songs, etc.\n",
    "- LAW: Named documents made into laws.\n",
    "- LANGUAGE: Any named language.\n",
    "- DATE: Absolute or relative dates or periods.\n",
    "- TIME: Times smaller than a day.\n",
    "- PERCENT: Percentage, including ”%“.\n",
    "- MONEY: Monetary values, including unit.\n",
    "- QUANTITY: Measurements, as of weight or distance.\n",
    "- ORDINAL: “first”, “second”, etc.\n",
    "- CARDINAL: Numerals that do not fall under another type.\n",
    "der another type."
   ]
  },
  {
   "cell_type": "code",
   "execution_count": 122,
   "id": "27d058e3-300d-4b40-bd29-eff377a7438f",
   "metadata": {},
   "outputs": [
    {
     "name": "stdout",
     "output_type": "stream",
     "text": [
      "known O\n",
      "known 2\n",
      "States I\n",
      "States 1\n"
     ]
    }
   ],
   "source": [
    "# IOB Entity Method --> IOB code of named entity tag.\n",
    "#   “B” means the token begins an entity, \n",
    "#   “I” means it is inside an entity, \n",
    "#   “O” means it is outside an entity, \n",
    "#   and \"\" means no entity tag is set.\n",
    "\n",
    "print(token1, token1.ent_iob_) # Return string name entity type.\n",
    "print(token1, token1.ent_iob) # Return integer that corresponds to an entity type.\n",
    "print(sentence1[2], sentence1[2].ent_iob_)\n",
    "print(sentence1[2], sentence1[2].ent_iob)"
   ]
  },
  {
   "cell_type": "code",
   "execution_count": 123,
   "id": "0eb2d136-292f-4d24-a0d8-4b7327acc307",
   "metadata": {},
   "outputs": [
    {
     "name": "stdout",
     "output_type": "stream",
     "text": [
      "know\n"
     ]
    }
   ],
   "source": [
    "# Lemma --> Get base form of token, with no inflectional suffixes.\n",
    "print(token1.lemma_)"
   ]
  },
  {
   "cell_type": "code",
   "execution_count": 124,
   "id": "32490a14-43e0-4182-a48a-03d65e8a6a27",
   "metadata": {},
   "outputs": [
    {
     "name": "stdout",
     "output_type": "stream",
     "text": [
      "known\n",
      "Aspect=Perf|Tense=Past|VerbForm=Part\n"
     ]
    }
   ],
   "source": [
    "# Morph Analysis\n",
    "#  Return MorphAnalysis object.\n",
    "\n",
    "print(token1)\n",
    "print(token1.morph)"
   ]
  },
  {
   "cell_type": "markdown",
   "id": "ce13a97c-8073-4ba1-a2eb-f6be9b3c160a",
   "metadata": {},
   "source": [
    "NOTE:\n",
    "- Aspect refers to how an action, event, or state, expressed by a verb.\n",
    "- Aspect=Perf ==> Perfective Aspect, indicates the action is completed.\n",
    "- Tense=Past ==> Past Tense\n",
    "- VerbForm=Part ==> Part stands for participle, participles are typically used in conjunction with auxiliary verbs to form different tenses or aspects."
   ]
  },
  {
   "cell_type": "code",
   "execution_count": 125,
   "id": "fb5b901f-9566-4930-8611-a562506d6c27",
   "metadata": {},
   "outputs": [
    {
     "name": "stdout",
     "output_type": "stream",
     "text": [
      "VERB\n"
     ]
    }
   ],
   "source": [
    "# Coarse-grained part-of-speech from the Universal POS tag set\n",
    "print(token1.pos_)"
   ]
  },
  {
   "cell_type": "code",
   "execution_count": 126,
   "id": "0eecdad0-506e-4c73-b387-5f455bb1427b",
   "metadata": {},
   "outputs": [
    {
     "name": "stdout",
     "output_type": "stream",
     "text": [
      "acl\n"
     ]
    }
   ],
   "source": [
    "# Syntatic dependency relation\n",
    "print(token1.dep_)"
   ]
  },
  {
   "cell_type": "code",
   "execution_count": 127,
   "id": "027a0740-0fd1-4fad-b3a1-8de0e9734361",
   "metadata": {},
   "outputs": [
    {
     "name": "stdout",
     "output_type": "stream",
     "text": [
      "en\n"
     ]
    }
   ],
   "source": [
    "# Language of the parent document's vocabulary\n",
    "print(token1.lang_)"
   ]
  },
  {
   "cell_type": "code",
   "execution_count": 128,
   "id": "e9e28939-4925-41f1-8c3e-3dc47c050977",
   "metadata": {},
   "outputs": [
    {
     "name": "stdout",
     "output_type": "stream",
     "text": [
      "Mike enjoys playing football.\n"
     ]
    }
   ],
   "source": [
    "# Try another example\n",
    "text = \"Mike enjoys playing football.\"\n",
    "doc2 = nlp(text)\n",
    "print(doc2)"
   ]
  },
  {
   "cell_type": "code",
   "execution_count": 129,
   "id": "bbb310ba-1dd5-4ff7-b2e6-17de66056558",
   "metadata": {},
   "outputs": [
    {
     "name": "stdout",
     "output_type": "stream",
     "text": [
      "Mike PROPN nsubj\n",
      "enjoys VERB ROOT\n",
      "playing VERB xcomp\n",
      "football NOUN dobj\n",
      ". PUNCT punct\n"
     ]
    }
   ],
   "source": [
    "for token in doc2:\n",
    "    print(token.text, token.pos_, token.dep_)"
   ]
  },
  {
   "cell_type": "code",
   "execution_count": 130,
   "id": "a4b166aa-64c8-448a-bb97-fbc3a2b88945",
   "metadata": {},
   "outputs": [
    {
     "data": {
      "text/html": [
       "<span class=\"tex2jax_ignore\"><svg xmlns=\"http://www.w3.org/2000/svg\" xmlns:xlink=\"http://www.w3.org/1999/xlink\" xml:lang=\"en\" id=\"75acc598c1bb4431985a19c1a28baf2e-0\" class=\"displacy\" width=\"750\" height=\"224.5\" direction=\"ltr\" style=\"max-width: none; height: 224.5px; color: #000000; background: #ffffff; font-family: Arial; direction: ltr\">\n",
       "<text class=\"displacy-token\" fill=\"currentColor\" text-anchor=\"middle\" y=\"134.5\">\n",
       "    <tspan class=\"displacy-word\" fill=\"currentColor\" x=\"50\">Mike</tspan>\n",
       "    <tspan class=\"displacy-tag\" dy=\"2em\" fill=\"currentColor\" x=\"50\">PROPN</tspan>\n",
       "</text>\n",
       "\n",
       "<text class=\"displacy-token\" fill=\"currentColor\" text-anchor=\"middle\" y=\"134.5\">\n",
       "    <tspan class=\"displacy-word\" fill=\"currentColor\" x=\"225\">enjoys</tspan>\n",
       "    <tspan class=\"displacy-tag\" dy=\"2em\" fill=\"currentColor\" x=\"225\">VERB</tspan>\n",
       "</text>\n",
       "\n",
       "<text class=\"displacy-token\" fill=\"currentColor\" text-anchor=\"middle\" y=\"134.5\">\n",
       "    <tspan class=\"displacy-word\" fill=\"currentColor\" x=\"400\">playing</tspan>\n",
       "    <tspan class=\"displacy-tag\" dy=\"2em\" fill=\"currentColor\" x=\"400\">VERB</tspan>\n",
       "</text>\n",
       "\n",
       "<text class=\"displacy-token\" fill=\"currentColor\" text-anchor=\"middle\" y=\"134.5\">\n",
       "    <tspan class=\"displacy-word\" fill=\"currentColor\" x=\"575\">football.</tspan>\n",
       "    <tspan class=\"displacy-tag\" dy=\"2em\" fill=\"currentColor\" x=\"575\">NOUN</tspan>\n",
       "</text>\n",
       "\n",
       "<g class=\"displacy-arrow\">\n",
       "    <path class=\"displacy-arc\" id=\"arrow-75acc598c1bb4431985a19c1a28baf2e-0-0\" stroke-width=\"2px\" d=\"M70,89.5 C70,2.0 225.0,2.0 225.0,89.5\" fill=\"none\" stroke=\"currentColor\"/>\n",
       "    <text dy=\"1.25em\" style=\"font-size: 0.8em; letter-spacing: 1px\">\n",
       "        <textPath xlink:href=\"#arrow-75acc598c1bb4431985a19c1a28baf2e-0-0\" class=\"displacy-label\" startOffset=\"50%\" side=\"left\" fill=\"currentColor\" text-anchor=\"middle\">nsubj</textPath>\n",
       "    </text>\n",
       "    <path class=\"displacy-arrowhead\" d=\"M70,91.5 L62,79.5 78,79.5\" fill=\"currentColor\"/>\n",
       "</g>\n",
       "\n",
       "<g class=\"displacy-arrow\">\n",
       "    <path class=\"displacy-arc\" id=\"arrow-75acc598c1bb4431985a19c1a28baf2e-0-1\" stroke-width=\"2px\" d=\"M245,89.5 C245,2.0 400.0,2.0 400.0,89.5\" fill=\"none\" stroke=\"currentColor\"/>\n",
       "    <text dy=\"1.25em\" style=\"font-size: 0.8em; letter-spacing: 1px\">\n",
       "        <textPath xlink:href=\"#arrow-75acc598c1bb4431985a19c1a28baf2e-0-1\" class=\"displacy-label\" startOffset=\"50%\" side=\"left\" fill=\"currentColor\" text-anchor=\"middle\">xcomp</textPath>\n",
       "    </text>\n",
       "    <path class=\"displacy-arrowhead\" d=\"M400.0,91.5 L408.0,79.5 392.0,79.5\" fill=\"currentColor\"/>\n",
       "</g>\n",
       "\n",
       "<g class=\"displacy-arrow\">\n",
       "    <path class=\"displacy-arc\" id=\"arrow-75acc598c1bb4431985a19c1a28baf2e-0-2\" stroke-width=\"2px\" d=\"M420,89.5 C420,2.0 575.0,2.0 575.0,89.5\" fill=\"none\" stroke=\"currentColor\"/>\n",
       "    <text dy=\"1.25em\" style=\"font-size: 0.8em; letter-spacing: 1px\">\n",
       "        <textPath xlink:href=\"#arrow-75acc598c1bb4431985a19c1a28baf2e-0-2\" class=\"displacy-label\" startOffset=\"50%\" side=\"left\" fill=\"currentColor\" text-anchor=\"middle\">dobj</textPath>\n",
       "    </text>\n",
       "    <path class=\"displacy-arrowhead\" d=\"M575.0,91.5 L583.0,79.5 567.0,79.5\" fill=\"currentColor\"/>\n",
       "</g>\n",
       "</svg></span>"
      ],
      "text/plain": [
       "<IPython.core.display.HTML object>"
      ]
     },
     "metadata": {},
     "output_type": "display_data"
    }
   ],
   "source": [
    "# Visualize it\n",
    "from spacy import displacy\n",
    "# Style as dependency\n",
    "displacy.render(doc2, style='dep')"
   ]
  },
  {
   "cell_type": "code",
   "execution_count": 131,
   "id": "cef62d23-9d2c-4c2d-8b36-9287feb7764f",
   "metadata": {},
   "outputs": [
    {
     "data": {
      "text/html": [
       "<span class=\"tex2jax_ignore\"><div class=\"entities\" style=\"line-height: 2.5; direction: ltr\">\n",
       "<mark class=\"entity\" style=\"background: #aa9cfc; padding: 0.45em 0.6em; margin: 0 0.25em; line-height: 1; border-radius: 0.35em;\">\n",
       "    Mike\n",
       "    <span style=\"font-size: 0.8em; font-weight: bold; line-height: 1; border-radius: 0.35em; vertical-align: middle; margin-left: 0.5rem\">PERSON</span>\n",
       "</mark>\n",
       " enjoys playing football.</div></span>"
      ],
      "text/plain": [
       "<IPython.core.display.HTML object>"
      ]
     },
     "metadata": {},
     "output_type": "display_data"
    }
   ],
   "source": [
    "# Style based on entities\n",
    "displacy.render(doc2, style='ent')"
   ]
  },
  {
   "cell_type": "code",
   "execution_count": 132,
   "id": "e22577b5-1cf5-4880-a3d8-9ddbaa46d8ec",
   "metadata": {},
   "outputs": [
    {
     "data": {
      "text/html": [
       "<span class=\"tex2jax_ignore\"><div class=\"entities\" style=\"line-height: 2.5; direction: ltr\">\n",
       "<mark class=\"entity\" style=\"background: #feca74; padding: 0.45em 0.6em; margin: 0 0.25em; line-height: 1; border-radius: 0.35em;\">\n",
       "    The United States of America\n",
       "    <span style=\"font-size: 0.8em; font-weight: bold; line-height: 1; border-radius: 0.35em; vertical-align: middle; margin-left: 0.5rem\">GPE</span>\n",
       "</mark>\n",
       " (\n",
       "<mark class=\"entity\" style=\"background: #feca74; padding: 0.45em 0.6em; margin: 0 0.25em; line-height: 1; border-radius: 0.35em;\">\n",
       "    U.S.A.\n",
       "    <span style=\"font-size: 0.8em; font-weight: bold; line-height: 1; border-radius: 0.35em; vertical-align: middle; margin-left: 0.5rem\">GPE</span>\n",
       "</mark>\n",
       " or \n",
       "<mark class=\"entity\" style=\"background: #feca74; padding: 0.45em 0.6em; margin: 0 0.25em; line-height: 1; border-radius: 0.35em;\">\n",
       "    USA\n",
       "    <span style=\"font-size: 0.8em; font-weight: bold; line-height: 1; border-radius: 0.35em; vertical-align: middle; margin-left: 0.5rem\">GPE</span>\n",
       "</mark>\n",
       "), commonly known as \n",
       "<mark class=\"entity\" style=\"background: #feca74; padding: 0.45em 0.6em; margin: 0 0.25em; line-height: 1; border-radius: 0.35em;\">\n",
       "    the United States\n",
       "    <span style=\"font-size: 0.8em; font-weight: bold; line-height: 1; border-radius: 0.35em; vertical-align: middle; margin-left: 0.5rem\">GPE</span>\n",
       "</mark>\n",
       " (\n",
       "<mark class=\"entity\" style=\"background: #feca74; padding: 0.45em 0.6em; margin: 0 0.25em; line-height: 1; border-radius: 0.35em;\">\n",
       "    U.S.\n",
       "    <span style=\"font-size: 0.8em; font-weight: bold; line-height: 1; border-radius: 0.35em; vertical-align: middle; margin-left: 0.5rem\">GPE</span>\n",
       "</mark>\n",
       " or \n",
       "<mark class=\"entity\" style=\"background: #feca74; padding: 0.45em 0.6em; margin: 0 0.25em; line-height: 1; border-radius: 0.35em;\">\n",
       "    US\n",
       "    <span style=\"font-size: 0.8em; font-weight: bold; line-height: 1; border-radius: 0.35em; vertical-align: middle; margin-left: 0.5rem\">GPE</span>\n",
       "</mark>\n",
       ") or \n",
       "<mark class=\"entity\" style=\"background: #feca74; padding: 0.45em 0.6em; margin: 0 0.25em; line-height: 1; border-radius: 0.35em;\">\n",
       "    America\n",
       "    <span style=\"font-size: 0.8em; font-weight: bold; line-height: 1; border-radius: 0.35em; vertical-align: middle; margin-left: 0.5rem\">GPE</span>\n",
       "</mark>\n",
       ", is a country primarily located in \n",
       "<mark class=\"entity\" style=\"background: #ff9561; padding: 0.45em 0.6em; margin: 0 0.25em; line-height: 1; border-radius: 0.35em;\">\n",
       "    North America\n",
       "    <span style=\"font-size: 0.8em; font-weight: bold; line-height: 1; border-radius: 0.35em; vertical-align: middle; margin-left: 0.5rem\">LOC</span>\n",
       "</mark>\n",
       ". It consists of \n",
       "<mark class=\"entity\" style=\"background: #e4e7d2; padding: 0.45em 0.6em; margin: 0 0.25em; line-height: 1; border-radius: 0.35em;\">\n",
       "    50\n",
       "    <span style=\"font-size: 0.8em; font-weight: bold; line-height: 1; border-radius: 0.35em; vertical-align: middle; margin-left: 0.5rem\">CARDINAL</span>\n",
       "</mark>\n",
       " states, a federal district, \n",
       "<mark class=\"entity\" style=\"background: #e4e7d2; padding: 0.45em 0.6em; margin: 0 0.25em; line-height: 1; border-radius: 0.35em;\">\n",
       "    five\n",
       "    <span style=\"font-size: 0.8em; font-weight: bold; line-height: 1; border-radius: 0.35em; vertical-align: middle; margin-left: 0.5rem\">CARDINAL</span>\n",
       "</mark>\n",
       " major unincorporated territories, \n",
       "<mark class=\"entity\" style=\"background: #e4e7d2; padding: 0.45em 0.6em; margin: 0 0.25em; line-height: 1; border-radius: 0.35em;\">\n",
       "    326\n",
       "    <span style=\"font-size: 0.8em; font-weight: bold; line-height: 1; border-radius: 0.35em; vertical-align: middle; margin-left: 0.5rem\">CARDINAL</span>\n",
       "</mark>\n",
       " \n",
       "<mark class=\"entity\" style=\"background: #c887fb; padding: 0.45em 0.6em; margin: 0 0.25em; line-height: 1; border-radius: 0.35em;\">\n",
       "    Indian\n",
       "    <span style=\"font-size: 0.8em; font-weight: bold; line-height: 1; border-radius: 0.35em; vertical-align: middle; margin-left: 0.5rem\">NORP</span>\n",
       "</mark>\n",
       " reservations, and some minor possessions.[j] At \n",
       "<mark class=\"entity\" style=\"background: #e4e7d2; padding: 0.45em 0.6em; margin: 0 0.25em; line-height: 1; border-radius: 0.35em;\">\n",
       "    3.8 million square miles\n",
       "    <span style=\"font-size: 0.8em; font-weight: bold; line-height: 1; border-radius: 0.35em; vertical-align: middle; margin-left: 0.5rem\">QUANTITY</span>\n",
       "</mark>\n",
       " (\n",
       "<mark class=\"entity\" style=\"background: #e4e7d2; padding: 0.45em 0.6em; margin: 0 0.25em; line-height: 1; border-radius: 0.35em;\">\n",
       "    9.8 million square kilometers\n",
       "    <span style=\"font-size: 0.8em; font-weight: bold; line-height: 1; border-radius: 0.35em; vertical-align: middle; margin-left: 0.5rem\">QUANTITY</span>\n",
       "</mark>\n",
       "), it is the world's third- or \n",
       "<mark class=\"entity\" style=\"background: #e4e7d2; padding: 0.45em 0.6em; margin: 0 0.25em; line-height: 1; border-radius: 0.35em;\">\n",
       "    fourth\n",
       "    <span style=\"font-size: 0.8em; font-weight: bold; line-height: 1; border-radius: 0.35em; vertical-align: middle; margin-left: 0.5rem\">ORDINAL</span>\n",
       "</mark>\n",
       "-largest country by total area.[d] \n",
       "<mark class=\"entity\" style=\"background: #feca74; padding: 0.45em 0.6em; margin: 0 0.25em; line-height: 1; border-radius: 0.35em;\">\n",
       "    The United States\n",
       "    <span style=\"font-size: 0.8em; font-weight: bold; line-height: 1; border-radius: 0.35em; vertical-align: middle; margin-left: 0.5rem\">GPE</span>\n",
       "</mark>\n",
       " shares significant land borders with \n",
       "<mark class=\"entity\" style=\"background: #feca74; padding: 0.45em 0.6em; margin: 0 0.25em; line-height: 1; border-radius: 0.35em;\">\n",
       "    Canada\n",
       "    <span style=\"font-size: 0.8em; font-weight: bold; line-height: 1; border-radius: 0.35em; vertical-align: middle; margin-left: 0.5rem\">GPE</span>\n",
       "</mark>\n",
       " to the north and \n",
       "<mark class=\"entity\" style=\"background: #feca74; padding: 0.45em 0.6em; margin: 0 0.25em; line-height: 1; border-radius: 0.35em;\">\n",
       "    Mexico\n",
       "    <span style=\"font-size: 0.8em; font-weight: bold; line-height: 1; border-radius: 0.35em; vertical-align: middle; margin-left: 0.5rem\">GPE</span>\n",
       "</mark>\n",
       " to the south, as well as limited maritime borders with the \n",
       "<mark class=\"entity\" style=\"background: #feca74; padding: 0.45em 0.6em; margin: 0 0.25em; line-height: 1; border-radius: 0.35em;\">\n",
       "    Bahamas\n",
       "    <span style=\"font-size: 0.8em; font-weight: bold; line-height: 1; border-radius: 0.35em; vertical-align: middle; margin-left: 0.5rem\">GPE</span>\n",
       "</mark>\n",
       ", \n",
       "<mark class=\"entity\" style=\"background: #feca74; padding: 0.45em 0.6em; margin: 0 0.25em; line-height: 1; border-radius: 0.35em;\">\n",
       "    Cuba\n",
       "    <span style=\"font-size: 0.8em; font-weight: bold; line-height: 1; border-radius: 0.35em; vertical-align: middle; margin-left: 0.5rem\">GPE</span>\n",
       "</mark>\n",
       ", and Russia.[22] With a population of \n",
       "<mark class=\"entity\" style=\"background: #e4e7d2; padding: 0.45em 0.6em; margin: 0 0.25em; line-height: 1; border-radius: 0.35em;\">\n",
       "    more than 331 million\n",
       "    <span style=\"font-size: 0.8em; font-weight: bold; line-height: 1; border-radius: 0.35em; vertical-align: middle; margin-left: 0.5rem\">CARDINAL</span>\n",
       "</mark>\n",
       " people, it is the \n",
       "<mark class=\"entity\" style=\"background: #e4e7d2; padding: 0.45em 0.6em; margin: 0 0.25em; line-height: 1; border-radius: 0.35em;\">\n",
       "    third\n",
       "    <span style=\"font-size: 0.8em; font-weight: bold; line-height: 1; border-radius: 0.35em; vertical-align: middle; margin-left: 0.5rem\">ORDINAL</span>\n",
       "</mark>\n",
       " most populous country in the world. The national capital is \n",
       "<mark class=\"entity\" style=\"background: #feca74; padding: 0.45em 0.6em; margin: 0 0.25em; line-height: 1; border-radius: 0.35em;\">\n",
       "    Washington\n",
       "    <span style=\"font-size: 0.8em; font-weight: bold; line-height: 1; border-radius: 0.35em; vertical-align: middle; margin-left: 0.5rem\">GPE</span>\n",
       "</mark>\n",
       ", \n",
       "<mark class=\"entity\" style=\"background: #feca74; padding: 0.45em 0.6em; margin: 0 0.25em; line-height: 1; border-radius: 0.35em;\">\n",
       "    D.C.\n",
       "    <span style=\"font-size: 0.8em; font-weight: bold; line-height: 1; border-radius: 0.35em; vertical-align: middle; margin-left: 0.5rem\">GPE</span>\n",
       "</mark>\n",
       ", and the most populous city is \n",
       "<mark class=\"entity\" style=\"background: #feca74; padding: 0.45em 0.6em; margin: 0 0.25em; line-height: 1; border-radius: 0.35em;\">\n",
       "    New York\n",
       "    <span style=\"font-size: 0.8em; font-weight: bold; line-height: 1; border-radius: 0.35em; vertical-align: middle; margin-left: 0.5rem\">GPE</span>\n",
       "</mark>\n",
       ".<br><br>\n",
       "<mark class=\"entity\" style=\"background: #c887fb; padding: 0.45em 0.6em; margin: 0 0.25em; line-height: 1; border-radius: 0.35em;\">\n",
       "    Paleo-Indians\n",
       "    <span style=\"font-size: 0.8em; font-weight: bold; line-height: 1; border-radius: 0.35em; vertical-align: middle; margin-left: 0.5rem\">NORP</span>\n",
       "</mark>\n",
       " migrated from \n",
       "<mark class=\"entity\" style=\"background: #ff9561; padding: 0.45em 0.6em; margin: 0 0.25em; line-height: 1; border-radius: 0.35em;\">\n",
       "    Siberia\n",
       "    <span style=\"font-size: 0.8em; font-weight: bold; line-height: 1; border-radius: 0.35em; vertical-align: middle; margin-left: 0.5rem\">LOC</span>\n",
       "</mark>\n",
       " to the \n",
       "<mark class=\"entity\" style=\"background: #c887fb; padding: 0.45em 0.6em; margin: 0 0.25em; line-height: 1; border-radius: 0.35em;\">\n",
       "    North American\n",
       "    <span style=\"font-size: 0.8em; font-weight: bold; line-height: 1; border-radius: 0.35em; vertical-align: middle; margin-left: 0.5rem\">NORP</span>\n",
       "</mark>\n",
       " mainland \n",
       "<mark class=\"entity\" style=\"background: #bfe1d9; padding: 0.45em 0.6em; margin: 0 0.25em; line-height: 1; border-radius: 0.35em;\">\n",
       "    at least 12,000 years ago\n",
       "    <span style=\"font-size: 0.8em; font-weight: bold; line-height: 1; border-radius: 0.35em; vertical-align: middle; margin-left: 0.5rem\">DATE</span>\n",
       "</mark>\n",
       ", and \n",
       "<mark class=\"entity\" style=\"background: #c887fb; padding: 0.45em 0.6em; margin: 0 0.25em; line-height: 1; border-radius: 0.35em;\">\n",
       "    European\n",
       "    <span style=\"font-size: 0.8em; font-weight: bold; line-height: 1; border-radius: 0.35em; vertical-align: middle; margin-left: 0.5rem\">NORP</span>\n",
       "</mark>\n",
       " colonization began in \n",
       "<mark class=\"entity\" style=\"background: #bfe1d9; padding: 0.45em 0.6em; margin: 0 0.25em; line-height: 1; border-radius: 0.35em;\">\n",
       "    the 16th century\n",
       "    <span style=\"font-size: 0.8em; font-weight: bold; line-height: 1; border-radius: 0.35em; vertical-align: middle; margin-left: 0.5rem\">DATE</span>\n",
       "</mark>\n",
       ". \n",
       "<mark class=\"entity\" style=\"background: #feca74; padding: 0.45em 0.6em; margin: 0 0.25em; line-height: 1; border-radius: 0.35em;\">\n",
       "    The United States\n",
       "    <span style=\"font-size: 0.8em; font-weight: bold; line-height: 1; border-radius: 0.35em; vertical-align: middle; margin-left: 0.5rem\">GPE</span>\n",
       "</mark>\n",
       " emerged from the \n",
       "<mark class=\"entity\" style=\"background: #e4e7d2; padding: 0.45em 0.6em; margin: 0 0.25em; line-height: 1; border-radius: 0.35em;\">\n",
       "    thirteen\n",
       "    <span style=\"font-size: 0.8em; font-weight: bold; line-height: 1; border-radius: 0.35em; vertical-align: middle; margin-left: 0.5rem\">CARDINAL</span>\n",
       "</mark>\n",
       " \n",
       "<mark class=\"entity\" style=\"background: #c887fb; padding: 0.45em 0.6em; margin: 0 0.25em; line-height: 1; border-radius: 0.35em;\">\n",
       "    British\n",
       "    <span style=\"font-size: 0.8em; font-weight: bold; line-height: 1; border-radius: 0.35em; vertical-align: middle; margin-left: 0.5rem\">NORP</span>\n",
       "</mark>\n",
       " colonies established along \n",
       "<mark class=\"entity\" style=\"background: #ff9561; padding: 0.45em 0.6em; margin: 0 0.25em; line-height: 1; border-radius: 0.35em;\">\n",
       "    the East Coast\n",
       "    <span style=\"font-size: 0.8em; font-weight: bold; line-height: 1; border-radius: 0.35em; vertical-align: middle; margin-left: 0.5rem\">LOC</span>\n",
       "</mark>\n",
       ". Disputes over taxation and political representation with \n",
       "<mark class=\"entity\" style=\"background: #feca74; padding: 0.45em 0.6em; margin: 0 0.25em; line-height: 1; border-radius: 0.35em;\">\n",
       "    Great Britain\n",
       "    <span style=\"font-size: 0.8em; font-weight: bold; line-height: 1; border-radius: 0.35em; vertical-align: middle; margin-left: 0.5rem\">GPE</span>\n",
       "</mark>\n",
       " led to \n",
       "<mark class=\"entity\" style=\"background: #7aecec; padding: 0.45em 0.6em; margin: 0 0.25em; line-height: 1; border-radius: 0.35em;\">\n",
       "    the American Revolutionary War\n",
       "    <span style=\"font-size: 0.8em; font-weight: bold; line-height: 1; border-radius: 0.35em; vertical-align: middle; margin-left: 0.5rem\">ORG</span>\n",
       "</mark>\n",
       " (1775â€“1783), which established independence. In \n",
       "<mark class=\"entity\" style=\"background: #bfe1d9; padding: 0.45em 0.6em; margin: 0 0.25em; line-height: 1; border-radius: 0.35em;\">\n",
       "    the late 18th century\n",
       "    <span style=\"font-size: 0.8em; font-weight: bold; line-height: 1; border-radius: 0.35em; vertical-align: middle; margin-left: 0.5rem\">DATE</span>\n",
       "</mark>\n",
       ", the \n",
       "<mark class=\"entity\" style=\"background: #feca74; padding: 0.45em 0.6em; margin: 0 0.25em; line-height: 1; border-radius: 0.35em;\">\n",
       "    U.S.\n",
       "    <span style=\"font-size: 0.8em; font-weight: bold; line-height: 1; border-radius: 0.35em; vertical-align: middle; margin-left: 0.5rem\">GPE</span>\n",
       "</mark>\n",
       " began expanding across \n",
       "<mark class=\"entity\" style=\"background: #ff9561; padding: 0.45em 0.6em; margin: 0 0.25em; line-height: 1; border-radius: 0.35em;\">\n",
       "    North America\n",
       "    <span style=\"font-size: 0.8em; font-weight: bold; line-height: 1; border-radius: 0.35em; vertical-align: middle; margin-left: 0.5rem\">LOC</span>\n",
       "</mark>\n",
       ", gradually obtaining new territories, sometimes through war, frequently displacing \n",
       "<mark class=\"entity\" style=\"background: #c887fb; padding: 0.45em 0.6em; margin: 0 0.25em; line-height: 1; border-radius: 0.35em;\">\n",
       "    Native Americans\n",
       "    <span style=\"font-size: 0.8em; font-weight: bold; line-height: 1; border-radius: 0.35em; vertical-align: middle; margin-left: 0.5rem\">NORP</span>\n",
       "</mark>\n",
       ", and admitting new states; by \n",
       "<mark class=\"entity\" style=\"background: #bfe1d9; padding: 0.45em 0.6em; margin: 0 0.25em; line-height: 1; border-radius: 0.35em;\">\n",
       "    1848\n",
       "    <span style=\"font-size: 0.8em; font-weight: bold; line-height: 1; border-radius: 0.35em; vertical-align: middle; margin-left: 0.5rem\">DATE</span>\n",
       "</mark>\n",
       ", \n",
       "<mark class=\"entity\" style=\"background: #feca74; padding: 0.45em 0.6em; margin: 0 0.25em; line-height: 1; border-radius: 0.35em;\">\n",
       "    the United States\n",
       "    <span style=\"font-size: 0.8em; font-weight: bold; line-height: 1; border-radius: 0.35em; vertical-align: middle; margin-left: 0.5rem\">GPE</span>\n",
       "</mark>\n",
       " spanned the continent. Slavery was legal in the southern \n",
       "<mark class=\"entity\" style=\"background: #feca74; padding: 0.45em 0.6em; margin: 0 0.25em; line-height: 1; border-radius: 0.35em;\">\n",
       "    United States\n",
       "    <span style=\"font-size: 0.8em; font-weight: bold; line-height: 1; border-radius: 0.35em; vertical-align: middle; margin-left: 0.5rem\">GPE</span>\n",
       "</mark>\n",
       " until \n",
       "<mark class=\"entity\" style=\"background: #bfe1d9; padding: 0.45em 0.6em; margin: 0 0.25em; line-height: 1; border-radius: 0.35em;\">\n",
       "    the second half of the 19th century\n",
       "    <span style=\"font-size: 0.8em; font-weight: bold; line-height: 1; border-radius: 0.35em; vertical-align: middle; margin-left: 0.5rem\">DATE</span>\n",
       "</mark>\n",
       " when \n",
       "<mark class=\"entity\" style=\"background: #7aecec; padding: 0.45em 0.6em; margin: 0 0.25em; line-height: 1; border-radius: 0.35em;\">\n",
       "    the American Civil War\n",
       "    <span style=\"font-size: 0.8em; font-weight: bold; line-height: 1; border-radius: 0.35em; vertical-align: middle; margin-left: 0.5rem\">ORG</span>\n",
       "</mark>\n",
       " led to its abolition. \n",
       "<mark class=\"entity\" style=\"background: #ffeb80; padding: 0.45em 0.6em; margin: 0 0.25em; line-height: 1; border-radius: 0.35em;\">\n",
       "    The Spanishâ€“American War and World War\n",
       "    <span style=\"font-size: 0.8em; font-weight: bold; line-height: 1; border-radius: 0.35em; vertical-align: middle; margin-left: 0.5rem\">EVENT</span>\n",
       "</mark>\n",
       " I established the \n",
       "<mark class=\"entity\" style=\"background: #feca74; padding: 0.45em 0.6em; margin: 0 0.25em; line-height: 1; border-radius: 0.35em;\">\n",
       "    U.S.\n",
       "    <span style=\"font-size: 0.8em; font-weight: bold; line-height: 1; border-radius: 0.35em; vertical-align: middle; margin-left: 0.5rem\">GPE</span>\n",
       "</mark>\n",
       " as a world power, a status confirmed by the outcome of \n",
       "<mark class=\"entity\" style=\"background: #ffeb80; padding: 0.45em 0.6em; margin: 0 0.25em; line-height: 1; border-radius: 0.35em;\">\n",
       "    World War II\n",
       "    <span style=\"font-size: 0.8em; font-weight: bold; line-height: 1; border-radius: 0.35em; vertical-align: middle; margin-left: 0.5rem\">EVENT</span>\n",
       "</mark>\n",
       ".<br><br>During \n",
       "<mark class=\"entity\" style=\"background: #ffeb80; padding: 0.45em 0.6em; margin: 0 0.25em; line-height: 1; border-radius: 0.35em;\">\n",
       "    the Cold War\n",
       "    <span style=\"font-size: 0.8em; font-weight: bold; line-height: 1; border-radius: 0.35em; vertical-align: middle; margin-left: 0.5rem\">EVENT</span>\n",
       "</mark>\n",
       ", \n",
       "<mark class=\"entity\" style=\"background: #feca74; padding: 0.45em 0.6em; margin: 0 0.25em; line-height: 1; border-radius: 0.35em;\">\n",
       "    the United States\n",
       "    <span style=\"font-size: 0.8em; font-weight: bold; line-height: 1; border-radius: 0.35em; vertical-align: middle; margin-left: 0.5rem\">GPE</span>\n",
       "</mark>\n",
       " fought \n",
       "<mark class=\"entity\" style=\"background: #ffeb80; padding: 0.45em 0.6em; margin: 0 0.25em; line-height: 1; border-radius: 0.35em;\">\n",
       "    the Korean War\n",
       "    <span style=\"font-size: 0.8em; font-weight: bold; line-height: 1; border-radius: 0.35em; vertical-align: middle; margin-left: 0.5rem\">EVENT</span>\n",
       "</mark>\n",
       " and \n",
       "<mark class=\"entity\" style=\"background: #ffeb80; padding: 0.45em 0.6em; margin: 0 0.25em; line-height: 1; border-radius: 0.35em;\">\n",
       "    the Vietnam War\n",
       "    <span style=\"font-size: 0.8em; font-weight: bold; line-height: 1; border-radius: 0.35em; vertical-align: middle; margin-left: 0.5rem\">EVENT</span>\n",
       "</mark>\n",
       " but avoided direct military conflict with \n",
       "<mark class=\"entity\" style=\"background: #feca74; padding: 0.45em 0.6em; margin: 0 0.25em; line-height: 1; border-radius: 0.35em;\">\n",
       "    the Soviet Union\n",
       "    <span style=\"font-size: 0.8em; font-weight: bold; line-height: 1; border-radius: 0.35em; vertical-align: middle; margin-left: 0.5rem\">GPE</span>\n",
       "</mark>\n",
       ". The \n",
       "<mark class=\"entity\" style=\"background: #e4e7d2; padding: 0.45em 0.6em; margin: 0 0.25em; line-height: 1; border-radius: 0.35em;\">\n",
       "    two\n",
       "    <span style=\"font-size: 0.8em; font-weight: bold; line-height: 1; border-radius: 0.35em; vertical-align: middle; margin-left: 0.5rem\">CARDINAL</span>\n",
       "</mark>\n",
       " superpowers competed in \n",
       "<mark class=\"entity\" style=\"background: #9cc9cc; padding: 0.45em 0.6em; margin: 0 0.25em; line-height: 1; border-radius: 0.35em;\">\n",
       "    the Space Race\n",
       "    <span style=\"font-size: 0.8em; font-weight: bold; line-height: 1; border-radius: 0.35em; vertical-align: middle; margin-left: 0.5rem\">FAC</span>\n",
       "</mark>\n",
       ", culminating in the \n",
       "<mark class=\"entity\" style=\"background: #bfe1d9; padding: 0.45em 0.6em; margin: 0 0.25em; line-height: 1; border-radius: 0.35em;\">\n",
       "    1969\n",
       "    <span style=\"font-size: 0.8em; font-weight: bold; line-height: 1; border-radius: 0.35em; vertical-align: middle; margin-left: 0.5rem\">DATE</span>\n",
       "</mark>\n",
       " spaceflight that \n",
       "<mark class=\"entity\" style=\"background: #e4e7d2; padding: 0.45em 0.6em; margin: 0 0.25em; line-height: 1; border-radius: 0.35em;\">\n",
       "    first\n",
       "    <span style=\"font-size: 0.8em; font-weight: bold; line-height: 1; border-radius: 0.35em; vertical-align: middle; margin-left: 0.5rem\">ORDINAL</span>\n",
       "</mark>\n",
       " landed humans on the Moon. \n",
       "<mark class=\"entity\" style=\"background: #feca74; padding: 0.45em 0.6em; margin: 0 0.25em; line-height: 1; border-radius: 0.35em;\">\n",
       "    The Soviet Union's\n",
       "    <span style=\"font-size: 0.8em; font-weight: bold; line-height: 1; border-radius: 0.35em; vertical-align: middle; margin-left: 0.5rem\">GPE</span>\n",
       "</mark>\n",
       " dissolution in \n",
       "<mark class=\"entity\" style=\"background: #bfe1d9; padding: 0.45em 0.6em; margin: 0 0.25em; line-height: 1; border-radius: 0.35em;\">\n",
       "    1991\n",
       "    <span style=\"font-size: 0.8em; font-weight: bold; line-height: 1; border-radius: 0.35em; vertical-align: middle; margin-left: 0.5rem\">DATE</span>\n",
       "</mark>\n",
       " ended \n",
       "<mark class=\"entity\" style=\"background: #ffeb80; padding: 0.45em 0.6em; margin: 0 0.25em; line-height: 1; border-radius: 0.35em;\">\n",
       "    the Cold War\n",
       "    <span style=\"font-size: 0.8em; font-weight: bold; line-height: 1; border-radius: 0.35em; vertical-align: middle; margin-left: 0.5rem\">EVENT</span>\n",
       "</mark>\n",
       ", leaving \n",
       "<mark class=\"entity\" style=\"background: #feca74; padding: 0.45em 0.6em; margin: 0 0.25em; line-height: 1; border-radius: 0.35em;\">\n",
       "    the United States\n",
       "    <span style=\"font-size: 0.8em; font-weight: bold; line-height: 1; border-radius: 0.35em; vertical-align: middle; margin-left: 0.5rem\">GPE</span>\n",
       "</mark>\n",
       " as the world's sole superpower.<br><br>\n",
       "<mark class=\"entity\" style=\"background: #feca74; padding: 0.45em 0.6em; margin: 0 0.25em; line-height: 1; border-radius: 0.35em;\">\n",
       "    The United States\n",
       "    <span style=\"font-size: 0.8em; font-weight: bold; line-height: 1; border-radius: 0.35em; vertical-align: middle; margin-left: 0.5rem\">GPE</span>\n",
       "</mark>\n",
       " is a federal republic and a representative democracy with \n",
       "<mark class=\"entity\" style=\"background: #e4e7d2; padding: 0.45em 0.6em; margin: 0 0.25em; line-height: 1; border-radius: 0.35em;\">\n",
       "    three\n",
       "    <span style=\"font-size: 0.8em; font-weight: bold; line-height: 1; border-radius: 0.35em; vertical-align: middle; margin-left: 0.5rem\">CARDINAL</span>\n",
       "</mark>\n",
       " separate branches of government, including a bicameral legislature. It is a founding member of \n",
       "<mark class=\"entity\" style=\"background: #7aecec; padding: 0.45em 0.6em; margin: 0 0.25em; line-height: 1; border-radius: 0.35em;\">\n",
       "    the United Nations\n",
       "    <span style=\"font-size: 0.8em; font-weight: bold; line-height: 1; border-radius: 0.35em; vertical-align: middle; margin-left: 0.5rem\">ORG</span>\n",
       "</mark>\n",
       ", \n",
       "<mark class=\"entity\" style=\"background: #7aecec; padding: 0.45em 0.6em; margin: 0 0.25em; line-height: 1; border-radius: 0.35em;\">\n",
       "    World Bank\n",
       "    <span style=\"font-size: 0.8em; font-weight: bold; line-height: 1; border-radius: 0.35em; vertical-align: middle; margin-left: 0.5rem\">ORG</span>\n",
       "</mark>\n",
       ", \n",
       "<mark class=\"entity\" style=\"background: #7aecec; padding: 0.45em 0.6em; margin: 0 0.25em; line-height: 1; border-radius: 0.35em;\">\n",
       "    International Monetary Fund\n",
       "    <span style=\"font-size: 0.8em; font-weight: bold; line-height: 1; border-radius: 0.35em; vertical-align: middle; margin-left: 0.5rem\">ORG</span>\n",
       "</mark>\n",
       ", \n",
       "<mark class=\"entity\" style=\"background: #7aecec; padding: 0.45em 0.6em; margin: 0 0.25em; line-height: 1; border-radius: 0.35em;\">\n",
       "    Organization of American States\n",
       "    <span style=\"font-size: 0.8em; font-weight: bold; line-height: 1; border-radius: 0.35em; vertical-align: middle; margin-left: 0.5rem\">ORG</span>\n",
       "</mark>\n",
       ", \n",
       "<mark class=\"entity\" style=\"background: #7aecec; padding: 0.45em 0.6em; margin: 0 0.25em; line-height: 1; border-radius: 0.35em;\">\n",
       "    NATO\n",
       "    <span style=\"font-size: 0.8em; font-weight: bold; line-height: 1; border-radius: 0.35em; vertical-align: middle; margin-left: 0.5rem\">ORG</span>\n",
       "</mark>\n",
       ", and other international organizations. It is a permanent member of \n",
       "<mark class=\"entity\" style=\"background: #7aecec; padding: 0.45em 0.6em; margin: 0 0.25em; line-height: 1; border-radius: 0.35em;\">\n",
       "    the United Nations Security Council\n",
       "    <span style=\"font-size: 0.8em; font-weight: bold; line-height: 1; border-radius: 0.35em; vertical-align: middle; margin-left: 0.5rem\">ORG</span>\n",
       "</mark>\n",
       ". Considered a melting pot of cultures and ethnicities, its population has been profoundly shaped by \n",
       "<mark class=\"entity\" style=\"background: #bfe1d9; padding: 0.45em 0.6em; margin: 0 0.25em; line-height: 1; border-radius: 0.35em;\">\n",
       "    centuries\n",
       "    <span style=\"font-size: 0.8em; font-weight: bold; line-height: 1; border-radius: 0.35em; vertical-align: middle; margin-left: 0.5rem\">DATE</span>\n",
       "</mark>\n",
       " of immigration. The country ranks high in international measures of economic freedom, quality of life, education, and human rights, and has low levels of perceived corruption. However, the country has received criticism concerning inequality related to race, wealth and income, the use of capital punishment, high incarceration rates, and lack of universal health care.<br><br>\n",
       "<mark class=\"entity\" style=\"background: #feca74; padding: 0.45em 0.6em; margin: 0 0.25em; line-height: 1; border-radius: 0.35em;\">\n",
       "    The United States\n",
       "    <span style=\"font-size: 0.8em; font-weight: bold; line-height: 1; border-radius: 0.35em; vertical-align: middle; margin-left: 0.5rem\">GPE</span>\n",
       "</mark>\n",
       " is a highly developed country, accounts for \n",
       "<mark class=\"entity\" style=\"background: #bfe1d9; padding: 0.45em 0.6em; margin: 0 0.25em; line-height: 1; border-radius: 0.35em;\">\n",
       "    approximately a quarter\n",
       "    <span style=\"font-size: 0.8em; font-weight: bold; line-height: 1; border-radius: 0.35em; vertical-align: middle; margin-left: 0.5rem\">DATE</span>\n",
       "</mark>\n",
       " of global GDP, and is the world's largest economy. By value, \n",
       "<mark class=\"entity\" style=\"background: #feca74; padding: 0.45em 0.6em; margin: 0 0.25em; line-height: 1; border-radius: 0.35em;\">\n",
       "    the United States\n",
       "    <span style=\"font-size: 0.8em; font-weight: bold; line-height: 1; border-radius: 0.35em; vertical-align: middle; margin-left: 0.5rem\">GPE</span>\n",
       "</mark>\n",
       " is the world's largest importer and the \n",
       "<mark class=\"entity\" style=\"background: #e4e7d2; padding: 0.45em 0.6em; margin: 0 0.25em; line-height: 1; border-radius: 0.35em;\">\n",
       "    second\n",
       "    <span style=\"font-size: 0.8em; font-weight: bold; line-height: 1; border-radius: 0.35em; vertical-align: middle; margin-left: 0.5rem\">ORDINAL</span>\n",
       "</mark>\n",
       "-largest exporter of goods. Although its population is \n",
       "<mark class=\"entity\" style=\"background: #e4e7d2; padding: 0.45em 0.6em; margin: 0 0.25em; line-height: 1; border-radius: 0.35em;\">\n",
       "    only 4.2%\n",
       "    <span style=\"font-size: 0.8em; font-weight: bold; line-height: 1; border-radius: 0.35em; vertical-align: middle; margin-left: 0.5rem\">PERCENT</span>\n",
       "</mark>\n",
       " of the world's total, it holds \n",
       "<mark class=\"entity\" style=\"background: #e4e7d2; padding: 0.45em 0.6em; margin: 0 0.25em; line-height: 1; border-radius: 0.35em;\">\n",
       "    29.4%\n",
       "    <span style=\"font-size: 0.8em; font-weight: bold; line-height: 1; border-radius: 0.35em; vertical-align: middle; margin-left: 0.5rem\">PERCENT</span>\n",
       "</mark>\n",
       " of the total wealth in the world, the largest share held by any country. Making up \n",
       "<mark class=\"entity\" style=\"background: #e4e7d2; padding: 0.45em 0.6em; margin: 0 0.25em; line-height: 1; border-radius: 0.35em;\">\n",
       "    more than a third\n",
       "    <span style=\"font-size: 0.8em; font-weight: bold; line-height: 1; border-radius: 0.35em; vertical-align: middle; margin-left: 0.5rem\">CARDINAL</span>\n",
       "</mark>\n",
       " of global military spending, it is the foremost military power in the world; and it is a leading political, cultural, and scientific force internationally.[23]</div></span>"
      ],
      "text/plain": [
       "<IPython.core.display.HTML object>"
      ]
     },
     "metadata": {},
     "output_type": "display_data"
    }
   ],
   "source": [
    "# Visualize Entities doc model (from data imported)\n",
    "displacy.render(doc, style='ent')"
   ]
  },
  {
   "cell_type": "markdown",
   "id": "3d77f99e-54a4-449a-882e-e05e8b5afc54",
   "metadata": {},
   "source": [
    "# Word Vectors and spaCy\n",
    "\n",
    "> Word vectors (or word embeddings) are numerical representations of words in multidimensional space through matrices.\n",
    "\n",
    "The word similarity:\n",
    "> The word similar means that the word that occurs frequently alongside of it. Sometimes it can be synonym or sometimes is not."
   ]
  },
  {
   "cell_type": "code",
   "execution_count": 133,
   "id": "4d584744-ef02-45b1-abd0-424d690fb7a8",
   "metadata": {},
   "outputs": [],
   "source": [
    "nlp = spacy.load(\"en_core_web_md\")\n",
    "# Find location model on local:\n",
    "# nlp._path"
   ]
  },
  {
   "cell_type": "code",
   "execution_count": 134,
   "id": "2947d901-f734-4779-b818-c1af05525049",
   "metadata": {},
   "outputs": [],
   "source": [
    "with open(\"data_spacy/wiki_us.txt\", \"r\") as f:\n",
    "    text = f.read()"
   ]
  },
  {
   "cell_type": "code",
   "execution_count": 135,
   "id": "4d83c78d-a6f7-4838-adc4-21d7ad593833",
   "metadata": {},
   "outputs": [
    {
     "name": "stdout",
     "output_type": "stream",
     "text": [
      "The United States of America (U.S.A. or USA), commonly known as the United States (U.S. or US) or America, is a country primarily located in North America.\n"
     ]
    }
   ],
   "source": [
    "doc = nlp(text)\n",
    "sentence1 = list(doc.sents)[0]\n",
    "print(sentence1)"
   ]
  },
  {
   "cell_type": "code",
   "execution_count": 136,
   "id": "ac95ad85-cf9a-4437-9cd7-1cee9914a331",
   "metadata": {},
   "outputs": [
    {
     "name": "stdout",
     "output_type": "stream",
     "text": [
      "['country—0,467', 'nationâ\\x80\\x99s', 'countries-', 'continente', 'Carnations', 'pastille', 'бесплатно', 'Argents', 'Tywysogion', 'Teeters']\n"
     ]
    }
   ],
   "source": [
    "# Example 1 (find the top n similar word from trained word in model)\n",
    "your_word = \"country\"\n",
    "\n",
    "ms = nlp.vocab.vectors.most_similar(\n",
    "    np.asarray([nlp.vocab.vectors[nlp.vocab.strings[your_word]]]),\n",
    "    n=10\n",
    ")\n",
    "words = [nlp.vocab.strings[w] for w in ms[0][0]]\n",
    "print(words)"
   ]
  },
  {
   "cell_type": "code",
   "execution_count": 137,
   "id": "2a227367-4676-45be-853c-fd26db6d7a25",
   "metadata": {},
   "outputs": [
    {
     "name": "stdout",
     "output_type": "stream",
     "text": [
      "I like salty fries and hamburgers. <-> Fast food tastes very good. 0.691649353055761\n"
     ]
    }
   ],
   "source": [
    "# Example 2\n",
    "doc1 = nlp(\"I like salty fries and hamburgers.\")\n",
    "doc2 = nlp(\"Fast food tastes very good.\")\n",
    "print(doc1, \"<->\", doc2, doc1.similarity(doc2))"
   ]
  },
  {
   "cell_type": "code",
   "execution_count": 138,
   "id": "d608f3d6-3756-4a1a-b0ae-4a2a65a74f85",
   "metadata": {},
   "outputs": [
    {
     "name": "stdout",
     "output_type": "stream",
     "text": [
      "I like salty fries and hamburgers. <-> The Empire State Building is in New York. 0.1766669125394067\n"
     ]
    }
   ],
   "source": [
    "# Example 3\n",
    "doc3 = nlp(\"The Empire State Building is in New York.\")\n",
    "print(doc1, \"<->\", doc3, doc1.similarity(doc3))"
   ]
  },
  {
   "cell_type": "code",
   "execution_count": 139,
   "id": "5d980cc7-9237-419f-9431-62279e60bcfd",
   "metadata": {},
   "outputs": [
    {
     "name": "stdout",
     "output_type": "stream",
     "text": [
      "I enjoy oranges. <-> I enjoy apples. 0.9775700747747101\n"
     ]
    }
   ],
   "source": [
    "# Example 4\n",
    "doc4 = nlp(\"I enjoy oranges.\")\n",
    "doc5 = nlp(\"I enjoy apples.\")\n",
    "print(doc4, \"<->\", doc5, doc4.similarity(doc5))"
   ]
  },
  {
   "cell_type": "code",
   "execution_count": 140,
   "id": "aa206711-a1e4-4f04-bd0e-ac7e528823b5",
   "metadata": {},
   "outputs": [
    {
     "name": "stdout",
     "output_type": "stream",
     "text": [
      "I enjoy oranges. <-> I enjoy burgers. 0.9628306076251026\n"
     ]
    }
   ],
   "source": [
    "# Example 6\n",
    "doc6 = nlp(\"I enjoy burgers.\")\n",
    "print(doc4, \"<->\", doc6, doc4.similarity(doc6))"
   ]
  },
  {
   "cell_type": "code",
   "execution_count": 141,
   "id": "edfc620a-efd6-458b-a6c3-656de7679b3b",
   "metadata": {},
   "outputs": [
    {
     "name": "stdout",
     "output_type": "stream",
     "text": [
      "salty fries <-> hamburgers 0.6938489079475403\n"
     ]
    }
   ],
   "source": [
    "# Example 7\n",
    "french_fries = doc1[2:4]\n",
    "burgers = doc1[5]\n",
    "print(french_fries, \"<->\", burgers, french_fries.similarity(burgers))"
   ]
  },
  {
   "cell_type": "markdown",
   "id": "48c8d7d7-4955-4a32-a8ca-0a089aed526f",
   "metadata": {},
   "source": [
    "# Standard Pipeline (Getting Started)\n",
    "\n",
    "There are two ways to adding custom features to Spacy language model:\n",
    "1. Rules-based approach\n",
    "2. Machine learning-based approach"
   ]
  },
  {
   "cell_type": "markdown",
   "id": "f29cf0e3-6262-4ccd-aaae-a0e10238acce",
   "metadata": {},
   "source": [
    "**Attribute Rulers:**\n",
    "- Dependency Parser\n",
    "- EntityLinker\n",
    "- EntityRecognizer\n",
    "- EntityRuler\n",
    "- Lemmatizer\n",
    "- Morpholog\n",
    "- SentenceRecognizer\n",
    "- Sentencizer\n",
    "> It is Sentence Tokenization. The sentence-level tokenization based on language rules.\n",
    "- SpanCategorizer\n",
    "- Tagger\n",
    "- TextCategorizer\n",
    "- Tok2Vec\n",
    "- Tokenizer\n",
    "- TrainablePipe\n",
    "- Transformer\n",
    "\n",
    "**Matcher:**\n",
    "- DependencyMatcher\n",
    "- Matcher\n",
    "- PhraseMatcher\n",
    "\n",
    "NOTE: It may new Attribute or Matcher is being added."
   ]
  },
  {
   "cell_type": "code",
   "execution_count": 157,
   "id": "7ed211e6-3b94-41df-8a10-200f26c73c94",
   "metadata": {},
   "outputs": [
    {
     "name": "stdout",
     "output_type": "stream",
     "text": [
      "<class 'spacy.lang.en.English'>\n",
      "Blank Pipeline:\n",
      " {'summary': {}, 'problems': {}, 'attrs': {}}\n",
      "\n",
      "After Adding Pipeline: \n",
      " {'summary': {'sentencizer': {'assigns': ['token.is_sent_start', 'doc.sents'], 'requires': [], 'scores': ['sents_f', 'sents_p', 'sents_r'], 'retokenizes': False}}, 'problems': {'sentencizer': []}, 'attrs': {'doc.sents': {'assigns': ['sentencizer'], 'requires': []}, 'token.is_sent_start': {'assigns': ['sentencizer'], 'requires': []}}}\n"
     ]
    }
   ],
   "source": [
    "# Demonstrate how to add pipes\n",
    "\n",
    "nlp = spacy.blank(\"en\") # Create nlp blank model\n",
    "print(type(nlp))\n",
    "print(\"Blank Pipeline:\\n\", nlp.analyze_pipes())\n",
    "\n",
    "# Add new Pipeline\n",
    "nlp.add_pipe(\"sentencizer\")\n",
    "\n",
    "# Add new Pipeline (Using class construction)\n",
    "# from spacy.pipeline import Sentencizer\n",
    "# sentencizer = Sentencizer()\n",
    "# nlp.add_pipe(sentencizer)\n",
    "\n",
    "\n",
    "print(\"\\nAfter Adding Pipeline: \\n\", nlp.analyze_pipes())"
   ]
  },
  {
   "cell_type": "code",
   "execution_count": 153,
   "id": "680a8d3f-9c74-4639-b009-26681d16f1f0",
   "metadata": {},
   "outputs": [
    {
     "name": "stdout",
     "output_type": "stream",
     "text": [
      "True\n",
      "1. This is a sentence.\n",
      "2. This is another sentence.\n"
     ]
    }
   ],
   "source": [
    "# Try Sentencizer Pipeline\n",
    "# NOTE: This example must tokenize sentences into two sentence (token).\n",
    "\n",
    "doc = nlp(\"This is a sentence. This is another sentence.\")\n",
    "\n",
    "if len(list(doc.sents)) == 2:\n",
    "    print(True)\n",
    "\n",
    "for i, token in enumerate(list(doc.sents)):\n",
    "    print(f\"{i + 1}. {token}\")"
   ]
  },
  {
   "cell_type": "code",
   "execution_count": null,
   "id": "9965c845-e1ad-47e5-98c2-9309db4cd66b",
   "metadata": {},
   "outputs": [],
   "source": [
    "# Using SpaCy's EntityRuler\n",
    "\n"
   ]
  }
 ],
 "metadata": {
  "kernelspec": {
   "display_name": "Python 3 (ipykernel)",
   "language": "python",
   "name": "python3"
  },
  "language_info": {
   "codemirror_mode": {
    "name": "ipython",
    "version": 3
   },
   "file_extension": ".py",
   "mimetype": "text/x-python",
   "name": "python",
   "nbconvert_exporter": "python",
   "pygments_lexer": "ipython3",
   "version": "3.11.7"
  }
 },
 "nbformat": 4,
 "nbformat_minor": 5
}
